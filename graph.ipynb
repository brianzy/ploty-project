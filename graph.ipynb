{
 "cells": [
  {
   "cell_type": "code",
   "execution_count": 1,
   "metadata": {
    "tags": []
   },
   "outputs": [],
   "source": [
    "import pandas as pd\n",
    "import plotly.express as px\n",
    "import chart_studio.plotly as py\n",
    "import plotly.graph_objects as go\n",
    "from plotly.subplots import make_subplots\n"
   ]
  },
  {
   "cell_type": "code",
   "execution_count": 2,
   "metadata": {
    "tags": []
   },
   "outputs": [],
   "source": [
    "import chart_studio\n",
    "username = 'zybrian' # your username\n",
    "api_key = 'X8A90k8Ev8kNzTppv3Dt' # your api key - go to profile > settings > regenerate key\n",
    "chart_studio.tools.set_credentials_file(username=username, api_key=api_key)\n"
   ]
  },
  {
   "cell_type": "code",
   "execution_count": 275,
   "metadata": {
    "tags": []
   },
   "outputs": [
    {
     "output_type": "execute_result",
     "data": {
      "text/plain": "{'Presentations':    Presentations  weight              x  \\\n 0            0.0       1  Presentations   \n 1            0.3       2  Presentations   \n 2            0.5       2  Presentations   \n 3            0.8       1  Presentations   \n 4            1.0       3  Presentations   \n 5            1.5       3  Presentations   \n 6            2.0       4  Presentations   \n 7            2.5       3  Presentations   \n 8            3.0       2  Presentations   \n 9            3.5       1  Presentations   \n \n                                                hover  \n 0  Stress:Presentations<br>Stress level:0.0<br>We...  \n 1  Stress:Presentations<br>Stress level:0.3<br>We...  \n 2  Stress:Presentations<br>Stress level:0.5<br>We...  \n 3  Stress:Presentations<br>Stress level:0.8<br>We...  \n 4  Stress:Presentations<br>Stress level:1.0<br>We...  \n 5  Stress:Presentations<br>Stress level:1.5<br>We...  \n 6  Stress:Presentations<br>Stress level:2.0<br>We...  \n 7  Stress:Presentations<br>Stress level:2.5<br>We...  \n 8  Stress:Presentations<br>Stress level:3.0<br>We...  \n 9  Stress:Presentations<br>Stress level:3.5<br>We...  ,\n 'Homework':     Homework  weight         x  \\\n 0        0.5       3  Homework   \n 1        0.8       1  Homework   \n 2        1.0       5  Homework   \n 3        1.2       3  Homework   \n 4        1.5       2  Homework   \n 5        1.7       2  Homework   \n 6        2.0       4  Homework   \n 7        2.2       3  Homework   \n 8        2.5       1  Homework   \n 9        2.8       1  Homework   \n 10       4.0       1  Homework   \n \n                                               hover  \n 0   Stress:Homework<br>Stress level:0.5<br>Weight:3  \n 1   Stress:Homework<br>Stress level:0.8<br>Weight:1  \n 2   Stress:Homework<br>Stress level:1.0<br>Weight:5  \n 3   Stress:Homework<br>Stress level:1.2<br>Weight:3  \n 4   Stress:Homework<br>Stress level:1.5<br>Weight:2  \n 5   Stress:Homework<br>Stress level:1.7<br>Weight:2  \n 6   Stress:Homework<br>Stress level:2.0<br>Weight:4  \n 7   Stress:Homework<br>Stress level:2.2<br>Weight:3  \n 8   Stress:Homework<br>Stress level:2.5<br>Weight:1  \n 9   Stress:Homework<br>Stress level:2.8<br>Weight:1  \n 10  Stress:Homework<br>Stress level:4.0<br>Weight:1  ,\n 'Projects':    Projects  weight         x                                            hover\n 0       0.2       1  Projects  Stress:Projects<br>Stress level:0.2<br>Weight:1\n 1       0.8       2  Projects  Stress:Projects<br>Stress level:0.8<br>Weight:2\n 2       1.0       5  Projects  Stress:Projects<br>Stress level:1.0<br>Weight:5\n 3       1.5       4  Projects  Stress:Projects<br>Stress level:1.5<br>Weight:4\n 4       1.7       2  Projects  Stress:Projects<br>Stress level:1.7<br>Weight:2\n 5       2.0       3  Projects  Stress:Projects<br>Stress level:2.0<br>Weight:3\n 6       2.5       1  Projects  Stress:Projects<br>Stress level:2.5<br>Weight:1\n 7       3.0       5  Projects  Stress:Projects<br>Stress level:3.0<br>Weight:5\n 8       3.7       2  Projects  Stress:Projects<br>Stress level:3.7<br>Weight:2\n 9       4.0       1  Projects  Stress:Projects<br>Stress level:4.0<br>Weight:1,\n 'Quizes':    Quizes  weight       x                                          hover\n 0     0.5       2  Quizes  Stress:Quizes<br>Stress level:0.5<br>Weight:2\n 1     1.0       7  Quizes  Stress:Quizes<br>Stress level:1.0<br>Weight:7\n 2     1.5       3  Quizes  Stress:Quizes<br>Stress level:1.5<br>Weight:3\n 3     1.8       2  Quizes  Stress:Quizes<br>Stress level:1.8<br>Weight:2\n 4     2.0       5  Quizes  Stress:Quizes<br>Stress level:2.0<br>Weight:5\n 5     2.2       1  Quizes  Stress:Quizes<br>Stress level:2.2<br>Weight:1\n 6     2.5       4  Quizes  Stress:Quizes<br>Stress level:2.5<br>Weight:4\n 7     3.0       2  Quizes  Stress:Quizes<br>Stress level:3.0<br>Weight:2,\n 'Midterm/Finals':    Midterm/Finals  weight               x  \\\n 0             0.5       1  Midterm/Finals   \n 1             1.5       1  Midterm/Finals   \n 2             2.5       3  Midterm/Finals   \n 3             2.8       1  Midterm/Finals   \n 4             3.0       9  Midterm/Finals   \n 5             3.5       2  Midterm/Finals   \n 6             3.8       2  Midterm/Finals   \n 7             4.0       7  Midterm/Finals   \n \n                                                hover  \n 0  Stress:Midterm/Finals<br>Stress level:0.5<br>W...  \n 1  Stress:Midterm/Finals<br>Stress level:1.5<br>W...  \n 2  Stress:Midterm/Finals<br>Stress level:2.5<br>W...  \n 3  Stress:Midterm/Finals<br>Stress level:2.8<br>W...  \n 4  Stress:Midterm/Finals<br>Stress level:3.0<br>W...  \n 5  Stress:Midterm/Finals<br>Stress level:3.5<br>W...  \n 6  Stress:Midterm/Finals<br>Stress level:3.8<br>W...  \n 7  Stress:Midterm/Finals<br>Stress level:4.0<br>W...  }"
     },
     "metadata": {},
     "execution_count": 275
    }
   ],
   "source": [
    "# df = pd.read_csv('./data/data.csv')\n",
    "# #df=df.fillna(0)\n",
    "# stress = ['Presentations','Homework','Projects','Quizes','Midterm/Finals']\n",
    "# #print(df.iloc[:,(df.columns.get_loc('Homework')+1)].dropna())\n",
    "# stress_final = {item: pd.concat([df[[item]].dropna(),df.iloc[:,(df.columns.get_loc(item)+1)].dropna()], axis=1) for item in stress}\n",
    "\n",
    "# for stress,data in stress_final.items():\n",
    "#     hover_text=[]\n",
    "#     data.columns=[stress,'weight']\n",
    "#     data['weight'] = data['weight'].astype(int)\n",
    "#     data['x']=stress\n",
    "#     for index, row in data.iterrows():\n",
    "#         hover_text.append(('Stress:{stress}<br>'+\n",
    "#         'Stress level:{level}<br>'+\n",
    "#         'Weight:{weight}').format(stress=stress,\n",
    "#         level=row[stress],\n",
    "#         weight=row['weight']))\n",
    "#     data['hover']=hover_text\n",
    "\n",
    "\n",
    "\n",
    "# stress_final"
   ]
  },
  {
   "cell_type": "code",
   "execution_count": 3,
   "metadata": {
    "tags": []
   },
   "outputs": [
    {
     "output_type": "stream",
     "name": "stdout",
     "text": "Classmates*\n"
    }
   ],
   "source": [
    "df = pd.read_csv('./data/data2.csv')\n",
    "df = df.fillna(0)\n",
    "all_append=df.groupby(['x','Level'])['weight'].sum().reset_index()\n",
    "all_append['persona']='all'\n",
    "#print(all_append)\n",
    "df=df.append(all_append)\n",
    "#print(df)##df['persona'] = df['persona'].replace(['persona1','persona2','persona3','persona4'],['Type I<br>High Stress',])\n",
    "\n",
    "persona_name = ['persona1','persona2','persona3','persona4','all']\n",
    "persona_data = {persona: df.query(\"persona == '%s'\" %persona)\n",
    "                              for persona in persona_name }\n",
    "for persona, data in persona_data.items():\n",
    "    hover_text = []\n",
    "    data['weight'] = data['weight'].astype(int)\n",
    "    for index, row in data.iterrows():\n",
    "        hover_text.append(('{x_1}<br>'+\n",
    "        '{level} vote from {persona}'\n",
    "        ).format(x_1=row['x'],\n",
    "        level=int(row['Level']),\n",
    "        persona=row['persona']))\n",
    "    data['hover']=hover_text\n",
    "\n",
    "\n",
    "persona_data['persona1']['persona']='<b><sub>Type I</sub></b><br>High Stress<br><br>'\n",
    "persona_data['persona2']['persona']='<b><sub>Type II</sub></b><br>Early Peak<br><br>'\n",
    "persona_data['persona3']['persona']='<b><sub>Type III</sub></b><br>Late Peak<br><br>'\n",
    "persona_data['persona4']['persona']='<b><sub>Type IV</sub></b><br>Low Stress<br><br>'\n",
    "persona_data['all']['persona']='<b><sub>All Types</sub></b><br>'\n",
    "print(persona_data['all'].x[0])\n",
    "sorter=['Presentations','Homework','Projects','Quizes','Midterm/Finals','Group Projects*','Classmates*','Labs*','Online Classes*','Parents*','Talking to Teacher*']\n",
    "for persona, data in persona_data.items():\n",
    "    data.x = data.x.astype(\"category\")\n",
    "    data.x.cat.set_categories(sorter, inplace=True)\n",
    "    persona_data[persona]= data.sort_values(['x'])\n",
    "\n",
    "#print(persona_data)"
   ]
  },
  {
   "cell_type": "code",
   "execution_count": 5,
   "metadata": {
    "tags": []
   },
   "outputs": [
    {
     "output_type": "display_data",
     "data": {
      "application/vnd.plotly.v1+json": {
       "config": {
        "plotlyServerURL": "https://plotly.com"
       },
       "data": [
        {
         "hoverinfo": "text",
         "marker": {
          "color": "#EF5740",
          "line": {
           "width": 1
          },
          "opacity": 0.6,
          "size": [
           1,
           2,
           1,
           1,
           1,
           1,
           2,
           1,
           1,
           3,
           1,
           0,
           1,
           1,
           2,
           1,
           1,
           1,
           2,
           1,
           1,
           2,
           1,
           1,
           0,
           1,
           1,
           1,
           0
          ],
          "sizemode": "area",
          "sizeref": 0.012
         },
         "mode": "markers",
         "name": "<b><sub>Type I</sub></b><br>High Stress<br><br>",
         "text": [
          "Presentations<br>0 vote from persona1",
          "Presentations<br>1 vote from persona1",
          "Presentations<br>1 vote from persona1",
          "Presentations<br>3 vote from persona1",
          "Homework<br>0 vote from persona1",
          "Homework<br>1 vote from persona1",
          "Homework<br>1 vote from persona1",
          "Homework<br>1 vote from persona1",
          "Projects<br>0 vote from persona1",
          "Projects<br>1 vote from persona1",
          "Projects<br>2 vote from persona1",
          "Projects<br>0 vote from persona1",
          "Quizes<br>2 vote from persona1",
          "Quizes<br>1 vote from persona1",
          "Quizes<br>1 vote from persona1",
          "Quizes<br>1 vote from persona1",
          "Midterm/Finals<br>1 vote from persona1",
          "Midterm/Finals<br>2 vote from persona1",
          "Midterm/Finals<br>3 vote from persona1",
          "Midterm/Finals<br>4 vote from persona1",
          "Group Projects*<br>4 vote from persona1",
          "Group Projects*<br>3 vote from persona1",
          "Classmates*<br>0 vote from persona1",
          "Classmates*<br>3 vote from persona1",
          "Labs*<br>0 vote from persona1",
          "Online Classes*<br>0 vote from persona1",
          "Parents*<br>0 vote from persona1",
          "Parents*<br>2 vote from persona1",
          "Talking to Teacher*<br>0 vote from persona1"
         ],
         "textfont": {
          "color": "#050505"
         },
         "type": "scatter",
         "x": [
          "Presentations",
          "Presentations",
          "Presentations",
          "Presentations",
          "Homework",
          "Homework",
          "Homework",
          "Homework",
          "Projects",
          "Projects",
          "Projects",
          "Projects",
          "Quizes",
          "Quizes",
          "Quizes",
          "Quizes",
          "Midterm/Finals",
          "Midterm/Finals",
          "Midterm/Finals",
          "Midterm/Finals",
          "Group Projects*",
          "Group Projects*",
          "Classmates*",
          "Classmates*",
          "Labs*",
          "Online Classes*",
          "Parents*",
          "Parents*",
          "Talking to Teacher*"
         ],
         "y": [
          0.8,
          1,
          1.5,
          3,
          0.8,
          1,
          1.2,
          1.7,
          0.8,
          1.5,
          2,
          0,
          2,
          1.5,
          1,
          1.2,
          1.5,
          2.5,
          3,
          4,
          4,
          3.5,
          0.2,
          3.2,
          0,
          0.3,
          0.2,
          2.5,
          0
         ]
        },
        {
         "hoverinfo": "text",
         "marker": {
          "color": "#D6C350",
          "line": {
           "width": 1
          },
          "opacity": 0.65,
          "size": [
           1,
           1,
           2,
           1,
           1,
           1,
           1,
           2,
           3,
           1,
           1,
           1,
           1,
           1,
           1,
           1,
           2,
           3,
           1,
           0,
           1,
           0,
           0,
           0
          ],
          "sizemode": "area",
          "sizeref": 0.012
         },
         "mode": "markers",
         "name": "<b><sub>Type II</sub></b><br>Early Peak<br><br>",
         "text": [
          "Presentations<br>0 vote from persona2",
          "Presentations<br>1 vote from persona2",
          "Presentations<br>2 vote from persona2",
          "Presentations<br>3 vote from persona2",
          "Homework<br>0 vote from persona2",
          "Homework<br>1 vote from persona2",
          "Homework<br>1 vote from persona2",
          "Homework<br>2 vote from persona2",
          "Projects<br>1 vote from persona2",
          "Projects<br>1 vote from persona2",
          "Projects<br>3 vote from persona2",
          "Quizes<br>3 vote from persona2",
          "Quizes<br>2 vote from persona2",
          "Quizes<br>1 vote from persona2",
          "Quizes<br>1 vote from persona2",
          "Quizes<br>2 vote from persona2",
          "Midterm/Finals<br>3 vote from persona2",
          "Midterm/Finals<br>4 vote from persona2",
          "Group Projects*<br>3 vote from persona2",
          "Classmates*<br>0 vote from persona2",
          "Labs*<br>1 vote from persona2",
          "Online Classes*<br>0 vote from persona2",
          "Parents*<br>0 vote from persona2",
          "Talking to Teacher*<br>0 vote from persona2"
         ],
         "textfont": {
          "color": "#050505"
         },
         "type": "scatter",
         "x": [
          "Presentations",
          "Presentations",
          "Presentations",
          "Presentations",
          "Homework",
          "Homework",
          "Homework",
          "Homework",
          "Projects",
          "Projects",
          "Projects",
          "Quizes",
          "Quizes",
          "Quizes",
          "Quizes",
          "Quizes",
          "Midterm/Finals",
          "Midterm/Finals",
          "Group Projects*",
          "Classmates*",
          "Labs*",
          "Online Classes*",
          "Parents*",
          "Talking to Teacher*"
         ],
         "y": [
          0.5,
          1.5,
          2.5,
          3,
          0.5,
          1,
          1.2,
          2.2,
          1,
          1.5,
          3,
          3,
          2.5,
          1,
          1.8,
          2,
          3,
          4,
          3.5,
          0,
          1,
          0,
          0,
          0
         ]
        },
        {
         "hoverinfo": "text",
         "marker": {
          "color": "#54C3B0",
          "line": {
           "width": 1
          },
          "opacity": 0.6,
          "size": [
           2,
           1,
           3,
           1,
           2,
           1,
           3,
           1,
           1,
           1,
           2,
           2,
           1,
           1,
           2,
           3,
           1,
           1,
           2,
           1,
           1,
           1,
           1,
           0,
           0,
           0,
           0,
           1
          ],
          "sizemode": "area",
          "sizeref": 0.012
         },
         "mode": "markers",
         "name": "<b><sub>Type III</sub></b><br>Late Peak<br><br>",
         "text": [
          "Presentations<br>0 vote from persona3",
          "Presentations<br>1 vote from persona3",
          "Presentations<br>2 vote from persona3",
          "Homework<br>0 vote from persona3",
          "Homework<br>1 vote from persona3",
          "Homework<br>1 vote from persona3",
          "Homework<br>2 vote from persona3",
          "Projects<br>0 vote from persona3",
          "Projects<br>1 vote from persona3",
          "Projects<br>1 vote from persona3",
          "Projects<br>3 vote from persona3",
          "Projects<br>3 vote from persona3",
          "Quizes<br>2 vote from persona3",
          "Quizes<br>1 vote from persona3",
          "Quizes<br>1 vote from persona3",
          "Quizes<br>1 vote from persona3",
          "Midterm/Finals<br>2 vote from persona3",
          "Midterm/Finals<br>2 vote from persona3",
          "Midterm/Finals<br>3 vote from persona3",
          "Midterm/Finals<br>3 vote from persona3",
          "Midterm/Finals<br>3 vote from persona3",
          "Midterm/Finals<br>4 vote from persona3",
          "Group Projects*<br>1 vote from persona3",
          "Classmates*<br>0 vote from persona3",
          "Labs*<br>0 vote from persona3",
          "Online Classes*<br>0 vote from persona3",
          "Parents*<br>0 vote from persona3",
          "Talking to Teacher*<br>3 vote from persona3"
         ],
         "textfont": {
          "color": "#050505"
         },
         "type": "scatter",
         "x": [
          "Presentations",
          "Presentations",
          "Presentations",
          "Homework",
          "Homework",
          "Homework",
          "Homework",
          "Projects",
          "Projects",
          "Projects",
          "Projects",
          "Projects",
          "Quizes",
          "Quizes",
          "Quizes",
          "Quizes",
          "Midterm/Finals",
          "Midterm/Finals",
          "Midterm/Finals",
          "Midterm/Finals",
          "Midterm/Finals",
          "Midterm/Finals",
          "Group Projects*",
          "Classmates*",
          "Labs*",
          "Online Classes*",
          "Parents*",
          "Talking to Teacher*"
         ],
         "y": [
          0.3,
          1.5,
          2,
          0.5,
          1,
          1.2,
          2,
          0.8,
          1,
          1.7,
          3,
          3.7,
          2,
          1.8,
          1.5,
          1,
          2.5,
          2.8,
          3,
          3.5,
          3.8,
          4,
          1,
          0,
          0,
          0,
          0,
          3
         ]
        },
        {
         "hoverinfo": "text",
         "marker": {
          "color": "#83B622",
          "line": {
           "width": 1
          },
          "opacity": 0.6,
          "size": [
           1,
           1,
           1,
           1,
           1,
           1,
           1,
           1,
           1,
           1,
           1,
           1,
           1,
           1,
           1,
           1,
           2,
           2,
           1,
           1,
           1,
           2,
           1,
           1,
           1,
           1,
           0,
           0
          ],
          "sizemode": "area",
          "sizeref": 0.012
         },
         "mode": "markers",
         "name": "<b><sub>Type IV</sub></b><br>Low Stress<br><br>",
         "text": [
          "Presentations<br>0 vote from persona4",
          "Presentations<br>0 vote from persona4",
          "Presentations<br>1 vote from persona4",
          "Presentations<br>2 vote from persona4",
          "Presentations<br>3 vote from persona4",
          "Homework<br>1 vote from persona4",
          "Homework<br>1 vote from persona4",
          "Homework<br>1 vote from persona4",
          "Homework<br>2 vote from persona4",
          "Homework<br>4 vote from persona4",
          "Projects<br>4 vote from persona4",
          "Projects<br>2 vote from persona4",
          "Projects<br>3 vote from persona4",
          "Projects<br>1 vote from persona4",
          "Projects<br>2 vote from persona4",
          "Quizes<br>0 vote from persona4",
          "Quizes<br>2 vote from persona4",
          "Quizes<br>2 vote from persona4",
          "Midterm/Finals<br>2 vote from persona4",
          "Midterm/Finals<br>3 vote from persona4",
          "Midterm/Finals<br>3 vote from persona4",
          "Midterm/Finals<br>4 vote from persona4",
          "Group Projects*<br>2 vote from persona4",
          "Classmates*<br>0 vote from persona4",
          "Labs*<br>2 vote from persona4",
          "Online Classes*<br>1 vote from persona4",
          "Parents*<br>0 vote from persona4",
          "Talking to Teacher*<br>0 vote from persona4"
         ],
         "textfont": {
          "color": "#050505"
         },
         "type": "scatter",
         "x": [
          "Presentations",
          "Presentations",
          "Presentations",
          "Presentations",
          "Presentations",
          "Homework",
          "Homework",
          "Homework",
          "Homework",
          "Homework",
          "Projects",
          "Projects",
          "Projects",
          "Projects",
          "Projects",
          "Quizes",
          "Quizes",
          "Quizes",
          "Midterm/Finals",
          "Midterm/Finals",
          "Midterm/Finals",
          "Midterm/Finals",
          "Group Projects*",
          "Classmates*",
          "Labs*",
          "Online Classes*",
          "Parents*",
          "Talking to Teacher*"
         ],
         "y": [
          0,
          0.5,
          1,
          2,
          3.5,
          1,
          1.5,
          1.7,
          2,
          4,
          4,
          2.5,
          3,
          1.7,
          2,
          0.5,
          2,
          2.5,
          2.5,
          3,
          3.8,
          4,
          2.5,
          0.2,
          2,
          1.8,
          0,
          0
         ]
        },
        {
         "hoverinfo": "text",
         "marker": {
          "color": "#BFBFBF",
          "line": {
           "width": 1
          },
          "opacity": 0.4,
          "size": [
           3,
           4,
           1,
           2,
           2,
           1,
           2,
           2,
           1,
           3,
           1,
           4,
           2,
           1,
           5,
           1,
           2,
           2,
           4,
           2,
           4,
           1,
           2,
           1,
           0,
           2,
           4,
           4,
           2,
           5,
           2,
           1,
           1,
           6,
           3,
           1,
           3,
           1,
           3,
           1,
           2,
           7,
           7,
           1,
           1,
           3,
           1,
           1,
           0,
           1,
           2,
           1,
           1,
           0,
           0,
           1,
           1,
           1,
           0,
           1,
           0,
           1
          ],
          "sizemode": "area",
          "sizeref": 0.012
         },
         "mode": "markers",
         "name": "<b><sub>All Types</sub></b><br>",
         "text": [
          "Presentations<br>1 vote from all",
          "Presentations<br>2 vote from all",
          "Presentations<br>0 vote from all",
          "Presentations<br>0 vote from all",
          "Presentations<br>0 vote from all",
          "Presentations<br>3 vote from all",
          "Presentations<br>3 vote from all",
          "Presentations<br>2 vote from all",
          "Presentations<br>0 vote from all",
          "Presentations<br>1 vote from all",
          "Homework<br>4 vote from all",
          "Homework<br>2 vote from all",
          "Homework<br>2 vote from all",
          "Homework<br>1 vote from all",
          "Homework<br>1 vote from all",
          "Homework<br>0 vote from all",
          "Homework<br>0 vote from all",
          "Homework<br>1 vote from all",
          "Homework<br>1 vote from all",
          "Projects<br>1 vote from all",
          "Projects<br>3 vote from all",
          "Projects<br>2 vote from all",
          "Projects<br>2 vote from all",
          "Projects<br>4 vote from all",
          "Projects<br>0 vote from all",
          "Projects<br>0 vote from all",
          "Projects<br>1 vote from all",
          "Projects<br>1 vote from all",
          "Projects<br>3 vote from all",
          "Quizes<br>2 vote from all",
          "Quizes<br>1 vote from all",
          "Quizes<br>3 vote from all",
          "Quizes<br>1 vote from all",
          "Quizes<br>1 vote from all",
          "Quizes<br>2 vote from all",
          "Quizes<br>0 vote from all",
          "Quizes<br>1 vote from all",
          "Midterm/Finals<br>2 vote from all",
          "Midterm/Finals<br>2 vote from all",
          "Midterm/Finals<br>1 vote from all",
          "Midterm/Finals<br>3 vote from all",
          "Midterm/Finals<br>4 vote from all",
          "Midterm/Finals<br>3 vote from all",
          "Midterm/Finals<br>3 vote from all",
          "Group Projects*<br>4 vote from all",
          "Group Projects*<br>3 vote from all",
          "Group Projects*<br>2 vote from all",
          "Group Projects*<br>1 vote from all",
          "Classmates*<br>0 vote from all",
          "Classmates*<br>3 vote from all",
          "Classmates*<br>0 vote from all",
          "Labs*<br>2 vote from all",
          "Labs*<br>1 vote from all",
          "Labs*<br>0 vote from all",
          "Online Classes*<br>0 vote from all",
          "Online Classes*<br>0 vote from all",
          "Online Classes*<br>1 vote from all",
          "Parents*<br>0 vote from all",
          "Parents*<br>0 vote from all",
          "Parents*<br>2 vote from all",
          "Talking to Teacher*<br>0 vote from all",
          "Talking to Teacher*<br>3 vote from all"
         ],
         "textfont": {
          "color": "#050505"
         },
         "type": "scatter",
         "x": [
          "Presentations",
          "Presentations",
          "Presentations",
          "Presentations",
          "Presentations",
          "Presentations",
          "Presentations",
          "Presentations",
          "Presentations",
          "Presentations",
          "Homework",
          "Homework",
          "Homework",
          "Homework",
          "Homework",
          "Homework",
          "Homework",
          "Homework",
          "Homework",
          "Projects",
          "Projects",
          "Projects",
          "Projects",
          "Projects",
          "Projects",
          "Projects",
          "Projects",
          "Projects",
          "Projects",
          "Quizes",
          "Quizes",
          "Quizes",
          "Quizes",
          "Quizes",
          "Quizes",
          "Quizes",
          "Quizes",
          "Midterm/Finals",
          "Midterm/Finals",
          "Midterm/Finals",
          "Midterm/Finals",
          "Midterm/Finals",
          "Midterm/Finals",
          "Midterm/Finals",
          "Group Projects*",
          "Group Projects*",
          "Group Projects*",
          "Group Projects*",
          "Classmates*",
          "Classmates*",
          "Classmates*",
          "Labs*",
          "Labs*",
          "Labs*",
          "Online Classes*",
          "Online Classes*",
          "Online Classes*",
          "Parents*",
          "Parents*",
          "Parents*",
          "Talking to Teacher*",
          "Talking to Teacher*"
         ],
         "y": [
          1,
          2,
          0.8,
          0.3,
          0.5,
          3.5,
          3,
          2.5,
          0,
          1.5,
          4,
          2,
          2.2,
          1.5,
          1,
          0.8,
          0.5,
          1.7,
          1.2,
          1.7,
          3,
          2.5,
          2,
          4,
          0,
          0.8,
          1,
          1.5,
          3.7,
          2,
          1.8,
          3,
          1.2,
          1,
          2.5,
          0.5,
          1.5,
          2.8,
          2.5,
          1.5,
          3.8,
          4,
          3,
          3.5,
          4,
          3.5,
          2.5,
          1,
          0,
          3.2,
          0.2,
          2,
          1,
          0,
          0,
          0.3,
          1.8,
          0.2,
          0,
          2.5,
          0,
          3
         ]
        }
       ],
       "layout": {
        "autosize": false,
        "font": {
         "family": "Courier"
        },
        "height": 800,
        "images": [
         {
          "layer": "above",
          "sizex": 0.04,
          "sizey": 0.4,
          "source": "https://raw.githubusercontent.com/brianzy/ploty-project/master/pic/P1sm.png",
          "x": 1.13,
          "xanchor": "center",
          "xref": "paper",
          "y": 0.92,
          "yanchor": "bottom",
          "yref": "paper"
         },
         {
          "layer": "above",
          "sizex": 0.04,
          "sizey": 0.4,
          "source": "https://raw.githubusercontent.com/brianzy/ploty-project/master/pic/P2sm.png",
          "x": 1.13,
          "xanchor": "center",
          "xref": "paper",
          "y": 0.85,
          "yanchor": "top",
          "yref": "paper"
         },
         {
          "layer": "above",
          "sizex": 0.04,
          "sizey": 0.4,
          "source": "https://raw.githubusercontent.com/brianzy/ploty-project/master/pic/P3sm.png",
          "x": 1.13,
          "xanchor": "center",
          "xref": "paper",
          "y": 0.68,
          "yanchor": "bottom",
          "yref": "paper"
         },
         {
          "layer": "above",
          "sizex": 0.04,
          "sizey": 0.4,
          "source": "https://raw.githubusercontent.com/brianzy/ploty-project/master/pic/P4sm.png",
          "x": 1.13,
          "xanchor": "center",
          "xref": "paper",
          "y": 0.56,
          "yanchor": "bottom",
          "yref": "paper"
         },
         {
          "layer": "above",
          "sizex": 0.04,
          "sizey": 0.4,
          "source": "https://raw.githubusercontent.com/brianzy/ploty-project/master/pic/Allsm.png",
          "x": 1.13,
          "xanchor": "center",
          "xref": "paper",
          "y": 0.46,
          "yanchor": "bottom",
          "yref": "paper"
         }
        ],
        "legend": {
         "font": {
          "size": 13
         },
         "x": 1.148,
         "xanchor": "left",
         "y": 0.99,
         "yanchor": "auto"
        },
        "margin": {
         "t": 80
        },
        "paper_bgcolor": "rgb(255, 255, 255)",
        "plot_bgcolor": "rgb(255, 255, 255)",
        "template": {
         "data": {
          "bar": [
           {
            "error_x": {
             "color": "#2a3f5f"
            },
            "error_y": {
             "color": "#2a3f5f"
            },
            "marker": {
             "line": {
              "color": "#E5ECF6",
              "width": 0.5
             }
            },
            "type": "bar"
           }
          ],
          "barpolar": [
           {
            "marker": {
             "line": {
              "color": "#E5ECF6",
              "width": 0.5
             }
            },
            "type": "barpolar"
           }
          ],
          "carpet": [
           {
            "aaxis": {
             "endlinecolor": "#2a3f5f",
             "gridcolor": "white",
             "linecolor": "white",
             "minorgridcolor": "white",
             "startlinecolor": "#2a3f5f"
            },
            "baxis": {
             "endlinecolor": "#2a3f5f",
             "gridcolor": "white",
             "linecolor": "white",
             "minorgridcolor": "white",
             "startlinecolor": "#2a3f5f"
            },
            "type": "carpet"
           }
          ],
          "choropleth": [
           {
            "colorbar": {
             "outlinewidth": 0,
             "ticks": ""
            },
            "type": "choropleth"
           }
          ],
          "contour": [
           {
            "colorbar": {
             "outlinewidth": 0,
             "ticks": ""
            },
            "colorscale": [
             [
              0,
              "#0d0887"
             ],
             [
              0.1111111111111111,
              "#46039f"
             ],
             [
              0.2222222222222222,
              "#7201a8"
             ],
             [
              0.3333333333333333,
              "#9c179e"
             ],
             [
              0.4444444444444444,
              "#bd3786"
             ],
             [
              0.5555555555555556,
              "#d8576b"
             ],
             [
              0.6666666666666666,
              "#ed7953"
             ],
             [
              0.7777777777777778,
              "#fb9f3a"
             ],
             [
              0.8888888888888888,
              "#fdca26"
             ],
             [
              1,
              "#f0f921"
             ]
            ],
            "type": "contour"
           }
          ],
          "contourcarpet": [
           {
            "colorbar": {
             "outlinewidth": 0,
             "ticks": ""
            },
            "type": "contourcarpet"
           }
          ],
          "heatmap": [
           {
            "colorbar": {
             "outlinewidth": 0,
             "ticks": ""
            },
            "colorscale": [
             [
              0,
              "#0d0887"
             ],
             [
              0.1111111111111111,
              "#46039f"
             ],
             [
              0.2222222222222222,
              "#7201a8"
             ],
             [
              0.3333333333333333,
              "#9c179e"
             ],
             [
              0.4444444444444444,
              "#bd3786"
             ],
             [
              0.5555555555555556,
              "#d8576b"
             ],
             [
              0.6666666666666666,
              "#ed7953"
             ],
             [
              0.7777777777777778,
              "#fb9f3a"
             ],
             [
              0.8888888888888888,
              "#fdca26"
             ],
             [
              1,
              "#f0f921"
             ]
            ],
            "type": "heatmap"
           }
          ],
          "heatmapgl": [
           {
            "colorbar": {
             "outlinewidth": 0,
             "ticks": ""
            },
            "colorscale": [
             [
              0,
              "#0d0887"
             ],
             [
              0.1111111111111111,
              "#46039f"
             ],
             [
              0.2222222222222222,
              "#7201a8"
             ],
             [
              0.3333333333333333,
              "#9c179e"
             ],
             [
              0.4444444444444444,
              "#bd3786"
             ],
             [
              0.5555555555555556,
              "#d8576b"
             ],
             [
              0.6666666666666666,
              "#ed7953"
             ],
             [
              0.7777777777777778,
              "#fb9f3a"
             ],
             [
              0.8888888888888888,
              "#fdca26"
             ],
             [
              1,
              "#f0f921"
             ]
            ],
            "type": "heatmapgl"
           }
          ],
          "histogram": [
           {
            "marker": {
             "colorbar": {
              "outlinewidth": 0,
              "ticks": ""
             }
            },
            "type": "histogram"
           }
          ],
          "histogram2d": [
           {
            "colorbar": {
             "outlinewidth": 0,
             "ticks": ""
            },
            "colorscale": [
             [
              0,
              "#0d0887"
             ],
             [
              0.1111111111111111,
              "#46039f"
             ],
             [
              0.2222222222222222,
              "#7201a8"
             ],
             [
              0.3333333333333333,
              "#9c179e"
             ],
             [
              0.4444444444444444,
              "#bd3786"
             ],
             [
              0.5555555555555556,
              "#d8576b"
             ],
             [
              0.6666666666666666,
              "#ed7953"
             ],
             [
              0.7777777777777778,
              "#fb9f3a"
             ],
             [
              0.8888888888888888,
              "#fdca26"
             ],
             [
              1,
              "#f0f921"
             ]
            ],
            "type": "histogram2d"
           }
          ],
          "histogram2dcontour": [
           {
            "colorbar": {
             "outlinewidth": 0,
             "ticks": ""
            },
            "colorscale": [
             [
              0,
              "#0d0887"
             ],
             [
              0.1111111111111111,
              "#46039f"
             ],
             [
              0.2222222222222222,
              "#7201a8"
             ],
             [
              0.3333333333333333,
              "#9c179e"
             ],
             [
              0.4444444444444444,
              "#bd3786"
             ],
             [
              0.5555555555555556,
              "#d8576b"
             ],
             [
              0.6666666666666666,
              "#ed7953"
             ],
             [
              0.7777777777777778,
              "#fb9f3a"
             ],
             [
              0.8888888888888888,
              "#fdca26"
             ],
             [
              1,
              "#f0f921"
             ]
            ],
            "type": "histogram2dcontour"
           }
          ],
          "mesh3d": [
           {
            "colorbar": {
             "outlinewidth": 0,
             "ticks": ""
            },
            "type": "mesh3d"
           }
          ],
          "parcoords": [
           {
            "line": {
             "colorbar": {
              "outlinewidth": 0,
              "ticks": ""
             }
            },
            "type": "parcoords"
           }
          ],
          "pie": [
           {
            "automargin": true,
            "type": "pie"
           }
          ],
          "scatter": [
           {
            "marker": {
             "colorbar": {
              "outlinewidth": 0,
              "ticks": ""
             }
            },
            "type": "scatter"
           }
          ],
          "scatter3d": [
           {
            "line": {
             "colorbar": {
              "outlinewidth": 0,
              "ticks": ""
             }
            },
            "marker": {
             "colorbar": {
              "outlinewidth": 0,
              "ticks": ""
             }
            },
            "type": "scatter3d"
           }
          ],
          "scattercarpet": [
           {
            "marker": {
             "colorbar": {
              "outlinewidth": 0,
              "ticks": ""
             }
            },
            "type": "scattercarpet"
           }
          ],
          "scattergeo": [
           {
            "marker": {
             "colorbar": {
              "outlinewidth": 0,
              "ticks": ""
             }
            },
            "type": "scattergeo"
           }
          ],
          "scattergl": [
           {
            "marker": {
             "colorbar": {
              "outlinewidth": 0,
              "ticks": ""
             }
            },
            "type": "scattergl"
           }
          ],
          "scattermapbox": [
           {
            "marker": {
             "colorbar": {
              "outlinewidth": 0,
              "ticks": ""
             }
            },
            "type": "scattermapbox"
           }
          ],
          "scatterpolar": [
           {
            "marker": {
             "colorbar": {
              "outlinewidth": 0,
              "ticks": ""
             }
            },
            "type": "scatterpolar"
           }
          ],
          "scatterpolargl": [
           {
            "marker": {
             "colorbar": {
              "outlinewidth": 0,
              "ticks": ""
             }
            },
            "type": "scatterpolargl"
           }
          ],
          "scatterternary": [
           {
            "marker": {
             "colorbar": {
              "outlinewidth": 0,
              "ticks": ""
             }
            },
            "type": "scatterternary"
           }
          ],
          "surface": [
           {
            "colorbar": {
             "outlinewidth": 0,
             "ticks": ""
            },
            "colorscale": [
             [
              0,
              "#0d0887"
             ],
             [
              0.1111111111111111,
              "#46039f"
             ],
             [
              0.2222222222222222,
              "#7201a8"
             ],
             [
              0.3333333333333333,
              "#9c179e"
             ],
             [
              0.4444444444444444,
              "#bd3786"
             ],
             [
              0.5555555555555556,
              "#d8576b"
             ],
             [
              0.6666666666666666,
              "#ed7953"
             ],
             [
              0.7777777777777778,
              "#fb9f3a"
             ],
             [
              0.8888888888888888,
              "#fdca26"
             ],
             [
              1,
              "#f0f921"
             ]
            ],
            "type": "surface"
           }
          ],
          "table": [
           {
            "cells": {
             "fill": {
              "color": "#EBF0F8"
             },
             "line": {
              "color": "white"
             }
            },
            "header": {
             "fill": {
              "color": "#C8D4E3"
             },
             "line": {
              "color": "white"
             }
            },
            "type": "table"
           }
          ]
         },
         "layout": {
          "annotationdefaults": {
           "arrowcolor": "#2a3f5f",
           "arrowhead": 0,
           "arrowwidth": 1
          },
          "coloraxis": {
           "colorbar": {
            "outlinewidth": 0,
            "ticks": ""
           }
          },
          "colorscale": {
           "diverging": [
            [
             0,
             "#8e0152"
            ],
            [
             0.1,
             "#c51b7d"
            ],
            [
             0.2,
             "#de77ae"
            ],
            [
             0.3,
             "#f1b6da"
            ],
            [
             0.4,
             "#fde0ef"
            ],
            [
             0.5,
             "#f7f7f7"
            ],
            [
             0.6,
             "#e6f5d0"
            ],
            [
             0.7,
             "#b8e186"
            ],
            [
             0.8,
             "#7fbc41"
            ],
            [
             0.9,
             "#4d9221"
            ],
            [
             1,
             "#276419"
            ]
           ],
           "sequential": [
            [
             0,
             "#0d0887"
            ],
            [
             0.1111111111111111,
             "#46039f"
            ],
            [
             0.2222222222222222,
             "#7201a8"
            ],
            [
             0.3333333333333333,
             "#9c179e"
            ],
            [
             0.4444444444444444,
             "#bd3786"
            ],
            [
             0.5555555555555556,
             "#d8576b"
            ],
            [
             0.6666666666666666,
             "#ed7953"
            ],
            [
             0.7777777777777778,
             "#fb9f3a"
            ],
            [
             0.8888888888888888,
             "#fdca26"
            ],
            [
             1,
             "#f0f921"
            ]
           ],
           "sequentialminus": [
            [
             0,
             "#0d0887"
            ],
            [
             0.1111111111111111,
             "#46039f"
            ],
            [
             0.2222222222222222,
             "#7201a8"
            ],
            [
             0.3333333333333333,
             "#9c179e"
            ],
            [
             0.4444444444444444,
             "#bd3786"
            ],
            [
             0.5555555555555556,
             "#d8576b"
            ],
            [
             0.6666666666666666,
             "#ed7953"
            ],
            [
             0.7777777777777778,
             "#fb9f3a"
            ],
            [
             0.8888888888888888,
             "#fdca26"
            ],
            [
             1,
             "#f0f921"
            ]
           ]
          },
          "colorway": [
           "#636efa",
           "#EF553B",
           "#00cc96",
           "#ab63fa",
           "#FFA15A",
           "#19d3f3",
           "#FF6692",
           "#B6E880",
           "#FF97FF",
           "#FECB52"
          ],
          "font": {
           "color": "#2a3f5f"
          },
          "geo": {
           "bgcolor": "white",
           "lakecolor": "white",
           "landcolor": "#E5ECF6",
           "showlakes": true,
           "showland": true,
           "subunitcolor": "white"
          },
          "hoverlabel": {
           "align": "left"
          },
          "hovermode": "closest",
          "mapbox": {
           "style": "light"
          },
          "paper_bgcolor": "white",
          "plot_bgcolor": "#E5ECF6",
          "polar": {
           "angularaxis": {
            "gridcolor": "white",
            "linecolor": "white",
            "ticks": ""
           },
           "bgcolor": "#E5ECF6",
           "radialaxis": {
            "gridcolor": "white",
            "linecolor": "white",
            "ticks": ""
           }
          },
          "scene": {
           "xaxis": {
            "backgroundcolor": "#E5ECF6",
            "gridcolor": "white",
            "gridwidth": 2,
            "linecolor": "white",
            "showbackground": true,
            "ticks": "",
            "zerolinecolor": "white"
           },
           "yaxis": {
            "backgroundcolor": "#E5ECF6",
            "gridcolor": "white",
            "gridwidth": 2,
            "linecolor": "white",
            "showbackground": true,
            "ticks": "",
            "zerolinecolor": "white"
           },
           "zaxis": {
            "backgroundcolor": "#E5ECF6",
            "gridcolor": "white",
            "gridwidth": 2,
            "linecolor": "white",
            "showbackground": true,
            "ticks": "",
            "zerolinecolor": "white"
           }
          },
          "shapedefaults": {
           "line": {
            "color": "#2a3f5f"
           }
          },
          "ternary": {
           "aaxis": {
            "gridcolor": "white",
            "linecolor": "white",
            "ticks": ""
           },
           "baxis": {
            "gridcolor": "white",
            "linecolor": "white",
            "ticks": ""
           },
           "bgcolor": "#E5ECF6",
           "caxis": {
            "gridcolor": "white",
            "linecolor": "white",
            "ticks": ""
           }
          },
          "title": {
           "x": 0.05
          },
          "xaxis": {
           "automargin": true,
           "gridcolor": "white",
           "linecolor": "white",
           "ticks": "",
           "title": {
            "standoff": 15
           },
           "zerolinecolor": "white",
           "zerolinewidth": 2
          },
          "yaxis": {
           "automargin": true,
           "gridcolor": "white",
           "linecolor": "white",
           "ticks": "",
           "title": {
            "standoff": 15
           },
           "zerolinecolor": "white",
           "zerolinewidth": 2
          }
         }
        },
        "title": {
         "text": "Academic Stress"
        },
        "width": 900,
        "xaxis": {
         "gridcolor": "#efefef",
         "gridwidth": 1,
         "showticklabels": true,
         "ticklen": 30,
         "title": {
          "text": ""
         },
         "visible": true
        },
        "yaxis": {
         "gridcolor": "#efefef",
         "gridwidth": 1,
         "ticklen": 30,
         "title": {
          "text": "<b>Stress Level</b><br>[  no stress   >>   maximum stress  ]"
         }
        }
       }
      }
     },
     "metadata": {}
    }
   ],
   "source": [
    "fig = go.Figure()\n",
    "c_color=['#EF5740','#D6C350','#54C3B0','#83B622','#BFBFBF']\n",
    "c_opacity=[0.6,0.65,0.6,0.6,0.4]\n",
    "flag=0\n",
    "for persona, data in persona_data.items():\n",
    "    fig.add_trace(go.Scatter(x=data['x'],\n",
    "        y=data['Level'],name = data['persona'].iloc[0],\n",
    "        marker_size=data['weight'], text=data['hover'],hoverinfo='text',textfont=dict(color=\"#050505\"),\n",
    "        marker=dict(color=c_color[flag],opacity=c_opacity[flag],line=dict(width=0))\n",
    "    ))\n",
    "    flag=flag+1\n",
    "\n",
    "\n",
    "\n",
    "sizeref =  2.*60/(100**2)\n",
    "\n",
    "\n",
    "fig.update_traces(mode='markers', marker=dict(sizemode='area',\n",
    "                                              sizeref=sizeref, line_width=1))\n",
    "\n",
    "fig.update_layout(\n",
    "    title='Academic Stress',\n",
    "    xaxis=dict(\n",
    "        title='Stress type',\n",
    "        gridcolor='white',\n",
    "        gridwidth=2,\n",
    "    ),\n",
    "    yaxis=dict(\n",
    "        title='stress level',\n",
    "        gridcolor='white',\n",
    "        gridwidth=2,\n",
    "    ),\n",
    "    paper_bgcolor='rgb(243, 243, 243)',\n",
    "    plot_bgcolor='rgb(243, 243, 243)',\n",
    ")\n",
    "#Add image\n",
    "fig.add_layout_image(\n",
    "    dict(\n",
    "        source=\"https://raw.githubusercontent.com/brianzy/ploty-project/master/pic/P1sm.png\",\n",
    "        xref=\"paper\", yref=\"paper\",\n",
    "        x=1.13, y=0.92\n",
    "         ,sizex=0.04, sizey=0.4\n",
    "         ,xanchor=\"center\", yanchor=\"bottom\"\n",
    "         ,layer=\"above\"\n",
    "    )\n",
    ")\n",
    "fig.add_layout_image(\n",
    "    dict(\n",
    "        source=\"https://raw.githubusercontent.com/brianzy/ploty-project/master/pic/P2sm.png\",\n",
    "        xref=\"paper\", yref=\"paper\",\n",
    "        x=1.13, y=0.85,\n",
    "        sizex=0.04, sizey=0.4\n",
    "         ,xanchor=\"center\", yanchor=\"top\"\n",
    "         ,layer=\"above\"\n",
    "    )\n",
    ")\n",
    "fig.add_layout_image(\n",
    "    dict(\n",
    "        source=\"https://raw.githubusercontent.com/brianzy/ploty-project/master/pic/P3sm.png\",\n",
    "        xref=\"paper\", yref=\"paper\",\n",
    "        x=1.13, y=0.68,\n",
    "        sizex=0.04, sizey=0.4\n",
    "         ,xanchor=\"center\", yanchor=\"bottom\"\n",
    "         ,layer=\"above\"\n",
    "    )\n",
    ")\n",
    "fig.add_layout_image(\n",
    "    dict(\n",
    "        source=\"https://raw.githubusercontent.com/brianzy/ploty-project/master/pic/P4sm.png\",\n",
    "        xref=\"paper\", yref=\"paper\",\n",
    "        x=1.13, y=0.56,\n",
    "        sizex=0.04, sizey=0.4\n",
    "         ,xanchor=\"center\", yanchor=\"bottom\"\n",
    "         ,layer=\"above\"\n",
    "    )\n",
    ")\n",
    "fig.add_layout_image(\n",
    "    dict(\n",
    "        source=\"https://raw.githubusercontent.com/brianzy/ploty-project/master/pic/Allsm.png\",\n",
    "        xref=\"paper\", yref=\"paper\",\n",
    "        x=1.13, y=0.46,\n",
    "        sizex=0.04, sizey=0.4\n",
    "         ,xanchor=\"center\", yanchor=\"bottom\"\n",
    "         ,layer=\"above\"\n",
    "    )\n",
    ")\n",
    "fig.update_xaxes(title='', visible=True, showticklabels=True,gridwidth=1,gridcolor='#efefef',ticklen=30)\n",
    "fig.update_yaxes(title='<b>Stress Level</b><br>[  no stress   >>   maximum stress  ]',gridwidth=1,gridcolor='#efefef',ticklen=30)\n",
    "\n",
    "fig.update_layout(\n",
    "    paper_bgcolor='rgb(255, 255, 255)',\n",
    "    plot_bgcolor='rgb(255, 255, 255)',\n",
    "    margin=dict(t=80),\n",
    "    autosize=False,\n",
    "    width=900,\n",
    "    height=800,\n",
    "    font_family=\"Courier\",\n",
    "\n",
    "    legend=dict(\n",
    "    yanchor=\"auto\",\n",
    "    y=0.99,\n",
    "    xanchor=\"left\",\n",
    "    x=1.148\n",
    "     ,font=dict(size=13)\n",
    "))\n",
    "\n",
    "# fig = px.scatter(df, x='Presentations', size=\"weight_1\",\n",
    "#             log_x=True, size_max=60)\n",
    "fig.show()  "
   ]
  },
  {
   "cell_type": "code",
   "execution_count": 6,
   "metadata": {},
   "outputs": [
    {
     "output_type": "execute_result",
     "data": {
      "text/plain": "'https://plotly.com/~zybrian/37/'"
     },
     "metadata": {},
     "execution_count": 6
    }
   ],
   "source": [
    "import chart_studio.plotly as py\n",
    "py.plot(fig, filename = 'graph1', auto_open=False)"
   ]
  },
  {
   "cell_type": "code",
   "execution_count": 292,
   "metadata": {},
   "outputs": [],
   "source": [
    "# fig = go.Figure()\n",
    "\n",
    "# for stress, data in stress_final.items():\n",
    "#     fig.add_trace(go.Scatter( x=data['x'],\n",
    "#          y=data[stress],name=stress\n",
    "#          , marker_size=data['weight'],text=data['hover']\n",
    "#         ))\n",
    "# # Tune marker appearance and layout\n",
    "\n",
    "# sizeref =  2.*80/(100**2)\n",
    "\n",
    "\n",
    "# fig.update_traces(mode='markers', marker=dict(sizemode='area',\n",
    "#                                               sizeref=sizeref, line_width=2))\n",
    "\n",
    "# fig.update_layout(\n",
    "#     title='Academic Stress',\n",
    "#     xaxis=dict(\n",
    "#         title='Stress type',\n",
    "#         gridcolor='white',\n",
    "#         gridwidth=2,\n",
    "#     ),\n",
    "#     yaxis=dict(\n",
    "#         title='stress level',\n",
    "#         gridcolor='white',\n",
    "#         gridwidth=2,\n",
    "#     ),\n",
    "#     paper_bgcolor='rgb(243, 243, 243)',\n",
    "#     plot_bgcolor='rgb(243, 243, 243)',\n",
    "# )\n",
    "\n",
    "# # fig = px.scatter(df, x='Presentations', size=\"weight_1\",\n",
    "# #             log_x=True, size_max=60)\n",
    "# fig.show()"
   ]
  },
  {
   "cell_type": "code",
   "execution_count": 6,
   "metadata": {
    "tags": []
   },
   "outputs": [
    {
     "output_type": "stream",
     "name": "stdout",
     "text": "     ZONE                         Item  Weight   Persona Severity Level  \\\n0   zone1  being vulnerable in therapy       1   Type IV             L1   \n1   zone1    being with/around friends       1    Type I             L1   \n2   zone1                        class       1   Type II             L1   \n3   zone1                        class       1   Type IV             L1   \n4   zone1                     finances       2    Type I         L1, L2   \n5   zone1                     finances       1   Type IV             L1   \n6   zone1                       future       1    Type I             L1   \n7   zone1                       future       1   Type IV            NaN   \n8   zone1                     homework       1  Type III             L1   \n9   zone1                   Internship       1   Type IV             L2   \n10  zone1                          lab       1   Type IV             L1   \n11  zone1              physical health       1    Type I            NaN   \n12  zone1                presentations       1   Type II            NaN   \n13  zone1                presentations       1  Type III            NaN   \n14  zone1                presentations       1   Type IV             L1   \n15  zone1                     projects       1   Type II             L1   \n16  zone1                quizzes/exams       1    Type I             L1   \n17  zone1                         work       1    Type I             L1   \n\n                       Category hover  \n0    Physical and Mental Health        \n1            Social Connections        \n2                      Academic        \n3                      Academic        \n4   Future, Career, and Finance        \n5   Future, Career, and Finance        \n6   Future, Career, and Finance        \n7   Future, Career, and Finance        \n8                      Academic        \n9   Future, Career, and Finance        \n10                     Academic        \n11   Physical and Mental Health        \n12                     Academic        \n13                     Academic        \n14                     Academic        \n15                     Academic        \n16                     Academic        \n17  Future, Career, and Finance        \n"
    }
   ],
   "source": [
    "df2 = pd.read_csv('./data/data3.csv')\n",
    "df2['Persona']=df2['Persona'].replace([1,2,3,4],['Type I','Type II','Type III','Type IV'])\n",
    "df2['ZONE']=df2['ZONE'].replace(['zone 2','zone 3','zone 4','zone 5','zone 6','zone 7','zone 8','zone 9'],\\\n",
    "    ['zone2','zone3','zone4','zone5','zone6','zone7','zone8','zone9'])\n",
    "df2['hover']=''\n",
    "zone1=df2[df2['ZONE']=='zone1']\n",
    "zone2=df2[df2['ZONE']=='zone2']\n",
    "zone3=df2[df2['ZONE']=='zone3']\n",
    "zone4=df2[df2['ZONE']=='zone4']\n",
    "zone5=df2[df2['ZONE']=='zone5']\n",
    "zone6=df2[df2['ZONE']=='zone6']\n",
    "zone7=df2[df2['ZONE']=='zone7']\n",
    "zone8=df2[df2['ZONE']=='zone8']\n",
    "zone9=df2[df2['ZONE']=='zone9']\n",
    "print(zone1)\n",
    "# import sys\n",
    "# mod = sys.modules[__name__]\n",
    "# for i in range(1,10):\n",
    "#     for j in range(1,5):\n",
    "#         setattr(mod,'p{j}_{i}'.format(j,i),'zone{i}[zone{i}[\\'Persona\\']==\\'persona{j}\\']]'.format(i,i,j))\n",
    "# print(p4_9)\n",
    "\n",
    "p1_1=zone1[zone1['Persona']=='persona1']\n",
    "p2_1=zone1[zone1['Persona']=='persona2']\n",
    "p3_1=zone1[zone1['Persona']=='persona3']\n",
    "p4_1=zone1[zone1['Persona']=='persona4']\n",
    "p1_2=zone2[zone2['Persona']=='persona1']\n",
    "p2_2=zone2[zone2['Persona']=='persona2']\n",
    "p3_2=zone2[zone2['Persona']=='persona3']\n",
    "p4_2=zone2[zone2['Persona']=='persona4']\n",
    "p1_3=zone3[zone3['Persona']=='persona1']\n",
    "p2_3=zone3[zone3['Persona']=='persona2']\n",
    "p3_3=zone3[zone3['Persona']=='persona3']\n",
    "p4_3=zone3[zone3['Persona']=='persona4']\n",
    "p1_4=zone4[zone4['Persona']=='persona1']\n",
    "p2_4=zone4[zone4['Persona']=='persona2']\n",
    "p3_4=zone4[zone4['Persona']=='persona3']\n",
    "p4_4=zone4[zone4['Persona']=='persona4']\n",
    "p1_5=zone5[zone5['Persona']=='persona1']\n",
    "p2_5=zone5[zone5['Persona']=='persona2']\n",
    "p3_5=zone5[zone5['Persona']=='persona3']\n",
    "p4_5=zone5[zone5['Persona']=='persona4']\n",
    "p1_6=zone6[zone6['Persona']=='persona1']\n",
    "p2_6=zone6[zone6['Persona']=='persona2']\n",
    "p3_6=zone6[zone6['Persona']=='persona3']\n",
    "p4_6=zone6[zone6['Persona']=='persona4']\n",
    "p1_7=zone7[zone7['Persona']=='persona1']\n",
    "p2_7=zone7[zone7['Persona']=='persona2']\n",
    "p3_7=zone7[zone7['Persona']=='persona3']\n",
    "p4_7=zone7[zone7['Persona']=='persona4']\n",
    "p1_8=zone8[zone8['Persona']=='persona1']\n",
    "p2_8=zone8[zone8['Persona']=='persona2']\n",
    "p3_8=zone8[zone8['Persona']=='persona3']\n",
    "p4_8=zone8[zone8['Persona']=='persona4']\n",
    "p1_9=zone9[zone9['Persona']=='persona1']\n",
    "p2_9=zone9[zone9['Persona']=='persona2']\n",
    "p3_9=zone9[zone9['Persona']=='persona3']\n",
    "p4_9=zone9[zone9['Persona']=='persona4']"
   ]
  },
  {
   "cell_type": "code",
   "execution_count": 43,
   "metadata": {
    "tags": []
   },
   "outputs": [
    {
     "output_type": "display_data",
     "data": {
      "application/vnd.plotly.v1+json": {
       "config": {
        "plotlyServerURL": "https://plotly.com"
       },
       "data": [
        {
         "domain": {
          "x": [
           0,
           0.33
          ],
          "y": [
           0,
           0.28
          ]
         },
         "hovertemplate": "%{hovertext}<br>%{value} vote(s)",
         "hovertext": [
          "Type IV",
          "Type I",
          "Type I",
          "Type II",
          "Type IV",
          "Type IV",
          "Type I",
          "Type IV",
          "Type IV",
          "Type IV",
          "Type II",
          "Type III",
          "Type II",
          "Type I",
          "Type IV",
          "Type I",
          "Type III",
          "Type I",
          "Internship",
          "being vulnerable in therapy",
          "being with/around friends",
          "class",
          "finances",
          "future",
          "homework",
          "lab",
          "physical health",
          "presentations",
          "projects",
          "quizzes/exams",
          "work"
         ],
         "ids": [
          "presentations/Type IV",
          "finances/Type I",
          "quizzes/exams/Type I",
          "class/Type II",
          "lab/Type IV",
          "Internship/Type IV",
          "future/Type I",
          "future/Type IV",
          "being vulnerable in therapy/Type IV",
          "class/Type IV",
          "projects/Type II",
          "homework/Type III",
          "presentations/Type II",
          "work/Type I",
          "finances/Type IV",
          "physical health/Type I",
          "presentations/Type III",
          "being with/around friends/Type I",
          "Internship",
          "being vulnerable in therapy",
          "being with/around friends",
          "class",
          "finances",
          "future",
          "homework",
          "lab",
          "physical health",
          "presentations",
          "projects",
          "quizzes/exams",
          "work"
         ],
         "insidetextfont": {
          "color": "#050505"
         },
         "labels": [
          "",
          "",
          "",
          "",
          "",
          "",
          "",
          "",
          "",
          "",
          "",
          "",
          "",
          "",
          "",
          "",
          "",
          "",
          "Internship",
          "being vulnerable in therapy",
          "being with/around friends",
          "class",
          "finances",
          "future",
          "homework",
          "lab",
          "physical health",
          "presentations",
          "projects",
          "quizzes/exams",
          "work"
         ],
         "marker": {
          "colors": [
           "a8c665",
           "#eba092",
           "#eba092",
           "#dccf82",
           "a8c665",
           "a8c665",
           "#eba092",
           "a8c665",
           "a8c665",
           "a8c665",
           "#dccf82",
           "9dd3c8",
           "#dccf82",
           "#eba092",
           "a8c665",
           "#eba092",
           "9dd3c8",
           "#eba092",
           "a8c665",
           "a8c665",
           "#eba092",
           "#bfbfbf",
           "#bfbfbf",
           "#bfbfbf",
           "9dd3c8",
           "a8c665",
           "#eba092",
           "#bfbfbf",
           "#dccf82",
           "#eba092",
           "#eba092"
          ]
         },
         "name": "",
         "opacity": 0.6,
         "parents": [
          "presentations",
          "finances",
          "quizzes/exams",
          "class",
          "lab",
          "Internship",
          "future",
          "future",
          "being vulnerable in therapy",
          "class",
          "projects",
          "homework",
          "presentations",
          "work",
          "finances",
          "physical health",
          "presentations",
          "being with/around friends",
          "",
          "",
          "",
          "",
          "",
          "",
          "",
          "",
          "",
          "",
          "",
          "",
          ""
         ],
         "type": "sunburst",
         "values": [
          1,
          2,
          1,
          1,
          1,
          1,
          1,
          1,
          1,
          1,
          1,
          1,
          1,
          1,
          1,
          1,
          1,
          1,
          1,
          1,
          1,
          2,
          3,
          2,
          1,
          1,
          1,
          3,
          1,
          1,
          1
         ]
        },
        {
         "domain": {
          "x": [
           0.33,
           0.66
          ],
          "y": [
           0,
           0.28
          ]
         },
         "hovertemplate": "%{hovertext}<br>%{value} vote(s)",
         "hovertext": [
          "Type II",
          "Type II",
          "Type III",
          "Type IV",
          "Type I",
          "Type I",
          "Type I",
          "Type II",
          "Type III",
          "Type IV",
          "Type I",
          "Type II",
          "Type II",
          "Type II",
          "Type III",
          "Type IV",
          "family",
          "going to church",
          "health",
          "homework",
          "optional programs",
          "planning",
          "presentations",
          "projects",
          "quizzes/exams",
          "relationship",
          "work",
          "workout"
         ],
         "ids": [
          "health/Type II",
          "projects/Type II",
          "going to church/Type III",
          "presentations/Type IV",
          "planning/Type I",
          "quizzes/exams/Type I",
          "work/Type I",
          "relationship/Type II",
          "projects/Type III",
          "work/Type IV",
          "projects/Type I",
          "family/Type II",
          "workout/Type II",
          "homework/Type II",
          "optional programs/Type III",
          "quizzes/exams/Type IV",
          "family",
          "going to church",
          "health",
          "homework",
          "optional programs",
          "planning",
          "presentations",
          "projects",
          "quizzes/exams",
          "relationship",
          "work",
          "workout"
         ],
         "insidetextfont": {
          "color": "#050505"
         },
         "labels": [
          "",
          "",
          "",
          "",
          "",
          "",
          "",
          "",
          "",
          "",
          "",
          "",
          "",
          "",
          "",
          "",
          "family",
          "going to church",
          "health",
          "homework",
          "optional programs",
          "planning",
          "presentations",
          "projects",
          "quizzes/exams",
          "relationship",
          "work",
          "workout"
         ],
         "marker": {
          "colors": [
           "#dccf82",
           "#dccf82",
           "9dd3c8",
           "a8c665",
           "#eba092",
           "#eba092",
           "#eba092",
           "#dccf82",
           "9dd3c8",
           "a8c665",
           "#eba092",
           "#dccf82",
           "#dccf82",
           "#dccf82",
           "9dd3c8",
           "a8c665",
           "#dccf82",
           "9dd3c8",
           "#dccf82",
           "#dccf82",
           "9dd3c8",
           "#eba092",
           "a8c665",
           "#bfbfbf",
           "#bfbfbf",
           "#dccf82",
           "#bfbfbf",
           "#dccf82"
          ]
         },
         "name": "",
         "opacity": 0.6,
         "parents": [
          "health",
          "projects",
          "going to church",
          "presentations",
          "planning",
          "quizzes/exams",
          "work",
          "relationship",
          "projects",
          "work",
          "projects",
          "family",
          "workout",
          "homework",
          "optional programs",
          "quizzes/exams",
          "",
          "",
          "",
          "",
          "",
          "",
          "",
          "",
          "",
          "",
          "",
          ""
         ],
         "type": "sunburst",
         "values": [
          1,
          1,
          1,
          1,
          1,
          2,
          1,
          2,
          1,
          1,
          1,
          1,
          1,
          1,
          1,
          1,
          1,
          1,
          1,
          1,
          1,
          1,
          1,
          3,
          3,
          2,
          2,
          1
         ]
        },
        {
         "domain": {
          "x": [
           0.66,
           1
          ],
          "y": [
           0,
           0.28
          ]
         },
         "hovertemplate": "%{hovertext}<br>%{value} vote(s)",
         "hovertext": [
          "Type I",
          "Type I",
          "Type III",
          "Type III",
          "Type II",
          "Type II",
          "Type II",
          "Type II",
          "Type IV",
          "Type II",
          "Type IV",
          "Type III",
          "Type IV",
          "Type I",
          "Type I",
          "Type III",
          "Type I",
          "Type I",
          "Type IV",
          "Type II",
          "Type I",
          "Type I",
          "Type I",
          "developing accessible hobbies",
          "group work",
          "health",
          "homework",
          "hygiene",
          "lectures",
          "planning",
          "presentations",
          "quizzes/exams",
          "relationship",
          "sleep",
          "work",
          "writing papers"
         ],
         "ids": [
          "lectures/Type I",
          "planning/Type I",
          "sleep/Type III",
          "homework/Type III",
          "writing papers/Type II",
          "relationship/Type II",
          "homework/Type II",
          "hygiene/Type II",
          "hygiene/Type IV",
          "planning/Type II",
          "developing accessible hobbies/Type IV",
          "quizzes/exams/Type III",
          "presentations/Type IV",
          "sleep/Type I",
          "presentations/Type I",
          "group work/Type III",
          "quizzes/exams/Type I",
          "homework/Type I",
          "homework/Type IV",
          "sleep/Type II",
          "relationship/Type I",
          "work/Type I",
          "health/Type I",
          "developing accessible hobbies",
          "group work",
          "health",
          "homework",
          "hygiene",
          "lectures",
          "planning",
          "presentations",
          "quizzes/exams",
          "relationship",
          "sleep",
          "work",
          "writing papers"
         ],
         "insidetextfont": {
          "color": "#050505"
         },
         "labels": [
          "",
          "",
          "",
          "",
          "",
          "",
          "",
          "",
          "",
          "",
          "",
          "",
          "",
          "",
          "",
          "",
          "",
          "",
          "",
          "",
          "",
          "",
          "",
          "developing accessible hobbies",
          "group work",
          "health",
          "homework",
          "hygiene",
          "lectures",
          "planning",
          "presentations",
          "quizzes/exams",
          "relationship",
          "sleep",
          "work",
          "writing papers"
         ],
         "marker": {
          "colors": [
           "#eba092",
           "#eba092",
           "9dd3c8",
           "9dd3c8",
           "#dccf82",
           "#dccf82",
           "#dccf82",
           "#dccf82",
           "a8c665",
           "#dccf82",
           "a8c665",
           "9dd3c8",
           "a8c665",
           "#eba092",
           "#eba092",
           "9dd3c8",
           "#eba092",
           "#eba092",
           "a8c665",
           "#dccf82",
           "#eba092",
           "#eba092",
           "#eba092",
           "a8c665",
           "9dd3c8",
           "#eba092",
           "#bfbfbf",
           "#bfbfbf",
           "#eba092",
           "#bfbfbf",
           "#bfbfbf",
           "#bfbfbf",
           "#bfbfbf",
           "#bfbfbf",
           "#eba092",
           "#dccf82"
          ]
         },
         "name": "",
         "opacity": 0.6,
         "parents": [
          "lectures",
          "planning",
          "sleep",
          "homework",
          "writing papers",
          "relationship",
          "homework",
          "hygiene",
          "hygiene",
          "planning",
          "developing accessible hobbies",
          "quizzes/exams",
          "presentations",
          "sleep",
          "presentations",
          "group work",
          "quizzes/exams",
          "homework",
          "homework",
          "sleep",
          "relationship",
          "work",
          "health",
          "",
          "",
          "",
          "",
          "",
          "",
          "",
          "",
          "",
          "",
          "",
          "",
          ""
         ],
         "type": "sunburst",
         "values": [
          2,
          1,
          1,
          1,
          1,
          1,
          1,
          1,
          1,
          1,
          1,
          1,
          1,
          2,
          1,
          1,
          2,
          2,
          4,
          1,
          1,
          1,
          3,
          1,
          1,
          3,
          8,
          2,
          2,
          2,
          2,
          3,
          2,
          4,
          1,
          1
         ]
        },
        {
         "domain": {
          "x": [
           0,
           0.33
          ],
          "y": [
           0.33,
           0.61
          ]
         },
         "hovertemplate": "%{hovertext}<br>%{value} vote(s)",
         "hovertext": [
          "Type III",
          "Type I",
          "Type I",
          "Type II",
          "Type II",
          "Type II",
          "Type IV",
          "Type I",
          "Type IV",
          "Type IV",
          "Type III",
          "Type IV",
          "Type I",
          "Type II",
          "Type III",
          "Type IV",
          "Type IV",
          "Type II",
          "Type IV",
          "Type I",
          "Type I",
          "Type IV",
          "Type IV",
          "Family",
          "GPA",
          "Resident Advising",
          "class",
          "health",
          "housing",
          "internship",
          "midterms/finals",
          "optional academic programs",
          "presentations",
          "projects",
          "quizzes/exams",
          "scholarship",
          "socializing",
          "study abroad",
          "when I feel like I don’t have time",
          "writing papers"
         ],
         "ids": [
          "class/Type III",
          "optional academic programs/Type I",
          "presentations/Type I",
          "GPA/Type II",
          "scholarship/Type II",
          "study abroad/Type II",
          "scholarship/Type IV",
          "midterms/finals/Type I",
          "projects/Type IV",
          "class/Type IV",
          "internship/Type III",
          "quizzes/exams/Type IV",
          "health/Type I",
          "presentations/Type II",
          "socializing/Type III",
          "Family/Type IV",
          "Resident Advising/Type IV",
          "socializing/Type II",
          "midterms/finals/Type IV",
          "internship/Type I",
          "housing/Type I",
          "when I feel like I don’t have time/Type IV",
          "writing papers/Type IV",
          "Family",
          "GPA",
          "Resident Advising",
          "class",
          "health",
          "housing",
          "internship",
          "midterms/finals",
          "optional academic programs",
          "presentations",
          "projects",
          "quizzes/exams",
          "scholarship",
          "socializing",
          "study abroad",
          "when I feel like I don’t have time",
          "writing papers"
         ],
         "insidetextfont": {
          "color": "#050505"
         },
         "labels": [
          "",
          "",
          "",
          "",
          "",
          "",
          "",
          "",
          "",
          "",
          "",
          "",
          "",
          "",
          "",
          "",
          "",
          "",
          "",
          "",
          "",
          "",
          "",
          "Family",
          "GPA",
          "Resident Advising",
          "class",
          "health",
          "housing",
          "internship",
          "midterms/finals",
          "optional academic programs",
          "presentations",
          "projects",
          "quizzes/exams",
          "scholarship",
          "socializing",
          "study abroad",
          "when I feel like I don’t have time",
          "writing papers"
         ],
         "marker": {
          "colors": [
           "9dd3c8",
           "#eba092",
           "#eba092",
           "#dccf82",
           "#dccf82",
           "#dccf82",
           "a8c665",
           "#eba092",
           "a8c665",
           "a8c665",
           "9dd3c8",
           "a8c665",
           "#eba092",
           "#dccf82",
           "9dd3c8",
           "a8c665",
           "a8c665",
           "#dccf82",
           "a8c665",
           "#eba092",
           "#eba092",
           "a8c665",
           "a8c665",
           "a8c665",
           "#dccf82",
           "a8c665",
           "#bfbfbf",
           "#eba092",
           "#eba092",
           "#bfbfbf",
           "#bfbfbf",
           "#eba092",
           "#bfbfbf",
           "a8c665",
           "a8c665",
           "#bfbfbf",
           "#bfbfbf",
           "#dccf82",
           "a8c665",
           "a8c665"
          ]
         },
         "name": "",
         "opacity": 0.6,
         "parents": [
          "class",
          "optional academic programs",
          "presentations",
          "GPA",
          "scholarship",
          "study abroad",
          "scholarship",
          "midterms/finals",
          "projects",
          "class",
          "internship",
          "quizzes/exams",
          "health",
          "presentations",
          "socializing",
          "Family",
          "Resident Advising",
          "socializing",
          "midterms/finals",
          "internship",
          "housing",
          "when I feel like I don’t have time",
          "writing papers",
          "",
          "",
          "",
          "",
          "",
          "",
          "",
          "",
          "",
          "",
          "",
          "",
          "",
          "",
          "",
          "",
          ""
         ],
         "type": "sunburst",
         "values": [
          1,
          1,
          2,
          1,
          1,
          1,
          1,
          1,
          1,
          1,
          1,
          1,
          1,
          2,
          1,
          1,
          1,
          1,
          1,
          1,
          1,
          1,
          1,
          1,
          1,
          1,
          2,
          1,
          1,
          2,
          2,
          1,
          4,
          1,
          1,
          2,
          2,
          1,
          1,
          1
         ]
        },
        {
         "domain": {
          "x": [
           0.33,
           0.66
          ],
          "y": [
           0.33,
           0.61
          ]
         },
         "hovertemplate": "%{hovertext}<br>%{value} vote(s)",
         "hovertext": [
          "Type II",
          "Type IV",
          "Type III",
          "Type III",
          "Type III",
          "Type II",
          "Type II",
          "Type I",
          "Type I",
          "Type IV",
          "Type I",
          "Type I",
          "Type III",
          "Type I",
          "Type I",
          "Type I",
          "Type I",
          "Type I",
          "Type IV",
          "Type I",
          "Type IV",
          "Type IV",
          "Type I",
          "Type I",
          "Type IV",
          "Type II",
          "Type III",
          "body image",
          "class",
          "family",
          "finances",
          "future",
          "group work",
          "health ",
          "homework",
          "internships",
          "job and career",
          "lab",
          "midterms/finals",
          "optional academic programs",
          "presentations",
          "projects",
          "quizzes/exams",
          "relationship",
          "socializing",
          "study abroad"
         ],
         "ids": [
          "finances/Type II",
          "group work/Type IV",
          "quizzes/exams/Type III",
          "family/Type III",
          "class/Type III",
          "homework/Type II",
          "body image/Type II",
          "study abroad/Type I",
          "relationship/Type I",
          "socializing/Type IV",
          "projects/Type I",
          "internships/Type I",
          "relationship/Type III",
          "quizzes/exams/Type I",
          "lab/Type I",
          "family/Type I",
          "midterms/finals/Type I",
          "job and career/Type I",
          "future/Type IV",
          "health /Type I",
          "optional academic programs/Type IV",
          "relationship/Type IV",
          "optional academic programs/Type I",
          "presentations/Type I",
          "projects/Type IV",
          "quizzes/exams/Type II",
          "finances/Type III",
          "body image",
          "class",
          "family",
          "finances",
          "future",
          "group work",
          "health ",
          "homework",
          "internships",
          "job and career",
          "lab",
          "midterms/finals",
          "optional academic programs",
          "presentations",
          "projects",
          "quizzes/exams",
          "relationship",
          "socializing",
          "study abroad"
         ],
         "insidetextfont": {
          "color": "#050505"
         },
         "labels": [
          "",
          "",
          "",
          "",
          "",
          "",
          "",
          "",
          "",
          "",
          "",
          "",
          "",
          "",
          "",
          "",
          "",
          "",
          "",
          "",
          "",
          "",
          "",
          "",
          "",
          "",
          "",
          "body image",
          "class",
          "family",
          "finances",
          "future",
          "group work",
          "health ",
          "homework",
          "internships",
          "job and career",
          "lab",
          "midterms/finals",
          "optional academic programs",
          "presentations",
          "projects",
          "quizzes/exams",
          "relationship",
          "socializing",
          "study abroad"
         ],
         "marker": {
          "colors": [
           "#dccf82",
           "a8c665",
           "9dd3c8",
           "9dd3c8",
           "9dd3c8",
           "#dccf82",
           "#dccf82",
           "#eba092",
           "#eba092",
           "a8c665",
           "#eba092",
           "#eba092",
           "9dd3c8",
           "#eba092",
           "#eba092",
           "#eba092",
           "#eba092",
           "#eba092",
           "a8c665",
           "#eba092",
           "a8c665",
           "a8c665",
           "#eba092",
           "#eba092",
           "a8c665",
           "#dccf82",
           "9dd3c8",
           "#dccf82",
           "9dd3c8",
           "#bfbfbf",
           "#bfbfbf",
           "a8c665",
           "a8c665",
           "#eba092",
           "#dccf82",
           "#eba092",
           "#eba092",
           "#eba092",
           "#eba092",
           "#bfbfbf",
           "#eba092",
           "#bfbfbf",
           "#bfbfbf",
           "#bfbfbf",
           "a8c665",
           "#eba092"
          ]
         },
         "name": "",
         "opacity": 0.6,
         "parents": [
          "finances",
          "group work",
          "quizzes/exams",
          "family",
          "class",
          "homework",
          "body image",
          "study abroad",
          "relationship",
          "socializing",
          "projects",
          "internships",
          "relationship",
          "quizzes/exams",
          "lab",
          "family",
          "midterms/finals",
          "job and career",
          "future",
          "health ",
          "optional academic programs",
          "relationship",
          "optional academic programs",
          "presentations",
          "projects",
          "quizzes/exams",
          "finances",
          "",
          "",
          "",
          "",
          "",
          "",
          "",
          "",
          "",
          "",
          "",
          "",
          "",
          "",
          "",
          "",
          "",
          "",
          ""
         ],
         "type": "sunburst",
         "values": [
          1,
          1,
          1,
          1,
          1,
          1,
          1,
          1,
          1,
          1,
          1,
          1,
          2,
          2,
          1,
          1,
          2,
          1,
          1,
          1,
          2,
          1,
          1,
          1,
          1,
          4,
          1,
          1,
          1,
          2,
          2,
          1,
          1,
          1,
          1,
          1,
          1,
          1,
          2,
          3,
          1,
          2,
          7,
          4,
          1,
          1
         ]
        },
        {
         "domain": {
          "x": [
           0.66,
           1
          ],
          "y": [
           0.33,
           0.61
          ]
         },
         "hovertemplate": "%{hovertext}<br>%{value} vote(s)",
         "hovertext": [
          "Type I",
          "Type IV",
          "Type I",
          "Type II",
          "Type III",
          "Type III",
          "Type I",
          "Type II",
          "Type IV",
          "Type IV",
          "Type III",
          "Type I",
          "Type IV",
          "Type II",
          "Type II",
          "Type III",
          "Type II",
          "Type I",
          "Type I",
          "Type III",
          "Type IV",
          "class",
          "finance",
          "future",
          "homework",
          "hygiene ",
          "lectures",
          "physical health",
          "presentations",
          "projects",
          "quizzes/exams",
          "relationship",
          "work"
         ],
         "ids": [
          "class/Type I",
          "lectures/Type IV",
          "relationship/Type I",
          "quizzes/exams/Type II",
          "future/Type III",
          "presentations/Type III",
          "homework/Type I",
          "finance/Type II",
          "physical health/Type IV",
          "finance/Type IV",
          "quizzes/exams/Type III",
          "physical health/Type I",
          "future/Type IV",
          "homework/Type II",
          "projects/Type II",
          "hygiene /Type III",
          "work/Type II",
          "projects/Type I",
          "lectures/Type I",
          "homework/Type III",
          "work/Type IV",
          "class",
          "finance",
          "future",
          "homework",
          "hygiene ",
          "lectures",
          "physical health",
          "presentations",
          "projects",
          "quizzes/exams",
          "relationship",
          "work"
         ],
         "insidetextfont": {
          "color": "#050505"
         },
         "labels": [
          "",
          "",
          "",
          "",
          "",
          "",
          "",
          "",
          "",
          "",
          "",
          "",
          "",
          "",
          "",
          "",
          "",
          "",
          "",
          "",
          "",
          "class",
          "finance",
          "future",
          "homework",
          "hygiene ",
          "lectures",
          "physical health",
          "presentations",
          "projects",
          "quizzes/exams",
          "relationship",
          "work"
         ],
         "marker": {
          "colors": [
           "#eba092",
           "a8c665",
           "#eba092",
           "#dccf82",
           "9dd3c8",
           "9dd3c8",
           "#eba092",
           "#dccf82",
           "a8c665",
           "a8c665",
           "9dd3c8",
           "#eba092",
           "a8c665",
           "#dccf82",
           "#dccf82",
           "9dd3c8",
           "#dccf82",
           "#eba092",
           "#eba092",
           "9dd3c8",
           "a8c665",
           "#eba092",
           "#bfbfbf",
           "#bfbfbf",
           "#bfbfbf",
           "9dd3c8",
           "#bfbfbf",
           "#bfbfbf",
           "9dd3c8",
           "#bfbfbf",
           "#bfbfbf",
           "#eba092",
           "#bfbfbf"
          ]
         },
         "name": "",
         "opacity": 0.6,
         "parents": [
          "class",
          "lectures",
          "relationship",
          "quizzes/exams",
          "future",
          "presentations",
          "homework",
          "finance",
          "physical health",
          "finance",
          "quizzes/exams",
          "physical health",
          "future",
          "homework",
          "projects",
          "hygiene ",
          "work",
          "projects",
          "lectures",
          "homework",
          "work",
          "",
          "",
          "",
          "",
          "",
          "",
          "",
          "",
          "",
          "",
          "",
          ""
         ],
         "type": "sunburst",
         "values": [
          1,
          1,
          1,
          2,
          1,
          1,
          3,
          1,
          1,
          1,
          1,
          1,
          1,
          2,
          1,
          1,
          2,
          2,
          1,
          1,
          1,
          1,
          2,
          2,
          6,
          1,
          2,
          2,
          1,
          3,
          3,
          1,
          3
         ]
        },
        {
         "domain": {
          "x": [
           0,
           0.33
          ],
          "y": [
           0.66,
           0.95
          ]
         },
         "hovertemplate": "%{hovertext}<br>%{value} vote(s)",
         "hovertext": [
          "Type I",
          "Type II",
          "Type II",
          "Type I",
          "Type IV",
          "Type I",
          "Type I",
          "Type III",
          "Type I",
          "Type III",
          "Type III",
          "Type II",
          "Type I",
          "Type III",
          "Type III",
          "Type II",
          "Type II",
          "GPA",
          "future",
          "group work",
          "internship and job search ",
          "midterm/final",
          "physical health",
          "presentations",
          "projects",
          "quizzes/exams",
          "relationship",
          "talking to teachers"
         ],
         "ids": [
          "future/Type I",
          "relationship/Type II",
          "quizzes/exams/Type II",
          "projects/Type I",
          "midterm/final/Type IV",
          "presentations/Type I",
          "talking to teachers/Type I",
          "quizzes/exams/Type III",
          "internship and job search /Type I",
          "group work/Type III",
          "physical health/Type III",
          "GPA/Type II",
          "midterm/final/Type I",
          "midterm/final/Type III",
          "projects/Type III",
          "projects/Type II",
          "midterm/final/Type II",
          "GPA",
          "future",
          "group work",
          "internship and job search ",
          "midterm/final",
          "physical health",
          "presentations",
          "projects",
          "quizzes/exams",
          "relationship",
          "talking to teachers"
         ],
         "insidetextfont": {
          "color": "#050505"
         },
         "labels": [
          "",
          "",
          "",
          "",
          "",
          "",
          "",
          "",
          "",
          "",
          "",
          "",
          "",
          "",
          "",
          "",
          "",
          "GPA",
          "future",
          "group work",
          "internship and job search ",
          "midterm/final",
          "physical health",
          "presentations",
          "projects",
          "quizzes/exams",
          "relationship",
          "talking to teachers"
         ],
         "marker": {
          "colors": [
           "#eba092",
           "#dccf82",
           "#dccf82",
           "#eba092",
           "a8c665",
           "#eba092",
           "#eba092",
           "9dd3c8",
           "#eba092",
           "9dd3c8",
           "9dd3c8",
           "#dccf82",
           "#eba092",
           "9dd3c8",
           "9dd3c8",
           "#dccf82",
           "#dccf82",
           "#dccf82",
           "#eba092",
           "9dd3c8",
           "#eba092",
           "#bfbfbf",
           "9dd3c8",
           "#eba092",
           "#bfbfbf",
           "#bfbfbf",
           "#dccf82",
           "#eba092"
          ]
         },
         "name": "",
         "opacity": 0.6,
         "parents": [
          "future",
          "relationship",
          "quizzes/exams",
          "projects",
          "midterm/final",
          "presentations",
          "talking to teachers",
          "quizzes/exams",
          "internship and job search ",
          "group work",
          "physical health",
          "GPA",
          "midterm/final",
          "midterm/final",
          "projects",
          "projects",
          "midterm/final",
          "",
          "",
          "",
          "",
          "",
          "",
          "",
          "",
          "",
          "",
          ""
         ],
         "type": "sunburst",
         "values": [
          1,
          1,
          1,
          1,
          1,
          1,
          1,
          1,
          1,
          1,
          1,
          1,
          2,
          2,
          1,
          1,
          4,
          1,
          1,
          1,
          1,
          9,
          1,
          1,
          3,
          2,
          1,
          1
         ]
        },
        {
         "domain": {
          "x": [
           0.33,
           0.66
          ],
          "y": [
           0.66,
           0.95
          ]
         },
         "hovertemplate": "%{hovertext}<br>%{value} vote(s)",
         "hovertext": [
          "Type I",
          "Type I",
          "Type I",
          "Type II",
          "Type II",
          "Type III",
          "Type IV",
          "Type I",
          "Type I",
          "Type III",
          "Type I",
          "Type III",
          "Type III",
          "Type IV",
          "Type I",
          "Type II",
          "GPA",
          "body image",
          "compounding stress",
          "finances",
          "future",
          "health",
          "homework",
          "mean classmates",
          "mental health",
          "midterms/finals",
          "projects",
          "quizzes/exams"
         ],
         "ids": [
          "GPA/Type I",
          "mean classmates/Type I",
          "midterms/finals/Type I",
          "health/Type II",
          "midterms/finals/Type II",
          "projects/Type III",
          "compounding stress/Type IV",
          "projects/Type I",
          "quizzes/exams/Type I",
          "finances/Type III",
          "future/Type I",
          "midterms/finals/Type III",
          "quizzes/exams/Type III",
          "mental health/Type IV",
          "body image/Type I",
          "homework/Type II",
          "GPA",
          "body image",
          "compounding stress",
          "finances",
          "future",
          "health",
          "homework",
          "mean classmates",
          "mental health",
          "midterms/finals",
          "projects",
          "quizzes/exams"
         ],
         "insidetextfont": {
          "color": "#050505"
         },
         "labels": [
          "",
          "",
          "",
          "",
          "",
          "",
          "",
          "",
          "",
          "",
          "",
          "",
          "",
          "",
          "",
          "",
          "GPA",
          "body image",
          "compounding stress",
          "finances",
          "future",
          "health",
          "homework",
          "mean classmates",
          "mental health",
          "midterms/finals",
          "projects",
          "quizzes/exams"
         ],
         "marker": {
          "colors": [
           "#eba092",
           "#eba092",
           "#eba092",
           "#dccf82",
           "#dccf82",
           "9dd3c8",
           "a8c665",
           "#eba092",
           "#eba092",
           "9dd3c8",
           "#eba092",
           "9dd3c8",
           "9dd3c8",
           "a8c665",
           "#eba092",
           "#dccf82",
           "#eba092",
           "#eba092",
           "a8c665",
           "9dd3c8",
           "#eba092",
           "#dccf82",
           "#dccf82",
           "#eba092",
           "a8c665",
           "#bfbfbf",
           "#bfbfbf",
           "#bfbfbf"
          ]
         },
         "name": "",
         "opacity": 0.6,
         "parents": [
          "GPA",
          "mean classmates",
          "midterms/finals",
          "health",
          "midterms/finals",
          "projects",
          "compounding stress",
          "projects",
          "quizzes/exams",
          "finances",
          "future",
          "midterms/finals",
          "quizzes/exams",
          "mental health",
          "body image",
          "homework",
          "",
          "",
          "",
          "",
          "",
          "",
          "",
          "",
          "",
          "",
          "",
          ""
         ],
         "type": "sunburst",
         "values": [
          1,
          1,
          3,
          1,
          2,
          1,
          1,
          2,
          3,
          1,
          2,
          1,
          1,
          1,
          1,
          1,
          1,
          1,
          1,
          1,
          2,
          1,
          1,
          1,
          1,
          6,
          3,
          4
         ]
        },
        {
         "domain": {
          "x": [
           0.66,
           1
          ],
          "y": [
           0.66,
           0.95
          ]
         },
         "hovertemplate": "%{hovertext}<br>%{value} vote(s)",
         "hovertext": [
          "Type I",
          "Type I",
          "Type I",
          "Type III",
          "Type I",
          "Type III",
          "Type I",
          "Type II",
          "Type IV",
          "Type II",
          "Type III",
          "Type III",
          "Type III",
          "Type II",
          "Type II",
          "Type I",
          "Type II",
          "Type I",
          "Type III",
          "Type I",
          "Type I",
          "Type III",
          "Type II",
          "Type IV",
          "Type I",
          "Type III",
          "class",
          "family",
          "finances",
          "future",
          "group projects",
          "health",
          "homework",
          "loss of parents",
          "mental health",
          "planning",
          "projects",
          "quizzes/exams",
          "relationships",
          "socializing",
          "work"
         ],
         "ids": [
          "class/Type I",
          "finances/Type I",
          "future/Type I",
          "homework/Type III",
          "health/Type I",
          "group projects/Type III",
          "socializing/Type I",
          "health/Type II",
          "future/Type IV",
          "loss of parents/Type II",
          "mental health/Type III",
          "finances/Type III",
          "class/Type III",
          "mental health/Type II",
          "homework/Type II",
          "homework/Type I",
          "quizzes/exams/Type II",
          "planning/Type I",
          "future/Type III",
          "group projects/Type I",
          "family/Type I",
          "relationships/Type III",
          "future/Type II",
          "relationships/Type IV",
          "projects/Type I",
          "work/Type III",
          "class",
          "family",
          "finances",
          "future",
          "group projects",
          "health",
          "homework",
          "loss of parents",
          "mental health",
          "planning",
          "projects",
          "quizzes/exams",
          "relationships",
          "socializing",
          "work"
         ],
         "insidetextfont": {
          "color": "#050505"
         },
         "labels": [
          "",
          "",
          "",
          "",
          "",
          "",
          "",
          "",
          "",
          "",
          "",
          "",
          "",
          "",
          "",
          "",
          "",
          "",
          "",
          "",
          "",
          "",
          "",
          "",
          "",
          "",
          "class",
          "family",
          "finances",
          "future",
          "group projects",
          "health",
          "homework",
          "loss of parents",
          "mental health",
          "planning",
          "projects",
          "quizzes/exams",
          "relationships",
          "socializing",
          "work"
         ],
         "marker": {
          "colors": [
           "#eba092",
           "#eba092",
           "#eba092",
           "9dd3c8",
           "#eba092",
           "9dd3c8",
           "#eba092",
           "#dccf82",
           "a8c665",
           "#dccf82",
           "9dd3c8",
           "9dd3c8",
           "9dd3c8",
           "#dccf82",
           "#dccf82",
           "#eba092",
           "#dccf82",
           "#eba092",
           "9dd3c8",
           "#eba092",
           "#eba092",
           "9dd3c8",
           "#dccf82",
           "a8c665",
           "#eba092",
           "9dd3c8",
           "#bfbfbf",
           "#eba092",
           "#bfbfbf",
           "#bfbfbf",
           "#bfbfbf",
           "#bfbfbf",
           "#bfbfbf",
           "#dccf82",
           "#bfbfbf",
           "#eba092",
           "#eba092",
           "#dccf82",
           "#bfbfbf",
           "#eba092",
           "9dd3c8"
          ]
         },
         "name": "",
         "opacity": 0.6,
         "parents": [
          "class",
          "finances",
          "future",
          "homework",
          "health",
          "group projects",
          "socializing",
          "health",
          "future",
          "loss of parents",
          "mental health",
          "finances",
          "class",
          "mental health",
          "homework",
          "homework",
          "quizzes/exams",
          "planning",
          "future",
          "group projects",
          "family",
          "relationships",
          "future",
          "relationships",
          "projects",
          "work",
          "",
          "",
          "",
          "",
          "",
          "",
          "",
          "",
          "",
          "",
          "",
          "",
          "",
          "",
          ""
         ],
         "type": "sunburst",
         "values": [
          1,
          1,
          2,
          2,
          1,
          1,
          1,
          1,
          1,
          1,
          2,
          1,
          1,
          1,
          1,
          1,
          1,
          1,
          3,
          2,
          1,
          1,
          1,
          1,
          1,
          1,
          2,
          1,
          2,
          7,
          3,
          2,
          4,
          1,
          3,
          1,
          1,
          1,
          2,
          1,
          1
         ]
        }
       ],
       "layout": {
        "autosize": true,
        "height": 800,
        "images": [
         {
          "layer": "below",
          "sizex": 1,
          "sizey": 1.15,
          "source": "https://raw.githubusercontent.com/brianzy/ploty-project/master/pic/axes_bg.png",
          "x": -0.03,
          "xref": "paper",
          "y": 1,
          "yref": "paper"
         }
        ],
        "template": {
         "data": {
          "bar": [
           {
            "error_x": {
             "color": "#2a3f5f"
            },
            "error_y": {
             "color": "#2a3f5f"
            },
            "marker": {
             "line": {
              "color": "#E5ECF6",
              "width": 0.5
             }
            },
            "type": "bar"
           }
          ],
          "barpolar": [
           {
            "marker": {
             "line": {
              "color": "#E5ECF6",
              "width": 0.5
             }
            },
            "type": "barpolar"
           }
          ],
          "carpet": [
           {
            "aaxis": {
             "endlinecolor": "#2a3f5f",
             "gridcolor": "white",
             "linecolor": "white",
             "minorgridcolor": "white",
             "startlinecolor": "#2a3f5f"
            },
            "baxis": {
             "endlinecolor": "#2a3f5f",
             "gridcolor": "white",
             "linecolor": "white",
             "minorgridcolor": "white",
             "startlinecolor": "#2a3f5f"
            },
            "type": "carpet"
           }
          ],
          "choropleth": [
           {
            "colorbar": {
             "outlinewidth": 0,
             "ticks": ""
            },
            "type": "choropleth"
           }
          ],
          "contour": [
           {
            "colorbar": {
             "outlinewidth": 0,
             "ticks": ""
            },
            "colorscale": [
             [
              0,
              "#0d0887"
             ],
             [
              0.1111111111111111,
              "#46039f"
             ],
             [
              0.2222222222222222,
              "#7201a8"
             ],
             [
              0.3333333333333333,
              "#9c179e"
             ],
             [
              0.4444444444444444,
              "#bd3786"
             ],
             [
              0.5555555555555556,
              "#d8576b"
             ],
             [
              0.6666666666666666,
              "#ed7953"
             ],
             [
              0.7777777777777778,
              "#fb9f3a"
             ],
             [
              0.8888888888888888,
              "#fdca26"
             ],
             [
              1,
              "#f0f921"
             ]
            ],
            "type": "contour"
           }
          ],
          "contourcarpet": [
           {
            "colorbar": {
             "outlinewidth": 0,
             "ticks": ""
            },
            "type": "contourcarpet"
           }
          ],
          "heatmap": [
           {
            "colorbar": {
             "outlinewidth": 0,
             "ticks": ""
            },
            "colorscale": [
             [
              0,
              "#0d0887"
             ],
             [
              0.1111111111111111,
              "#46039f"
             ],
             [
              0.2222222222222222,
              "#7201a8"
             ],
             [
              0.3333333333333333,
              "#9c179e"
             ],
             [
              0.4444444444444444,
              "#bd3786"
             ],
             [
              0.5555555555555556,
              "#d8576b"
             ],
             [
              0.6666666666666666,
              "#ed7953"
             ],
             [
              0.7777777777777778,
              "#fb9f3a"
             ],
             [
              0.8888888888888888,
              "#fdca26"
             ],
             [
              1,
              "#f0f921"
             ]
            ],
            "type": "heatmap"
           }
          ],
          "heatmapgl": [
           {
            "colorbar": {
             "outlinewidth": 0,
             "ticks": ""
            },
            "colorscale": [
             [
              0,
              "#0d0887"
             ],
             [
              0.1111111111111111,
              "#46039f"
             ],
             [
              0.2222222222222222,
              "#7201a8"
             ],
             [
              0.3333333333333333,
              "#9c179e"
             ],
             [
              0.4444444444444444,
              "#bd3786"
             ],
             [
              0.5555555555555556,
              "#d8576b"
             ],
             [
              0.6666666666666666,
              "#ed7953"
             ],
             [
              0.7777777777777778,
              "#fb9f3a"
             ],
             [
              0.8888888888888888,
              "#fdca26"
             ],
             [
              1,
              "#f0f921"
             ]
            ],
            "type": "heatmapgl"
           }
          ],
          "histogram": [
           {
            "marker": {
             "colorbar": {
              "outlinewidth": 0,
              "ticks": ""
             }
            },
            "type": "histogram"
           }
          ],
          "histogram2d": [
           {
            "colorbar": {
             "outlinewidth": 0,
             "ticks": ""
            },
            "colorscale": [
             [
              0,
              "#0d0887"
             ],
             [
              0.1111111111111111,
              "#46039f"
             ],
             [
              0.2222222222222222,
              "#7201a8"
             ],
             [
              0.3333333333333333,
              "#9c179e"
             ],
             [
              0.4444444444444444,
              "#bd3786"
             ],
             [
              0.5555555555555556,
              "#d8576b"
             ],
             [
              0.6666666666666666,
              "#ed7953"
             ],
             [
              0.7777777777777778,
              "#fb9f3a"
             ],
             [
              0.8888888888888888,
              "#fdca26"
             ],
             [
              1,
              "#f0f921"
             ]
            ],
            "type": "histogram2d"
           }
          ],
          "histogram2dcontour": [
           {
            "colorbar": {
             "outlinewidth": 0,
             "ticks": ""
            },
            "colorscale": [
             [
              0,
              "#0d0887"
             ],
             [
              0.1111111111111111,
              "#46039f"
             ],
             [
              0.2222222222222222,
              "#7201a8"
             ],
             [
              0.3333333333333333,
              "#9c179e"
             ],
             [
              0.4444444444444444,
              "#bd3786"
             ],
             [
              0.5555555555555556,
              "#d8576b"
             ],
             [
              0.6666666666666666,
              "#ed7953"
             ],
             [
              0.7777777777777778,
              "#fb9f3a"
             ],
             [
              0.8888888888888888,
              "#fdca26"
             ],
             [
              1,
              "#f0f921"
             ]
            ],
            "type": "histogram2dcontour"
           }
          ],
          "mesh3d": [
           {
            "colorbar": {
             "outlinewidth": 0,
             "ticks": ""
            },
            "type": "mesh3d"
           }
          ],
          "parcoords": [
           {
            "line": {
             "colorbar": {
              "outlinewidth": 0,
              "ticks": ""
             }
            },
            "type": "parcoords"
           }
          ],
          "pie": [
           {
            "automargin": true,
            "type": "pie"
           }
          ],
          "scatter": [
           {
            "marker": {
             "colorbar": {
              "outlinewidth": 0,
              "ticks": ""
             }
            },
            "type": "scatter"
           }
          ],
          "scatter3d": [
           {
            "line": {
             "colorbar": {
              "outlinewidth": 0,
              "ticks": ""
             }
            },
            "marker": {
             "colorbar": {
              "outlinewidth": 0,
              "ticks": ""
             }
            },
            "type": "scatter3d"
           }
          ],
          "scattercarpet": [
           {
            "marker": {
             "colorbar": {
              "outlinewidth": 0,
              "ticks": ""
             }
            },
            "type": "scattercarpet"
           }
          ],
          "scattergeo": [
           {
            "marker": {
             "colorbar": {
              "outlinewidth": 0,
              "ticks": ""
             }
            },
            "type": "scattergeo"
           }
          ],
          "scattergl": [
           {
            "marker": {
             "colorbar": {
              "outlinewidth": 0,
              "ticks": ""
             }
            },
            "type": "scattergl"
           }
          ],
          "scattermapbox": [
           {
            "marker": {
             "colorbar": {
              "outlinewidth": 0,
              "ticks": ""
             }
            },
            "type": "scattermapbox"
           }
          ],
          "scatterpolar": [
           {
            "marker": {
             "colorbar": {
              "outlinewidth": 0,
              "ticks": ""
             }
            },
            "type": "scatterpolar"
           }
          ],
          "scatterpolargl": [
           {
            "marker": {
             "colorbar": {
              "outlinewidth": 0,
              "ticks": ""
             }
            },
            "type": "scatterpolargl"
           }
          ],
          "scatterternary": [
           {
            "marker": {
             "colorbar": {
              "outlinewidth": 0,
              "ticks": ""
             }
            },
            "type": "scatterternary"
           }
          ],
          "surface": [
           {
            "colorbar": {
             "outlinewidth": 0,
             "ticks": ""
            },
            "colorscale": [
             [
              0,
              "#0d0887"
             ],
             [
              0.1111111111111111,
              "#46039f"
             ],
             [
              0.2222222222222222,
              "#7201a8"
             ],
             [
              0.3333333333333333,
              "#9c179e"
             ],
             [
              0.4444444444444444,
              "#bd3786"
             ],
             [
              0.5555555555555556,
              "#d8576b"
             ],
             [
              0.6666666666666666,
              "#ed7953"
             ],
             [
              0.7777777777777778,
              "#fb9f3a"
             ],
             [
              0.8888888888888888,
              "#fdca26"
             ],
             [
              1,
              "#f0f921"
             ]
            ],
            "type": "surface"
           }
          ],
          "table": [
           {
            "cells": {
             "fill": {
              "color": "#EBF0F8"
             },
             "line": {
              "color": "white"
             }
            },
            "header": {
             "fill": {
              "color": "#C8D4E3"
             },
             "line": {
              "color": "white"
             }
            },
            "type": "table"
           }
          ]
         },
         "layout": {
          "annotationdefaults": {
           "arrowcolor": "#2a3f5f",
           "arrowhead": 0,
           "arrowwidth": 1
          },
          "coloraxis": {
           "colorbar": {
            "outlinewidth": 0,
            "ticks": ""
           }
          },
          "colorscale": {
           "diverging": [
            [
             0,
             "#8e0152"
            ],
            [
             0.1,
             "#c51b7d"
            ],
            [
             0.2,
             "#de77ae"
            ],
            [
             0.3,
             "#f1b6da"
            ],
            [
             0.4,
             "#fde0ef"
            ],
            [
             0.5,
             "#f7f7f7"
            ],
            [
             0.6,
             "#e6f5d0"
            ],
            [
             0.7,
             "#b8e186"
            ],
            [
             0.8,
             "#7fbc41"
            ],
            [
             0.9,
             "#4d9221"
            ],
            [
             1,
             "#276419"
            ]
           ],
           "sequential": [
            [
             0,
             "#0d0887"
            ],
            [
             0.1111111111111111,
             "#46039f"
            ],
            [
             0.2222222222222222,
             "#7201a8"
            ],
            [
             0.3333333333333333,
             "#9c179e"
            ],
            [
             0.4444444444444444,
             "#bd3786"
            ],
            [
             0.5555555555555556,
             "#d8576b"
            ],
            [
             0.6666666666666666,
             "#ed7953"
            ],
            [
             0.7777777777777778,
             "#fb9f3a"
            ],
            [
             0.8888888888888888,
             "#fdca26"
            ],
            [
             1,
             "#f0f921"
            ]
           ],
           "sequentialminus": [
            [
             0,
             "#0d0887"
            ],
            [
             0.1111111111111111,
             "#46039f"
            ],
            [
             0.2222222222222222,
             "#7201a8"
            ],
            [
             0.3333333333333333,
             "#9c179e"
            ],
            [
             0.4444444444444444,
             "#bd3786"
            ],
            [
             0.5555555555555556,
             "#d8576b"
            ],
            [
             0.6666666666666666,
             "#ed7953"
            ],
            [
             0.7777777777777778,
             "#fb9f3a"
            ],
            [
             0.8888888888888888,
             "#fdca26"
            ],
            [
             1,
             "#f0f921"
            ]
           ]
          },
          "colorway": [
           "#636efa",
           "#EF553B",
           "#00cc96",
           "#ab63fa",
           "#FFA15A",
           "#19d3f3",
           "#FF6692",
           "#B6E880",
           "#FF97FF",
           "#FECB52"
          ],
          "font": {
           "color": "#2a3f5f"
          },
          "geo": {
           "bgcolor": "white",
           "lakecolor": "white",
           "landcolor": "#E5ECF6",
           "showlakes": true,
           "showland": true,
           "subunitcolor": "white"
          },
          "hoverlabel": {
           "align": "left"
          },
          "hovermode": "closest",
          "mapbox": {
           "style": "light"
          },
          "paper_bgcolor": "white",
          "plot_bgcolor": "#E5ECF6",
          "polar": {
           "angularaxis": {
            "gridcolor": "white",
            "linecolor": "white",
            "ticks": ""
           },
           "bgcolor": "#E5ECF6",
           "radialaxis": {
            "gridcolor": "white",
            "linecolor": "white",
            "ticks": ""
           }
          },
          "scene": {
           "xaxis": {
            "backgroundcolor": "#E5ECF6",
            "gridcolor": "white",
            "gridwidth": 2,
            "linecolor": "white",
            "showbackground": true,
            "ticks": "",
            "zerolinecolor": "white"
           },
           "yaxis": {
            "backgroundcolor": "#E5ECF6",
            "gridcolor": "white",
            "gridwidth": 2,
            "linecolor": "white",
            "showbackground": true,
            "ticks": "",
            "zerolinecolor": "white"
           },
           "zaxis": {
            "backgroundcolor": "#E5ECF6",
            "gridcolor": "white",
            "gridwidth": 2,
            "linecolor": "white",
            "showbackground": true,
            "ticks": "",
            "zerolinecolor": "white"
           }
          },
          "shapedefaults": {
           "line": {
            "color": "#2a3f5f"
           }
          },
          "ternary": {
           "aaxis": {
            "gridcolor": "white",
            "linecolor": "white",
            "ticks": ""
           },
           "baxis": {
            "gridcolor": "white",
            "linecolor": "white",
            "ticks": ""
           },
           "bgcolor": "#E5ECF6",
           "caxis": {
            "gridcolor": "white",
            "linecolor": "white",
            "ticks": ""
           }
          },
          "title": {
           "x": 0.05
          },
          "xaxis": {
           "automargin": true,
           "gridcolor": "white",
           "linecolor": "white",
           "ticks": "",
           "title": {
            "standoff": 15
           },
           "zerolinecolor": "white",
           "zerolinewidth": 2
          },
          "yaxis": {
           "automargin": true,
           "gridcolor": "white",
           "linecolor": "white",
           "ticks": "",
           "title": {
            "standoff": 15
           },
           "zerolinecolor": "white",
           "zerolinewidth": 2
          }
         }
        },
        "width": 900
       }
      }
     },
     "metadata": {}
    }
   ],
   "source": [
    "import plotly.express as px\n",
    "\n",
    "fig_all = go.Figure()\n",
    "fig=px.sunburst(zone1,path=['Item','Persona'],values='Weight',color='Persona',color_discrete_map={'Type I':'#eba092', 'Type II':'#dccf82', 'Type III':'9dd3c8', 'Type IV':'a8c665','(?)':'#bfbfbf'})\n",
    "#fig.update_traces(hovertemplate=' %{customdata[0]}') #\n",
    "\n",
    "fig2=px.sunburst(zone2,path=['Item','Persona'],values='Weight',color='Persona',color_discrete_map={'Type I':'#eba092', 'Type II':'#dccf82', 'Type III':'9dd3c8', 'Type IV':'a8c665','(?)':'#bfbfbf'})\n",
    "fig3=px.sunburst(zone3,path=['Item','Persona'],values='Weight',color='Persona',color_discrete_map={'Type I':'#eba092', 'Type II':'#dccf82', 'Type III':'9dd3c8', 'Type IV':'a8c665','(?)':'#bfbfbf'})\n",
    "fig4=px.sunburst(zone4,path=['Item','Persona'],values='Weight',color='Persona',color_discrete_map={'Type I':'#eba092', 'Type II':'#dccf82', 'Type III':'9dd3c8', 'Type IV':'a8c665','(?)':'#bfbfbf'})\n",
    "fig5=px.sunburst(zone5,path=['Item','Persona'],values='Weight',color='Persona',color_discrete_map={'Type I':'#eba092', 'Type II':'#dccf82', 'Type III':'9dd3c8', 'Type IV':'a8c665','(?)':'#bfbfbf'})\n",
    "fig6=px.sunburst(zone6,path=['Item','Persona'],values='Weight',color='Persona',color_discrete_map={'Type I':'#eba092', 'Type II':'#dccf82', 'Type III':'9dd3c8', 'Type IV':'a8c665','(?)':'#bfbfbf'})\n",
    "fig7=px.sunburst(zone7,path=['Item','Persona'],values='Weight',color='Persona',color_discrete_map={'Type I':'#eba092', 'Type II':'#dccf82', 'Type III':'9dd3c8', 'Type IV':'a8c665','(?)':'#bfbfbf'})\n",
    "fig8=px.sunburst(zone8,path=['Item','Persona'],values='Weight',color='Persona',color_discrete_map={'Type I':'#eba092', 'Type II':'#dccf82', 'Type III':'9dd3c8', 'Type IV':'a8c665','(?)':'#bfbfbf'})\n",
    "fig9=px.sunburst(zone9,path=['Item','Persona'],values='Weight',color='Persona',color_discrete_map={'Type I':'#eba092', 'Type II':'#dccf82', 'Type III':'9dd3c8', 'Type IV':'a8c665','(?)':'#bfbfbf'})\n",
    "#fig.show()\n",
    "# print(dir(fig['data'][0].marker))\n",
    "#text1= [s.replace('Type IV','').replace('Type III','').replace('Type II','').replace('Type I','') for s in fig['data'][0]['labels'].tolist()]   \n",
    "# print(text1)\n",
    "#text1=fig['data'][0]['labels'].tolist()\n",
    "#zone1\n",
    "fig_all.add_trace(go.Sunburst(\n",
    "    labels=fig['data'][0]['labels'].tolist(),\n",
    "    parents=fig['data'][0]['parents'].tolist(),\n",
    "    values=fig['data'][0]['values'].tolist(),\n",
    "    ids=fig['data'][0]['ids'].tolist(),\n",
    "    domain=dict(x=[0,0.33],y=[0,0.28]),\n",
    "    #insidetextorientation='tangential',\n",
    "    marker=dict(colors=fig['data'][0].marker.colors),\n",
    "    hovertext =fig['data'][0]['labels'].tolist(),\n",
    "    hovertemplate='%{hovertext}<br>%{value} vote(s)',\n",
    "    insidetextfont=dict(color='#050505'),\n",
    "    name='',\n",
    "    opacity=0.6\n",
    "))\n",
    "#zone2\n",
    "fig_all.add_trace(go.Sunburst(\n",
    "    labels=fig2['data'][0]['labels'].tolist(),\n",
    "    parents=fig2['data'][0]['parents'].tolist(),\n",
    "    values=fig2['data'][0]['values'].tolist(),\n",
    "    ids=fig2['data'][0]['ids'].tolist(),\n",
    "    domain=dict(x=[0.33,0.66],y=[0,0.28]),\n",
    "    # insidetextorientation='tangential',\n",
    "    #branchvalues=\"remainder\",\n",
    "    marker=dict(colors=fig2['data'][0].marker.colors),\n",
    "    hovertext =fig2['data'][0]['labels'].tolist(),\n",
    "    hovertemplate='%{hovertext}<br>%{value} vote(s)',\n",
    "    insidetextfont=dict(color='#050505'),\n",
    "    name='',\n",
    "    opacity=0.6\n",
    "\n",
    "\n",
    "))\n",
    "#zone3\n",
    "fig_all.add_trace(go.Sunburst(\n",
    "    labels=fig3['data'][0]['labels'].tolist(),\n",
    "    parents=fig3['data'][0]['parents'].tolist(),\n",
    "    values=fig3['data'][0]['values'].tolist(),\n",
    "    ids=fig3['data'][0]['ids'].tolist(),\n",
    "    domain=dict(x=[0.66,1],y=[0,0.28]),\n",
    "    # insidetextorientation='tangential',\n",
    "    #branchvalues=\"remainder\",\n",
    "    marker=dict(colors=fig3['data'][0].marker.colors),\n",
    "    hovertext =fig3['data'][0]['labels'].tolist(),\n",
    "    hovertemplate='%{hovertext}<br>%{value} vote(s)',\n",
    "    insidetextfont=dict(color='#050505'),\n",
    "    name='',\n",
    "    opacity=0.6\n",
    "\n",
    "\n",
    "))\n",
    "#zone4\n",
    "fig_all.add_trace(go.Sunburst(\n",
    "    labels=fig4['data'][0]['labels'].tolist(),\n",
    "    parents=fig4['data'][0]['parents'].tolist(),\n",
    "    values=fig4['data'][0]['values'].tolist(),\n",
    "    ids=fig4['data'][0]['ids'].tolist(),\n",
    "    domain=dict(x=[0,0.33],y=[0.33,0.61]),\n",
    "    # insidetextorientation='tangential',\n",
    "    #branchvalues=\"remainder\",\n",
    "    marker=dict(colors=fig4['data'][0].marker.colors),\n",
    "    hovertext =fig4['data'][0]['labels'].tolist(),\n",
    "    hovertemplate='%{hovertext}<br>%{value} vote(s)',\n",
    "    insidetextfont=dict(color='#050505'),\n",
    "    name='',\n",
    "    opacity=0.6\n",
    "\n",
    "\n",
    "))\n",
    "#zone5\n",
    "fig_all.add_trace(go.Sunburst(\n",
    "    labels=fig5['data'][0]['labels'].tolist(),\n",
    "    parents=fig5['data'][0]['parents'].tolist(),\n",
    "    values=fig5['data'][0]['values'].tolist(),\n",
    "    ids=fig5['data'][0]['ids'].tolist(),\n",
    "    domain=dict(x=[0.33,0.66],y=[0.33,0.61]),\n",
    "    # insidetextorientation='tangential',\n",
    "    #branchvalues=\"remainder\",\n",
    "    marker=dict(colors=fig5['data'][0].marker.colors),\n",
    "    hovertext =fig5['data'][0]['labels'].tolist(),\n",
    "    hovertemplate='%{hovertext}<br>%{value} vote(s)',\n",
    "    insidetextfont=dict(color='#050505'),\n",
    "    name='',\n",
    "    opacity=0.6\n",
    "\n",
    "))\n",
    "#zone6\n",
    "fig_all.add_trace(go.Sunburst(\n",
    "    labels=fig6['data'][0]['labels'].tolist(),\n",
    "    parents=fig6['data'][0]['parents'].tolist(),\n",
    "    values=fig6['data'][0]['values'].tolist(),\n",
    "    ids=fig6['data'][0]['ids'].tolist(),\n",
    "    domain=dict(x=[0.66,1],y=[0.33,0.61]),\n",
    "    # insidetextorientation='tangential',\n",
    "    #branchvalues=\"remainder\",\n",
    "    marker=dict(colors=fig6['data'][0].marker.colors),\n",
    "    hovertext =fig6['data'][0]['labels'].tolist(),\n",
    "    hovertemplate='%{hovertext}<br>%{value} vote(s)',\n",
    "    insidetextfont=dict(color='#050505'),\n",
    "    name='',\n",
    "    opacity=0.6\n",
    "\n",
    "))\n",
    "#zone7\n",
    "fig_all.add_trace(go.Sunburst(\n",
    "    labels=fig7['data'][0]['labels'].tolist(),\n",
    "    parents=fig7['data'][0]['parents'].tolist(),\n",
    "    values=fig7['data'][0]['values'].tolist(),\n",
    "    ids=fig7['data'][0]['ids'].tolist(),\n",
    "    domain=dict(x=[0,0.33],y=[0.66,0.95]),\n",
    "    # insidetextorientation='tangential',\n",
    "    #branchvalues=\"remainder\",\n",
    "    marker=dict(colors=fig7['data'][0].marker.colors),\n",
    "    hovertext =fig7['data'][0]['labels'].tolist(),\n",
    "    hovertemplate='%{hovertext}<br>%{value} vote(s)',\n",
    "    insidetextfont=dict(color='#050505'),\n",
    "    name='',\n",
    "    opacity=0.6\n",
    "\n",
    "))\n",
    "#zone8\n",
    "fig_all.add_trace(go.Sunburst(\n",
    "    labels=fig8['data'][0]['labels'].tolist(),\n",
    "    parents=fig8['data'][0]['parents'].tolist(),\n",
    "    values=fig8['data'][0]['values'].tolist(),\n",
    "    ids=fig8['data'][0]['ids'].tolist(),\n",
    "    domain=dict(x=[0.33,0.66],y=[0.66,0.95]),\n",
    "    # insidetextorientation='tangential',\n",
    "    #branchvalues=\"remainder\",\n",
    "    marker=dict(colors=fig8['data'][0].marker.colors),\n",
    "    hovertext =fig8['data'][0]['labels'].tolist(),\n",
    "    hovertemplate='%{hovertext}<br>%{value} vote(s)',\n",
    "    insidetextfont=dict(color='#050505'),\n",
    "    name='',\n",
    "    opacity=0.6\n",
    "\n",
    "))\n",
    "#zone9\n",
    "fig_all.add_trace(go.Sunburst(\n",
    "    labels=fig9['data'][0]['labels'].tolist(),\n",
    "    parents=fig9['data'][0]['parents'].tolist(),\n",
    "    values=fig9['data'][0]['values'].tolist(),\n",
    "    ids=fig9['data'][0]['ids'].tolist(),\n",
    "    domain=dict(x=[0.66,1],y=[0.66,0.95]),\n",
    "    # insidetextorientation='tangential',\n",
    "    #branchvalues=\"remainder\",\n",
    "    marker=dict(colors=fig9['data'][0].marker.colors),\n",
    "    hovertext =fig9['data'][0]['labels'].tolist(),\n",
    "    hovertemplate='%{hovertext}<br>%{value} vote(s)',\n",
    "    insidetextfont=dict(color='#050505'),\n",
    "    name='',\n",
    "    opacity=0.6\n",
    "\n",
    "))\n",
    "\n",
    "fig_all.add_layout_image(\n",
    "    dict(\n",
    "        source=\"https://raw.githubusercontent.com/brianzy/ploty-project/master/pic/axes_bg.png\",\n",
    "        xref=\"paper\", yref=\"paper\",        \n",
    "        x=-0.03,\n",
    "        sizex=1,\n",
    "        sizey=1.15,\n",
    "        y=1\n",
    "    #         ,width=900,\n",
    "    # height=800\n",
    "        ,layer=\"below\"\n",
    "        #,sizing=\"stretch\"\n",
    "    )\n",
    ")\n",
    "\n",
    "fig_all.update_layout(\n",
    "    #grid= dict(columns=3, rows=3),\n",
    "    width=900,\n",
    "    height=800\n",
    "    #,uniformtext=dict(mode='hide')\n",
    "    ,autosize=False\n",
    "    #,margin = dict(t=0, l=0, r=0, b=0)\n",
    ")\n",
    "for i in range(9):\n",
    "    fig_all.data[i]['labels']=tuple([w.replace('Type IV','').replace('Type III','').replace('Type II','').replace('Type I','') \\\n",
    "        for w in list(fig_all['data'][i]['labels'])])\n",
    "#print(fig_all.data[0]['labels'])\n",
    "fig_all.show()\n"
   ]
  },
  {
   "cell_type": "code",
   "execution_count": 44,
   "metadata": {},
   "outputs": [
    {
     "output_type": "execute_result",
     "data": {
      "text/plain": "&#39;https://plotly.com/~zybrian/127/&#39;"
     },
     "metadata": {},
     "execution_count": 44
    }
   ],
   "source": [
    "import chart_studio.plotly as py\n",
    "py.plot(fig_all, filename = 'graph2', auto_open=False)"
   ]
  },
  {
   "cell_type": "code",
   "execution_count": 4,
   "metadata": {},
   "outputs": [
    {
     "output_type": "display_data",
     "data": {
      "application/vnd.plotly.v1+json": {
       "config": {
        "plotlyServerURL": "https://plotly.com"
       },
       "data": [
        {
         "legendgroup": "group1",
         "marker": {
          "line": {
           "width": 2
          },
          "size": [
           1,
           2,
           1,
           1,
           1,
           1
          ],
          "sizemode": "area",
          "sizeref": 0.016
         },
         "mode": "markers",
         "name": "persona1",
         "type": "scatter",
         "x": [
          "being with/around friends",
          "finances",
          "future",
          "physical health",
          "quizzes/exams",
          "work"
         ],
         "xaxis": "x7",
         "y": [
          21,
          17,
          16,
          28,
          26,
          13
         ],
         "yaxis": "y7"
        },
        {
         "legendgroup": "group2",
         "marker": {
          "line": {
           "width": 2
          },
          "size": [
           1,
           1,
           1
          ],
          "sizemode": "area",
          "sizeref": 0.016
         },
         "mode": "markers",
         "name": "persona2",
         "type": "scatter",
         "x": [
          "class",
          "presentations",
          "projects"
         ],
         "xaxis": "x7",
         "y": [
          20,
          19,
          24
         ],
         "yaxis": "y7"
        },
        {
         "legendgroup": "group3",
         "marker": {
          "line": {
           "width": 2
          },
          "size": [
           1,
           1
          ],
          "sizemode": "area",
          "sizeref": 0.016
         },
         "mode": "markers",
         "name": "persona3",
         "type": "scatter",
         "x": [
          "homework",
          "presentations"
         ],
         "xaxis": "x7",
         "y": [
          27,
          24
         ],
         "yaxis": "y7"
        },
        {
         "legendgroup": "group4",
         "marker": {
          "line": {
           "width": 2
          },
          "size": [
           1,
           1,
           1,
           1,
           1,
           1,
           1
          ],
          "sizemode": "area",
          "sizeref": 0.016
         },
         "mode": "markers",
         "name": "persona4",
         "type": "scatter",
         "x": [
          "being vulnerable in therapy",
          "class",
          "finances",
          "future",
          "Internship",
          "lab",
          "presentations"
         ],
         "xaxis": "x7",
         "y": [
          20,
          26,
          21,
          22,
          16,
          11,
          17
         ],
         "yaxis": "y7"
        },
        {
         "legendgroup": "group1",
         "marker": {
          "line": {
           "width": 2
          },
          "size": [
           1,
           1,
           2,
           1
          ],
          "sizemode": "area",
          "sizeref": 0.016
         },
         "mode": "markers",
         "name": "",
         "showlegend": false,
         "type": "scatter",
         "x": [
          "planning",
          "projects",
          "quizzes/exams",
          "work"
         ],
         "xaxis": "x8",
         "y": [
          20,
          15,
          25,
          23
         ],
         "yaxis": "y8"
        },
        {
         "legendgroup": "group2",
         "marker": {
          "line": {
           "width": 2
          },
          "size": [
           1,
           1,
           1,
           1,
           2,
           1
          ],
          "sizemode": "area",
          "sizeref": 0.016
         },
         "mode": "markers",
         "name": "",
         "showlegend": false,
         "type": "scatter",
         "x": [
          "family",
          "health",
          "homework",
          "projects",
          "relationship",
          "workout"
         ],
         "xaxis": "x8",
         "y": [
          13,
          23,
          15,
          28,
          24,
          27
         ],
         "yaxis": "y8"
        },
        {
         "legendgroup": "group3",
         "marker": {
          "line": {
           "width": 2
          },
          "size": [
           1,
           1,
           1
          ],
          "sizemode": "area",
          "sizeref": 0.016
         },
         "mode": "markers",
         "name": "",
         "showlegend": false,
         "type": "scatter",
         "x": [
          "going to church",
          "optional programs",
          "projects"
         ],
         "xaxis": "x8",
         "y": [
          27,
          21,
          24
         ],
         "yaxis": "y8"
        },
        {
         "legendgroup": "group4",
         "marker": {
          "line": {
           "width": 2
          },
          "size": [
           1,
           1,
           1
          ],
          "sizemode": "area",
          "sizeref": 0.016
         },
         "mode": "markers",
         "name": "",
         "showlegend": false,
         "type": "scatter",
         "x": [
          "presentations",
          "quizzes/exams",
          "work"
         ],
         "xaxis": "x8",
         "y": [
          21,
          15,
          19
         ],
         "yaxis": "y8"
        },
        {
         "legendgroup": "group1",
         "marker": {
          "line": {
           "width": 2
          },
          "size": [
           3,
           2,
           2,
           1,
           1,
           2,
           1,
           2,
           1
          ],
          "sizemode": "area",
          "sizeref": 0.016
         },
         "mode": "markers",
         "name": "",
         "showlegend": false,
         "type": "scatter",
         "x": [
          "health",
          "homework",
          "lectures",
          "planning",
          "presentations",
          "quizzes/exams",
          "relationship",
          "sleep",
          "work"
         ],
         "xaxis": "x9",
         "y": [
          18,
          22,
          27,
          29,
          11,
          16,
          26,
          21,
          14
         ],
         "yaxis": "y9"
        },
        {
         "legendgroup": "group2",
         "marker": {
          "line": {
           "width": 2
          },
          "size": [
           1,
           1,
           1,
           1,
           1,
           1
          ],
          "sizemode": "area",
          "sizeref": 0.016
         },
         "mode": "markers",
         "name": "persona2",
         "showlegend": false,
         "type": "scatter",
         "x": [
          "homework",
          "hygiene",
          "planning",
          "relationship",
          "sleep",
          "writing papers"
         ],
         "xaxis": "x9",
         "y": [
          24,
          28,
          20,
          13,
          18,
          10
         ],
         "yaxis": "y9"
        },
        {
         "legendgroup": "group3",
         "marker": {
          "line": {
           "width": 2
          },
          "size": [
           1,
           1,
           1,
           1
          ],
          "sizemode": "area",
          "sizeref": 0.016
         },
         "mode": "markers",
         "name": "persona3",
         "showlegend": false,
         "type": "scatter",
         "x": [
          "group work",
          "homework",
          "quizzes/exams",
          "sleep"
         ],
         "xaxis": "x9",
         "y": [
          27,
          13,
          25,
          11
         ],
         "yaxis": "y9"
        },
        {
         "legendgroup": "group4",
         "marker": {
          "line": {
           "width": 2
          },
          "size": [
           1,
           4,
           1,
           1
          ],
          "sizemode": "area",
          "sizeref": 0.016
         },
         "mode": "markers",
         "name": "persona4",
         "showlegend": false,
         "type": "scatter",
         "x": [
          "developing accessible hobbies",
          "homework",
          "hygiene",
          "presentations"
         ],
         "xaxis": "x9",
         "y": [
          13,
          12,
          18,
          26
         ],
         "yaxis": "y9"
        },
        {
         "legendgroup": "group1",
         "marker": {
          "line": {
           "width": 2
          },
          "size": [
           1,
           1,
           1,
           1,
           1,
           2
          ],
          "sizemode": "area",
          "sizeref": 0.016
         },
         "mode": "markers",
         "name": "",
         "showlegend": false,
         "type": "scatter",
         "x": [
          "health",
          "housing",
          "internship",
          "midterms/finals",
          "optional academic programs",
          "presentations"
         ],
         "xaxis": "x4",
         "y": [
          14,
          29,
          18,
          12,
          10,
          19
         ],
         "yaxis": "y4"
        },
        {
         "legendgroup": "group2",
         "marker": {
          "line": {
           "width": 2
          },
          "size": [
           1,
           2,
           1,
           1,
           1
          ],
          "sizemode": "area",
          "sizeref": 0.016
         },
         "mode": "markers",
         "name": "",
         "showlegend": false,
         "type": "scatter",
         "x": [
          "GPA",
          "presentations",
          "scholarship",
          "socializing",
          "study abroad"
         ],
         "xaxis": "x4",
         "y": [
          27,
          12,
          18,
          15,
          22
         ],
         "yaxis": "y4"
        },
        {
         "legendgroup": "group3",
         "marker": {
          "line": {
           "width": 2
          },
          "size": [
           1,
           1,
           1
          ],
          "sizemode": "area",
          "sizeref": 0.016
         },
         "mode": "markers",
         "name": "",
         "showlegend": false,
         "type": "scatter",
         "x": [
          "class",
          "internship",
          "socializing"
         ],
         "xaxis": "x4",
         "y": [
          18,
          26,
          11
         ],
         "yaxis": "y4"
        },
        {
         "legendgroup": "group4",
         "marker": {
          "line": {
           "width": 2
          },
          "size": [
           1,
           1,
           1,
           1,
           1,
           1,
           1,
           1,
           1
          ],
          "sizemode": "area",
          "sizeref": 0.016
         },
         "mode": "markers",
         "name": "",
         "showlegend": false,
         "type": "scatter",
         "x": [
          "class",
          "Family",
          "midterms/finals",
          "projects",
          "quizzes/exams",
          "Resident Advising",
          "scholarship",
          "when I feel like I don’t have time",
          "writing papers"
         ],
         "xaxis": "x4",
         "y": [
          21,
          24,
          27,
          17,
          12,
          13,
          29,
          15,
          19
         ],
         "yaxis": "y4"
        },
        {
         "legendgroup": "group1",
         "marker": {
          "line": {
           "width": 2
          },
          "size": [
           1,
           1,
           1,
           1,
           1,
           2,
           1,
           1,
           1,
           2,
           1,
           1
          ],
          "sizemode": "area",
          "sizeref": 0.016
         },
         "mode": "markers",
         "name": "",
         "showlegend": false,
         "type": "scatter",
         "x": [
          "family",
          "health ",
          "internships",
          "job and career",
          "lab",
          "midterms/finals",
          "optional academic programs",
          "presentations",
          "projects",
          "quizzes/exams",
          "relationship",
          "study abroad"
         ],
         "xaxis": "x5",
         "y": [
          24,
          26,
          16,
          17,
          18,
          14,
          10,
          22,
          28,
          23,
          12,
          21
         ],
         "yaxis": "y5"
        },
        {
         "legendgroup": "group2",
         "marker": {
          "line": {
           "width": 2
          },
          "size": [
           1,
           1,
           1,
           4
          ],
          "sizemode": "area",
          "sizeref": 0.016
         },
         "mode": "markers",
         "name": "",
         "showlegend": false,
         "type": "scatter",
         "x": [
          "body image",
          "finances",
          "homework",
          "quizzes/exams"
         ],
         "xaxis": "x5",
         "y": [
          16,
          26,
          22,
          12
         ],
         "yaxis": "y5"
        },
        {
         "legendgroup": "group3",
         "marker": {
          "line": {
           "width": 2
          },
          "size": [
           1,
           1,
           1,
           1,
           2
          ],
          "sizemode": "area",
          "sizeref": 0.016
         },
         "mode": "markers",
         "name": "",
         "showlegend": false,
         "type": "scatter",
         "x": [
          "class",
          "family",
          "finances",
          "quizzes/exams",
          "relationship"
         ],
         "xaxis": "x5",
         "y": [
          17,
          25,
          23,
          12,
          24
         ],
         "yaxis": "y5"
        },
        {
         "legendgroup": "group4",
         "marker": {
          "line": {
           "width": 2
          },
          "size": [
           1,
           1,
           2,
           1,
           1,
           1
          ],
          "sizemode": "area",
          "sizeref": 0.016
         },
         "mode": "markers",
         "name": "",
         "showlegend": false,
         "type": "scatter",
         "x": [
          "future",
          "group work",
          "optional academic programs",
          "projects",
          "relationship",
          "socializing"
         ],
         "xaxis": "x5",
         "y": [
          26,
          18,
          22,
          16,
          28,
          25
         ],
         "yaxis": "y5"
        },
        {
         "legendgroup": "group1",
         "marker": {
          "line": {
           "width": 2
          },
          "size": [
           1,
           3,
           1,
           1,
           2,
           1
          ],
          "sizemode": "area",
          "sizeref": 0.016
         },
         "mode": "markers",
         "name": "",
         "showlegend": false,
         "type": "scatter",
         "x": [
          "class",
          "homework",
          "lectures",
          "physical health",
          "projects",
          "relationship"
         ],
         "xaxis": "x6",
         "y": [
          26,
          28,
          14,
          25,
          23,
          20
         ],
         "yaxis": "y6"
        },
        {
         "legendgroup": "group2",
         "marker": {
          "line": {
           "width": 2
          },
          "size": [
           1,
           2,
           1,
           2,
           2
          ],
          "sizemode": "area",
          "sizeref": 0.016
         },
         "mode": "markers",
         "name": "",
         "showlegend": false,
         "type": "scatter",
         "x": [
          "finance",
          "homework",
          "projects",
          "quizzes/exams",
          "work"
         ],
         "xaxis": "x6",
         "y": [
          20,
          21,
          24,
          25,
          12
         ],
         "yaxis": "y6"
        },
        {
         "legendgroup": "group3",
         "marker": {
          "line": {
           "width": 2
          },
          "size": [
           1,
           1,
           1,
           1,
           1
          ],
          "sizemode": "area",
          "sizeref": 0.016
         },
         "mode": "markers",
         "name": "",
         "showlegend": false,
         "type": "scatter",
         "x": [
          "future",
          "homework",
          "hygiene ",
          "presentations",
          "quizzes/exams"
         ],
         "xaxis": "x6",
         "y": [
          27,
          15,
          14,
          19,
          22
         ],
         "yaxis": "y6"
        },
        {
         "legendgroup": "group4",
         "marker": {
          "line": {
           "width": 2
          },
          "size": [
           1,
           1,
           1,
           1,
           1
          ],
          "sizemode": "area",
          "sizeref": 0.016
         },
         "mode": "markers",
         "name": "",
         "showlegend": false,
         "type": "scatter",
         "x": [
          "finance",
          "future",
          "lectures",
          "physical health",
          "work"
         ],
         "xaxis": "x6",
         "y": [
          10,
          18,
          11,
          25,
          23
         ],
         "yaxis": "y6"
        },
        {
         "legendgroup": "group1",
         "marker": {
          "line": {
           "width": 2
          },
          "size": [
           1,
           1,
           2,
           1,
           1,
           1
          ],
          "sizemode": "area",
          "sizeref": 0.016
         },
         "mode": "markers",
         "name": "",
         "showlegend": false,
         "type": "scatter",
         "x": [
          "future",
          "internship and job search ",
          "midterm/final",
          "presentations",
          "projects",
          "talking to teachers"
         ],
         "xaxis": "x",
         "y": [
          16,
          27,
          22,
          11,
          14,
          23
         ],
         "yaxis": "y"
        },
        {
         "legendgroup": "group2",
         "marker": {
          "line": {
           "width": 2
          },
          "size": [
           1,
           4,
           1,
           1,
           1
          ],
          "sizemode": "area",
          "sizeref": 0.016
         },
         "mode": "markers",
         "name": "",
         "showlegend": false,
         "type": "scatter",
         "x": [
          "GPA",
          "midterm/final",
          "projects",
          "quizzes/exams",
          "relationship"
         ],
         "xaxis": "x",
         "y": [
          17,
          16,
          22,
          28,
          21
         ],
         "yaxis": "y"
        },
        {
         "legendgroup": "group3",
         "marker": {
          "line": {
           "width": 2
          },
          "size": [
           1,
           2,
           1,
           1,
           1
          ],
          "sizemode": "area",
          "sizeref": 0.016
         },
         "mode": "markers",
         "name": "",
         "showlegend": false,
         "type": "scatter",
         "x": [
          "group work",
          "midterm/final",
          "physical health",
          "projects",
          "quizzes/exams"
         ],
         "xaxis": "x",
         "y": [
          22,
          14,
          13,
          12,
          11
         ],
         "yaxis": "y"
        },
        {
         "legendgroup": "group4",
         "marker": {
          "line": {
           "width": 2
          },
          "size": [
           1
          ],
          "sizemode": "area",
          "sizeref": 0.016
         },
         "mode": "markers",
         "name": "",
         "showlegend": false,
         "type": "scatter",
         "x": [
          "midterm/final"
         ],
         "xaxis": "x",
         "y": [
          25
         ],
         "yaxis": "y"
        },
        {
         "legendgroup": "group1",
         "marker": {
          "line": {
           "width": 2
          },
          "size": [
           1,
           2,
           1,
           1,
           3,
           2,
           3
          ],
          "sizemode": "area",
          "sizeref": 0.016
         },
         "mode": "markers",
         "name": "",
         "showlegend": false,
         "type": "scatter",
         "x": [
          "body image",
          "future",
          "GPA",
          "mean classmates",
          "midterms/finals",
          "projects",
          "quizzes/exams"
         ],
         "xaxis": "x2",
         "y": [
          16,
          24,
          12,
          14,
          25,
          20,
          18
         ],
         "yaxis": "y2"
        },
        {
         "legendgroup": "group2",
         "marker": {
          "line": {
           "width": 2
          },
          "size": [
           1,
           1,
           2
          ],
          "sizemode": "area",
          "sizeref": 0.016
         },
         "mode": "markers",
         "name": "",
         "showlegend": false,
         "type": "scatter",
         "x": [
          "health",
          "homework",
          "midterms/finals"
         ],
         "xaxis": "x2",
         "y": [
          20,
          11,
          12
         ],
         "yaxis": "y2"
        },
        {
         "legendgroup": "group3",
         "marker": {
          "line": {
           "width": 2
          },
          "size": [
           1,
           1,
           1,
           1
          ],
          "sizemode": "area",
          "sizeref": 0.016
         },
         "mode": "markers",
         "name": "",
         "showlegend": false,
         "type": "scatter",
         "x": [
          "finances",
          "midterms/finals",
          "projects",
          "quizzes/exams"
         ],
         "xaxis": "x2",
         "y": [
          14,
          17,
          20,
          27
         ],
         "yaxis": "y2"
        },
        {
         "legendgroup": "group4",
         "marker": {
          "line": {
           "width": 2
          },
          "size": [
           1,
           1
          ],
          "sizemode": "area",
          "sizeref": 0.016
         },
         "mode": "markers",
         "name": "",
         "showlegend": false,
         "type": "scatter",
         "x": [
          "compounding stress",
          "mental health"
         ],
         "xaxis": "x2",
         "y": [
          12,
          18
         ],
         "yaxis": "y2"
        },
        {
         "legendgroup": "group1",
         "marker": {
          "line": {
           "width": 2
          },
          "size": [
           1,
           1,
           1,
           2,
           2,
           1,
           1,
           1,
           1,
           1
          ],
          "sizemode": "area",
          "sizeref": 0.016
         },
         "mode": "markers",
         "name": "",
         "showlegend": false,
         "type": "scatter",
         "x": [
          "class",
          "family",
          "finances",
          "future",
          "group projects",
          "health",
          "homework",
          "planning",
          "projects",
          "socializing"
         ],
         "xaxis": "x",
         "y": [
          25,
          29,
          19,
          24,
          14,
          22,
          17,
          13,
          28,
          26
         ],
         "yaxis": "y"
        },
        {
         "legendgroup": "group2",
         "marker": {
          "line": {
           "width": 2
          },
          "size": [
           1,
           1,
           1,
           1,
           1,
           1
          ],
          "sizemode": "area",
          "sizeref": 0.016
         },
         "mode": "markers",
         "name": "",
         "showlegend": false,
         "type": "scatter",
         "x": [
          "future",
          "health",
          "homework",
          "loss of parents",
          "mental health",
          "quizzes/exams"
         ],
         "xaxis": "x3",
         "y": [
          17,
          15,
          21,
          24,
          23,
          13
         ],
         "yaxis": "y3"
        },
        {
         "legendgroup": "group3",
         "marker": {
          "line": {
           "width": 2
          },
          "size": [
           1,
           1,
           3,
           1,
           2,
           2,
           1,
           1
          ],
          "sizemode": "area",
          "sizeref": 0.016
         },
         "mode": "markers",
         "name": "",
         "showlegend": false,
         "type": "scatter",
         "x": [
          "class",
          "finances",
          "future",
          "group projects",
          "homework",
          "mental health",
          "relationships",
          "work"
         ],
         "xaxis": "x3",
         "y": [
          10,
          19,
          26,
          11,
          14,
          27,
          28,
          21
         ],
         "yaxis": "y3"
        },
        {
         "legendgroup": "group4",
         "marker": {
          "line": {
           "width": 2
          },
          "size": [
           1,
           1
          ],
          "sizemode": "area",
          "sizeref": 0.016
         },
         "mode": "markers",
         "name": "",
         "showlegend": false,
         "type": "scatter",
         "x": [
          "future",
          "relationships"
         ],
         "xaxis": "x3",
         "y": [
          15,
          17
         ],
         "yaxis": "y3"
        }
       ],
       "layout": {
        "paper_bgcolor": "rgb(243, 243, 243)",
        "plot_bgcolor": "rgb(243, 243, 243)",
        "template": {
         "data": {
          "bar": [
           {
            "error_x": {
             "color": "#2a3f5f"
            },
            "error_y": {
             "color": "#2a3f5f"
            },
            "marker": {
             "line": {
              "color": "#E5ECF6",
              "width": 0.5
             }
            },
            "type": "bar"
           }
          ],
          "barpolar": [
           {
            "marker": {
             "line": {
              "color": "#E5ECF6",
              "width": 0.5
             }
            },
            "type": "barpolar"
           }
          ],
          "carpet": [
           {
            "aaxis": {
             "endlinecolor": "#2a3f5f",
             "gridcolor": "white",
             "linecolor": "white",
             "minorgridcolor": "white",
             "startlinecolor": "#2a3f5f"
            },
            "baxis": {
             "endlinecolor": "#2a3f5f",
             "gridcolor": "white",
             "linecolor": "white",
             "minorgridcolor": "white",
             "startlinecolor": "#2a3f5f"
            },
            "type": "carpet"
           }
          ],
          "choropleth": [
           {
            "colorbar": {
             "outlinewidth": 0,
             "ticks": ""
            },
            "type": "choropleth"
           }
          ],
          "contour": [
           {
            "colorbar": {
             "outlinewidth": 0,
             "ticks": ""
            },
            "colorscale": [
             [
              0,
              "#0d0887"
             ],
             [
              0.1111111111111111,
              "#46039f"
             ],
             [
              0.2222222222222222,
              "#7201a8"
             ],
             [
              0.3333333333333333,
              "#9c179e"
             ],
             [
              0.4444444444444444,
              "#bd3786"
             ],
             [
              0.5555555555555556,
              "#d8576b"
             ],
             [
              0.6666666666666666,
              "#ed7953"
             ],
             [
              0.7777777777777778,
              "#fb9f3a"
             ],
             [
              0.8888888888888888,
              "#fdca26"
             ],
             [
              1,
              "#f0f921"
             ]
            ],
            "type": "contour"
           }
          ],
          "contourcarpet": [
           {
            "colorbar": {
             "outlinewidth": 0,
             "ticks": ""
            },
            "type": "contourcarpet"
           }
          ],
          "heatmap": [
           {
            "colorbar": {
             "outlinewidth": 0,
             "ticks": ""
            },
            "colorscale": [
             [
              0,
              "#0d0887"
             ],
             [
              0.1111111111111111,
              "#46039f"
             ],
             [
              0.2222222222222222,
              "#7201a8"
             ],
             [
              0.3333333333333333,
              "#9c179e"
             ],
             [
              0.4444444444444444,
              "#bd3786"
             ],
             [
              0.5555555555555556,
              "#d8576b"
             ],
             [
              0.6666666666666666,
              "#ed7953"
             ],
             [
              0.7777777777777778,
              "#fb9f3a"
             ],
             [
              0.8888888888888888,
              "#fdca26"
             ],
             [
              1,
              "#f0f921"
             ]
            ],
            "type": "heatmap"
           }
          ],
          "heatmapgl": [
           {
            "colorbar": {
             "outlinewidth": 0,
             "ticks": ""
            },
            "colorscale": [
             [
              0,
              "#0d0887"
             ],
             [
              0.1111111111111111,
              "#46039f"
             ],
             [
              0.2222222222222222,
              "#7201a8"
             ],
             [
              0.3333333333333333,
              "#9c179e"
             ],
             [
              0.4444444444444444,
              "#bd3786"
             ],
             [
              0.5555555555555556,
              "#d8576b"
             ],
             [
              0.6666666666666666,
              "#ed7953"
             ],
             [
              0.7777777777777778,
              "#fb9f3a"
             ],
             [
              0.8888888888888888,
              "#fdca26"
             ],
             [
              1,
              "#f0f921"
             ]
            ],
            "type": "heatmapgl"
           }
          ],
          "histogram": [
           {
            "marker": {
             "colorbar": {
              "outlinewidth": 0,
              "ticks": ""
             }
            },
            "type": "histogram"
           }
          ],
          "histogram2d": [
           {
            "colorbar": {
             "outlinewidth": 0,
             "ticks": ""
            },
            "colorscale": [
             [
              0,
              "#0d0887"
             ],
             [
              0.1111111111111111,
              "#46039f"
             ],
             [
              0.2222222222222222,
              "#7201a8"
             ],
             [
              0.3333333333333333,
              "#9c179e"
             ],
             [
              0.4444444444444444,
              "#bd3786"
             ],
             [
              0.5555555555555556,
              "#d8576b"
             ],
             [
              0.6666666666666666,
              "#ed7953"
             ],
             [
              0.7777777777777778,
              "#fb9f3a"
             ],
             [
              0.8888888888888888,
              "#fdca26"
             ],
             [
              1,
              "#f0f921"
             ]
            ],
            "type": "histogram2d"
           }
          ],
          "histogram2dcontour": [
           {
            "colorbar": {
             "outlinewidth": 0,
             "ticks": ""
            },
            "colorscale": [
             [
              0,
              "#0d0887"
             ],
             [
              0.1111111111111111,
              "#46039f"
             ],
             [
              0.2222222222222222,
              "#7201a8"
             ],
             [
              0.3333333333333333,
              "#9c179e"
             ],
             [
              0.4444444444444444,
              "#bd3786"
             ],
             [
              0.5555555555555556,
              "#d8576b"
             ],
             [
              0.6666666666666666,
              "#ed7953"
             ],
             [
              0.7777777777777778,
              "#fb9f3a"
             ],
             [
              0.8888888888888888,
              "#fdca26"
             ],
             [
              1,
              "#f0f921"
             ]
            ],
            "type": "histogram2dcontour"
           }
          ],
          "mesh3d": [
           {
            "colorbar": {
             "outlinewidth": 0,
             "ticks": ""
            },
            "type": "mesh3d"
           }
          ],
          "parcoords": [
           {
            "line": {
             "colorbar": {
              "outlinewidth": 0,
              "ticks": ""
             }
            },
            "type": "parcoords"
           }
          ],
          "pie": [
           {
            "automargin": true,
            "type": "pie"
           }
          ],
          "scatter": [
           {
            "marker": {
             "colorbar": {
              "outlinewidth": 0,
              "ticks": ""
             }
            },
            "type": "scatter"
           }
          ],
          "scatter3d": [
           {
            "line": {
             "colorbar": {
              "outlinewidth": 0,
              "ticks": ""
             }
            },
            "marker": {
             "colorbar": {
              "outlinewidth": 0,
              "ticks": ""
             }
            },
            "type": "scatter3d"
           }
          ],
          "scattercarpet": [
           {
            "marker": {
             "colorbar": {
              "outlinewidth": 0,
              "ticks": ""
             }
            },
            "type": "scattercarpet"
           }
          ],
          "scattergeo": [
           {
            "marker": {
             "colorbar": {
              "outlinewidth": 0,
              "ticks": ""
             }
            },
            "type": "scattergeo"
           }
          ],
          "scattergl": [
           {
            "marker": {
             "colorbar": {
              "outlinewidth": 0,
              "ticks": ""
             }
            },
            "type": "scattergl"
           }
          ],
          "scattermapbox": [
           {
            "marker": {
             "colorbar": {
              "outlinewidth": 0,
              "ticks": ""
             }
            },
            "type": "scattermapbox"
           }
          ],
          "scatterpolar": [
           {
            "marker": {
             "colorbar": {
              "outlinewidth": 0,
              "ticks": ""
             }
            },
            "type": "scatterpolar"
           }
          ],
          "scatterpolargl": [
           {
            "marker": {
             "colorbar": {
              "outlinewidth": 0,
              "ticks": ""
             }
            },
            "type": "scatterpolargl"
           }
          ],
          "scatterternary": [
           {
            "marker": {
             "colorbar": {
              "outlinewidth": 0,
              "ticks": ""
             }
            },
            "type": "scatterternary"
           }
          ],
          "surface": [
           {
            "colorbar": {
             "outlinewidth": 0,
             "ticks": ""
            },
            "colorscale": [
             [
              0,
              "#0d0887"
             ],
             [
              0.1111111111111111,
              "#46039f"
             ],
             [
              0.2222222222222222,
              "#7201a8"
             ],
             [
              0.3333333333333333,
              "#9c179e"
             ],
             [
              0.4444444444444444,
              "#bd3786"
             ],
             [
              0.5555555555555556,
              "#d8576b"
             ],
             [
              0.6666666666666666,
              "#ed7953"
             ],
             [
              0.7777777777777778,
              "#fb9f3a"
             ],
             [
              0.8888888888888888,
              "#fdca26"
             ],
             [
              1,
              "#f0f921"
             ]
            ],
            "type": "surface"
           }
          ],
          "table": [
           {
            "cells": {
             "fill": {
              "color": "#EBF0F8"
             },
             "line": {
              "color": "white"
             }
            },
            "header": {
             "fill": {
              "color": "#C8D4E3"
             },
             "line": {
              "color": "white"
             }
            },
            "type": "table"
           }
          ]
         },
         "layout": {
          "annotationdefaults": {
           "arrowcolor": "#2a3f5f",
           "arrowhead": 0,
           "arrowwidth": 1
          },
          "coloraxis": {
           "colorbar": {
            "outlinewidth": 0,
            "ticks": ""
           }
          },
          "colorscale": {
           "diverging": [
            [
             0,
             "#8e0152"
            ],
            [
             0.1,
             "#c51b7d"
            ],
            [
             0.2,
             "#de77ae"
            ],
            [
             0.3,
             "#f1b6da"
            ],
            [
             0.4,
             "#fde0ef"
            ],
            [
             0.5,
             "#f7f7f7"
            ],
            [
             0.6,
             "#e6f5d0"
            ],
            [
             0.7,
             "#b8e186"
            ],
            [
             0.8,
             "#7fbc41"
            ],
            [
             0.9,
             "#4d9221"
            ],
            [
             1,
             "#276419"
            ]
           ],
           "sequential": [
            [
             0,
             "#0d0887"
            ],
            [
             0.1111111111111111,
             "#46039f"
            ],
            [
             0.2222222222222222,
             "#7201a8"
            ],
            [
             0.3333333333333333,
             "#9c179e"
            ],
            [
             0.4444444444444444,
             "#bd3786"
            ],
            [
             0.5555555555555556,
             "#d8576b"
            ],
            [
             0.6666666666666666,
             "#ed7953"
            ],
            [
             0.7777777777777778,
             "#fb9f3a"
            ],
            [
             0.8888888888888888,
             "#fdca26"
            ],
            [
             1,
             "#f0f921"
            ]
           ],
           "sequentialminus": [
            [
             0,
             "#0d0887"
            ],
            [
             0.1111111111111111,
             "#46039f"
            ],
            [
             0.2222222222222222,
             "#7201a8"
            ],
            [
             0.3333333333333333,
             "#9c179e"
            ],
            [
             0.4444444444444444,
             "#bd3786"
            ],
            [
             0.5555555555555556,
             "#d8576b"
            ],
            [
             0.6666666666666666,
             "#ed7953"
            ],
            [
             0.7777777777777778,
             "#fb9f3a"
            ],
            [
             0.8888888888888888,
             "#fdca26"
            ],
            [
             1,
             "#f0f921"
            ]
           ]
          },
          "colorway": [
           "#636efa",
           "#EF553B",
           "#00cc96",
           "#ab63fa",
           "#FFA15A",
           "#19d3f3",
           "#FF6692",
           "#B6E880",
           "#FF97FF",
           "#FECB52"
          ],
          "font": {
           "color": "#2a3f5f"
          },
          "geo": {
           "bgcolor": "white",
           "lakecolor": "white",
           "landcolor": "#E5ECF6",
           "showlakes": true,
           "showland": true,
           "subunitcolor": "white"
          },
          "hoverlabel": {
           "align": "left"
          },
          "hovermode": "closest",
          "mapbox": {
           "style": "light"
          },
          "paper_bgcolor": "white",
          "plot_bgcolor": "#E5ECF6",
          "polar": {
           "angularaxis": {
            "gridcolor": "white",
            "linecolor": "white",
            "ticks": ""
           },
           "bgcolor": "#E5ECF6",
           "radialaxis": {
            "gridcolor": "white",
            "linecolor": "white",
            "ticks": ""
           }
          },
          "scene": {
           "xaxis": {
            "backgroundcolor": "#E5ECF6",
            "gridcolor": "white",
            "gridwidth": 2,
            "linecolor": "white",
            "showbackground": true,
            "ticks": "",
            "zerolinecolor": "white"
           },
           "yaxis": {
            "backgroundcolor": "#E5ECF6",
            "gridcolor": "white",
            "gridwidth": 2,
            "linecolor": "white",
            "showbackground": true,
            "ticks": "",
            "zerolinecolor": "white"
           },
           "zaxis": {
            "backgroundcolor": "#E5ECF6",
            "gridcolor": "white",
            "gridwidth": 2,
            "linecolor": "white",
            "showbackground": true,
            "ticks": "",
            "zerolinecolor": "white"
           }
          },
          "shapedefaults": {
           "line": {
            "color": "#2a3f5f"
           }
          },
          "ternary": {
           "aaxis": {
            "gridcolor": "white",
            "linecolor": "white",
            "ticks": ""
           },
           "baxis": {
            "gridcolor": "white",
            "linecolor": "white",
            "ticks": ""
           },
           "bgcolor": "#E5ECF6",
           "caxis": {
            "gridcolor": "white",
            "linecolor": "white",
            "ticks": ""
           }
          },
          "title": {
           "x": 0.05
          },
          "xaxis": {
           "automargin": true,
           "gridcolor": "white",
           "linecolor": "white",
           "ticks": "",
           "title": {
            "standoff": 15
           },
           "zerolinecolor": "white",
           "zerolinewidth": 2
          },
          "yaxis": {
           "automargin": true,
           "gridcolor": "white",
           "linecolor": "white",
           "ticks": "",
           "title": {
            "standoff": 15
           },
           "zerolinecolor": "white",
           "zerolinewidth": 2
          }
         }
        },
        "title": {
         "text": "serverity and indensity"
        },
        "xaxis": {
         "anchor": "y",
         "domain": [
          0,
          0.2888888888888889
         ],
         "showticklabels": false,
         "visible": true
        },
        "xaxis2": {
         "anchor": "y2",
         "domain": [
          0.35555555555555557,
          0.6444444444444445
         ],
         "showticklabels": false,
         "visible": true
        },
        "xaxis3": {
         "anchor": "y3",
         "domain": [
          0.7111111111111111,
          1
         ],
         "showticklabels": false,
         "visible": true
        },
        "xaxis4": {
         "anchor": "y4",
         "domain": [
          0,
          0.2888888888888889
         ],
         "showticklabels": false,
         "visible": true
        },
        "xaxis5": {
         "anchor": "y5",
         "domain": [
          0.35555555555555557,
          0.6444444444444445
         ],
         "showticklabels": false,
         "visible": true
        },
        "xaxis6": {
         "anchor": "y6",
         "domain": [
          0.7111111111111111,
          1
         ],
         "showticklabels": false,
         "visible": true
        },
        "xaxis7": {
         "anchor": "y7",
         "domain": [
          0,
          0.2888888888888889
         ],
         "linecolor": "black",
         "linewidth": 1,
         "showline": true,
         "showticklabels": false,
         "title": {
          "text": "Seldom"
         },
         "visible": true
        },
        "xaxis8": {
         "anchor": "y8",
         "domain": [
          0.35555555555555557,
          0.6444444444444445
         ],
         "linecolor": "black",
         "linewidth": 1,
         "showline": true,
         "showticklabels": false,
         "title": {
          "text": "Sometimes"
         },
         "visible": true
        },
        "xaxis9": {
         "anchor": "y9",
         "domain": [
          0.7111111111111111,
          1
         ],
         "linecolor": "black",
         "linewidth": 1,
         "showline": true,
         "showticklabels": false,
         "title": {
          "text": "Often"
         },
         "visible": true
        },
        "yaxis": {
         "anchor": "x",
         "domain": [
          0.7333333333333333,
          1
         ],
         "linecolor": "black",
         "linewidth": 1,
         "showline": true,
         "showticklabels": false,
         "title": {
          "text": "High"
         },
         "visible": true
        },
        "yaxis2": {
         "anchor": "x2",
         "domain": [
          0.7333333333333333,
          1
         ],
         "showticklabels": false,
         "visible": true
        },
        "yaxis3": {
         "anchor": "x3",
         "domain": [
          0.7333333333333333,
          1
         ],
         "showticklabels": false,
         "visible": true
        },
        "yaxis4": {
         "anchor": "x4",
         "domain": [
          0.36666666666666664,
          0.6333333333333333
         ],
         "linecolor": "black",
         "linewidth": 1,
         "showline": true,
         "showticklabels": false,
         "title": {
          "text": "Moderate"
         },
         "visible": true
        },
        "yaxis5": {
         "anchor": "x5",
         "domain": [
          0.36666666666666664,
          0.6333333333333333
         ],
         "showticklabels": false,
         "visible": true
        },
        "yaxis6": {
         "anchor": "x6",
         "domain": [
          0.36666666666666664,
          0.6333333333333333
         ],
         "showticklabels": false,
         "visible": true
        },
        "yaxis7": {
         "anchor": "x7",
         "domain": [
          0,
          0.26666666666666666
         ],
         "linecolor": "black",
         "linewidth": 1,
         "showline": true,
         "showticklabels": false,
         "title": {
          "text": "Low"
         },
         "visible": true
        },
        "yaxis8": {
         "anchor": "x8",
         "domain": [
          0,
          0.26666666666666666
         ],
         "showticklabels": false,
         "visible": true
        },
        "yaxis9": {
         "anchor": "x9",
         "domain": [
          0,
          0.26666666666666666
         ],
         "showticklabels": false,
         "visible": true
        }
       }
      }
     },
     "metadata": {}
    }
   ],
   "source": [
    "from plotly.subplots import make_subplots\n",
    "import random\n",
    "fig = make_subplots(rows=3, cols=3)\n",
    "\n",
    "    \n",
    "#zone 1\n",
    "fig.add_trace(go.Scatter(\n",
    "                x=p1_1['Item'],y=random.sample(range(10, 30), len(p1_1)),name='persona1',\n",
    "                marker_size=p1_1['Weight'],legendgroup='group1',\n",
    "                 ),row=3,col=1)\n",
    "\n",
    "fig.add_trace(go.Scatter(\n",
    "                x=p2_1['Item'],name='persona2',y=random.sample(range(10, 30), len(p2_1)),\n",
    "                marker_size=p2_1['Weight'],legendgroup='group2'),row=3,col=1)\n",
    "fig.add_trace(go.Scatter(\n",
    "                x=p3_1['Item'],name='persona3',y=random.sample(range(10, 30), len(p3_1)),\n",
    "                marker_size=p3_1['Weight'],legendgroup='group3'),row=3,col=1)\n",
    "fig.add_trace(go.Scatter(\n",
    "                x=p4_1['Item'],name='persona4',y=random.sample(range(10, 30), len(p4_1)),\n",
    "                marker_size=p4_1['Weight'],legendgroup='group4'),row=3,col=1)\n",
    "#zone 2\n",
    "\n",
    "fig.add_trace(go.Scatter(\n",
    "                x=p1_2['Item'],name='',legendgroup='group1',y=random.sample(range(10, 30), len(p1_2)),\n",
    "                marker_size=p1_2['Weight'],showlegend=False),row=3,col=2)\n",
    "fig.add_trace(go.Scatter(\n",
    "                x=p2_2['Item'],name='',y=random.sample(range(10, 30), len(p2_2)),\n",
    "                marker_size=p2_2['Weight'],legendgroup='group2',showlegend=False),row=3,col=2)\n",
    "fig.add_trace(go.Scatter(\n",
    "                x=p3_2['Item'],name='',y=random.sample(range(10, 30), len(p3_2)),\n",
    "                marker_size=p3_2['Weight'],legendgroup='group3',showlegend=False),row=3,col=2)\n",
    "fig.add_trace(go.Scatter(\n",
    "                x=p4_2['Item'],name='',y=random.sample(range(10, 30), len(p4_2)),\n",
    "                marker_size=p4_2['Weight'],legendgroup='group4',showlegend=False),row=3,col=2)\n",
    "#zone 3\n",
    "\n",
    "fig.add_trace(go.Scatter(\n",
    "                x=p1_3['Item'],name='',legendgroup='group1',y=random.sample(range(10, 30), len(p1_3)),\n",
    "                marker_size=p1_3['Weight'],showlegend=False),row=3,col=3)\n",
    "fig.add_trace(go.Scatter(\n",
    "                x=p2_3['Item'],name='persona2',y=random.sample(range(10, 30), len(p2_3)),\n",
    "                marker_size=p2_3['Weight'],legendgroup='group2',showlegend=False),row=3,col=3)\n",
    "fig.add_trace(go.Scatter(\n",
    "                x=p3_3['Item'],name='persona3',y=random.sample(range(10, 30), len(p3_3)),\n",
    "                marker_size=p3_3['Weight'],legendgroup='group3',showlegend=False),row=3,col=3)\n",
    "fig.add_trace(go.Scatter(\n",
    "                x=p4_3['Item'],name='persona4',y=random.sample(range(10, 30), len(p4_3)),\n",
    "                marker_size=p4_3['Weight'],legendgroup='group4',showlegend=False),row=3,col=3)\n",
    "#zone 4\n",
    "fig.add_trace(go.Scatter(\n",
    "                x=p1_4['Item'],name='',legendgroup='group1',y=random.sample(range(10, 30), len(p1_4)),\n",
    "                marker_size=p1_4['Weight'],showlegend=False),row=2,col=1)\n",
    "fig.add_trace(go.Scatter(\n",
    "                x=p2_4['Item'],name='',y=random.sample(range(10, 30), len(p2_4)),\n",
    "                marker_size=p2_4['Weight'],legendgroup='group2',showlegend=False),row=2,col=1)\n",
    "fig.add_trace(go.Scatter(\n",
    "                x=p3_4['Item'],name='',y=random.sample(range(10, 30), len(p3_4)),\n",
    "                marker_size=p3_4['Weight'],legendgroup='group3',showlegend=False),row=2,col=1)\n",
    "fig.add_trace(go.Scatter(\n",
    "                x=p4_4['Item'],name='',y=random.sample(range(10, 30), len(p4_4)),\n",
    "                marker_size=p4_4['Weight'],legendgroup='group4',showlegend=False),row=2,col=1)\n",
    "\n",
    "\n",
    "#zone 5\n",
    "\n",
    "fig.add_trace(go.Scatter(\n",
    "                x=p1_5['Item'],name='',legendgroup='group1',y=random.sample(range(10, 30), len(p1_5)),\n",
    "                marker_size=p1_5['Weight'],showlegend=False),row=2,col=2)\n",
    "fig.add_trace(go.Scatter(\n",
    "                x=p2_5['Item'],name='',y=random.sample(range(10, 30), len(p2_5)),\n",
    "                marker_size=p2_5['Weight'],legendgroup='group2',showlegend=False),row=2,col=2)\n",
    "fig.add_trace(go.Scatter(\n",
    "                x=p3_5['Item'],name='',y=random.sample(range(10, 30), len(p3_5)),\n",
    "                marker_size=p3_5['Weight'],legendgroup='group3',showlegend=False),row=2,col=2)\n",
    "fig.add_trace(go.Scatter(\n",
    "                x=p4_5['Item'],name='',y=random.sample(range(10, 30), len(p4_5)),\n",
    "                marker_size=p4_5['Weight'],legendgroup='group4',showlegend=False),row=2,col=2)\n",
    "\n",
    "#zone 6\n",
    "\n",
    "fig.add_trace(go.Scatter(\n",
    "                x=p1_6['Item'],name='',legendgroup='group1',y=random.sample(range(10, 30), len(p1_6)),\n",
    "                marker_size=p1_6['Weight'],showlegend=False),row=2,col=3)\n",
    "fig.add_trace(go.Scatter(\n",
    "                x=p2_6['Item'],name='',y=random.sample(range(10, 30), len(p2_6)),\n",
    "                marker_size=p2_6['Weight'],legendgroup='group2',showlegend=False),row=2,col=3)\n",
    "fig.add_trace(go.Scatter(\n",
    "                x=p3_6['Item'],name='',y=random.sample(range(10, 30), len(p3_6)),\n",
    "                marker_size=p3_6['Weight'],legendgroup='group3',showlegend=False),row=2,col=3)\n",
    "fig.add_trace(go.Scatter(\n",
    "                x=p4_6['Item'],name='',y=random.sample(range(10, 30), len(p4_6)),\n",
    "                marker_size=p4_6['Weight'],legendgroup='group4',showlegend=False),row=2,col=3)\n",
    "\n",
    "#zone 7\n",
    "\n",
    "fig.add_trace(go.Scatter(\n",
    "                x=p1_7['Item'],name='',legendgroup='group1',y=random.sample(range(10, 30), len(p1_7)),\n",
    "                marker_size=p1_7['Weight'],showlegend=False),row=1,col=1)\n",
    "fig.add_trace(go.Scatter(\n",
    "                x=p2_7['Item'],name='',y=random.sample(range(10, 30), len(p2_7)),\n",
    "                marker_size=p2_7['Weight'],legendgroup='group2',showlegend=False),row=1,col=1)\n",
    "fig.add_trace(go.Scatter(\n",
    "                x=p3_7['Item'],name='',y=random.sample(range(10, 30), len(p3_7)),\n",
    "                marker_size=p3_7['Weight'],legendgroup='group3',showlegend=False),row=1,col=1)\n",
    "fig.add_trace(go.Scatter(\n",
    "                x=p4_7['Item'],name='',y=random.sample(range(10, 30), len(p4_7)),\n",
    "                marker_size=p4_7['Weight'],legendgroup='group4',showlegend=False),row=1,col=1)\n",
    "#zone 8\n",
    "\n",
    "fig.add_trace(go.Scatter(\n",
    "                x=p1_8['Item'],name='',legendgroup='group1',y=random.sample(range(10, 30), len(p1_8)),\n",
    "                marker_size=p1_8['Weight'],showlegend=False),row=1,col=2)\n",
    "fig.add_trace(go.Scatter(\n",
    "                x=p2_8['Item'],name='',y=random.sample(range(10, 30), len(p2_8)),\n",
    "                marker_size=p2_8['Weight'],legendgroup='group2',showlegend=False),row=1,col=2)\n",
    "fig.add_trace(go.Scatter(\n",
    "                x=p3_8['Item'],name='',y=random.sample(range(10, 30), len(p3_8)),\n",
    "                marker_size=p3_8['Weight'],legendgroup='group3',showlegend=False),row=1,col=2)\n",
    "fig.add_trace(go.Scatter(\n",
    "                x=p4_8['Item'],name='',y=random.sample(range(10, 30), len(p4_8)),\n",
    "                marker_size=p4_8['Weight'],legendgroup='group4',showlegend=False),row=1,col=2)\n",
    "#zone 9\n",
    "\n",
    "fig.add_trace(go.Scatter(\n",
    "                x=p1_9['Item'],name='',legendgroup='group1',y=random.sample(range(10, 30), len(p1_9)),\n",
    "                marker_size=p1_9['Weight'],showlegend=False),row=1,col=1)\n",
    "fig.add_trace(go.Scatter(\n",
    "                x=p2_9['Item'],name='',y=random.sample(range(10, 30), len(p2_9)),\n",
    "                marker_size=p2_9['Weight'],legendgroup='group2',showlegend=False),row=1,col=3)\n",
    "fig.add_trace(go.Scatter(\n",
    "                x=p3_9['Item'],name='',y=random.sample(range(10, 30), len(p3_9)),\n",
    "                marker_size=p3_9['Weight'],legendgroup='group3',showlegend=False),row=1,col=3)\n",
    "fig.add_trace(go.Scatter(\n",
    "                x=p4_9['Item'],name='',y=random.sample(range(10, 30), len(p4_9)),\n",
    "                marker_size=p4_9['Weight'],legendgroup='group4',showlegend=False),row=1,col=3)\n",
    "\n",
    "sizeref =  2.*80/(100**2)\n",
    "\n",
    "fig.update_traces(mode='markers', marker=dict(sizemode='area',\n",
    "                                              sizeref=sizeref, line_width=2))\n",
    "fig.update_yaxes(visible=True, showticklabels=False)\n",
    "fig.update_xaxes(visible=True, showticklabels=False)\n",
    "# fig.update_xaxes(visible=True,showticklabels=False, row=3,col=1)\n",
    "# fig.update_yaxes(visible=True,showticklabels=False, row=3,col=1)\n",
    "fig['layout']['xaxis7']['title']='Seldom'\n",
    "fig['layout']['xaxis8']['title']='Sometimes'\n",
    "fig['layout']['xaxis9']['title']='Often'\n",
    "fig['layout']['yaxis1']['title']='High'\n",
    "fig['layout']['yaxis4']['title']='Moderate'\n",
    "fig['layout']['yaxis7']['title']='Low'\n",
    "fig.update_xaxes(showline=True, linewidth=1, linecolor='black', row=3, col=1)\n",
    "fig.update_yaxes(showline=True, linewidth=1, linecolor='black', row=1, col=1)\n",
    "fig.update_xaxes(showline=True, linewidth=1, linecolor='black', row=3, col=2)\n",
    "fig.update_yaxes(showline=True, linewidth=1, linecolor='black', row=2, col=1)\n",
    "fig.update_xaxes(showline=True, linewidth=1, linecolor='black', row=3, col=3)\n",
    "fig.update_yaxes(showline=True, linewidth=1, linecolor='black', row=3, col=1)\n",
    "\n",
    "fig.update_layout(\n",
    "    title='serverity and indensity',\n",
    "    paper_bgcolor='rgb(243, 243, 243)',\n",
    "    plot_bgcolor='rgb(243, 243, 243)',\n",
    ")\n",
    "\n",
    "fig.show()"
   ]
  },
  {
   "cell_type": "code",
   "execution_count": 26,
   "metadata": {
    "tags": []
   },
   "outputs": [
    {
     "output_type": "display_data",
     "data": {
      "application/vnd.plotly.v1+json": {
       "config": {
        "plotlyServerURL": "https://plotly.com"
       },
       "data": [
        {
         "branchvalues": "total",
         "customdata": [
          [
           "Type I:high stress"
          ],
          [
           "Type IV:low stress"
          ],
          [
           "Type III:late peak"
          ],
          [
           "Type III:late peak"
          ],
          [
           "Type III:late peak"
          ],
          [
           "Type II:early peak"
          ],
          [
           "Type II:early peak"
          ],
          [
           "Type II:early peak"
          ],
          [
           "Type I:high stress"
          ],
          [
           "Type I:high stress"
          ],
          [
           "Type IV:low stress"
          ],
          [
           "Type I:high stress"
          ],
          [
           "Type IV:low stress"
          ],
          [
           "Type IV:low stress"
          ],
          [
           "Type III:late peak"
          ],
          [
           "Type III:late peak"
          ],
          [
           "Type III:late peak"
          ],
          [
           "Type II:early peak"
          ],
          [
           "Type II:early peak"
          ],
          [
           "Type II:early peak"
          ],
          [
           "Type I:high stress"
          ],
          [
           "Type IV:low stress"
          ],
          [
           "Type I:high stress"
          ],
          [
           "Type I:high stress"
          ],
          [
           "Type I:high stress"
          ],
          [
           "Type IV:low stress"
          ],
          [
           "Type IV:low stress"
          ],
          [
           "Type IV:low stress"
          ],
          [
           "Type III:late peak"
          ],
          [
           "Type III:late peak"
          ],
          [
           "Type III:late peak"
          ],
          [
           "Type II:early peak"
          ],
          [
           "Type II:early peak"
          ],
          [
           "Type II:early peak"
          ],
          [
           "Type I:high stress"
          ],
          [
           "Type I:high stress"
          ],
          [
           "Type I:high stress"
          ],
          [
           "Type IV:low stress"
          ],
          [
           "Type IV:low stress"
          ],
          [
           "Type IV:low stress"
          ],
          [
           "Type III:late peak"
          ],
          [
           "Type III:late peak"
          ],
          [
           "Type III:late peak"
          ],
          [
           "Type II:early peak"
          ],
          [
           "Type II:early peak"
          ],
          [
           "Type II:early peak"
          ],
          [
           "Type I:high stress"
          ],
          [
           "Type I:high stress"
          ],
          [
           "Type IV:low stress"
          ],
          [
           "Type IV:low stress"
          ],
          [
           "Type IV:low stress"
          ],
          [
           "Type III:late peak"
          ],
          [
           "Type III:late peak"
          ],
          [
           "Type III:late peak"
          ],
          [
           "Type II:early peak"
          ],
          [
           "Type II:early peak"
          ],
          [
           "Type II:early peak"
          ],
          [
           "Type I:high stress"
          ],
          [
           "Type I:high stress"
          ],
          [
           "Type I:high stress"
          ],
          [
           "Type IV:low stress"
          ],
          [
           "Type IV:low stress"
          ],
          [
           "Type IV:low stress"
          ],
          [
           "Type III:late peak"
          ],
          [
           "Type III:late peak"
          ],
          [
           "Type III:late peak"
          ],
          [
           "Type II:early peak"
          ],
          [
           "Type II:early peak"
          ],
          [
           "Type II:early peak"
          ],
          [
           "Type I:high stress"
          ],
          [
           "Type IV:low stress"
          ],
          [
           "Type IV:low stress"
          ],
          [
           "Type IV:low stress"
          ],
          [
           "Type I:high stress"
          ],
          [
           "Type II:early peak"
          ],
          [
           "Type IV:low stress"
          ],
          [
           "Type III:late peak"
          ],
          [
           "Type III:late peak"
          ],
          [
           "Type III:late peak"
          ],
          [
           "Type II:early peak"
          ],
          [
           "Type II:early peak"
          ],
          [
           "Type I:high stress"
          ],
          [
           "Type I:high stress"
          ],
          [
           "Type I:high stress"
          ],
          [
           "Type IV:low stress"
          ],
          [
           "Type I:high stress"
          ],
          [
           "Type IV:low stress"
          ],
          [
           "Type III:late peak"
          ],
          [
           "Type III:late peak"
          ],
          [
           "Type III:late peak"
          ],
          [
           "Type II:early peak"
          ],
          [
           "Type II:early peak"
          ],
          [
           "Type II:early peak"
          ],
          [
           "Type I:high stress"
          ],
          [
           "Type I:high stress"
          ],
          [
           "Type IV:low stress"
          ],
          [
           "Type II:early peak"
          ],
          [
           "Type I:high stress"
          ],
          [
           "Type II:early peak"
          ],
          [
           "Type II:early peak"
          ],
          [
           "Type I:high stress"
          ],
          [
           "Type III:late peak"
          ],
          [
           "Type III:late peak"
          ],
          [
           "Type IV:low stress"
          ],
          [
           "Type III:late peak"
          ],
          [
           "Type I:high stress"
          ],
          [
           "Type I:high stress"
          ],
          [
           "Type IV:low stress"
          ],
          [
           "Type IV:low stress"
          ],
          [
           "Type IV:low stress"
          ],
          [
           "Type III:late peak"
          ],
          [
           "Type III:late peak"
          ],
          [
           "Type III:late peak"
          ],
          [
           "Type II:early peak"
          ],
          [
           "Type II:early peak"
          ],
          [
           "Type II:early peak"
          ],
          [
           "Type IV:low stress"
          ],
          [
           "Type I:high stress"
          ],
          [
           "Type IV:low stress"
          ],
          [
           "Type IV:low stress"
          ],
          [
           "Type I:high stress"
          ],
          [
           "Type IV:low stress"
          ],
          [
           "Type IV:low stress"
          ],
          [
           "Type III:late peak"
          ],
          [
           "Type III:late peak"
          ],
          [
           "Type III:late peak"
          ],
          [
           "Type II:early peak"
          ],
          [
           "Type II:early peak"
          ],
          [
           "Type II:early peak"
          ],
          [
           "Type I:high stress"
          ],
          [
           "Type I:high stress"
          ],
          [
           "Type I:high stress"
          ],
          [
           "Type IV:low stress"
          ],
          [
           "Type IV:low stress"
          ],
          [
           "Type III:late peak"
          ],
          [
           "Type III:late peak"
          ],
          [
           "Type III:late peak"
          ],
          [
           "Type II:early peak"
          ],
          [
           "Type II:early peak"
          ],
          [
           "Type II:early peak"
          ],
          [
           "Type I:high stress"
          ],
          [
           "Type I:high stress"
          ],
          [
           "Type I:high stress"
          ],
          [
           "Type IV:low stress"
          ],
          [
           "Type IV:low stress"
          ],
          [
           "Type III:late peak"
          ],
          [
           "Type III:late peak"
          ],
          [
           "Type III:late peak"
          ],
          [
           "Type II:early peak"
          ],
          [
           "Type II:early peak"
          ],
          [
           "Type II:early peak"
          ],
          [
           "Type I:high stress"
          ],
          [
           "Type I:high stress"
          ],
          [
           "Type IV:low stress"
          ],
          [
           "Type IV:low stress"
          ],
          [
           "Type II:early peak"
          ],
          [
           "Type II:early peak"
          ],
          [
           "Type I:high stress"
          ],
          [
           "Type I:high stress"
          ],
          [
           "Type I:high stress"
          ],
          [
           "Type IV:low stress"
          ],
          [
           "Type IV:low stress"
          ],
          [
           "Type III:late peak"
          ],
          [
           "Type III:late peak"
          ],
          [
           "Type III:late peak"
          ],
          [
           "Type II:early peak"
          ],
          [
           "Type IV:low stress"
          ],
          [
           "Type IV:low stress"
          ],
          [
           "Type I:high stress"
          ],
          [
           "Type I:high stress"
          ],
          [
           "Type IV:low stress"
          ],
          [
           "Type IV:low stress"
          ],
          [
           "Type III:late peak"
          ],
          [
           "Type III:late peak"
          ],
          [
           "Type III:late peak"
          ],
          [
           "Type II:early peak"
          ],
          [
           "Type II:early peak"
          ],
          [
           "Type I:high stress"
          ],
          [
           "Type I:high stress"
          ],
          [
           "Type I:high stress"
          ],
          [
           "Type II:early peak"
          ],
          [
           "Type IV:low stress"
          ],
          [
           "Type IV:low stress"
          ],
          [
           "Type I:high stress"
          ],
          [
           "Type II:early peak"
          ],
          [
           "Type II:early peak"
          ],
          [
           "Type II:early peak"
          ],
          [
           "Type I:high stress"
          ],
          [
           "Type III:late peak"
          ],
          [
           "Type III:late peak"
          ],
          [
           "Type IV:low stress"
          ],
          [
           "Type III:late peak"
          ],
          [
           "Type I:high stress"
          ],
          [
           "Type IV:low stress"
          ],
          [
           "Type IV:low stress"
          ],
          [
           "Type III:late peak"
          ],
          [
           "Type III:late peak"
          ],
          [
           "Type III:late peak"
          ],
          [
           "Type II:early peak"
          ],
          [
           "Type II:early peak"
          ],
          [
           "Type II:early peak"
          ],
          [
           "Type I:high stress"
          ],
          [
           "Type I:high stress"
          ],
          [
           "Type IV:low stress"
          ],
          [
           "Type IV:low stress"
          ],
          [
           "Type IV:low stress"
          ],
          [
           "Type III:late peak"
          ],
          [
           "Type III:late peak"
          ],
          [
           "Type III:late peak"
          ],
          [
           "Type II:early peak"
          ],
          [
           "Type II:early peak"
          ],
          [
           "Type II:early peak"
          ],
          [
           "Type I:high stress"
          ],
          [
           "Type I:high stress"
          ],
          [
           "Type IV:low stress"
          ],
          [
           "Type I:high stress"
          ],
          [
           "Type I:high stress"
          ],
          [
           "Type IV:low stress"
          ],
          [
           "Type IV:low stress"
          ],
          [
           "Type III:late peak"
          ],
          [
           "Type III:late peak"
          ],
          [
           "Type III:late peak"
          ],
          [
           "Type II:early peak"
          ],
          [
           "Type II:early peak"
          ],
          [
           "Type II:early peak"
          ],
          [
           "Type I:high stress"
          ],
          [
           "Type I:high stress"
          ],
          [
           "Type I:high stress"
          ],
          [
           "Type IV:low stress"
          ],
          [
           "Type IV:low stress"
          ],
          [
           "Type IV:low stress"
          ],
          [
           "Type III:late peak"
          ],
          [
           "Type III:late peak"
          ],
          [
           "Type III:late peak"
          ],
          [
           "Type II:early peak"
          ],
          [
           "Type II:early peak"
          ],
          [
           "Type II:early peak"
          ],
          [
           "Type I:high stress"
          ],
          [
           "Type I:high stress"
          ],
          [
           "Type IV:low stress"
          ],
          [
           "Type IV:low stress"
          ],
          [
           "Type III:late peak"
          ],
          [
           "Type III:late peak"
          ],
          [
           "Type III:late peak"
          ],
          [
           "Type II:early peak"
          ],
          [
           "Type II:early peak"
          ],
          [
           "Type II:early peak"
          ],
          [
           "Type I:high stress"
          ],
          [
           "Type I:high stress"
          ],
          [
           "Type IV:low stress"
          ],
          [
           "Type IV:low stress"
          ],
          [
           "Type IV:low stress"
          ],
          [
           "Type IV:low stress"
          ],
          [
           "Type III:late peak"
          ],
          [
           "Type III:late peak"
          ],
          [
           "Type III:late peak"
          ],
          [
           "Type II:early peak"
          ],
          [
           "Type II:early peak"
          ],
          [
           "Type II:early peak"
          ],
          [
           "Type I:high stress"
          ],
          [
           "Type I:high stress"
          ],
          [
           "Type I:high stress"
          ],
          [
           "Type IV:low stress"
          ],
          [
           "Type IV:low stress"
          ],
          [
           "Type I:high stress"
          ],
          [
           "Type I:high stress"
          ],
          [
           "Type IV:low stress"
          ],
          [
           "Type IV:low stress"
          ],
          [
           "Type III:late peak"
          ],
          [
           "Type III:late peak"
          ],
          [
           "Type III:late peak"
          ],
          [
           "Type II:early peak"
          ],
          [
           "Type II:early peak"
          ],
          [
           "Type I:high stress"
          ],
          [
           "Type I:high stress"
          ],
          [
           "Type I:high stress"
          ],
          [
           "Type II:early peak"
          ],
          [
           "Type IV:low stress"
          ],
          [
           "Type IV:low stress"
          ],
          [
           "Type I:high stress"
          ],
          [
           "Type II:early peak"
          ],
          [
           "Type II:early peak"
          ],
          [
           "Type II:early peak"
          ],
          [
           "Type I:high stress"
          ],
          [
           "Type III:late peak"
          ],
          [
           "Type III:late peak"
          ],
          [
           "Type IV:low stress"
          ],
          [
           "Type III:late peak"
          ],
          [
           "Type I:high stress"
          ],
          [
           "Type IV:low stress"
          ],
          [
           "Type III:late peak"
          ],
          [
           "Type III:late peak"
          ],
          [
           "Type III:late peak"
          ],
          [
           "Type II:early peak"
          ],
          [
           "Type II:early peak"
          ],
          [
           "Type II:early peak"
          ],
          [
           "Type I:high stress"
          ],
          [
           "Type I:high stress"
          ],
          [
           "Type I:high stress"
          ],
          [
           "Type IV:low stress"
          ],
          [
           "Type IV:low stress"
          ],
          [
           "Type III:late peak"
          ],
          [
           "Type III:late peak"
          ],
          [
           "Type III:late peak"
          ],
          [
           "Type II:early peak"
          ],
          [
           "Type II:early peak"
          ],
          [
           "Type II:early peak"
          ],
          [
           "Type I:high stress"
          ],
          [
           "Type IV:low stress"
          ],
          [
           "Type IV:low stress"
          ],
          [
           "Type IV:low stress"
          ],
          [
           "Type I:high stress"
          ],
          [
           "Type I:high stress"
          ],
          [
           "Type III:late peak"
          ],
          [
           "Type III:late peak"
          ],
          [
           "Type III:late peak"
          ],
          [
           "Type II:early peak"
          ],
          [
           "Type II:early peak"
          ],
          [
           "Type II:early peak"
          ],
          [
           "Type I:high stress"
          ],
          [
           "Type I:high stress"
          ],
          [
           "Type I:high stress"
          ],
          [
           "Type IV:low stress"
          ],
          [
           "Type IV:low stress"
          ],
          [
           "Type IV:low stress"
          ],
          [
           "Type III:late peak"
          ],
          [
           "Type III:late peak"
          ],
          [
           "Type III:late peak"
          ],
          [
           "Type II:early peak"
          ],
          [
           "Type II:early peak"
          ],
          [
           "Type II:early peak"
          ],
          [
           "Type I:high stress"
          ],
          [
           "Type I:high stress"
          ],
          [
           "Type IV:low stress"
          ],
          [
           "Type IV:low stress"
          ],
          [
           "Type IV:low stress"
          ],
          [
           "Type IV:low stress"
          ],
          [
           "Type III:late peak"
          ],
          [
           "Type II:early peak"
          ],
          [
           "Type II:early peak"
          ],
          [
           "Type II:early peak"
          ],
          [
           "Type I:high stress"
          ],
          [
           "Type I:high stress"
          ],
          [
           "Type I:high stress"
          ],
          [
           "Type IV:low stress"
          ],
          [
           "Type IV:low stress"
          ],
          [
           "Type III:late peak"
          ],
          [
           "Type IV:low stress"
          ],
          [
           "Type III:late peak"
          ],
          [
           "Type III:late peak"
          ],
          [
           "Type II:early peak"
          ],
          [
           "Type II:early peak"
          ],
          [
           "Type II:early peak"
          ],
          [
           "Type I:high stress"
          ],
          [
           "Type I:high stress"
          ],
          [
           "Type I:high stress"
          ],
          [
           "Type IV:low stress"
          ],
          [
           "Type III:late peak"
          ],
          [
           "Type III:late peak"
          ],
          [
           "Type IV:low stress"
          ],
          [
           "Type IV:low stress"
          ],
          [
           "Type III:late peak"
          ],
          [
           "Type III:late peak"
          ],
          [
           "Type III:late peak"
          ],
          [
           "Type II:early peak"
          ],
          [
           "Type II:early peak"
          ],
          [
           "Type II:early peak"
          ],
          [
           "Type I:high stress"
          ],
          [
           "Type I:high stress"
          ],
          [
           "Type I:high stress"
          ],
          [
           "Type IV:low stress"
          ],
          [
           "Type IV:low stress"
          ],
          [
           "Type IV:low stress"
          ],
          [
           "Type III:late peak"
          ],
          [
           "Type III:late peak"
          ],
          [
           "Type III:late peak"
          ],
          [
           "Type II:early peak"
          ],
          [
           "Type II:early peak"
          ],
          [
           "Type II:early peak"
          ],
          [
           "Type I:high stress"
          ],
          [
           "Type I:high stress"
          ],
          [
           "Type I:high stress"
          ],
          [
           "Type IV:low stress"
          ],
          [
           "Type IV:low stress"
          ],
          [
           "Type I:high stress"
          ],
          [
           "Type I:high stress"
          ],
          [
           "Type I:high stress"
          ],
          [
           "Type II:early peak"
          ],
          [
           "Type II:early peak"
          ],
          [
           "Type II:early peak"
          ],
          [
           "Type III:late peak"
          ],
          [
           "Type III:late peak"
          ],
          [
           "Type III:late peak"
          ],
          [
           "Type IV:low stress"
          ],
          [
           "Type IV:low stress"
          ],
          [
           "Type IV:low stress"
          ],
          [
           "(?)"
          ],
          [
           "(?)"
          ],
          [
           "(?)"
          ],
          [
           "(?)"
          ]
         ],
         "domain": {
          "x": [
           0,
           1
          ],
          "y": [
           0,
           1
          ]
         },
         "hovertemplate": "%{label}<br>%{value} votes from  %{parent}<extra></extra>",
         "ids": [
          "All types/<i>Not working!</i>/Type I:high stress/cooking",
          "All types/<i>Not working!</i>/Type IV:low stress/eating<br>junk<br>food",
          "All types/<i>Works for me!</i>/Type III:late peak/eating<br>junk<br>food",
          "All types/<i>Willing to try!</i>/Type III:late peak/eating<br>junk<br>food",
          "All types/<i>Not working!</i>/Type III:late peak/eating<br>junk<br>food",
          "All types/<i>Works for me!</i>/Type II:early peak/eating<br>junk<br>food",
          "All types/<i>Willing to try!</i>/Type II:early peak/eating<br>junk<br>food",
          "All types/<i>Not working!</i>/Type II:early peak/eating<br>junk<br>food",
          "All types/<i>Works for me!</i>/Type I:high stress/eating<br>junk<br>food",
          "All types/<i>Willing to try!</i>/Type I:high stress/eating<br>junk<br>food",
          "All types/<i>Willing to try!</i>/Type IV:low stress/eating<br>junk<br>food",
          "All types/<i>Not working!</i>/Type I:high stress/eating<br>junk<br>food",
          "All types/<i>Willing to try!</i>/Type IV:low stress/eating",
          "All types/<i>Not working!</i>/Type IV:low stress/eating",
          "All types/<i>Works for me!</i>/Type III:late peak/eating",
          "All types/<i>Willing to try!</i>/Type III:late peak/eating",
          "All types/<i>Not working!</i>/Type III:late peak/eating",
          "All types/<i>Works for me!</i>/Type II:early peak/eating",
          "All types/<i>Willing to try!</i>/Type II:early peak/eating",
          "All types/<i>Not working!</i>/Type II:early peak/eating",
          "All types/<i>Works for me!</i>/Type I:high stress/eating",
          "All types/<i>Works for me!</i>/Type IV:low stress/eating",
          "All types/<i>Not working!</i>/Type I:high stress/gardening",
          "All types/<i>Willing to try!</i>/Type I:high stress/gardening",
          "All types/<i>Works for me!</i>/Type I:high stress/gardening",
          "All types/<i>Works for me!</i>/Type IV:low stress/going<br>to the <br>gym",
          "All types/<i>Willing to try!</i>/Type IV:low stress/going<br>to the <br>gym",
          "All types/<i>Not working!</i>/Type IV:low stress/going<br>to the <br>gym",
          "All types/<i>Works for me!</i>/Type III:late peak/going<br>to the <br>gym",
          "All types/<i>Willing to try!</i>/Type III:late peak/going<br>to the <br>gym",
          "All types/<i>Not working!</i>/Type III:late peak/going<br>to the <br>gym",
          "All types/<i>Works for me!</i>/Type II:early peak/going<br>to the <br>gym",
          "All types/<i>Willing to try!</i>/Type II:early peak/going<br>to the <br>gym",
          "All types/<i>Not working!</i>/Type II:early peak/going<br>to the <br>gym",
          "All types/<i>Works for me!</i>/Type I:high stress/going<br>to the <br>gym",
          "All types/<i>Willing to try!</i>/Type I:high stress/going<br>to the <br>gym",
          "All types/<i>Not working!</i>/Type I:high stress/going<br>to the <br>gym",
          "All types/<i>Works for me!</i>/Type IV:low stress/gardening",
          "All types/<i>Willing to try!</i>/Type IV:low stress/gardening",
          "All types/<i>Not working!</i>/Type IV:low stress/gardening",
          "All types/<i>Works for me!</i>/Type III:late peak/gardening",
          "All types/<i>Willing to try!</i>/Type III:late peak/gardening",
          "All types/<i>Not working!</i>/Type III:late peak/gardening",
          "All types/<i>Works for me!</i>/Type II:early peak/gardening",
          "All types/<i>Willing to try!</i>/Type II:early peak/gardening",
          "All types/<i>Not working!</i>/Type II:early peak/gardening",
          "All types/<i>Willing to try!</i>/Type I:high stress/eating",
          "All types/<i>Not working!</i>/Type I:high stress/eating",
          "All types/<i>Works for me!</i>/Type IV:low stress/eating<br>junk<br>food",
          "All types/<i>Willing to try!</i>/Type IV:low stress/drinking<br>alcohol",
          "All types/<i>Not working!</i>/Type IV:low stress/crying",
          "All types/<i>Works for me!</i>/Type III:late peak/crying",
          "All types/<i>Willing to try!</i>/Type III:late peak/crying",
          "All types/<i>Not working!</i>/Type III:late peak/crying",
          "All types/<i>Works for me!</i>/Type II:early peak/crying",
          "All types/<i>Willing to try!</i>/Type II:early peak/crying",
          "All types/<i>Not working!</i>/Type II:early peak/crying",
          "All types/<i>Works for me!</i>/Type I:high stress/crying",
          "All types/<i>Willing to try!</i>/Type I:high stress/crying",
          "All types/<i>Not working!</i>/Type I:high stress/crying",
          "All types/<i>Works for me!</i>/Type IV:low stress/cooking",
          "All types/<i>Willing to try!</i>/Type IV:low stress/cooking",
          "All types/<i>Not working!</i>/Type IV:low stress/cooking",
          "All types/<i>Works for me!</i>/Type III:late peak/cooking",
          "All types/<i>Willing to try!</i>/Type III:late peak/cooking",
          "All types/<i>Not working!</i>/Type III:late peak/cooking",
          "All types/<i>Works for me!</i>/Type II:early peak/cooking",
          "All types/<i>Willing to try!</i>/Type II:early peak/cooking",
          "All types/<i>Not working!</i>/Type II:early peak/cooking",
          "All types/<i>Works for me!</i>/Type I:high stress/cooking",
          "All types/<i>Works for me!</i>/Type IV:low stress/drinking<br>alcohol",
          "All types/<i>Willing to try!</i>/Type IV:low stress/crying",
          "All types/<i>Works for me!</i>/Type IV:low stress/crying",
          "All types/<i>Willing to try!</i>/Type I:high stress/cooking",
          "All types/<i>Not working!</i>/Type II:early peak/drinking<br>alcohol",
          "All types/<i>Not working!</i>/Type IV:low stress/drinking<br>alcohol",
          "All types/<i>Works for me!</i>/Type III:late peak/drinking<br>alcohol",
          "All types/<i>Willing to try!</i>/Type III:late peak/drinking<br>alcohol",
          "All types/<i>Not working!</i>/Type III:late peak/drinking<br>alcohol",
          "All types/<i>Works for me!</i>/Type II:early peak/drinking<br>alcohol",
          "All types/<i>Willing to try!</i>/Type II:early peak/drinking<br>alcohol",
          "All types/<i>Not working!</i>/Type I:high stress/drawing",
          "All types/<i>Works for me!</i>/Type I:high stress/drinking<br>alcohol",
          "All types/<i>Willing to try!</i>/Type I:high stress/drinking<br>alcohol",
          "All types/<i>Works for me!</i>/Type IV:low stress/drawing",
          "All types/<i>Not working!</i>/Type I:high stress/drinking<br>alcohol",
          "All types/<i>Not working!</i>/Type IV:low stress/drawing",
          "All types/<i>Works for me!</i>/Type III:late peak/drawing",
          "All types/<i>Willing to try!</i>/Type III:late peak/drawing",
          "All types/<i>Not working!</i>/Type III:late peak/drawing",
          "All types/<i>Works for me!</i>/Type II:early peak/drawing",
          "All types/<i>Willing to try!</i>/Type II:early peak/drawing",
          "All types/<i>Not working!</i>/Type II:early peak/drawing",
          "All types/<i>Works for me!</i>/Type I:high stress/drawing",
          "All types/<i>Willing to try!</i>/Type I:high stress/drawing",
          "All types/<i>Willing to try!</i>/Type IV:low stress/drawing",
          "All types/<i>Willing to try!</i>/Type II:early peak/meditation",
          "All types/<i>Works for me!</i>/Type I:high stress/meditation",
          "All types/<i>Not working!</i>/Type II:early peak/meditation",
          "All types/<i>Works for me!</i>/Type II:early peak/meditation",
          "All types/<i>Willing to try!</i>/Type I:high stress/listening<br>to<br>music",
          "All types/<i>Willing to try!</i>/Type III:late peak/meditation",
          "All types/<i>Works for me!</i>/Type III:late peak/meditation",
          "All types/<i>Not working!</i>/Type IV:low stress/meditation",
          "All types/<i>Not working!</i>/Type III:late peak/meditation",
          "All types/<i>Willing to try!</i>/Type I:high stress/meditation",
          "All types/<i>Works for me!</i>/Type I:high stress/listening<br>to<br>music",
          "All types/<i>Works for me!</i>/Type IV:low stress/listening<br>to<br>music",
          "All types/<i>Willing to try!</i>/Type IV:low stress/listening<br>to<br>music",
          "All types/<i>Not working!</i>/Type IV:low stress/listening<br>to<br>music",
          "All types/<i>Works for me!</i>/Type III:late peak/listening<br>to<br>music",
          "All types/<i>Willing to try!</i>/Type III:late peak/listening<br>to<br>music",
          "All types/<i>Not working!</i>/Type III:late peak/listening<br>to<br>music",
          "All types/<i>Works for me!</i>/Type II:early peak/listening<br>to<br>music",
          "All types/<i>Willing to try!</i>/Type II:early peak/listening<br>to<br>music",
          "All types/<i>Not working!</i>/Type II:early peak/listening<br>to<br>music",
          "All types/<i>Willing to try!</i>/Type IV:low stress/meditation",
          "All types/<i>Not working!</i>/Type I:high stress/meditation",
          "All types/<i>Works for me!</i>/Type IV:low stress/meditation",
          "All types/<i>Willing to try!</i>/Type IV:low stress/outdoor<br>activities",
          "All types/<i>Willing to try!</i>/Type I:high stress/outdoor<br>activities",
          "All types/<i>Willing to try!</i>/Type IV:low stress/planning",
          "All types/<i>Not working!</i>/Type IV:low stress/planning",
          "All types/<i>Works for me!</i>/Type III:late peak/planning",
          "All types/<i>Willing to try!</i>/Type III:late peak/planning",
          "All types/<i>Not working!</i>/Type III:late peak/planning",
          "All types/<i>Works for me!</i>/Type II:early peak/planning",
          "All types/<i>Willing to try!</i>/Type II:early peak/planning",
          "All types/<i>Not working!</i>/Type II:early peak/planning",
          "All types/<i>Works for me!</i>/Type I:high stress/planning",
          "All types/<i>Not working!</i>/Type I:high stress/outdoor<br>activities",
          "All types/<i>Willing to try!</i>/Type I:high stress/planning",
          "All types/<i>Works for me!</i>/Type IV:low stress/outdoor<br>activities",
          "All types/<i>Not working!</i>/Type IV:low stress/outdoor<br>activities",
          "All types/<i>Works for me!</i>/Type III:late peak/outdoor<br>activities",
          "All types/<i>Willing to try!</i>/Type III:late peak/outdoor<br>activities",
          "All types/<i>Not working!</i>/Type III:late peak/outdoor<br>activities",
          "All types/<i>Works for me!</i>/Type II:early peak/outdoor<br>activities",
          "All types/<i>Willing to try!</i>/Type II:early peak/outdoor<br>activities",
          "All types/<i>Not working!</i>/Type II:early peak/outdoor<br>activities",
          "All types/<i>Works for me!</i>/Type I:high stress/outdoor<br>activities",
          "All types/<i>Not working!</i>/Type I:high stress/planning",
          "All types/<i>Not working!</i>/Type I:high stress/listening<br>to<br>music",
          "All types/<i>Works for me!</i>/Type IV:low stress/planning",
          "All types/<i>Willing to try!</i>/Type IV:low stress/learning<br>new<br>skills",
          "All types/<i>Works for me!</i>/Type III:late peak/hanging<br>out with<br>friends",
          "All types/<i>Willing to try!</i>/Type III:late peak/hanging<br>out with<br>friends",
          "All types/<i>Not working!</i>/Type III:late peak/hanging<br>out with<br>friends",
          "All types/<i>Works for me!</i>/Type II:early peak/hanging<br>out with<br>friends",
          "All types/<i>Willing to try!</i>/Type II:early peak/hanging<br>out with<br>friends",
          "All types/<i>Not working!</i>/Type II:early peak/hanging<br>out with<br>friends",
          "All types/<i>Works for me!</i>/Type I:high stress/hanging<br>out with<br>friends",
          "All types/<i>Willing to try!</i>/Type I:high stress/hanging<br>out with<br>friends",
          "All types/<i>Works for me!</i>/Type IV:low stress/learning<br>new<br>skills",
          "All types/<i>Works for me!</i>/Type IV:low stress/hanging<br>out with<br>family<br>members",
          "All types/<i>Works for me!</i>/Type II:early peak/hanging<br>out with<br>family<br>members",
          "All types/<i>Not working!</i>/Type II:early peak/hanging<br>out with<br>family<br>members",
          "All types/<i>Works for me!</i>/Type I:high stress/hanging<br>out with<br>family<br>members",
          "All types/<i>Willing to try!</i>/Type I:high stress/hanging<br>out with<br>family<br>members",
          "All types/<i>Not working!</i>/Type I:high stress/hanging<br>out with<br>family<br>members",
          "All types/<i>Willing to try!</i>/Type IV:low stress/hanging out with family members ",
          "All types/<i>Not working!</i>/Type IV:low stress/hanging out with family members ",
          "All types/<i>Works for me!</i>/Type III:late peak/hanging out with family members ",
          "All types/<i>Willing to try!</i>/Type III:late peak/hanging out with family members ",
          "All types/<i>Not working!</i>/Type III:late peak/hanging out with family members ",
          "All types/<i>Willing to try!</i>/Type II:early peak/hanging out with family members ",
          "All types/<i>Not working!</i>/Type IV:low stress/hanging<br>out with<br>friends",
          "All types/<i>Willing to try!</i>/Type IV:low stress/hanging<br>out with<br>friends",
          "All types/<i>Not working!</i>/Type I:high stress/hanging<br>out with<br>friends",
          "All types/<i>Not working!</i>/Type I:high stress/journaling",
          "All types/<i>Works for me!</i>/Type IV:low stress/hanging<br>out with<br>friends",
          "All types/<i>Not working!</i>/Type IV:low stress/learning<br>new<br>skills",
          "All types/<i>Works for me!</i>/Type III:late peak/learning<br>new<br>skills",
          "All types/<i>Willing to try!</i>/Type III:late peak/learning<br>new<br>skills",
          "All types/<i>Not working!</i>/Type III:late peak/learning<br>new<br>skills",
          "All types/<i>Works for me!</i>/Type II:early peak/learning<br>new<br>skills",
          "All types/<i>Not working!</i>/Type II:early peak/learning<br>new<br>skills",
          "All types/<i>Works for me!</i>/Type I:high stress/learning<br>new<br>skills",
          "All types/<i>Willing to try!</i>/Type I:high stress/learning<br>new<br>skills",
          "All types/<i>Not working!</i>/Type I:high stress/learning<br>new<br>skills",
          "All types/<i>Willing to try!</i>/Type II:early peak/learning<br>new<br>skills",
          "All types/<i>Willing to try!</i>/Type IV:low stress/journaling",
          "All types/<i>Works for me!</i>/Type IV:low stress/journaling",
          "All types/<i>Works for me!</i>/Type I:high stress/journaling",
          "All types/<i>Not working!</i>/Type II:early peak/journaling",
          "All types/<i>Willing to try!</i>/Type II:early peak/journaling",
          "All types/<i>Works for me!</i>/Type II:early peak/journaling",
          "All types/<i>Willing to try!</i>/Type I:high stress/journaling",
          "All types/<i>Willing to try!</i>/Type III:late peak/journaling",
          "All types/<i>Works for me!</i>/Type III:late peak/journaling",
          "All types/<i>Not working!</i>/Type IV:low stress/journaling",
          "All types/<i>Not working!</i>/Type III:late peak/journaling",
          "All types/<i>Works for me!</i>/Type I:high stress/reading<br>self-help<br>books",
          "All types/<i>Willing to try!</i>/Type IV:low stress/reading<br>self-help<br>books",
          "All types/<i>Not working!</i>/Type IV:low stress/reading<br>self-help<br>books",
          "All types/<i>Works for me!</i>/Type III:late peak/reading<br>self-help<br>books",
          "All types/<i>Willing to try!</i>/Type III:late peak/reading<br>self-help<br>books",
          "All types/<i>Not working!</i>/Type III:late peak/reading<br>self-help<br>books",
          "All types/<i>Works for me!</i>/Type II:early peak/reading<br>self-help<br>books",
          "All types/<i>Willing to try!</i>/Type II:early peak/reading<br>self-help<br>books",
          "All types/<i>Not working!</i>/Type II:early peak/reading<br>self-help<br>books",
          "All types/<i>Willing to try!</i>/Type I:high stress/reading<br>self-help<br>books",
          "All types/<i>Works for me!</i>/Type I:high stress/reading<br>books",
          "All types/<i>Works for me!</i>/Type IV:low stress/reading<br>books",
          "All types/<i>Willing to try!</i>/Type IV:low stress/reading<br>books",
          "All types/<i>Not working!</i>/Type IV:low stress/reading<br>books",
          "All types/<i>Works for me!</i>/Type III:late peak/reading<br>books",
          "All types/<i>Willing to try!</i>/Type III:late peak/reading<br>books",
          "All types/<i>Not working!</i>/Type III:late peak/reading<br>books",
          "All types/<i>Works for me!</i>/Type II:early peak/reading<br>books",
          "All types/<i>Willing to try!</i>/Type II:early peak/reading<br>books",
          "All types/<i>Not working!</i>/Type II:early peak/reading<br>books",
          "All types/<i>Not working!</i>/Type I:high stress/reading<br>self-help<br>books",
          "All types/<i>Not working!</i>/Type I:high stress/running",
          "All types/<i>Works for me!</i>/Type IV:low stress/shopping/<br>window<br>shopping",
          "All types/<i>Works for me!</i>/Type I:high stress/running",
          "All types/<i>Willing to try!</i>/Type I:high stress/reading<br>books",
          "All types/<i>Willing to try!</i>/Type IV:low stress/shopping/<br>window<br>shopping",
          "All types/<i>Not working!</i>/Type IV:low stress/shopping/<br>window<br>shopping",
          "All types/<i>Works for me!</i>/Type III:late peak/shopping/<br>window<br>shopping",
          "All types/<i>Willing to try!</i>/Type III:late peak/shopping/<br>window<br>shopping",
          "All types/<i>Not working!</i>/Type III:late peak/shopping/<br>window<br>shopping",
          "All types/<i>Works for me!</i>/Type II:early peak/shopping/<br>window<br>shopping",
          "All types/<i>Willing to try!</i>/Type II:early peak/shopping/<br>window<br>shopping",
          "All types/<i>Not working!</i>/Type II:early peak/shopping/<br>window<br>shopping",
          "All types/<i>Works for me!</i>/Type I:high stress/shopping/<br>window<br>shopping",
          "All types/<i>Willing to try!</i>/Type I:high stress/shopping/<br>window<br>shopping",
          "All types/<i>Not working!</i>/Type I:high stress/shopping/<br>window<br>shopping",
          "All types/<i>Works for me!</i>/Type IV:low stress/running",
          "All types/<i>Willing to try!</i>/Type IV:low stress/running",
          "All types/<i>Not working!</i>/Type IV:low stress/running",
          "All types/<i>Works for me!</i>/Type III:late peak/running",
          "All types/<i>Willing to try!</i>/Type III:late peak/running",
          "All types/<i>Not working!</i>/Type III:late peak/running",
          "All types/<i>Works for me!</i>/Type II:early peak/running",
          "All types/<i>Willing to try!</i>/Type II:early peak/running",
          "All types/<i>Not working!</i>/Type II:early peak/running",
          "All types/<i>Willing to try!</i>/Type I:high stress/running",
          "All types/<i>Not working!</i>/Type I:high stress/reading<br>books",
          "All types/<i>Works for me!</i>/Type IV:low stress/reading<br>self-help<br>books",
          "All types/<i>Willing to try!</i>/Type IV:low stress/reading/<br>thinking<br>affirmations",
          "All types/<i>Works for me!</i>/Type III:late peak/playing<br>video<br>games",
          "All types/<i>Willing to try!</i>/Type III:late peak/playing<br>video<br>games",
          "All types/<i>Not working!</i>/Type III:late peak/playing<br>video<br>games",
          "All types/<i>Works for me!</i>/Type II:early peak/playing<br>video<br>games",
          "All types/<i>Willing to try!</i>/Type II:early peak/playing<br>video<br>games",
          "All types/<i>Not working!</i>/Type II:early peak/playing<br>video<br>games",
          "All types/<i>Works for me!</i>/Type I:high stress/playing<br>video<br>games",
          "All types/<i>Willing to try!</i>/Type I:high stress/playing<br>video<br>games",
          "All types/<i>Works for me!</i>/Type IV:low stress/reading/<br>thinking<br>affirmations",
          "All types/<i>Works for me!</i>/Type IV:low stress/planning/<br>going on<br>trips",
          "All types/<i>Willing to try!</i>/Type IV:low stress/planning/<br>going on<br>trips",
          "All types/<i>Not working!</i>/Type IV:low stress/planning/<br>going on<br>trips",
          "All types/<i>Works for me!</i>/Type III:late peak/planning/<br>going on<br>trips",
          "All types/<i>Willing to try!</i>/Type III:late peak/planning/<br>going on<br>trips",
          "All types/<i>Not working!</i>/Type III:late peak/planning/<br>going on<br>trips",
          "All types/<i>Works for me!</i>/Type II:early peak/planning/<br>going on<br>trips",
          "All types/<i>Willing to try!</i>/Type II:early peak/planning/<br>going on<br>trips",
          "All types/<i>Not working!</i>/Type II:early peak/planning/<br>going on<br>trips",
          "All types/<i>Works for me!</i>/Type I:high stress/planning/<br>going on<br>trips",
          "All types/<i>Willing to try!</i>/Type I:high stress/planning/<br>going on<br>trips",
          "All types/<i>Not working!</i>/Type I:high stress/planning/<br>going on<br>trips",
          "All types/<i>Not working!</i>/Type IV:low stress/playing<br>video<br>games",
          "All types/<i>Willing to try!</i>/Type IV:low stress/playing<br>video<br>games",
          "All types/<i>Not working!</i>/Type I:high stress/playing<br>video<br>games",
          "All types/<i>Not working!</i>/Type I:high stress/practicing<br>yoga",
          "All types/<i>Works for me!</i>/Type IV:low stress/playing<br>video<br>games",
          "All types/<i>Not working!</i>/Type IV:low stress/reading/<br>thinking<br>affirmations",
          "All types/<i>Works for me!</i>/Type III:late peak/reading/<br>thinking<br>affirmations",
          "All types/<i>Willing to try!</i>/Type III:late peak/reading/<br>thinking<br>affirmations",
          "All types/<i>Not working!</i>/Type III:late peak/reading/<br>thinking<br>affirmations",
          "All types/<i>Works for me!</i>/Type II:early peak/reading/<br>thinking<br>affirmations",
          "All types/<i>Not working!</i>/Type II:early peak/reading/<br>thinking<br>affirmations",
          "All types/<i>Works for me!</i>/Type I:high stress/reading/<br>thinking<br>affirmations",
          "All types/<i>Willing to try!</i>/Type I:high stress/reading/<br>thinking<br>affirmations",
          "All types/<i>Not working!</i>/Type I:high stress/reading/<br>thinking<br>affirmations",
          "All types/<i>Willing to try!</i>/Type II:early peak/reading/<br>thinking<br>affirmations",
          "All types/<i>Willing to try!</i>/Type IV:low stress/practicing<br>yoga",
          "All types/<i>Works for me!</i>/Type IV:low stress/practicing<br>yoga",
          "All types/<i>Works for me!</i>/Type I:high stress/practicing<br>yoga",
          "All types/<i>Not working!</i>/Type II:early peak/practicing<br>yoga",
          "All types/<i>Willing to try!</i>/Type II:early peak/practicing<br>yoga",
          "All types/<i>Works for me!</i>/Type II:early peak/practicing<br>yoga",
          "All types/<i>Willing to try!</i>/Type I:high stress/practicing<br>yoga",
          "All types/<i>Willing to try!</i>/Type III:late peak/practicing<br>yoga",
          "All types/<i>Works for me!</i>/Type III:late peak/practicing<br>yoga",
          "All types/<i>Not working!</i>/Type IV:low stress/practicing<br>yoga",
          "All types/<i>Not working!</i>/Type III:late peak/practicing<br>yoga",
          "All types/<i>Willing to try!</i>/Type I:high stress/using<br>drugs",
          "All types/<i>Not working!</i>/Type IV:low stress/using<br>drugs",
          "All types/<i>Works for me!</i>/Type III:late peak/using<br>drugs",
          "All types/<i>Willing to try!</i>/Type III:late peak/using<br>drugs",
          "All types/<i>Not working!</i>/Type III:late peak/using<br>drugs",
          "All types/<i>Works for me!</i>/Type II:early peak/using<br>drugs",
          "All types/<i>Willing to try!</i>/Type II:early peak/using<br>drugs",
          "All types/<i>Not working!</i>/Type II:early peak/using<br>drugs",
          "All types/<i>Works for me!</i>/Type I:high stress/using<br>drugs",
          "All types/<i>Not working!</i>/Type I:high stress/using<br>drugs",
          "All types/<i>Willing to try!</i>/Type I:high stress/talking<br>to<br>friends",
          "All types/<i>Willing to try!</i>/Type IV:low stress/talking<br>to<br>friends",
          "All types/<i>Not working!</i>/Type IV:low stress/talking<br>to<br>friends",
          "All types/<i>Works for me!</i>/Type III:late peak/talking<br>to<br>friends",
          "All types/<i>Willing to try!</i>/Type III:late peak/talking<br>to<br>friends",
          "All types/<i>Not working!</i>/Type III:late peak/talking<br>to<br>friends",
          "All types/<i>Works for me!</i>/Type II:early peak/talking<br>to<br>friends",
          "All types/<i>Willing to try!</i>/Type II:early peak/talking<br>to<br>friends",
          "All types/<i>Not working!</i>/Type II:early peak/talking<br>to<br>friends",
          "All types/<i>Works for me!</i>/Type I:high stress/talking<br>to<br>friends",
          "All types/<i>Works for me!</i>/Type IV:low stress/talking<br>to<br>friends",
          "All types/<i>Willing to try!</i>/Type IV:low stress/using<br>drugs",
          "All types/<i>Not working!</i>/Type IV:low stress/watching<br>movies/<br>tv shows",
          "All types/<i>Not working!</i>/Type I:high stress/volunteering",
          "All types/<i>Not working!</i>/Type I:high stress/talking<br>to<br>friends",
          "All types/<i>Works for me!</i>/Type III:late peak/watching<br>movies/<br>tv shows",
          "All types/<i>Willing to try!</i>/Type III:late peak/watching<br>movies/<br>tv shows",
          "All types/<i>Not working!</i>/Type III:late peak/watching<br>movies/<br>tv shows",
          "All types/<i>Works for me!</i>/Type II:early peak/watching<br>movies/<br>tv shows",
          "All types/<i>Willing to try!</i>/Type II:early peak/watching<br>movies/<br>tv shows",
          "All types/<i>Not working!</i>/Type II:early peak/watching<br>movies/<br>tv shows",
          "All types/<i>Works for me!</i>/Type I:high stress/watching<br>movies/<br>tv shows",
          "All types/<i>Willing to try!</i>/Type I:high stress/watching<br>movies/<br>tv shows",
          "All types/<i>Not working!</i>/Type I:high stress/watching<br>movies/<br>tv shows",
          "All types/<i>Works for me!</i>/Type IV:low stress/volunteering",
          "All types/<i>Willing to try!</i>/Type IV:low stress/volunteering",
          "All types/<i>Not working!</i>/Type IV:low stress/volunteering",
          "All types/<i>Works for me!</i>/Type III:late peak/volunteering",
          "All types/<i>Willing to try!</i>/Type III:late peak/volunteering",
          "All types/<i>Not working!</i>/Type III:late peak/volunteering",
          "All types/<i>Works for me!</i>/Type II:early peak/volunteering",
          "All types/<i>Willing to try!</i>/Type II:early peak/volunteering",
          "All types/<i>Not working!</i>/Type II:early peak/volunteering",
          "All types/<i>Works for me!</i>/Type I:high stress/volunteering",
          "All types/<i>Willing to try!</i>/Type I:high stress/volunteering",
          "All types/<i>Works for me!</i>/Type IV:low stress/using<br>drugs",
          "All types/<i>Works for me!</i>/Type IV:low stress/talking<br>to family<br>members",
          "All types/<i>Works for me!</i>/Type IV:low stress/social<br>media",
          "All types/<i>Not working!</i>/Type IV:low stress/talking<br>to family<br>members",
          "All types/<i>Not working!</i>/Type III:late peak/social<br>media",
          "All types/<i>Works for me!</i>/Type II:early peak/social<br>media",
          "All types/<i>Willing to try!</i>/Type II:early peak/social<br>media",
          "All types/<i>Not working!</i>/Type II:early peak/social<br>media",
          "All types/<i>Works for me!</i>/Type I:high stress/social<br>media",
          "All types/<i>Willing to try!</i>/Type I:high stress/social<br>media",
          "All types/<i>Not working!</i>/Type I:high stress/social<br>media",
          "All types/<i>Works for me!</i>/Type IV:low stress/sleeping",
          "All types/<i>Willing to try!</i>/Type IV:low stress/sleeping",
          "All types/<i>Willing to try!</i>/Type III:late peak/social<br>media",
          "All types/<i>Not working!</i>/Type IV:low stress/sleeping",
          "All types/<i>Willing to try!</i>/Type III:late peak/sleeping",
          "All types/<i>Not working!</i>/Type III:late peak/sleeping",
          "All types/<i>Works for me!</i>/Type II:early peak/sleeping",
          "All types/<i>Willing to try!</i>/Type II:early peak/sleeping",
          "All types/<i>Not working!</i>/Type II:early peak/sleeping",
          "All types/<i>Works for me!</i>/Type I:high stress/sleeping",
          "All types/<i>Willing to try!</i>/Type I:high stress/sleeping",
          "All types/<i>Not working!</i>/Type I:high stress/sleeping",
          "All types/<i>Willing to try!</i>/Type IV:low stress/watching<br>movies/<br>tv shows",
          "All types/<i>Works for me!</i>/Type III:late peak/sleeping",
          "All types/<i>Works for me!</i>/Type III:late peak/social<br>media",
          "All types/<i>Not working!</i>/Type IV:low stress/social<br>media",
          "All types/<i>Willing to try!</i>/Type IV:low stress/social<br>media",
          "All types/<i>Works for me!</i>/Type III:late peak/talking<br>to family<br>members",
          "All types/<i>Willing to try!</i>/Type III:late peak/talking<br>to family<br>members",
          "All types/<i>Not working!</i>/Type III:late peak/talking<br>to family<br>members",
          "All types/<i>Works for me!</i>/Type II:early peak/talking<br>to family<br>members",
          "All types/<i>Willing to try!</i>/Type II:early peak/talking<br>to family<br>members",
          "All types/<i>Not working!</i>/Type II:early peak/talking<br>to family<br>members",
          "All types/<i>Works for me!</i>/Type I:high stress/talking<br>to family<br>members",
          "All types/<i>Willing to try!</i>/Type I:high stress/talking<br>to family<br>members",
          "All types/<i>Not working!</i>/Type I:high stress/talking<br>to family<br>members",
          "All types/<i>Works for me!</i>/Type IV:low stress/talking<br>to a<br>professional",
          "All types/<i>Willing to try!</i>/Type IV:low stress/talking<br>to a<br>professional",
          "All types/<i>Not working!</i>/Type IV:low stress/talking<br>to a<br>professional",
          "All types/<i>Works for me!</i>/Type III:late peak/talking<br>to a<br>professional",
          "All types/<i>Willing to try!</i>/Type III:late peak/talking<br>to a<br>professional",
          "All types/<i>Not working!</i>/Type III:late peak/talking<br>to a<br>professional",
          "All types/<i>Works for me!</i>/Type II:early peak/talking<br>to a<br>professional",
          "All types/<i>Willing to try!</i>/Type II:early peak/talking<br>to a<br>professional",
          "All types/<i>Not working!</i>/Type II:early peak/talking<br>to a<br>professional",
          "All types/<i>Works for me!</i>/Type I:high stress/talking<br>to a<br>professional",
          "All types/<i>Willing to try!</i>/Type I:high stress/talking<br>to a<br>professional",
          "All types/<i>Not working!</i>/Type I:high stress/talking<br>to a<br>professional",
          "All types/<i>Willing to try!</i>/Type IV:low stress/talking<br>to family<br>members",
          "All types/<i>Works for me!</i>/Type IV:low stress/watching<br>movies/<br>tv shows",
          "All types/<i>Not working!</i>/Type I:high stress",
          "All types/<i>Willing to try!</i>/Type I:high stress",
          "All types/<i>Works for me!</i>/Type I:high stress",
          "All types/<i>Not working!</i>/Type II:early peak",
          "All types/<i>Willing to try!</i>/Type II:early peak",
          "All types/<i>Works for me!</i>/Type II:early peak",
          "All types/<i>Not working!</i>/Type III:late peak",
          "All types/<i>Willing to try!</i>/Type III:late peak",
          "All types/<i>Works for me!</i>/Type III:late peak",
          "All types/<i>Not working!</i>/Type IV:low stress",
          "All types/<i>Willing to try!</i>/Type IV:low stress",
          "All types/<i>Works for me!</i>/Type IV:low stress",
          "All types/<i>Not working!</i>",
          "All types/<i>Willing to try!</i>",
          "All types/<i>Works for me!</i>",
          "All types"
         ],
         "labels": [
          "cooking",
          "eating<br>junk<br>food",
          "eating<br>junk<br>food",
          "eating<br>junk<br>food",
          "eating<br>junk<br>food",
          "eating<br>junk<br>food",
          "eating<br>junk<br>food",
          "eating<br>junk<br>food",
          "eating<br>junk<br>food",
          "eating<br>junk<br>food",
          "eating<br>junk<br>food",
          "eating<br>junk<br>food",
          "eating",
          "eating",
          "eating",
          "eating",
          "eating",
          "eating",
          "eating",
          "eating",
          "eating",
          "eating",
          "gardening",
          "gardening",
          "gardening",
          "going<br>to the <br>gym",
          "going<br>to the <br>gym",
          "going<br>to the <br>gym",
          "going<br>to the <br>gym",
          "going<br>to the <br>gym",
          "going<br>to the <br>gym",
          "going<br>to the <br>gym",
          "going<br>to the <br>gym",
          "going<br>to the <br>gym",
          "going<br>to the <br>gym",
          "going<br>to the <br>gym",
          "going<br>to the <br>gym",
          "gardening",
          "gardening",
          "gardening",
          "gardening",
          "gardening",
          "gardening",
          "gardening",
          "gardening",
          "gardening",
          "eating",
          "eating",
          "eating<br>junk<br>food",
          "drinking<br>alcohol",
          "crying",
          "crying",
          "crying",
          "crying",
          "crying",
          "crying",
          "crying",
          "crying",
          "crying",
          "crying",
          "cooking",
          "cooking",
          "cooking",
          "cooking",
          "cooking",
          "cooking",
          "cooking",
          "cooking",
          "cooking",
          "cooking",
          "drinking<br>alcohol",
          "crying",
          "crying",
          "cooking",
          "drinking<br>alcohol",
          "drinking<br>alcohol",
          "drinking<br>alcohol",
          "drinking<br>alcohol",
          "drinking<br>alcohol",
          "drinking<br>alcohol",
          "drinking<br>alcohol",
          "drawing",
          "drinking<br>alcohol",
          "drinking<br>alcohol",
          "drawing",
          "drinking<br>alcohol",
          "drawing",
          "drawing",
          "drawing",
          "drawing",
          "drawing",
          "drawing",
          "drawing",
          "drawing",
          "drawing",
          "drawing",
          "meditation",
          "meditation",
          "meditation",
          "meditation",
          "listening<br>to<br>music",
          "meditation",
          "meditation",
          "meditation",
          "meditation",
          "meditation",
          "listening<br>to<br>music",
          "listening<br>to<br>music",
          "listening<br>to<br>music",
          "listening<br>to<br>music",
          "listening<br>to<br>music",
          "listening<br>to<br>music",
          "listening<br>to<br>music",
          "listening<br>to<br>music",
          "listening<br>to<br>music",
          "listening<br>to<br>music",
          "meditation",
          "meditation",
          "meditation",
          "outdoor<br>activities",
          "outdoor<br>activities",
          "planning",
          "planning",
          "planning",
          "planning",
          "planning",
          "planning",
          "planning",
          "planning",
          "planning",
          "outdoor<br>activities",
          "planning",
          "outdoor<br>activities",
          "outdoor<br>activities",
          "outdoor<br>activities",
          "outdoor<br>activities",
          "outdoor<br>activities",
          "outdoor<br>activities",
          "outdoor<br>activities",
          "outdoor<br>activities",
          "outdoor<br>activities",
          "planning",
          "listening<br>to<br>music",
          "planning",
          "learning<br>new<br>skills",
          "hanging<br>out with<br>friends",
          "hanging<br>out with<br>friends",
          "hanging<br>out with<br>friends",
          "hanging<br>out with<br>friends",
          "hanging<br>out with<br>friends",
          "hanging<br>out with<br>friends",
          "hanging<br>out with<br>friends",
          "hanging<br>out with<br>friends",
          "learning<br>new<br>skills",
          "hanging<br>out with<br>family<br>members",
          "hanging<br>out with<br>family<br>members",
          "hanging<br>out with<br>family<br>members",
          "hanging<br>out with<br>family<br>members",
          "hanging<br>out with<br>family<br>members",
          "hanging<br>out with<br>family<br>members",
          "hanging out with family members ",
          "hanging out with family members ",
          "hanging out with family members ",
          "hanging out with family members ",
          "hanging out with family members ",
          "hanging out with family members ",
          "hanging<br>out with<br>friends",
          "hanging<br>out with<br>friends",
          "hanging<br>out with<br>friends",
          "journaling",
          "hanging<br>out with<br>friends",
          "learning<br>new<br>skills",
          "learning<br>new<br>skills",
          "learning<br>new<br>skills",
          "learning<br>new<br>skills",
          "learning<br>new<br>skills",
          "learning<br>new<br>skills",
          "learning<br>new<br>skills",
          "learning<br>new<br>skills",
          "learning<br>new<br>skills",
          "learning<br>new<br>skills",
          "journaling",
          "journaling",
          "journaling",
          "journaling",
          "journaling",
          "journaling",
          "journaling",
          "journaling",
          "journaling",
          "journaling",
          "journaling",
          "reading<br>self-help<br>books",
          "reading<br>self-help<br>books",
          "reading<br>self-help<br>books",
          "reading<br>self-help<br>books",
          "reading<br>self-help<br>books",
          "reading<br>self-help<br>books",
          "reading<br>self-help<br>books",
          "reading<br>self-help<br>books",
          "reading<br>self-help<br>books",
          "reading<br>self-help<br>books",
          "reading<br>books",
          "reading<br>books",
          "reading<br>books",
          "reading<br>books",
          "reading<br>books",
          "reading<br>books",
          "reading<br>books",
          "reading<br>books",
          "reading<br>books",
          "reading<br>books",
          "reading<br>self-help<br>books",
          "running",
          "shopping/<br>window<br>shopping",
          "running",
          "reading<br>books",
          "shopping/<br>window<br>shopping",
          "shopping/<br>window<br>shopping",
          "shopping/<br>window<br>shopping",
          "shopping/<br>window<br>shopping",
          "shopping/<br>window<br>shopping",
          "shopping/<br>window<br>shopping",
          "shopping/<br>window<br>shopping",
          "shopping/<br>window<br>shopping",
          "shopping/<br>window<br>shopping",
          "shopping/<br>window<br>shopping",
          "shopping/<br>window<br>shopping",
          "running",
          "running",
          "running",
          "running",
          "running",
          "running",
          "running",
          "running",
          "running",
          "running",
          "reading<br>books",
          "reading<br>self-help<br>books",
          "reading/<br>thinking<br>affirmations",
          "playing<br>video<br>games",
          "playing<br>video<br>games",
          "playing<br>video<br>games",
          "playing<br>video<br>games",
          "playing<br>video<br>games",
          "playing<br>video<br>games",
          "playing<br>video<br>games",
          "playing<br>video<br>games",
          "reading/<br>thinking<br>affirmations",
          "planning/<br>going on<br>trips",
          "planning/<br>going on<br>trips",
          "planning/<br>going on<br>trips",
          "planning/<br>going on<br>trips",
          "planning/<br>going on<br>trips",
          "planning/<br>going on<br>trips",
          "planning/<br>going on<br>trips",
          "planning/<br>going on<br>trips",
          "planning/<br>going on<br>trips",
          "planning/<br>going on<br>trips",
          "planning/<br>going on<br>trips",
          "planning/<br>going on<br>trips",
          "playing<br>video<br>games",
          "playing<br>video<br>games",
          "playing<br>video<br>games",
          "practicing<br>yoga",
          "playing<br>video<br>games",
          "reading/<br>thinking<br>affirmations",
          "reading/<br>thinking<br>affirmations",
          "reading/<br>thinking<br>affirmations",
          "reading/<br>thinking<br>affirmations",
          "reading/<br>thinking<br>affirmations",
          "reading/<br>thinking<br>affirmations",
          "reading/<br>thinking<br>affirmations",
          "reading/<br>thinking<br>affirmations",
          "reading/<br>thinking<br>affirmations",
          "reading/<br>thinking<br>affirmations",
          "practicing<br>yoga",
          "practicing<br>yoga",
          "practicing<br>yoga",
          "practicing<br>yoga",
          "practicing<br>yoga",
          "practicing<br>yoga",
          "practicing<br>yoga",
          "practicing<br>yoga",
          "practicing<br>yoga",
          "practicing<br>yoga",
          "practicing<br>yoga",
          "using<br>drugs",
          "using<br>drugs",
          "using<br>drugs",
          "using<br>drugs",
          "using<br>drugs",
          "using<br>drugs",
          "using<br>drugs",
          "using<br>drugs",
          "using<br>drugs",
          "using<br>drugs",
          "talking<br>to<br>friends",
          "talking<br>to<br>friends",
          "talking<br>to<br>friends",
          "talking<br>to<br>friends",
          "talking<br>to<br>friends",
          "talking<br>to<br>friends",
          "talking<br>to<br>friends",
          "talking<br>to<br>friends",
          "talking<br>to<br>friends",
          "talking<br>to<br>friends",
          "talking<br>to<br>friends",
          "using<br>drugs",
          "watching<br>movies/<br>tv shows",
          "volunteering",
          "talking<br>to<br>friends",
          "watching<br>movies/<br>tv shows",
          "watching<br>movies/<br>tv shows",
          "watching<br>movies/<br>tv shows",
          "watching<br>movies/<br>tv shows",
          "watching<br>movies/<br>tv shows",
          "watching<br>movies/<br>tv shows",
          "watching<br>movies/<br>tv shows",
          "watching<br>movies/<br>tv shows",
          "watching<br>movies/<br>tv shows",
          "volunteering",
          "volunteering",
          "volunteering",
          "volunteering",
          "volunteering",
          "volunteering",
          "volunteering",
          "volunteering",
          "volunteering",
          "volunteering",
          "volunteering",
          "using<br>drugs",
          "talking<br>to family<br>members",
          "social<br>media",
          "talking<br>to family<br>members",
          "social<br>media",
          "social<br>media",
          "social<br>media",
          "social<br>media",
          "social<br>media",
          "social<br>media",
          "social<br>media",
          "sleeping",
          "sleeping",
          "social<br>media",
          "sleeping",
          "sleeping",
          "sleeping",
          "sleeping",
          "sleeping",
          "sleeping",
          "sleeping",
          "sleeping",
          "sleeping",
          "watching<br>movies/<br>tv shows",
          "sleeping",
          "social<br>media",
          "social<br>media",
          "social<br>media",
          "talking<br>to family<br>members",
          "talking<br>to family<br>members",
          "talking<br>to family<br>members",
          "talking<br>to family<br>members",
          "talking<br>to family<br>members",
          "talking<br>to family<br>members",
          "talking<br>to family<br>members",
          "talking<br>to family<br>members",
          "talking<br>to family<br>members",
          "talking<br>to a<br>professional",
          "talking<br>to a<br>professional",
          "talking<br>to a<br>professional",
          "talking<br>to a<br>professional",
          "talking<br>to a<br>professional",
          "talking<br>to a<br>professional",
          "talking<br>to a<br>professional",
          "talking<br>to a<br>professional",
          "talking<br>to a<br>professional",
          "talking<br>to a<br>professional",
          "talking<br>to a<br>professional",
          "talking<br>to a<br>professional",
          "talking<br>to family<br>members",
          "watching<br>movies/<br>tv shows",
          "Type I:high stress",
          "Type I:high stress",
          "Type I:high stress",
          "Type II:early peak",
          "Type II:early peak",
          "Type II:early peak",
          "Type III:late peak",
          "Type III:late peak",
          "Type III:late peak",
          "Type IV:low stress",
          "Type IV:low stress",
          "Type IV:low stress",
          "<i>Not working!</i>",
          "<i>Willing to try!</i>",
          "<i>Works for me!</i>",
          "All types"
         ],
         "marker": {
          "colors": [
           "#eba092",
           "a8c665",
           "9dd3c8",
           "9dd3c8",
           "9dd3c8",
           "#dccf82",
           "#dccf82",
           "#dccf82",
           "#eba092",
           "#eba092",
           "a8c665",
           "#eba092",
           "a8c665",
           "a8c665",
           "9dd3c8",
           "9dd3c8",
           "9dd3c8",
           "#dccf82",
           "#dccf82",
           "#dccf82",
           "#eba092",
           "a8c665",
           "#eba092",
           "#eba092",
           "#eba092",
           "a8c665",
           "a8c665",
           "a8c665",
           "9dd3c8",
           "9dd3c8",
           "9dd3c8",
           "#dccf82",
           "#dccf82",
           "#dccf82",
           "#eba092",
           "#eba092",
           "#eba092",
           "a8c665",
           "a8c665",
           "a8c665",
           "9dd3c8",
           "9dd3c8",
           "9dd3c8",
           "#dccf82",
           "#dccf82",
           "#dccf82",
           "#eba092",
           "#eba092",
           "a8c665",
           "a8c665",
           "a8c665",
           "9dd3c8",
           "9dd3c8",
           "9dd3c8",
           "#dccf82",
           "#dccf82",
           "#dccf82",
           "#eba092",
           "#eba092",
           "#eba092",
           "a8c665",
           "a8c665",
           "a8c665",
           "9dd3c8",
           "9dd3c8",
           "9dd3c8",
           "#dccf82",
           "#dccf82",
           "#dccf82",
           "#eba092",
           "a8c665",
           "a8c665",
           "a8c665",
           "#eba092",
           "#dccf82",
           "a8c665",
           "9dd3c8",
           "9dd3c8",
           "9dd3c8",
           "#dccf82",
           "#dccf82",
           "#eba092",
           "#eba092",
           "#eba092",
           "a8c665",
           "#eba092",
           "a8c665",
           "9dd3c8",
           "9dd3c8",
           "9dd3c8",
           "#dccf82",
           "#dccf82",
           "#dccf82",
           "#eba092",
           "#eba092",
           "a8c665",
           "#dccf82",
           "#eba092",
           "#dccf82",
           "#dccf82",
           "#eba092",
           "9dd3c8",
           "9dd3c8",
           "a8c665",
           "9dd3c8",
           "#eba092",
           "#eba092",
           "a8c665",
           "a8c665",
           "a8c665",
           "9dd3c8",
           "9dd3c8",
           "9dd3c8",
           "#dccf82",
           "#dccf82",
           "#dccf82",
           "a8c665",
           "#eba092",
           "a8c665",
           "a8c665",
           "#eba092",
           "a8c665",
           "a8c665",
           "9dd3c8",
           "9dd3c8",
           "9dd3c8",
           "#dccf82",
           "#dccf82",
           "#dccf82",
           "#eba092",
           "#eba092",
           "#eba092",
           "a8c665",
           "a8c665",
           "9dd3c8",
           "9dd3c8",
           "9dd3c8",
           "#dccf82",
           "#dccf82",
           "#dccf82",
           "#eba092",
           "#eba092",
           "#eba092",
           "a8c665",
           "a8c665",
           "9dd3c8",
           "9dd3c8",
           "9dd3c8",
           "#dccf82",
           "#dccf82",
           "#dccf82",
           "#eba092",
           "#eba092",
           "a8c665",
           "a8c665",
           "#dccf82",
           "#dccf82",
           "#eba092",
           "#eba092",
           "#eba092",
           "a8c665",
           "a8c665",
           "9dd3c8",
           "9dd3c8",
           "9dd3c8",
           "#dccf82",
           "a8c665",
           "a8c665",
           "#eba092",
           "#eba092",
           "a8c665",
           "a8c665",
           "9dd3c8",
           "9dd3c8",
           "9dd3c8",
           "#dccf82",
           "#dccf82",
           "#eba092",
           "#eba092",
           "#eba092",
           "#dccf82",
           "a8c665",
           "a8c665",
           "#eba092",
           "#dccf82",
           "#dccf82",
           "#dccf82",
           "#eba092",
           "9dd3c8",
           "9dd3c8",
           "a8c665",
           "9dd3c8",
           "#eba092",
           "a8c665",
           "a8c665",
           "9dd3c8",
           "9dd3c8",
           "9dd3c8",
           "#dccf82",
           "#dccf82",
           "#dccf82",
           "#eba092",
           "#eba092",
           "a8c665",
           "a8c665",
           "a8c665",
           "9dd3c8",
           "9dd3c8",
           "9dd3c8",
           "#dccf82",
           "#dccf82",
           "#dccf82",
           "#eba092",
           "#eba092",
           "a8c665",
           "#eba092",
           "#eba092",
           "a8c665",
           "a8c665",
           "9dd3c8",
           "9dd3c8",
           "9dd3c8",
           "#dccf82",
           "#dccf82",
           "#dccf82",
           "#eba092",
           "#eba092",
           "#eba092",
           "a8c665",
           "a8c665",
           "a8c665",
           "9dd3c8",
           "9dd3c8",
           "9dd3c8",
           "#dccf82",
           "#dccf82",
           "#dccf82",
           "#eba092",
           "#eba092",
           "a8c665",
           "a8c665",
           "9dd3c8",
           "9dd3c8",
           "9dd3c8",
           "#dccf82",
           "#dccf82",
           "#dccf82",
           "#eba092",
           "#eba092",
           "a8c665",
           "a8c665",
           "a8c665",
           "a8c665",
           "9dd3c8",
           "9dd3c8",
           "9dd3c8",
           "#dccf82",
           "#dccf82",
           "#dccf82",
           "#eba092",
           "#eba092",
           "#eba092",
           "a8c665",
           "a8c665",
           "#eba092",
           "#eba092",
           "a8c665",
           "a8c665",
           "9dd3c8",
           "9dd3c8",
           "9dd3c8",
           "#dccf82",
           "#dccf82",
           "#eba092",
           "#eba092",
           "#eba092",
           "#dccf82",
           "a8c665",
           "a8c665",
           "#eba092",
           "#dccf82",
           "#dccf82",
           "#dccf82",
           "#eba092",
           "9dd3c8",
           "9dd3c8",
           "a8c665",
           "9dd3c8",
           "#eba092",
           "a8c665",
           "9dd3c8",
           "9dd3c8",
           "9dd3c8",
           "#dccf82",
           "#dccf82",
           "#dccf82",
           "#eba092",
           "#eba092",
           "#eba092",
           "a8c665",
           "a8c665",
           "9dd3c8",
           "9dd3c8",
           "9dd3c8",
           "#dccf82",
           "#dccf82",
           "#dccf82",
           "#eba092",
           "a8c665",
           "a8c665",
           "a8c665",
           "#eba092",
           "#eba092",
           "9dd3c8",
           "9dd3c8",
           "9dd3c8",
           "#dccf82",
           "#dccf82",
           "#dccf82",
           "#eba092",
           "#eba092",
           "#eba092",
           "a8c665",
           "a8c665",
           "a8c665",
           "9dd3c8",
           "9dd3c8",
           "9dd3c8",
           "#dccf82",
           "#dccf82",
           "#dccf82",
           "#eba092",
           "#eba092",
           "a8c665",
           "a8c665",
           "a8c665",
           "a8c665",
           "9dd3c8",
           "#dccf82",
           "#dccf82",
           "#dccf82",
           "#eba092",
           "#eba092",
           "#eba092",
           "a8c665",
           "a8c665",
           "9dd3c8",
           "a8c665",
           "9dd3c8",
           "9dd3c8",
           "#dccf82",
           "#dccf82",
           "#dccf82",
           "#eba092",
           "#eba092",
           "#eba092",
           "a8c665",
           "9dd3c8",
           "9dd3c8",
           "a8c665",
           "a8c665",
           "9dd3c8",
           "9dd3c8",
           "9dd3c8",
           "#dccf82",
           "#dccf82",
           "#dccf82",
           "#eba092",
           "#eba092",
           "#eba092",
           "a8c665",
           "a8c665",
           "a8c665",
           "9dd3c8",
           "9dd3c8",
           "9dd3c8",
           "#dccf82",
           "#dccf82",
           "#dccf82",
           "#eba092",
           "#eba092",
           "#eba092",
           "a8c665",
           "a8c665",
           "#eba092",
           "#eba092",
           "#eba092",
           "#dccf82",
           "#dccf82",
           "#dccf82",
           "9dd3c8",
           "9dd3c8",
           "9dd3c8",
           "a8c665",
           "a8c665",
           "a8c665",
           "#f4f4f4",
           "#f4f4f4",
           "#f4f4f4",
           "#f4f4f4"
          ]
         },
         "name": "",
         "parents": [
          "All types/<i>Not working!</i>/Type I:high stress",
          "All types/<i>Not working!</i>/Type IV:low stress",
          "All types/<i>Works for me!</i>/Type III:late peak",
          "All types/<i>Willing to try!</i>/Type III:late peak",
          "All types/<i>Not working!</i>/Type III:late peak",
          "All types/<i>Works for me!</i>/Type II:early peak",
          "All types/<i>Willing to try!</i>/Type II:early peak",
          "All types/<i>Not working!</i>/Type II:early peak",
          "All types/<i>Works for me!</i>/Type I:high stress",
          "All types/<i>Willing to try!</i>/Type I:high stress",
          "All types/<i>Willing to try!</i>/Type IV:low stress",
          "All types/<i>Not working!</i>/Type I:high stress",
          "All types/<i>Willing to try!</i>/Type IV:low stress",
          "All types/<i>Not working!</i>/Type IV:low stress",
          "All types/<i>Works for me!</i>/Type III:late peak",
          "All types/<i>Willing to try!</i>/Type III:late peak",
          "All types/<i>Not working!</i>/Type III:late peak",
          "All types/<i>Works for me!</i>/Type II:early peak",
          "All types/<i>Willing to try!</i>/Type II:early peak",
          "All types/<i>Not working!</i>/Type II:early peak",
          "All types/<i>Works for me!</i>/Type I:high stress",
          "All types/<i>Works for me!</i>/Type IV:low stress",
          "All types/<i>Not working!</i>/Type I:high stress",
          "All types/<i>Willing to try!</i>/Type I:high stress",
          "All types/<i>Works for me!</i>/Type I:high stress",
          "All types/<i>Works for me!</i>/Type IV:low stress",
          "All types/<i>Willing to try!</i>/Type IV:low stress",
          "All types/<i>Not working!</i>/Type IV:low stress",
          "All types/<i>Works for me!</i>/Type III:late peak",
          "All types/<i>Willing to try!</i>/Type III:late peak",
          "All types/<i>Not working!</i>/Type III:late peak",
          "All types/<i>Works for me!</i>/Type II:early peak",
          "All types/<i>Willing to try!</i>/Type II:early peak",
          "All types/<i>Not working!</i>/Type II:early peak",
          "All types/<i>Works for me!</i>/Type I:high stress",
          "All types/<i>Willing to try!</i>/Type I:high stress",
          "All types/<i>Not working!</i>/Type I:high stress",
          "All types/<i>Works for me!</i>/Type IV:low stress",
          "All types/<i>Willing to try!</i>/Type IV:low stress",
          "All types/<i>Not working!</i>/Type IV:low stress",
          "All types/<i>Works for me!</i>/Type III:late peak",
          "All types/<i>Willing to try!</i>/Type III:late peak",
          "All types/<i>Not working!</i>/Type III:late peak",
          "All types/<i>Works for me!</i>/Type II:early peak",
          "All types/<i>Willing to try!</i>/Type II:early peak",
          "All types/<i>Not working!</i>/Type II:early peak",
          "All types/<i>Willing to try!</i>/Type I:high stress",
          "All types/<i>Not working!</i>/Type I:high stress",
          "All types/<i>Works for me!</i>/Type IV:low stress",
          "All types/<i>Willing to try!</i>/Type IV:low stress",
          "All types/<i>Not working!</i>/Type IV:low stress",
          "All types/<i>Works for me!</i>/Type III:late peak",
          "All types/<i>Willing to try!</i>/Type III:late peak",
          "All types/<i>Not working!</i>/Type III:late peak",
          "All types/<i>Works for me!</i>/Type II:early peak",
          "All types/<i>Willing to try!</i>/Type II:early peak",
          "All types/<i>Not working!</i>/Type II:early peak",
          "All types/<i>Works for me!</i>/Type I:high stress",
          "All types/<i>Willing to try!</i>/Type I:high stress",
          "All types/<i>Not working!</i>/Type I:high stress",
          "All types/<i>Works for me!</i>/Type IV:low stress",
          "All types/<i>Willing to try!</i>/Type IV:low stress",
          "All types/<i>Not working!</i>/Type IV:low stress",
          "All types/<i>Works for me!</i>/Type III:late peak",
          "All types/<i>Willing to try!</i>/Type III:late peak",
          "All types/<i>Not working!</i>/Type III:late peak",
          "All types/<i>Works for me!</i>/Type II:early peak",
          "All types/<i>Willing to try!</i>/Type II:early peak",
          "All types/<i>Not working!</i>/Type II:early peak",
          "All types/<i>Works for me!</i>/Type I:high stress",
          "All types/<i>Works for me!</i>/Type IV:low stress",
          "All types/<i>Willing to try!</i>/Type IV:low stress",
          "All types/<i>Works for me!</i>/Type IV:low stress",
          "All types/<i>Willing to try!</i>/Type I:high stress",
          "All types/<i>Not working!</i>/Type II:early peak",
          "All types/<i>Not working!</i>/Type IV:low stress",
          "All types/<i>Works for me!</i>/Type III:late peak",
          "All types/<i>Willing to try!</i>/Type III:late peak",
          "All types/<i>Not working!</i>/Type III:late peak",
          "All types/<i>Works for me!</i>/Type II:early peak",
          "All types/<i>Willing to try!</i>/Type II:early peak",
          "All types/<i>Not working!</i>/Type I:high stress",
          "All types/<i>Works for me!</i>/Type I:high stress",
          "All types/<i>Willing to try!</i>/Type I:high stress",
          "All types/<i>Works for me!</i>/Type IV:low stress",
          "All types/<i>Not working!</i>/Type I:high stress",
          "All types/<i>Not working!</i>/Type IV:low stress",
          "All types/<i>Works for me!</i>/Type III:late peak",
          "All types/<i>Willing to try!</i>/Type III:late peak",
          "All types/<i>Not working!</i>/Type III:late peak",
          "All types/<i>Works for me!</i>/Type II:early peak",
          "All types/<i>Willing to try!</i>/Type II:early peak",
          "All types/<i>Not working!</i>/Type II:early peak",
          "All types/<i>Works for me!</i>/Type I:high stress",
          "All types/<i>Willing to try!</i>/Type I:high stress",
          "All types/<i>Willing to try!</i>/Type IV:low stress",
          "All types/<i>Willing to try!</i>/Type II:early peak",
          "All types/<i>Works for me!</i>/Type I:high stress",
          "All types/<i>Not working!</i>/Type II:early peak",
          "All types/<i>Works for me!</i>/Type II:early peak",
          "All types/<i>Willing to try!</i>/Type I:high stress",
          "All types/<i>Willing to try!</i>/Type III:late peak",
          "All types/<i>Works for me!</i>/Type III:late peak",
          "All types/<i>Not working!</i>/Type IV:low stress",
          "All types/<i>Not working!</i>/Type III:late peak",
          "All types/<i>Willing to try!</i>/Type I:high stress",
          "All types/<i>Works for me!</i>/Type I:high stress",
          "All types/<i>Works for me!</i>/Type IV:low stress",
          "All types/<i>Willing to try!</i>/Type IV:low stress",
          "All types/<i>Not working!</i>/Type IV:low stress",
          "All types/<i>Works for me!</i>/Type III:late peak",
          "All types/<i>Willing to try!</i>/Type III:late peak",
          "All types/<i>Not working!</i>/Type III:late peak",
          "All types/<i>Works for me!</i>/Type II:early peak",
          "All types/<i>Willing to try!</i>/Type II:early peak",
          "All types/<i>Not working!</i>/Type II:early peak",
          "All types/<i>Willing to try!</i>/Type IV:low stress",
          "All types/<i>Not working!</i>/Type I:high stress",
          "All types/<i>Works for me!</i>/Type IV:low stress",
          "All types/<i>Willing to try!</i>/Type IV:low stress",
          "All types/<i>Willing to try!</i>/Type I:high stress",
          "All types/<i>Willing to try!</i>/Type IV:low stress",
          "All types/<i>Not working!</i>/Type IV:low stress",
          "All types/<i>Works for me!</i>/Type III:late peak",
          "All types/<i>Willing to try!</i>/Type III:late peak",
          "All types/<i>Not working!</i>/Type III:late peak",
          "All types/<i>Works for me!</i>/Type II:early peak",
          "All types/<i>Willing to try!</i>/Type II:early peak",
          "All types/<i>Not working!</i>/Type II:early peak",
          "All types/<i>Works for me!</i>/Type I:high stress",
          "All types/<i>Not working!</i>/Type I:high stress",
          "All types/<i>Willing to try!</i>/Type I:high stress",
          "All types/<i>Works for me!</i>/Type IV:low stress",
          "All types/<i>Not working!</i>/Type IV:low stress",
          "All types/<i>Works for me!</i>/Type III:late peak",
          "All types/<i>Willing to try!</i>/Type III:late peak",
          "All types/<i>Not working!</i>/Type III:late peak",
          "All types/<i>Works for me!</i>/Type II:early peak",
          "All types/<i>Willing to try!</i>/Type II:early peak",
          "All types/<i>Not working!</i>/Type II:early peak",
          "All types/<i>Works for me!</i>/Type I:high stress",
          "All types/<i>Not working!</i>/Type I:high stress",
          "All types/<i>Not working!</i>/Type I:high stress",
          "All types/<i>Works for me!</i>/Type IV:low stress",
          "All types/<i>Willing to try!</i>/Type IV:low stress",
          "All types/<i>Works for me!</i>/Type III:late peak",
          "All types/<i>Willing to try!</i>/Type III:late peak",
          "All types/<i>Not working!</i>/Type III:late peak",
          "All types/<i>Works for me!</i>/Type II:early peak",
          "All types/<i>Willing to try!</i>/Type II:early peak",
          "All types/<i>Not working!</i>/Type II:early peak",
          "All types/<i>Works for me!</i>/Type I:high stress",
          "All types/<i>Willing to try!</i>/Type I:high stress",
          "All types/<i>Works for me!</i>/Type IV:low stress",
          "All types/<i>Works for me!</i>/Type IV:low stress",
          "All types/<i>Works for me!</i>/Type II:early peak",
          "All types/<i>Not working!</i>/Type II:early peak",
          "All types/<i>Works for me!</i>/Type I:high stress",
          "All types/<i>Willing to try!</i>/Type I:high stress",
          "All types/<i>Not working!</i>/Type I:high stress",
          "All types/<i>Willing to try!</i>/Type IV:low stress",
          "All types/<i>Not working!</i>/Type IV:low stress",
          "All types/<i>Works for me!</i>/Type III:late peak",
          "All types/<i>Willing to try!</i>/Type III:late peak",
          "All types/<i>Not working!</i>/Type III:late peak",
          "All types/<i>Willing to try!</i>/Type II:early peak",
          "All types/<i>Not working!</i>/Type IV:low stress",
          "All types/<i>Willing to try!</i>/Type IV:low stress",
          "All types/<i>Not working!</i>/Type I:high stress",
          "All types/<i>Not working!</i>/Type I:high stress",
          "All types/<i>Works for me!</i>/Type IV:low stress",
          "All types/<i>Not working!</i>/Type IV:low stress",
          "All types/<i>Works for me!</i>/Type III:late peak",
          "All types/<i>Willing to try!</i>/Type III:late peak",
          "All types/<i>Not working!</i>/Type III:late peak",
          "All types/<i>Works for me!</i>/Type II:early peak",
          "All types/<i>Not working!</i>/Type II:early peak",
          "All types/<i>Works for me!</i>/Type I:high stress",
          "All types/<i>Willing to try!</i>/Type I:high stress",
          "All types/<i>Not working!</i>/Type I:high stress",
          "All types/<i>Willing to try!</i>/Type II:early peak",
          "All types/<i>Willing to try!</i>/Type IV:low stress",
          "All types/<i>Works for me!</i>/Type IV:low stress",
          "All types/<i>Works for me!</i>/Type I:high stress",
          "All types/<i>Not working!</i>/Type II:early peak",
          "All types/<i>Willing to try!</i>/Type II:early peak",
          "All types/<i>Works for me!</i>/Type II:early peak",
          "All types/<i>Willing to try!</i>/Type I:high stress",
          "All types/<i>Willing to try!</i>/Type III:late peak",
          "All types/<i>Works for me!</i>/Type III:late peak",
          "All types/<i>Not working!</i>/Type IV:low stress",
          "All types/<i>Not working!</i>/Type III:late peak",
          "All types/<i>Works for me!</i>/Type I:high stress",
          "All types/<i>Willing to try!</i>/Type IV:low stress",
          "All types/<i>Not working!</i>/Type IV:low stress",
          "All types/<i>Works for me!</i>/Type III:late peak",
          "All types/<i>Willing to try!</i>/Type III:late peak",
          "All types/<i>Not working!</i>/Type III:late peak",
          "All types/<i>Works for me!</i>/Type II:early peak",
          "All types/<i>Willing to try!</i>/Type II:early peak",
          "All types/<i>Not working!</i>/Type II:early peak",
          "All types/<i>Willing to try!</i>/Type I:high stress",
          "All types/<i>Works for me!</i>/Type I:high stress",
          "All types/<i>Works for me!</i>/Type IV:low stress",
          "All types/<i>Willing to try!</i>/Type IV:low stress",
          "All types/<i>Not working!</i>/Type IV:low stress",
          "All types/<i>Works for me!</i>/Type III:late peak",
          "All types/<i>Willing to try!</i>/Type III:late peak",
          "All types/<i>Not working!</i>/Type III:late peak",
          "All types/<i>Works for me!</i>/Type II:early peak",
          "All types/<i>Willing to try!</i>/Type II:early peak",
          "All types/<i>Not working!</i>/Type II:early peak",
          "All types/<i>Not working!</i>/Type I:high stress",
          "All types/<i>Not working!</i>/Type I:high stress",
          "All types/<i>Works for me!</i>/Type IV:low stress",
          "All types/<i>Works for me!</i>/Type I:high stress",
          "All types/<i>Willing to try!</i>/Type I:high stress",
          "All types/<i>Willing to try!</i>/Type IV:low stress",
          "All types/<i>Not working!</i>/Type IV:low stress",
          "All types/<i>Works for me!</i>/Type III:late peak",
          "All types/<i>Willing to try!</i>/Type III:late peak",
          "All types/<i>Not working!</i>/Type III:late peak",
          "All types/<i>Works for me!</i>/Type II:early peak",
          "All types/<i>Willing to try!</i>/Type II:early peak",
          "All types/<i>Not working!</i>/Type II:early peak",
          "All types/<i>Works for me!</i>/Type I:high stress",
          "All types/<i>Willing to try!</i>/Type I:high stress",
          "All types/<i>Not working!</i>/Type I:high stress",
          "All types/<i>Works for me!</i>/Type IV:low stress",
          "All types/<i>Willing to try!</i>/Type IV:low stress",
          "All types/<i>Not working!</i>/Type IV:low stress",
          "All types/<i>Works for me!</i>/Type III:late peak",
          "All types/<i>Willing to try!</i>/Type III:late peak",
          "All types/<i>Not working!</i>/Type III:late peak",
          "All types/<i>Works for me!</i>/Type II:early peak",
          "All types/<i>Willing to try!</i>/Type II:early peak",
          "All types/<i>Not working!</i>/Type II:early peak",
          "All types/<i>Willing to try!</i>/Type I:high stress",
          "All types/<i>Not working!</i>/Type I:high stress",
          "All types/<i>Works for me!</i>/Type IV:low stress",
          "All types/<i>Willing to try!</i>/Type IV:low stress",
          "All types/<i>Works for me!</i>/Type III:late peak",
          "All types/<i>Willing to try!</i>/Type III:late peak",
          "All types/<i>Not working!</i>/Type III:late peak",
          "All types/<i>Works for me!</i>/Type II:early peak",
          "All types/<i>Willing to try!</i>/Type II:early peak",
          "All types/<i>Not working!</i>/Type II:early peak",
          "All types/<i>Works for me!</i>/Type I:high stress",
          "All types/<i>Willing to try!</i>/Type I:high stress",
          "All types/<i>Works for me!</i>/Type IV:low stress",
          "All types/<i>Works for me!</i>/Type IV:low stress",
          "All types/<i>Willing to try!</i>/Type IV:low stress",
          "All types/<i>Not working!</i>/Type IV:low stress",
          "All types/<i>Works for me!</i>/Type III:late peak",
          "All types/<i>Willing to try!</i>/Type III:late peak",
          "All types/<i>Not working!</i>/Type III:late peak",
          "All types/<i>Works for me!</i>/Type II:early peak",
          "All types/<i>Willing to try!</i>/Type II:early peak",
          "All types/<i>Not working!</i>/Type II:early peak",
          "All types/<i>Works for me!</i>/Type I:high stress",
          "All types/<i>Willing to try!</i>/Type I:high stress",
          "All types/<i>Not working!</i>/Type I:high stress",
          "All types/<i>Not working!</i>/Type IV:low stress",
          "All types/<i>Willing to try!</i>/Type IV:low stress",
          "All types/<i>Not working!</i>/Type I:high stress",
          "All types/<i>Not working!</i>/Type I:high stress",
          "All types/<i>Works for me!</i>/Type IV:low stress",
          "All types/<i>Not working!</i>/Type IV:low stress",
          "All types/<i>Works for me!</i>/Type III:late peak",
          "All types/<i>Willing to try!</i>/Type III:late peak",
          "All types/<i>Not working!</i>/Type III:late peak",
          "All types/<i>Works for me!</i>/Type II:early peak",
          "All types/<i>Not working!</i>/Type II:early peak",
          "All types/<i>Works for me!</i>/Type I:high stress",
          "All types/<i>Willing to try!</i>/Type I:high stress",
          "All types/<i>Not working!</i>/Type I:high stress",
          "All types/<i>Willing to try!</i>/Type II:early peak",
          "All types/<i>Willing to try!</i>/Type IV:low stress",
          "All types/<i>Works for me!</i>/Type IV:low stress",
          "All types/<i>Works for me!</i>/Type I:high stress",
          "All types/<i>Not working!</i>/Type II:early peak",
          "All types/<i>Willing to try!</i>/Type II:early peak",
          "All types/<i>Works for me!</i>/Type II:early peak",
          "All types/<i>Willing to try!</i>/Type I:high stress",
          "All types/<i>Willing to try!</i>/Type III:late peak",
          "All types/<i>Works for me!</i>/Type III:late peak",
          "All types/<i>Not working!</i>/Type IV:low stress",
          "All types/<i>Not working!</i>/Type III:late peak",
          "All types/<i>Willing to try!</i>/Type I:high stress",
          "All types/<i>Not working!</i>/Type IV:low stress",
          "All types/<i>Works for me!</i>/Type III:late peak",
          "All types/<i>Willing to try!</i>/Type III:late peak",
          "All types/<i>Not working!</i>/Type III:late peak",
          "All types/<i>Works for me!</i>/Type II:early peak",
          "All types/<i>Willing to try!</i>/Type II:early peak",
          "All types/<i>Not working!</i>/Type II:early peak",
          "All types/<i>Works for me!</i>/Type I:high stress",
          "All types/<i>Not working!</i>/Type I:high stress",
          "All types/<i>Willing to try!</i>/Type I:high stress",
          "All types/<i>Willing to try!</i>/Type IV:low stress",
          "All types/<i>Not working!</i>/Type IV:low stress",
          "All types/<i>Works for me!</i>/Type III:late peak",
          "All types/<i>Willing to try!</i>/Type III:late peak",
          "All types/<i>Not working!</i>/Type III:late peak",
          "All types/<i>Works for me!</i>/Type II:early peak",
          "All types/<i>Willing to try!</i>/Type II:early peak",
          "All types/<i>Not working!</i>/Type II:early peak",
          "All types/<i>Works for me!</i>/Type I:high stress",
          "All types/<i>Works for me!</i>/Type IV:low stress",
          "All types/<i>Willing to try!</i>/Type IV:low stress",
          "All types/<i>Not working!</i>/Type IV:low stress",
          "All types/<i>Not working!</i>/Type I:high stress",
          "All types/<i>Not working!</i>/Type I:high stress",
          "All types/<i>Works for me!</i>/Type III:late peak",
          "All types/<i>Willing to try!</i>/Type III:late peak",
          "All types/<i>Not working!</i>/Type III:late peak",
          "All types/<i>Works for me!</i>/Type II:early peak",
          "All types/<i>Willing to try!</i>/Type II:early peak",
          "All types/<i>Not working!</i>/Type II:early peak",
          "All types/<i>Works for me!</i>/Type I:high stress",
          "All types/<i>Willing to try!</i>/Type I:high stress",
          "All types/<i>Not working!</i>/Type I:high stress",
          "All types/<i>Works for me!</i>/Type IV:low stress",
          "All types/<i>Willing to try!</i>/Type IV:low stress",
          "All types/<i>Not working!</i>/Type IV:low stress",
          "All types/<i>Works for me!</i>/Type III:late peak",
          "All types/<i>Willing to try!</i>/Type III:late peak",
          "All types/<i>Not working!</i>/Type III:late peak",
          "All types/<i>Works for me!</i>/Type II:early peak",
          "All types/<i>Willing to try!</i>/Type II:early peak",
          "All types/<i>Not working!</i>/Type II:early peak",
          "All types/<i>Works for me!</i>/Type I:high stress",
          "All types/<i>Willing to try!</i>/Type I:high stress",
          "All types/<i>Works for me!</i>/Type IV:low stress",
          "All types/<i>Works for me!</i>/Type IV:low stress",
          "All types/<i>Works for me!</i>/Type IV:low stress",
          "All types/<i>Not working!</i>/Type IV:low stress",
          "All types/<i>Not working!</i>/Type III:late peak",
          "All types/<i>Works for me!</i>/Type II:early peak",
          "All types/<i>Willing to try!</i>/Type II:early peak",
          "All types/<i>Not working!</i>/Type II:early peak",
          "All types/<i>Works for me!</i>/Type I:high stress",
          "All types/<i>Willing to try!</i>/Type I:high stress",
          "All types/<i>Not working!</i>/Type I:high stress",
          "All types/<i>Works for me!</i>/Type IV:low stress",
          "All types/<i>Willing to try!</i>/Type IV:low stress",
          "All types/<i>Willing to try!</i>/Type III:late peak",
          "All types/<i>Not working!</i>/Type IV:low stress",
          "All types/<i>Willing to try!</i>/Type III:late peak",
          "All types/<i>Not working!</i>/Type III:late peak",
          "All types/<i>Works for me!</i>/Type II:early peak",
          "All types/<i>Willing to try!</i>/Type II:early peak",
          "All types/<i>Not working!</i>/Type II:early peak",
          "All types/<i>Works for me!</i>/Type I:high stress",
          "All types/<i>Willing to try!</i>/Type I:high stress",
          "All types/<i>Not working!</i>/Type I:high stress",
          "All types/<i>Willing to try!</i>/Type IV:low stress",
          "All types/<i>Works for me!</i>/Type III:late peak",
          "All types/<i>Works for me!</i>/Type III:late peak",
          "All types/<i>Not working!</i>/Type IV:low stress",
          "All types/<i>Willing to try!</i>/Type IV:low stress",
          "All types/<i>Works for me!</i>/Type III:late peak",
          "All types/<i>Willing to try!</i>/Type III:late peak",
          "All types/<i>Not working!</i>/Type III:late peak",
          "All types/<i>Works for me!</i>/Type II:early peak",
          "All types/<i>Willing to try!</i>/Type II:early peak",
          "All types/<i>Not working!</i>/Type II:early peak",
          "All types/<i>Works for me!</i>/Type I:high stress",
          "All types/<i>Willing to try!</i>/Type I:high stress",
          "All types/<i>Not working!</i>/Type I:high stress",
          "All types/<i>Works for me!</i>/Type IV:low stress",
          "All types/<i>Willing to try!</i>/Type IV:low stress",
          "All types/<i>Not working!</i>/Type IV:low stress",
          "All types/<i>Works for me!</i>/Type III:late peak",
          "All types/<i>Willing to try!</i>/Type III:late peak",
          "All types/<i>Not working!</i>/Type III:late peak",
          "All types/<i>Works for me!</i>/Type II:early peak",
          "All types/<i>Willing to try!</i>/Type II:early peak",
          "All types/<i>Not working!</i>/Type II:early peak",
          "All types/<i>Works for me!</i>/Type I:high stress",
          "All types/<i>Willing to try!</i>/Type I:high stress",
          "All types/<i>Not working!</i>/Type I:high stress",
          "All types/<i>Willing to try!</i>/Type IV:low stress",
          "All types/<i>Works for me!</i>/Type IV:low stress",
          "All types/<i>Not working!</i>",
          "All types/<i>Willing to try!</i>",
          "All types/<i>Works for me!</i>",
          "All types/<i>Not working!</i>",
          "All types/<i>Willing to try!</i>",
          "All types/<i>Works for me!</i>",
          "All types/<i>Not working!</i>",
          "All types/<i>Willing to try!</i>",
          "All types/<i>Works for me!</i>",
          "All types/<i>Not working!</i>",
          "All types/<i>Willing to try!</i>",
          "All types/<i>Works for me!</i>",
          "All types",
          "All types",
          "All types",
          ""
         ],
         "type": "treemap",
         "values": [
          0,
          2,
          1,
          0,
          2,
          1,
          0,
          1,
          2,
          0,
          0,
          3,
          0,
          2,
          2,
          0,
          3,
          1,
          0,
          1,
          1,
          2,
          0,
          5,
          0,
          1,
          1,
          0,
          1,
          2,
          1,
          2,
          1,
          0,
          4,
          5,
          2,
          1,
          2,
          0,
          1,
          2,
          0,
          0,
          1,
          1,
          0,
          2,
          0,
          0,
          2,
          2,
          0,
          1,
          3,
          0,
          1,
          4,
          2,
          1,
          2,
          3,
          0,
          0,
          4,
          0,
          1,
          1,
          1,
          1,
          0,
          1,
          2,
          11,
          2,
          0,
          0,
          0,
          1,
          1,
          0,
          2,
          1,
          0,
          1,
          4,
          0,
          1,
          1,
          2,
          1,
          1,
          0,
          1,
          5,
          1,
          4,
          1,
          0,
          0,
          0,
          3,
          0,
          2,
          1,
          12,
          6,
          5,
          0,
          0,
          4,
          0,
          0,
          4,
          0,
          1,
          2,
          2,
          0,
          1,
          6,
          1,
          0,
          2,
          0,
          1,
          2,
          1,
          1,
          4,
          1,
          4,
          3,
          1,
          3,
          1,
          0,
          2,
          2,
          1,
          2,
          0,
          0,
          3,
          2,
          3,
          0,
          1,
          2,
          0,
          2,
          5,
          0,
          2,
          0,
          3,
          1,
          3,
          0,
          1,
          0,
          0,
          1,
          0,
          1,
          0,
          0,
          0,
          0,
          3,
          3,
          0,
          1,
          2,
          0,
          1,
          0,
          0,
          8,
          0,
          3,
          1,
          2,
          0,
          2,
          0,
          1,
          3,
          2,
          1,
          1,
          1,
          1,
          1,
          2,
          0,
          1,
          0,
          1,
          2,
          1,
          6,
          2,
          2,
          1,
          0,
          3,
          1,
          0,
          2,
          2,
          1,
          1,
          3,
          0,
          1,
          6,
          0,
          2,
          1,
          0,
          0,
          1,
          0,
          2,
          2,
          0,
          2,
          4,
          0,
          1,
          2,
          0,
          1,
          0,
          0,
          3,
          2,
          0,
          0,
          2,
          1,
          0,
          2,
          2,
          0,
          0,
          0,
          2,
          0,
          1,
          1,
          0,
          1,
          2,
          0,
          1,
          2,
          2,
          1,
          6,
          0,
          1,
          1,
          2,
          1,
          0,
          0,
          0,
          1,
          1,
          2,
          0,
          0,
          5,
          1,
          1,
          1,
          1,
          3,
          1,
          3,
          1,
          7,
          2,
          0,
          1,
          0,
          3,
          0,
          0,
          2,
          1,
          1,
          1,
          1,
          1,
          1,
          0,
          0,
          1,
          5,
          0,
          0,
          2,
          0,
          1,
          5,
          2,
          0,
          0,
          1,
          0,
          3,
          0,
          1,
          4,
          0,
          0,
          3,
          0,
          2,
          2,
          1,
          0,
          1,
          2,
          1,
          1,
          2,
          0,
          1,
          6,
          1,
          5,
          1,
          0,
          4,
          0,
          0,
          3,
          1,
          0,
          5,
          2,
          0,
          0,
          1,
          0,
          2,
          2,
          0,
          3,
          5,
          0,
          1,
          0,
          3,
          1,
          3,
          0,
          3,
          0,
          0,
          2,
          0,
          2,
          4,
          1,
          1,
          2,
          2,
          0,
          2,
          2,
          0,
          1,
          2,
          1,
          2,
          9,
          1,
          0,
          3,
          43,
          114,
          67,
          36,
          29,
          48,
          28,
          30,
          49,
          22,
          25,
          53,
          129,
          198,
          217,
          544
         ]
        }
       ],
       "layout": {
        "font": {
         "family": "courier",
         "size": 20
        },
        "legend": {
         "tracegroupgap": 0
        },
        "margin": {
         "t": 60
        },
        "template": {
         "data": {
          "bar": [
           {
            "error_x": {
             "color": "#2a3f5f"
            },
            "error_y": {
             "color": "#2a3f5f"
            },
            "marker": {
             "line": {
              "color": "#E5ECF6",
              "width": 0.5
             }
            },
            "type": "bar"
           }
          ],
          "barpolar": [
           {
            "marker": {
             "line": {
              "color": "#E5ECF6",
              "width": 0.5
             }
            },
            "type": "barpolar"
           }
          ],
          "carpet": [
           {
            "aaxis": {
             "endlinecolor": "#2a3f5f",
             "gridcolor": "white",
             "linecolor": "white",
             "minorgridcolor": "white",
             "startlinecolor": "#2a3f5f"
            },
            "baxis": {
             "endlinecolor": "#2a3f5f",
             "gridcolor": "white",
             "linecolor": "white",
             "minorgridcolor": "white",
             "startlinecolor": "#2a3f5f"
            },
            "type": "carpet"
           }
          ],
          "choropleth": [
           {
            "colorbar": {
             "outlinewidth": 0,
             "ticks": ""
            },
            "type": "choropleth"
           }
          ],
          "contour": [
           {
            "colorbar": {
             "outlinewidth": 0,
             "ticks": ""
            },
            "colorscale": [
             [
              0,
              "#0d0887"
             ],
             [
              0.1111111111111111,
              "#46039f"
             ],
             [
              0.2222222222222222,
              "#7201a8"
             ],
             [
              0.3333333333333333,
              "#9c179e"
             ],
             [
              0.4444444444444444,
              "#bd3786"
             ],
             [
              0.5555555555555556,
              "#d8576b"
             ],
             [
              0.6666666666666666,
              "#ed7953"
             ],
             [
              0.7777777777777778,
              "#fb9f3a"
             ],
             [
              0.8888888888888888,
              "#fdca26"
             ],
             [
              1,
              "#f0f921"
             ]
            ],
            "type": "contour"
           }
          ],
          "contourcarpet": [
           {
            "colorbar": {
             "outlinewidth": 0,
             "ticks": ""
            },
            "type": "contourcarpet"
           }
          ],
          "heatmap": [
           {
            "colorbar": {
             "outlinewidth": 0,
             "ticks": ""
            },
            "colorscale": [
             [
              0,
              "#0d0887"
             ],
             [
              0.1111111111111111,
              "#46039f"
             ],
             [
              0.2222222222222222,
              "#7201a8"
             ],
             [
              0.3333333333333333,
              "#9c179e"
             ],
             [
              0.4444444444444444,
              "#bd3786"
             ],
             [
              0.5555555555555556,
              "#d8576b"
             ],
             [
              0.6666666666666666,
              "#ed7953"
             ],
             [
              0.7777777777777778,
              "#fb9f3a"
             ],
             [
              0.8888888888888888,
              "#fdca26"
             ],
             [
              1,
              "#f0f921"
             ]
            ],
            "type": "heatmap"
           }
          ],
          "heatmapgl": [
           {
            "colorbar": {
             "outlinewidth": 0,
             "ticks": ""
            },
            "colorscale": [
             [
              0,
              "#0d0887"
             ],
             [
              0.1111111111111111,
              "#46039f"
             ],
             [
              0.2222222222222222,
              "#7201a8"
             ],
             [
              0.3333333333333333,
              "#9c179e"
             ],
             [
              0.4444444444444444,
              "#bd3786"
             ],
             [
              0.5555555555555556,
              "#d8576b"
             ],
             [
              0.6666666666666666,
              "#ed7953"
             ],
             [
              0.7777777777777778,
              "#fb9f3a"
             ],
             [
              0.8888888888888888,
              "#fdca26"
             ],
             [
              1,
              "#f0f921"
             ]
            ],
            "type": "heatmapgl"
           }
          ],
          "histogram": [
           {
            "marker": {
             "colorbar": {
              "outlinewidth": 0,
              "ticks": ""
             }
            },
            "type": "histogram"
           }
          ],
          "histogram2d": [
           {
            "colorbar": {
             "outlinewidth": 0,
             "ticks": ""
            },
            "colorscale": [
             [
              0,
              "#0d0887"
             ],
             [
              0.1111111111111111,
              "#46039f"
             ],
             [
              0.2222222222222222,
              "#7201a8"
             ],
             [
              0.3333333333333333,
              "#9c179e"
             ],
             [
              0.4444444444444444,
              "#bd3786"
             ],
             [
              0.5555555555555556,
              "#d8576b"
             ],
             [
              0.6666666666666666,
              "#ed7953"
             ],
             [
              0.7777777777777778,
              "#fb9f3a"
             ],
             [
              0.8888888888888888,
              "#fdca26"
             ],
             [
              1,
              "#f0f921"
             ]
            ],
            "type": "histogram2d"
           }
          ],
          "histogram2dcontour": [
           {
            "colorbar": {
             "outlinewidth": 0,
             "ticks": ""
            },
            "colorscale": [
             [
              0,
              "#0d0887"
             ],
             [
              0.1111111111111111,
              "#46039f"
             ],
             [
              0.2222222222222222,
              "#7201a8"
             ],
             [
              0.3333333333333333,
              "#9c179e"
             ],
             [
              0.4444444444444444,
              "#bd3786"
             ],
             [
              0.5555555555555556,
              "#d8576b"
             ],
             [
              0.6666666666666666,
              "#ed7953"
             ],
             [
              0.7777777777777778,
              "#fb9f3a"
             ],
             [
              0.8888888888888888,
              "#fdca26"
             ],
             [
              1,
              "#f0f921"
             ]
            ],
            "type": "histogram2dcontour"
           }
          ],
          "mesh3d": [
           {
            "colorbar": {
             "outlinewidth": 0,
             "ticks": ""
            },
            "type": "mesh3d"
           }
          ],
          "parcoords": [
           {
            "line": {
             "colorbar": {
              "outlinewidth": 0,
              "ticks": ""
             }
            },
            "type": "parcoords"
           }
          ],
          "pie": [
           {
            "automargin": true,
            "type": "pie"
           }
          ],
          "scatter": [
           {
            "marker": {
             "colorbar": {
              "outlinewidth": 0,
              "ticks": ""
             }
            },
            "type": "scatter"
           }
          ],
          "scatter3d": [
           {
            "line": {
             "colorbar": {
              "outlinewidth": 0,
              "ticks": ""
             }
            },
            "marker": {
             "colorbar": {
              "outlinewidth": 0,
              "ticks": ""
             }
            },
            "type": "scatter3d"
           }
          ],
          "scattercarpet": [
           {
            "marker": {
             "colorbar": {
              "outlinewidth": 0,
              "ticks": ""
             }
            },
            "type": "scattercarpet"
           }
          ],
          "scattergeo": [
           {
            "marker": {
             "colorbar": {
              "outlinewidth": 0,
              "ticks": ""
             }
            },
            "type": "scattergeo"
           }
          ],
          "scattergl": [
           {
            "marker": {
             "colorbar": {
              "outlinewidth": 0,
              "ticks": ""
             }
            },
            "type": "scattergl"
           }
          ],
          "scattermapbox": [
           {
            "marker": {
             "colorbar": {
              "outlinewidth": 0,
              "ticks": ""
             }
            },
            "type": "scattermapbox"
           }
          ],
          "scatterpolar": [
           {
            "marker": {
             "colorbar": {
              "outlinewidth": 0,
              "ticks": ""
             }
            },
            "type": "scatterpolar"
           }
          ],
          "scatterpolargl": [
           {
            "marker": {
             "colorbar": {
              "outlinewidth": 0,
              "ticks": ""
             }
            },
            "type": "scatterpolargl"
           }
          ],
          "scatterternary": [
           {
            "marker": {
             "colorbar": {
              "outlinewidth": 0,
              "ticks": ""
             }
            },
            "type": "scatterternary"
           }
          ],
          "surface": [
           {
            "colorbar": {
             "outlinewidth": 0,
             "ticks": ""
            },
            "colorscale": [
             [
              0,
              "#0d0887"
             ],
             [
              0.1111111111111111,
              "#46039f"
             ],
             [
              0.2222222222222222,
              "#7201a8"
             ],
             [
              0.3333333333333333,
              "#9c179e"
             ],
             [
              0.4444444444444444,
              "#bd3786"
             ],
             [
              0.5555555555555556,
              "#d8576b"
             ],
             [
              0.6666666666666666,
              "#ed7953"
             ],
             [
              0.7777777777777778,
              "#fb9f3a"
             ],
             [
              0.8888888888888888,
              "#fdca26"
             ],
             [
              1,
              "#f0f921"
             ]
            ],
            "type": "surface"
           }
          ],
          "table": [
           {
            "cells": {
             "fill": {
              "color": "#EBF0F8"
             },
             "line": {
              "color": "white"
             }
            },
            "header": {
             "fill": {
              "color": "#C8D4E3"
             },
             "line": {
              "color": "white"
             }
            },
            "type": "table"
           }
          ]
         },
         "layout": {
          "annotationdefaults": {
           "arrowcolor": "#2a3f5f",
           "arrowhead": 0,
           "arrowwidth": 1
          },
          "coloraxis": {
           "colorbar": {
            "outlinewidth": 0,
            "ticks": ""
           }
          },
          "colorscale": {
           "diverging": [
            [
             0,
             "#8e0152"
            ],
            [
             0.1,
             "#c51b7d"
            ],
            [
             0.2,
             "#de77ae"
            ],
            [
             0.3,
             "#f1b6da"
            ],
            [
             0.4,
             "#fde0ef"
            ],
            [
             0.5,
             "#f7f7f7"
            ],
            [
             0.6,
             "#e6f5d0"
            ],
            [
             0.7,
             "#b8e186"
            ],
            [
             0.8,
             "#7fbc41"
            ],
            [
             0.9,
             "#4d9221"
            ],
            [
             1,
             "#276419"
            ]
           ],
           "sequential": [
            [
             0,
             "#0d0887"
            ],
            [
             0.1111111111111111,
             "#46039f"
            ],
            [
             0.2222222222222222,
             "#7201a8"
            ],
            [
             0.3333333333333333,
             "#9c179e"
            ],
            [
             0.4444444444444444,
             "#bd3786"
            ],
            [
             0.5555555555555556,
             "#d8576b"
            ],
            [
             0.6666666666666666,
             "#ed7953"
            ],
            [
             0.7777777777777778,
             "#fb9f3a"
            ],
            [
             0.8888888888888888,
             "#fdca26"
            ],
            [
             1,
             "#f0f921"
            ]
           ],
           "sequentialminus": [
            [
             0,
             "#0d0887"
            ],
            [
             0.1111111111111111,
             "#46039f"
            ],
            [
             0.2222222222222222,
             "#7201a8"
            ],
            [
             0.3333333333333333,
             "#9c179e"
            ],
            [
             0.4444444444444444,
             "#bd3786"
            ],
            [
             0.5555555555555556,
             "#d8576b"
            ],
            [
             0.6666666666666666,
             "#ed7953"
            ],
            [
             0.7777777777777778,
             "#fb9f3a"
            ],
            [
             0.8888888888888888,
             "#fdca26"
            ],
            [
             1,
             "#f0f921"
            ]
           ]
          },
          "colorway": [
           "#636efa",
           "#EF553B",
           "#00cc96",
           "#ab63fa",
           "#FFA15A",
           "#19d3f3",
           "#FF6692",
           "#B6E880",
           "#FF97FF",
           "#FECB52"
          ],
          "font": {
           "color": "#2a3f5f"
          },
          "geo": {
           "bgcolor": "white",
           "lakecolor": "white",
           "landcolor": "#E5ECF6",
           "showlakes": true,
           "showland": true,
           "subunitcolor": "white"
          },
          "hoverlabel": {
           "align": "left"
          },
          "hovermode": "closest",
          "mapbox": {
           "style": "light"
          },
          "paper_bgcolor": "white",
          "plot_bgcolor": "#E5ECF6",
          "polar": {
           "angularaxis": {
            "gridcolor": "white",
            "linecolor": "white",
            "ticks": ""
           },
           "bgcolor": "#E5ECF6",
           "radialaxis": {
            "gridcolor": "white",
            "linecolor": "white",
            "ticks": ""
           }
          },
          "scene": {
           "xaxis": {
            "backgroundcolor": "#E5ECF6",
            "gridcolor": "white",
            "gridwidth": 2,
            "linecolor": "white",
            "showbackground": true,
            "ticks": "",
            "zerolinecolor": "white"
           },
           "yaxis": {
            "backgroundcolor": "#E5ECF6",
            "gridcolor": "white",
            "gridwidth": 2,
            "linecolor": "white",
            "showbackground": true,
            "ticks": "",
            "zerolinecolor": "white"
           },
           "zaxis": {
            "backgroundcolor": "#E5ECF6",
            "gridcolor": "white",
            "gridwidth": 2,
            "linecolor": "white",
            "showbackground": true,
            "ticks": "",
            "zerolinecolor": "white"
           }
          },
          "shapedefaults": {
           "line": {
            "color": "#2a3f5f"
           }
          },
          "ternary": {
           "aaxis": {
            "gridcolor": "white",
            "linecolor": "white",
            "ticks": ""
           },
           "baxis": {
            "gridcolor": "white",
            "linecolor": "white",
            "ticks": ""
           },
           "bgcolor": "#E5ECF6",
           "caxis": {
            "gridcolor": "white",
            "linecolor": "white",
            "ticks": ""
           }
          },
          "title": {
           "x": 0.05
          },
          "xaxis": {
           "automargin": true,
           "gridcolor": "white",
           "linecolor": "white",
           "ticks": "",
           "title": {
            "standoff": 15
           },
           "zerolinecolor": "white",
           "zerolinewidth": 2
          },
          "yaxis": {
           "automargin": true,
           "gridcolor": "white",
           "linecolor": "white",
           "ticks": "",
           "title": {
            "standoff": 15
           },
           "zerolinecolor": "white",
           "zerolinewidth": 2
          }
         }
        }
       }
      }
     },
     "metadata": {}
    }
   ],
   "source": [
    "df3 = pd.read_csv('./data/data4.csv')\n",
    "# df3['Type']=df3['Type'].replace(['Not working','Works for me','Willing to try'],['<b>Not working</b>','<b>Works for me</b>','<b>Willing to try</b>'])\n",
    "df3['Persona'] = df3['Persona'].replace(['persona1','persona2','persona3','persona4'],['Type I:high stress','Type II:early peak','Type III:late peak','Type IV:low stress'])\n",
    "df3['Type'] = df3['Type'].replace(['Works for me','Willing to try','Not working'],['<i>Works for me!</i>','<i>Willing to try!</i>','<i>Not working!</i>'])\n",
    "df3['All']='All types'\n",
    "df3['Strategies']=df3['Strategies'].replace(['drinking alcohol','eating junk food','hanging out with family members','hanging out with friends','learning a new skill','listening to music','outdoor activities','planning/going on trips','playing video games','reading a self-help book','reading books','reading/thinking affirmations','shopping/window shopping','spending time on social media','talking to a professional','talking to family members','talking to friends','using drugs','watching movies/tv shows','yoga','going to the gym'],['drinking<br>alcohol','eating<br>junk<br>food','hanging<br>out with<br>family<br>members','hanging<br>out with<br>friends','learning<br>new<br>skills','listening<br>to<br>music','outdoor<br>activities','planning/<br>going on<br>trips','playing<br>video<br>games','reading<br>self-help<br>books','reading<br>books','reading/<br>thinking<br>affirmations','shopping/<br>window<br>shopping','social<br>media','talking<br>to a<br>professional','talking<br>to family<br>members','talking<br>to<br>friends','using<br>drugs','watching<br>movies/<br>tv shows','practicing<br>yoga','going<br>to the <br>gym'])\n",
    "levels = ['Strategies','Type']\n",
    "color_columns = 'Weight'\n",
    "value_column = 'Weight'\n",
    "def build_hierarchical_dataframe(df, levels, value_column, color_columns=None):\n",
    "    \"\"\"\n",
    "    Build a hierarchy of levels for Sunburst or Treemap charts.\n",
    "\n",
    "\n",
    "    Levels are given starting from the bottom to the top of the hierarchy,\n",
    "    ie the last level corresponds to the root.\n",
    "    \"\"\"\n",
    "    df_all_trees = pd.DataFrame(columns=['id', 'parent', 'value', 'color'])\n",
    "    for i, level in enumerate(levels):\n",
    "        df_tree = pd.DataFrame(columns=['id', 'parent', 'value', 'color'])\n",
    "        dfg = df.groupby(levels[i:]).sum()\n",
    "        dfg = dfg.reset_index()\n",
    "        df_tree['id'] = dfg[level].copy()\n",
    "        if i < len(levels) - 1:\n",
    "            df_tree['parent'] = dfg[levels[i+1]].copy()\n",
    "        else:\n",
    "            df_tree['parent'] = 'total'\n",
    "        df_tree['value'] = dfg[value_column]\n",
    "        df_tree['color'] = dfg[color_columns]\n",
    "        df_all_trees = df_all_trees.append(df_tree, ignore_index=True)\n",
    "    total = pd.Series(dict(id='total', parent='',\n",
    "                              value=df[value_column].sum(),\n",
    "                              color=df[color_columns].sum() ))\n",
    "    df_all_trees = df_all_trees.append(total, ignore_index=True)\n",
    "    df_all_trees = df_all_trees[df_all_trees.value != 0]\n",
    "    return df_all_trees\n",
    "#df_all_trees = build_hierarchical_dataframe(df3, levels, value_column, color_columns)\n",
    "#print(df_all_trees)\n",
    "#average_score = 0.2\n",
    "\n",
    "#fig = go.Figure()\n",
    "\n",
    "# fig.add_trace(go.Treemap(\n",
    "#     labels=df_all_trees['id'],\n",
    "#     parents=df_all_trees['parent'],\n",
    "#     values=df_all_trees['value'],\n",
    "#     branchvalues='total',\n",
    "#     # marker=dict(\n",
    "#     #     colors=df_all_trees['color'],\n",
    "#     #     colorscale='RdBu'\n",
    "#     #      #cmid=average_score\n",
    "#     #     ),\n",
    "#     #hovertemplate='<b>%{label} </b> <br> Sales: %{value}<br> Success rate: %{color:.2f}',\n",
    "#     name=''\n",
    "#     ))\n",
    "import plotly.express as px\n",
    "\n",
    "fig=px.treemap(df3,\n",
    "path=['All','Type','Persona','Strategies'],\n",
    "values='Weight',branchvalues='total'\n",
    ",color='Persona',\n",
    "color_discrete_map={'Type I:high stress':'#eba092', 'Type II:early peak':'#dccf82', 'Type III:late peak':'9dd3c8', 'Type IV:low stress':'a8c665'\\\n",
    "#,'Not working':'#efefef','Works for me':'#cecece','Willing to try':'#adadad'\\\n",
    ",'(?)':'#f4f4f4'}\n",
    "#,textfont=dict(size=15)\n",
    ")\n",
    "#fig.data[0].hovertemplate = '%{label}<br>%{value} votes from Persona %{current path}'\n",
    "fig.update_traces(hovertemplate='%{label}<br>%{value} votes from  %{parent}<extra></extra>')\n",
    "#fig.update_traces(textfont=dict(size=50))\n",
    "#print(fig.data[1].textfont)\n",
    "#Add image\n",
    "# fig.add_layout_image(\n",
    "#     dict(\n",
    "#         source=\"https://raw.githubusercontent.com/brianzy/ploty-project/master/pic/P1Label.png\",\n",
    "#         xref=\"paper\", yref=\"paper\",\n",
    "#         x=1.1, y=0.8,\n",
    "#         sizex=0.1, sizey=0.1\n",
    "#         ,xanchor=\"right\", yanchor=\"bottom\"\n",
    "#         ,layer=\"below\"\n",
    "#     )\n",
    "# )\n",
    "# fig.add_layout_image(\n",
    "#     dict(\n",
    "#         source=\"https://raw.githubusercontent.com/brianzy/ploty-project/master/pic/P2Label.png\",\n",
    "#         xref=\"paper\", yref=\"paper\",\n",
    "#         x=1.1, y=0.7,\n",
    "#         sizex=0.1, sizey=0.1\n",
    "#         ,xanchor=\"right\", yanchor=\"bottom\"\n",
    "#         ,layer=\"below\"\n",
    "#     )\n",
    "# )\n",
    "# fig.add_layout_image(\n",
    "#     dict(\n",
    "#         source=\"https://raw.githubusercontent.com/brianzy/ploty-project/master/pic/P3Label.png\",\n",
    "#         xref=\"paper\", yref=\"paper\",\n",
    "#         x=1.1, y=0.6,\n",
    "#         sizex=0.1, sizey=0.1\n",
    "#         ,xanchor=\"right\", yanchor=\"bottom\"\n",
    "#         ,layer=\"below\"\n",
    "#     )\n",
    "# )\n",
    "# fig.add_layout_image(\n",
    "#     dict(\n",
    "#         source=\"https://raw.githubusercontent.com/brianzy/ploty-project/master/pic/P4Label.png\",\n",
    "#         xref=\"paper\", yref=\"paper\",\n",
    "#         x=1.1, y=0.5,\n",
    "#         sizex=0.1, sizey=0.1\n",
    "#         ,xanchor=\"right\", yanchor=\"bottom\"\n",
    "#         ,layer=\"below\"\n",
    "#     )\n",
    "# )\n",
    "\n",
    "# fig.add_trace(go.Treemap(\n",
    "#     labels=df_all_trees['id'],\n",
    "#     parents=df_all_trees['parent'],\n",
    "#     values=df_all_trees['value'],\n",
    "#     branchvalues='total',\n",
    "#     marker=dict(\n",
    "#         colors=df_all_trees['color'],\n",
    "#         colorscale='RdBu',\n",
    "#         cmid=average_score\n",
    "#          ),\n",
    "#     #hovertemplate='<b>%{label} </b> <br> Sales: %{value}<br> Success rate: %{color:.2f}',\n",
    "#     maxdepth=2\n",
    "#     ), 1, 2)\n",
    "#fig.update_layout(uniformtext=dict(minsize=10, mode='hide'))\n",
    "fig.update_layout(font=dict(family='courier',size=20))\n",
    "\n",
    "#fig.update_layout(margin=dict( l=10))\n",
    "fig.show()\n",
    "\n"
   ]
  },
  {
   "cell_type": "code",
   "execution_count": 27,
   "metadata": {},
   "outputs": [
    {
     "output_type": "execute_result",
     "data": {
      "text/plain": "&#39;https://plotly.com/~zybrian/161/&#39;"
     },
     "metadata": {},
     "execution_count": 27
    }
   ],
   "source": [
    "import chart_studio.plotly as py\n",
    "py.plot(fig, filename = 'graph3', auto_open=False)"
   ]
  }
 ],
 "metadata": {
  "language_info": {
   "codemirror_mode": {
    "name": "ipython",
    "version": 3
   },
   "file_extension": ".py",
   "mimetype": "text/x-python",
   "name": "python",
   "nbconvert_exporter": "python",
   "pygments_lexer": "ipython3",
   "version": "3.7.3-final"
  },
  "orig_nbformat": 2,
  "kernelspec": {
   "name": "python37364bita13d4472b3174e4494b7a431ae9018a6",
   "display_name": "Python 3.7.3 64-bit"
  }
 },
 "nbformat": 4,
 "nbformat_minor": 2
}