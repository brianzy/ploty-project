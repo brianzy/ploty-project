{
 "cells": [
  {
   "cell_type": "code",
   "execution_count": 1,
   "metadata": {
    "tags": []
   },
   "outputs": [],
   "source": [
    "#!pip install plotly\n",
    "#!pip install chart_studio\n",
    "import pandas as pd\n",
    "import plotly.express as px\n",
    "import chart_studio.plotly as py\n",
    "import plotly.graph_objects as go\n"
   ]
  },
  {
   "cell_type": "code",
   "execution_count": 3,
   "metadata": {
    "tags": []
   },
   "outputs": [],
   "source": [
    "import chart_studio\n",
    "username = 'zybrian' # your username\n",
    "api_key = 'X8A90k8Ev8kNzTppv3Dt' # your api key - go to profile > settings > regenerate key\n",
    "chart_studio.tools.set_credentials_file(username=username, api_key=api_key)\n"
   ]
  },
  {
   "cell_type": "code",
   "execution_count": 2,
   "metadata": {
    "tags": []
   },
   "outputs": [
    {
     "output_type": "execute_result",
     "data": {
      "text/plain": "{'Presentations':    Presentations  weight              x  \\\n 0            0.0       1  Presentations   \n 1            0.3       2  Presentations   \n 2            0.5       2  Presentations   \n 3            0.8       1  Presentations   \n 4            1.0       3  Presentations   \n 5            1.5       3  Presentations   \n 6            2.0       4  Presentations   \n 7            2.5       3  Presentations   \n 8            3.0       2  Presentations   \n 9            3.5       1  Presentations   \n \n                                                hover  \n 0  Stress:Presentations<br>Stress level:0.0<br>We...  \n 1  Stress:Presentations<br>Stress level:0.3<br>We...  \n 2  Stress:Presentations<br>Stress level:0.5<br>We...  \n 3  Stress:Presentations<br>Stress level:0.8<br>We...  \n 4  Stress:Presentations<br>Stress level:1.0<br>We...  \n 5  Stress:Presentations<br>Stress level:1.5<br>We...  \n 6  Stress:Presentations<br>Stress level:2.0<br>We...  \n 7  Stress:Presentations<br>Stress level:2.5<br>We...  \n 8  Stress:Presentations<br>Stress level:3.0<br>We...  \n 9  Stress:Presentations<br>Stress level:3.5<br>We...  ,\n 'Homework':     Homework  weight         x  \\\n 0        0.5       3  Homework   \n 1        0.8       1  Homework   \n 2        1.0       5  Homework   \n 3        1.2       3  Homework   \n 4        1.5       2  Homework   \n 5        1.7       2  Homework   \n 6        2.0       4  Homework   \n 7        2.2       3  Homework   \n 8        2.5       1  Homework   \n 9        2.8       1  Homework   \n 10       4.0       1  Homework   \n \n                                               hover  \n 0   Stress:Homework<br>Stress level:0.5<br>Weight:3  \n 1   Stress:Homework<br>Stress level:0.8<br>Weight:1  \n 2   Stress:Homework<br>Stress level:1.0<br>Weight:5  \n 3   Stress:Homework<br>Stress level:1.2<br>Weight:3  \n 4   Stress:Homework<br>Stress level:1.5<br>Weight:2  \n 5   Stress:Homework<br>Stress level:1.7<br>Weight:2  \n 6   Stress:Homework<br>Stress level:2.0<br>Weight:4  \n 7   Stress:Homework<br>Stress level:2.2<br>Weight:3  \n 8   Stress:Homework<br>Stress level:2.5<br>Weight:1  \n 9   Stress:Homework<br>Stress level:2.8<br>Weight:1  \n 10  Stress:Homework<br>Stress level:4.0<br>Weight:1  ,\n 'Projects':    Projects  weight         x                                            hover\n 0       0.2       1  Projects  Stress:Projects<br>Stress level:0.2<br>Weight:1\n 1       0.8       2  Projects  Stress:Projects<br>Stress level:0.8<br>Weight:2\n 2       1.0       5  Projects  Stress:Projects<br>Stress level:1.0<br>Weight:5\n 3       1.5       4  Projects  Stress:Projects<br>Stress level:1.5<br>Weight:4\n 4       1.7       2  Projects  Stress:Projects<br>Stress level:1.7<br>Weight:2\n 5       2.0       3  Projects  Stress:Projects<br>Stress level:2.0<br>Weight:3\n 6       2.5       1  Projects  Stress:Projects<br>Stress level:2.5<br>Weight:1\n 7       3.0       5  Projects  Stress:Projects<br>Stress level:3.0<br>Weight:5\n 8       3.7       2  Projects  Stress:Projects<br>Stress level:3.7<br>Weight:2\n 9       4.0       1  Projects  Stress:Projects<br>Stress level:4.0<br>Weight:1,\n 'Quizes':    Quizes  weight       x                                          hover\n 0     0.5       2  Quizes  Stress:Quizes<br>Stress level:0.5<br>Weight:2\n 1     1.0       7  Quizes  Stress:Quizes<br>Stress level:1.0<br>Weight:7\n 2     1.5       3  Quizes  Stress:Quizes<br>Stress level:1.5<br>Weight:3\n 3     1.8       2  Quizes  Stress:Quizes<br>Stress level:1.8<br>Weight:2\n 4     2.0       5  Quizes  Stress:Quizes<br>Stress level:2.0<br>Weight:5\n 5     2.2       1  Quizes  Stress:Quizes<br>Stress level:2.2<br>Weight:1\n 6     2.5       4  Quizes  Stress:Quizes<br>Stress level:2.5<br>Weight:4\n 7     3.0       2  Quizes  Stress:Quizes<br>Stress level:3.0<br>Weight:2,\n 'Midterm/Finals':    Midterm/Finals  weight               x  \\\n 0             0.5       1  Midterm/Finals   \n 1             1.5       1  Midterm/Finals   \n 2             2.5       3  Midterm/Finals   \n 3             2.8       1  Midterm/Finals   \n 4             3.0       9  Midterm/Finals   \n 5             3.5       2  Midterm/Finals   \n 6             3.8       2  Midterm/Finals   \n 7             4.0       7  Midterm/Finals   \n \n                                                hover  \n 0  Stress:Midterm/Finals<br>Stress level:0.5<br>W...  \n 1  Stress:Midterm/Finals<br>Stress level:1.5<br>W...  \n 2  Stress:Midterm/Finals<br>Stress level:2.5<br>W...  \n 3  Stress:Midterm/Finals<br>Stress level:2.8<br>W...  \n 4  Stress:Midterm/Finals<br>Stress level:3.0<br>W...  \n 5  Stress:Midterm/Finals<br>Stress level:3.5<br>W...  \n 6  Stress:Midterm/Finals<br>Stress level:3.8<br>W...  \n 7  Stress:Midterm/Finals<br>Stress level:4.0<br>W...  }"
     },
     "metadata": {},
     "execution_count": 2
    }
   ],
   "source": [
    "df = pd.read_csv('./data/data.csv')\n",
    "#df=df.fillna(0)\n",
    "stress = ['Presentations','Homework','Projects','Quizes','Midterm/Finals']\n",
    "#print(df.iloc[:,(df.columns.get_loc('Homework')+1)].dropna())\n",
    "stress_final = {item: pd.concat([df[[item]].dropna(),df.iloc[:,(df.columns.get_loc(item)+1)].dropna()], axis=1) for item in stress}\n",
    "\n",
    "for stress,data in stress_final.items():\n",
    "    hover_text=[]\n",
    "    data.columns=[stress,'weight']\n",
    "    data['weight'] = data['weight'].astype(int)\n",
    "    data['x']=stress\n",
    "    for index, row in data.iterrows():\n",
    "        hover_text.append(('Stress:{stress}<br>'+\n",
    "        'Stress level:{level}<br>'+\n",
    "        'Weight:{weight}').format(stress=stress,\n",
    "        level=row[stress],\n",
    "        weight=row['weight']))\n",
    "    data['hover']=hover_text\n",
    "\n",
    "\n",
    "\n",
    "stress_final"
   ]
  },
  {
   "cell_type": "code",
   "execution_count": 25,
   "metadata": {
    "tags": []
   },
   "outputs": [
    {
     "output_type": "execute_result",
     "data": {
      "text/plain": "{'persona1':     Level  weight   persona               x  \\\n 0     0.8       1  persona1   Presentations   \n 1     1.0       2  persona1   Presentations   \n 2     1.5       1  persona1   Presentations   \n 3     3.0       1  persona1   Presentations   \n 16    0.8       1  persona1        Homework   \n 17    1.0       1  persona1        Homework   \n 18    1.2       2  persona1        Homework   \n 19    1.7       1  persona1        Homework   \n 33    0.8       1  persona1        Projects   \n 34    1.5       3  persona1        Projects   \n 35    2.0       1  persona1        Projects   \n 36    0.0       0  persona1        Projects   \n 50    1.0       2  persona1          Quizes   \n 51    1.2       1  persona1          Quizes   \n 52    1.5       1  persona1          Quizes   \n 53    2.0       1  persona1          Quizes   \n 66    1.5       1  persona1  Midterm/Finals   \n 67    2.5       1  persona1  Midterm/Finals   \n 68    3.0       2  persona1  Midterm/Finals   \n 69    4.0       1  persona1  Midterm/Finals   \n \n                                                 hover  \n 0   Stress:Presentations<br>Stress level:0.8<br>We...  \n 1   Stress:Presentations<br>Stress level:1.0<br>We...  \n 2   Stress:Presentations<br>Stress level:1.5<br>We...  \n 3   Stress:Presentations<br>Stress level:3.0<br>We...  \n 16    Stress:Homework<br>Stress level:0.8<br>Weight:1  \n 17    Stress:Homework<br>Stress level:1.0<br>Weight:1  \n 18    Stress:Homework<br>Stress level:1.2<br>Weight:2  \n 19    Stress:Homework<br>Stress level:1.7<br>Weight:1  \n 33    Stress:Projects<br>Stress level:0.8<br>Weight:1  \n 34    Stress:Projects<br>Stress level:1.5<br>Weight:3  \n 35    Stress:Projects<br>Stress level:2.0<br>Weight:1  \n 36    Stress:Projects<br>Stress level:0.0<br>Weight:0  \n 50      Stress:Quizes<br>Stress level:1.0<br>Weight:2  \n 51      Stress:Quizes<br>Stress level:1.2<br>Weight:1  \n 52      Stress:Quizes<br>Stress level:1.5<br>Weight:1  \n 53      Stress:Quizes<br>Stress level:2.0<br>Weight:1  \n 66  Stress:Midterm/Finals<br>Stress level:1.5<br>W...  \n 67  Stress:Midterm/Finals<br>Stress level:2.5<br>W...  \n 68  Stress:Midterm/Finals<br>Stress level:3.0<br>W...  \n 69  Stress:Midterm/Finals<br>Stress level:4.0<br>W...  ,\n 'persona2':     Level  weight   persona               x  \\\n 4     0.5       1  persona2   Presentations   \n 5     1.5       1  persona2   Presentations   \n 6     2.5       2  persona2   Presentations   \n 7     3.0       1  persona2   Presentations   \n 20    0.5       1  persona2        Homework   \n 21    1.0       1  persona2        Homework   \n 22    1.2       1  persona2        Homework   \n 23    2.2       2  persona2        Homework   \n 37    1.0       3  persona2        Projects   \n 38    1.5       1  persona2        Projects   \n 39    3.0       1  persona2        Projects   \n 54    1.0       1  persona2          Quizes   \n 55    1.8       1  persona2          Quizes   \n 56    2.0       1  persona2          Quizes   \n 57    2.5       1  persona2          Quizes   \n 58    3.0       1  persona2          Quizes   \n 70    3.0       2  persona2  Midterm/Finals   \n 71    4.0       3  persona2  Midterm/Finals   \n \n                                                 hover  \n 4   Stress:Presentations<br>Stress level:0.5<br>We...  \n 5   Stress:Presentations<br>Stress level:1.5<br>We...  \n 6   Stress:Presentations<br>Stress level:2.5<br>We...  \n 7   Stress:Presentations<br>Stress level:3.0<br>We...  \n 20    Stress:Homework<br>Stress level:0.5<br>Weight:1  \n 21    Stress:Homework<br>Stress level:1.0<br>Weight:1  \n 22    Stress:Homework<br>Stress level:1.2<br>Weight:1  \n 23    Stress:Homework<br>Stress level:2.2<br>Weight:2  \n 37    Stress:Projects<br>Stress level:1.0<br>Weight:3  \n 38    Stress:Projects<br>Stress level:1.5<br>Weight:1  \n 39    Stress:Projects<br>Stress level:3.0<br>Weight:1  \n 54      Stress:Quizes<br>Stress level:1.0<br>Weight:1  \n 55      Stress:Quizes<br>Stress level:1.8<br>Weight:1  \n 56      Stress:Quizes<br>Stress level:2.0<br>Weight:1  \n 57      Stress:Quizes<br>Stress level:2.5<br>Weight:1  \n 58      Stress:Quizes<br>Stress level:3.0<br>Weight:1  \n 70  Stress:Midterm/Finals<br>Stress level:3.0<br>W...  \n 71  Stress:Midterm/Finals<br>Stress level:4.0<br>W...  ,\n 'persona3':     Level  weight   persona               x  \\\n 8     0.3       2  persona3   Presentations   \n 9     1.5       1  persona3   Presentations   \n 10    2.0       3  persona3   Presentations   \n 24    0.5       1  persona3        Homework   \n 25    1.0       2  persona3        Homework   \n 26    1.2       1  persona3        Homework   \n 27    2.0       3  persona3        Homework   \n 40    0.8       1  persona3        Projects   \n 41    1.0       1  persona3        Projects   \n 42    1.7       1  persona3        Projects   \n 43    3.0       2  persona3        Projects   \n 44    3.7       2  persona3        Projects   \n 59    1.0       3  persona3          Quizes   \n 60    1.5       2  persona3          Quizes   \n 61    1.8       1  persona3          Quizes   \n 62    2.0       1  persona3          Quizes   \n 72    2.5       1  persona3  Midterm/Finals   \n 73    2.8       1  persona3  Midterm/Finals   \n 74    3.0       2  persona3  Midterm/Finals   \n 75    3.5       1  persona3  Midterm/Finals   \n 76    3.8       1  persona3  Midterm/Finals   \n 77    4.0       1  persona3  Midterm/Finals   \n \n                                                 hover  \n 8   Stress:Presentations<br>Stress level:0.3<br>We...  \n 9   Stress:Presentations<br>Stress level:1.5<br>We...  \n 10  Stress:Presentations<br>Stress level:2.0<br>We...  \n 24    Stress:Homework<br>Stress level:0.5<br>Weight:1  \n 25    Stress:Homework<br>Stress level:1.0<br>Weight:2  \n 26    Stress:Homework<br>Stress level:1.2<br>Weight:1  \n 27    Stress:Homework<br>Stress level:2.0<br>Weight:3  \n 40    Stress:Projects<br>Stress level:0.8<br>Weight:1  \n 41    Stress:Projects<br>Stress level:1.0<br>Weight:1  \n 42    Stress:Projects<br>Stress level:1.7<br>Weight:1  \n 43    Stress:Projects<br>Stress level:3.0<br>Weight:2  \n 44    Stress:Projects<br>Stress level:3.7<br>Weight:2  \n 59      Stress:Quizes<br>Stress level:1.0<br>Weight:3  \n 60      Stress:Quizes<br>Stress level:1.5<br>Weight:2  \n 61      Stress:Quizes<br>Stress level:1.8<br>Weight:1  \n 62      Stress:Quizes<br>Stress level:2.0<br>Weight:1  \n 72  Stress:Midterm/Finals<br>Stress level:2.5<br>W...  \n 73  Stress:Midterm/Finals<br>Stress level:2.8<br>W...  \n 74  Stress:Midterm/Finals<br>Stress level:3.0<br>W...  \n 75  Stress:Midterm/Finals<br>Stress level:3.5<br>W...  \n 76  Stress:Midterm/Finals<br>Stress level:3.8<br>W...  \n 77  Stress:Midterm/Finals<br>Stress level:4.0<br>W...  ,\n 'persona4':     Level  weight   persona               x  \\\n 11    0.0       1  persona4   Presentations   \n 12    0.5       1  persona4   Presentations   \n 13    1.0       1  persona4   Presentations   \n 14    2.0       1  persona4   Presentations   \n 15    3.5       1  persona4   Presentations   \n 28    1.0       1  persona4        Homework   \n 29    1.5       1  persona4        Homework   \n 30    1.7       1  persona4        Homework   \n 31    2.0       1  persona4        Homework   \n 32    4.0       1  persona4        Homework   \n 45    1.7       1  persona4        Projects   \n 46    2.0       1  persona4        Projects   \n 47    2.5       1  persona4        Projects   \n 48    3.0       1  persona4        Projects   \n 49    4.0       1  persona4        Projects   \n 63    0.5       1  persona4          Quizes   \n 64    2.0       2  persona4          Quizes   \n 65    2.5       2  persona4          Quizes   \n 78    2.5       1  persona4  Midterm/Finals   \n 79    3.0       1  persona4  Midterm/Finals   \n 80    3.8       1  persona4  Midterm/Finals   \n 81    4.0       2  persona4  Midterm/Finals   \n \n                                                 hover  \n 11  Stress:Presentations<br>Stress level:0.0<br>We...  \n 12  Stress:Presentations<br>Stress level:0.5<br>We...  \n 13  Stress:Presentations<br>Stress level:1.0<br>We...  \n 14  Stress:Presentations<br>Stress level:2.0<br>We...  \n 15  Stress:Presentations<br>Stress level:3.5<br>We...  \n 28    Stress:Homework<br>Stress level:1.0<br>Weight:1  \n 29    Stress:Homework<br>Stress level:1.5<br>Weight:1  \n 30    Stress:Homework<br>Stress level:1.7<br>Weight:1  \n 31    Stress:Homework<br>Stress level:2.0<br>Weight:1  \n 32    Stress:Homework<br>Stress level:4.0<br>Weight:1  \n 45    Stress:Projects<br>Stress level:1.7<br>Weight:1  \n 46    Stress:Projects<br>Stress level:2.0<br>Weight:1  \n 47    Stress:Projects<br>Stress level:2.5<br>Weight:1  \n 48    Stress:Projects<br>Stress level:3.0<br>Weight:1  \n 49    Stress:Projects<br>Stress level:4.0<br>Weight:1  \n 63      Stress:Quizes<br>Stress level:0.5<br>Weight:1  \n 64      Stress:Quizes<br>Stress level:2.0<br>Weight:2  \n 65      Stress:Quizes<br>Stress level:2.5<br>Weight:2  \n 78  Stress:Midterm/Finals<br>Stress level:2.5<br>W...  \n 79  Stress:Midterm/Finals<br>Stress level:3.0<br>W...  \n 80  Stress:Midterm/Finals<br>Stress level:3.8<br>W...  \n 81  Stress:Midterm/Finals<br>Stress level:4.0<br>W...  }"
     },
     "metadata": {},
     "execution_count": 25
    }
   ],
   "source": [
    "df = pd.read_csv('./data/data2.csv')\n",
    "df = df.fillna(0)\n",
    "persona_name = ['persona1','persona2','persona3','persona4']\n",
    "persona_data = {persona: df.query(\"persona == '%s'\" %persona)\n",
    "                              for persona in persona_name }\n",
    "for persona, data in persona_data.items():\n",
    "    hover_text = []\n",
    "    data['weight'] = data['weight'].astype(int)\n",
    "    for index, row in data.iterrows():\n",
    "        hover_text.append(('Stress:{x_1}<br>'+\n",
    "        'Stress level:{level}<br>'+\n",
    "        'Weight:{weight}').format(x_1=row['x'],\n",
    "        level=row['Level'],\n",
    "        weight=row['weight']))\n",
    "\n",
    "\n",
    "\n",
    "    data['hover']=hover_text\n",
    "\n",
    "\n",
    "persona_data    "
   ]
  },
  {
   "cell_type": "code",
   "execution_count": 35,
   "metadata": {},
   "outputs": [
    {
     "output_type": "display_data",
     "data": {
      "application/vnd.plotly.v1+json": {
       "config": {
        "plotlyServerURL": "https://plotly.com"
       },
       "data": [
        {
         "hoverinfo": "text",
         "marker": {
          "line": {
           "width": 1
          },
          "size": [
           1,
           2,
           1,
           1,
           1,
           1,
           2,
           1,
           1,
           3,
           1,
           0,
           2,
           1,
           1,
           1,
           1,
           1,
           2,
           1
          ],
          "sizemode": "area",
          "sizeref": 0.016
         },
         "mode": "markers",
         "name": "persona1",
         "text": [
          "Stress:Presentations<br>Stress level:0.8<br>Weight:1",
          "Stress:Presentations<br>Stress level:1.0<br>Weight:2",
          "Stress:Presentations<br>Stress level:1.5<br>Weight:1",
          "Stress:Presentations<br>Stress level:3.0<br>Weight:1",
          "Stress:Homework<br>Stress level:0.8<br>Weight:1",
          "Stress:Homework<br>Stress level:1.0<br>Weight:1",
          "Stress:Homework<br>Stress level:1.2<br>Weight:2",
          "Stress:Homework<br>Stress level:1.7<br>Weight:1",
          "Stress:Projects<br>Stress level:0.8<br>Weight:1",
          "Stress:Projects<br>Stress level:1.5<br>Weight:3",
          "Stress:Projects<br>Stress level:2.0<br>Weight:1",
          "Stress:Projects<br>Stress level:0.0<br>Weight:0",
          "Stress:Quizes<br>Stress level:1.0<br>Weight:2",
          "Stress:Quizes<br>Stress level:1.2<br>Weight:1",
          "Stress:Quizes<br>Stress level:1.5<br>Weight:1",
          "Stress:Quizes<br>Stress level:2.0<br>Weight:1",
          "Stress:Midterm/Finals<br>Stress level:1.5<br>Weight:1",
          "Stress:Midterm/Finals<br>Stress level:2.5<br>Weight:1",
          "Stress:Midterm/Finals<br>Stress level:3.0<br>Weight:2",
          "Stress:Midterm/Finals<br>Stress level:4.0<br>Weight:1"
         ],
         "type": "scatter",
         "x": [
          "Presentations",
          "Presentations",
          "Presentations",
          "Presentations",
          "Homework",
          "Homework",
          "Homework",
          "Homework",
          "Projects",
          "Projects",
          "Projects",
          "Projects",
          "Quizes",
          "Quizes",
          "Quizes",
          "Quizes",
          "Midterm/Finals",
          "Midterm/Finals",
          "Midterm/Finals",
          "Midterm/Finals"
         ],
         "y": [
          0.8,
          1,
          1.5,
          3,
          0.8,
          1,
          1.2,
          1.7,
          0.8,
          1.5,
          2,
          0,
          1,
          1.2,
          1.5,
          2,
          1.5,
          2.5,
          3,
          4
         ]
        },
        {
         "hoverinfo": "text",
         "marker": {
          "line": {
           "width": 1
          },
          "size": [
           1,
           1,
           2,
           1,
           1,
           1,
           1,
           2,
           3,
           1,
           1,
           1,
           1,
           1,
           1,
           1,
           2,
           3
          ],
          "sizemode": "area",
          "sizeref": 0.016
         },
         "mode": "markers",
         "name": "persona2",
         "text": [
          "Stress:Presentations<br>Stress level:0.5<br>Weight:1",
          "Stress:Presentations<br>Stress level:1.5<br>Weight:1",
          "Stress:Presentations<br>Stress level:2.5<br>Weight:2",
          "Stress:Presentations<br>Stress level:3.0<br>Weight:1",
          "Stress:Homework<br>Stress level:0.5<br>Weight:1",
          "Stress:Homework<br>Stress level:1.0<br>Weight:1",
          "Stress:Homework<br>Stress level:1.2<br>Weight:1",
          "Stress:Homework<br>Stress level:2.2<br>Weight:2",
          "Stress:Projects<br>Stress level:1.0<br>Weight:3",
          "Stress:Projects<br>Stress level:1.5<br>Weight:1",
          "Stress:Projects<br>Stress level:3.0<br>Weight:1",
          "Stress:Quizes<br>Stress level:1.0<br>Weight:1",
          "Stress:Quizes<br>Stress level:1.8<br>Weight:1",
          "Stress:Quizes<br>Stress level:2.0<br>Weight:1",
          "Stress:Quizes<br>Stress level:2.5<br>Weight:1",
          "Stress:Quizes<br>Stress level:3.0<br>Weight:1",
          "Stress:Midterm/Finals<br>Stress level:3.0<br>Weight:2",
          "Stress:Midterm/Finals<br>Stress level:4.0<br>Weight:3"
         ],
         "type": "scatter",
         "x": [
          "Presentations",
          "Presentations",
          "Presentations",
          "Presentations",
          "Homework",
          "Homework",
          "Homework",
          "Homework",
          "Projects",
          "Projects",
          "Projects",
          "Quizes",
          "Quizes",
          "Quizes",
          "Quizes",
          "Quizes",
          "Midterm/Finals",
          "Midterm/Finals"
         ],
         "y": [
          0.5,
          1.5,
          2.5,
          3,
          0.5,
          1,
          1.2,
          2.2,
          1,
          1.5,
          3,
          1,
          1.8,
          2,
          2.5,
          3,
          3,
          4
         ]
        },
        {
         "hoverinfo": "text",
         "marker": {
          "line": {
           "width": 1
          },
          "size": [
           2,
           1,
           3,
           1,
           2,
           1,
           3,
           1,
           1,
           1,
           2,
           2,
           3,
           2,
           1,
           1,
           1,
           1,
           2,
           1,
           1,
           1
          ],
          "sizemode": "area",
          "sizeref": 0.016
         },
         "mode": "markers",
         "name": "persona3",
         "text": [
          "Stress:Presentations<br>Stress level:0.3<br>Weight:2",
          "Stress:Presentations<br>Stress level:1.5<br>Weight:1",
          "Stress:Presentations<br>Stress level:2.0<br>Weight:3",
          "Stress:Homework<br>Stress level:0.5<br>Weight:1",
          "Stress:Homework<br>Stress level:1.0<br>Weight:2",
          "Stress:Homework<br>Stress level:1.2<br>Weight:1",
          "Stress:Homework<br>Stress level:2.0<br>Weight:3",
          "Stress:Projects<br>Stress level:0.8<br>Weight:1",
          "Stress:Projects<br>Stress level:1.0<br>Weight:1",
          "Stress:Projects<br>Stress level:1.7<br>Weight:1",
          "Stress:Projects<br>Stress level:3.0<br>Weight:2",
          "Stress:Projects<br>Stress level:3.7<br>Weight:2",
          "Stress:Quizes<br>Stress level:1.0<br>Weight:3",
          "Stress:Quizes<br>Stress level:1.5<br>Weight:2",
          "Stress:Quizes<br>Stress level:1.8<br>Weight:1",
          "Stress:Quizes<br>Stress level:2.0<br>Weight:1",
          "Stress:Midterm/Finals<br>Stress level:2.5<br>Weight:1",
          "Stress:Midterm/Finals<br>Stress level:2.8<br>Weight:1",
          "Stress:Midterm/Finals<br>Stress level:3.0<br>Weight:2",
          "Stress:Midterm/Finals<br>Stress level:3.5<br>Weight:1",
          "Stress:Midterm/Finals<br>Stress level:3.8<br>Weight:1",
          "Stress:Midterm/Finals<br>Stress level:4.0<br>Weight:1"
         ],
         "type": "scatter",
         "x": [
          "Presentations",
          "Presentations",
          "Presentations",
          "Homework",
          "Homework",
          "Homework",
          "Homework",
          "Projects",
          "Projects",
          "Projects",
          "Projects",
          "Projects",
          "Quizes",
          "Quizes",
          "Quizes",
          "Quizes",
          "Midterm/Finals",
          "Midterm/Finals",
          "Midterm/Finals",
          "Midterm/Finals",
          "Midterm/Finals",
          "Midterm/Finals"
         ],
         "y": [
          0.3,
          1.5,
          2,
          0.5,
          1,
          1.2,
          2,
          0.8,
          1,
          1.7,
          3,
          3.7,
          1,
          1.5,
          1.8,
          2,
          2.5,
          2.8,
          3,
          3.5,
          3.8,
          4
         ]
        },
        {
         "hoverinfo": "text",
         "marker": {
          "line": {
           "width": 1
          },
          "size": [
           1,
           1,
           1,
           1,
           1,
           1,
           1,
           1,
           1,
           1,
           1,
           1,
           1,
           1,
           1,
           1,
           2,
           2,
           1,
           1,
           1,
           2
          ],
          "sizemode": "area",
          "sizeref": 0.016
         },
         "mode": "markers",
         "name": "persona4",
         "text": [
          "Stress:Presentations<br>Stress level:0.0<br>Weight:1",
          "Stress:Presentations<br>Stress level:0.5<br>Weight:1",
          "Stress:Presentations<br>Stress level:1.0<br>Weight:1",
          "Stress:Presentations<br>Stress level:2.0<br>Weight:1",
          "Stress:Presentations<br>Stress level:3.5<br>Weight:1",
          "Stress:Homework<br>Stress level:1.0<br>Weight:1",
          "Stress:Homework<br>Stress level:1.5<br>Weight:1",
          "Stress:Homework<br>Stress level:1.7<br>Weight:1",
          "Stress:Homework<br>Stress level:2.0<br>Weight:1",
          "Stress:Homework<br>Stress level:4.0<br>Weight:1",
          "Stress:Projects<br>Stress level:1.7<br>Weight:1",
          "Stress:Projects<br>Stress level:2.0<br>Weight:1",
          "Stress:Projects<br>Stress level:2.5<br>Weight:1",
          "Stress:Projects<br>Stress level:3.0<br>Weight:1",
          "Stress:Projects<br>Stress level:4.0<br>Weight:1",
          "Stress:Quizes<br>Stress level:0.5<br>Weight:1",
          "Stress:Quizes<br>Stress level:2.0<br>Weight:2",
          "Stress:Quizes<br>Stress level:2.5<br>Weight:2",
          "Stress:Midterm/Finals<br>Stress level:2.5<br>Weight:1",
          "Stress:Midterm/Finals<br>Stress level:3.0<br>Weight:1",
          "Stress:Midterm/Finals<br>Stress level:3.8<br>Weight:1",
          "Stress:Midterm/Finals<br>Stress level:4.0<br>Weight:2"
         ],
         "type": "scatter",
         "x": [
          "Presentations",
          "Presentations",
          "Presentations",
          "Presentations",
          "Presentations",
          "Homework",
          "Homework",
          "Homework",
          "Homework",
          "Homework",
          "Projects",
          "Projects",
          "Projects",
          "Projects",
          "Projects",
          "Quizes",
          "Quizes",
          "Quizes",
          "Midterm/Finals",
          "Midterm/Finals",
          "Midterm/Finals",
          "Midterm/Finals"
         ],
         "y": [
          0,
          0.5,
          1,
          2,
          3.5,
          1,
          1.5,
          1.7,
          2,
          4,
          1.7,
          2,
          2.5,
          3,
          4,
          0.5,
          2,
          2.5,
          2.5,
          3,
          3.8,
          4
         ]
        }
       ],
       "layout": {
        "paper_bgcolor": "rgb(243, 243, 243)",
        "plot_bgcolor": "rgb(243, 243, 243)",
        "template": {
         "data": {
          "bar": [
           {
            "error_x": {
             "color": "#2a3f5f"
            },
            "error_y": {
             "color": "#2a3f5f"
            },
            "marker": {
             "line": {
              "color": "#E5ECF6",
              "width": 0.5
             }
            },
            "type": "bar"
           }
          ],
          "barpolar": [
           {
            "marker": {
             "line": {
              "color": "#E5ECF6",
              "width": 0.5
             }
            },
            "type": "barpolar"
           }
          ],
          "carpet": [
           {
            "aaxis": {
             "endlinecolor": "#2a3f5f",
             "gridcolor": "white",
             "linecolor": "white",
             "minorgridcolor": "white",
             "startlinecolor": "#2a3f5f"
            },
            "baxis": {
             "endlinecolor": "#2a3f5f",
             "gridcolor": "white",
             "linecolor": "white",
             "minorgridcolor": "white",
             "startlinecolor": "#2a3f5f"
            },
            "type": "carpet"
           }
          ],
          "choropleth": [
           {
            "colorbar": {
             "outlinewidth": 0,
             "ticks": ""
            },
            "type": "choropleth"
           }
          ],
          "contour": [
           {
            "colorbar": {
             "outlinewidth": 0,
             "ticks": ""
            },
            "colorscale": [
             [
              0,
              "#0d0887"
             ],
             [
              0.1111111111111111,
              "#46039f"
             ],
             [
              0.2222222222222222,
              "#7201a8"
             ],
             [
              0.3333333333333333,
              "#9c179e"
             ],
             [
              0.4444444444444444,
              "#bd3786"
             ],
             [
              0.5555555555555556,
              "#d8576b"
             ],
             [
              0.6666666666666666,
              "#ed7953"
             ],
             [
              0.7777777777777778,
              "#fb9f3a"
             ],
             [
              0.8888888888888888,
              "#fdca26"
             ],
             [
              1,
              "#f0f921"
             ]
            ],
            "type": "contour"
           }
          ],
          "contourcarpet": [
           {
            "colorbar": {
             "outlinewidth": 0,
             "ticks": ""
            },
            "type": "contourcarpet"
           }
          ],
          "heatmap": [
           {
            "colorbar": {
             "outlinewidth": 0,
             "ticks": ""
            },
            "colorscale": [
             [
              0,
              "#0d0887"
             ],
             [
              0.1111111111111111,
              "#46039f"
             ],
             [
              0.2222222222222222,
              "#7201a8"
             ],
             [
              0.3333333333333333,
              "#9c179e"
             ],
             [
              0.4444444444444444,
              "#bd3786"
             ],
             [
              0.5555555555555556,
              "#d8576b"
             ],
             [
              0.6666666666666666,
              "#ed7953"
             ],
             [
              0.7777777777777778,
              "#fb9f3a"
             ],
             [
              0.8888888888888888,
              "#fdca26"
             ],
             [
              1,
              "#f0f921"
             ]
            ],
            "type": "heatmap"
           }
          ],
          "heatmapgl": [
           {
            "colorbar": {
             "outlinewidth": 0,
             "ticks": ""
            },
            "colorscale": [
             [
              0,
              "#0d0887"
             ],
             [
              0.1111111111111111,
              "#46039f"
             ],
             [
              0.2222222222222222,
              "#7201a8"
             ],
             [
              0.3333333333333333,
              "#9c179e"
             ],
             [
              0.4444444444444444,
              "#bd3786"
             ],
             [
              0.5555555555555556,
              "#d8576b"
             ],
             [
              0.6666666666666666,
              "#ed7953"
             ],
             [
              0.7777777777777778,
              "#fb9f3a"
             ],
             [
              0.8888888888888888,
              "#fdca26"
             ],
             [
              1,
              "#f0f921"
             ]
            ],
            "type": "heatmapgl"
           }
          ],
          "histogram": [
           {
            "marker": {
             "colorbar": {
              "outlinewidth": 0,
              "ticks": ""
             }
            },
            "type": "histogram"
           }
          ],
          "histogram2d": [
           {
            "colorbar": {
             "outlinewidth": 0,
             "ticks": ""
            },
            "colorscale": [
             [
              0,
              "#0d0887"
             ],
             [
              0.1111111111111111,
              "#46039f"
             ],
             [
              0.2222222222222222,
              "#7201a8"
             ],
             [
              0.3333333333333333,
              "#9c179e"
             ],
             [
              0.4444444444444444,
              "#bd3786"
             ],
             [
              0.5555555555555556,
              "#d8576b"
             ],
             [
              0.6666666666666666,
              "#ed7953"
             ],
             [
              0.7777777777777778,
              "#fb9f3a"
             ],
             [
              0.8888888888888888,
              "#fdca26"
             ],
             [
              1,
              "#f0f921"
             ]
            ],
            "type": "histogram2d"
           }
          ],
          "histogram2dcontour": [
           {
            "colorbar": {
             "outlinewidth": 0,
             "ticks": ""
            },
            "colorscale": [
             [
              0,
              "#0d0887"
             ],
             [
              0.1111111111111111,
              "#46039f"
             ],
             [
              0.2222222222222222,
              "#7201a8"
             ],
             [
              0.3333333333333333,
              "#9c179e"
             ],
             [
              0.4444444444444444,
              "#bd3786"
             ],
             [
              0.5555555555555556,
              "#d8576b"
             ],
             [
              0.6666666666666666,
              "#ed7953"
             ],
             [
              0.7777777777777778,
              "#fb9f3a"
             ],
             [
              0.8888888888888888,
              "#fdca26"
             ],
             [
              1,
              "#f0f921"
             ]
            ],
            "type": "histogram2dcontour"
           }
          ],
          "mesh3d": [
           {
            "colorbar": {
             "outlinewidth": 0,
             "ticks": ""
            },
            "type": "mesh3d"
           }
          ],
          "parcoords": [
           {
            "line": {
             "colorbar": {
              "outlinewidth": 0,
              "ticks": ""
             }
            },
            "type": "parcoords"
           }
          ],
          "pie": [
           {
            "automargin": true,
            "type": "pie"
           }
          ],
          "scatter": [
           {
            "marker": {
             "colorbar": {
              "outlinewidth": 0,
              "ticks": ""
             }
            },
            "type": "scatter"
           }
          ],
          "scatter3d": [
           {
            "line": {
             "colorbar": {
              "outlinewidth": 0,
              "ticks": ""
             }
            },
            "marker": {
             "colorbar": {
              "outlinewidth": 0,
              "ticks": ""
             }
            },
            "type": "scatter3d"
           }
          ],
          "scattercarpet": [
           {
            "marker": {
             "colorbar": {
              "outlinewidth": 0,
              "ticks": ""
             }
            },
            "type": "scattercarpet"
           }
          ],
          "scattergeo": [
           {
            "marker": {
             "colorbar": {
              "outlinewidth": 0,
              "ticks": ""
             }
            },
            "type": "scattergeo"
           }
          ],
          "scattergl": [
           {
            "marker": {
             "colorbar": {
              "outlinewidth": 0,
              "ticks": ""
             }
            },
            "type": "scattergl"
           }
          ],
          "scattermapbox": [
           {
            "marker": {
             "colorbar": {
              "outlinewidth": 0,
              "ticks": ""
             }
            },
            "type": "scattermapbox"
           }
          ],
          "scatterpolar": [
           {
            "marker": {
             "colorbar": {
              "outlinewidth": 0,
              "ticks": ""
             }
            },
            "type": "scatterpolar"
           }
          ],
          "scatterpolargl": [
           {
            "marker": {
             "colorbar": {
              "outlinewidth": 0,
              "ticks": ""
             }
            },
            "type": "scatterpolargl"
           }
          ],
          "scatterternary": [
           {
            "marker": {
             "colorbar": {
              "outlinewidth": 0,
              "ticks": ""
             }
            },
            "type": "scatterternary"
           }
          ],
          "surface": [
           {
            "colorbar": {
             "outlinewidth": 0,
             "ticks": ""
            },
            "colorscale": [
             [
              0,
              "#0d0887"
             ],
             [
              0.1111111111111111,
              "#46039f"
             ],
             [
              0.2222222222222222,
              "#7201a8"
             ],
             [
              0.3333333333333333,
              "#9c179e"
             ],
             [
              0.4444444444444444,
              "#bd3786"
             ],
             [
              0.5555555555555556,
              "#d8576b"
             ],
             [
              0.6666666666666666,
              "#ed7953"
             ],
             [
              0.7777777777777778,
              "#fb9f3a"
             ],
             [
              0.8888888888888888,
              "#fdca26"
             ],
             [
              1,
              "#f0f921"
             ]
            ],
            "type": "surface"
           }
          ],
          "table": [
           {
            "cells": {
             "fill": {
              "color": "#EBF0F8"
             },
             "line": {
              "color": "white"
             }
            },
            "header": {
             "fill": {
              "color": "#C8D4E3"
             },
             "line": {
              "color": "white"
             }
            },
            "type": "table"
           }
          ]
         },
         "layout": {
          "annotationdefaults": {
           "arrowcolor": "#2a3f5f",
           "arrowhead": 0,
           "arrowwidth": 1
          },
          "coloraxis": {
           "colorbar": {
            "outlinewidth": 0,
            "ticks": ""
           }
          },
          "colorscale": {
           "diverging": [
            [
             0,
             "#8e0152"
            ],
            [
             0.1,
             "#c51b7d"
            ],
            [
             0.2,
             "#de77ae"
            ],
            [
             0.3,
             "#f1b6da"
            ],
            [
             0.4,
             "#fde0ef"
            ],
            [
             0.5,
             "#f7f7f7"
            ],
            [
             0.6,
             "#e6f5d0"
            ],
            [
             0.7,
             "#b8e186"
            ],
            [
             0.8,
             "#7fbc41"
            ],
            [
             0.9,
             "#4d9221"
            ],
            [
             1,
             "#276419"
            ]
           ],
           "sequential": [
            [
             0,
             "#0d0887"
            ],
            [
             0.1111111111111111,
             "#46039f"
            ],
            [
             0.2222222222222222,
             "#7201a8"
            ],
            [
             0.3333333333333333,
             "#9c179e"
            ],
            [
             0.4444444444444444,
             "#bd3786"
            ],
            [
             0.5555555555555556,
             "#d8576b"
            ],
            [
             0.6666666666666666,
             "#ed7953"
            ],
            [
             0.7777777777777778,
             "#fb9f3a"
            ],
            [
             0.8888888888888888,
             "#fdca26"
            ],
            [
             1,
             "#f0f921"
            ]
           ],
           "sequentialminus": [
            [
             0,
             "#0d0887"
            ],
            [
             0.1111111111111111,
             "#46039f"
            ],
            [
             0.2222222222222222,
             "#7201a8"
            ],
            [
             0.3333333333333333,
             "#9c179e"
            ],
            [
             0.4444444444444444,
             "#bd3786"
            ],
            [
             0.5555555555555556,
             "#d8576b"
            ],
            [
             0.6666666666666666,
             "#ed7953"
            ],
            [
             0.7777777777777778,
             "#fb9f3a"
            ],
            [
             0.8888888888888888,
             "#fdca26"
            ],
            [
             1,
             "#f0f921"
            ]
           ]
          },
          "colorway": [
           "#636efa",
           "#EF553B",
           "#00cc96",
           "#ab63fa",
           "#FFA15A",
           "#19d3f3",
           "#FF6692",
           "#B6E880",
           "#FF97FF",
           "#FECB52"
          ],
          "font": {
           "color": "#2a3f5f"
          },
          "geo": {
           "bgcolor": "white",
           "lakecolor": "white",
           "landcolor": "#E5ECF6",
           "showlakes": true,
           "showland": true,
           "subunitcolor": "white"
          },
          "hoverlabel": {
           "align": "left"
          },
          "hovermode": "closest",
          "mapbox": {
           "style": "light"
          },
          "paper_bgcolor": "white",
          "plot_bgcolor": "#E5ECF6",
          "polar": {
           "angularaxis": {
            "gridcolor": "white",
            "linecolor": "white",
            "ticks": ""
           },
           "bgcolor": "#E5ECF6",
           "radialaxis": {
            "gridcolor": "white",
            "linecolor": "white",
            "ticks": ""
           }
          },
          "scene": {
           "xaxis": {
            "backgroundcolor": "#E5ECF6",
            "gridcolor": "white",
            "gridwidth": 2,
            "linecolor": "white",
            "showbackground": true,
            "ticks": "",
            "zerolinecolor": "white"
           },
           "yaxis": {
            "backgroundcolor": "#E5ECF6",
            "gridcolor": "white",
            "gridwidth": 2,
            "linecolor": "white",
            "showbackground": true,
            "ticks": "",
            "zerolinecolor": "white"
           },
           "zaxis": {
            "backgroundcolor": "#E5ECF6",
            "gridcolor": "white",
            "gridwidth": 2,
            "linecolor": "white",
            "showbackground": true,
            "ticks": "",
            "zerolinecolor": "white"
           }
          },
          "shapedefaults": {
           "line": {
            "color": "#2a3f5f"
           }
          },
          "ternary": {
           "aaxis": {
            "gridcolor": "white",
            "linecolor": "white",
            "ticks": ""
           },
           "baxis": {
            "gridcolor": "white",
            "linecolor": "white",
            "ticks": ""
           },
           "bgcolor": "#E5ECF6",
           "caxis": {
            "gridcolor": "white",
            "linecolor": "white",
            "ticks": ""
           }
          },
          "title": {
           "x": 0.05
          },
          "xaxis": {
           "automargin": true,
           "gridcolor": "white",
           "linecolor": "white",
           "ticks": "",
           "title": {
            "standoff": 15
           },
           "zerolinecolor": "white",
           "zerolinewidth": 2
          },
          "yaxis": {
           "automargin": true,
           "gridcolor": "white",
           "linecolor": "white",
           "ticks": "",
           "title": {
            "standoff": 15
           },
           "zerolinecolor": "white",
           "zerolinewidth": 2
          }
         }
        },
        "title": {
         "text": "Academic Stress"
        },
        "xaxis": {
         "gridcolor": "white",
         "gridwidth": 2,
         "title": {
          "text": "Stress type"
         }
        },
        "yaxis": {
         "gridcolor": "white",
         "gridwidth": 2,
         "title": {
          "text": "stress level"
         }
        }
       }
      }
     },
     "metadata": {}
    }
   ],
   "source": [
    "fig = go.Figure()\n",
    "for persona, data in persona_data.items():\n",
    "\n",
    "    fig.add_trace(go.Scatter(x=data['x'],\n",
    "        y=data['Level'],name = persona,\n",
    "        marker_size=data['weight'], text=data['hover'],hoverinfo='text'))\n",
    "\n",
    "\n",
    "\n",
    "sizeref =  2.*80/(100**2)\n",
    "\n",
    "\n",
    "fig.update_traces(mode='markers', marker=dict(sizemode='area',\n",
    "                                              sizeref=sizeref, line_width=1))\n",
    "\n",
    "fig.update_layout(\n",
    "    title='Academic Stress',\n",
    "    xaxis=dict(\n",
    "        title='Stress type',\n",
    "        gridcolor='white',\n",
    "        gridwidth=2,\n",
    "    ),\n",
    "    yaxis=dict(\n",
    "        title='stress level',\n",
    "        gridcolor='white',\n",
    "        gridwidth=2,\n",
    "    ),\n",
    "    paper_bgcolor='rgb(243, 243, 243)',\n",
    "    plot_bgcolor='rgb(243, 243, 243)',\n",
    ")\n",
    "\n",
    "# fig = px.scatter(df, x='Presentations', size=\"weight_1\",\n",
    "#             log_x=True, size_max=60)\n",
    "fig.show()  "
   ]
  },
  {
   "cell_type": "code",
   "execution_count": 4,
   "metadata": {},
   "outputs": [
    {
     "output_type": "display_data",
     "data": {
      "application/vnd.plotly.v1+json": {
       "config": {
        "plotlyServerURL": "https://plotly.com"
       },
       "data": [
        {
         "marker": {
          "line": {
           "width": 2
          },
          "size": [
           1,
           2,
           2,
           1,
           3,
           3,
           4,
           3,
           2,
           1
          ],
          "sizemode": "area",
          "sizeref": 0.016
         },
         "mode": "markers",
         "name": "Presentations",
         "text": [
          "Stress:Presentations<br>Stress level:0.0<br>Weight:1",
          "Stress:Presentations<br>Stress level:0.3<br>Weight:2",
          "Stress:Presentations<br>Stress level:0.5<br>Weight:2",
          "Stress:Presentations<br>Stress level:0.8<br>Weight:1",
          "Stress:Presentations<br>Stress level:1.0<br>Weight:3",
          "Stress:Presentations<br>Stress level:1.5<br>Weight:3",
          "Stress:Presentations<br>Stress level:2.0<br>Weight:4",
          "Stress:Presentations<br>Stress level:2.5<br>Weight:3",
          "Stress:Presentations<br>Stress level:3.0<br>Weight:2",
          "Stress:Presentations<br>Stress level:3.5<br>Weight:1"
         ],
         "type": "scatter",
         "x": [
          "Presentations",
          "Presentations",
          "Presentations",
          "Presentations",
          "Presentations",
          "Presentations",
          "Presentations",
          "Presentations",
          "Presentations",
          "Presentations"
         ],
         "y": [
          0,
          0.3,
          0.5,
          0.8,
          1,
          1.5,
          2,
          2.5,
          3,
          3.5
         ]
        },
        {
         "marker": {
          "line": {
           "width": 2
          },
          "size": [
           3,
           1,
           5,
           3,
           2,
           2,
           4,
           3,
           1,
           1,
           1
          ],
          "sizemode": "area",
          "sizeref": 0.016
         },
         "mode": "markers",
         "name": "Homework",
         "text": [
          "Stress:Homework<br>Stress level:0.5<br>Weight:3",
          "Stress:Homework<br>Stress level:0.8<br>Weight:1",
          "Stress:Homework<br>Stress level:1.0<br>Weight:5",
          "Stress:Homework<br>Stress level:1.2<br>Weight:3",
          "Stress:Homework<br>Stress level:1.5<br>Weight:2",
          "Stress:Homework<br>Stress level:1.7<br>Weight:2",
          "Stress:Homework<br>Stress level:2.0<br>Weight:4",
          "Stress:Homework<br>Stress level:2.2<br>Weight:3",
          "Stress:Homework<br>Stress level:2.5<br>Weight:1",
          "Stress:Homework<br>Stress level:2.8<br>Weight:1",
          "Stress:Homework<br>Stress level:4.0<br>Weight:1"
         ],
         "type": "scatter",
         "x": [
          "Homework",
          "Homework",
          "Homework",
          "Homework",
          "Homework",
          "Homework",
          "Homework",
          "Homework",
          "Homework",
          "Homework",
          "Homework"
         ],
         "y": [
          0.5,
          0.8,
          1,
          1.2,
          1.5,
          1.7,
          2,
          2.2,
          2.5,
          2.8,
          4
         ]
        },
        {
         "marker": {
          "line": {
           "width": 2
          },
          "size": [
           1,
           2,
           5,
           4,
           2,
           3,
           1,
           5,
           2,
           1
          ],
          "sizemode": "area",
          "sizeref": 0.016
         },
         "mode": "markers",
         "name": "Projects",
         "text": [
          "Stress:Projects<br>Stress level:0.2<br>Weight:1",
          "Stress:Projects<br>Stress level:0.8<br>Weight:2",
          "Stress:Projects<br>Stress level:1.0<br>Weight:5",
          "Stress:Projects<br>Stress level:1.5<br>Weight:4",
          "Stress:Projects<br>Stress level:1.7<br>Weight:2",
          "Stress:Projects<br>Stress level:2.0<br>Weight:3",
          "Stress:Projects<br>Stress level:2.5<br>Weight:1",
          "Stress:Projects<br>Stress level:3.0<br>Weight:5",
          "Stress:Projects<br>Stress level:3.7<br>Weight:2",
          "Stress:Projects<br>Stress level:4.0<br>Weight:1"
         ],
         "type": "scatter",
         "x": [
          "Projects",
          "Projects",
          "Projects",
          "Projects",
          "Projects",
          "Projects",
          "Projects",
          "Projects",
          "Projects",
          "Projects"
         ],
         "y": [
          0.2,
          0.8,
          1,
          1.5,
          1.7,
          2,
          2.5,
          3,
          3.7,
          4
         ]
        },
        {
         "marker": {
          "line": {
           "width": 2
          },
          "size": [
           2,
           7,
           3,
           2,
           5,
           1,
           4,
           2
          ],
          "sizemode": "area",
          "sizeref": 0.016
         },
         "mode": "markers",
         "name": "Quizes",
         "text": [
          "Stress:Quizes<br>Stress level:0.5<br>Weight:2",
          "Stress:Quizes<br>Stress level:1.0<br>Weight:7",
          "Stress:Quizes<br>Stress level:1.5<br>Weight:3",
          "Stress:Quizes<br>Stress level:1.8<br>Weight:2",
          "Stress:Quizes<br>Stress level:2.0<br>Weight:5",
          "Stress:Quizes<br>Stress level:2.2<br>Weight:1",
          "Stress:Quizes<br>Stress level:2.5<br>Weight:4",
          "Stress:Quizes<br>Stress level:3.0<br>Weight:2"
         ],
         "type": "scatter",
         "x": [
          "Quizes",
          "Quizes",
          "Quizes",
          "Quizes",
          "Quizes",
          "Quizes",
          "Quizes",
          "Quizes"
         ],
         "y": [
          0.5,
          1,
          1.5,
          1.8,
          2,
          2.2,
          2.5,
          3
         ]
        },
        {
         "marker": {
          "line": {
           "width": 2
          },
          "size": [
           1,
           1,
           3,
           1,
           9,
           2,
           2,
           7
          ],
          "sizemode": "area",
          "sizeref": 0.016
         },
         "mode": "markers",
         "name": "Midterm/Finals",
         "text": [
          "Stress:Midterm/Finals<br>Stress level:0.5<br>Weight:1",
          "Stress:Midterm/Finals<br>Stress level:1.5<br>Weight:1",
          "Stress:Midterm/Finals<br>Stress level:2.5<br>Weight:3",
          "Stress:Midterm/Finals<br>Stress level:2.8<br>Weight:1",
          "Stress:Midterm/Finals<br>Stress level:3.0<br>Weight:9",
          "Stress:Midterm/Finals<br>Stress level:3.5<br>Weight:2",
          "Stress:Midterm/Finals<br>Stress level:3.8<br>Weight:2",
          "Stress:Midterm/Finals<br>Stress level:4.0<br>Weight:7"
         ],
         "type": "scatter",
         "x": [
          "Midterm/Finals",
          "Midterm/Finals",
          "Midterm/Finals",
          "Midterm/Finals",
          "Midterm/Finals",
          "Midterm/Finals",
          "Midterm/Finals",
          "Midterm/Finals"
         ],
         "y": [
          0.5,
          1.5,
          2.5,
          2.8,
          3,
          3.5,
          3.8,
          4
         ]
        }
       ],
       "layout": {
        "paper_bgcolor": "rgb(243, 243, 243)",
        "plot_bgcolor": "rgb(243, 243, 243)",
        "template": {
         "data": {
          "bar": [
           {
            "error_x": {
             "color": "#2a3f5f"
            },
            "error_y": {
             "color": "#2a3f5f"
            },
            "marker": {
             "line": {
              "color": "#E5ECF6",
              "width": 0.5
             }
            },
            "type": "bar"
           }
          ],
          "barpolar": [
           {
            "marker": {
             "line": {
              "color": "#E5ECF6",
              "width": 0.5
             }
            },
            "type": "barpolar"
           }
          ],
          "carpet": [
           {
            "aaxis": {
             "endlinecolor": "#2a3f5f",
             "gridcolor": "white",
             "linecolor": "white",
             "minorgridcolor": "white",
             "startlinecolor": "#2a3f5f"
            },
            "baxis": {
             "endlinecolor": "#2a3f5f",
             "gridcolor": "white",
             "linecolor": "white",
             "minorgridcolor": "white",
             "startlinecolor": "#2a3f5f"
            },
            "type": "carpet"
           }
          ],
          "choropleth": [
           {
            "colorbar": {
             "outlinewidth": 0,
             "ticks": ""
            },
            "type": "choropleth"
           }
          ],
          "contour": [
           {
            "colorbar": {
             "outlinewidth": 0,
             "ticks": ""
            },
            "colorscale": [
             [
              0,
              "#0d0887"
             ],
             [
              0.1111111111111111,
              "#46039f"
             ],
             [
              0.2222222222222222,
              "#7201a8"
             ],
             [
              0.3333333333333333,
              "#9c179e"
             ],
             [
              0.4444444444444444,
              "#bd3786"
             ],
             [
              0.5555555555555556,
              "#d8576b"
             ],
             [
              0.6666666666666666,
              "#ed7953"
             ],
             [
              0.7777777777777778,
              "#fb9f3a"
             ],
             [
              0.8888888888888888,
              "#fdca26"
             ],
             [
              1,
              "#f0f921"
             ]
            ],
            "type": "contour"
           }
          ],
          "contourcarpet": [
           {
            "colorbar": {
             "outlinewidth": 0,
             "ticks": ""
            },
            "type": "contourcarpet"
           }
          ],
          "heatmap": [
           {
            "colorbar": {
             "outlinewidth": 0,
             "ticks": ""
            },
            "colorscale": [
             [
              0,
              "#0d0887"
             ],
             [
              0.1111111111111111,
              "#46039f"
             ],
             [
              0.2222222222222222,
              "#7201a8"
             ],
             [
              0.3333333333333333,
              "#9c179e"
             ],
             [
              0.4444444444444444,
              "#bd3786"
             ],
             [
              0.5555555555555556,
              "#d8576b"
             ],
             [
              0.6666666666666666,
              "#ed7953"
             ],
             [
              0.7777777777777778,
              "#fb9f3a"
             ],
             [
              0.8888888888888888,
              "#fdca26"
             ],
             [
              1,
              "#f0f921"
             ]
            ],
            "type": "heatmap"
           }
          ],
          "heatmapgl": [
           {
            "colorbar": {
             "outlinewidth": 0,
             "ticks": ""
            },
            "colorscale": [
             [
              0,
              "#0d0887"
             ],
             [
              0.1111111111111111,
              "#46039f"
             ],
             [
              0.2222222222222222,
              "#7201a8"
             ],
             [
              0.3333333333333333,
              "#9c179e"
             ],
             [
              0.4444444444444444,
              "#bd3786"
             ],
             [
              0.5555555555555556,
              "#d8576b"
             ],
             [
              0.6666666666666666,
              "#ed7953"
             ],
             [
              0.7777777777777778,
              "#fb9f3a"
             ],
             [
              0.8888888888888888,
              "#fdca26"
             ],
             [
              1,
              "#f0f921"
             ]
            ],
            "type": "heatmapgl"
           }
          ],
          "histogram": [
           {
            "marker": {
             "colorbar": {
              "outlinewidth": 0,
              "ticks": ""
             }
            },
            "type": "histogram"
           }
          ],
          "histogram2d": [
           {
            "colorbar": {
             "outlinewidth": 0,
             "ticks": ""
            },
            "colorscale": [
             [
              0,
              "#0d0887"
             ],
             [
              0.1111111111111111,
              "#46039f"
             ],
             [
              0.2222222222222222,
              "#7201a8"
             ],
             [
              0.3333333333333333,
              "#9c179e"
             ],
             [
              0.4444444444444444,
              "#bd3786"
             ],
             [
              0.5555555555555556,
              "#d8576b"
             ],
             [
              0.6666666666666666,
              "#ed7953"
             ],
             [
              0.7777777777777778,
              "#fb9f3a"
             ],
             [
              0.8888888888888888,
              "#fdca26"
             ],
             [
              1,
              "#f0f921"
             ]
            ],
            "type": "histogram2d"
           }
          ],
          "histogram2dcontour": [
           {
            "colorbar": {
             "outlinewidth": 0,
             "ticks": ""
            },
            "colorscale": [
             [
              0,
              "#0d0887"
             ],
             [
              0.1111111111111111,
              "#46039f"
             ],
             [
              0.2222222222222222,
              "#7201a8"
             ],
             [
              0.3333333333333333,
              "#9c179e"
             ],
             [
              0.4444444444444444,
              "#bd3786"
             ],
             [
              0.5555555555555556,
              "#d8576b"
             ],
             [
              0.6666666666666666,
              "#ed7953"
             ],
             [
              0.7777777777777778,
              "#fb9f3a"
             ],
             [
              0.8888888888888888,
              "#fdca26"
             ],
             [
              1,
              "#f0f921"
             ]
            ],
            "type": "histogram2dcontour"
           }
          ],
          "mesh3d": [
           {
            "colorbar": {
             "outlinewidth": 0,
             "ticks": ""
            },
            "type": "mesh3d"
           }
          ],
          "parcoords": [
           {
            "line": {
             "colorbar": {
              "outlinewidth": 0,
              "ticks": ""
             }
            },
            "type": "parcoords"
           }
          ],
          "pie": [
           {
            "automargin": true,
            "type": "pie"
           }
          ],
          "scatter": [
           {
            "marker": {
             "colorbar": {
              "outlinewidth": 0,
              "ticks": ""
             }
            },
            "type": "scatter"
           }
          ],
          "scatter3d": [
           {
            "line": {
             "colorbar": {
              "outlinewidth": 0,
              "ticks": ""
             }
            },
            "marker": {
             "colorbar": {
              "outlinewidth": 0,
              "ticks": ""
             }
            },
            "type": "scatter3d"
           }
          ],
          "scattercarpet": [
           {
            "marker": {
             "colorbar": {
              "outlinewidth": 0,
              "ticks": ""
             }
            },
            "type": "scattercarpet"
           }
          ],
          "scattergeo": [
           {
            "marker": {
             "colorbar": {
              "outlinewidth": 0,
              "ticks": ""
             }
            },
            "type": "scattergeo"
           }
          ],
          "scattergl": [
           {
            "marker": {
             "colorbar": {
              "outlinewidth": 0,
              "ticks": ""
             }
            },
            "type": "scattergl"
           }
          ],
          "scattermapbox": [
           {
            "marker": {
             "colorbar": {
              "outlinewidth": 0,
              "ticks": ""
             }
            },
            "type": "scattermapbox"
           }
          ],
          "scatterpolar": [
           {
            "marker": {
             "colorbar": {
              "outlinewidth": 0,
              "ticks": ""
             }
            },
            "type": "scatterpolar"
           }
          ],
          "scatterpolargl": [
           {
            "marker": {
             "colorbar": {
              "outlinewidth": 0,
              "ticks": ""
             }
            },
            "type": "scatterpolargl"
           }
          ],
          "scatterternary": [
           {
            "marker": {
             "colorbar": {
              "outlinewidth": 0,
              "ticks": ""
             }
            },
            "type": "scatterternary"
           }
          ],
          "surface": [
           {
            "colorbar": {
             "outlinewidth": 0,
             "ticks": ""
            },
            "colorscale": [
             [
              0,
              "#0d0887"
             ],
             [
              0.1111111111111111,
              "#46039f"
             ],
             [
              0.2222222222222222,
              "#7201a8"
             ],
             [
              0.3333333333333333,
              "#9c179e"
             ],
             [
              0.4444444444444444,
              "#bd3786"
             ],
             [
              0.5555555555555556,
              "#d8576b"
             ],
             [
              0.6666666666666666,
              "#ed7953"
             ],
             [
              0.7777777777777778,
              "#fb9f3a"
             ],
             [
              0.8888888888888888,
              "#fdca26"
             ],
             [
              1,
              "#f0f921"
             ]
            ],
            "type": "surface"
           }
          ],
          "table": [
           {
            "cells": {
             "fill": {
              "color": "#EBF0F8"
             },
             "line": {
              "color": "white"
             }
            },
            "header": {
             "fill": {
              "color": "#C8D4E3"
             },
             "line": {
              "color": "white"
             }
            },
            "type": "table"
           }
          ]
         },
         "layout": {
          "annotationdefaults": {
           "arrowcolor": "#2a3f5f",
           "arrowhead": 0,
           "arrowwidth": 1
          },
          "coloraxis": {
           "colorbar": {
            "outlinewidth": 0,
            "ticks": ""
           }
          },
          "colorscale": {
           "diverging": [
            [
             0,
             "#8e0152"
            ],
            [
             0.1,
             "#c51b7d"
            ],
            [
             0.2,
             "#de77ae"
            ],
            [
             0.3,
             "#f1b6da"
            ],
            [
             0.4,
             "#fde0ef"
            ],
            [
             0.5,
             "#f7f7f7"
            ],
            [
             0.6,
             "#e6f5d0"
            ],
            [
             0.7,
             "#b8e186"
            ],
            [
             0.8,
             "#7fbc41"
            ],
            [
             0.9,
             "#4d9221"
            ],
            [
             1,
             "#276419"
            ]
           ],
           "sequential": [
            [
             0,
             "#0d0887"
            ],
            [
             0.1111111111111111,
             "#46039f"
            ],
            [
             0.2222222222222222,
             "#7201a8"
            ],
            [
             0.3333333333333333,
             "#9c179e"
            ],
            [
             0.4444444444444444,
             "#bd3786"
            ],
            [
             0.5555555555555556,
             "#d8576b"
            ],
            [
             0.6666666666666666,
             "#ed7953"
            ],
            [
             0.7777777777777778,
             "#fb9f3a"
            ],
            [
             0.8888888888888888,
             "#fdca26"
            ],
            [
             1,
             "#f0f921"
            ]
           ],
           "sequentialminus": [
            [
             0,
             "#0d0887"
            ],
            [
             0.1111111111111111,
             "#46039f"
            ],
            [
             0.2222222222222222,
             "#7201a8"
            ],
            [
             0.3333333333333333,
             "#9c179e"
            ],
            [
             0.4444444444444444,
             "#bd3786"
            ],
            [
             0.5555555555555556,
             "#d8576b"
            ],
            [
             0.6666666666666666,
             "#ed7953"
            ],
            [
             0.7777777777777778,
             "#fb9f3a"
            ],
            [
             0.8888888888888888,
             "#fdca26"
            ],
            [
             1,
             "#f0f921"
            ]
           ]
          },
          "colorway": [
           "#636efa",
           "#EF553B",
           "#00cc96",
           "#ab63fa",
           "#FFA15A",
           "#19d3f3",
           "#FF6692",
           "#B6E880",
           "#FF97FF",
           "#FECB52"
          ],
          "font": {
           "color": "#2a3f5f"
          },
          "geo": {
           "bgcolor": "white",
           "lakecolor": "white",
           "landcolor": "#E5ECF6",
           "showlakes": true,
           "showland": true,
           "subunitcolor": "white"
          },
          "hoverlabel": {
           "align": "left"
          },
          "hovermode": "closest",
          "mapbox": {
           "style": "light"
          },
          "paper_bgcolor": "white",
          "plot_bgcolor": "#E5ECF6",
          "polar": {
           "angularaxis": {
            "gridcolor": "white",
            "linecolor": "white",
            "ticks": ""
           },
           "bgcolor": "#E5ECF6",
           "radialaxis": {
            "gridcolor": "white",
            "linecolor": "white",
            "ticks": ""
           }
          },
          "scene": {
           "xaxis": {
            "backgroundcolor": "#E5ECF6",
            "gridcolor": "white",
            "gridwidth": 2,
            "linecolor": "white",
            "showbackground": true,
            "ticks": "",
            "zerolinecolor": "white"
           },
           "yaxis": {
            "backgroundcolor": "#E5ECF6",
            "gridcolor": "white",
            "gridwidth": 2,
            "linecolor": "white",
            "showbackground": true,
            "ticks": "",
            "zerolinecolor": "white"
           },
           "zaxis": {
            "backgroundcolor": "#E5ECF6",
            "gridcolor": "white",
            "gridwidth": 2,
            "linecolor": "white",
            "showbackground": true,
            "ticks": "",
            "zerolinecolor": "white"
           }
          },
          "shapedefaults": {
           "line": {
            "color": "#2a3f5f"
           }
          },
          "ternary": {
           "aaxis": {
            "gridcolor": "white",
            "linecolor": "white",
            "ticks": ""
           },
           "baxis": {
            "gridcolor": "white",
            "linecolor": "white",
            "ticks": ""
           },
           "bgcolor": "#E5ECF6",
           "caxis": {
            "gridcolor": "white",
            "linecolor": "white",
            "ticks": ""
           }
          },
          "title": {
           "x": 0.05
          },
          "xaxis": {
           "automargin": true,
           "gridcolor": "white",
           "linecolor": "white",
           "ticks": "",
           "title": {
            "standoff": 15
           },
           "zerolinecolor": "white",
           "zerolinewidth": 2
          },
          "yaxis": {
           "automargin": true,
           "gridcolor": "white",
           "linecolor": "white",
           "ticks": "",
           "title": {
            "standoff": 15
           },
           "zerolinecolor": "white",
           "zerolinewidth": 2
          }
         }
        },
        "title": {
         "text": "Academic Stress"
        },
        "xaxis": {
         "gridcolor": "white",
         "gridwidth": 2,
         "title": {
          "text": "Stress type"
         }
        },
        "yaxis": {
         "gridcolor": "white",
         "gridwidth": 2,
         "title": {
          "text": "stress level"
         }
        }
       }
      }
     },
     "metadata": {}
    }
   ],
   "source": [
    "fig = go.Figure()\n",
    "\n",
    "for stress, data in stress_final.items():\n",
    "    fig.add_trace(go.Scatter( x=data['x'],\n",
    "         y=data[stress],name=stress\n",
    "         , marker_size=data['weight'],text=data['hover']\n",
    "        ))\n",
    "# Tune marker appearance and layout\n",
    "\n",
    "sizeref =  2.*80/(100**2)\n",
    "\n",
    "\n",
    "fig.update_traces(mode='markers', marker=dict(sizemode='area',\n",
    "                                              sizeref=sizeref, line_width=2))\n",
    "\n",
    "fig.update_layout(\n",
    "    title='Academic Stress',\n",
    "    xaxis=dict(\n",
    "        title='Stress type',\n",
    "        gridcolor='white',\n",
    "        gridwidth=2,\n",
    "    ),\n",
    "    yaxis=dict(\n",
    "        title='stress level',\n",
    "        gridcolor='white',\n",
    "        gridwidth=2,\n",
    "    ),\n",
    "    paper_bgcolor='rgb(243, 243, 243)',\n",
    "    plot_bgcolor='rgb(243, 243, 243)',\n",
    ")\n",
    "\n",
    "# fig = px.scatter(df, x='Presentations', size=\"weight_1\",\n",
    "#             log_x=True, size_max=60)\n",
    "fig.show()"
   ]
  },
  {
   "cell_type": "code",
   "execution_count": 5,
   "metadata": {},
   "outputs": [
    {
     "output_type": "execute_result",
     "data": {
      "text/plain": "'https://plotly.com/~zybrian/3/'"
     },
     "metadata": {},
     "execution_count": 5
    }
   ],
   "source": [
    "import chart_studio.plotly as py\n",
    "py.plot(fig, filename = 'academic_stress', auto_open=True)"
   ]
  },
  {
   "cell_type": "code",
   "execution_count": null,
   "metadata": {},
   "outputs": [],
   "source": []
  }
 ],
 "metadata": {
  "language_info": {
   "codemirror_mode": {
    "name": "ipython",
    "version": 3
   },
   "file_extension": ".py",
   "mimetype": "text/x-python",
   "name": "python",
   "nbconvert_exporter": "python",
   "pygments_lexer": "ipython3",
   "version": "3.7.3-final"
  },
  "orig_nbformat": 2,
  "kernelspec": {
   "name": "python37364bita13d4472b3174e4494b7a431ae9018a6",
   "display_name": "Python 3.7.3 64-bit"
  }
 },
 "nbformat": 4,
 "nbformat_minor": 2
}