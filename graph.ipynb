{
 "cells": [
  {
   "cell_type": "code",
   "execution_count": 1,
   "metadata": {
    "tags": []
   },
   "outputs": [],
   "source": [
    "#!pip install plotly\n",
    "#!pip install chart_studio\n",
    "import pandas as pd\n",
    "import plotly.express as px\n",
    "import chart_studio.plotly as py\n",
    "import plotly.graph_objects as go\n"
   ]
  },
  {
   "cell_type": "code",
   "execution_count": 3,
   "metadata": {
    "tags": []
   },
   "outputs": [],
   "source": [
    "import chart_studio\n",
    "username = 'zybrian' # your username\n",
    "api_key = 'X8A90k8Ev8kNzTppv3Dt' # your api key - go to profile > settings > regenerate key\n",
    "chart_studio.tools.set_credentials_file(username=username, api_key=api_key)\n"
   ]
  },
  {
   "cell_type": "code",
   "execution_count": 2,
   "metadata": {
    "tags": []
   },
   "outputs": [
    {
     "output_type": "execute_result",
     "data": {
      "text/plain": "{'Presentations':    Presentations  weight              x  \\\n 0            0.0       1  Presentations   \n 1            0.3       2  Presentations   \n 2            0.5       2  Presentations   \n 3            0.8       1  Presentations   \n 4            1.0       3  Presentations   \n 5            1.5       3  Presentations   \n 6            2.0       4  Presentations   \n 7            2.5       3  Presentations   \n 8            3.0       2  Presentations   \n 9            3.5       1  Presentations   \n \n                                                hover  \n 0  Stress:Presentations<br>Stress level:0.0<br>We...  \n 1  Stress:Presentations<br>Stress level:0.3<br>We...  \n 2  Stress:Presentations<br>Stress level:0.5<br>We...  \n 3  Stress:Presentations<br>Stress level:0.8<br>We...  \n 4  Stress:Presentations<br>Stress level:1.0<br>We...  \n 5  Stress:Presentations<br>Stress level:1.5<br>We...  \n 6  Stress:Presentations<br>Stress level:2.0<br>We...  \n 7  Stress:Presentations<br>Stress level:2.5<br>We...  \n 8  Stress:Presentations<br>Stress level:3.0<br>We...  \n 9  Stress:Presentations<br>Stress level:3.5<br>We...  ,\n 'Homework':     Homework  weight         x  \\\n 0        0.5       3  Homework   \n 1        0.8       1  Homework   \n 2        1.0       5  Homework   \n 3        1.2       3  Homework   \n 4        1.5       2  Homework   \n 5        1.7       2  Homework   \n 6        2.0       4  Homework   \n 7        2.2       3  Homework   \n 8        2.5       1  Homework   \n 9        2.8       1  Homework   \n 10       4.0       1  Homework   \n \n                                               hover  \n 0   Stress:Homework<br>Stress level:0.5<br>Weight:3  \n 1   Stress:Homework<br>Stress level:0.8<br>Weight:1  \n 2   Stress:Homework<br>Stress level:1.0<br>Weight:5  \n 3   Stress:Homework<br>Stress level:1.2<br>Weight:3  \n 4   Stress:Homework<br>Stress level:1.5<br>Weight:2  \n 5   Stress:Homework<br>Stress level:1.7<br>Weight:2  \n 6   Stress:Homework<br>Stress level:2.0<br>Weight:4  \n 7   Stress:Homework<br>Stress level:2.2<br>Weight:3  \n 8   Stress:Homework<br>Stress level:2.5<br>Weight:1  \n 9   Stress:Homework<br>Stress level:2.8<br>Weight:1  \n 10  Stress:Homework<br>Stress level:4.0<br>Weight:1  ,\n 'Projects':    Projects  weight         x                                            hover\n 0       0.2       1  Projects  Stress:Projects<br>Stress level:0.2<br>Weight:1\n 1       0.8       2  Projects  Stress:Projects<br>Stress level:0.8<br>Weight:2\n 2       1.0       5  Projects  Stress:Projects<br>Stress level:1.0<br>Weight:5\n 3       1.5       4  Projects  Stress:Projects<br>Stress level:1.5<br>Weight:4\n 4       1.7       2  Projects  Stress:Projects<br>Stress level:1.7<br>Weight:2\n 5       2.0       3  Projects  Stress:Projects<br>Stress level:2.0<br>Weight:3\n 6       2.5       1  Projects  Stress:Projects<br>Stress level:2.5<br>Weight:1\n 7       3.0       5  Projects  Stress:Projects<br>Stress level:3.0<br>Weight:5\n 8       3.7       2  Projects  Stress:Projects<br>Stress level:3.7<br>Weight:2\n 9       4.0       1  Projects  Stress:Projects<br>Stress level:4.0<br>Weight:1,\n 'Quizes':    Quizes  weight       x                                          hover\n 0     0.5       2  Quizes  Stress:Quizes<br>Stress level:0.5<br>Weight:2\n 1     1.0       7  Quizes  Stress:Quizes<br>Stress level:1.0<br>Weight:7\n 2     1.5       3  Quizes  Stress:Quizes<br>Stress level:1.5<br>Weight:3\n 3     1.8       2  Quizes  Stress:Quizes<br>Stress level:1.8<br>Weight:2\n 4     2.0       5  Quizes  Stress:Quizes<br>Stress level:2.0<br>Weight:5\n 5     2.2       1  Quizes  Stress:Quizes<br>Stress level:2.2<br>Weight:1\n 6     2.5       4  Quizes  Stress:Quizes<br>Stress level:2.5<br>Weight:4\n 7     3.0       2  Quizes  Stress:Quizes<br>Stress level:3.0<br>Weight:2,\n 'Midterm/Finals':    Midterm/Finals  weight               x  \\\n 0             0.5       1  Midterm/Finals   \n 1             1.5       1  Midterm/Finals   \n 2             2.5       3  Midterm/Finals   \n 3             2.8       1  Midterm/Finals   \n 4             3.0       9  Midterm/Finals   \n 5             3.5       2  Midterm/Finals   \n 6             3.8       2  Midterm/Finals   \n 7             4.0       7  Midterm/Finals   \n \n                                                hover  \n 0  Stress:Midterm/Finals<br>Stress level:0.5<br>W...  \n 1  Stress:Midterm/Finals<br>Stress level:1.5<br>W...  \n 2  Stress:Midterm/Finals<br>Stress level:2.5<br>W...  \n 3  Stress:Midterm/Finals<br>Stress level:2.8<br>W...  \n 4  Stress:Midterm/Finals<br>Stress level:3.0<br>W...  \n 5  Stress:Midterm/Finals<br>Stress level:3.5<br>W...  \n 6  Stress:Midterm/Finals<br>Stress level:3.8<br>W...  \n 7  Stress:Midterm/Finals<br>Stress level:4.0<br>W...  }"
     },
     "metadata": {},
     "execution_count": 2
    }
   ],
   "source": [
    "df = pd.read_csv('./data/data.csv')\n",
    "#df=df.fillna(0)\n",
    "stress = ['Presentations','Homework','Projects','Quizes','Midterm/Finals']\n",
    "#print(df.iloc[:,(df.columns.get_loc('Homework')+1)].dropna())\n",
    "stress_final = {item: pd.concat([df[[item]].dropna(),df.iloc[:,(df.columns.get_loc(item)+1)].dropna()], axis=1) for item in stress}\n",
    "\n",
    "for stress,data in stress_final.items():\n",
    "    hover_text=[]\n",
    "    data.columns=[stress,'weight']\n",
    "    data['weight'] = data['weight'].astype(int)\n",
    "    data['x']=stress\n",
    "    for index, row in data.iterrows():\n",
    "        hover_text.append(('Stress:{stress}<br>'+\n",
    "        'Stress level:{level}<br>'+\n",
    "        'Weight:{weight}').format(stress=stress,\n",
    "        level=row[stress],\n",
    "        weight=row['weight']))\n",
    "    data['hover']=hover_text\n",
    "\n",
    "\n",
    "\n",
    "stress_final"
   ]
  },
  {
   "cell_type": "code",
   "execution_count": 19,
   "metadata": {
    "tags": []
   },
   "outputs": [
    {
     "output_type": "execute_result",
     "data": {
      "text/plain": "0     1\n1     2\n2     1\n3     1\n16    1\n17    1\n18    2\n19    1\n33    1\n34    3\n35    1\n36    0\n50    2\n51    1\n52    1\n53    1\n66    1\n67    1\n68    2\n69    1\nName: weight, dtype: int64"
     },
     "metadata": {},
     "execution_count": 19
    }
   ],
   "source": [
    "df = pd.read_csv('./data/data2.csv')\n",
    "df = df.fillna(0)\n",
    "persona_name = ['persona1','persona2','persona3','persona4']\n",
    "persona_data = {persona: df.query(\"persona == '%s'\" %persona)\n",
    "                              for persona in persona_name }\n",
    "for persona, data in persona_data.items():\n",
    "    hover_text = []\n",
    "    data['weight'] = data['weight'].astype(int)\n",
    "    for index, row in data.iterrows():\n",
    "        hover_text.append(('Stress:{x_1}<br>'+\n",
    "        'Stress level:{level}<br>'+\n",
    "        'Weight:{weight}').format(x_1=row['x'],\n",
    "        level=row['Level'],\n",
    "        weight=row['weight']))\n",
    "\n",
    "\n",
    "\n",
    "    data['hover']=hover_text\n",
    "\n",
    "\n",
    "persona_data['persona1']['weight']"
   ]
  },
  {
   "cell_type": "code",
   "execution_count": 36,
   "metadata": {},
   "outputs": [
    {
     "output_type": "display_data",
     "data": {
      "application/vnd.plotly.v1+json": {
       "config": {
        "plotlyServerURL": "https://plotly.com"
       },
       "data": [
        {
         "hoverinfo": "text",
         "marker": {
          "line": {
           "width": 1
          },
          "size": [
           1,
           2,
           1,
           1,
           1,
           1,
           2,
           1,
           1,
           3,
           1,
           0,
           2,
           1,
           1,
           1,
           1,
           1,
           2,
           1
          ],
          "sizemode": "area",
          "sizeref": 0.012
         },
         "mode": "markers",
         "name": "persona1",
         "text": [
          "Stress:Presentations<br>Stress level:0.8<br>Weight:1",
          "Stress:Presentations<br>Stress level:1.0<br>Weight:2",
          "Stress:Presentations<br>Stress level:1.5<br>Weight:1",
          "Stress:Presentations<br>Stress level:3.0<br>Weight:1",
          "Stress:Homework<br>Stress level:0.8<br>Weight:1",
          "Stress:Homework<br>Stress level:1.0<br>Weight:1",
          "Stress:Homework<br>Stress level:1.2<br>Weight:2",
          "Stress:Homework<br>Stress level:1.7<br>Weight:1",
          "Stress:Projects<br>Stress level:0.8<br>Weight:1",
          "Stress:Projects<br>Stress level:1.5<br>Weight:3",
          "Stress:Projects<br>Stress level:2.0<br>Weight:1",
          "Stress:Projects<br>Stress level:0.0<br>Weight:0",
          "Stress:Quizes<br>Stress level:1.0<br>Weight:2",
          "Stress:Quizes<br>Stress level:1.2<br>Weight:1",
          "Stress:Quizes<br>Stress level:1.5<br>Weight:1",
          "Stress:Quizes<br>Stress level:2.0<br>Weight:1",
          "Stress:Midterm/Finals<br>Stress level:1.5<br>Weight:1",
          "Stress:Midterm/Finals<br>Stress level:2.5<br>Weight:1",
          "Stress:Midterm/Finals<br>Stress level:3.0<br>Weight:2",
          "Stress:Midterm/Finals<br>Stress level:4.0<br>Weight:1"
         ],
         "type": "scatter",
         "x": [
          "Presentations",
          "Presentations",
          "Presentations",
          "Presentations",
          "Homework",
          "Homework",
          "Homework",
          "Homework",
          "Projects",
          "Projects",
          "Projects",
          "Projects",
          "Quizes",
          "Quizes",
          "Quizes",
          "Quizes",
          "Midterm/Finals",
          "Midterm/Finals",
          "Midterm/Finals",
          "Midterm/Finals"
         ],
         "y": [
          0.8,
          1,
          1.5,
          3,
          0.8,
          1,
          1.2,
          1.7,
          0.8,
          1.5,
          2,
          0,
          1,
          1.2,
          1.5,
          2,
          1.5,
          2.5,
          3,
          4
         ]
        },
        {
         "hoverinfo": "text",
         "marker": {
          "line": {
           "width": 1
          },
          "size": [
           1,
           1,
           2,
           1,
           1,
           1,
           1,
           2,
           3,
           1,
           1,
           1,
           1,
           1,
           1,
           1,
           2,
           3
          ],
          "sizemode": "area",
          "sizeref": 0.012
         },
         "mode": "markers",
         "name": "persona2",
         "text": [
          "Stress:Presentations<br>Stress level:0.5<br>Weight:1",
          "Stress:Presentations<br>Stress level:1.5<br>Weight:1",
          "Stress:Presentations<br>Stress level:2.5<br>Weight:2",
          "Stress:Presentations<br>Stress level:3.0<br>Weight:1",
          "Stress:Homework<br>Stress level:0.5<br>Weight:1",
          "Stress:Homework<br>Stress level:1.0<br>Weight:1",
          "Stress:Homework<br>Stress level:1.2<br>Weight:1",
          "Stress:Homework<br>Stress level:2.2<br>Weight:2",
          "Stress:Projects<br>Stress level:1.0<br>Weight:3",
          "Stress:Projects<br>Stress level:1.5<br>Weight:1",
          "Stress:Projects<br>Stress level:3.0<br>Weight:1",
          "Stress:Quizes<br>Stress level:1.0<br>Weight:1",
          "Stress:Quizes<br>Stress level:1.8<br>Weight:1",
          "Stress:Quizes<br>Stress level:2.0<br>Weight:1",
          "Stress:Quizes<br>Stress level:2.5<br>Weight:1",
          "Stress:Quizes<br>Stress level:3.0<br>Weight:1",
          "Stress:Midterm/Finals<br>Stress level:3.0<br>Weight:2",
          "Stress:Midterm/Finals<br>Stress level:4.0<br>Weight:3"
         ],
         "type": "scatter",
         "x": [
          "Presentations",
          "Presentations",
          "Presentations",
          "Presentations",
          "Homework",
          "Homework",
          "Homework",
          "Homework",
          "Projects",
          "Projects",
          "Projects",
          "Quizes",
          "Quizes",
          "Quizes",
          "Quizes",
          "Quizes",
          "Midterm/Finals",
          "Midterm/Finals"
         ],
         "y": [
          0.5,
          1.5,
          2.5,
          3,
          0.5,
          1,
          1.2,
          2.2,
          1,
          1.5,
          3,
          1,
          1.8,
          2,
          2.5,
          3,
          3,
          4
         ]
        },
        {
         "hoverinfo": "text",
         "marker": {
          "line": {
           "width": 1
          },
          "size": [
           2,
           1,
           3,
           1,
           2,
           1,
           3,
           1,
           1,
           1,
           2,
           2,
           3,
           2,
           1,
           1,
           1,
           1,
           2,
           1,
           1,
           1
          ],
          "sizemode": "area",
          "sizeref": 0.012
         },
         "mode": "markers",
         "name": "persona3",
         "text": [
          "Stress:Presentations<br>Stress level:0.3<br>Weight:2",
          "Stress:Presentations<br>Stress level:1.5<br>Weight:1",
          "Stress:Presentations<br>Stress level:2.0<br>Weight:3",
          "Stress:Homework<br>Stress level:0.5<br>Weight:1",
          "Stress:Homework<br>Stress level:1.0<br>Weight:2",
          "Stress:Homework<br>Stress level:1.2<br>Weight:1",
          "Stress:Homework<br>Stress level:2.0<br>Weight:3",
          "Stress:Projects<br>Stress level:0.8<br>Weight:1",
          "Stress:Projects<br>Stress level:1.0<br>Weight:1",
          "Stress:Projects<br>Stress level:1.7<br>Weight:1",
          "Stress:Projects<br>Stress level:3.0<br>Weight:2",
          "Stress:Projects<br>Stress level:3.7<br>Weight:2",
          "Stress:Quizes<br>Stress level:1.0<br>Weight:3",
          "Stress:Quizes<br>Stress level:1.5<br>Weight:2",
          "Stress:Quizes<br>Stress level:1.8<br>Weight:1",
          "Stress:Quizes<br>Stress level:2.0<br>Weight:1",
          "Stress:Midterm/Finals<br>Stress level:2.5<br>Weight:1",
          "Stress:Midterm/Finals<br>Stress level:2.8<br>Weight:1",
          "Stress:Midterm/Finals<br>Stress level:3.0<br>Weight:2",
          "Stress:Midterm/Finals<br>Stress level:3.5<br>Weight:1",
          "Stress:Midterm/Finals<br>Stress level:3.8<br>Weight:1",
          "Stress:Midterm/Finals<br>Stress level:4.0<br>Weight:1"
         ],
         "type": "scatter",
         "x": [
          "Presentations",
          "Presentations",
          "Presentations",
          "Homework",
          "Homework",
          "Homework",
          "Homework",
          "Projects",
          "Projects",
          "Projects",
          "Projects",
          "Projects",
          "Quizes",
          "Quizes",
          "Quizes",
          "Quizes",
          "Midterm/Finals",
          "Midterm/Finals",
          "Midterm/Finals",
          "Midterm/Finals",
          "Midterm/Finals",
          "Midterm/Finals"
         ],
         "y": [
          0.3,
          1.5,
          2,
          0.5,
          1,
          1.2,
          2,
          0.8,
          1,
          1.7,
          3,
          3.7,
          1,
          1.5,
          1.8,
          2,
          2.5,
          2.8,
          3,
          3.5,
          3.8,
          4
         ]
        },
        {
         "hoverinfo": "text",
         "marker": {
          "line": {
           "width": 1
          },
          "size": [
           1,
           1,
           1,
           1,
           1,
           1,
           1,
           1,
           1,
           1,
           1,
           1,
           1,
           1,
           1,
           1,
           2,
           2,
           1,
           1,
           1,
           2
          ],
          "sizemode": "area",
          "sizeref": 0.012
         },
         "mode": "markers",
         "name": "persona4",
         "text": [
          "Stress:Presentations<br>Stress level:0.0<br>Weight:1",
          "Stress:Presentations<br>Stress level:0.5<br>Weight:1",
          "Stress:Presentations<br>Stress level:1.0<br>Weight:1",
          "Stress:Presentations<br>Stress level:2.0<br>Weight:1",
          "Stress:Presentations<br>Stress level:3.5<br>Weight:1",
          "Stress:Homework<br>Stress level:1.0<br>Weight:1",
          "Stress:Homework<br>Stress level:1.5<br>Weight:1",
          "Stress:Homework<br>Stress level:1.7<br>Weight:1",
          "Stress:Homework<br>Stress level:2.0<br>Weight:1",
          "Stress:Homework<br>Stress level:4.0<br>Weight:1",
          "Stress:Projects<br>Stress level:1.7<br>Weight:1",
          "Stress:Projects<br>Stress level:2.0<br>Weight:1",
          "Stress:Projects<br>Stress level:2.5<br>Weight:1",
          "Stress:Projects<br>Stress level:3.0<br>Weight:1",
          "Stress:Projects<br>Stress level:4.0<br>Weight:1",
          "Stress:Quizes<br>Stress level:0.5<br>Weight:1",
          "Stress:Quizes<br>Stress level:2.0<br>Weight:2",
          "Stress:Quizes<br>Stress level:2.5<br>Weight:2",
          "Stress:Midterm/Finals<br>Stress level:2.5<br>Weight:1",
          "Stress:Midterm/Finals<br>Stress level:3.0<br>Weight:1",
          "Stress:Midterm/Finals<br>Stress level:3.8<br>Weight:1",
          "Stress:Midterm/Finals<br>Stress level:4.0<br>Weight:2"
         ],
         "type": "scatter",
         "x": [
          "Presentations",
          "Presentations",
          "Presentations",
          "Presentations",
          "Presentations",
          "Homework",
          "Homework",
          "Homework",
          "Homework",
          "Homework",
          "Projects",
          "Projects",
          "Projects",
          "Projects",
          "Projects",
          "Quizes",
          "Quizes",
          "Quizes",
          "Midterm/Finals",
          "Midterm/Finals",
          "Midterm/Finals",
          "Midterm/Finals"
         ],
         "y": [
          0,
          0.5,
          1,
          2,
          3.5,
          1,
          1.5,
          1.7,
          2,
          4,
          1.7,
          2,
          2.5,
          3,
          4,
          0.5,
          2,
          2.5,
          2.5,
          3,
          3.8,
          4
         ]
        }
       ],
       "layout": {
        "paper_bgcolor": "rgb(243, 243, 243)",
        "plot_bgcolor": "rgb(243, 243, 243)",
        "template": {
         "data": {
          "bar": [
           {
            "error_x": {
             "color": "#2a3f5f"
            },
            "error_y": {
             "color": "#2a3f5f"
            },
            "marker": {
             "line": {
              "color": "#E5ECF6",
              "width": 0.5
             }
            },
            "type": "bar"
           }
          ],
          "barpolar": [
           {
            "marker": {
             "line": {
              "color": "#E5ECF6",
              "width": 0.5
             }
            },
            "type": "barpolar"
           }
          ],
          "carpet": [
           {
            "aaxis": {
             "endlinecolor": "#2a3f5f",
             "gridcolor": "white",
             "linecolor": "white",
             "minorgridcolor": "white",
             "startlinecolor": "#2a3f5f"
            },
            "baxis": {
             "endlinecolor": "#2a3f5f",
             "gridcolor": "white",
             "linecolor": "white",
             "minorgridcolor": "white",
             "startlinecolor": "#2a3f5f"
            },
            "type": "carpet"
           }
          ],
          "choropleth": [
           {
            "colorbar": {
             "outlinewidth": 0,
             "ticks": ""
            },
            "type": "choropleth"
           }
          ],
          "contour": [
           {
            "colorbar": {
             "outlinewidth": 0,
             "ticks": ""
            },
            "colorscale": [
             [
              0,
              "#0d0887"
             ],
             [
              0.1111111111111111,
              "#46039f"
             ],
             [
              0.2222222222222222,
              "#7201a8"
             ],
             [
              0.3333333333333333,
              "#9c179e"
             ],
             [
              0.4444444444444444,
              "#bd3786"
             ],
             [
              0.5555555555555556,
              "#d8576b"
             ],
             [
              0.6666666666666666,
              "#ed7953"
             ],
             [
              0.7777777777777778,
              "#fb9f3a"
             ],
             [
              0.8888888888888888,
              "#fdca26"
             ],
             [
              1,
              "#f0f921"
             ]
            ],
            "type": "contour"
           }
          ],
          "contourcarpet": [
           {
            "colorbar": {
             "outlinewidth": 0,
             "ticks": ""
            },
            "type": "contourcarpet"
           }
          ],
          "heatmap": [
           {
            "colorbar": {
             "outlinewidth": 0,
             "ticks": ""
            },
            "colorscale": [
             [
              0,
              "#0d0887"
             ],
             [
              0.1111111111111111,
              "#46039f"
             ],
             [
              0.2222222222222222,
              "#7201a8"
             ],
             [
              0.3333333333333333,
              "#9c179e"
             ],
             [
              0.4444444444444444,
              "#bd3786"
             ],
             [
              0.5555555555555556,
              "#d8576b"
             ],
             [
              0.6666666666666666,
              "#ed7953"
             ],
             [
              0.7777777777777778,
              "#fb9f3a"
             ],
             [
              0.8888888888888888,
              "#fdca26"
             ],
             [
              1,
              "#f0f921"
             ]
            ],
            "type": "heatmap"
           }
          ],
          "heatmapgl": [
           {
            "colorbar": {
             "outlinewidth": 0,
             "ticks": ""
            },
            "colorscale": [
             [
              0,
              "#0d0887"
             ],
             [
              0.1111111111111111,
              "#46039f"
             ],
             [
              0.2222222222222222,
              "#7201a8"
             ],
             [
              0.3333333333333333,
              "#9c179e"
             ],
             [
              0.4444444444444444,
              "#bd3786"
             ],
             [
              0.5555555555555556,
              "#d8576b"
             ],
             [
              0.6666666666666666,
              "#ed7953"
             ],
             [
              0.7777777777777778,
              "#fb9f3a"
             ],
             [
              0.8888888888888888,
              "#fdca26"
             ],
             [
              1,
              "#f0f921"
             ]
            ],
            "type": "heatmapgl"
           }
          ],
          "histogram": [
           {
            "marker": {
             "colorbar": {
              "outlinewidth": 0,
              "ticks": ""
             }
            },
            "type": "histogram"
           }
          ],
          "histogram2d": [
           {
            "colorbar": {
             "outlinewidth": 0,
             "ticks": ""
            },
            "colorscale": [
             [
              0,
              "#0d0887"
             ],
             [
              0.1111111111111111,
              "#46039f"
             ],
             [
              0.2222222222222222,
              "#7201a8"
             ],
             [
              0.3333333333333333,
              "#9c179e"
             ],
             [
              0.4444444444444444,
              "#bd3786"
             ],
             [
              0.5555555555555556,
              "#d8576b"
             ],
             [
              0.6666666666666666,
              "#ed7953"
             ],
             [
              0.7777777777777778,
              "#fb9f3a"
             ],
             [
              0.8888888888888888,
              "#fdca26"
             ],
             [
              1,
              "#f0f921"
             ]
            ],
            "type": "histogram2d"
           }
          ],
          "histogram2dcontour": [
           {
            "colorbar": {
             "outlinewidth": 0,
             "ticks": ""
            },
            "colorscale": [
             [
              0,
              "#0d0887"
             ],
             [
              0.1111111111111111,
              "#46039f"
             ],
             [
              0.2222222222222222,
              "#7201a8"
             ],
             [
              0.3333333333333333,
              "#9c179e"
             ],
             [
              0.4444444444444444,
              "#bd3786"
             ],
             [
              0.5555555555555556,
              "#d8576b"
             ],
             [
              0.6666666666666666,
              "#ed7953"
             ],
             [
              0.7777777777777778,
              "#fb9f3a"
             ],
             [
              0.8888888888888888,
              "#fdca26"
             ],
             [
              1,
              "#f0f921"
             ]
            ],
            "type": "histogram2dcontour"
           }
          ],
          "mesh3d": [
           {
            "colorbar": {
             "outlinewidth": 0,
             "ticks": ""
            },
            "type": "mesh3d"
           }
          ],
          "parcoords": [
           {
            "line": {
             "colorbar": {
              "outlinewidth": 0,
              "ticks": ""
             }
            },
            "type": "parcoords"
           }
          ],
          "pie": [
           {
            "automargin": true,
            "type": "pie"
           }
          ],
          "scatter": [
           {
            "marker": {
             "colorbar": {
              "outlinewidth": 0,
              "ticks": ""
             }
            },
            "type": "scatter"
           }
          ],
          "scatter3d": [
           {
            "line": {
             "colorbar": {
              "outlinewidth": 0,
              "ticks": ""
             }
            },
            "marker": {
             "colorbar": {
              "outlinewidth": 0,
              "ticks": ""
             }
            },
            "type": "scatter3d"
           }
          ],
          "scattercarpet": [
           {
            "marker": {
             "colorbar": {
              "outlinewidth": 0,
              "ticks": ""
             }
            },
            "type": "scattercarpet"
           }
          ],
          "scattergeo": [
           {
            "marker": {
             "colorbar": {
              "outlinewidth": 0,
              "ticks": ""
             }
            },
            "type": "scattergeo"
           }
          ],
          "scattergl": [
           {
            "marker": {
             "colorbar": {
              "outlinewidth": 0,
              "ticks": ""
             }
            },
            "type": "scattergl"
           }
          ],
          "scattermapbox": [
           {
            "marker": {
             "colorbar": {
              "outlinewidth": 0,
              "ticks": ""
             }
            },
            "type": "scattermapbox"
           }
          ],
          "scatterpolar": [
           {
            "marker": {
             "colorbar": {
              "outlinewidth": 0,
              "ticks": ""
             }
            },
            "type": "scatterpolar"
           }
          ],
          "scatterpolargl": [
           {
            "marker": {
             "colorbar": {
              "outlinewidth": 0,
              "ticks": ""
             }
            },
            "type": "scatterpolargl"
           }
          ],
          "scatterternary": [
           {
            "marker": {
             "colorbar": {
              "outlinewidth": 0,
              "ticks": ""
             }
            },
            "type": "scatterternary"
           }
          ],
          "surface": [
           {
            "colorbar": {
             "outlinewidth": 0,
             "ticks": ""
            },
            "colorscale": [
             [
              0,
              "#0d0887"
             ],
             [
              0.1111111111111111,
              "#46039f"
             ],
             [
              0.2222222222222222,
              "#7201a8"
             ],
             [
              0.3333333333333333,
              "#9c179e"
             ],
             [
              0.4444444444444444,
              "#bd3786"
             ],
             [
              0.5555555555555556,
              "#d8576b"
             ],
             [
              0.6666666666666666,
              "#ed7953"
             ],
             [
              0.7777777777777778,
              "#fb9f3a"
             ],
             [
              0.8888888888888888,
              "#fdca26"
             ],
             [
              1,
              "#f0f921"
             ]
            ],
            "type": "surface"
           }
          ],
          "table": [
           {
            "cells": {
             "fill": {
              "color": "#EBF0F8"
             },
             "line": {
              "color": "white"
             }
            },
            "header": {
             "fill": {
              "color": "#C8D4E3"
             },
             "line": {
              "color": "white"
             }
            },
            "type": "table"
           }
          ]
         },
         "layout": {
          "annotationdefaults": {
           "arrowcolor": "#2a3f5f",
           "arrowhead": 0,
           "arrowwidth": 1
          },
          "coloraxis": {
           "colorbar": {
            "outlinewidth": 0,
            "ticks": ""
           }
          },
          "colorscale": {
           "diverging": [
            [
             0,
             "#8e0152"
            ],
            [
             0.1,
             "#c51b7d"
            ],
            [
             0.2,
             "#de77ae"
            ],
            [
             0.3,
             "#f1b6da"
            ],
            [
             0.4,
             "#fde0ef"
            ],
            [
             0.5,
             "#f7f7f7"
            ],
            [
             0.6,
             "#e6f5d0"
            ],
            [
             0.7,
             "#b8e186"
            ],
            [
             0.8,
             "#7fbc41"
            ],
            [
             0.9,
             "#4d9221"
            ],
            [
             1,
             "#276419"
            ]
           ],
           "sequential": [
            [
             0,
             "#0d0887"
            ],
            [
             0.1111111111111111,
             "#46039f"
            ],
            [
             0.2222222222222222,
             "#7201a8"
            ],
            [
             0.3333333333333333,
             "#9c179e"
            ],
            [
             0.4444444444444444,
             "#bd3786"
            ],
            [
             0.5555555555555556,
             "#d8576b"
            ],
            [
             0.6666666666666666,
             "#ed7953"
            ],
            [
             0.7777777777777778,
             "#fb9f3a"
            ],
            [
             0.8888888888888888,
             "#fdca26"
            ],
            [
             1,
             "#f0f921"
            ]
           ],
           "sequentialminus": [
            [
             0,
             "#0d0887"
            ],
            [
             0.1111111111111111,
             "#46039f"
            ],
            [
             0.2222222222222222,
             "#7201a8"
            ],
            [
             0.3333333333333333,
             "#9c179e"
            ],
            [
             0.4444444444444444,
             "#bd3786"
            ],
            [
             0.5555555555555556,
             "#d8576b"
            ],
            [
             0.6666666666666666,
             "#ed7953"
            ],
            [
             0.7777777777777778,
             "#fb9f3a"
            ],
            [
             0.8888888888888888,
             "#fdca26"
            ],
            [
             1,
             "#f0f921"
            ]
           ]
          },
          "colorway": [
           "#636efa",
           "#EF553B",
           "#00cc96",
           "#ab63fa",
           "#FFA15A",
           "#19d3f3",
           "#FF6692",
           "#B6E880",
           "#FF97FF",
           "#FECB52"
          ],
          "font": {
           "color": "#2a3f5f"
          },
          "geo": {
           "bgcolor": "white",
           "lakecolor": "white",
           "landcolor": "#E5ECF6",
           "showlakes": true,
           "showland": true,
           "subunitcolor": "white"
          },
          "hoverlabel": {
           "align": "left"
          },
          "hovermode": "closest",
          "mapbox": {
           "style": "light"
          },
          "paper_bgcolor": "white",
          "plot_bgcolor": "#E5ECF6",
          "polar": {
           "angularaxis": {
            "gridcolor": "white",
            "linecolor": "white",
            "ticks": ""
           },
           "bgcolor": "#E5ECF6",
           "radialaxis": {
            "gridcolor": "white",
            "linecolor": "white",
            "ticks": ""
           }
          },
          "scene": {
           "xaxis": {
            "backgroundcolor": "#E5ECF6",
            "gridcolor": "white",
            "gridwidth": 2,
            "linecolor": "white",
            "showbackground": true,
            "ticks": "",
            "zerolinecolor": "white"
           },
           "yaxis": {
            "backgroundcolor": "#E5ECF6",
            "gridcolor": "white",
            "gridwidth": 2,
            "linecolor": "white",
            "showbackground": true,
            "ticks": "",
            "zerolinecolor": "white"
           },
           "zaxis": {
            "backgroundcolor": "#E5ECF6",
            "gridcolor": "white",
            "gridwidth": 2,
            "linecolor": "white",
            "showbackground": true,
            "ticks": "",
            "zerolinecolor": "white"
           }
          },
          "shapedefaults": {
           "line": {
            "color": "#2a3f5f"
           }
          },
          "ternary": {
           "aaxis": {
            "gridcolor": "white",
            "linecolor": "white",
            "ticks": ""
           },
           "baxis": {
            "gridcolor": "white",
            "linecolor": "white",
            "ticks": ""
           },
           "bgcolor": "#E5ECF6",
           "caxis": {
            "gridcolor": "white",
            "linecolor": "white",
            "ticks": ""
           }
          },
          "title": {
           "x": 0.05
          },
          "xaxis": {
           "automargin": true,
           "gridcolor": "white",
           "linecolor": "white",
           "ticks": "",
           "title": {
            "standoff": 15
           },
           "zerolinecolor": "white",
           "zerolinewidth": 2
          },
          "yaxis": {
           "automargin": true,
           "gridcolor": "white",
           "linecolor": "white",
           "ticks": "",
           "title": {
            "standoff": 15
           },
           "zerolinecolor": "white",
           "zerolinewidth": 2
          }
         }
        },
        "title": {
         "text": "Academic Stress"
        },
        "xaxis": {
         "gridcolor": "white",
         "gridwidth": 2,
         "title": {
          "text": "Stress type"
         }
        },
        "yaxis": {
         "gridcolor": "white",
         "gridwidth": 2,
         "title": {
          "text": "stress level"
         }
        }
       }
      }
     },
     "metadata": {}
    }
   ],
   "source": [
    "fig = go.Figure()\n",
    "for persona, data in persona_data.items():\n",
    "\n",
    "    fig.add_trace(go.Scatter(x=data['x'],\n",
    "        y=data['Level'],name = persona,\n",
    "        marker_size=data['weight'], text=data['hover'],hoverinfo='text'))\n",
    "\n",
    "\n",
    "\n",
    "sizeref =  2.*60/(100**2)\n",
    "\n",
    "\n",
    "fig.update_traces(mode='markers', marker=dict(sizemode='area',\n",
    "                                              sizeref=sizeref, line_width=1))\n",
    "\n",
    "fig.update_layout(\n",
    "    title='Academic Stress',\n",
    "    xaxis=dict(\n",
    "        title='Stress type',\n",
    "        gridcolor='white',\n",
    "        gridwidth=2,\n",
    "    ),\n",
    "    yaxis=dict(\n",
    "        title='stress level',\n",
    "        gridcolor='white',\n",
    "        gridwidth=2,\n",
    "    ),\n",
    "    paper_bgcolor='rgb(243, 243, 243)',\n",
    "    plot_bgcolor='rgb(243, 243, 243)',\n",
    ")\n",
    "\n",
    "# fig = px.scatter(df, x='Presentations', size=\"weight_1\",\n",
    "#             log_x=True, size_max=60)\n",
    "fig.show()  "
   ]
  },
  {
   "cell_type": "code",
   "execution_count": 4,
   "metadata": {},
   "outputs": [
    {
     "output_type": "display_data",
     "data": {
      "application/vnd.plotly.v1+json": {
       "config": {
        "plotlyServerURL": "https://plotly.com"
       },
       "data": [
        {
         "marker": {
          "line": {
           "width": 2
          },
          "size": [
           1,
           2,
           2,
           1,
           3,
           3,
           4,
           3,
           2,
           1
          ],
          "sizemode": "area",
          "sizeref": 0.016
         },
         "mode": "markers",
         "name": "Presentations",
         "text": [
          "Stress:Presentations<br>Stress level:0.0<br>Weight:1",
          "Stress:Presentations<br>Stress level:0.3<br>Weight:2",
          "Stress:Presentations<br>Stress level:0.5<br>Weight:2",
          "Stress:Presentations<br>Stress level:0.8<br>Weight:1",
          "Stress:Presentations<br>Stress level:1.0<br>Weight:3",
          "Stress:Presentations<br>Stress level:1.5<br>Weight:3",
          "Stress:Presentations<br>Stress level:2.0<br>Weight:4",
          "Stress:Presentations<br>Stress level:2.5<br>Weight:3",
          "Stress:Presentations<br>Stress level:3.0<br>Weight:2",
          "Stress:Presentations<br>Stress level:3.5<br>Weight:1"
         ],
         "type": "scatter",
         "x": [
          "Presentations",
          "Presentations",
          "Presentations",
          "Presentations",
          "Presentations",
          "Presentations",
          "Presentations",
          "Presentations",
          "Presentations",
          "Presentations"
         ],
         "y": [
          0,
          0.3,
          0.5,
          0.8,
          1,
          1.5,
          2,
          2.5,
          3,
          3.5
         ]
        },
        {
         "marker": {
          "line": {
           "width": 2
          },
          "size": [
           3,
           1,
           5,
           3,
           2,
           2,
           4,
           3,
           1,
           1,
           1
          ],
          "sizemode": "area",
          "sizeref": 0.016
         },
         "mode": "markers",
         "name": "Homework",
         "text": [
          "Stress:Homework<br>Stress level:0.5<br>Weight:3",
          "Stress:Homework<br>Stress level:0.8<br>Weight:1",
          "Stress:Homework<br>Stress level:1.0<br>Weight:5",
          "Stress:Homework<br>Stress level:1.2<br>Weight:3",
          "Stress:Homework<br>Stress level:1.5<br>Weight:2",
          "Stress:Homework<br>Stress level:1.7<br>Weight:2",
          "Stress:Homework<br>Stress level:2.0<br>Weight:4",
          "Stress:Homework<br>Stress level:2.2<br>Weight:3",
          "Stress:Homework<br>Stress level:2.5<br>Weight:1",
          "Stress:Homework<br>Stress level:2.8<br>Weight:1",
          "Stress:Homework<br>Stress level:4.0<br>Weight:1"
         ],
         "type": "scatter",
         "x": [
          "Homework",
          "Homework",
          "Homework",
          "Homework",
          "Homework",
          "Homework",
          "Homework",
          "Homework",
          "Homework",
          "Homework",
          "Homework"
         ],
         "y": [
          0.5,
          0.8,
          1,
          1.2,
          1.5,
          1.7,
          2,
          2.2,
          2.5,
          2.8,
          4
         ]
        },
        {
         "marker": {
          "line": {
           "width": 2
          },
          "size": [
           1,
           2,
           5,
           4,
           2,
           3,
           1,
           5,
           2,
           1
          ],
          "sizemode": "area",
          "sizeref": 0.016
         },
         "mode": "markers",
         "name": "Projects",
         "text": [
          "Stress:Projects<br>Stress level:0.2<br>Weight:1",
          "Stress:Projects<br>Stress level:0.8<br>Weight:2",
          "Stress:Projects<br>Stress level:1.0<br>Weight:5",
          "Stress:Projects<br>Stress level:1.5<br>Weight:4",
          "Stress:Projects<br>Stress level:1.7<br>Weight:2",
          "Stress:Projects<br>Stress level:2.0<br>Weight:3",
          "Stress:Projects<br>Stress level:2.5<br>Weight:1",
          "Stress:Projects<br>Stress level:3.0<br>Weight:5",
          "Stress:Projects<br>Stress level:3.7<br>Weight:2",
          "Stress:Projects<br>Stress level:4.0<br>Weight:1"
         ],
         "type": "scatter",
         "x": [
          "Projects",
          "Projects",
          "Projects",
          "Projects",
          "Projects",
          "Projects",
          "Projects",
          "Projects",
          "Projects",
          "Projects"
         ],
         "y": [
          0.2,
          0.8,
          1,
          1.5,
          1.7,
          2,
          2.5,
          3,
          3.7,
          4
         ]
        },
        {
         "marker": {
          "line": {
           "width": 2
          },
          "size": [
           2,
           7,
           3,
           2,
           5,
           1,
           4,
           2
          ],
          "sizemode": "area",
          "sizeref": 0.016
         },
         "mode": "markers",
         "name": "Quizes",
         "text": [
          "Stress:Quizes<br>Stress level:0.5<br>Weight:2",
          "Stress:Quizes<br>Stress level:1.0<br>Weight:7",
          "Stress:Quizes<br>Stress level:1.5<br>Weight:3",
          "Stress:Quizes<br>Stress level:1.8<br>Weight:2",
          "Stress:Quizes<br>Stress level:2.0<br>Weight:5",
          "Stress:Quizes<br>Stress level:2.2<br>Weight:1",
          "Stress:Quizes<br>Stress level:2.5<br>Weight:4",
          "Stress:Quizes<br>Stress level:3.0<br>Weight:2"
         ],
         "type": "scatter",
         "x": [
          "Quizes",
          "Quizes",
          "Quizes",
          "Quizes",
          "Quizes",
          "Quizes",
          "Quizes",
          "Quizes"
         ],
         "y": [
          0.5,
          1,
          1.5,
          1.8,
          2,
          2.2,
          2.5,
          3
         ]
        },
        {
         "marker": {
          "line": {
           "width": 2
          },
          "size": [
           1,
           1,
           3,
           1,
           9,
           2,
           2,
           7
          ],
          "sizemode": "area",
          "sizeref": 0.016
         },
         "mode": "markers",
         "name": "Midterm/Finals",
         "text": [
          "Stress:Midterm/Finals<br>Stress level:0.5<br>Weight:1",
          "Stress:Midterm/Finals<br>Stress level:1.5<br>Weight:1",
          "Stress:Midterm/Finals<br>Stress level:2.5<br>Weight:3",
          "Stress:Midterm/Finals<br>Stress level:2.8<br>Weight:1",
          "Stress:Midterm/Finals<br>Stress level:3.0<br>Weight:9",
          "Stress:Midterm/Finals<br>Stress level:3.5<br>Weight:2",
          "Stress:Midterm/Finals<br>Stress level:3.8<br>Weight:2",
          "Stress:Midterm/Finals<br>Stress level:4.0<br>Weight:7"
         ],
         "type": "scatter",
         "x": [
          "Midterm/Finals",
          "Midterm/Finals",
          "Midterm/Finals",
          "Midterm/Finals",
          "Midterm/Finals",
          "Midterm/Finals",
          "Midterm/Finals",
          "Midterm/Finals"
         ],
         "y": [
          0.5,
          1.5,
          2.5,
          2.8,
          3,
          3.5,
          3.8,
          4
         ]
        }
       ],
       "layout": {
        "paper_bgcolor": "rgb(243, 243, 243)",
        "plot_bgcolor": "rgb(243, 243, 243)",
        "template": {
         "data": {
          "bar": [
           {
            "error_x": {
             "color": "#2a3f5f"
            },
            "error_y": {
             "color": "#2a3f5f"
            },
            "marker": {
             "line": {
              "color": "#E5ECF6",
              "width": 0.5
             }
            },
            "type": "bar"
           }
          ],
          "barpolar": [
           {
            "marker": {
             "line": {
              "color": "#E5ECF6",
              "width": 0.5
             }
            },
            "type": "barpolar"
           }
          ],
          "carpet": [
           {
            "aaxis": {
             "endlinecolor": "#2a3f5f",
             "gridcolor": "white",
             "linecolor": "white",
             "minorgridcolor": "white",
             "startlinecolor": "#2a3f5f"
            },
            "baxis": {
             "endlinecolor": "#2a3f5f",
             "gridcolor": "white",
             "linecolor": "white",
             "minorgridcolor": "white",
             "startlinecolor": "#2a3f5f"
            },
            "type": "carpet"
           }
          ],
          "choropleth": [
           {
            "colorbar": {
             "outlinewidth": 0,
             "ticks": ""
            },
            "type": "choropleth"
           }
          ],
          "contour": [
           {
            "colorbar": {
             "outlinewidth": 0,
             "ticks": ""
            },
            "colorscale": [
             [
              0,
              "#0d0887"
             ],
             [
              0.1111111111111111,
              "#46039f"
             ],
             [
              0.2222222222222222,
              "#7201a8"
             ],
             [
              0.3333333333333333,
              "#9c179e"
             ],
             [
              0.4444444444444444,
              "#bd3786"
             ],
             [
              0.5555555555555556,
              "#d8576b"
             ],
             [
              0.6666666666666666,
              "#ed7953"
             ],
             [
              0.7777777777777778,
              "#fb9f3a"
             ],
             [
              0.8888888888888888,
              "#fdca26"
             ],
             [
              1,
              "#f0f921"
             ]
            ],
            "type": "contour"
           }
          ],
          "contourcarpet": [
           {
            "colorbar": {
             "outlinewidth": 0,
             "ticks": ""
            },
            "type": "contourcarpet"
           }
          ],
          "heatmap": [
           {
            "colorbar": {
             "outlinewidth": 0,
             "ticks": ""
            },
            "colorscale": [
             [
              0,
              "#0d0887"
             ],
             [
              0.1111111111111111,
              "#46039f"
             ],
             [
              0.2222222222222222,
              "#7201a8"
             ],
             [
              0.3333333333333333,
              "#9c179e"
             ],
             [
              0.4444444444444444,
              "#bd3786"
             ],
             [
              0.5555555555555556,
              "#d8576b"
             ],
             [
              0.6666666666666666,
              "#ed7953"
             ],
             [
              0.7777777777777778,
              "#fb9f3a"
             ],
             [
              0.8888888888888888,
              "#fdca26"
             ],
             [
              1,
              "#f0f921"
             ]
            ],
            "type": "heatmap"
           }
          ],
          "heatmapgl": [
           {
            "colorbar": {
             "outlinewidth": 0,
             "ticks": ""
            },
            "colorscale": [
             [
              0,
              "#0d0887"
             ],
             [
              0.1111111111111111,
              "#46039f"
             ],
             [
              0.2222222222222222,
              "#7201a8"
             ],
             [
              0.3333333333333333,
              "#9c179e"
             ],
             [
              0.4444444444444444,
              "#bd3786"
             ],
             [
              0.5555555555555556,
              "#d8576b"
             ],
             [
              0.6666666666666666,
              "#ed7953"
             ],
             [
              0.7777777777777778,
              "#fb9f3a"
             ],
             [
              0.8888888888888888,
              "#fdca26"
             ],
             [
              1,
              "#f0f921"
             ]
            ],
            "type": "heatmapgl"
           }
          ],
          "histogram": [
           {
            "marker": {
             "colorbar": {
              "outlinewidth": 0,
              "ticks": ""
             }
            },
            "type": "histogram"
           }
          ],
          "histogram2d": [
           {
            "colorbar": {
             "outlinewidth": 0,
             "ticks": ""
            },
            "colorscale": [
             [
              0,
              "#0d0887"
             ],
             [
              0.1111111111111111,
              "#46039f"
             ],
             [
              0.2222222222222222,
              "#7201a8"
             ],
             [
              0.3333333333333333,
              "#9c179e"
             ],
             [
              0.4444444444444444,
              "#bd3786"
             ],
             [
              0.5555555555555556,
              "#d8576b"
             ],
             [
              0.6666666666666666,
              "#ed7953"
             ],
             [
              0.7777777777777778,
              "#fb9f3a"
             ],
             [
              0.8888888888888888,
              "#fdca26"
             ],
             [
              1,
              "#f0f921"
             ]
            ],
            "type": "histogram2d"
           }
          ],
          "histogram2dcontour": [
           {
            "colorbar": {
             "outlinewidth": 0,
             "ticks": ""
            },
            "colorscale": [
             [
              0,
              "#0d0887"
             ],
             [
              0.1111111111111111,
              "#46039f"
             ],
             [
              0.2222222222222222,
              "#7201a8"
             ],
             [
              0.3333333333333333,
              "#9c179e"
             ],
             [
              0.4444444444444444,
              "#bd3786"
             ],
             [
              0.5555555555555556,
              "#d8576b"
             ],
             [
              0.6666666666666666,
              "#ed7953"
             ],
             [
              0.7777777777777778,
              "#fb9f3a"
             ],
             [
              0.8888888888888888,
              "#fdca26"
             ],
             [
              1,
              "#f0f921"
             ]
            ],
            "type": "histogram2dcontour"
           }
          ],
          "mesh3d": [
           {
            "colorbar": {
             "outlinewidth": 0,
             "ticks": ""
            },
            "type": "mesh3d"
           }
          ],
          "parcoords": [
           {
            "line": {
             "colorbar": {
              "outlinewidth": 0,
              "ticks": ""
             }
            },
            "type": "parcoords"
           }
          ],
          "pie": [
           {
            "automargin": true,
            "type": "pie"
           }
          ],
          "scatter": [
           {
            "marker": {
             "colorbar": {
              "outlinewidth": 0,
              "ticks": ""
             }
            },
            "type": "scatter"
           }
          ],
          "scatter3d": [
           {
            "line": {
             "colorbar": {
              "outlinewidth": 0,
              "ticks": ""
             }
            },
            "marker": {
             "colorbar": {
              "outlinewidth": 0,
              "ticks": ""
             }
            },
            "type": "scatter3d"
           }
          ],
          "scattercarpet": [
           {
            "marker": {
             "colorbar": {
              "outlinewidth": 0,
              "ticks": ""
             }
            },
            "type": "scattercarpet"
           }
          ],
          "scattergeo": [
           {
            "marker": {
             "colorbar": {
              "outlinewidth": 0,
              "ticks": ""
             }
            },
            "type": "scattergeo"
           }
          ],
          "scattergl": [
           {
            "marker": {
             "colorbar": {
              "outlinewidth": 0,
              "ticks": ""
             }
            },
            "type": "scattergl"
           }
          ],
          "scattermapbox": [
           {
            "marker": {
             "colorbar": {
              "outlinewidth": 0,
              "ticks": ""
             }
            },
            "type": "scattermapbox"
           }
          ],
          "scatterpolar": [
           {
            "marker": {
             "colorbar": {
              "outlinewidth": 0,
              "ticks": ""
             }
            },
            "type": "scatterpolar"
           }
          ],
          "scatterpolargl": [
           {
            "marker": {
             "colorbar": {
              "outlinewidth": 0,
              "ticks": ""
             }
            },
            "type": "scatterpolargl"
           }
          ],
          "scatterternary": [
           {
            "marker": {
             "colorbar": {
              "outlinewidth": 0,
              "ticks": ""
             }
            },
            "type": "scatterternary"
           }
          ],
          "surface": [
           {
            "colorbar": {
             "outlinewidth": 0,
             "ticks": ""
            },
            "colorscale": [
             [
              0,
              "#0d0887"
             ],
             [
              0.1111111111111111,
              "#46039f"
             ],
             [
              0.2222222222222222,
              "#7201a8"
             ],
             [
              0.3333333333333333,
              "#9c179e"
             ],
             [
              0.4444444444444444,
              "#bd3786"
             ],
             [
              0.5555555555555556,
              "#d8576b"
             ],
             [
              0.6666666666666666,
              "#ed7953"
             ],
             [
              0.7777777777777778,
              "#fb9f3a"
             ],
             [
              0.8888888888888888,
              "#fdca26"
             ],
             [
              1,
              "#f0f921"
             ]
            ],
            "type": "surface"
           }
          ],
          "table": [
           {
            "cells": {
             "fill": {
              "color": "#EBF0F8"
             },
             "line": {
              "color": "white"
             }
            },
            "header": {
             "fill": {
              "color": "#C8D4E3"
             },
             "line": {
              "color": "white"
             }
            },
            "type": "table"
           }
          ]
         },
         "layout": {
          "annotationdefaults": {
           "arrowcolor": "#2a3f5f",
           "arrowhead": 0,
           "arrowwidth": 1
          },
          "coloraxis": {
           "colorbar": {
            "outlinewidth": 0,
            "ticks": ""
           }
          },
          "colorscale": {
           "diverging": [
            [
             0,
             "#8e0152"
            ],
            [
             0.1,
             "#c51b7d"
            ],
            [
             0.2,
             "#de77ae"
            ],
            [
             0.3,
             "#f1b6da"
            ],
            [
             0.4,
             "#fde0ef"
            ],
            [
             0.5,
             "#f7f7f7"
            ],
            [
             0.6,
             "#e6f5d0"
            ],
            [
             0.7,
             "#b8e186"
            ],
            [
             0.8,
             "#7fbc41"
            ],
            [
             0.9,
             "#4d9221"
            ],
            [
             1,
             "#276419"
            ]
           ],
           "sequential": [
            [
             0,
             "#0d0887"
            ],
            [
             0.1111111111111111,
             "#46039f"
            ],
            [
             0.2222222222222222,
             "#7201a8"
            ],
            [
             0.3333333333333333,
             "#9c179e"
            ],
            [
             0.4444444444444444,
             "#bd3786"
            ],
            [
             0.5555555555555556,
             "#d8576b"
            ],
            [
             0.6666666666666666,
             "#ed7953"
            ],
            [
             0.7777777777777778,
             "#fb9f3a"
            ],
            [
             0.8888888888888888,
             "#fdca26"
            ],
            [
             1,
             "#f0f921"
            ]
           ],
           "sequentialminus": [
            [
             0,
             "#0d0887"
            ],
            [
             0.1111111111111111,
             "#46039f"
            ],
            [
             0.2222222222222222,
             "#7201a8"
            ],
            [
             0.3333333333333333,
             "#9c179e"
            ],
            [
             0.4444444444444444,
             "#bd3786"
            ],
            [
             0.5555555555555556,
             "#d8576b"
            ],
            [
             0.6666666666666666,
             "#ed7953"
            ],
            [
             0.7777777777777778,
             "#fb9f3a"
            ],
            [
             0.8888888888888888,
             "#fdca26"
            ],
            [
             1,
             "#f0f921"
            ]
           ]
          },
          "colorway": [
           "#636efa",
           "#EF553B",
           "#00cc96",
           "#ab63fa",
           "#FFA15A",
           "#19d3f3",
           "#FF6692",
           "#B6E880",
           "#FF97FF",
           "#FECB52"
          ],
          "font": {
           "color": "#2a3f5f"
          },
          "geo": {
           "bgcolor": "white",
           "lakecolor": "white",
           "landcolor": "#E5ECF6",
           "showlakes": true,
           "showland": true,
           "subunitcolor": "white"
          },
          "hoverlabel": {
           "align": "left"
          },
          "hovermode": "closest",
          "mapbox": {
           "style": "light"
          },
          "paper_bgcolor": "white",
          "plot_bgcolor": "#E5ECF6",
          "polar": {
           "angularaxis": {
            "gridcolor": "white",
            "linecolor": "white",
            "ticks": ""
           },
           "bgcolor": "#E5ECF6",
           "radialaxis": {
            "gridcolor": "white",
            "linecolor": "white",
            "ticks": ""
           }
          },
          "scene": {
           "xaxis": {
            "backgroundcolor": "#E5ECF6",
            "gridcolor": "white",
            "gridwidth": 2,
            "linecolor": "white",
            "showbackground": true,
            "ticks": "",
            "zerolinecolor": "white"
           },
           "yaxis": {
            "backgroundcolor": "#E5ECF6",
            "gridcolor": "white",
            "gridwidth": 2,
            "linecolor": "white",
            "showbackground": true,
            "ticks": "",
            "zerolinecolor": "white"
           },
           "zaxis": {
            "backgroundcolor": "#E5ECF6",
            "gridcolor": "white",
            "gridwidth": 2,
            "linecolor": "white",
            "showbackground": true,
            "ticks": "",
            "zerolinecolor": "white"
           }
          },
          "shapedefaults": {
           "line": {
            "color": "#2a3f5f"
           }
          },
          "ternary": {
           "aaxis": {
            "gridcolor": "white",
            "linecolor": "white",
            "ticks": ""
           },
           "baxis": {
            "gridcolor": "white",
            "linecolor": "white",
            "ticks": ""
           },
           "bgcolor": "#E5ECF6",
           "caxis": {
            "gridcolor": "white",
            "linecolor": "white",
            "ticks": ""
           }
          },
          "title": {
           "x": 0.05
          },
          "xaxis": {
           "automargin": true,
           "gridcolor": "white",
           "linecolor": "white",
           "ticks": "",
           "title": {
            "standoff": 15
           },
           "zerolinecolor": "white",
           "zerolinewidth": 2
          },
          "yaxis": {
           "automargin": true,
           "gridcolor": "white",
           "linecolor": "white",
           "ticks": "",
           "title": {
            "standoff": 15
           },
           "zerolinecolor": "white",
           "zerolinewidth": 2
          }
         }
        },
        "title": {
         "text": "Academic Stress"
        },
        "xaxis": {
         "gridcolor": "white",
         "gridwidth": 2,
         "title": {
          "text": "Stress type"
         }
        },
        "yaxis": {
         "gridcolor": "white",
         "gridwidth": 2,
         "title": {
          "text": "stress level"
         }
        }
       }
      }
     },
     "metadata": {}
    }
   ],
   "source": [
    "fig = go.Figure()\n",
    "\n",
    "for stress, data in stress_final.items():\n",
    "    fig.add_trace(go.Scatter( x=data['x'],\n",
    "         y=data[stress],name=stress\n",
    "         , marker_size=data['weight'],text=data['hover']\n",
    "        ))\n",
    "# Tune marker appearance and layout\n",
    "\n",
    "sizeref =  2.*80/(100**2)\n",
    "\n",
    "\n",
    "fig.update_traces(mode='markers', marker=dict(sizemode='area',\n",
    "                                              sizeref=sizeref, line_width=2))\n",
    "\n",
    "fig.update_layout(\n",
    "    title='Academic Stress',\n",
    "    xaxis=dict(\n",
    "        title='Stress type',\n",
    "        gridcolor='white',\n",
    "        gridwidth=2,\n",
    "    ),\n",
    "    yaxis=dict(\n",
    "        title='stress level',\n",
    "        gridcolor='white',\n",
    "        gridwidth=2,\n",
    "    ),\n",
    "    paper_bgcolor='rgb(243, 243, 243)',\n",
    "    plot_bgcolor='rgb(243, 243, 243)',\n",
    ")\n",
    "\n",
    "# fig = px.scatter(df, x='Presentations', size=\"weight_1\",\n",
    "#             log_x=True, size_max=60)\n",
    "fig.show()"
   ]
  },
  {
   "cell_type": "code",
   "execution_count": 5,
   "metadata": {},
   "outputs": [],
   "source": [
    "df2 = pd.read_csv('./data/data3.csv')\n",
    "df2['Persona']=df2['Persona'].replace([1,2,3,4],['persona1','persona2','persona3','persona4'])\n",
    "df2['ZONE']=df2['ZONE'].replace(['zone 2','zone 3','zone 4','zone 5','zone 6','zone 7','zone 8','zone 9'],\\\n",
    "    ['zone2','zone3','zone4','zone5','zone6','zone7','zone8','zone9'])\n",
    "zone1=df2[df2['ZONE']=='zone1']\n",
    "zone2=df2[df2['ZONE']=='zone2']\n",
    "zone3=df2[df2['ZONE']=='zone3']\n",
    "zone4=df2[df2['ZONE']=='zone4']\n",
    "zone5=df2[df2['ZONE']=='zone5']\n",
    "zone6=df2[df2['ZONE']=='zone6']\n",
    "zone7=df2[df2['ZONE']=='zone7']\n",
    "zone8=df2[df2['ZONE']=='zone8']\n",
    "zone9=df2[df2['ZONE']=='zone9']\n",
    "\n",
    "# import sys\n",
    "# mod = sys.modules[__name__]\n",
    "# for i in range(1,10):\n",
    "#     for j in range(1,5):\n",
    "#         setattr(mod,'p{j}_{i}'.format(j,i),'zone{i}[zone{i}[\\'Persona\\']==\\'persona{j}\\']]'.format(i,i,j))\n",
    "# print(p4_9)\n",
    "\n",
    "p1_1=zone1[zone1['Persona']=='persona1']\n",
    "p2_1=zone1[zone1['Persona']=='persona2']\n",
    "p3_1=zone1[zone1['Persona']=='persona3']\n",
    "p4_1=zone1[zone1['Persona']=='persona4']\n",
    "p1_2=zone2[zone2['Persona']=='persona1']\n",
    "p2_2=zone2[zone2['Persona']=='persona2']\n",
    "p3_2=zone2[zone2['Persona']=='persona3']\n",
    "p4_2=zone2[zone2['Persona']=='persona4']\n",
    "p1_3=zone3[zone3['Persona']=='persona1']\n",
    "p2_3=zone3[zone3['Persona']=='persona2']\n",
    "p3_3=zone3[zone3['Persona']=='persona3']\n",
    "p4_3=zone3[zone3['Persona']=='persona4']\n",
    "p1_4=zone4[zone4['Persona']=='persona1']\n",
    "p2_4=zone4[zone4['Persona']=='persona2']\n",
    "p3_4=zone4[zone4['Persona']=='persona3']\n",
    "p4_4=zone4[zone4['Persona']=='persona4']\n",
    "p1_5=zone5[zone5['Persona']=='persona1']\n",
    "p2_5=zone5[zone5['Persona']=='persona2']\n",
    "p3_5=zone5[zone5['Persona']=='persona3']\n",
    "p4_5=zone5[zone5['Persona']=='persona4']\n",
    "p1_6=zone6[zone6['Persona']=='persona1']\n",
    "p2_6=zone6[zone6['Persona']=='persona2']\n",
    "p3_6=zone6[zone6['Persona']=='persona3']\n",
    "p4_6=zone6[zone6['Persona']=='persona4']\n",
    "p1_7=zone7[zone7['Persona']=='persona1']\n",
    "p2_7=zone7[zone7['Persona']=='persona2']\n",
    "p3_7=zone7[zone7['Persona']=='persona3']\n",
    "p4_7=zone7[zone7['Persona']=='persona4']\n",
    "p1_8=zone8[zone8['Persona']=='persona1']\n",
    "p2_8=zone8[zone8['Persona']=='persona2']\n",
    "p3_8=zone8[zone8['Persona']=='persona3']\n",
    "p4_8=zone8[zone8['Persona']=='persona4']\n",
    "p1_9=zone9[zone9['Persona']=='persona1']\n",
    "p2_9=zone9[zone9['Persona']=='persona2']\n",
    "p3_9=zone9[zone9['Persona']=='persona3']\n",
    "p4_9=zone9[zone9['Persona']=='persona4']"
   ]
  },
  {
   "cell_type": "code",
   "execution_count": 43,
   "metadata": {},
   "outputs": [
    {
     "output_type": "display_data",
     "data": {
      "application/vnd.plotly.v1+json": {
       "config": {
        "plotlyServerURL": "https://plotly.com"
       },
       "data": [
        {
         "legendgroup": "group1",
         "marker": {
          "line": {
           "width": 2
          },
          "size": [
           1,
           2,
           1,
           1,
           1,
           1
          ],
          "sizemode": "area",
          "sizeref": 0.016
         },
         "mode": "markers",
         "name": "persona1",
         "type": "scatter",
         "x": [
          "being with/around friends",
          "finances",
          "future",
          "physical health",
          "quizzes/exams",
          "work"
         ],
         "xaxis": "x7",
         "y": [
          23,
          22,
          16,
          26,
          11,
          18
         ],
         "yaxis": "y7"
        },
        {
         "legendgroup": "group2",
         "marker": {
          "line": {
           "width": 2
          },
          "size": [
           1,
           1,
           1
          ],
          "sizemode": "area",
          "sizeref": 0.016
         },
         "mode": "markers",
         "name": "persona2",
         "type": "scatter",
         "x": [
          "class",
          "presentations",
          "projects"
         ],
         "xaxis": "x7",
         "y": [
          21,
          28,
          24
         ],
         "yaxis": "y7"
        },
        {
         "legendgroup": "group3",
         "marker": {
          "line": {
           "width": 2
          },
          "size": [
           1,
           1
          ],
          "sizemode": "area",
          "sizeref": 0.016
         },
         "mode": "markers",
         "name": "persona3",
         "type": "scatter",
         "x": [
          "homework",
          "presentations"
         ],
         "xaxis": "x7",
         "y": [
          13,
          11
         ],
         "yaxis": "y7"
        },
        {
         "legendgroup": "group4",
         "marker": {
          "line": {
           "width": 2
          },
          "size": [
           1,
           1,
           1,
           1,
           1,
           1,
           1
          ],
          "sizemode": "area",
          "sizeref": 0.016
         },
         "mode": "markers",
         "name": "persona4",
         "type": "scatter",
         "x": [
          "being vulnerable in therapy",
          "class",
          "finances",
          "future",
          "Internship",
          "lab",
          "presentations"
         ],
         "xaxis": "x7",
         "y": [
          24,
          21,
          29,
          20,
          19,
          23,
          13
         ],
         "yaxis": "y7"
        },
        {
         "legendgroup": "group1",
         "marker": {
          "line": {
           "width": 2
          },
          "size": [
           1,
           1,
           2,
           1
          ],
          "sizemode": "area",
          "sizeref": 0.016
         },
         "mode": "markers",
         "name": "",
         "showlegend": false,
         "type": "scatter",
         "x": [
          "planning",
          "projects",
          "quizzes/exams",
          "work"
         ],
         "xaxis": "x8",
         "y": [
          17,
          12,
          15,
          11
         ],
         "yaxis": "y8"
        },
        {
         "legendgroup": "group2",
         "marker": {
          "line": {
           "width": 2
          },
          "size": [
           1,
           1,
           1,
           1,
           2,
           1
          ],
          "sizemode": "area",
          "sizeref": 0.016
         },
         "mode": "markers",
         "name": "",
         "showlegend": false,
         "type": "scatter",
         "x": [
          "family",
          "health",
          "homework",
          "projects",
          "relationship",
          "workout"
         ],
         "xaxis": "x8",
         "y": [
          11,
          13,
          18,
          12,
          20,
          17
         ],
         "yaxis": "y8"
        },
        {
         "legendgroup": "group3",
         "marker": {
          "line": {
           "width": 2
          },
          "size": [
           1,
           1,
           1
          ],
          "sizemode": "area",
          "sizeref": 0.016
         },
         "mode": "markers",
         "name": "",
         "showlegend": false,
         "type": "scatter",
         "x": [
          "going to church",
          "optional programs",
          "projects"
         ],
         "xaxis": "x8",
         "y": [
          18,
          12,
          25
         ],
         "yaxis": "y8"
        },
        {
         "legendgroup": "group4",
         "marker": {
          "line": {
           "width": 2
          },
          "size": [
           1,
           1,
           1
          ],
          "sizemode": "area",
          "sizeref": 0.016
         },
         "mode": "markers",
         "name": "",
         "showlegend": false,
         "type": "scatter",
         "x": [
          "presentations",
          "quizzes/exams",
          "work"
         ],
         "xaxis": "x8",
         "y": [
          12,
          24,
          14
         ],
         "yaxis": "y8"
        },
        {
         "legendgroup": "group1",
         "marker": {
          "line": {
           "width": 2
          },
          "size": [
           3,
           2,
           2,
           1,
           1,
           2,
           1,
           2,
           1
          ],
          "sizemode": "area",
          "sizeref": 0.016
         },
         "mode": "markers",
         "name": "",
         "showlegend": false,
         "type": "scatter",
         "x": [
          "health",
          "homework",
          "lectures",
          "planning",
          "presentations",
          "quizzes/exams",
          "relationship",
          "sleep",
          "work"
         ],
         "xaxis": "x9",
         "y": [
          12,
          14,
          18,
          28,
          20,
          15,
          29,
          19,
          22
         ],
         "yaxis": "y9"
        },
        {
         "legendgroup": "group2",
         "marker": {
          "line": {
           "width": 2
          },
          "size": [
           1,
           1,
           1,
           1,
           1,
           1
          ],
          "sizemode": "area",
          "sizeref": 0.016
         },
         "mode": "markers",
         "name": "persona2",
         "showlegend": false,
         "type": "scatter",
         "x": [
          "homework",
          "hygiene",
          "planning",
          "relationship",
          "sleep",
          "writing papers"
         ],
         "xaxis": "x9",
         "y": [
          15,
          25,
          13,
          21,
          10,
          29
         ],
         "yaxis": "y9"
        },
        {
         "legendgroup": "group3",
         "marker": {
          "line": {
           "width": 2
          },
          "size": [
           1,
           1,
           1,
           1
          ],
          "sizemode": "area",
          "sizeref": 0.016
         },
         "mode": "markers",
         "name": "persona3",
         "showlegend": false,
         "type": "scatter",
         "x": [
          "group work",
          "homework",
          "quizzes/exams",
          "sleep"
         ],
         "xaxis": "x9",
         "y": [
          25,
          17,
          18,
          13
         ],
         "yaxis": "y9"
        },
        {
         "legendgroup": "group4",
         "marker": {
          "line": {
           "width": 2
          },
          "size": [
           1,
           4,
           1,
           1
          ],
          "sizemode": "area",
          "sizeref": 0.016
         },
         "mode": "markers",
         "name": "persona4",
         "showlegend": false,
         "type": "scatter",
         "x": [
          "developing accessible hobbies",
          "homework",
          "hygiene",
          "presentations"
         ],
         "xaxis": "x9",
         "y": [
          10,
          22,
          14,
          18
         ],
         "yaxis": "y9"
        },
        {
         "legendgroup": "group1",
         "marker": {
          "line": {
           "width": 2
          },
          "size": [
           1,
           1,
           1,
           1,
           1,
           2
          ],
          "sizemode": "area",
          "sizeref": 0.016
         },
         "mode": "markers",
         "name": "",
         "showlegend": false,
         "type": "scatter",
         "x": [
          "health",
          "housing",
          "internship",
          "midterms/finals",
          "optional academic programs",
          "presentations"
         ],
         "xaxis": "x4",
         "y": [
          19,
          26,
          21,
          13,
          18,
          27
         ],
         "yaxis": "y4"
        },
        {
         "legendgroup": "group2",
         "marker": {
          "line": {
           "width": 2
          },
          "size": [
           1,
           2,
           1,
           1,
           1
          ],
          "sizemode": "area",
          "sizeref": 0.016
         },
         "mode": "markers",
         "name": "",
         "showlegend": false,
         "type": "scatter",
         "x": [
          "GPA",
          "presentations",
          "scholarship",
          "socializing",
          "study abroad"
         ],
         "xaxis": "x4",
         "y": [
          21,
          14,
          10,
          18,
          16
         ],
         "yaxis": "y4"
        },
        {
         "legendgroup": "group3",
         "marker": {
          "line": {
           "width": 2
          },
          "size": [
           1,
           1,
           1
          ],
          "sizemode": "area",
          "sizeref": 0.016
         },
         "mode": "markers",
         "name": "",
         "showlegend": false,
         "type": "scatter",
         "x": [
          "class",
          "internship",
          "socializing"
         ],
         "xaxis": "x4",
         "y": [
          23,
          21,
          11
         ],
         "yaxis": "y4"
        },
        {
         "legendgroup": "group4",
         "marker": {
          "line": {
           "width": 2
          },
          "size": [
           1,
           1,
           1,
           1,
           1,
           1,
           1,
           1,
           1
          ],
          "sizemode": "area",
          "sizeref": 0.016
         },
         "mode": "markers",
         "name": "",
         "showlegend": false,
         "type": "scatter",
         "x": [
          "class",
          "Family",
          "midterms/finals",
          "projects",
          "quizzes/exams",
          "Resident Advising",
          "scholarship",
          "when I feel like I don’t have time",
          "writing papers"
         ],
         "xaxis": "x4",
         "y": [
          14,
          11,
          20,
          10,
          29,
          17,
          16,
          28,
          21
         ],
         "yaxis": "y4"
        },
        {
         "legendgroup": "group1",
         "marker": {
          "line": {
           "width": 2
          },
          "size": [
           1,
           1,
           1,
           1,
           1,
           2,
           1,
           1,
           1,
           2,
           1,
           1
          ],
          "sizemode": "area",
          "sizeref": 0.016
         },
         "mode": "markers",
         "name": "",
         "showlegend": false,
         "type": "scatter",
         "x": [
          "family",
          "health ",
          "internships",
          "job and career",
          "lab",
          "midterms/finals",
          "optional academic programs",
          "presentations",
          "projects",
          "quizzes/exams",
          "relationship",
          "study abroad"
         ],
         "xaxis": "x5",
         "y": [
          28,
          14,
          13,
          24,
          29,
          16,
          17,
          18,
          26,
          12,
          27,
          15
         ],
         "yaxis": "y5"
        },
        {
         "legendgroup": "group2",
         "marker": {
          "line": {
           "width": 2
          },
          "size": [
           1,
           1,
           1,
           4
          ],
          "sizemode": "area",
          "sizeref": 0.016
         },
         "mode": "markers",
         "name": "",
         "showlegend": false,
         "type": "scatter",
         "x": [
          "body image",
          "finances",
          "homework",
          "quizzes/exams"
         ],
         "xaxis": "x5",
         "y": [
          13,
          20,
          12,
          27
         ],
         "yaxis": "y5"
        },
        {
         "legendgroup": "group3",
         "marker": {
          "line": {
           "width": 2
          },
          "size": [
           1,
           1,
           1,
           1,
           2
          ],
          "sizemode": "area",
          "sizeref": 0.016
         },
         "mode": "markers",
         "name": "",
         "showlegend": false,
         "type": "scatter",
         "x": [
          "class",
          "family",
          "finances",
          "quizzes/exams",
          "relationship"
         ],
         "xaxis": "x5",
         "y": [
          21,
          14,
          20,
          10,
          15
         ],
         "yaxis": "y5"
        },
        {
         "legendgroup": "group4",
         "marker": {
          "line": {
           "width": 2
          },
          "size": [
           1,
           1,
           2,
           1,
           1,
           1
          ],
          "sizemode": "area",
          "sizeref": 0.016
         },
         "mode": "markers",
         "name": "",
         "showlegend": false,
         "type": "scatter",
         "x": [
          "future",
          "group work",
          "optional academic programs",
          "projects",
          "relationship",
          "socializing"
         ],
         "xaxis": "x5",
         "y": [
          22,
          23,
          25,
          24,
          13,
          21
         ],
         "yaxis": "y5"
        },
        {
         "legendgroup": "group1",
         "marker": {
          "line": {
           "width": 2
          },
          "size": [
           1,
           3,
           1,
           1,
           2,
           1
          ],
          "sizemode": "area",
          "sizeref": 0.016
         },
         "mode": "markers",
         "name": "",
         "showlegend": false,
         "type": "scatter",
         "x": [
          "class",
          "homework",
          "lectures",
          "physical health",
          "projects",
          "relationship"
         ],
         "xaxis": "x6",
         "y": [
          28,
          29,
          27,
          14,
          24,
          19
         ],
         "yaxis": "y6"
        },
        {
         "legendgroup": "group2",
         "marker": {
          "line": {
           "width": 2
          },
          "size": [
           1,
           2,
           1,
           2,
           2
          ],
          "sizemode": "area",
          "sizeref": 0.016
         },
         "mode": "markers",
         "name": "",
         "showlegend": false,
         "type": "scatter",
         "x": [
          "finance",
          "homework",
          "projects",
          "quizzes/exams",
          "work"
         ],
         "xaxis": "x6",
         "y": [
          11,
          22,
          21,
          13,
          24
         ],
         "yaxis": "y6"
        },
        {
         "legendgroup": "group3",
         "marker": {
          "line": {
           "width": 2
          },
          "size": [
           1,
           1,
           1,
           1,
           1
          ],
          "sizemode": "area",
          "sizeref": 0.016
         },
         "mode": "markers",
         "name": "",
         "showlegend": false,
         "type": "scatter",
         "x": [
          "future",
          "homework",
          "hygiene ",
          "presentations",
          "quizzes/exams"
         ],
         "xaxis": "x6",
         "y": [
          22,
          20,
          15,
          24,
          16
         ],
         "yaxis": "y6"
        },
        {
         "legendgroup": "group4",
         "marker": {
          "line": {
           "width": 2
          },
          "size": [
           1,
           1,
           1,
           1,
           1
          ],
          "sizemode": "area",
          "sizeref": 0.016
         },
         "mode": "markers",
         "name": "",
         "showlegend": false,
         "type": "scatter",
         "x": [
          "finance",
          "future",
          "lectures",
          "physical health",
          "work"
         ],
         "xaxis": "x6",
         "y": [
          22,
          27,
          21,
          14,
          29
         ],
         "yaxis": "y6"
        },
        {
         "legendgroup": "group1",
         "marker": {
          "line": {
           "width": 2
          },
          "size": [
           1,
           1,
           2,
           1,
           1,
           1
          ],
          "sizemode": "area",
          "sizeref": 0.016
         },
         "mode": "markers",
         "name": "",
         "showlegend": false,
         "type": "scatter",
         "x": [
          "future",
          "internship and job search ",
          "midterm/final",
          "presentations",
          "projects",
          "talking to teachers"
         ],
         "xaxis": "x",
         "y": [
          14,
          17,
          29,
          18,
          23,
          27
         ],
         "yaxis": "y"
        },
        {
         "legendgroup": "group2",
         "marker": {
          "line": {
           "width": 2
          },
          "size": [
           1,
           4,
           1,
           1,
           1
          ],
          "sizemode": "area",
          "sizeref": 0.016
         },
         "mode": "markers",
         "name": "",
         "showlegend": false,
         "type": "scatter",
         "x": [
          "GPA",
          "midterm/final",
          "projects",
          "quizzes/exams",
          "relationship"
         ],
         "xaxis": "x",
         "y": [
          13,
          24,
          14,
          10,
          29
         ],
         "yaxis": "y"
        },
        {
         "legendgroup": "group3",
         "marker": {
          "line": {
           "width": 2
          },
          "size": [
           1,
           2,
           1,
           1,
           1
          ],
          "sizemode": "area",
          "sizeref": 0.016
         },
         "mode": "markers",
         "name": "",
         "showlegend": false,
         "type": "scatter",
         "x": [
          "group work",
          "midterm/final",
          "physical health",
          "projects",
          "quizzes/exams"
         ],
         "xaxis": "x",
         "y": [
          15,
          21,
          14,
          17,
          25
         ],
         "yaxis": "y"
        },
        {
         "legendgroup": "group4",
         "marker": {
          "line": {
           "width": 2
          },
          "size": [
           1
          ],
          "sizemode": "area",
          "sizeref": 0.016
         },
         "mode": "markers",
         "name": "",
         "showlegend": false,
         "type": "scatter",
         "x": [
          "midterm/final"
         ],
         "xaxis": "x",
         "y": [
          21
         ],
         "yaxis": "y"
        },
        {
         "legendgroup": "group1",
         "marker": {
          "line": {
           "width": 2
          },
          "size": [
           1,
           2,
           1,
           1,
           3,
           2,
           3
          ],
          "sizemode": "area",
          "sizeref": 0.016
         },
         "mode": "markers",
         "name": "",
         "showlegend": false,
         "type": "scatter",
         "x": [
          "body image",
          "future",
          "GPA",
          "mean classmates",
          "midterms/finals",
          "projects",
          "quizzes/exams"
         ],
         "xaxis": "x2",
         "y": [
          25,
          29,
          27,
          20,
          24,
          23,
          12
         ],
         "yaxis": "y2"
        },
        {
         "legendgroup": "group2",
         "marker": {
          "line": {
           "width": 2
          },
          "size": [
           1,
           1,
           2
          ],
          "sizemode": "area",
          "sizeref": 0.016
         },
         "mode": "markers",
         "name": "",
         "showlegend": false,
         "type": "scatter",
         "x": [
          "health",
          "homework",
          "midterms/finals"
         ],
         "xaxis": "x2",
         "y": [
          13,
          21,
          16
         ],
         "yaxis": "y2"
        },
        {
         "legendgroup": "group3",
         "marker": {
          "line": {
           "width": 2
          },
          "size": [
           1,
           1,
           1,
           1
          ],
          "sizemode": "area",
          "sizeref": 0.016
         },
         "mode": "markers",
         "name": "",
         "showlegend": false,
         "type": "scatter",
         "x": [
          "finances",
          "midterms/finals",
          "projects",
          "quizzes/exams"
         ],
         "xaxis": "x2",
         "y": [
          18,
          22,
          24,
          15
         ],
         "yaxis": "y2"
        },
        {
         "legendgroup": "group4",
         "marker": {
          "line": {
           "width": 2
          },
          "size": [
           1,
           1
          ],
          "sizemode": "area",
          "sizeref": 0.016
         },
         "mode": "markers",
         "name": "",
         "showlegend": false,
         "type": "scatter",
         "x": [
          "compounding stress",
          "mental health"
         ],
         "xaxis": "x2",
         "y": [
          15,
          18
         ],
         "yaxis": "y2"
        },
        {
         "legendgroup": "group1",
         "marker": {
          "line": {
           "width": 2
          },
          "size": [
           1,
           1,
           1,
           2,
           2,
           1,
           1,
           1,
           1,
           1
          ],
          "sizemode": "area",
          "sizeref": 0.016
         },
         "mode": "markers",
         "name": "",
         "showlegend": false,
         "type": "scatter",
         "x": [
          "class",
          "family",
          "finances",
          "future",
          "group projects",
          "health",
          "homework",
          "planning",
          "projects",
          "socializing"
         ],
         "xaxis": "x",
         "y": [
          26,
          29,
          14,
          21,
          12,
          13,
          18,
          23,
          17,
          25
         ],
         "yaxis": "y"
        },
        {
         "legendgroup": "group2",
         "marker": {
          "line": {
           "width": 2
          },
          "size": [
           1,
           1,
           1,
           1,
           1,
           1
          ],
          "sizemode": "area",
          "sizeref": 0.016
         },
         "mode": "markers",
         "name": "",
         "showlegend": false,
         "type": "scatter",
         "x": [
          "future",
          "health",
          "homework",
          "loss of parents",
          "mental health",
          "quizzes/exams"
         ],
         "xaxis": "x3",
         "y": [
          11,
          12,
          17,
          29,
          25,
          18
         ],
         "yaxis": "y3"
        },
        {
         "legendgroup": "group3",
         "marker": {
          "line": {
           "width": 2
          },
          "size": [
           1,
           1,
           3,
           1,
           2,
           2,
           1,
           1
          ],
          "sizemode": "area",
          "sizeref": 0.016
         },
         "mode": "markers",
         "name": "",
         "showlegend": false,
         "type": "scatter",
         "x": [
          "class",
          "finances",
          "future",
          "group projects",
          "homework",
          "mental health",
          "relationships",
          "work"
         ],
         "xaxis": "x3",
         "y": [
          10,
          29,
          15,
          23,
          27,
          28,
          22,
          16
         ],
         "yaxis": "y3"
        },
        {
         "legendgroup": "group4",
         "marker": {
          "line": {
           "width": 2
          },
          "size": [
           1,
           1
          ],
          "sizemode": "area",
          "sizeref": 0.016
         },
         "mode": "markers",
         "name": "",
         "showlegend": false,
         "type": "scatter",
         "x": [
          "future",
          "relationships"
         ],
         "xaxis": "x3",
         "y": [
          14,
          25
         ],
         "yaxis": "y3"
        }
       ],
       "layout": {
        "paper_bgcolor": "rgb(243, 243, 243)",
        "plot_bgcolor": "rgb(243, 243, 243)",
        "template": {
         "data": {
          "bar": [
           {
            "error_x": {
             "color": "#2a3f5f"
            },
            "error_y": {
             "color": "#2a3f5f"
            },
            "marker": {
             "line": {
              "color": "#E5ECF6",
              "width": 0.5
             }
            },
            "type": "bar"
           }
          ],
          "barpolar": [
           {
            "marker": {
             "line": {
              "color": "#E5ECF6",
              "width": 0.5
             }
            },
            "type": "barpolar"
           }
          ],
          "carpet": [
           {
            "aaxis": {
             "endlinecolor": "#2a3f5f",
             "gridcolor": "white",
             "linecolor": "white",
             "minorgridcolor": "white",
             "startlinecolor": "#2a3f5f"
            },
            "baxis": {
             "endlinecolor": "#2a3f5f",
             "gridcolor": "white",
             "linecolor": "white",
             "minorgridcolor": "white",
             "startlinecolor": "#2a3f5f"
            },
            "type": "carpet"
           }
          ],
          "choropleth": [
           {
            "colorbar": {
             "outlinewidth": 0,
             "ticks": ""
            },
            "type": "choropleth"
           }
          ],
          "contour": [
           {
            "colorbar": {
             "outlinewidth": 0,
             "ticks": ""
            },
            "colorscale": [
             [
              0,
              "#0d0887"
             ],
             [
              0.1111111111111111,
              "#46039f"
             ],
             [
              0.2222222222222222,
              "#7201a8"
             ],
             [
              0.3333333333333333,
              "#9c179e"
             ],
             [
              0.4444444444444444,
              "#bd3786"
             ],
             [
              0.5555555555555556,
              "#d8576b"
             ],
             [
              0.6666666666666666,
              "#ed7953"
             ],
             [
              0.7777777777777778,
              "#fb9f3a"
             ],
             [
              0.8888888888888888,
              "#fdca26"
             ],
             [
              1,
              "#f0f921"
             ]
            ],
            "type": "contour"
           }
          ],
          "contourcarpet": [
           {
            "colorbar": {
             "outlinewidth": 0,
             "ticks": ""
            },
            "type": "contourcarpet"
           }
          ],
          "heatmap": [
           {
            "colorbar": {
             "outlinewidth": 0,
             "ticks": ""
            },
            "colorscale": [
             [
              0,
              "#0d0887"
             ],
             [
              0.1111111111111111,
              "#46039f"
             ],
             [
              0.2222222222222222,
              "#7201a8"
             ],
             [
              0.3333333333333333,
              "#9c179e"
             ],
             [
              0.4444444444444444,
              "#bd3786"
             ],
             [
              0.5555555555555556,
              "#d8576b"
             ],
             [
              0.6666666666666666,
              "#ed7953"
             ],
             [
              0.7777777777777778,
              "#fb9f3a"
             ],
             [
              0.8888888888888888,
              "#fdca26"
             ],
             [
              1,
              "#f0f921"
             ]
            ],
            "type": "heatmap"
           }
          ],
          "heatmapgl": [
           {
            "colorbar": {
             "outlinewidth": 0,
             "ticks": ""
            },
            "colorscale": [
             [
              0,
              "#0d0887"
             ],
             [
              0.1111111111111111,
              "#46039f"
             ],
             [
              0.2222222222222222,
              "#7201a8"
             ],
             [
              0.3333333333333333,
              "#9c179e"
             ],
             [
              0.4444444444444444,
              "#bd3786"
             ],
             [
              0.5555555555555556,
              "#d8576b"
             ],
             [
              0.6666666666666666,
              "#ed7953"
             ],
             [
              0.7777777777777778,
              "#fb9f3a"
             ],
             [
              0.8888888888888888,
              "#fdca26"
             ],
             [
              1,
              "#f0f921"
             ]
            ],
            "type": "heatmapgl"
           }
          ],
          "histogram": [
           {
            "marker": {
             "colorbar": {
              "outlinewidth": 0,
              "ticks": ""
             }
            },
            "type": "histogram"
           }
          ],
          "histogram2d": [
           {
            "colorbar": {
             "outlinewidth": 0,
             "ticks": ""
            },
            "colorscale": [
             [
              0,
              "#0d0887"
             ],
             [
              0.1111111111111111,
              "#46039f"
             ],
             [
              0.2222222222222222,
              "#7201a8"
             ],
             [
              0.3333333333333333,
              "#9c179e"
             ],
             [
              0.4444444444444444,
              "#bd3786"
             ],
             [
              0.5555555555555556,
              "#d8576b"
             ],
             [
              0.6666666666666666,
              "#ed7953"
             ],
             [
              0.7777777777777778,
              "#fb9f3a"
             ],
             [
              0.8888888888888888,
              "#fdca26"
             ],
             [
              1,
              "#f0f921"
             ]
            ],
            "type": "histogram2d"
           }
          ],
          "histogram2dcontour": [
           {
            "colorbar": {
             "outlinewidth": 0,
             "ticks": ""
            },
            "colorscale": [
             [
              0,
              "#0d0887"
             ],
             [
              0.1111111111111111,
              "#46039f"
             ],
             [
              0.2222222222222222,
              "#7201a8"
             ],
             [
              0.3333333333333333,
              "#9c179e"
             ],
             [
              0.4444444444444444,
              "#bd3786"
             ],
             [
              0.5555555555555556,
              "#d8576b"
             ],
             [
              0.6666666666666666,
              "#ed7953"
             ],
             [
              0.7777777777777778,
              "#fb9f3a"
             ],
             [
              0.8888888888888888,
              "#fdca26"
             ],
             [
              1,
              "#f0f921"
             ]
            ],
            "type": "histogram2dcontour"
           }
          ],
          "mesh3d": [
           {
            "colorbar": {
             "outlinewidth": 0,
             "ticks": ""
            },
            "type": "mesh3d"
           }
          ],
          "parcoords": [
           {
            "line": {
             "colorbar": {
              "outlinewidth": 0,
              "ticks": ""
             }
            },
            "type": "parcoords"
           }
          ],
          "pie": [
           {
            "automargin": true,
            "type": "pie"
           }
          ],
          "scatter": [
           {
            "marker": {
             "colorbar": {
              "outlinewidth": 0,
              "ticks": ""
             }
            },
            "type": "scatter"
           }
          ],
          "scatter3d": [
           {
            "line": {
             "colorbar": {
              "outlinewidth": 0,
              "ticks": ""
             }
            },
            "marker": {
             "colorbar": {
              "outlinewidth": 0,
              "ticks": ""
             }
            },
            "type": "scatter3d"
           }
          ],
          "scattercarpet": [
           {
            "marker": {
             "colorbar": {
              "outlinewidth": 0,
              "ticks": ""
             }
            },
            "type": "scattercarpet"
           }
          ],
          "scattergeo": [
           {
            "marker": {
             "colorbar": {
              "outlinewidth": 0,
              "ticks": ""
             }
            },
            "type": "scattergeo"
           }
          ],
          "scattergl": [
           {
            "marker": {
             "colorbar": {
              "outlinewidth": 0,
              "ticks": ""
             }
            },
            "type": "scattergl"
           }
          ],
          "scattermapbox": [
           {
            "marker": {
             "colorbar": {
              "outlinewidth": 0,
              "ticks": ""
             }
            },
            "type": "scattermapbox"
           }
          ],
          "scatterpolar": [
           {
            "marker": {
             "colorbar": {
              "outlinewidth": 0,
              "ticks": ""
             }
            },
            "type": "scatterpolar"
           }
          ],
          "scatterpolargl": [
           {
            "marker": {
             "colorbar": {
              "outlinewidth": 0,
              "ticks": ""
             }
            },
            "type": "scatterpolargl"
           }
          ],
          "scatterternary": [
           {
            "marker": {
             "colorbar": {
              "outlinewidth": 0,
              "ticks": ""
             }
            },
            "type": "scatterternary"
           }
          ],
          "surface": [
           {
            "colorbar": {
             "outlinewidth": 0,
             "ticks": ""
            },
            "colorscale": [
             [
              0,
              "#0d0887"
             ],
             [
              0.1111111111111111,
              "#46039f"
             ],
             [
              0.2222222222222222,
              "#7201a8"
             ],
             [
              0.3333333333333333,
              "#9c179e"
             ],
             [
              0.4444444444444444,
              "#bd3786"
             ],
             [
              0.5555555555555556,
              "#d8576b"
             ],
             [
              0.6666666666666666,
              "#ed7953"
             ],
             [
              0.7777777777777778,
              "#fb9f3a"
             ],
             [
              0.8888888888888888,
              "#fdca26"
             ],
             [
              1,
              "#f0f921"
             ]
            ],
            "type": "surface"
           }
          ],
          "table": [
           {
            "cells": {
             "fill": {
              "color": "#EBF0F8"
             },
             "line": {
              "color": "white"
             }
            },
            "header": {
             "fill": {
              "color": "#C8D4E3"
             },
             "line": {
              "color": "white"
             }
            },
            "type": "table"
           }
          ]
         },
         "layout": {
          "annotationdefaults": {
           "arrowcolor": "#2a3f5f",
           "arrowhead": 0,
           "arrowwidth": 1
          },
          "coloraxis": {
           "colorbar": {
            "outlinewidth": 0,
            "ticks": ""
           }
          },
          "colorscale": {
           "diverging": [
            [
             0,
             "#8e0152"
            ],
            [
             0.1,
             "#c51b7d"
            ],
            [
             0.2,
             "#de77ae"
            ],
            [
             0.3,
             "#f1b6da"
            ],
            [
             0.4,
             "#fde0ef"
            ],
            [
             0.5,
             "#f7f7f7"
            ],
            [
             0.6,
             "#e6f5d0"
            ],
            [
             0.7,
             "#b8e186"
            ],
            [
             0.8,
             "#7fbc41"
            ],
            [
             0.9,
             "#4d9221"
            ],
            [
             1,
             "#276419"
            ]
           ],
           "sequential": [
            [
             0,
             "#0d0887"
            ],
            [
             0.1111111111111111,
             "#46039f"
            ],
            [
             0.2222222222222222,
             "#7201a8"
            ],
            [
             0.3333333333333333,
             "#9c179e"
            ],
            [
             0.4444444444444444,
             "#bd3786"
            ],
            [
             0.5555555555555556,
             "#d8576b"
            ],
            [
             0.6666666666666666,
             "#ed7953"
            ],
            [
             0.7777777777777778,
             "#fb9f3a"
            ],
            [
             0.8888888888888888,
             "#fdca26"
            ],
            [
             1,
             "#f0f921"
            ]
           ],
           "sequentialminus": [
            [
             0,
             "#0d0887"
            ],
            [
             0.1111111111111111,
             "#46039f"
            ],
            [
             0.2222222222222222,
             "#7201a8"
            ],
            [
             0.3333333333333333,
             "#9c179e"
            ],
            [
             0.4444444444444444,
             "#bd3786"
            ],
            [
             0.5555555555555556,
             "#d8576b"
            ],
            [
             0.6666666666666666,
             "#ed7953"
            ],
            [
             0.7777777777777778,
             "#fb9f3a"
            ],
            [
             0.8888888888888888,
             "#fdca26"
            ],
            [
             1,
             "#f0f921"
            ]
           ]
          },
          "colorway": [
           "#636efa",
           "#EF553B",
           "#00cc96",
           "#ab63fa",
           "#FFA15A",
           "#19d3f3",
           "#FF6692",
           "#B6E880",
           "#FF97FF",
           "#FECB52"
          ],
          "font": {
           "color": "#2a3f5f"
          },
          "geo": {
           "bgcolor": "white",
           "lakecolor": "white",
           "landcolor": "#E5ECF6",
           "showlakes": true,
           "showland": true,
           "subunitcolor": "white"
          },
          "hoverlabel": {
           "align": "left"
          },
          "hovermode": "closest",
          "mapbox": {
           "style": "light"
          },
          "paper_bgcolor": "white",
          "plot_bgcolor": "#E5ECF6",
          "polar": {
           "angularaxis": {
            "gridcolor": "white",
            "linecolor": "white",
            "ticks": ""
           },
           "bgcolor": "#E5ECF6",
           "radialaxis": {
            "gridcolor": "white",
            "linecolor": "white",
            "ticks": ""
           }
          },
          "scene": {
           "xaxis": {
            "backgroundcolor": "#E5ECF6",
            "gridcolor": "white",
            "gridwidth": 2,
            "linecolor": "white",
            "showbackground": true,
            "ticks": "",
            "zerolinecolor": "white"
           },
           "yaxis": {
            "backgroundcolor": "#E5ECF6",
            "gridcolor": "white",
            "gridwidth": 2,
            "linecolor": "white",
            "showbackground": true,
            "ticks": "",
            "zerolinecolor": "white"
           },
           "zaxis": {
            "backgroundcolor": "#E5ECF6",
            "gridcolor": "white",
            "gridwidth": 2,
            "linecolor": "white",
            "showbackground": true,
            "ticks": "",
            "zerolinecolor": "white"
           }
          },
          "shapedefaults": {
           "line": {
            "color": "#2a3f5f"
           }
          },
          "ternary": {
           "aaxis": {
            "gridcolor": "white",
            "linecolor": "white",
            "ticks": ""
           },
           "baxis": {
            "gridcolor": "white",
            "linecolor": "white",
            "ticks": ""
           },
           "bgcolor": "#E5ECF6",
           "caxis": {
            "gridcolor": "white",
            "linecolor": "white",
            "ticks": ""
           }
          },
          "title": {
           "x": 0.05
          },
          "xaxis": {
           "automargin": true,
           "gridcolor": "white",
           "linecolor": "white",
           "ticks": "",
           "title": {
            "standoff": 15
           },
           "zerolinecolor": "white",
           "zerolinewidth": 2
          },
          "yaxis": {
           "automargin": true,
           "gridcolor": "white",
           "linecolor": "white",
           "ticks": "",
           "title": {
            "standoff": 15
           },
           "zerolinecolor": "white",
           "zerolinewidth": 2
          }
         }
        },
        "title": {
         "text": "serverity and indensity"
        },
        "xaxis": {
         "anchor": "y",
         "domain": [
          0,
          0.2888888888888889
         ],
         "showticklabels": false,
         "visible": true
        },
        "xaxis2": {
         "anchor": "y2",
         "domain": [
          0.35555555555555557,
          0.6444444444444445
         ],
         "showticklabels": false,
         "visible": true
        },
        "xaxis3": {
         "anchor": "y3",
         "domain": [
          0.7111111111111111,
          1
         ],
         "showticklabels": false,
         "visible": true
        },
        "xaxis4": {
         "anchor": "y4",
         "domain": [
          0,
          0.2888888888888889
         ],
         "showticklabels": false,
         "visible": true
        },
        "xaxis5": {
         "anchor": "y5",
         "domain": [
          0.35555555555555557,
          0.6444444444444445
         ],
         "showticklabels": false,
         "visible": true
        },
        "xaxis6": {
         "anchor": "y6",
         "domain": [
          0.7111111111111111,
          1
         ],
         "showticklabels": false,
         "visible": true
        },
        "xaxis7": {
         "anchor": "y7",
         "domain": [
          0,
          0.2888888888888889
         ],
         "linecolor": "black",
         "linewidth": 1,
         "showline": true,
         "showticklabels": false,
         "title": {
          "text": "Seldom"
         },
         "visible": true
        },
        "xaxis8": {
         "anchor": "y8",
         "domain": [
          0.35555555555555557,
          0.6444444444444445
         ],
         "linecolor": "black",
         "linewidth": 1,
         "showline": true,
         "showticklabels": false,
         "title": {
          "text": "Sometimes"
         },
         "visible": true
        },
        "xaxis9": {
         "anchor": "y9",
         "domain": [
          0.7111111111111111,
          1
         ],
         "linecolor": "black",
         "linewidth": 1,
         "showline": true,
         "showticklabels": false,
         "title": {
          "text": "Often"
         },
         "visible": true
        },
        "yaxis": {
         "anchor": "x",
         "domain": [
          0.7333333333333333,
          1
         ],
         "linecolor": "black",
         "linewidth": 1,
         "showline": true,
         "showticklabels": false,
         "title": {
          "text": "High"
         },
         "visible": true
        },
        "yaxis2": {
         "anchor": "x2",
         "domain": [
          0.7333333333333333,
          1
         ],
         "showticklabels": false,
         "visible": true
        },
        "yaxis3": {
         "anchor": "x3",
         "domain": [
          0.7333333333333333,
          1
         ],
         "showticklabels": false,
         "visible": true
        },
        "yaxis4": {
         "anchor": "x4",
         "domain": [
          0.36666666666666664,
          0.6333333333333333
         ],
         "linecolor": "black",
         "linewidth": 1,
         "showline": true,
         "showticklabels": false,
         "title": {
          "text": "Moderate"
         },
         "visible": true
        },
        "yaxis5": {
         "anchor": "x5",
         "domain": [
          0.36666666666666664,
          0.6333333333333333
         ],
         "showticklabels": false,
         "visible": true
        },
        "yaxis6": {
         "anchor": "x6",
         "domain": [
          0.36666666666666664,
          0.6333333333333333
         ],
         "showticklabels": false,
         "visible": true
        },
        "yaxis7": {
         "anchor": "x7",
         "domain": [
          0,
          0.26666666666666666
         ],
         "linecolor": "black",
         "linewidth": 1,
         "showline": true,
         "showticklabels": false,
         "title": {
          "text": "Low"
         },
         "visible": true
        },
        "yaxis8": {
         "anchor": "x8",
         "domain": [
          0,
          0.26666666666666666
         ],
         "showticklabels": false,
         "visible": true
        },
        "yaxis9": {
         "anchor": "x9",
         "domain": [
          0,
          0.26666666666666666
         ],
         "showticklabels": false,
         "visible": true
        }
       }
      }
     },
     "metadata": {}
    }
   ],
   "source": [
    "from plotly.subplots import make_subplots\n",
    "import random\n",
    "fig = make_subplots(rows=3, cols=3)\n",
    "\n",
    "    \n",
    "#zone 1\n",
    "fig.add_trace(go.Scatter(\n",
    "                x=p1_1['Item'],y=random.sample(range(10, 30), len(p1_1)),name='persona1',\n",
    "                marker_size=p1_1['Weight'],legendgroup='group1',\n",
    "                 ),row=3,col=1)\n",
    "\n",
    "fig.add_trace(go.Scatter(\n",
    "                x=p2_1['Item'],name='persona2',y=random.sample(range(10, 30), len(p2_1)),\n",
    "                marker_size=p2_1['Weight'],legendgroup='group2'),row=3,col=1)\n",
    "fig.add_trace(go.Scatter(\n",
    "                x=p3_1['Item'],name='persona3',y=random.sample(range(10, 30), len(p3_1)),\n",
    "                marker_size=p3_1['Weight'],legendgroup='group3'),row=3,col=1)\n",
    "fig.add_trace(go.Scatter(\n",
    "                x=p4_1['Item'],name='persona4',y=random.sample(range(10, 30), len(p4_1)),\n",
    "                marker_size=p4_1['Weight'],legendgroup='group4'),row=3,col=1)\n",
    "#zone 2\n",
    "\n",
    "fig.add_trace(go.Scatter(\n",
    "                x=p1_2['Item'],name='',legendgroup='group1',y=random.sample(range(10, 30), len(p1_2)),\n",
    "                marker_size=p1_2['Weight'],showlegend=False),row=3,col=2)\n",
    "fig.add_trace(go.Scatter(\n",
    "                x=p2_2['Item'],name='',y=random.sample(range(10, 30), len(p2_2)),\n",
    "                marker_size=p2_2['Weight'],legendgroup='group2',showlegend=False),row=3,col=2)\n",
    "fig.add_trace(go.Scatter(\n",
    "                x=p3_2['Item'],name='',y=random.sample(range(10, 30), len(p3_2)),\n",
    "                marker_size=p3_2['Weight'],legendgroup='group3',showlegend=False),row=3,col=2)\n",
    "fig.add_trace(go.Scatter(\n",
    "                x=p4_2['Item'],name='',y=random.sample(range(10, 30), len(p4_2)),\n",
    "                marker_size=p4_2['Weight'],legendgroup='group4',showlegend=False),row=3,col=2)\n",
    "#zone 3\n",
    "\n",
    "fig.add_trace(go.Scatter(\n",
    "                x=p1_3['Item'],name='',legendgroup='group1',y=random.sample(range(10, 30), len(p1_3)),\n",
    "                marker_size=p1_3['Weight'],showlegend=False),row=3,col=3)\n",
    "fig.add_trace(go.Scatter(\n",
    "                x=p2_3['Item'],name='persona2',y=random.sample(range(10, 30), len(p2_3)),\n",
    "                marker_size=p2_3['Weight'],legendgroup='group2',showlegend=False),row=3,col=3)\n",
    "fig.add_trace(go.Scatter(\n",
    "                x=p3_3['Item'],name='persona3',y=random.sample(range(10, 30), len(p3_3)),\n",
    "                marker_size=p3_3['Weight'],legendgroup='group3',showlegend=False),row=3,col=3)\n",
    "fig.add_trace(go.Scatter(\n",
    "                x=p4_3['Item'],name='persona4',y=random.sample(range(10, 30), len(p4_3)),\n",
    "                marker_size=p4_3['Weight'],legendgroup='group4',showlegend=False),row=3,col=3)\n",
    "#zone 4\n",
    "fig.add_trace(go.Scatter(\n",
    "                x=p1_4['Item'],name='',legendgroup='group1',y=random.sample(range(10, 30), len(p1_4)),\n",
    "                marker_size=p1_4['Weight'],showlegend=False),row=2,col=1)\n",
    "fig.add_trace(go.Scatter(\n",
    "                x=p2_4['Item'],name='',y=random.sample(range(10, 30), len(p2_4)),\n",
    "                marker_size=p2_4['Weight'],legendgroup='group2',showlegend=False),row=2,col=1)\n",
    "fig.add_trace(go.Scatter(\n",
    "                x=p3_4['Item'],name='',y=random.sample(range(10, 30), len(p3_4)),\n",
    "                marker_size=p3_4['Weight'],legendgroup='group3',showlegend=False),row=2,col=1)\n",
    "fig.add_trace(go.Scatter(\n",
    "                x=p4_4['Item'],name='',y=random.sample(range(10, 30), len(p4_4)),\n",
    "                marker_size=p4_4['Weight'],legendgroup='group4',showlegend=False),row=2,col=1)\n",
    "\n",
    "\n",
    "#zone 5\n",
    "\n",
    "fig.add_trace(go.Scatter(\n",
    "                x=p1_5['Item'],name='',legendgroup='group1',y=random.sample(range(10, 30), len(p1_5)),\n",
    "                marker_size=p1_5['Weight'],showlegend=False),row=2,col=2)\n",
    "fig.add_trace(go.Scatter(\n",
    "                x=p2_5['Item'],name='',y=random.sample(range(10, 30), len(p2_5)),\n",
    "                marker_size=p2_5['Weight'],legendgroup='group2',showlegend=False),row=2,col=2)\n",
    "fig.add_trace(go.Scatter(\n",
    "                x=p3_5['Item'],name='',y=random.sample(range(10, 30), len(p3_5)),\n",
    "                marker_size=p3_5['Weight'],legendgroup='group3',showlegend=False),row=2,col=2)\n",
    "fig.add_trace(go.Scatter(\n",
    "                x=p4_5['Item'],name='',y=random.sample(range(10, 30), len(p4_5)),\n",
    "                marker_size=p4_5['Weight'],legendgroup='group4',showlegend=False),row=2,col=2)\n",
    "\n",
    "#zone 6\n",
    "\n",
    "fig.add_trace(go.Scatter(\n",
    "                x=p1_6['Item'],name='',legendgroup='group1',y=random.sample(range(10, 30), len(p1_6)),\n",
    "                marker_size=p1_6['Weight'],showlegend=False),row=2,col=3)\n",
    "fig.add_trace(go.Scatter(\n",
    "                x=p2_6['Item'],name='',y=random.sample(range(10, 30), len(p2_6)),\n",
    "                marker_size=p2_6['Weight'],legendgroup='group2',showlegend=False),row=2,col=3)\n",
    "fig.add_trace(go.Scatter(\n",
    "                x=p3_6['Item'],name='',y=random.sample(range(10, 30), len(p3_6)),\n",
    "                marker_size=p3_6['Weight'],legendgroup='group3',showlegend=False),row=2,col=3)\n",
    "fig.add_trace(go.Scatter(\n",
    "                x=p4_6['Item'],name='',y=random.sample(range(10, 30), len(p4_6)),\n",
    "                marker_size=p4_6['Weight'],legendgroup='group4',showlegend=False),row=2,col=3)\n",
    "\n",
    "#zone 7\n",
    "\n",
    "fig.add_trace(go.Scatter(\n",
    "                x=p1_7['Item'],name='',legendgroup='group1',y=random.sample(range(10, 30), len(p1_7)),\n",
    "                marker_size=p1_7['Weight'],showlegend=False),row=1,col=1)\n",
    "fig.add_trace(go.Scatter(\n",
    "                x=p2_7['Item'],name='',y=random.sample(range(10, 30), len(p2_7)),\n",
    "                marker_size=p2_7['Weight'],legendgroup='group2',showlegend=False),row=1,col=1)\n",
    "fig.add_trace(go.Scatter(\n",
    "                x=p3_7['Item'],name='',y=random.sample(range(10, 30), len(p3_7)),\n",
    "                marker_size=p3_7['Weight'],legendgroup='group3',showlegend=False),row=1,col=1)\n",
    "fig.add_trace(go.Scatter(\n",
    "                x=p4_7['Item'],name='',y=random.sample(range(10, 30), len(p4_7)),\n",
    "                marker_size=p4_7['Weight'],legendgroup='group4',showlegend=False),row=1,col=1)\n",
    "#zone 8\n",
    "\n",
    "fig.add_trace(go.Scatter(\n",
    "                x=p1_8['Item'],name='',legendgroup='group1',y=random.sample(range(10, 30), len(p1_8)),\n",
    "                marker_size=p1_8['Weight'],showlegend=False),row=1,col=2)\n",
    "fig.add_trace(go.Scatter(\n",
    "                x=p2_8['Item'],name='',y=random.sample(range(10, 30), len(p2_8)),\n",
    "                marker_size=p2_8['Weight'],legendgroup='group2',showlegend=False),row=1,col=2)\n",
    "fig.add_trace(go.Scatter(\n",
    "                x=p3_8['Item'],name='',y=random.sample(range(10, 30), len(p3_8)),\n",
    "                marker_size=p3_8['Weight'],legendgroup='group3',showlegend=False),row=1,col=2)\n",
    "fig.add_trace(go.Scatter(\n",
    "                x=p4_8['Item'],name='',y=random.sample(range(10, 30), len(p4_8)),\n",
    "                marker_size=p4_8['Weight'],legendgroup='group4',showlegend=False),row=1,col=2)\n",
    "#zone 9\n",
    "\n",
    "fig.add_trace(go.Scatter(\n",
    "                x=p1_9['Item'],name='',legendgroup='group1',y=random.sample(range(10, 30), len(p1_9)),\n",
    "                marker_size=p1_9['Weight'],showlegend=False),row=1,col=1)\n",
    "fig.add_trace(go.Scatter(\n",
    "                x=p2_9['Item'],name='',y=random.sample(range(10, 30), len(p2_9)),\n",
    "                marker_size=p2_9['Weight'],legendgroup='group2',showlegend=False),row=1,col=3)\n",
    "fig.add_trace(go.Scatter(\n",
    "                x=p3_9['Item'],name='',y=random.sample(range(10, 30), len(p3_9)),\n",
    "                marker_size=p3_9['Weight'],legendgroup='group3',showlegend=False),row=1,col=3)\n",
    "fig.add_trace(go.Scatter(\n",
    "                x=p4_9['Item'],name='',y=random.sample(range(10, 30), len(p4_9)),\n",
    "                marker_size=p4_9['Weight'],legendgroup='group4',showlegend=False),row=1,col=3)\n",
    "\n",
    "sizeref =  2.*80/(100**2)\n",
    "\n",
    "fig.update_traces(mode='markers', marker=dict(sizemode='area',\n",
    "                                              sizeref=sizeref, line_width=2))\n",
    "fig.update_yaxes(visible=True, showticklabels=False)\n",
    "fig.update_xaxes(visible=True, showticklabels=False)\n",
    "# fig.update_xaxes(visible=True,showticklabels=False, row=3,col=1)\n",
    "# fig.update_yaxes(visible=True,showticklabels=False, row=3,col=1)\n",
    "fig['layout']['xaxis7']['title']='Seldom'\n",
    "fig['layout']['xaxis8']['title']='Sometimes'\n",
    "fig['layout']['xaxis9']['title']='Often'\n",
    "fig['layout']['yaxis1']['title']='High'\n",
    "fig['layout']['yaxis4']['title']='Moderate'\n",
    "fig['layout']['yaxis7']['title']='Low'\n",
    "fig.update_xaxes(showline=True, linewidth=1, linecolor='black', row=3, col=1)\n",
    "fig.update_yaxes(showline=True, linewidth=1, linecolor='black', row=1, col=1)\n",
    "fig.update_xaxes(showline=True, linewidth=1, linecolor='black', row=3, col=2)\n",
    "fig.update_yaxes(showline=True, linewidth=1, linecolor='black', row=2, col=1)\n",
    "fig.update_xaxes(showline=True, linewidth=1, linecolor='black', row=3, col=3)\n",
    "fig.update_yaxes(showline=True, linewidth=1, linecolor='black', row=3, col=1)\n",
    "\n",
    "fig.update_layout(\n",
    "    title='serverity and indensity',\n",
    "    paper_bgcolor='rgb(243, 243, 243)',\n",
    "    plot_bgcolor='rgb(243, 243, 243)',\n",
    ")\n",
    "\n",
    "fig.show()"
   ]
  },
  {
   "cell_type": "code",
   "execution_count": 44,
   "metadata": {},
   "outputs": [
    {
     "output_type": "execute_result",
     "data": {
      "text/plain": "'https://plotly.com/~zybrian/7/'"
     },
     "metadata": {},
     "execution_count": 44
    }
   ],
   "source": [
    "import chart_studio.plotly as py\n",
    "py.plot(fig, filename = 's&i', auto_open=True)"
   ]
  },
  {
   "cell_type": "code",
   "execution_count": null,
   "metadata": {},
   "outputs": [],
   "source": []
  }
 ],
 "metadata": {
  "language_info": {
   "codemirror_mode": {
    "name": "ipython",
    "version": 3
   },
   "file_extension": ".py",
   "mimetype": "text/x-python",
   "name": "python",
   "nbconvert_exporter": "python",
   "pygments_lexer": "ipython3",
   "version": "3.7.3-final"
  },
  "orig_nbformat": 2,
  "kernelspec": {
   "name": "python37364bita13d4472b3174e4494b7a431ae9018a6",
   "display_name": "Python 3.7.3 64-bit"
  }
 },
 "nbformat": 4,
 "nbformat_minor": 2
}