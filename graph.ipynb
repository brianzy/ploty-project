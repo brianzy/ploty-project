{
 "cells": [
  {
   "cell_type": "code",
   "execution_count": 176,
   "metadata": {
    "tags": []
   },
   "outputs": [],
   "source": [
    "import pandas as pd\n",
    "import plotly.express as px\n",
    "import chart_studio.plotly as py\n",
    "import plotly.graph_objects as go\n",
    "from plotly.subplots import make_subplots\n"
   ]
  },
  {
   "cell_type": "code",
   "execution_count": 177,
   "metadata": {
    "tags": []
   },
   "outputs": [],
   "source": [
    "import chart_studio\n",
    "username = 'zybrian' # your username\n",
    "api_key = 'X8A90k8Ev8kNzTppv3Dt' # your api key - go to profile > settings > regenerate key\n",
    "chart_studio.tools.set_credentials_file(username=username, api_key=api_key)\n"
   ]
  },
  {
   "cell_type": "code",
   "execution_count": 275,
   "metadata": {
    "tags": []
   },
   "outputs": [
    {
     "output_type": "execute_result",
     "data": {
      "text/plain": "{'Presentations':    Presentations  weight              x  \\\n 0            0.0       1  Presentations   \n 1            0.3       2  Presentations   \n 2            0.5       2  Presentations   \n 3            0.8       1  Presentations   \n 4            1.0       3  Presentations   \n 5            1.5       3  Presentations   \n 6            2.0       4  Presentations   \n 7            2.5       3  Presentations   \n 8            3.0       2  Presentations   \n 9            3.5       1  Presentations   \n \n                                                hover  \n 0  Stress:Presentations<br>Stress level:0.0<br>We...  \n 1  Stress:Presentations<br>Stress level:0.3<br>We...  \n 2  Stress:Presentations<br>Stress level:0.5<br>We...  \n 3  Stress:Presentations<br>Stress level:0.8<br>We...  \n 4  Stress:Presentations<br>Stress level:1.0<br>We...  \n 5  Stress:Presentations<br>Stress level:1.5<br>We...  \n 6  Stress:Presentations<br>Stress level:2.0<br>We...  \n 7  Stress:Presentations<br>Stress level:2.5<br>We...  \n 8  Stress:Presentations<br>Stress level:3.0<br>We...  \n 9  Stress:Presentations<br>Stress level:3.5<br>We...  ,\n 'Homework':     Homework  weight         x  \\\n 0        0.5       3  Homework   \n 1        0.8       1  Homework   \n 2        1.0       5  Homework   \n 3        1.2       3  Homework   \n 4        1.5       2  Homework   \n 5        1.7       2  Homework   \n 6        2.0       4  Homework   \n 7        2.2       3  Homework   \n 8        2.5       1  Homework   \n 9        2.8       1  Homework   \n 10       4.0       1  Homework   \n \n                                               hover  \n 0   Stress:Homework<br>Stress level:0.5<br>Weight:3  \n 1   Stress:Homework<br>Stress level:0.8<br>Weight:1  \n 2   Stress:Homework<br>Stress level:1.0<br>Weight:5  \n 3   Stress:Homework<br>Stress level:1.2<br>Weight:3  \n 4   Stress:Homework<br>Stress level:1.5<br>Weight:2  \n 5   Stress:Homework<br>Stress level:1.7<br>Weight:2  \n 6   Stress:Homework<br>Stress level:2.0<br>Weight:4  \n 7   Stress:Homework<br>Stress level:2.2<br>Weight:3  \n 8   Stress:Homework<br>Stress level:2.5<br>Weight:1  \n 9   Stress:Homework<br>Stress level:2.8<br>Weight:1  \n 10  Stress:Homework<br>Stress level:4.0<br>Weight:1  ,\n 'Projects':    Projects  weight         x                                            hover\n 0       0.2       1  Projects  Stress:Projects<br>Stress level:0.2<br>Weight:1\n 1       0.8       2  Projects  Stress:Projects<br>Stress level:0.8<br>Weight:2\n 2       1.0       5  Projects  Stress:Projects<br>Stress level:1.0<br>Weight:5\n 3       1.5       4  Projects  Stress:Projects<br>Stress level:1.5<br>Weight:4\n 4       1.7       2  Projects  Stress:Projects<br>Stress level:1.7<br>Weight:2\n 5       2.0       3  Projects  Stress:Projects<br>Stress level:2.0<br>Weight:3\n 6       2.5       1  Projects  Stress:Projects<br>Stress level:2.5<br>Weight:1\n 7       3.0       5  Projects  Stress:Projects<br>Stress level:3.0<br>Weight:5\n 8       3.7       2  Projects  Stress:Projects<br>Stress level:3.7<br>Weight:2\n 9       4.0       1  Projects  Stress:Projects<br>Stress level:4.0<br>Weight:1,\n 'Quizes':    Quizes  weight       x                                          hover\n 0     0.5       2  Quizes  Stress:Quizes<br>Stress level:0.5<br>Weight:2\n 1     1.0       7  Quizes  Stress:Quizes<br>Stress level:1.0<br>Weight:7\n 2     1.5       3  Quizes  Stress:Quizes<br>Stress level:1.5<br>Weight:3\n 3     1.8       2  Quizes  Stress:Quizes<br>Stress level:1.8<br>Weight:2\n 4     2.0       5  Quizes  Stress:Quizes<br>Stress level:2.0<br>Weight:5\n 5     2.2       1  Quizes  Stress:Quizes<br>Stress level:2.2<br>Weight:1\n 6     2.5       4  Quizes  Stress:Quizes<br>Stress level:2.5<br>Weight:4\n 7     3.0       2  Quizes  Stress:Quizes<br>Stress level:3.0<br>Weight:2,\n 'Midterm/Finals':    Midterm/Finals  weight               x  \\\n 0             0.5       1  Midterm/Finals   \n 1             1.5       1  Midterm/Finals   \n 2             2.5       3  Midterm/Finals   \n 3             2.8       1  Midterm/Finals   \n 4             3.0       9  Midterm/Finals   \n 5             3.5       2  Midterm/Finals   \n 6             3.8       2  Midterm/Finals   \n 7             4.0       7  Midterm/Finals   \n \n                                                hover  \n 0  Stress:Midterm/Finals<br>Stress level:0.5<br>W...  \n 1  Stress:Midterm/Finals<br>Stress level:1.5<br>W...  \n 2  Stress:Midterm/Finals<br>Stress level:2.5<br>W...  \n 3  Stress:Midterm/Finals<br>Stress level:2.8<br>W...  \n 4  Stress:Midterm/Finals<br>Stress level:3.0<br>W...  \n 5  Stress:Midterm/Finals<br>Stress level:3.5<br>W...  \n 6  Stress:Midterm/Finals<br>Stress level:3.8<br>W...  \n 7  Stress:Midterm/Finals<br>Stress level:4.0<br>W...  }"
     },
     "metadata": {},
     "execution_count": 275
    }
   ],
   "source": [
    "# df = pd.read_csv('./data/data.csv')\n",
    "# #df=df.fillna(0)\n",
    "# stress = ['Presentations','Homework','Projects','Quizes','Midterm/Finals']\n",
    "# #print(df.iloc[:,(df.columns.get_loc('Homework')+1)].dropna())\n",
    "# stress_final = {item: pd.concat([df[[item]].dropna(),df.iloc[:,(df.columns.get_loc(item)+1)].dropna()], axis=1) for item in stress}\n",
    "\n",
    "# for stress,data in stress_final.items():\n",
    "#     hover_text=[]\n",
    "#     data.columns=[stress,'weight']\n",
    "#     data['weight'] = data['weight'].astype(int)\n",
    "#     data['x']=stress\n",
    "#     for index, row in data.iterrows():\n",
    "#         hover_text.append(('Stress:{stress}<br>'+\n",
    "#         'Stress level:{level}<br>'+\n",
    "#         'Weight:{weight}').format(stress=stress,\n",
    "#         level=row[stress],\n",
    "#         weight=row['weight']))\n",
    "#     data['hover']=hover_text\n",
    "\n",
    "\n",
    "\n",
    "# stress_final"
   ]
  },
  {
   "cell_type": "code",
   "execution_count": 178,
   "metadata": {
    "tags": [
     "outputPrepend"
    ]
   },
   "outputs": [
    {
     "output_type": "stream",
     "name": "stdout",
     "text": "    Group Projects*   \n101    3.5       2  &lt;b&gt;Type I&lt;/b&gt;&lt;br&gt;High Stress&lt;br&gt;      Group Projects*   \n90     0.2       1  &lt;b&gt;Type I&lt;/b&gt;&lt;br&gt;High Stress&lt;br&gt;          Classmates*   \n91     3.2       1  &lt;b&gt;Type I&lt;/b&gt;&lt;br&gt;High Stress&lt;br&gt;          Classmates*   \n96     0.0       0  &lt;b&gt;Type I&lt;/b&gt;&lt;br&gt;High Stress&lt;br&gt;                Labs*   \n95     0.3       1  &lt;b&gt;Type I&lt;/b&gt;&lt;br&gt;High Stress&lt;br&gt;      Online Classes*   \n85     0.2       1  &lt;b&gt;Type I&lt;/b&gt;&lt;br&gt;High Stress&lt;br&gt;             Parents*   \n86     2.5       1  &lt;b&gt;Type I&lt;/b&gt;&lt;br&gt;High Stress&lt;br&gt;             Parents*   \n105    0.0       0  &lt;b&gt;Type I&lt;/b&gt;&lt;br&gt;High Stress&lt;br&gt;  Talking to Teacher*   \n\n                                                 hover  \n0    Presentations&lt;br&gt;1 vote from &lt;b&gt;Type I&lt;/b&gt;&lt;br&gt;...  \n1    Presentations&lt;br&gt;2 vote from &lt;b&gt;Type I&lt;/b&gt;&lt;br&gt;...  \n2    Presentations&lt;br&gt;1 vote from &lt;b&gt;Type I&lt;/b&gt;&lt;br&gt;...  \n3    Presentations&lt;br&gt;1 vote from &lt;b&gt;Type I&lt;/b&gt;&lt;br&gt;...  \n16   Homework&lt;br&gt;1 vote from &lt;b&gt;Type I&lt;/b&gt;&lt;br&gt;High ...  \n17   Homework&lt;br&gt;1 vote from &lt;b&gt;Type I&lt;/b&gt;&lt;br&gt;High ...  \n18   Homework&lt;br&gt;2 vote from &lt;b&gt;Type I&lt;/b&gt;&lt;br&gt;High ...  \n19   Homework&lt;br&gt;1 vote from &lt;b&gt;Type I&lt;/b&gt;&lt;br&gt;High ...  \n33   Projects&lt;br&gt;1 vote from &lt;b&gt;Type I&lt;/b&gt;&lt;br&gt;High ...  \n34   Projects&lt;br&gt;3 vote from &lt;b&gt;Type I&lt;/b&gt;&lt;br&gt;High ...  \n35   Projects&lt;br&gt;1 vote from &lt;b&gt;Type I&lt;/b&gt;&lt;br&gt;High ...  \n36   Projects&lt;br&gt;0 vote from &lt;b&gt;Type I&lt;/b&gt;&lt;br&gt;High ...  \n53   Quizes&lt;br&gt;1 vote from &lt;b&gt;Type I&lt;/b&gt;&lt;br&gt;High St...  \n52   Quizes&lt;br&gt;1 vote from &lt;b&gt;Type I&lt;/b&gt;&lt;br&gt;High St...  \n50   Quizes&lt;br&gt;2 vote from &lt;b&gt;Type I&lt;/b&gt;&lt;br&gt;High St...  \n51   Quizes&lt;br&gt;1 vote from &lt;b&gt;Type I&lt;/b&gt;&lt;br&gt;High St...  \n66   Midterm/Finals&lt;br&gt;1 vote from &lt;b&gt;Type I&lt;/b&gt;&lt;br...  \n67   Midterm/Finals&lt;br&gt;1 vote from &lt;b&gt;Type I&lt;/b&gt;&lt;br...  \n68   Midterm/Finals&lt;br&gt;2 vote from &lt;b&gt;Type I&lt;/b&gt;&lt;br...  \n69   Midterm/Finals&lt;br&gt;1 vote from &lt;b&gt;Type I&lt;/b&gt;&lt;br...  \n102  Group Projects*&lt;br&gt;1 vote from &lt;b&gt;Type I&lt;/b&gt;&lt;b...  \n101  Group Projects*&lt;br&gt;2 vote from &lt;b&gt;Type I&lt;/b&gt;&lt;b...  \n90   Classmates*&lt;br&gt;1 vote from &lt;b&gt;Type I&lt;/b&gt;&lt;br&gt;Hi...  \n91   Classmates*&lt;br&gt;1 vote from &lt;b&gt;Type I&lt;/b&gt;&lt;br&gt;Hi...  \n96   Labs*&lt;br&gt;0 vote from &lt;b&gt;Type I&lt;/b&gt;&lt;br&gt;High Str...  \n95   Online Classes*&lt;br&gt;1 vote from &lt;b&gt;Type I&lt;/b&gt;&lt;b...  \n85   Parents*&lt;br&gt;1 vote from &lt;b&gt;Type I&lt;/b&gt;&lt;br&gt;High ...  \n86   Parents*&lt;br&gt;1 vote from &lt;b&gt;Type I&lt;/b&gt;&lt;br&gt;High ...  \n105  Talking to Teacher*&lt;br&gt;0 vote from &lt;b&gt;Type I&lt;/...  , &#39;&lt;b&gt;Type II&lt;/b&gt;&lt;br&gt;Early Peak&lt;br&gt;&#39;:      Level  weight                           persona                    x  \\\n4      0.5       1  &lt;b&gt;Type II&lt;/b&gt;&lt;br&gt;Early Peak&lt;br&gt;        Presentations   \n5      1.5       1  &lt;b&gt;Type II&lt;/b&gt;&lt;br&gt;Early Peak&lt;br&gt;        Presentations   \n6      2.5       2  &lt;b&gt;Type II&lt;/b&gt;&lt;br&gt;Early Peak&lt;br&gt;        Presentations   \n7      3.0       1  &lt;b&gt;Type II&lt;/b&gt;&lt;br&gt;Early Peak&lt;br&gt;        Presentations   \n20     0.5       1  &lt;b&gt;Type II&lt;/b&gt;&lt;br&gt;Early Peak&lt;br&gt;             Homework   \n21     1.0       1  &lt;b&gt;Type II&lt;/b&gt;&lt;br&gt;Early Peak&lt;br&gt;             Homework   \n22     1.2       1  &lt;b&gt;Type II&lt;/b&gt;&lt;br&gt;Early Peak&lt;br&gt;             Homework   \n23     2.2       2  &lt;b&gt;Type II&lt;/b&gt;&lt;br&gt;Early Peak&lt;br&gt;             Homework   \n37     1.0       3  &lt;b&gt;Type II&lt;/b&gt;&lt;br&gt;Early Peak&lt;br&gt;             Projects   \n38     1.5       1  &lt;b&gt;Type II&lt;/b&gt;&lt;br&gt;Early Peak&lt;br&gt;             Projects   \n39     3.0       1  &lt;b&gt;Type II&lt;/b&gt;&lt;br&gt;Early Peak&lt;br&gt;             Projects   \n58     3.0       1  &lt;b&gt;Type II&lt;/b&gt;&lt;br&gt;Early Peak&lt;br&gt;               Quizes   \n57     2.5       1  &lt;b&gt;Type II&lt;/b&gt;&lt;br&gt;Early Peak&lt;br&gt;               Quizes   \n54     1.0       1  &lt;b&gt;Type II&lt;/b&gt;&lt;br&gt;Early Peak&lt;br&gt;               Quizes   \n55     1.8       1  &lt;b&gt;Type II&lt;/b&gt;&lt;br&gt;Early Peak&lt;br&gt;               Quizes   \n56     2.0       1  &lt;b&gt;Type II&lt;/b&gt;&lt;br&gt;Early Peak&lt;br&gt;               Quizes   \n70     3.0       2  &lt;b&gt;Type II&lt;/b&gt;&lt;br&gt;Early Peak&lt;br&gt;       Midterm/Finals   \n71     4.0       3  &lt;b&gt;Type II&lt;/b&gt;&lt;br&gt;Early Peak&lt;br&gt;       Midterm/Finals   \n100    3.5       1  &lt;b&gt;Type II&lt;/b&gt;&lt;br&gt;Early Peak&lt;br&gt;      Group Projects*   \n87     0.0       0  &lt;b&gt;Type II&lt;/b&gt;&lt;br&gt;Early Peak&lt;br&gt;          Classmates*   \n99     1.0       1  &lt;b&gt;Type II&lt;/b&gt;&lt;br&gt;Early Peak&lt;br&gt;                Labs*   \n93     0.0       0  &lt;b&gt;Type II&lt;/b&gt;&lt;br&gt;Early Peak&lt;br&gt;      Online Classes*   \n82     0.0       0  &lt;b&gt;Type II&lt;/b&gt;&lt;br&gt;Early Peak&lt;br&gt;             Parents*   \n106    0.0       0  &lt;b&gt;Type II&lt;/b&gt;&lt;br&gt;Early Peak&lt;br&gt;  Talking to Teacher*   \n\n                                                 hover  \n4    Presentations&lt;br&gt;1 vote from &lt;b&gt;Type II&lt;/b&gt;&lt;br...  \n5    Presentations&lt;br&gt;1 vote from &lt;b&gt;Type II&lt;/b&gt;&lt;br...  \n6    Presentations&lt;br&gt;2 vote from &lt;b&gt;Type II&lt;/b&gt;&lt;br...  \n7    Presentations&lt;br&gt;1 vote from &lt;b&gt;Type II&lt;/b&gt;&lt;br...  \n20   Homework&lt;br&gt;1 vote from &lt;b&gt;Type II&lt;/b&gt;&lt;br&gt;Earl...  \n21   Homework&lt;br&gt;1 vote from &lt;b&gt;Type II&lt;/b&gt;&lt;br&gt;Earl...  \n22   Homework&lt;br&gt;1 vote from &lt;b&gt;Type II&lt;/b&gt;&lt;br&gt;Earl...  \n23   Homework&lt;br&gt;2 vote from &lt;b&gt;Type II&lt;/b&gt;&lt;br&gt;Earl...  \n37   Projects&lt;br&gt;3 vote from &lt;b&gt;Type II&lt;/b&gt;&lt;br&gt;Earl...  \n38   Projects&lt;br&gt;1 vote from &lt;b&gt;Type II&lt;/b&gt;&lt;br&gt;Earl...  \n39   Projects&lt;br&gt;1 vote from &lt;b&gt;Type II&lt;/b&gt;&lt;br&gt;Earl...  \n58   Quizes&lt;br&gt;1 vote from &lt;b&gt;Type II&lt;/b&gt;&lt;br&gt;Early ...  \n57   Quizes&lt;br&gt;1 vote from &lt;b&gt;Type II&lt;/b&gt;&lt;br&gt;Early ...  \n54   Quizes&lt;br&gt;1 vote from &lt;b&gt;Type II&lt;/b&gt;&lt;br&gt;Early ...  \n55   Quizes&lt;br&gt;1 vote from &lt;b&gt;Type II&lt;/b&gt;&lt;br&gt;Early ...  \n56   Quizes&lt;br&gt;1 vote from &lt;b&gt;Type II&lt;/b&gt;&lt;br&gt;Early ...  \n70   Midterm/Finals&lt;br&gt;2 vote from &lt;b&gt;Type II&lt;/b&gt;&lt;b...  \n71   Midterm/Finals&lt;br&gt;3 vote from &lt;b&gt;Type II&lt;/b&gt;&lt;b...  \n100  Group Projects*&lt;br&gt;1 vote from &lt;b&gt;Type II&lt;/b&gt;&lt;...  \n87   Classmates*&lt;br&gt;0 vote from &lt;b&gt;Type II&lt;/b&gt;&lt;br&gt;E...  \n99   Labs*&lt;br&gt;1 vote from &lt;b&gt;Type II&lt;/b&gt;&lt;br&gt;Early P...  \n93   Online Classes*&lt;br&gt;0 vote from &lt;b&gt;Type II&lt;/b&gt;&lt;...  \n82   Parents*&lt;br&gt;0 vote from &lt;b&gt;Type II&lt;/b&gt;&lt;br&gt;Earl...  \n106  Talking to Teacher*&lt;br&gt;0 vote from &lt;b&gt;Type II&lt;...  , &#39;&lt;b&gt;Type III&lt;/b&gt;&lt;br&gt;Late Peak&lt;br&gt;&#39;:      Level  weight                           persona                    x  \\\n8      0.3       2  &lt;b&gt;Type III&lt;/b&gt;&lt;br&gt;Late Peak&lt;br&gt;        Presentations   \n9      1.5       1  &lt;b&gt;Type III&lt;/b&gt;&lt;br&gt;Late Peak&lt;br&gt;        Presentations   \n10     2.0       3  &lt;b&gt;Type III&lt;/b&gt;&lt;br&gt;Late Peak&lt;br&gt;        Presentations   \n24     0.5       1  &lt;b&gt;Type III&lt;/b&gt;&lt;br&gt;Late Peak&lt;br&gt;             Homework   \n25     1.0       2  &lt;b&gt;Type III&lt;/b&gt;&lt;br&gt;Late Peak&lt;br&gt;             Homework   \n26     1.2       1  &lt;b&gt;Type III&lt;/b&gt;&lt;br&gt;Late Peak&lt;br&gt;             Homework   \n27     2.0       3  &lt;b&gt;Type III&lt;/b&gt;&lt;br&gt;Late Peak&lt;br&gt;             Homework   \n40     0.8       1  &lt;b&gt;Type III&lt;/b&gt;&lt;br&gt;Late Peak&lt;br&gt;             Projects   \n41     1.0       1  &lt;b&gt;Type III&lt;/b&gt;&lt;br&gt;Late Peak&lt;br&gt;             Projects   \n42     1.7       1  &lt;b&gt;Type III&lt;/b&gt;&lt;br&gt;Late Peak&lt;br&gt;             Projects   \n43     3.0       2  &lt;b&gt;Type III&lt;/b&gt;&lt;br&gt;Late Peak&lt;br&gt;             Projects   \n44     3.7       2  &lt;b&gt;Type III&lt;/b&gt;&lt;br&gt;Late Peak&lt;br&gt;             Projects   \n62     2.0       1  &lt;b&gt;Type III&lt;/b&gt;&lt;br&gt;Late Peak&lt;br&gt;               Quizes   \n61     1.8       1  &lt;b&gt;Type III&lt;/b&gt;&lt;br&gt;Late Peak&lt;br&gt;               Quizes   \n60     1.5       2  &lt;b&gt;Type III&lt;/b&gt;&lt;br&gt;Late Peak&lt;br&gt;               Quizes   \n59     1.0       3  &lt;b&gt;Type III&lt;/b&gt;&lt;br&gt;Late Peak&lt;br&gt;               Quizes   \n72     2.5       1  &lt;b&gt;Type III&lt;/b&gt;&lt;br&gt;Late Peak&lt;br&gt;       Midterm/Finals   \n73     2.8       1  &lt;b&gt;Type III&lt;/b&gt;&lt;br&gt;Late Peak&lt;br&gt;       Midterm/Finals   \n74     3.0       2  &lt;b&gt;Type III&lt;/b&gt;&lt;br&gt;Late Peak&lt;br&gt;       Midterm/Finals   \n75     3.5       1  &lt;b&gt;Type III&lt;/b&gt;&lt;br&gt;Late Peak&lt;br&gt;       Midterm/Finals   \n76     3.8       1  &lt;b&gt;Type III&lt;/b&gt;&lt;br&gt;Late Peak&lt;br&gt;       Midterm/Finals   \n77     4.0       1  &lt;b&gt;Type III&lt;/b&gt;&lt;br&gt;Late Peak&lt;br&gt;       Midterm/Finals   \n104    1.0       1  &lt;b&gt;Type III&lt;/b&gt;&lt;br&gt;Late Peak&lt;br&gt;      Group Projects*   \n88     0.0       0  &lt;b&gt;Type III&lt;/b&gt;&lt;br&gt;Late Peak&lt;br&gt;          Classmates*   \n98     0.0       0  &lt;b&gt;Type III&lt;/b&gt;&lt;br&gt;Late Peak&lt;br&gt;                Labs*   \n92     0.0       0  &lt;b&gt;Type III&lt;/b&gt;&lt;br&gt;Late Peak&lt;br&gt;      Online Classes*   \n83     0.0       0  &lt;b&gt;Type III&lt;/b&gt;&lt;br&gt;Late Peak&lt;br&gt;             Parents*   \n108    3.0       1  &lt;b&gt;Type III&lt;/b&gt;&lt;br&gt;Late Peak&lt;br&gt;  Talking to Teacher*   \n\n                                                 hover  \n8    Presentations&lt;br&gt;2 vote from &lt;b&gt;Type III&lt;/b&gt;&lt;b...  \n9    Presentations&lt;br&gt;1 vote from &lt;b&gt;Type III&lt;/b&gt;&lt;b...  \n10   Presentations&lt;br&gt;3 vote from &lt;b&gt;Type III&lt;/b&gt;&lt;b...  \n24   Homework&lt;br&gt;1 vote from &lt;b&gt;Type III&lt;/b&gt;&lt;br&gt;Lat...  \n25   Homework&lt;br&gt;2 vote from &lt;b&gt;Type III&lt;/b&gt;&lt;br&gt;Lat...  \n26   Homework&lt;br&gt;1 vote from &lt;b&gt;Type III&lt;/b&gt;&lt;br&gt;Lat...  \n27   Homework&lt;br&gt;3 vote from &lt;b&gt;Type III&lt;/b&gt;&lt;br&gt;Lat...  \n40   Projects&lt;br&gt;1 vote from &lt;b&gt;Type III&lt;/b&gt;&lt;br&gt;Lat...  \n41   Projects&lt;br&gt;1 vote from &lt;b&gt;Type III&lt;/b&gt;&lt;br&gt;Lat...  \n42   Projects&lt;br&gt;1 vote from &lt;b&gt;Type III&lt;/b&gt;&lt;br&gt;Lat...  \n43   Projects&lt;br&gt;2 vote from &lt;b&gt;Type III&lt;/b&gt;&lt;br&gt;Lat...  \n44   Projects&lt;br&gt;2 vote from &lt;b&gt;Type III&lt;/b&gt;&lt;br&gt;Lat...  \n62   Quizes&lt;br&gt;1 vote from &lt;b&gt;Type III&lt;/b&gt;&lt;br&gt;Late ...  \n61   Quizes&lt;br&gt;1 vote from &lt;b&gt;Type III&lt;/b&gt;&lt;br&gt;Late ...  \n60   Quizes&lt;br&gt;2 vote from &lt;b&gt;Type III&lt;/b&gt;&lt;br&gt;Late ...  \n59   Quizes&lt;br&gt;3 vote from &lt;b&gt;Type III&lt;/b&gt;&lt;br&gt;Late ...  \n72   Midterm/Finals&lt;br&gt;1 vote from &lt;b&gt;Type III&lt;/b&gt;&lt;...  \n73   Midterm/Finals&lt;br&gt;1 vote from &lt;b&gt;Type III&lt;/b&gt;&lt;...  \n74   Midterm/Finals&lt;br&gt;2 vote from &lt;b&gt;Type III&lt;/b&gt;&lt;...  \n75   Midterm/Finals&lt;br&gt;1 vote from &lt;b&gt;Type III&lt;/b&gt;&lt;...  \n76   Midterm/Finals&lt;br&gt;1 vote from &lt;b&gt;Type III&lt;/b&gt;&lt;...  \n77   Midterm/Finals&lt;br&gt;1 vote from &lt;b&gt;Type III&lt;/b&gt;&lt;...  \n104  Group Projects*&lt;br&gt;1 vote from &lt;b&gt;Type III&lt;/b&gt;...  \n88   Classmates*&lt;br&gt;0 vote from &lt;b&gt;Type III&lt;/b&gt;&lt;br&gt;...  \n98   Labs*&lt;br&gt;0 vote from &lt;b&gt;Type III&lt;/b&gt;&lt;br&gt;Late P...  \n92   Online Classes*&lt;br&gt;0 vote from &lt;b&gt;Type III&lt;/b&gt;...  \n83   Parents*&lt;br&gt;0 vote from &lt;b&gt;Type III&lt;/b&gt;&lt;br&gt;Lat...  \n108  Talking to Teacher*&lt;br&gt;1 vote from &lt;b&gt;Type III...  , &#39;&lt;b&gt;Type IV&lt;/b&gt;&lt;br&gt;Low Stress&lt;br&gt;&#39;:      Level  weight                           persona                    x  \\\n11     0.0       1  &lt;b&gt;Type IV&lt;/b&gt;&lt;br&gt;Low Stress&lt;br&gt;        Presentations   \n12     0.5       1  &lt;b&gt;Type IV&lt;/b&gt;&lt;br&gt;Low Stress&lt;br&gt;        Presentations   \n13     1.0       1  &lt;b&gt;Type IV&lt;/b&gt;&lt;br&gt;Low Stress&lt;br&gt;        Presentations   \n14     2.0       1  &lt;b&gt;Type IV&lt;/b&gt;&lt;br&gt;Low Stress&lt;br&gt;        Presentations   \n15     3.5       1  &lt;b&gt;Type IV&lt;/b&gt;&lt;br&gt;Low Stress&lt;br&gt;        Presentations   \n28     1.0       1  &lt;b&gt;Type IV&lt;/b&gt;&lt;br&gt;Low Stress&lt;br&gt;             Homework   \n29     1.5       1  &lt;b&gt;Type IV&lt;/b&gt;&lt;br&gt;Low Stress&lt;br&gt;             Homework   \n30     1.7       1  &lt;b&gt;Type IV&lt;/b&gt;&lt;br&gt;Low Stress&lt;br&gt;             Homework   \n31     2.0       1  &lt;b&gt;Type IV&lt;/b&gt;&lt;br&gt;Low Stress&lt;br&gt;             Homework   \n32     4.0       1  &lt;b&gt;Type IV&lt;/b&gt;&lt;br&gt;Low Stress&lt;br&gt;             Homework   \n49     4.0       1  &lt;b&gt;Type IV&lt;/b&gt;&lt;br&gt;Low Stress&lt;br&gt;             Projects   \n47     2.5       1  &lt;b&gt;Type IV&lt;/b&gt;&lt;br&gt;Low Stress&lt;br&gt;             Projects   \n48     3.0       1  &lt;b&gt;Type IV&lt;/b&gt;&lt;br&gt;Low Stress&lt;br&gt;             Projects   \n45     1.7       1  &lt;b&gt;Type IV&lt;/b&gt;&lt;br&gt;Low Stress&lt;br&gt;             Projects   \n46     2.0       1  &lt;b&gt;Type IV&lt;/b&gt;&lt;br&gt;Low Stress&lt;br&gt;             Projects   \n63     0.5       1  &lt;b&gt;Type IV&lt;/b&gt;&lt;br&gt;Low Stress&lt;br&gt;               Quizes   \n64     2.0       2  &lt;b&gt;Type IV&lt;/b&gt;&lt;br&gt;Low Stress&lt;br&gt;               Quizes   \n65     2.5       2  &lt;b&gt;Type IV&lt;/b&gt;&lt;br&gt;Low Stress&lt;br&gt;               Quizes   \n78     2.5       1  &lt;b&gt;Type IV&lt;/b&gt;&lt;br&gt;Low Stress&lt;br&gt;       Midterm/Finals   \n79     3.0       1  &lt;b&gt;Type IV&lt;/b&gt;&lt;br&gt;Low Stress&lt;br&gt;       Midterm/Finals   \n80     3.8       1  &lt;b&gt;Type IV&lt;/b&gt;&lt;br&gt;Low Stress&lt;br&gt;       Midterm/Finals   \n81     4.0       2  &lt;b&gt;Type IV&lt;/b&gt;&lt;br&gt;Low Stress&lt;br&gt;       Midterm/Finals   \n103    2.5       1  &lt;b&gt;Type IV&lt;/b&gt;&lt;br&gt;Low Stress&lt;br&gt;      Group Projects*   \n89     0.2       1  &lt;b&gt;Type IV&lt;/b&gt;&lt;br&gt;Low Stress&lt;br&gt;          Classmates*   \n97     2.0       1  &lt;b&gt;Type IV&lt;/b&gt;&lt;br&gt;Low Stress&lt;br&gt;                Labs*   \n94     1.8       1  &lt;b&gt;Type IV&lt;/b&gt;&lt;br&gt;Low Stress&lt;br&gt;      Online Classes*   \n84     0.0       0  &lt;b&gt;Type IV&lt;/b&gt;&lt;br&gt;Low Stress&lt;br&gt;             Parents*   \n107    0.0       0  &lt;b&gt;Type IV&lt;/b&gt;&lt;br&gt;Low Stress&lt;br&gt;  Talking to Teacher*   \n\n                                                 hover  \n11   Presentations&lt;br&gt;1 vote from &lt;b&gt;Type IV&lt;/b&gt;&lt;br...  \n12   Presentations&lt;br&gt;1 vote from &lt;b&gt;Type IV&lt;/b&gt;&lt;br...  \n13   Presentations&lt;br&gt;1 vote from &lt;b&gt;Type IV&lt;/b&gt;&lt;br...  \n14   Presentations&lt;br&gt;1 vote from &lt;b&gt;Type IV&lt;/b&gt;&lt;br...  \n15   Presentations&lt;br&gt;1 vote from &lt;b&gt;Type IV&lt;/b&gt;&lt;br...  \n28   Homework&lt;br&gt;1 vote from &lt;b&gt;Type IV&lt;/b&gt;&lt;br&gt;Low ...  \n29   Homework&lt;br&gt;1 vote from &lt;b&gt;Type IV&lt;/b&gt;&lt;br&gt;Low ...  \n30   Homework&lt;br&gt;1 vote from &lt;b&gt;Type IV&lt;/b&gt;&lt;br&gt;Low ...  \n31   Homework&lt;br&gt;1 vote from &lt;b&gt;Type IV&lt;/b&gt;&lt;br&gt;Low ...  \n32   Homework&lt;br&gt;1 vote from &lt;b&gt;Type IV&lt;/b&gt;&lt;br&gt;Low ...  \n49   Projects&lt;br&gt;1 vote from &lt;b&gt;Type IV&lt;/b&gt;&lt;br&gt;Low ...  \n47   Projects&lt;br&gt;1 vote from &lt;b&gt;Type IV&lt;/b&gt;&lt;br&gt;Low ...  \n48   Projects&lt;br&gt;1 vote from &lt;b&gt;Type IV&lt;/b&gt;&lt;br&gt;Low ...  \n45   Projects&lt;br&gt;1 vote from &lt;b&gt;Type IV&lt;/b&gt;&lt;br&gt;Low ...  \n46   Projects&lt;br&gt;1 vote from &lt;b&gt;Type IV&lt;/b&gt;&lt;br&gt;Low ...  \n63   Quizes&lt;br&gt;1 vote from &lt;b&gt;Type IV&lt;/b&gt;&lt;br&gt;Low St...  \n64   Quizes&lt;br&gt;2 vote from &lt;b&gt;Type IV&lt;/b&gt;&lt;br&gt;Low St...  \n65   Quizes&lt;br&gt;2 vote from &lt;b&gt;Type IV&lt;/b&gt;&lt;br&gt;Low St...  \n78   Midterm/Finals&lt;br&gt;1 vote from &lt;b&gt;Type IV&lt;/b&gt;&lt;b...  \n79   Midterm/Finals&lt;br&gt;1 vote from &lt;b&gt;Type IV&lt;/b&gt;&lt;b...  \n80   Midterm/Finals&lt;br&gt;1 vote from &lt;b&gt;Type IV&lt;/b&gt;&lt;b...  \n81   Midterm/Finals&lt;br&gt;2 vote from &lt;b&gt;Type IV&lt;/b&gt;&lt;b...  \n103  Group Projects*&lt;br&gt;1 vote from &lt;b&gt;Type IV&lt;/b&gt;&lt;...  \n89   Classmates*&lt;br&gt;1 vote from &lt;b&gt;Type IV&lt;/b&gt;&lt;br&gt;L...  \n97   Labs*&lt;br&gt;1 vote from &lt;b&gt;Type IV&lt;/b&gt;&lt;br&gt;Low Str...  \n94   Online Classes*&lt;br&gt;1 vote from &lt;b&gt;Type IV&lt;/b&gt;&lt;...  \n84   Parents*&lt;br&gt;0 vote from &lt;b&gt;Type IV&lt;/b&gt;&lt;br&gt;Low ...  \n107  Talking to Teacher*&lt;br&gt;0 vote from &lt;b&gt;Type IV&lt;...  , &#39;&lt;b&gt;All Types&lt;/b&gt;&#39;:     Level  weight           persona                    x  \\\n36    1.0       3  &lt;b&gt;All Types&lt;/b&gt;        Presentations   \n38    2.0       4  &lt;b&gt;All Types&lt;/b&gt;        Presentations   \n35    0.8       1  &lt;b&gt;All Types&lt;/b&gt;        Presentations   \n33    0.3       2  &lt;b&gt;All Types&lt;/b&gt;        Presentations   \n34    0.5       2  &lt;b&gt;All Types&lt;/b&gt;        Presentations   \n..    ...     ...               ...                  ...   \n30    0.2       1  &lt;b&gt;All Types&lt;/b&gt;             Parents*   \n29    0.0       0  &lt;b&gt;All Types&lt;/b&gt;             Parents*   \n31    2.5       1  &lt;b&gt;All Types&lt;/b&gt;             Parents*   \n60    0.0       0  &lt;b&gt;All Types&lt;/b&gt;  Talking to Teacher*   \n61    3.0       1  &lt;b&gt;All Types&lt;/b&gt;  Talking to Teacher*   \n\n                                                hover  \n36      Presentations&lt;br&gt;3 vote from &lt;b&gt;All Types&lt;/b&gt;  \n38      Presentations&lt;br&gt;4 vote from &lt;b&gt;All Types&lt;/b&gt;  \n35      Presentations&lt;br&gt;1 vote from &lt;b&gt;All Types&lt;/b&gt;  \n33      Presentations&lt;br&gt;2 vote from &lt;b&gt;All Types&lt;/b&gt;  \n34      Presentations&lt;br&gt;2 vote from &lt;b&gt;All Types&lt;/b&gt;  \n..                                                ...  \n30           Parents*&lt;br&gt;1 vote from &lt;b&gt;All Types&lt;/b&gt;  \n29           Parents*&lt;br&gt;0 vote from &lt;b&gt;All Types&lt;/b&gt;  \n31           Parents*&lt;br&gt;1 vote from &lt;b&gt;All Types&lt;/b&gt;  \n60  Talking to Teacher*&lt;br&gt;0 vote from &lt;b&gt;All Type...  \n61  Talking to Teacher*&lt;br&gt;1 vote from &lt;b&gt;All Type...  \n\n[62 rows x 5 columns]}\n"
    }
   ],
   "source": [
    "df = pd.read_csv('./data/data2.csv')\n",
    "df = df.fillna(0)\n",
    "all_append=df.groupby(['x','Level'])['weight'].sum().reset_index()\n",
    "all_append['persona']='all'\n",
    "#print(all_append)\n",
    "df=df.append(all_append)\n",
    "\n",
    "df['persona'] = df['persona'].replace(['persona1','persona2','persona3','persona4','all'],['<b>Type I</b><br>High Stress<br>','<b>Type II</b><br>Early Peak<br>','<b>Type III</b><br>Late Peak<br>','<b>Type IV</b><br>Low Stress<br>','<b>All Types</b>'])\n",
    "\n",
    "persona_name = ['<b>Type I</b><br>High Stress<br>','<b>Type II</b><br>Early Peak<br>','<b>Type III</b><br>Late Peak<br>','<b>Type IV</b><br>Low Stress<br>','<b>All Types</b>']\n",
    "persona_data = {persona: df.query(\"persona == '%s'\" %persona)\n",
    "                              for persona in persona_name }\n",
    "for persona, data in persona_data.items():\n",
    "    hover_text = []\n",
    "    data['weight'] = data['weight'].astype(int)\n",
    "    for index, row in data.iterrows():\n",
    "        hover_text.append(('{x_1}<br>'+\n",
    "        '{weight} vote from {persona}'\n",
    "        ).format(x_1=row['x'],\n",
    "        weight=row['weight'],\n",
    "        persona=row['persona']))\n",
    "    data['hover']=hover_text\n",
    "\n",
    "\n",
    "# persona_data['persona1']['persona']='<b>Type I</b><br>High Stress<br>'\n",
    "# persona_data['persona2']['persona']='<b>Type II</b><br>Early Peak<br>'\n",
    "# persona_data['persona3']['persona']='<b>Type III</b><br>Late Peak<br>'\n",
    "# persona_data['persona4']['persona']='<b>Type IV</b><br>Low Stress<br>'\n",
    "# persona_data['all']['persona']='<b>All Types</b>'\n",
    "#print(persona_data['all'].x[0])\n",
    "sorter=['Presentations','Homework','Projects','Quizes','Midterm/Finals','Group Projects*','Classmates*','Labs*','Online Classes*','Parents*','Talking to Teacher*']\n",
    "for persona, data in persona_data.items():\n",
    "    data.x = data.x.astype(\"category\")\n",
    "    data.x.cat.set_categories(sorter, inplace=True)\n",
    "    persona_data[persona]= data.sort_values(['x'])\n",
    "\n",
    "print(persona_data)"
   ]
  },
  {
   "cell_type": "code",
   "execution_count": 179,
   "metadata": {
    "tags": []
   },
   "outputs": [
    {
     "output_type": "display_data",
     "data": {
      "application/vnd.plotly.v1+json": {
       "config": {
        "plotlyServerURL": "https://plotly.com"
       },
       "data": [
        {
         "hoverinfo": "text",
         "hoverlabel": {
          "bgcolor": "#dfa395"
         },
         "marker": {
          "color": "#EF5740",
          "line": {
           "width": 1
          },
          "opacity": 0.6,
          "size": [
           1,
           2,
           1,
           1,
           1,
           1,
           2,
           1,
           1,
           3,
           1,
           0,
           1,
           1,
           2,
           1,
           1,
           1,
           2,
           1,
           1,
           2,
           1,
           1,
           0,
           1,
           1,
           1,
           0
          ],
          "sizemode": "area",
          "sizeref": 0.012
         },
         "mode": "markers",
         "name": "<b>Type I</b><br>High Stress<br>",
         "text": [
          "Presentations<br>1 vote from <b>Type I</b><br>High Stress<br>",
          "Presentations<br>2 vote from <b>Type I</b><br>High Stress<br>",
          "Presentations<br>1 vote from <b>Type I</b><br>High Stress<br>",
          "Presentations<br>1 vote from <b>Type I</b><br>High Stress<br>",
          "Homework<br>1 vote from <b>Type I</b><br>High Stress<br>",
          "Homework<br>1 vote from <b>Type I</b><br>High Stress<br>",
          "Homework<br>2 vote from <b>Type I</b><br>High Stress<br>",
          "Homework<br>1 vote from <b>Type I</b><br>High Stress<br>",
          "Projects<br>1 vote from <b>Type I</b><br>High Stress<br>",
          "Projects<br>3 vote from <b>Type I</b><br>High Stress<br>",
          "Projects<br>1 vote from <b>Type I</b><br>High Stress<br>",
          "Projects<br>0 vote from <b>Type I</b><br>High Stress<br>",
          "Quizes<br>1 vote from <b>Type I</b><br>High Stress<br>",
          "Quizes<br>1 vote from <b>Type I</b><br>High Stress<br>",
          "Quizes<br>2 vote from <b>Type I</b><br>High Stress<br>",
          "Quizes<br>1 vote from <b>Type I</b><br>High Stress<br>",
          "Midterm/Finals<br>1 vote from <b>Type I</b><br>High Stress<br>",
          "Midterm/Finals<br>1 vote from <b>Type I</b><br>High Stress<br>",
          "Midterm/Finals<br>2 vote from <b>Type I</b><br>High Stress<br>",
          "Midterm/Finals<br>1 vote from <b>Type I</b><br>High Stress<br>",
          "Group Projects*<br>1 vote from <b>Type I</b><br>High Stress<br>",
          "Group Projects*<br>2 vote from <b>Type I</b><br>High Stress<br>",
          "Classmates*<br>1 vote from <b>Type I</b><br>High Stress<br>",
          "Classmates*<br>1 vote from <b>Type I</b><br>High Stress<br>",
          "Labs*<br>0 vote from <b>Type I</b><br>High Stress<br>",
          "Online Classes*<br>1 vote from <b>Type I</b><br>High Stress<br>",
          "Parents*<br>1 vote from <b>Type I</b><br>High Stress<br>",
          "Parents*<br>1 vote from <b>Type I</b><br>High Stress<br>",
          "Talking to Teacher*<br>0 vote from <b>Type I</b><br>High Stress<br>"
         ],
         "textfont": {
          "color": "#050505"
         },
         "type": "scatter",
         "x": [
          "Presentations",
          "Presentations",
          "Presentations",
          "Presentations",
          "Homework",
          "Homework",
          "Homework",
          "Homework",
          "Projects",
          "Projects",
          "Projects",
          "Projects",
          "Quizes",
          "Quizes",
          "Quizes",
          "Quizes",
          "Midterm/Finals",
          "Midterm/Finals",
          "Midterm/Finals",
          "Midterm/Finals",
          "Group Projects*",
          "Group Projects*",
          "Classmates*",
          "Classmates*",
          "Labs*",
          "Online Classes*",
          "Parents*",
          "Parents*",
          "Talking to Teacher*"
         ],
         "y": [
          0.8,
          1,
          1.5,
          3,
          0.8,
          1,
          1.2,
          1.7,
          0.8,
          1.5,
          2,
          0,
          2,
          1.5,
          1,
          1.2,
          1.5,
          2.5,
          3,
          4,
          4,
          3.5,
          0.2,
          3.2,
          0,
          0.3,
          0.2,
          2.5,
          0
         ]
        },
        {
         "hoverinfo": "text",
         "hoverlabel": {
          "bgcolor": "#dace8c"
         },
         "marker": {
          "color": "#D6C350",
          "line": {
           "width": 1
          },
          "opacity": 0.65,
          "size": [
           1,
           1,
           2,
           1,
           1,
           1,
           1,
           2,
           3,
           1,
           1,
           1,
           1,
           1,
           1,
           1,
           2,
           3,
           1,
           0,
           1,
           0,
           0,
           0
          ],
          "sizemode": "area",
          "sizeref": 0.012
         },
         "mode": "markers",
         "name": "<b>Type II</b><br>Early Peak<br>",
         "text": [
          "Presentations<br>1 vote from <b>Type II</b><br>Early Peak<br>",
          "Presentations<br>1 vote from <b>Type II</b><br>Early Peak<br>",
          "Presentations<br>2 vote from <b>Type II</b><br>Early Peak<br>",
          "Presentations<br>1 vote from <b>Type II</b><br>Early Peak<br>",
          "Homework<br>1 vote from <b>Type II</b><br>Early Peak<br>",
          "Homework<br>1 vote from <b>Type II</b><br>Early Peak<br>",
          "Homework<br>1 vote from <b>Type II</b><br>Early Peak<br>",
          "Homework<br>2 vote from <b>Type II</b><br>Early Peak<br>",
          "Projects<br>3 vote from <b>Type II</b><br>Early Peak<br>",
          "Projects<br>1 vote from <b>Type II</b><br>Early Peak<br>",
          "Projects<br>1 vote from <b>Type II</b><br>Early Peak<br>",
          "Quizes<br>1 vote from <b>Type II</b><br>Early Peak<br>",
          "Quizes<br>1 vote from <b>Type II</b><br>Early Peak<br>",
          "Quizes<br>1 vote from <b>Type II</b><br>Early Peak<br>",
          "Quizes<br>1 vote from <b>Type II</b><br>Early Peak<br>",
          "Quizes<br>1 vote from <b>Type II</b><br>Early Peak<br>",
          "Midterm/Finals<br>2 vote from <b>Type II</b><br>Early Peak<br>",
          "Midterm/Finals<br>3 vote from <b>Type II</b><br>Early Peak<br>",
          "Group Projects*<br>1 vote from <b>Type II</b><br>Early Peak<br>",
          "Classmates*<br>0 vote from <b>Type II</b><br>Early Peak<br>",
          "Labs*<br>1 vote from <b>Type II</b><br>Early Peak<br>",
          "Online Classes*<br>0 vote from <b>Type II</b><br>Early Peak<br>",
          "Parents*<br>0 vote from <b>Type II</b><br>Early Peak<br>",
          "Talking to Teacher*<br>0 vote from <b>Type II</b><br>Early Peak<br>"
         ],
         "textfont": {
          "color": "#050505"
         },
         "type": "scatter",
         "x": [
          "Presentations",
          "Presentations",
          "Presentations",
          "Presentations",
          "Homework",
          "Homework",
          "Homework",
          "Homework",
          "Projects",
          "Projects",
          "Projects",
          "Quizes",
          "Quizes",
          "Quizes",
          "Quizes",
          "Quizes",
          "Midterm/Finals",
          "Midterm/Finals",
          "Group Projects*",
          "Classmates*",
          "Labs*",
          "Online Classes*",
          "Parents*",
          "Talking to Teacher*"
         ],
         "y": [
          0.5,
          1.5,
          2.5,
          3,
          0.5,
          1,
          1.2,
          2.2,
          1,
          1.5,
          3,
          3,
          2.5,
          1,
          1.8,
          2,
          3,
          4,
          3.5,
          0,
          1,
          0,
          0,
          0
         ]
        },
        {
         "hoverinfo": "text",
         "hoverlabel": {
          "bgcolor": "#a9d1c8"
         },
         "marker": {
          "color": "#a9a9ca",
          "line": {
           "width": 1
          },
          "opacity": 0.65,
          "size": [
           2,
           1,
           3,
           1,
           2,
           1,
           3,
           1,
           1,
           1,
           2,
           2,
           1,
           1,
           2,
           3,
           1,
           1,
           2,
           1,
           1,
           1,
           1,
           0,
           0,
           0,
           0,
           1
          ],
          "sizemode": "area",
          "sizeref": 0.012
         },
         "mode": "markers",
         "name": "<b>Type III</b><br>Late Peak<br>",
         "text": [
          "Presentations<br>2 vote from <b>Type III</b><br>Late Peak<br>",
          "Presentations<br>1 vote from <b>Type III</b><br>Late Peak<br>",
          "Presentations<br>3 vote from <b>Type III</b><br>Late Peak<br>",
          "Homework<br>1 vote from <b>Type III</b><br>Late Peak<br>",
          "Homework<br>2 vote from <b>Type III</b><br>Late Peak<br>",
          "Homework<br>1 vote from <b>Type III</b><br>Late Peak<br>",
          "Homework<br>3 vote from <b>Type III</b><br>Late Peak<br>",
          "Projects<br>1 vote from <b>Type III</b><br>Late Peak<br>",
          "Projects<br>1 vote from <b>Type III</b><br>Late Peak<br>",
          "Projects<br>1 vote from <b>Type III</b><br>Late Peak<br>",
          "Projects<br>2 vote from <b>Type III</b><br>Late Peak<br>",
          "Projects<br>2 vote from <b>Type III</b><br>Late Peak<br>",
          "Quizes<br>1 vote from <b>Type III</b><br>Late Peak<br>",
          "Quizes<br>1 vote from <b>Type III</b><br>Late Peak<br>",
          "Quizes<br>2 vote from <b>Type III</b><br>Late Peak<br>",
          "Quizes<br>3 vote from <b>Type III</b><br>Late Peak<br>",
          "Midterm/Finals<br>1 vote from <b>Type III</b><br>Late Peak<br>",
          "Midterm/Finals<br>1 vote from <b>Type III</b><br>Late Peak<br>",
          "Midterm/Finals<br>2 vote from <b>Type III</b><br>Late Peak<br>",
          "Midterm/Finals<br>1 vote from <b>Type III</b><br>Late Peak<br>",
          "Midterm/Finals<br>1 vote from <b>Type III</b><br>Late Peak<br>",
          "Midterm/Finals<br>1 vote from <b>Type III</b><br>Late Peak<br>",
          "Group Projects*<br>1 vote from <b>Type III</b><br>Late Peak<br>",
          "Classmates*<br>0 vote from <b>Type III</b><br>Late Peak<br>",
          "Labs*<br>0 vote from <b>Type III</b><br>Late Peak<br>",
          "Online Classes*<br>0 vote from <b>Type III</b><br>Late Peak<br>",
          "Parents*<br>0 vote from <b>Type III</b><br>Late Peak<br>",
          "Talking to Teacher*<br>1 vote from <b>Type III</b><br>Late Peak<br>"
         ],
         "textfont": {
          "color": "#050505"
         },
         "type": "scatter",
         "x": [
          "Presentations",
          "Presentations",
          "Presentations",
          "Homework",
          "Homework",
          "Homework",
          "Homework",
          "Projects",
          "Projects",
          "Projects",
          "Projects",
          "Projects",
          "Quizes",
          "Quizes",
          "Quizes",
          "Quizes",
          "Midterm/Finals",
          "Midterm/Finals",
          "Midterm/Finals",
          "Midterm/Finals",
          "Midterm/Finals",
          "Midterm/Finals",
          "Group Projects*",
          "Classmates*",
          "Labs*",
          "Online Classes*",
          "Parents*",
          "Talking to Teacher*"
         ],
         "y": [
          0.3,
          1.5,
          2,
          0.5,
          1,
          1.2,
          2,
          0.8,
          1,
          1.7,
          3,
          3.7,
          2,
          1.8,
          1.5,
          1,
          2.5,
          2.8,
          3,
          3.5,
          3.8,
          4,
          1,
          0,
          0,
          0,
          0,
          3
         ]
        },
        {
         "hoverinfo": "text",
         "hoverlabel": {
          "bgcolor": "#aec471"
         },
         "marker": {
          "color": "#a9d1c8",
          "line": {
           "width": 1
          },
          "opacity": 0.6,
          "size": [
           1,
           1,
           1,
           1,
           1,
           1,
           1,
           1,
           1,
           1,
           1,
           1,
           1,
           1,
           1,
           1,
           2,
           2,
           1,
           1,
           1,
           2,
           1,
           1,
           1,
           1,
           0,
           0
          ],
          "sizemode": "area",
          "sizeref": 0.012
         },
         "mode": "markers",
         "name": "<b>Type IV</b><br>Low Stress<br>",
         "text": [
          "Presentations<br>1 vote from <b>Type IV</b><br>Low Stress<br>",
          "Presentations<br>1 vote from <b>Type IV</b><br>Low Stress<br>",
          "Presentations<br>1 vote from <b>Type IV</b><br>Low Stress<br>",
          "Presentations<br>1 vote from <b>Type IV</b><br>Low Stress<br>",
          "Presentations<br>1 vote from <b>Type IV</b><br>Low Stress<br>",
          "Homework<br>1 vote from <b>Type IV</b><br>Low Stress<br>",
          "Homework<br>1 vote from <b>Type IV</b><br>Low Stress<br>",
          "Homework<br>1 vote from <b>Type IV</b><br>Low Stress<br>",
          "Homework<br>1 vote from <b>Type IV</b><br>Low Stress<br>",
          "Homework<br>1 vote from <b>Type IV</b><br>Low Stress<br>",
          "Projects<br>1 vote from <b>Type IV</b><br>Low Stress<br>",
          "Projects<br>1 vote from <b>Type IV</b><br>Low Stress<br>",
          "Projects<br>1 vote from <b>Type IV</b><br>Low Stress<br>",
          "Projects<br>1 vote from <b>Type IV</b><br>Low Stress<br>",
          "Projects<br>1 vote from <b>Type IV</b><br>Low Stress<br>",
          "Quizes<br>1 vote from <b>Type IV</b><br>Low Stress<br>",
          "Quizes<br>2 vote from <b>Type IV</b><br>Low Stress<br>",
          "Quizes<br>2 vote from <b>Type IV</b><br>Low Stress<br>",
          "Midterm/Finals<br>1 vote from <b>Type IV</b><br>Low Stress<br>",
          "Midterm/Finals<br>1 vote from <b>Type IV</b><br>Low Stress<br>",
          "Midterm/Finals<br>1 vote from <b>Type IV</b><br>Low Stress<br>",
          "Midterm/Finals<br>2 vote from <b>Type IV</b><br>Low Stress<br>",
          "Group Projects*<br>1 vote from <b>Type IV</b><br>Low Stress<br>",
          "Classmates*<br>1 vote from <b>Type IV</b><br>Low Stress<br>",
          "Labs*<br>1 vote from <b>Type IV</b><br>Low Stress<br>",
          "Online Classes*<br>1 vote from <b>Type IV</b><br>Low Stress<br>",
          "Parents*<br>0 vote from <b>Type IV</b><br>Low Stress<br>",
          "Talking to Teacher*<br>0 vote from <b>Type IV</b><br>Low Stress<br>"
         ],
         "textfont": {
          "color": "#050505"
         },
         "type": "scatter",
         "x": [
          "Presentations",
          "Presentations",
          "Presentations",
          "Presentations",
          "Presentations",
          "Homework",
          "Homework",
          "Homework",
          "Homework",
          "Homework",
          "Projects",
          "Projects",
          "Projects",
          "Projects",
          "Projects",
          "Quizes",
          "Quizes",
          "Quizes",
          "Midterm/Finals",
          "Midterm/Finals",
          "Midterm/Finals",
          "Midterm/Finals",
          "Group Projects*",
          "Classmates*",
          "Labs*",
          "Online Classes*",
          "Parents*",
          "Talking to Teacher*"
         ],
         "y": [
          0,
          0.5,
          1,
          2,
          3.5,
          1,
          1.5,
          1.7,
          2,
          4,
          4,
          2.5,
          3,
          1.7,
          2,
          0.5,
          2,
          2.5,
          2.5,
          3,
          3.8,
          4,
          2.5,
          0.2,
          2,
          1.8,
          0,
          0
         ]
        },
        {
         "hoverinfo": "text",
         "hoverlabel": {
          "bgcolor": "#bfbfbf"
         },
         "marker": {
          "color": "#BFBFBF",
          "line": {
           "width": 1
          },
          "opacity": 0.4,
          "size": [
           3,
           4,
           1,
           2,
           2,
           1,
           2,
           2,
           1,
           3,
           1,
           4,
           2,
           1,
           5,
           1,
           2,
           2,
           4,
           2,
           4,
           1,
           2,
           1,
           0,
           2,
           4,
           4,
           2,
           5,
           2,
           1,
           1,
           6,
           3,
           1,
           3,
           1,
           3,
           1,
           2,
           7,
           7,
           1,
           1,
           3,
           1,
           1,
           0,
           1,
           2,
           1,
           1,
           0,
           0,
           1,
           1,
           1,
           0,
           1,
           0,
           1
          ],
          "sizemode": "area",
          "sizeref": 0.012
         },
         "mode": "markers",
         "name": "<b>All Types</b>",
         "text": [
          "Presentations<br>3 vote from <b>All Types</b>",
          "Presentations<br>4 vote from <b>All Types</b>",
          "Presentations<br>1 vote from <b>All Types</b>",
          "Presentations<br>2 vote from <b>All Types</b>",
          "Presentations<br>2 vote from <b>All Types</b>",
          "Presentations<br>1 vote from <b>All Types</b>",
          "Presentations<br>2 vote from <b>All Types</b>",
          "Presentations<br>2 vote from <b>All Types</b>",
          "Presentations<br>1 vote from <b>All Types</b>",
          "Presentations<br>3 vote from <b>All Types</b>",
          "Homework<br>1 vote from <b>All Types</b>",
          "Homework<br>4 vote from <b>All Types</b>",
          "Homework<br>2 vote from <b>All Types</b>",
          "Homework<br>1 vote from <b>All Types</b>",
          "Homework<br>5 vote from <b>All Types</b>",
          "Homework<br>1 vote from <b>All Types</b>",
          "Homework<br>2 vote from <b>All Types</b>",
          "Homework<br>2 vote from <b>All Types</b>",
          "Homework<br>4 vote from <b>All Types</b>",
          "Projects<br>2 vote from <b>All Types</b>",
          "Projects<br>4 vote from <b>All Types</b>",
          "Projects<br>1 vote from <b>All Types</b>",
          "Projects<br>2 vote from <b>All Types</b>",
          "Projects<br>1 vote from <b>All Types</b>",
          "Projects<br>0 vote from <b>All Types</b>",
          "Projects<br>2 vote from <b>All Types</b>",
          "Projects<br>4 vote from <b>All Types</b>",
          "Projects<br>4 vote from <b>All Types</b>",
          "Projects<br>2 vote from <b>All Types</b>",
          "Quizes<br>5 vote from <b>All Types</b>",
          "Quizes<br>2 vote from <b>All Types</b>",
          "Quizes<br>1 vote from <b>All Types</b>",
          "Quizes<br>1 vote from <b>All Types</b>",
          "Quizes<br>6 vote from <b>All Types</b>",
          "Quizes<br>3 vote from <b>All Types</b>",
          "Quizes<br>1 vote from <b>All Types</b>",
          "Quizes<br>3 vote from <b>All Types</b>",
          "Midterm/Finals<br>1 vote from <b>All Types</b>",
          "Midterm/Finals<br>3 vote from <b>All Types</b>",
          "Midterm/Finals<br>1 vote from <b>All Types</b>",
          "Midterm/Finals<br>2 vote from <b>All Types</b>",
          "Midterm/Finals<br>7 vote from <b>All Types</b>",
          "Midterm/Finals<br>7 vote from <b>All Types</b>",
          "Midterm/Finals<br>1 vote from <b>All Types</b>",
          "Group Projects*<br>1 vote from <b>All Types</b>",
          "Group Projects*<br>3 vote from <b>All Types</b>",
          "Group Projects*<br>1 vote from <b>All Types</b>",
          "Group Projects*<br>1 vote from <b>All Types</b>",
          "Classmates*<br>0 vote from <b>All Types</b>",
          "Classmates*<br>1 vote from <b>All Types</b>",
          "Classmates*<br>2 vote from <b>All Types</b>",
          "Labs*<br>1 vote from <b>All Types</b>",
          "Labs*<br>1 vote from <b>All Types</b>",
          "Labs*<br>0 vote from <b>All Types</b>",
          "Online Classes*<br>0 vote from <b>All Types</b>",
          "Online Classes*<br>1 vote from <b>All Types</b>",
          "Online Classes*<br>1 vote from <b>All Types</b>",
          "Parents*<br>1 vote from <b>All Types</b>",
          "Parents*<br>0 vote from <b>All Types</b>",
          "Parents*<br>1 vote from <b>All Types</b>",
          "Talking to Teacher*<br>0 vote from <b>All Types</b>",
          "Talking to Teacher*<br>1 vote from <b>All Types</b>"
         ],
         "textfont": {
          "color": "#050505"
         },
         "type": "scatter",
         "x": [
          "Presentations",
          "Presentations",
          "Presentations",
          "Presentations",
          "Presentations",
          "Presentations",
          "Presentations",
          "Presentations",
          "Presentations",
          "Presentations",
          "Homework",
          "Homework",
          "Homework",
          "Homework",
          "Homework",
          "Homework",
          "Homework",
          "Homework",
          "Homework",
          "Projects",
          "Projects",
          "Projects",
          "Projects",
          "Projects",
          "Projects",
          "Projects",
          "Projects",
          "Projects",
          "Projects",
          "Quizes",
          "Quizes",
          "Quizes",
          "Quizes",
          "Quizes",
          "Quizes",
          "Quizes",
          "Quizes",
          "Midterm/Finals",
          "Midterm/Finals",
          "Midterm/Finals",
          "Midterm/Finals",
          "Midterm/Finals",
          "Midterm/Finals",
          "Midterm/Finals",
          "Group Projects*",
          "Group Projects*",
          "Group Projects*",
          "Group Projects*",
          "Classmates*",
          "Classmates*",
          "Classmates*",
          "Labs*",
          "Labs*",
          "Labs*",
          "Online Classes*",
          "Online Classes*",
          "Online Classes*",
          "Parents*",
          "Parents*",
          "Parents*",
          "Talking to Teacher*",
          "Talking to Teacher*"
         ],
         "y": [
          1,
          2,
          0.8,
          0.3,
          0.5,
          3.5,
          3,
          2.5,
          0,
          1.5,
          4,
          2,
          2.2,
          1.5,
          1,
          0.8,
          0.5,
          1.7,
          1.2,
          1.7,
          3,
          2.5,
          2,
          4,
          0,
          0.8,
          1,
          1.5,
          3.7,
          2,
          1.8,
          3,
          1.2,
          1,
          2.5,
          0.5,
          1.5,
          2.8,
          2.5,
          1.5,
          3.8,
          4,
          3,
          3.5,
          4,
          3.5,
          2.5,
          1,
          0,
          3.2,
          0.2,
          2,
          1,
          0,
          0,
          0.3,
          1.8,
          0.2,
          0,
          2.5,
          0,
          3
         ]
        }
       ],
       "layout": {
        "autosize": false,
        "font": {
         "family": "Courier"
        },
        "legend": {
         "font": {
          "size": 13
         },
         "itemsizing": "constant"
        },
        "margin": {
         "t": 80
        },
        "paper_bgcolor": "rgb(255, 255, 255)",
        "plot_bgcolor": "rgb(255, 255, 255)",
        "template": {
         "data": {
          "bar": [
           {
            "error_x": {
             "color": "#2a3f5f"
            },
            "error_y": {
             "color": "#2a3f5f"
            },
            "marker": {
             "line": {
              "color": "#E5ECF6",
              "width": 0.5
             }
            },
            "type": "bar"
           }
          ],
          "barpolar": [
           {
            "marker": {
             "line": {
              "color": "#E5ECF6",
              "width": 0.5
             }
            },
            "type": "barpolar"
           }
          ],
          "carpet": [
           {
            "aaxis": {
             "endlinecolor": "#2a3f5f",
             "gridcolor": "white",
             "linecolor": "white",
             "minorgridcolor": "white",
             "startlinecolor": "#2a3f5f"
            },
            "baxis": {
             "endlinecolor": "#2a3f5f",
             "gridcolor": "white",
             "linecolor": "white",
             "minorgridcolor": "white",
             "startlinecolor": "#2a3f5f"
            },
            "type": "carpet"
           }
          ],
          "choropleth": [
           {
            "colorbar": {
             "outlinewidth": 0,
             "ticks": ""
            },
            "type": "choropleth"
           }
          ],
          "contour": [
           {
            "colorbar": {
             "outlinewidth": 0,
             "ticks": ""
            },
            "colorscale": [
             [
              0,
              "#0d0887"
             ],
             [
              0.1111111111111111,
              "#46039f"
             ],
             [
              0.2222222222222222,
              "#7201a8"
             ],
             [
              0.3333333333333333,
              "#9c179e"
             ],
             [
              0.4444444444444444,
              "#bd3786"
             ],
             [
              0.5555555555555556,
              "#d8576b"
             ],
             [
              0.6666666666666666,
              "#ed7953"
             ],
             [
              0.7777777777777778,
              "#fb9f3a"
             ],
             [
              0.8888888888888888,
              "#fdca26"
             ],
             [
              1,
              "#f0f921"
             ]
            ],
            "type": "contour"
           }
          ],
          "contourcarpet": [
           {
            "colorbar": {
             "outlinewidth": 0,
             "ticks": ""
            },
            "type": "contourcarpet"
           }
          ],
          "heatmap": [
           {
            "colorbar": {
             "outlinewidth": 0,
             "ticks": ""
            },
            "colorscale": [
             [
              0,
              "#0d0887"
             ],
             [
              0.1111111111111111,
              "#46039f"
             ],
             [
              0.2222222222222222,
              "#7201a8"
             ],
             [
              0.3333333333333333,
              "#9c179e"
             ],
             [
              0.4444444444444444,
              "#bd3786"
             ],
             [
              0.5555555555555556,
              "#d8576b"
             ],
             [
              0.6666666666666666,
              "#ed7953"
             ],
             [
              0.7777777777777778,
              "#fb9f3a"
             ],
             [
              0.8888888888888888,
              "#fdca26"
             ],
             [
              1,
              "#f0f921"
             ]
            ],
            "type": "heatmap"
           }
          ],
          "heatmapgl": [
           {
            "colorbar": {
             "outlinewidth": 0,
             "ticks": ""
            },
            "colorscale": [
             [
              0,
              "#0d0887"
             ],
             [
              0.1111111111111111,
              "#46039f"
             ],
             [
              0.2222222222222222,
              "#7201a8"
             ],
             [
              0.3333333333333333,
              "#9c179e"
             ],
             [
              0.4444444444444444,
              "#bd3786"
             ],
             [
              0.5555555555555556,
              "#d8576b"
             ],
             [
              0.6666666666666666,
              "#ed7953"
             ],
             [
              0.7777777777777778,
              "#fb9f3a"
             ],
             [
              0.8888888888888888,
              "#fdca26"
             ],
             [
              1,
              "#f0f921"
             ]
            ],
            "type": "heatmapgl"
           }
          ],
          "histogram": [
           {
            "marker": {
             "colorbar": {
              "outlinewidth": 0,
              "ticks": ""
             }
            },
            "type": "histogram"
           }
          ],
          "histogram2d": [
           {
            "colorbar": {
             "outlinewidth": 0,
             "ticks": ""
            },
            "colorscale": [
             [
              0,
              "#0d0887"
             ],
             [
              0.1111111111111111,
              "#46039f"
             ],
             [
              0.2222222222222222,
              "#7201a8"
             ],
             [
              0.3333333333333333,
              "#9c179e"
             ],
             [
              0.4444444444444444,
              "#bd3786"
             ],
             [
              0.5555555555555556,
              "#d8576b"
             ],
             [
              0.6666666666666666,
              "#ed7953"
             ],
             [
              0.7777777777777778,
              "#fb9f3a"
             ],
             [
              0.8888888888888888,
              "#fdca26"
             ],
             [
              1,
              "#f0f921"
             ]
            ],
            "type": "histogram2d"
           }
          ],
          "histogram2dcontour": [
           {
            "colorbar": {
             "outlinewidth": 0,
             "ticks": ""
            },
            "colorscale": [
             [
              0,
              "#0d0887"
             ],
             [
              0.1111111111111111,
              "#46039f"
             ],
             [
              0.2222222222222222,
              "#7201a8"
             ],
             [
              0.3333333333333333,
              "#9c179e"
             ],
             [
              0.4444444444444444,
              "#bd3786"
             ],
             [
              0.5555555555555556,
              "#d8576b"
             ],
             [
              0.6666666666666666,
              "#ed7953"
             ],
             [
              0.7777777777777778,
              "#fb9f3a"
             ],
             [
              0.8888888888888888,
              "#fdca26"
             ],
             [
              1,
              "#f0f921"
             ]
            ],
            "type": "histogram2dcontour"
           }
          ],
          "mesh3d": [
           {
            "colorbar": {
             "outlinewidth": 0,
             "ticks": ""
            },
            "type": "mesh3d"
           }
          ],
          "parcoords": [
           {
            "line": {
             "colorbar": {
              "outlinewidth": 0,
              "ticks": ""
             }
            },
            "type": "parcoords"
           }
          ],
          "pie": [
           {
            "automargin": true,
            "type": "pie"
           }
          ],
          "scatter": [
           {
            "marker": {
             "colorbar": {
              "outlinewidth": 0,
              "ticks": ""
             }
            },
            "type": "scatter"
           }
          ],
          "scatter3d": [
           {
            "line": {
             "colorbar": {
              "outlinewidth": 0,
              "ticks": ""
             }
            },
            "marker": {
             "colorbar": {
              "outlinewidth": 0,
              "ticks": ""
             }
            },
            "type": "scatter3d"
           }
          ],
          "scattercarpet": [
           {
            "marker": {
             "colorbar": {
              "outlinewidth": 0,
              "ticks": ""
             }
            },
            "type": "scattercarpet"
           }
          ],
          "scattergeo": [
           {
            "marker": {
             "colorbar": {
              "outlinewidth": 0,
              "ticks": ""
             }
            },
            "type": "scattergeo"
           }
          ],
          "scattergl": [
           {
            "marker": {
             "colorbar": {
              "outlinewidth": 0,
              "ticks": ""
             }
            },
            "type": "scattergl"
           }
          ],
          "scattermapbox": [
           {
            "marker": {
             "colorbar": {
              "outlinewidth": 0,
              "ticks": ""
             }
            },
            "type": "scattermapbox"
           }
          ],
          "scatterpolar": [
           {
            "marker": {
             "colorbar": {
              "outlinewidth": 0,
              "ticks": ""
             }
            },
            "type": "scatterpolar"
           }
          ],
          "scatterpolargl": [
           {
            "marker": {
             "colorbar": {
              "outlinewidth": 0,
              "ticks": ""
             }
            },
            "type": "scatterpolargl"
           }
          ],
          "scatterternary": [
           {
            "marker": {
             "colorbar": {
              "outlinewidth": 0,
              "ticks": ""
             }
            },
            "type": "scatterternary"
           }
          ],
          "surface": [
           {
            "colorbar": {
             "outlinewidth": 0,
             "ticks": ""
            },
            "colorscale": [
             [
              0,
              "#0d0887"
             ],
             [
              0.1111111111111111,
              "#46039f"
             ],
             [
              0.2222222222222222,
              "#7201a8"
             ],
             [
              0.3333333333333333,
              "#9c179e"
             ],
             [
              0.4444444444444444,
              "#bd3786"
             ],
             [
              0.5555555555555556,
              "#d8576b"
             ],
             [
              0.6666666666666666,
              "#ed7953"
             ],
             [
              0.7777777777777778,
              "#fb9f3a"
             ],
             [
              0.8888888888888888,
              "#fdca26"
             ],
             [
              1,
              "#f0f921"
             ]
            ],
            "type": "surface"
           }
          ],
          "table": [
           {
            "cells": {
             "fill": {
              "color": "#EBF0F8"
             },
             "line": {
              "color": "white"
             }
            },
            "header": {
             "fill": {
              "color": "#C8D4E3"
             },
             "line": {
              "color": "white"
             }
            },
            "type": "table"
           }
          ]
         },
         "layout": {
          "annotationdefaults": {
           "arrowcolor": "#2a3f5f",
           "arrowhead": 0,
           "arrowwidth": 1
          },
          "coloraxis": {
           "colorbar": {
            "outlinewidth": 0,
            "ticks": ""
           }
          },
          "colorscale": {
           "diverging": [
            [
             0,
             "#8e0152"
            ],
            [
             0.1,
             "#c51b7d"
            ],
            [
             0.2,
             "#de77ae"
            ],
            [
             0.3,
             "#f1b6da"
            ],
            [
             0.4,
             "#fde0ef"
            ],
            [
             0.5,
             "#f7f7f7"
            ],
            [
             0.6,
             "#e6f5d0"
            ],
            [
             0.7,
             "#b8e186"
            ],
            [
             0.8,
             "#7fbc41"
            ],
            [
             0.9,
             "#4d9221"
            ],
            [
             1,
             "#276419"
            ]
           ],
           "sequential": [
            [
             0,
             "#0d0887"
            ],
            [
             0.1111111111111111,
             "#46039f"
            ],
            [
             0.2222222222222222,
             "#7201a8"
            ],
            [
             0.3333333333333333,
             "#9c179e"
            ],
            [
             0.4444444444444444,
             "#bd3786"
            ],
            [
             0.5555555555555556,
             "#d8576b"
            ],
            [
             0.6666666666666666,
             "#ed7953"
            ],
            [
             0.7777777777777778,
             "#fb9f3a"
            ],
            [
             0.8888888888888888,
             "#fdca26"
            ],
            [
             1,
             "#f0f921"
            ]
           ],
           "sequentialminus": [
            [
             0,
             "#0d0887"
            ],
            [
             0.1111111111111111,
             "#46039f"
            ],
            [
             0.2222222222222222,
             "#7201a8"
            ],
            [
             0.3333333333333333,
             "#9c179e"
            ],
            [
             0.4444444444444444,
             "#bd3786"
            ],
            [
             0.5555555555555556,
             "#d8576b"
            ],
            [
             0.6666666666666666,
             "#ed7953"
            ],
            [
             0.7777777777777778,
             "#fb9f3a"
            ],
            [
             0.8888888888888888,
             "#fdca26"
            ],
            [
             1,
             "#f0f921"
            ]
           ]
          },
          "colorway": [
           "#636efa",
           "#EF553B",
           "#00cc96",
           "#ab63fa",
           "#FFA15A",
           "#19d3f3",
           "#FF6692",
           "#B6E880",
           "#FF97FF",
           "#FECB52"
          ],
          "font": {
           "color": "#2a3f5f"
          },
          "geo": {
           "bgcolor": "white",
           "lakecolor": "white",
           "landcolor": "#E5ECF6",
           "showlakes": true,
           "showland": true,
           "subunitcolor": "white"
          },
          "hoverlabel": {
           "align": "left"
          },
          "hovermode": "closest",
          "mapbox": {
           "style": "light"
          },
          "paper_bgcolor": "white",
          "plot_bgcolor": "#E5ECF6",
          "polar": {
           "angularaxis": {
            "gridcolor": "white",
            "linecolor": "white",
            "ticks": ""
           },
           "bgcolor": "#E5ECF6",
           "radialaxis": {
            "gridcolor": "white",
            "linecolor": "white",
            "ticks": ""
           }
          },
          "scene": {
           "xaxis": {
            "backgroundcolor": "#E5ECF6",
            "gridcolor": "white",
            "gridwidth": 2,
            "linecolor": "white",
            "showbackground": true,
            "ticks": "",
            "zerolinecolor": "white"
           },
           "yaxis": {
            "backgroundcolor": "#E5ECF6",
            "gridcolor": "white",
            "gridwidth": 2,
            "linecolor": "white",
            "showbackground": true,
            "ticks": "",
            "zerolinecolor": "white"
           },
           "zaxis": {
            "backgroundcolor": "#E5ECF6",
            "gridcolor": "white",
            "gridwidth": 2,
            "linecolor": "white",
            "showbackground": true,
            "ticks": "",
            "zerolinecolor": "white"
           }
          },
          "shapedefaults": {
           "line": {
            "color": "#2a3f5f"
           }
          },
          "ternary": {
           "aaxis": {
            "gridcolor": "white",
            "linecolor": "white",
            "ticks": ""
           },
           "baxis": {
            "gridcolor": "white",
            "linecolor": "white",
            "ticks": ""
           },
           "bgcolor": "#E5ECF6",
           "caxis": {
            "gridcolor": "white",
            "linecolor": "white",
            "ticks": ""
           }
          },
          "title": {
           "x": 0.05
          },
          "xaxis": {
           "automargin": true,
           "gridcolor": "white",
           "linecolor": "white",
           "ticks": "",
           "title": {
            "standoff": 15
           },
           "zerolinecolor": "white",
           "zerolinewidth": 2
          },
          "yaxis": {
           "automargin": true,
           "gridcolor": "white",
           "linecolor": "white",
           "ticks": "",
           "title": {
            "standoff": 15
           },
           "zerolinecolor": "white",
           "zerolinewidth": 2
          }
         }
        },
        "title": {
         "text": "Academic Stress"
        },
        "xaxis": {
         "gridcolor": "#efefef",
         "gridwidth": 1,
         "showticklabels": true,
         "ticklen": 30,
         "title": {
          "text": ""
         },
         "visible": true
        },
        "yaxis": {
         "gridcolor": "#efefef",
         "gridwidth": 1,
         "ticklen": 30,
         "title": {
          "text": "<b>Stress Level</b><br>[  no stress   >>   maximum stress  ]"
         }
        }
       }
      }
     },
     "metadata": {}
    }
   ],
   "source": [
    "fig = go.Figure()\n",
    "c_color=['#EF5740','#DFD171','#A098D7','#8FE0CC','#BFBFBF']\n",
    "hb_color=['#dfa395','#dace8c','#a9d1c8','#aec471','#bfbfbf']\n",
    "c_opacity=[0.6,0.65,0.65,0.6,0.4]\n",
    "flag=0\n",
    "for persona, data in persona_data.items():\n",
    "    fig.add_trace(go.Scatter(x=data['x'],\n",
    "        y=data['Level'],name = data['persona'].iloc[0],\n",
    "        marker_size=data['weight'], text=data['hover'],hoverinfo='text',textfont=dict(color=\"#050505\"),\n",
    "        marker=dict(color=c_color[flag],opacity=c_opacity[flag],line=dict(width=0))\n",
    "        ,hoverlabel=dict(bgcolor=hb_color[flag])\n",
    "    ))\n",
    "    flag=flag+1\n",
    "\n",
    "\n",
    "\n",
    "sizeref =  2.*60/(100**2)\n",
    "\n",
    "\n",
    "fig.update_traces(mode='markers', marker=dict(sizemode='area',\n",
    "                                              sizeref=sizeref, line_width=1))\n",
    "\n",
    "fig.update_layout(\n",
    "    title='Academic Stress',\n",
    "    xaxis=dict(\n",
    "        title='Stress type',\n",
    "        gridcolor='white',\n",
    "        gridwidth=2,\n",
    "    ),\n",
    "    yaxis=dict(\n",
    "        title='stress level',\n",
    "        gridcolor='white',\n",
    "        gridwidth=2,\n",
    "    ),\n",
    "    paper_bgcolor='rgb(243, 243, 243)',\n",
    "    plot_bgcolor='rgb(243, 243, 243)',\n",
    ")\n",
    "#Add image\n",
    "# fig.add_layout_image(\n",
    "#     dict(\n",
    "#         source=\"https://raw.githubusercontent.com/brianzy/ploty-project/master/pic/P1sm.png\",\n",
    "#         xref=\"paper\", yref=\"paper\",\n",
    "#         x=1.13, y=0.92\n",
    "#          ,sizex=0.04, sizey=0.4\n",
    "#          ,xanchor=\"center\", yanchor=\"bottom\"\n",
    "#          ,layer=\"above\"\n",
    "#     )\n",
    "# )\n",
    "# fig.add_layout_image(\n",
    "#     dict(\n",
    "#         source=\"https://raw.githubusercontent.com/brianzy/ploty-project/master/pic/P2sm.png\",\n",
    "#         xref=\"paper\", yref=\"paper\",\n",
    "#         x=1.13, y=0.85,\n",
    "#         sizex=0.04, sizey=0.4\n",
    "#          ,xanchor=\"center\", yanchor=\"top\"\n",
    "#          ,layer=\"above\"\n",
    "#     )\n",
    "# )\n",
    "# fig.add_layout_image(\n",
    "#     dict(\n",
    "#         source=\"https://raw.githubusercontent.com/brianzy/ploty-project/master/pic/P3sm.png\",\n",
    "#         xref=\"paper\", yref=\"paper\",\n",
    "#         x=1.13, y=0.68,\n",
    "#         sizex=0.04, sizey=0.4\n",
    "#          ,xanchor=\"center\", yanchor=\"bottom\"\n",
    "#          ,layer=\"above\"\n",
    "#     )\n",
    "# )\n",
    "# fig.add_layout_image(\n",
    "#     dict(\n",
    "#         source=\"https://raw.githubusercontent.com/brianzy/ploty-project/master/pic/P4sm.png\",\n",
    "#         xref=\"paper\", yref=\"paper\",\n",
    "#         x=1.13, y=0.56,\n",
    "#         sizex=0.04, sizey=0.4\n",
    "#          ,xanchor=\"center\", yanchor=\"bottom\"\n",
    "#          ,layer=\"above\"\n",
    "#     )\n",
    "# )\n",
    "# fig.add_layout_image(\n",
    "#     dict(\n",
    "#         source=\"https://raw.githubusercontent.com/brianzy/ploty-project/master/pic/Allsm.png\",\n",
    "#         xref=\"paper\", yref=\"paper\",\n",
    "#         x=1.13, y=0.46,\n",
    "#         sizex=0.04, sizey=0.4\n",
    "#          ,xanchor=\"center\", yanchor=\"bottom\"\n",
    "#          ,layer=\"above\"\n",
    "#     )\n",
    "# )\n",
    "fig.update_xaxes(title='', visible=True, showticklabels=True,gridwidth=1,gridcolor='#efefef',ticklen=30)\n",
    "fig.update_yaxes(title='<b>Stress Level</b><br>[  no stress   >>   maximum stress  ]',gridwidth=1,gridcolor='#efefef',ticklen=30)\n",
    "\n",
    "fig.update_layout(\n",
    "    paper_bgcolor='rgb(255, 255, 255)',\n",
    "    plot_bgcolor='rgb(255, 255, 255)',\n",
    "    margin=dict(t=80),\n",
    "    autosize=False,\n",
    "    font_family=\"Courier\"\n",
    "\n",
    "    ,legend=dict(\n",
    "        itemsizing='constant',\n",
    "     #yanchor=\"auto\",\n",
    "    #  y=0.99,\n",
    "    # xanchor=\"left\",\n",
    "     #x=1,\n",
    "     #valign='middle',\n",
    "     font=dict(size=13)\n",
    "))\n",
    "\n",
    "# fig = px.scatter(df, x='Presentations', size=\"weight_1\",\n",
    "#             log_x=True, size_max=60)\n",
    "fig.show()  "
   ]
  },
  {
   "cell_type": "code",
   "execution_count": 180,
   "metadata": {},
   "outputs": [
    {
     "output_type": "execute_result",
     "data": {
      "text/plain": "&#39;https://plotly.com/~zybrian/37/&#39;"
     },
     "metadata": {},
     "execution_count": 180
    }
   ],
   "source": [
    "import chart_studio.plotly as py\n",
    "py.plot(fig, filename = 'graph1', auto_open=False)"
   ]
  },
  {
   "cell_type": "code",
   "execution_count": 292,
   "metadata": {},
   "outputs": [],
   "source": [
    "# fig = go.Figure()\n",
    "\n",
    "# for stress, data in stress_final.items():\n",
    "#     fig.add_trace(go.Scatter( x=data['x'],\n",
    "#          y=data[stress],name=stress\n",
    "#          , marker_size=data['weight'],text=data['hover']\n",
    "#         ))\n",
    "# # Tune marker appearance and layout\n",
    "\n",
    "# sizeref =  2.*80/(100**2)\n",
    "\n",
    "\n",
    "# fig.update_traces(mode='markers', marker=dict(sizemode='area',\n",
    "#                                               sizeref=sizeref, line_width=2))\n",
    "\n",
    "# fig.update_layout(\n",
    "#     title='Academic Stress',\n",
    "#     xaxis=dict(\n",
    "#         title='Stress type',\n",
    "#         gridcolor='white',\n",
    "#         gridwidth=2,\n",
    "#     ),\n",
    "#     yaxis=dict(\n",
    "#         title='stress level',\n",
    "#         gridcolor='white',\n",
    "#         gridwidth=2,\n",
    "#     ),\n",
    "#     paper_bgcolor='rgb(243, 243, 243)',\n",
    "#     plot_bgcolor='rgb(243, 243, 243)',\n",
    "# )\n",
    "\n",
    "# # fig = px.scatter(df, x='Presentations', size=\"weight_1\",\n",
    "# #             log_x=True, size_max=60)\n",
    "# fig.show()"
   ]
  },
  {
   "cell_type": "code",
   "execution_count": 192,
   "metadata": {
    "tags": []
   },
   "outputs": [
    {
     "output_type": "stream",
     "name": "stdout",
     "text": "     ZONE                         Item  Weight   Persona Severity Level  \\\n0   zone1  being vulnerable in therapy       1   Type IV             L1   \n1   zone1    being with/around friends       1    Type I             L1   \n2   zone1                        class       1   Type II             L1   \n3   zone1                        class       1   Type IV             L1   \n4   zone1                     finances       2    Type I         L1, L2   \n5   zone1                     finances       1   Type IV             L1   \n6   zone1                       future       1    Type I             L1   \n7   zone1                       future       1   Type IV            NaN   \n8   zone1                     homework       1  Type III             L1   \n9   zone1                   Internship       1   Type IV             L2   \n10  zone1                          lab       1   Type IV             L1   \n11  zone1                       health       1    Type I            NaN   \n12  zone1                presentations       1   Type II            NaN   \n13  zone1                presentations       1  Type III            NaN   \n14  zone1                presentations       1   Type IV             L1   \n15  zone1                     projects       1   Type II             L1   \n16  zone1            quizzes/&lt;br&gt;exams       1    Type I             L1   \n17  zone1                         work       1    Type I             L1   \n\n                       Category  \n0    Physical and Mental Health  \n1            Social Connections  \n2                      Academic  \n3                      Academic  \n4   Future, Career, and Finance  \n5   Future, Career, and Finance  \n6   Future, Career, and Finance  \n7   Future, Career, and Finance  \n8                      Academic  \n9   Future, Career, and Finance  \n10                     Academic  \n11   Physical and Mental Health  \n12                     Academic  \n13                     Academic  \n14                     Academic  \n15                     Academic  \n16                     Academic  \n17  Future, Career, and Finance  \n"
    }
   ],
   "source": [
    "df2 = pd.read_csv('./data/data3.csv')\n",
    "df2['Persona']=df2['Persona'].replace([1,2,3,4],['Type I','Type II','Type III','Type IV'])\n",
    "df2['ZONE']=df2['ZONE'].replace(['zone 2','zone 3','zone 4','zone 5','zone 6','zone 7','zone 8','zone 9'],\\\n",
    "    ['zone2','zone3','zone4','zone5','zone6','zone7','zone8','zone9'])\n",
    "df2['Item']=df2['Item'].replace(['midterms/finals','quizzes/exams'],['midterms/<br>finals','quizzes/<br>exams'])\n",
    "df2['Item']=df2['Item'].replace(['physical health','mental health'],['health','health'])\n",
    "zone1=df2[df2['ZONE']=='zone1']\n",
    "zone2=df2[df2['ZONE']=='zone2']\n",
    "zone3=df2[df2['ZONE']=='zone3']\n",
    "zone4=df2[df2['ZONE']=='zone4']\n",
    "zone5=df2[df2['ZONE']=='zone5']\n",
    "zone6=df2[df2['ZONE']=='zone6']\n",
    "zone7=df2[df2['ZONE']=='zone7']\n",
    "zone8=df2[df2['ZONE']=='zone8']\n",
    "zone9=df2[df2['ZONE']=='zone9']\n",
    "print(zone1)\n",
    "# import sys\n",
    "# mod = sys.modules[__name__]\n",
    "# for i in range(1,10):\n",
    "#     for j in range(1,5):\n",
    "#         setattr(mod,'p{j}_{i}'.format(j,i),'zone{i}[zone{i}[\\'Persona\\']==\\'persona{j}\\']]'.format(i,i,j))\n",
    "# print(p4_9)\n",
    "\n",
    "p1_1=zone1[zone1['Persona']=='persona1']\n",
    "p2_1=zone1[zone1['Persona']=='persona2']\n",
    "p3_1=zone1[zone1['Persona']=='persona3']\n",
    "p4_1=zone1[zone1['Persona']=='persona4']\n",
    "p1_2=zone2[zone2['Persona']=='persona1']\n",
    "p2_2=zone2[zone2['Persona']=='persona2']\n",
    "p3_2=zone2[zone2['Persona']=='persona3']\n",
    "p4_2=zone2[zone2['Persona']=='persona4']\n",
    "p1_3=zone3[zone3['Persona']=='persona1']\n",
    "p2_3=zone3[zone3['Persona']=='persona2']\n",
    "p3_3=zone3[zone3['Persona']=='persona3']\n",
    "p4_3=zone3[zone3['Persona']=='persona4']\n",
    "p1_4=zone4[zone4['Persona']=='persona1']\n",
    "p2_4=zone4[zone4['Persona']=='persona2']\n",
    "p3_4=zone4[zone4['Persona']=='persona3']\n",
    "p4_4=zone4[zone4['Persona']=='persona4']\n",
    "p1_5=zone5[zone5['Persona']=='persona1']\n",
    "p2_5=zone5[zone5['Persona']=='persona2']\n",
    "p3_5=zone5[zone5['Persona']=='persona3']\n",
    "p4_5=zone5[zone5['Persona']=='persona4']\n",
    "p1_6=zone6[zone6['Persona']=='persona1']\n",
    "p2_6=zone6[zone6['Persona']=='persona2']\n",
    "p3_6=zone6[zone6['Persona']=='persona3']\n",
    "p4_6=zone6[zone6['Persona']=='persona4']\n",
    "p1_7=zone7[zone7['Persona']=='persona1']\n",
    "p2_7=zone7[zone7['Persona']=='persona2']\n",
    "p3_7=zone7[zone7['Persona']=='persona3']\n",
    "p4_7=zone7[zone7['Persona']=='persona4']\n",
    "p1_8=zone8[zone8['Persona']=='persona1']\n",
    "p2_8=zone8[zone8['Persona']=='persona2']\n",
    "p3_8=zone8[zone8['Persona']=='persona3']\n",
    "p4_8=zone8[zone8['Persona']=='persona4']\n",
    "p1_9=zone9[zone9['Persona']=='persona1']\n",
    "p2_9=zone9[zone9['Persona']=='persona2']\n",
    "p3_9=zone9[zone9['Persona']=='persona3']\n",
    "p4_9=zone9[zone9['Persona']=='persona4']"
   ]
  },
  {
   "cell_type": "code",
   "execution_count": 193,
   "metadata": {
    "tags": []
   },
   "outputs": [
    {
     "output_type": "display_data",
     "data": {
      "application/vnd.plotly.v1+json": {
       "config": {
        "plotlyServerURL": "https://plotly.com"
       },
       "data": [
        {
         "domain": {
          "x": [
           0,
           0.33
          ],
          "y": [
           0,
           0.28
          ]
         },
         "hovertemplate": "%{hovertext}<br>%{value} vote(s)",
         "hovertext": [
          "Type IV",
          "Type I",
          "Type I",
          "Type II",
          "Type IV",
          "Type IV",
          "Type I",
          "Type IV",
          "Type IV",
          "Type IV",
          "Type II",
          "Type III",
          "Type II",
          "Type I",
          "Type IV",
          "Type I",
          "Type III",
          "Type I",
          "Internship",
          "being vulnerable in therapy",
          "being with/around friends",
          "class",
          "finances",
          "future",
          "health",
          "homework",
          "lab",
          "presentations",
          "projects",
          "quizzes/<br>exams",
          "work"
         ],
         "ids": [
          "presentations/Type IV",
          "finances/Type I",
          "quizzes/<br>exams/Type I",
          "class/Type II",
          "lab/Type IV",
          "Internship/Type IV",
          "future/Type I",
          "future/Type IV",
          "being vulnerable in therapy/Type IV",
          "class/Type IV",
          "projects/Type II",
          "homework/Type III",
          "presentations/Type II",
          "work/Type I",
          "finances/Type IV",
          "health/Type I",
          "presentations/Type III",
          "being with/around friends/Type I",
          "Internship",
          "being vulnerable in therapy",
          "being with/around friends",
          "class",
          "finances",
          "future",
          "health",
          "homework",
          "lab",
          "presentations",
          "projects",
          "quizzes/<br>exams",
          "work"
         ],
         "insidetextfont": {
          "color": "#050505",
          "family": "courier",
          "size": 20
         },
         "insidetextorientation": "radial",
         "labels": [
          "",
          "",
          "",
          "",
          "",
          "",
          "",
          "",
          "",
          "",
          "",
          "",
          "",
          "",
          "",
          "",
          "",
          "",
          "Internship",
          "being vulnerable in therapy",
          "being with/around friends",
          "class",
          "finances",
          "future",
          "health",
          "homework",
          "lab",
          "presentations",
          "projects",
          "quizzes/<br>exams",
          "work"
         ],
         "marker": {
          "colors": [
           "#a9d1c8",
           "#eba092",
           "#eba092",
           "#dccf82",
           "#a9d1c8",
           "#a9d1c8",
           "#eba092",
           "#a9d1c8",
           "#a9d1c8",
           "#a9d1c8",
           "#dccf82",
           " #a9a9ca",
           "#dccf82",
           "#eba092",
           "#a9d1c8",
           "#eba092",
           " #a9a9ca",
           "#eba092",
           "#a9d1c8",
           "#a9d1c8",
           "#eba092",
           "#bfbfbf",
           "#bfbfbf",
           "#bfbfbf",
           "#eba092",
           " #a9a9ca",
           "#a9d1c8",
           "#bfbfbf",
           "#dccf82",
           "#eba092",
           "#eba092"
          ]
         },
         "name": "",
         "opacity": 0.6,
         "parents": [
          "presentations",
          "finances",
          "quizzes/<br>exams",
          "class",
          "lab",
          "Internship",
          "future",
          "future",
          "being vulnerable in therapy",
          "class",
          "projects",
          "homework",
          "presentations",
          "work",
          "finances",
          "health",
          "presentations",
          "being with/around friends",
          "",
          "",
          "",
          "",
          "",
          "",
          "",
          "",
          "",
          "",
          "",
          "",
          ""
         ],
         "type": "sunburst",
         "values": [
          1,
          2,
          1,
          1,
          1,
          1,
          1,
          1,
          1,
          1,
          1,
          1,
          1,
          1,
          1,
          1,
          1,
          1,
          1,
          1,
          1,
          2,
          3,
          2,
          1,
          1,
          1,
          3,
          1,
          1,
          1
         ]
        },
        {
         "domain": {
          "x": [
           0.33,
           0.66
          ],
          "y": [
           0,
           0.28
          ]
         },
         "hovertemplate": "%{hovertext}<br>%{value} vote(s)",
         "hovertext": [
          "Type II",
          "Type II",
          "Type III",
          "Type IV",
          "Type I",
          "Type I",
          "Type I",
          "Type II",
          "Type III",
          "Type IV",
          "Type I",
          "Type II",
          "Type II",
          "Type II",
          "Type III",
          "Type IV",
          "family",
          "going to church",
          "health",
          "homework",
          "optional programs",
          "planning",
          "presentations",
          "projects",
          "quizzes/<br>exams",
          "relationship",
          "work",
          "workout"
         ],
         "ids": [
          "health/Type II",
          "projects/Type II",
          "going to church/Type III",
          "presentations/Type IV",
          "planning/Type I",
          "quizzes/<br>exams/Type I",
          "work/Type I",
          "relationship/Type II",
          "projects/Type III",
          "work/Type IV",
          "projects/Type I",
          "family/Type II",
          "workout/Type II",
          "homework/Type II",
          "optional programs/Type III",
          "quizzes/<br>exams/Type IV",
          "family",
          "going to church",
          "health",
          "homework",
          "optional programs",
          "planning",
          "presentations",
          "projects",
          "quizzes/<br>exams",
          "relationship",
          "work",
          "workout"
         ],
         "insidetextfont": {
          "color": "#050505",
          "family": "courier",
          "size": 20
         },
         "labels": [
          "",
          "",
          "",
          "",
          "",
          "",
          "",
          "",
          "",
          "",
          "",
          "",
          "",
          "",
          "",
          "",
          "family",
          "going to church",
          "health",
          "homework",
          "optional programs",
          "planning",
          "presentations",
          "projects",
          "quizzes/<br>exams",
          "relationship",
          "work",
          "workout"
         ],
         "marker": {
          "colors": [
           "#dccf82",
           "#dccf82",
           " #a9a9ca",
           "#a9d1c8",
           "#eba092",
           "#eba092",
           "#eba092",
           "#dccf82",
           " #a9a9ca",
           "#a9d1c8",
           "#eba092",
           "#dccf82",
           "#dccf82",
           "#dccf82",
           " #a9a9ca",
           "#a9d1c8",
           "#dccf82",
           " #a9a9ca",
           "#dccf82",
           "#dccf82",
           " #a9a9ca",
           "#eba092",
           "#a9d1c8",
           "#bfbfbf",
           "#bfbfbf",
           "#dccf82",
           "#bfbfbf",
           "#dccf82"
          ]
         },
         "name": "",
         "opacity": 0.6,
         "parents": [
          "health",
          "projects",
          "going to church",
          "presentations",
          "planning",
          "quizzes/<br>exams",
          "work",
          "relationship",
          "projects",
          "work",
          "projects",
          "family",
          "workout",
          "homework",
          "optional programs",
          "quizzes/<br>exams",
          "",
          "",
          "",
          "",
          "",
          "",
          "",
          "",
          "",
          "",
          "",
          ""
         ],
         "type": "sunburst",
         "values": [
          1,
          1,
          1,
          1,
          1,
          2,
          1,
          2,
          1,
          1,
          1,
          1,
          1,
          1,
          1,
          1,
          1,
          1,
          1,
          1,
          1,
          1,
          1,
          3,
          3,
          2,
          2,
          1
         ]
        },
        {
         "domain": {
          "x": [
           0.66,
           1
          ],
          "y": [
           0,
           0.28
          ]
         },
         "hovertemplate": "%{hovertext}<br>%{value} vote(s)",
         "hovertext": [
          "Type I",
          "Type I",
          "Type III",
          "Type III",
          "Type II",
          "Type II",
          "Type II",
          "Type II",
          "Type IV",
          "Type II",
          "Type IV",
          "Type III",
          "Type IV",
          "Type I",
          "Type I",
          "Type III",
          "Type I",
          "Type I",
          "Type IV",
          "Type II",
          "Type I",
          "Type I",
          "Type I",
          "developing accessible hobbies",
          "group work",
          "health",
          "homework",
          "hygiene",
          "lectures",
          "planning",
          "presentations",
          "quizzes/<br>exams",
          "relationship",
          "sleep",
          "work",
          "writing papers"
         ],
         "ids": [
          "lectures/Type I",
          "planning/Type I",
          "sleep/Type III",
          "homework/Type III",
          "writing papers/Type II",
          "relationship/Type II",
          "homework/Type II",
          "hygiene/Type II",
          "hygiene/Type IV",
          "planning/Type II",
          "developing accessible hobbies/Type IV",
          "quizzes/<br>exams/Type III",
          "presentations/Type IV",
          "sleep/Type I",
          "presentations/Type I",
          "group work/Type III",
          "quizzes/<br>exams/Type I",
          "homework/Type I",
          "homework/Type IV",
          "sleep/Type II",
          "relationship/Type I",
          "work/Type I",
          "health/Type I",
          "developing accessible hobbies",
          "group work",
          "health",
          "homework",
          "hygiene",
          "lectures",
          "planning",
          "presentations",
          "quizzes/<br>exams",
          "relationship",
          "sleep",
          "work",
          "writing papers"
         ],
         "insidetextfont": {
          "color": "#050505",
          "family": "courier",
          "size": 20
         },
         "labels": [
          "",
          "",
          "",
          "",
          "",
          "",
          "",
          "",
          "",
          "",
          "",
          "",
          "",
          "",
          "",
          "",
          "",
          "",
          "",
          "",
          "",
          "",
          "",
          "developing accessible hobbies",
          "group work",
          "health",
          "homework",
          "hygiene",
          "lectures",
          "planning",
          "presentations",
          "quizzes/<br>exams",
          "relationship",
          "sleep",
          "work",
          "writing papers"
         ],
         "marker": {
          "colors": [
           "#eba092",
           "#eba092",
           " #a9a9ca",
           " #a9a9ca",
           "#dccf82",
           "#dccf82",
           "#dccf82",
           "#dccf82",
           "#a9d1c8",
           "#dccf82",
           "#a9d1c8",
           " #a9a9ca",
           "#a9d1c8",
           "#eba092",
           "#eba092",
           " #a9a9ca",
           "#eba092",
           "#eba092",
           "#a9d1c8",
           "#dccf82",
           "#eba092",
           "#eba092",
           "#eba092",
           "#a9d1c8",
           " #a9a9ca",
           "#eba092",
           "#bfbfbf",
           "#bfbfbf",
           "#eba092",
           "#bfbfbf",
           "#bfbfbf",
           "#bfbfbf",
           "#bfbfbf",
           "#bfbfbf",
           "#eba092",
           "#dccf82"
          ]
         },
         "name": "",
         "opacity": 0.6,
         "parents": [
          "lectures",
          "planning",
          "sleep",
          "homework",
          "writing papers",
          "relationship",
          "homework",
          "hygiene",
          "hygiene",
          "planning",
          "developing accessible hobbies",
          "quizzes/<br>exams",
          "presentations",
          "sleep",
          "presentations",
          "group work",
          "quizzes/<br>exams",
          "homework",
          "homework",
          "sleep",
          "relationship",
          "work",
          "health",
          "",
          "",
          "",
          "",
          "",
          "",
          "",
          "",
          "",
          "",
          "",
          "",
          ""
         ],
         "type": "sunburst",
         "values": [
          2,
          1,
          1,
          1,
          1,
          1,
          1,
          1,
          1,
          1,
          1,
          1,
          1,
          2,
          1,
          1,
          2,
          2,
          4,
          1,
          1,
          1,
          3,
          1,
          1,
          3,
          8,
          2,
          2,
          2,
          2,
          3,
          2,
          4,
          1,
          1
         ]
        },
        {
         "domain": {
          "x": [
           0,
           0.33
          ],
          "y": [
           0.33,
           0.61
          ]
         },
         "hovertemplate": "%{hovertext}<br>%{value} vote(s)",
         "hovertext": [
          "Type III",
          "Type I",
          "Type I",
          "Type II",
          "Type II",
          "Type II",
          "Type IV",
          "Type I",
          "Type IV",
          "Type IV",
          "Type III",
          "Type IV",
          "Type I",
          "Type II",
          "Type III",
          "Type IV",
          "Type IV",
          "Type II",
          "Type IV",
          "Type I",
          "Type I",
          "Type IV",
          "Type IV",
          "Family",
          "GPA",
          "Resident Advising",
          "class",
          "health",
          "housing",
          "internship",
          "midterms/<br>finals",
          "optional academic programs",
          "presentations",
          "projects",
          "quizzes/<br>exams",
          "scholarship",
          "socializing",
          "study abroad",
          "when I feel like I don’t have time",
          "writing papers"
         ],
         "ids": [
          "class/Type III",
          "optional academic programs/Type I",
          "presentations/Type I",
          "GPA/Type II",
          "scholarship/Type II",
          "study abroad/Type II",
          "scholarship/Type IV",
          "midterms/<br>finals/Type I",
          "projects/Type IV",
          "class/Type IV",
          "internship/Type III",
          "quizzes/<br>exams/Type IV",
          "health/Type I",
          "presentations/Type II",
          "socializing/Type III",
          "Family/Type IV",
          "Resident Advising/Type IV",
          "socializing/Type II",
          "midterms/<br>finals/Type IV",
          "internship/Type I",
          "housing/Type I",
          "when I feel like I don’t have time/Type IV",
          "writing papers/Type IV",
          "Family",
          "GPA",
          "Resident Advising",
          "class",
          "health",
          "housing",
          "internship",
          "midterms/<br>finals",
          "optional academic programs",
          "presentations",
          "projects",
          "quizzes/<br>exams",
          "scholarship",
          "socializing",
          "study abroad",
          "when I feel like I don’t have time",
          "writing papers"
         ],
         "insidetextfont": {
          "color": "#050505",
          "family": "courier",
          "size": 20
         },
         "insidetextorientation": "radial",
         "labels": [
          "",
          "",
          "",
          "",
          "",
          "",
          "",
          "",
          "",
          "",
          "",
          "",
          "",
          "",
          "",
          "",
          "",
          "",
          "",
          "",
          "",
          "",
          "",
          "Family",
          "GPA",
          "Resident Advising",
          "class",
          "health",
          "housing",
          "internship",
          "midterms/<br>finals",
          "optional academic programs",
          "presentations",
          "projects",
          "quizzes/<br>exams",
          "scholarship",
          "socializing",
          "study abroad",
          "when I feel like I don’t have time",
          "writing papers"
         ],
         "marker": {
          "colors": [
           " #a9a9ca",
           "#eba092",
           "#eba092",
           "#dccf82",
           "#dccf82",
           "#dccf82",
           "#a9d1c8",
           "#eba092",
           "#a9d1c8",
           "#a9d1c8",
           " #a9a9ca",
           "#a9d1c8",
           "#eba092",
           "#dccf82",
           " #a9a9ca",
           "#a9d1c8",
           "#a9d1c8",
           "#dccf82",
           "#a9d1c8",
           "#eba092",
           "#eba092",
           "#a9d1c8",
           "#a9d1c8",
           "#a9d1c8",
           "#dccf82",
           "#a9d1c8",
           "#bfbfbf",
           "#eba092",
           "#eba092",
           "#bfbfbf",
           "#bfbfbf",
           "#eba092",
           "#bfbfbf",
           "#a9d1c8",
           "#a9d1c8",
           "#bfbfbf",
           "#bfbfbf",
           "#dccf82",
           "#a9d1c8",
           "#a9d1c8"
          ]
         },
         "name": "",
         "opacity": 0.6,
         "parents": [
          "class",
          "optional academic programs",
          "presentations",
          "GPA",
          "scholarship",
          "study abroad",
          "scholarship",
          "midterms/<br>finals",
          "projects",
          "class",
          "internship",
          "quizzes/<br>exams",
          "health",
          "presentations",
          "socializing",
          "Family",
          "Resident Advising",
          "socializing",
          "midterms/<br>finals",
          "internship",
          "housing",
          "when I feel like I don’t have time",
          "writing papers",
          "",
          "",
          "",
          "",
          "",
          "",
          "",
          "",
          "",
          "",
          "",
          "",
          "",
          "",
          "",
          "",
          ""
         ],
         "type": "sunburst",
         "values": [
          1,
          1,
          2,
          1,
          1,
          1,
          1,
          1,
          1,
          1,
          1,
          1,
          1,
          2,
          1,
          1,
          1,
          1,
          1,
          1,
          1,
          1,
          1,
          1,
          1,
          1,
          2,
          1,
          1,
          2,
          2,
          1,
          4,
          1,
          1,
          2,
          2,
          1,
          1,
          1
         ]
        },
        {
         "domain": {
          "x": [
           0.33,
           0.66
          ],
          "y": [
           0.33,
           0.61
          ]
         },
         "hovertemplate": "%{hovertext}<br>%{value} vote(s)",
         "hovertext": [
          "Type II",
          "Type IV",
          "Type III",
          "Type III",
          "Type III",
          "Type II",
          "Type II",
          "Type I",
          "Type I",
          "Type IV",
          "Type I",
          "Type I",
          "Type III",
          "Type I",
          "Type I",
          "Type I",
          "Type I",
          "Type I",
          "Type IV",
          "Type I",
          "Type IV",
          "Type IV",
          "Type I",
          "Type I",
          "Type IV",
          "Type II",
          "Type III",
          "body image",
          "class",
          "family",
          "finances",
          "future",
          "group work",
          "health ",
          "homework",
          "internships",
          "job and career",
          "lab",
          "midterms/<br>finals",
          "optional academic programs",
          "presentations",
          "projects",
          "quizzes/<br>exams",
          "relationship",
          "socializing",
          "study abroad"
         ],
         "ids": [
          "finances/Type II",
          "group work/Type IV",
          "quizzes/<br>exams/Type III",
          "family/Type III",
          "class/Type III",
          "homework/Type II",
          "body image/Type II",
          "study abroad/Type I",
          "relationship/Type I",
          "socializing/Type IV",
          "projects/Type I",
          "internships/Type I",
          "relationship/Type III",
          "quizzes/<br>exams/Type I",
          "lab/Type I",
          "family/Type I",
          "midterms/<br>finals/Type I",
          "job and career/Type I",
          "future/Type IV",
          "health /Type I",
          "optional academic programs/Type IV",
          "relationship/Type IV",
          "optional academic programs/Type I",
          "presentations/Type I",
          "projects/Type IV",
          "quizzes/<br>exams/Type II",
          "finances/Type III",
          "body image",
          "class",
          "family",
          "finances",
          "future",
          "group work",
          "health ",
          "homework",
          "internships",
          "job and career",
          "lab",
          "midterms/<br>finals",
          "optional academic programs",
          "presentations",
          "projects",
          "quizzes/<br>exams",
          "relationship",
          "socializing",
          "study abroad"
         ],
         "insidetextfont": {
          "color": "#050505",
          "family": "courier",
          "size": 20
         },
         "labels": [
          "",
          "",
          "",
          "",
          "",
          "",
          "",
          "",
          "",
          "",
          "",
          "",
          "",
          "",
          "",
          "",
          "",
          "",
          "",
          "",
          "",
          "",
          "",
          "",
          "",
          "",
          "",
          "body image",
          "class",
          "family",
          "finances",
          "future",
          "group work",
          "health ",
          "homework",
          "internships",
          "job and career",
          "lab",
          "midterms/<br>finals",
          "optional academic programs",
          "presentations",
          "projects",
          "quizzes/<br>exams",
          "relationship",
          "socializing",
          "study abroad"
         ],
         "marker": {
          "colors": [
           "#dccf82",
           "#a9d1c8",
           " #a9a9ca",
           " #a9a9ca",
           " #a9a9ca",
           "#dccf82",
           "#dccf82",
           "#eba092",
           "#eba092",
           "#a9d1c8",
           "#eba092",
           "#eba092",
           " #a9a9ca",
           "#eba092",
           "#eba092",
           "#eba092",
           "#eba092",
           "#eba092",
           "#a9d1c8",
           "#eba092",
           "#a9d1c8",
           "#a9d1c8",
           "#eba092",
           "#eba092",
           "#a9d1c8",
           "#dccf82",
           " #a9a9ca",
           "#dccf82",
           " #a9a9ca",
           "#bfbfbf",
           "#bfbfbf",
           "#a9d1c8",
           "#a9d1c8",
           "#eba092",
           "#dccf82",
           "#eba092",
           "#eba092",
           "#eba092",
           "#eba092",
           "#bfbfbf",
           "#eba092",
           "#bfbfbf",
           "#bfbfbf",
           "#bfbfbf",
           "#a9d1c8",
           "#eba092"
          ]
         },
         "name": "",
         "opacity": 0.6,
         "parents": [
          "finances",
          "group work",
          "quizzes/<br>exams",
          "family",
          "class",
          "homework",
          "body image",
          "study abroad",
          "relationship",
          "socializing",
          "projects",
          "internships",
          "relationship",
          "quizzes/<br>exams",
          "lab",
          "family",
          "midterms/<br>finals",
          "job and career",
          "future",
          "health ",
          "optional academic programs",
          "relationship",
          "optional academic programs",
          "presentations",
          "projects",
          "quizzes/<br>exams",
          "finances",
          "",
          "",
          "",
          "",
          "",
          "",
          "",
          "",
          "",
          "",
          "",
          "",
          "",
          "",
          "",
          "",
          "",
          "",
          ""
         ],
         "type": "sunburst",
         "values": [
          1,
          1,
          1,
          1,
          1,
          1,
          1,
          1,
          1,
          1,
          1,
          1,
          2,
          2,
          1,
          1,
          2,
          1,
          1,
          1,
          2,
          1,
          1,
          1,
          1,
          4,
          1,
          1,
          1,
          2,
          2,
          1,
          1,
          1,
          1,
          1,
          1,
          1,
          2,
          3,
          1,
          2,
          7,
          4,
          1,
          1
         ]
        },
        {
         "domain": {
          "x": [
           0.66,
           1
          ],
          "y": [
           0.33,
           0.61
          ]
         },
         "hovertemplate": "%{hovertext}<br>%{value} vote(s)",
         "hovertext": [
          "Type I",
          "Type IV",
          "Type I",
          "Type II",
          "Type III",
          "Type III",
          "Type I",
          "Type II",
          "Type IV",
          "Type IV",
          "Type III",
          "Type I",
          "Type IV",
          "Type II",
          "Type II",
          "Type III",
          "Type II",
          "Type I",
          "Type I",
          "Type III",
          "Type IV",
          "class",
          "finance",
          "future",
          "health",
          "homework",
          "hygiene ",
          "lectures",
          "presentations",
          "projects",
          "quizzes/<br>exams",
          "relationship",
          "work"
         ],
         "ids": [
          "class/Type I",
          "health/Type IV",
          "relationship/Type I",
          "quizzes/<br>exams/Type II",
          "future/Type III",
          "presentations/Type III",
          "health/Type I",
          "finance/Type II",
          "lectures/Type IV",
          "finance/Type IV",
          "quizzes/<br>exams/Type III",
          "lectures/Type I",
          "future/Type IV",
          "homework/Type II",
          "projects/Type II",
          "hygiene /Type III",
          "work/Type II",
          "projects/Type I",
          "homework/Type I",
          "homework/Type III",
          "work/Type IV",
          "class",
          "finance",
          "future",
          "health",
          "homework",
          "hygiene ",
          "lectures",
          "presentations",
          "projects",
          "quizzes/<br>exams",
          "relationship",
          "work"
         ],
         "insidetextfont": {
          "color": "#050505",
          "family": "courier",
          "size": 20
         },
         "labels": [
          "",
          "",
          "",
          "",
          "",
          "",
          "",
          "",
          "",
          "",
          "",
          "",
          "",
          "",
          "",
          "",
          "",
          "",
          "",
          "",
          "",
          "class",
          "finance",
          "future",
          "health",
          "homework",
          "hygiene ",
          "lectures",
          "presentations",
          "projects",
          "quizzes/<br>exams",
          "relationship",
          "work"
         ],
         "marker": {
          "colors": [
           "#eba092",
           "#a9d1c8",
           "#eba092",
           "#dccf82",
           " #a9a9ca",
           " #a9a9ca",
           "#eba092",
           "#dccf82",
           "#a9d1c8",
           "#a9d1c8",
           " #a9a9ca",
           "#eba092",
           "#a9d1c8",
           "#dccf82",
           "#dccf82",
           " #a9a9ca",
           "#dccf82",
           "#eba092",
           "#eba092",
           " #a9a9ca",
           "#a9d1c8",
           "#eba092",
           "#bfbfbf",
           "#bfbfbf",
           "#bfbfbf",
           "#bfbfbf",
           " #a9a9ca",
           "#bfbfbf",
           " #a9a9ca",
           "#bfbfbf",
           "#bfbfbf",
           "#eba092",
           "#bfbfbf"
          ]
         },
         "name": "",
         "opacity": 0.6,
         "parents": [
          "class",
          "health",
          "relationship",
          "quizzes/<br>exams",
          "future",
          "presentations",
          "health",
          "finance",
          "lectures",
          "finance",
          "quizzes/<br>exams",
          "lectures",
          "future",
          "homework",
          "projects",
          "hygiene ",
          "work",
          "projects",
          "homework",
          "homework",
          "work",
          "",
          "",
          "",
          "",
          "",
          "",
          "",
          "",
          "",
          "",
          "",
          ""
         ],
         "type": "sunburst",
         "values": [
          1,
          1,
          1,
          2,
          1,
          1,
          1,
          1,
          1,
          1,
          1,
          1,
          1,
          2,
          1,
          1,
          2,
          2,
          3,
          1,
          1,
          1,
          2,
          2,
          2,
          6,
          1,
          2,
          1,
          3,
          3,
          1,
          3
         ]
        },
        {
         "domain": {
          "x": [
           0,
           0.33
          ],
          "y": [
           0.66,
           0.95
          ]
         },
         "hovertemplate": "%{hovertext}<br>%{value} vote(s)",
         "hovertext": [
          "Type I",
          "Type II",
          "Type II",
          "Type I",
          "Type IV",
          "Type I",
          "Type I",
          "Type III",
          "Type I",
          "Type III",
          "Type III",
          "Type II",
          "Type I",
          "Type III",
          "Type III",
          "Type II",
          "Type II",
          "GPA",
          "future",
          "group work",
          "health",
          "internship and job search ",
          "midterms/<br>finals",
          "presentations",
          "projects",
          "quizzes/<br>exams",
          "relationship",
          "talking to teachers"
         ],
         "ids": [
          "future/Type I",
          "relationship/Type II",
          "quizzes/<br>exams/Type II",
          "projects/Type I",
          "midterms/<br>finals/Type IV",
          "presentations/Type I",
          "talking to teachers/Type I",
          "quizzes/<br>exams/Type III",
          "internship and job search /Type I",
          "group work/Type III",
          "midterms/<br>finals/Type III",
          "GPA/Type II",
          "midterms/<br>finals/Type I",
          "health/Type III",
          "projects/Type III",
          "projects/Type II",
          "midterms/<br>finals/Type II",
          "GPA",
          "future",
          "group work",
          "health",
          "internship and job search ",
          "midterms/<br>finals",
          "presentations",
          "projects",
          "quizzes/<br>exams",
          "relationship",
          "talking to teachers"
         ],
         "insidetextfont": {
          "color": "#050505",
          "family": "courier",
          "size": 20
         },
         "labels": [
          "",
          "",
          "",
          "",
          "",
          "",
          "",
          "",
          "",
          "",
          "",
          "",
          "",
          "",
          "",
          "",
          "",
          "GPA",
          "future",
          "group work",
          "health",
          "internship and job search ",
          "midterms/<br>finals",
          "presentations",
          "projects",
          "quizzes/<br>exams",
          "relationship",
          "talking to teachers"
         ],
         "marker": {
          "colors": [
           "#eba092",
           "#dccf82",
           "#dccf82",
           "#eba092",
           "#a9d1c8",
           "#eba092",
           "#eba092",
           " #a9a9ca",
           "#eba092",
           " #a9a9ca",
           " #a9a9ca",
           "#dccf82",
           "#eba092",
           " #a9a9ca",
           " #a9a9ca",
           "#dccf82",
           "#dccf82",
           "#dccf82",
           "#eba092",
           " #a9a9ca",
           " #a9a9ca",
           "#eba092",
           "#bfbfbf",
           "#eba092",
           "#bfbfbf",
           "#bfbfbf",
           "#dccf82",
           "#eba092"
          ]
         },
         "name": "",
         "opacity": 0.6,
         "parents": [
          "future",
          "relationship",
          "quizzes/<br>exams",
          "projects",
          "midterms/<br>finals",
          "presentations",
          "talking to teachers",
          "quizzes/<br>exams",
          "internship and job search ",
          "group work",
          "midterms/<br>finals",
          "GPA",
          "midterms/<br>finals",
          "health",
          "projects",
          "projects",
          "midterms/<br>finals",
          "",
          "",
          "",
          "",
          "",
          "",
          "",
          "",
          "",
          "",
          ""
         ],
         "type": "sunburst",
         "values": [
          1,
          1,
          1,
          1,
          1,
          1,
          1,
          1,
          1,
          1,
          2,
          1,
          2,
          1,
          1,
          1,
          4,
          1,
          1,
          1,
          1,
          1,
          9,
          1,
          3,
          2,
          1,
          1
         ]
        },
        {
         "domain": {
          "x": [
           0.33,
           0.66
          ],
          "y": [
           0.66,
           0.95
          ]
         },
         "hovertemplate": "%{hovertext}<br>%{value} vote(s)",
         "hovertext": [
          "Type I",
          "Type I",
          "Type I",
          "Type II",
          "Type II",
          "Type III",
          "Type IV",
          "Type I",
          "Type I",
          "Type III",
          "Type I",
          "Type III",
          "Type III",
          "Type IV",
          "Type I",
          "Type II",
          "GPA",
          "body image",
          "compounding stress",
          "finances",
          "future",
          "health",
          "homework",
          "mean classmates",
          "midterms/<br>finals",
          "projects",
          "quizzes/<br>exams"
         ],
         "ids": [
          "GPA/Type I",
          "mean classmates/Type I",
          "midterms/<br>finals/Type I",
          "health/Type II",
          "midterms/<br>finals/Type II",
          "projects/Type III",
          "compounding stress/Type IV",
          "projects/Type I",
          "quizzes/<br>exams/Type I",
          "finances/Type III",
          "future/Type I",
          "midterms/<br>finals/Type III",
          "quizzes/<br>exams/Type III",
          "health/Type IV",
          "body image/Type I",
          "homework/Type II",
          "GPA",
          "body image",
          "compounding stress",
          "finances",
          "future",
          "health",
          "homework",
          "mean classmates",
          "midterms/<br>finals",
          "projects",
          "quizzes/<br>exams"
         ],
         "insidetextfont": {
          "color": "#050505",
          "family": "courier",
          "size": 20
         },
         "labels": [
          "",
          "",
          "",
          "",
          "",
          "",
          "",
          "",
          "",
          "",
          "",
          "",
          "",
          "",
          "",
          "",
          "GPA",
          "body image",
          "compounding stress",
          "finances",
          "future",
          "health",
          "homework",
          "mean classmates",
          "midterms/<br>finals",
          "projects",
          "quizzes/<br>exams"
         ],
         "marker": {
          "colors": [
           "#eba092",
           "#eba092",
           "#eba092",
           "#dccf82",
           "#dccf82",
           " #a9a9ca",
           "#a9d1c8",
           "#eba092",
           "#eba092",
           " #a9a9ca",
           "#eba092",
           " #a9a9ca",
           " #a9a9ca",
           "#a9d1c8",
           "#eba092",
           "#dccf82",
           "#eba092",
           "#eba092",
           "#a9d1c8",
           " #a9a9ca",
           "#eba092",
           "#bfbfbf",
           "#dccf82",
           "#eba092",
           "#bfbfbf",
           "#bfbfbf",
           "#bfbfbf"
          ]
         },
         "name": "",
         "opacity": 0.6,
         "parents": [
          "GPA",
          "mean classmates",
          "midterms/<br>finals",
          "health",
          "midterms/<br>finals",
          "projects",
          "compounding stress",
          "projects",
          "quizzes/<br>exams",
          "finances",
          "future",
          "midterms/<br>finals",
          "quizzes/<br>exams",
          "health",
          "body image",
          "homework",
          "",
          "",
          "",
          "",
          "",
          "",
          "",
          "",
          "",
          "",
          ""
         ],
         "type": "sunburst",
         "values": [
          1,
          1,
          3,
          1,
          2,
          1,
          1,
          2,
          3,
          1,
          2,
          1,
          1,
          1,
          1,
          1,
          1,
          1,
          1,
          1,
          2,
          2,
          1,
          1,
          6,
          3,
          4
         ]
        },
        {
         "domain": {
          "x": [
           0.66,
           1
          ],
          "y": [
           0.66,
           0.95
          ]
         },
         "hovertemplate": "%{hovertext}<br>%{value} vote(s)",
         "hovertext": [
          "Type I",
          "Type I",
          "Type I",
          "Type III",
          "Type I",
          "Type III",
          "Type I",
          "Type II",
          "Type IV",
          "Type II",
          "Type III",
          "Type III",
          "Type III",
          "Type II",
          "Type II",
          "Type I",
          "Type III",
          "Type I",
          "Type III",
          "Type I",
          "Type I",
          "Type III",
          "Type II",
          "class",
          "Type I",
          "Type IV",
          "family",
          "finances",
          "future",
          "group projects",
          "health",
          "homework",
          "loss of parents",
          "planning",
          "projects",
          "quizzes/<br>exams",
          "relationships",
          "socializing",
          "work"
         ],
         "ids": [
          "class/Type I",
          "finances/Type I",
          "future/Type I",
          "homework/Type III",
          "health/Type I",
          "health/Type III",
          "socializing/Type I",
          "health/Type II",
          "relationships/Type IV",
          "loss of parents/Type II",
          "relationships/Type III",
          "future/Type III",
          "finances/Type III",
          "quizzes/<br>exams/Type II",
          "homework/Type II",
          "homework/Type I",
          "class/Type III",
          "planning/Type I",
          "group projects/Type III",
          "group projects/Type I",
          "family/Type I",
          "work/Type III",
          "future/Type II",
          "class",
          "projects/Type I",
          "future/Type IV",
          "family",
          "finances",
          "future",
          "group projects",
          "health",
          "homework",
          "loss of parents",
          "planning",
          "projects",
          "quizzes/<br>exams",
          "relationships",
          "socializing",
          "work"
         ],
         "insidetextfont": {
          "color": "#050505",
          "family": "courier",
          "size": 20
         },
         "labels": [
          "",
          "",
          "",
          "",
          "",
          "",
          "",
          "",
          "",
          "",
          "",
          "",
          "",
          "",
          "",
          "",
          "",
          "",
          "",
          "",
          "",
          "",
          "",
          "class",
          "",
          "",
          "family",
          "finances",
          "future",
          "group projects",
          "health",
          "homework",
          "loss of parents",
          "planning",
          "projects",
          "quizzes/<br>exams",
          "relationships",
          "socializing",
          "work"
         ],
         "marker": {
          "colors": [
           "#eba092",
           "#eba092",
           "#eba092",
           " #a9a9ca",
           "#eba092",
           " #a9a9ca",
           "#eba092",
           "#dccf82",
           "#a9d1c8",
           "#dccf82",
           " #a9a9ca",
           " #a9a9ca",
           " #a9a9ca",
           "#dccf82",
           "#dccf82",
           "#eba092",
           " #a9a9ca",
           "#eba092",
           " #a9a9ca",
           "#eba092",
           "#eba092",
           " #a9a9ca",
           "#dccf82",
           "#bfbfbf",
           "#eba092",
           "#a9d1c8",
           "#eba092",
           "#bfbfbf",
           "#bfbfbf",
           "#bfbfbf",
           "#bfbfbf",
           "#bfbfbf",
           "#dccf82",
           "#eba092",
           "#eba092",
           "#dccf82",
           "#bfbfbf",
           "#eba092",
           " #a9a9ca"
          ]
         },
         "name": "",
         "opacity": 0.6,
         "parents": [
          "class",
          "finances",
          "future",
          "homework",
          "health",
          "health",
          "socializing",
          "health",
          "relationships",
          "loss of parents",
          "relationships",
          "future",
          "finances",
          "quizzes/<br>exams",
          "homework",
          "homework",
          "class",
          "planning",
          "group projects",
          "group projects",
          "family",
          "work",
          "future",
          "",
          "projects",
          "future",
          "",
          "",
          "",
          "",
          "",
          "",
          "",
          "",
          "",
          "",
          "",
          "",
          ""
         ],
         "type": "sunburst",
         "values": [
          1,
          1,
          2,
          2,
          1,
          2,
          1,
          2,
          1,
          1,
          1,
          3,
          1,
          1,
          1,
          1,
          1,
          1,
          1,
          2,
          1,
          1,
          1,
          2,
          1,
          1,
          1,
          2,
          7,
          3,
          5,
          4,
          1,
          1,
          1,
          1,
          2,
          1,
          1
         ]
        }
       ],
       "layout": {
        "autosize": false,
        "height": 800,
        "images": [
         {
          "layer": "below",
          "sizex": 1,
          "sizey": 1.08,
          "sizing": "stretch",
          "source": "https://raw.githubusercontent.com/brianzy/ploty-project/master/pic/1200bg.png",
          "x": -0.03,
          "xref": "paper",
          "y": 1,
          "yref": "paper"
         }
        ],
        "template": {
         "data": {
          "bar": [
           {
            "error_x": {
             "color": "#2a3f5f"
            },
            "error_y": {
             "color": "#2a3f5f"
            },
            "marker": {
             "line": {
              "color": "#E5ECF6",
              "width": 0.5
             }
            },
            "type": "bar"
           }
          ],
          "barpolar": [
           {
            "marker": {
             "line": {
              "color": "#E5ECF6",
              "width": 0.5
             }
            },
            "type": "barpolar"
           }
          ],
          "carpet": [
           {
            "aaxis": {
             "endlinecolor": "#2a3f5f",
             "gridcolor": "white",
             "linecolor": "white",
             "minorgridcolor": "white",
             "startlinecolor": "#2a3f5f"
            },
            "baxis": {
             "endlinecolor": "#2a3f5f",
             "gridcolor": "white",
             "linecolor": "white",
             "minorgridcolor": "white",
             "startlinecolor": "#2a3f5f"
            },
            "type": "carpet"
           }
          ],
          "choropleth": [
           {
            "colorbar": {
             "outlinewidth": 0,
             "ticks": ""
            },
            "type": "choropleth"
           }
          ],
          "contour": [
           {
            "colorbar": {
             "outlinewidth": 0,
             "ticks": ""
            },
            "colorscale": [
             [
              0,
              "#0d0887"
             ],
             [
              0.1111111111111111,
              "#46039f"
             ],
             [
              0.2222222222222222,
              "#7201a8"
             ],
             [
              0.3333333333333333,
              "#9c179e"
             ],
             [
              0.4444444444444444,
              "#bd3786"
             ],
             [
              0.5555555555555556,
              "#d8576b"
             ],
             [
              0.6666666666666666,
              "#ed7953"
             ],
             [
              0.7777777777777778,
              "#fb9f3a"
             ],
             [
              0.8888888888888888,
              "#fdca26"
             ],
             [
              1,
              "#f0f921"
             ]
            ],
            "type": "contour"
           }
          ],
          "contourcarpet": [
           {
            "colorbar": {
             "outlinewidth": 0,
             "ticks": ""
            },
            "type": "contourcarpet"
           }
          ],
          "heatmap": [
           {
            "colorbar": {
             "outlinewidth": 0,
             "ticks": ""
            },
            "colorscale": [
             [
              0,
              "#0d0887"
             ],
             [
              0.1111111111111111,
              "#46039f"
             ],
             [
              0.2222222222222222,
              "#7201a8"
             ],
             [
              0.3333333333333333,
              "#9c179e"
             ],
             [
              0.4444444444444444,
              "#bd3786"
             ],
             [
              0.5555555555555556,
              "#d8576b"
             ],
             [
              0.6666666666666666,
              "#ed7953"
             ],
             [
              0.7777777777777778,
              "#fb9f3a"
             ],
             [
              0.8888888888888888,
              "#fdca26"
             ],
             [
              1,
              "#f0f921"
             ]
            ],
            "type": "heatmap"
           }
          ],
          "heatmapgl": [
           {
            "colorbar": {
             "outlinewidth": 0,
             "ticks": ""
            },
            "colorscale": [
             [
              0,
              "#0d0887"
             ],
             [
              0.1111111111111111,
              "#46039f"
             ],
             [
              0.2222222222222222,
              "#7201a8"
             ],
             [
              0.3333333333333333,
              "#9c179e"
             ],
             [
              0.4444444444444444,
              "#bd3786"
             ],
             [
              0.5555555555555556,
              "#d8576b"
             ],
             [
              0.6666666666666666,
              "#ed7953"
             ],
             [
              0.7777777777777778,
              "#fb9f3a"
             ],
             [
              0.8888888888888888,
              "#fdca26"
             ],
             [
              1,
              "#f0f921"
             ]
            ],
            "type": "heatmapgl"
           }
          ],
          "histogram": [
           {
            "marker": {
             "colorbar": {
              "outlinewidth": 0,
              "ticks": ""
             }
            },
            "type": "histogram"
           }
          ],
          "histogram2d": [
           {
            "colorbar": {
             "outlinewidth": 0,
             "ticks": ""
            },
            "colorscale": [
             [
              0,
              "#0d0887"
             ],
             [
              0.1111111111111111,
              "#46039f"
             ],
             [
              0.2222222222222222,
              "#7201a8"
             ],
             [
              0.3333333333333333,
              "#9c179e"
             ],
             [
              0.4444444444444444,
              "#bd3786"
             ],
             [
              0.5555555555555556,
              "#d8576b"
             ],
             [
              0.6666666666666666,
              "#ed7953"
             ],
             [
              0.7777777777777778,
              "#fb9f3a"
             ],
             [
              0.8888888888888888,
              "#fdca26"
             ],
             [
              1,
              "#f0f921"
             ]
            ],
            "type": "histogram2d"
           }
          ],
          "histogram2dcontour": [
           {
            "colorbar": {
             "outlinewidth": 0,
             "ticks": ""
            },
            "colorscale": [
             [
              0,
              "#0d0887"
             ],
             [
              0.1111111111111111,
              "#46039f"
             ],
             [
              0.2222222222222222,
              "#7201a8"
             ],
             [
              0.3333333333333333,
              "#9c179e"
             ],
             [
              0.4444444444444444,
              "#bd3786"
             ],
             [
              0.5555555555555556,
              "#d8576b"
             ],
             [
              0.6666666666666666,
              "#ed7953"
             ],
             [
              0.7777777777777778,
              "#fb9f3a"
             ],
             [
              0.8888888888888888,
              "#fdca26"
             ],
             [
              1,
              "#f0f921"
             ]
            ],
            "type": "histogram2dcontour"
           }
          ],
          "mesh3d": [
           {
            "colorbar": {
             "outlinewidth": 0,
             "ticks": ""
            },
            "type": "mesh3d"
           }
          ],
          "parcoords": [
           {
            "line": {
             "colorbar": {
              "outlinewidth": 0,
              "ticks": ""
             }
            },
            "type": "parcoords"
           }
          ],
          "pie": [
           {
            "automargin": true,
            "type": "pie"
           }
          ],
          "scatter": [
           {
            "marker": {
             "colorbar": {
              "outlinewidth": 0,
              "ticks": ""
             }
            },
            "type": "scatter"
           }
          ],
          "scatter3d": [
           {
            "line": {
             "colorbar": {
              "outlinewidth": 0,
              "ticks": ""
             }
            },
            "marker": {
             "colorbar": {
              "outlinewidth": 0,
              "ticks": ""
             }
            },
            "type": "scatter3d"
           }
          ],
          "scattercarpet": [
           {
            "marker": {
             "colorbar": {
              "outlinewidth": 0,
              "ticks": ""
             }
            },
            "type": "scattercarpet"
           }
          ],
          "scattergeo": [
           {
            "marker": {
             "colorbar": {
              "outlinewidth": 0,
              "ticks": ""
             }
            },
            "type": "scattergeo"
           }
          ],
          "scattergl": [
           {
            "marker": {
             "colorbar": {
              "outlinewidth": 0,
              "ticks": ""
             }
            },
            "type": "scattergl"
           }
          ],
          "scattermapbox": [
           {
            "marker": {
             "colorbar": {
              "outlinewidth": 0,
              "ticks": ""
             }
            },
            "type": "scattermapbox"
           }
          ],
          "scatterpolar": [
           {
            "marker": {
             "colorbar": {
              "outlinewidth": 0,
              "ticks": ""
             }
            },
            "type": "scatterpolar"
           }
          ],
          "scatterpolargl": [
           {
            "marker": {
             "colorbar": {
              "outlinewidth": 0,
              "ticks": ""
             }
            },
            "type": "scatterpolargl"
           }
          ],
          "scatterternary": [
           {
            "marker": {
             "colorbar": {
              "outlinewidth": 0,
              "ticks": ""
             }
            },
            "type": "scatterternary"
           }
          ],
          "surface": [
           {
            "colorbar": {
             "outlinewidth": 0,
             "ticks": ""
            },
            "colorscale": [
             [
              0,
              "#0d0887"
             ],
             [
              0.1111111111111111,
              "#46039f"
             ],
             [
              0.2222222222222222,
              "#7201a8"
             ],
             [
              0.3333333333333333,
              "#9c179e"
             ],
             [
              0.4444444444444444,
              "#bd3786"
             ],
             [
              0.5555555555555556,
              "#d8576b"
             ],
             [
              0.6666666666666666,
              "#ed7953"
             ],
             [
              0.7777777777777778,
              "#fb9f3a"
             ],
             [
              0.8888888888888888,
              "#fdca26"
             ],
             [
              1,
              "#f0f921"
             ]
            ],
            "type": "surface"
           }
          ],
          "table": [
           {
            "cells": {
             "fill": {
              "color": "#EBF0F8"
             },
             "line": {
              "color": "white"
             }
            },
            "header": {
             "fill": {
              "color": "#C8D4E3"
             },
             "line": {
              "color": "white"
             }
            },
            "type": "table"
           }
          ]
         },
         "layout": {
          "annotationdefaults": {
           "arrowcolor": "#2a3f5f",
           "arrowhead": 0,
           "arrowwidth": 1
          },
          "coloraxis": {
           "colorbar": {
            "outlinewidth": 0,
            "ticks": ""
           }
          },
          "colorscale": {
           "diverging": [
            [
             0,
             "#8e0152"
            ],
            [
             0.1,
             "#c51b7d"
            ],
            [
             0.2,
             "#de77ae"
            ],
            [
             0.3,
             "#f1b6da"
            ],
            [
             0.4,
             "#fde0ef"
            ],
            [
             0.5,
             "#f7f7f7"
            ],
            [
             0.6,
             "#e6f5d0"
            ],
            [
             0.7,
             "#b8e186"
            ],
            [
             0.8,
             "#7fbc41"
            ],
            [
             0.9,
             "#4d9221"
            ],
            [
             1,
             "#276419"
            ]
           ],
           "sequential": [
            [
             0,
             "#0d0887"
            ],
            [
             0.1111111111111111,
             "#46039f"
            ],
            [
             0.2222222222222222,
             "#7201a8"
            ],
            [
             0.3333333333333333,
             "#9c179e"
            ],
            [
             0.4444444444444444,
             "#bd3786"
            ],
            [
             0.5555555555555556,
             "#d8576b"
            ],
            [
             0.6666666666666666,
             "#ed7953"
            ],
            [
             0.7777777777777778,
             "#fb9f3a"
            ],
            [
             0.8888888888888888,
             "#fdca26"
            ],
            [
             1,
             "#f0f921"
            ]
           ],
           "sequentialminus": [
            [
             0,
             "#0d0887"
            ],
            [
             0.1111111111111111,
             "#46039f"
            ],
            [
             0.2222222222222222,
             "#7201a8"
            ],
            [
             0.3333333333333333,
             "#9c179e"
            ],
            [
             0.4444444444444444,
             "#bd3786"
            ],
            [
             0.5555555555555556,
             "#d8576b"
            ],
            [
             0.6666666666666666,
             "#ed7953"
            ],
            [
             0.7777777777777778,
             "#fb9f3a"
            ],
            [
             0.8888888888888888,
             "#fdca26"
            ],
            [
             1,
             "#f0f921"
            ]
           ]
          },
          "colorway": [
           "#636efa",
           "#EF553B",
           "#00cc96",
           "#ab63fa",
           "#FFA15A",
           "#19d3f3",
           "#FF6692",
           "#B6E880",
           "#FF97FF",
           "#FECB52"
          ],
          "font": {
           "color": "#2a3f5f"
          },
          "geo": {
           "bgcolor": "white",
           "lakecolor": "white",
           "landcolor": "#E5ECF6",
           "showlakes": true,
           "showland": true,
           "subunitcolor": "white"
          },
          "hoverlabel": {
           "align": "left"
          },
          "hovermode": "closest",
          "mapbox": {
           "style": "light"
          },
          "paper_bgcolor": "white",
          "plot_bgcolor": "#E5ECF6",
          "polar": {
           "angularaxis": {
            "gridcolor": "white",
            "linecolor": "white",
            "ticks": ""
           },
           "bgcolor": "#E5ECF6",
           "radialaxis": {
            "gridcolor": "white",
            "linecolor": "white",
            "ticks": ""
           }
          },
          "scene": {
           "xaxis": {
            "backgroundcolor": "#E5ECF6",
            "gridcolor": "white",
            "gridwidth": 2,
            "linecolor": "white",
            "showbackground": true,
            "ticks": "",
            "zerolinecolor": "white"
           },
           "yaxis": {
            "backgroundcolor": "#E5ECF6",
            "gridcolor": "white",
            "gridwidth": 2,
            "linecolor": "white",
            "showbackground": true,
            "ticks": "",
            "zerolinecolor": "white"
           },
           "zaxis": {
            "backgroundcolor": "#E5ECF6",
            "gridcolor": "white",
            "gridwidth": 2,
            "linecolor": "white",
            "showbackground": true,
            "ticks": "",
            "zerolinecolor": "white"
           }
          },
          "shapedefaults": {
           "line": {
            "color": "#2a3f5f"
           }
          },
          "ternary": {
           "aaxis": {
            "gridcolor": "white",
            "linecolor": "white",
            "ticks": ""
           },
           "baxis": {
            "gridcolor": "white",
            "linecolor": "white",
            "ticks": ""
           },
           "bgcolor": "#E5ECF6",
           "caxis": {
            "gridcolor": "white",
            "linecolor": "white",
            "ticks": ""
           }
          },
          "title": {
           "x": 0.05
          },
          "xaxis": {
           "automargin": true,
           "gridcolor": "white",
           "linecolor": "white",
           "ticks": "",
           "title": {
            "standoff": 15
           },
           "zerolinecolor": "white",
           "zerolinewidth": 2
          },
          "yaxis": {
           "automargin": true,
           "gridcolor": "white",
           "linecolor": "white",
           "ticks": "",
           "title": {
            "standoff": 15
           },
           "zerolinecolor": "white",
           "zerolinewidth": 2
          }
         }
        },
        "width": 1200
       }
      }
     },
     "metadata": {}
    }
   ],
   "source": [
    "import plotly.express as px\n",
    "\n",
    "fig_all = go.Figure()\n",
    "fig=px.sunburst(zone1,path=['Item','Persona'],values='Weight',color='Persona',color_discrete_map={'Type I':'#eba092', 'Type II':'#dccf82', 'Type III':' #a9a9ca', 'Type IV':'#a9d1c8','(?)':'#bfbfbf'})\n",
    "#fig.update_traces(hovertemplate=' %{customdata[0]}') #\n",
    "\n",
    "fig2=px.sunburst(zone2,path=['Item','Persona'],values='Weight',color='Persona',color_discrete_map={'Type I':'#eba092', 'Type II':'#dccf82', 'Type III':' #a9a9ca', 'Type IV':'#a9d1c8','(?)':'#bfbfbf'})\n",
    "fig3=px.sunburst(zone3,path=['Item','Persona'],values='Weight',color='Persona',color_discrete_map={'Type I':'#eba092', 'Type II':'#dccf82', 'Type III':' #a9a9ca', 'Type IV':'#a9d1c8','(?)':'#bfbfbf'})\n",
    "fig4=px.sunburst(zone4,path=['Item','Persona'],values='Weight',color='Persona',color_discrete_map={'Type I':'#eba092', 'Type II':'#dccf82', 'Type III':' #a9a9ca', 'Type IV':'#a9d1c8','(?)':'#bfbfbf'})\n",
    "fig5=px.sunburst(zone5,path=['Item','Persona'],values='Weight',color='Persona',color_discrete_map={'Type I':'#eba092', 'Type II':'#dccf82', 'Type III':' #a9a9ca', 'Type IV':'#a9d1c8','(?)':'#bfbfbf'})\n",
    "fig6=px.sunburst(zone6,path=['Item','Persona'],values='Weight',color='Persona',color_discrete_map={'Type I':'#eba092', 'Type II':'#dccf82', 'Type III':' #a9a9ca', 'Type IV':'#a9d1c8','(?)':'#bfbfbf'})\n",
    "fig7=px.sunburst(zone7,path=['Item','Persona'],values='Weight',color='Persona',color_discrete_map={'Type I':'#eba092', 'Type II':'#dccf82', 'Type III':' #a9a9ca', 'Type IV':'#a9d1c8','(?)':'#bfbfbf'})\n",
    "fig8=px.sunburst(zone8,path=['Item','Persona'],values='Weight',color='Persona',color_discrete_map={'Type I':'#eba092', 'Type II':'#dccf82', 'Type III':' #a9a9ca', 'Type IV':'#a9d1c8','(?)':'#bfbfbf'})\n",
    "fig9=px.sunburst(zone9,path=['Item','Persona'],values='Weight',color='Persona',color_discrete_map={'Type I':'#eba092', 'Type II':'#dccf82', 'Type III':' #a9a9ca', 'Type IV':'#a9d1c8','(?)':'#bfbfbf'})\n",
    "#fig.show()\n",
    "# print(dir(fig['data'][0].marker))\n",
    "#text1= [s.replace('Type IV','').replace('Type III','').replace('Type II','').replace('Type I','') for s in fig['data'][0]['labels'].tolist()]   \n",
    "# print(text1)\n",
    "#text1=fig['data'][0]['labels'].tolist()\n",
    "#zone1\n",
    "fig_all.add_trace(go.Sunburst(\n",
    "    labels=fig['data'][0]['labels'].tolist(),\n",
    "    parents=fig['data'][0]['parents'].tolist(),\n",
    "    values=fig['data'][0]['values'].tolist(),\n",
    "    ids=fig['data'][0]['ids'].tolist(),\n",
    "    domain=dict(x=[0,0.33],y=[0,0.28]),\n",
    "    insidetextorientation='radial',\n",
    "    marker=dict(colors=fig['data'][0].marker.colors),\n",
    "    hovertext =fig['data'][0]['labels'].tolist(),\n",
    "    hovertemplate='%{hovertext}<br>%{value} vote(s)',\n",
    "    insidetextfont=dict(color='#050505',family='courier',size=20),\n",
    "    name='',\n",
    "    opacity=0.6\n",
    "))\n",
    "#zone2\n",
    "fig_all.add_trace(go.Sunburst(\n",
    "    labels=fig2['data'][0]['labels'].tolist(),\n",
    "    parents=fig2['data'][0]['parents'].tolist(),\n",
    "    values=fig2['data'][0]['values'].tolist(),\n",
    "    ids=fig2['data'][0]['ids'].tolist(),\n",
    "    domain=dict(x=[0.33,0.66],y=[0,0.28]),\n",
    "    # insidetextorientation='tangential',\n",
    "    #branchvalues=\"remainder\",\n",
    "    marker=dict(colors=fig2['data'][0].marker.colors),\n",
    "    hovertext =fig2['data'][0]['labels'].tolist(),\n",
    "    hovertemplate='%{hovertext}<br>%{value} vote(s)',\n",
    "    insidetextfont=dict(color='#050505',family='courier',size=20),\n",
    "    name='',\n",
    "    opacity=0.6\n",
    "\n",
    "\n",
    "))\n",
    "#zone3\n",
    "fig_all.add_trace(go.Sunburst(\n",
    "    labels=fig3['data'][0]['labels'].tolist(),\n",
    "    parents=fig3['data'][0]['parents'].tolist(),\n",
    "    values=fig3['data'][0]['values'].tolist(),\n",
    "    ids=fig3['data'][0]['ids'].tolist(),\n",
    "    domain=dict(x=[0.66,1],y=[0,0.28]),\n",
    "    # insidetextorientation='tangential',\n",
    "    #branchvalues=\"remainder\",\n",
    "    marker=dict(colors=fig3['data'][0].marker.colors),\n",
    "    hovertext =fig3['data'][0]['labels'].tolist(),\n",
    "    hovertemplate='%{hovertext}<br>%{value} vote(s)',\n",
    "    insidetextfont=dict(color='#050505',family='courier',size=20),\n",
    "    name='',\n",
    "    opacity=0.6\n",
    "\n",
    "\n",
    "))\n",
    "#zone4\n",
    "fig_all.add_trace(go.Sunburst(\n",
    "    labels=fig4['data'][0]['labels'].tolist(),\n",
    "    parents=fig4['data'][0]['parents'].tolist(),\n",
    "    values=fig4['data'][0]['values'].tolist(),\n",
    "    ids=fig4['data'][0]['ids'].tolist(),\n",
    "    domain=dict(x=[0,0.33],y=[0.33,0.61]),\n",
    "    insidetextorientation='radial',\n",
    "    #branchvalues=\"remainder\",\n",
    "    marker=dict(colors=fig4['data'][0].marker.colors),\n",
    "    hovertext =fig4['data'][0]['labels'].tolist(),\n",
    "    hovertemplate='%{hovertext}<br>%{value} vote(s)',\n",
    "    insidetextfont=dict(color='#050505',family='courier',size=20),\n",
    "    name='',\n",
    "    opacity=0.6\n",
    "\n",
    "\n",
    "))\n",
    "#zone5\n",
    "fig_all.add_trace(go.Sunburst(\n",
    "    labels=fig5['data'][0]['labels'].tolist(),\n",
    "    parents=fig5['data'][0]['parents'].tolist(),\n",
    "    values=fig5['data'][0]['values'].tolist(),\n",
    "    ids=fig5['data'][0]['ids'].tolist(),\n",
    "    domain=dict(x=[0.33,0.66],y=[0.33,0.61]),\n",
    "    # insidetextorientation='tangential',\n",
    "    #branchvalues=\"remainder\",\n",
    "    marker=dict(colors=fig5['data'][0].marker.colors),\n",
    "    hovertext =fig5['data'][0]['labels'].tolist(),\n",
    "    hovertemplate='%{hovertext}<br>%{value} vote(s)',\n",
    "    insidetextfont=dict(color='#050505',family='courier',size=20),\n",
    "    name='',\n",
    "    opacity=0.6\n",
    "\n",
    "))\n",
    "#zone6\n",
    "fig_all.add_trace(go.Sunburst(\n",
    "    labels=fig6['data'][0]['labels'].tolist(),\n",
    "    parents=fig6['data'][0]['parents'].tolist(),\n",
    "    values=fig6['data'][0]['values'].tolist(),\n",
    "    ids=fig6['data'][0]['ids'].tolist(),\n",
    "    domain=dict(x=[0.66,1],y=[0.33,0.61]),\n",
    "    # insidetextorientation='tangential',\n",
    "    #branchvalues=\"remainder\",\n",
    "    marker=dict(colors=fig6['data'][0].marker.colors),\n",
    "    hovertext =fig6['data'][0]['labels'].tolist(),\n",
    "    hovertemplate='%{hovertext}<br>%{value} vote(s)',\n",
    "    insidetextfont=dict(color='#050505',family='courier',size=20),\n",
    "    name='',\n",
    "    opacity=0.6\n",
    "\n",
    "))\n",
    "#zone7\n",
    "fig_all.add_trace(go.Sunburst(\n",
    "    labels=fig7['data'][0]['labels'].tolist(),\n",
    "    parents=fig7['data'][0]['parents'].tolist(),\n",
    "    values=fig7['data'][0]['values'].tolist(),\n",
    "    ids=fig7['data'][0]['ids'].tolist(),\n",
    "    domain=dict(x=[0,0.33],y=[0.66,0.95]),\n",
    "    # insidetextorientation='tangential',\n",
    "    #branchvalues=\"remainder\",\n",
    "    marker=dict(colors=fig7['data'][0].marker.colors),\n",
    "    hovertext =fig7['data'][0]['labels'].tolist(),\n",
    "    hovertemplate='%{hovertext}<br>%{value} vote(s)',\n",
    "    insidetextfont=dict(color='#050505',family='courier',size=20),\n",
    "    name='',\n",
    "    opacity=0.6\n",
    "\n",
    "))\n",
    "#zone8\n",
    "fig_all.add_trace(go.Sunburst(\n",
    "    labels=fig8['data'][0]['labels'].tolist(),\n",
    "    parents=fig8['data'][0]['parents'].tolist(),\n",
    "    values=fig8['data'][0]['values'].tolist(),\n",
    "    ids=fig8['data'][0]['ids'].tolist(),\n",
    "    domain=dict(x=[0.33,0.66],y=[0.66,0.95]),\n",
    "    # insidetextorientation='tangential',\n",
    "    #branchvalues=\"remainder\",\n",
    "    marker=dict(colors=fig8['data'][0].marker.colors),\n",
    "    hovertext =fig8['data'][0]['labels'].tolist(),\n",
    "    hovertemplate='%{hovertext}<br>%{value} vote(s)',\n",
    "    insidetextfont=dict(color='#050505',family='courier',size=20),\n",
    "    name='',\n",
    "    opacity=0.6\n",
    "\n",
    "))\n",
    "#zone9\n",
    "fig_all.add_trace(go.Sunburst(\n",
    "    labels=fig9['data'][0]['labels'].tolist(),\n",
    "    parents=fig9['data'][0]['parents'].tolist(),\n",
    "    values=fig9['data'][0]['values'].tolist(),\n",
    "    ids=fig9['data'][0]['ids'].tolist(),\n",
    "    domain=dict(x=[0.66,1],y=[0.66,0.95]),\n",
    "    # insidetextorientation='tangential',\n",
    "    #branchvalues=\"remainder\",\n",
    "    marker=dict(colors=fig9['data'][0].marker.colors),\n",
    "    hovertext =fig9['data'][0]['labels'].tolist(),\n",
    "    hovertemplate='%{hovertext}<br>%{value} vote(s)',\n",
    "    insidetextfont=dict(color='#050505',family='courier',size=20),\n",
    "    name='',\n",
    "    opacity=0.6\n",
    "\n",
    "))\n",
    "\n",
    "fig_all.add_layout_image(\n",
    "    dict(\n",
    "        source=\"https://raw.githubusercontent.com/brianzy/ploty-project/master/pic/1200bg.png\",\n",
    "        xref=\"paper\", yref=\"paper\",        \n",
    "        x=-0.03,\n",
    "        sizex=1,\n",
    "        sizey=1.08,\n",
    "        y=1\n",
    "        ,layer=\"below\"\n",
    "        ,sizing=\"stretch\"\n",
    "    )\n",
    ")\n",
    "\n",
    "fig_all.update_layout(\n",
    "    #grid= dict(columns=3, rows=3),\n",
    "    width=1200,\n",
    "    height=800\n",
    "    #,uniformtext=dict(mode='hide')\n",
    "    ,autosize=False\n",
    "    #,margin = dict(t=0, l=0, r=0, b=0)\n",
    ")\n",
    "for i in range(9):\n",
    "    fig_all.data[i]['labels']=tuple([w.replace('Type IV','').replace('Type III','').replace('Type II','').replace('Type I','') \\\n",
    "        for w in list(fig_all['data'][i]['labels'])])\n",
    "#print(fig_all.data[0]['labels'])\n",
    "fig_all.show()\n"
   ]
  },
  {
   "cell_type": "code",
   "execution_count": 191,
   "metadata": {},
   "outputs": [
    {
     "output_type": "execute_result",
     "data": {
      "text/plain": "&#39;https://plotly.com/~zybrian/127/&#39;"
     },
     "metadata": {},
     "execution_count": 191
    }
   ],
   "source": [
    "import chart_studio.plotly as py\n",
    "py.plot(fig_all, filename = 'graph2', auto_open=False)"
   ]
  },
  {
   "cell_type": "code",
   "execution_count": 4,
   "metadata": {},
   "outputs": [
    {
     "output_type": "display_data",
     "data": {
      "application/vnd.plotly.v1+json": {
       "config": {
        "plotlyServerURL": "https://plotly.com"
       },
       "data": [
        {
         "legendgroup": "group1",
         "marker": {
          "line": {
           "width": 2
          },
          "size": [
           1,
           2,
           1,
           1,
           1,
           1
          ],
          "sizemode": "area",
          "sizeref": 0.016
         },
         "mode": "markers",
         "name": "persona1",
         "type": "scatter",
         "x": [
          "being with/around friends",
          "finances",
          "future",
          "physical health",
          "quizzes/exams",
          "work"
         ],
         "xaxis": "x7",
         "y": [
          21,
          17,
          16,
          28,
          26,
          13
         ],
         "yaxis": "y7"
        },
        {
         "legendgroup": "group2",
         "marker": {
          "line": {
           "width": 2
          },
          "size": [
           1,
           1,
           1
          ],
          "sizemode": "area",
          "sizeref": 0.016
         },
         "mode": "markers",
         "name": "persona2",
         "type": "scatter",
         "x": [
          "class",
          "presentations",
          "projects"
         ],
         "xaxis": "x7",
         "y": [
          20,
          19,
          24
         ],
         "yaxis": "y7"
        },
        {
         "legendgroup": "group3",
         "marker": {
          "line": {
           "width": 2
          },
          "size": [
           1,
           1
          ],
          "sizemode": "area",
          "sizeref": 0.016
         },
         "mode": "markers",
         "name": "persona3",
         "type": "scatter",
         "x": [
          "homework",
          "presentations"
         ],
         "xaxis": "x7",
         "y": [
          27,
          24
         ],
         "yaxis": "y7"
        },
        {
         "legendgroup": "group4",
         "marker": {
          "line": {
           "width": 2
          },
          "size": [
           1,
           1,
           1,
           1,
           1,
           1,
           1
          ],
          "sizemode": "area",
          "sizeref": 0.016
         },
         "mode": "markers",
         "name": "persona4",
         "type": "scatter",
         "x": [
          "being vulnerable in therapy",
          "class",
          "finances",
          "future",
          "Internship",
          "lab",
          "presentations"
         ],
         "xaxis": "x7",
         "y": [
          20,
          26,
          21,
          22,
          16,
          11,
          17
         ],
         "yaxis": "y7"
        },
        {
         "legendgroup": "group1",
         "marker": {
          "line": {
           "width": 2
          },
          "size": [
           1,
           1,
           2,
           1
          ],
          "sizemode": "area",
          "sizeref": 0.016
         },
         "mode": "markers",
         "name": "",
         "showlegend": false,
         "type": "scatter",
         "x": [
          "planning",
          "projects",
          "quizzes/exams",
          "work"
         ],
         "xaxis": "x8",
         "y": [
          20,
          15,
          25,
          23
         ],
         "yaxis": "y8"
        },
        {
         "legendgroup": "group2",
         "marker": {
          "line": {
           "width": 2
          },
          "size": [
           1,
           1,
           1,
           1,
           2,
           1
          ],
          "sizemode": "area",
          "sizeref": 0.016
         },
         "mode": "markers",
         "name": "",
         "showlegend": false,
         "type": "scatter",
         "x": [
          "family",
          "health",
          "homework",
          "projects",
          "relationship",
          "workout"
         ],
         "xaxis": "x8",
         "y": [
          13,
          23,
          15,
          28,
          24,
          27
         ],
         "yaxis": "y8"
        },
        {
         "legendgroup": "group3",
         "marker": {
          "line": {
           "width": 2
          },
          "size": [
           1,
           1,
           1
          ],
          "sizemode": "area",
          "sizeref": 0.016
         },
         "mode": "markers",
         "name": "",
         "showlegend": false,
         "type": "scatter",
         "x": [
          "going to church",
          "optional programs",
          "projects"
         ],
         "xaxis": "x8",
         "y": [
          27,
          21,
          24
         ],
         "yaxis": "y8"
        },
        {
         "legendgroup": "group4",
         "marker": {
          "line": {
           "width": 2
          },
          "size": [
           1,
           1,
           1
          ],
          "sizemode": "area",
          "sizeref": 0.016
         },
         "mode": "markers",
         "name": "",
         "showlegend": false,
         "type": "scatter",
         "x": [
          "presentations",
          "quizzes/exams",
          "work"
         ],
         "xaxis": "x8",
         "y": [
          21,
          15,
          19
         ],
         "yaxis": "y8"
        },
        {
         "legendgroup": "group1",
         "marker": {
          "line": {
           "width": 2
          },
          "size": [
           3,
           2,
           2,
           1,
           1,
           2,
           1,
           2,
           1
          ],
          "sizemode": "area",
          "sizeref": 0.016
         },
         "mode": "markers",
         "name": "",
         "showlegend": false,
         "type": "scatter",
         "x": [
          "health",
          "homework",
          "lectures",
          "planning",
          "presentations",
          "quizzes/exams",
          "relationship",
          "sleep",
          "work"
         ],
         "xaxis": "x9",
         "y": [
          18,
          22,
          27,
          29,
          11,
          16,
          26,
          21,
          14
         ],
         "yaxis": "y9"
        },
        {
         "legendgroup": "group2",
         "marker": {
          "line": {
           "width": 2
          },
          "size": [
           1,
           1,
           1,
           1,
           1,
           1
          ],
          "sizemode": "area",
          "sizeref": 0.016
         },
         "mode": "markers",
         "name": "persona2",
         "showlegend": false,
         "type": "scatter",
         "x": [
          "homework",
          "hygiene",
          "planning",
          "relationship",
          "sleep",
          "writing papers"
         ],
         "xaxis": "x9",
         "y": [
          24,
          28,
          20,
          13,
          18,
          10
         ],
         "yaxis": "y9"
        },
        {
         "legendgroup": "group3",
         "marker": {
          "line": {
           "width": 2
          },
          "size": [
           1,
           1,
           1,
           1
          ],
          "sizemode": "area",
          "sizeref": 0.016
         },
         "mode": "markers",
         "name": "persona3",
         "showlegend": false,
         "type": "scatter",
         "x": [
          "group work",
          "homework",
          "quizzes/exams",
          "sleep"
         ],
         "xaxis": "x9",
         "y": [
          27,
          13,
          25,
          11
         ],
         "yaxis": "y9"
        },
        {
         "legendgroup": "group4",
         "marker": {
          "line": {
           "width": 2
          },
          "size": [
           1,
           4,
           1,
           1
          ],
          "sizemode": "area",
          "sizeref": 0.016
         },
         "mode": "markers",
         "name": "persona4",
         "showlegend": false,
         "type": "scatter",
         "x": [
          "developing accessible hobbies",
          "homework",
          "hygiene",
          "presentations"
         ],
         "xaxis": "x9",
         "y": [
          13,
          12,
          18,
          26
         ],
         "yaxis": "y9"
        },
        {
         "legendgroup": "group1",
         "marker": {
          "line": {
           "width": 2
          },
          "size": [
           1,
           1,
           1,
           1,
           1,
           2
          ],
          "sizemode": "area",
          "sizeref": 0.016
         },
         "mode": "markers",
         "name": "",
         "showlegend": false,
         "type": "scatter",
         "x": [
          "health",
          "housing",
          "internship",
          "midterms/finals",
          "optional academic programs",
          "presentations"
         ],
         "xaxis": "x4",
         "y": [
          14,
          29,
          18,
          12,
          10,
          19
         ],
         "yaxis": "y4"
        },
        {
         "legendgroup": "group2",
         "marker": {
          "line": {
           "width": 2
          },
          "size": [
           1,
           2,
           1,
           1,
           1
          ],
          "sizemode": "area",
          "sizeref": 0.016
         },
         "mode": "markers",
         "name": "",
         "showlegend": false,
         "type": "scatter",
         "x": [
          "GPA",
          "presentations",
          "scholarship",
          "socializing",
          "study abroad"
         ],
         "xaxis": "x4",
         "y": [
          27,
          12,
          18,
          15,
          22
         ],
         "yaxis": "y4"
        },
        {
         "legendgroup": "group3",
         "marker": {
          "line": {
           "width": 2
          },
          "size": [
           1,
           1,
           1
          ],
          "sizemode": "area",
          "sizeref": 0.016
         },
         "mode": "markers",
         "name": "",
         "showlegend": false,
         "type": "scatter",
         "x": [
          "class",
          "internship",
          "socializing"
         ],
         "xaxis": "x4",
         "y": [
          18,
          26,
          11
         ],
         "yaxis": "y4"
        },
        {
         "legendgroup": "group4",
         "marker": {
          "line": {
           "width": 2
          },
          "size": [
           1,
           1,
           1,
           1,
           1,
           1,
           1,
           1,
           1
          ],
          "sizemode": "area",
          "sizeref": 0.016
         },
         "mode": "markers",
         "name": "",
         "showlegend": false,
         "type": "scatter",
         "x": [
          "class",
          "Family",
          "midterms/finals",
          "projects",
          "quizzes/exams",
          "Resident Advising",
          "scholarship",
          "when I feel like I don’t have time",
          "writing papers"
         ],
         "xaxis": "x4",
         "y": [
          21,
          24,
          27,
          17,
          12,
          13,
          29,
          15,
          19
         ],
         "yaxis": "y4"
        },
        {
         "legendgroup": "group1",
         "marker": {
          "line": {
           "width": 2
          },
          "size": [
           1,
           1,
           1,
           1,
           1,
           2,
           1,
           1,
           1,
           2,
           1,
           1
          ],
          "sizemode": "area",
          "sizeref": 0.016
         },
         "mode": "markers",
         "name": "",
         "showlegend": false,
         "type": "scatter",
         "x": [
          "family",
          "health ",
          "internships",
          "job and career",
          "lab",
          "midterms/finals",
          "optional academic programs",
          "presentations",
          "projects",
          "quizzes/exams",
          "relationship",
          "study abroad"
         ],
         "xaxis": "x5",
         "y": [
          24,
          26,
          16,
          17,
          18,
          14,
          10,
          22,
          28,
          23,
          12,
          21
         ],
         "yaxis": "y5"
        },
        {
         "legendgroup": "group2",
         "marker": {
          "line": {
           "width": 2
          },
          "size": [
           1,
           1,
           1,
           4
          ],
          "sizemode": "area",
          "sizeref": 0.016
         },
         "mode": "markers",
         "name": "",
         "showlegend": false,
         "type": "scatter",
         "x": [
          "body image",
          "finances",
          "homework",
          "quizzes/exams"
         ],
         "xaxis": "x5",
         "y": [
          16,
          26,
          22,
          12
         ],
         "yaxis": "y5"
        },
        {
         "legendgroup": "group3",
         "marker": {
          "line": {
           "width": 2
          },
          "size": [
           1,
           1,
           1,
           1,
           2
          ],
          "sizemode": "area",
          "sizeref": 0.016
         },
         "mode": "markers",
         "name": "",
         "showlegend": false,
         "type": "scatter",
         "x": [
          "class",
          "family",
          "finances",
          "quizzes/exams",
          "relationship"
         ],
         "xaxis": "x5",
         "y": [
          17,
          25,
          23,
          12,
          24
         ],
         "yaxis": "y5"
        },
        {
         "legendgroup": "group4",
         "marker": {
          "line": {
           "width": 2
          },
          "size": [
           1,
           1,
           2,
           1,
           1,
           1
          ],
          "sizemode": "area",
          "sizeref": 0.016
         },
         "mode": "markers",
         "name": "",
         "showlegend": false,
         "type": "scatter",
         "x": [
          "future",
          "group work",
          "optional academic programs",
          "projects",
          "relationship",
          "socializing"
         ],
         "xaxis": "x5",
         "y": [
          26,
          18,
          22,
          16,
          28,
          25
         ],
         "yaxis": "y5"
        },
        {
         "legendgroup": "group1",
         "marker": {
          "line": {
           "width": 2
          },
          "size": [
           1,
           3,
           1,
           1,
           2,
           1
          ],
          "sizemode": "area",
          "sizeref": 0.016
         },
         "mode": "markers",
         "name": "",
         "showlegend": false,
         "type": "scatter",
         "x": [
          "class",
          "homework",
          "lectures",
          "physical health",
          "projects",
          "relationship"
         ],
         "xaxis": "x6",
         "y": [
          26,
          28,
          14,
          25,
          23,
          20
         ],
         "yaxis": "y6"
        },
        {
         "legendgroup": "group2",
         "marker": {
          "line": {
           "width": 2
          },
          "size": [
           1,
           2,
           1,
           2,
           2
          ],
          "sizemode": "area",
          "sizeref": 0.016
         },
         "mode": "markers",
         "name": "",
         "showlegend": false,
         "type": "scatter",
         "x": [
          "finance",
          "homework",
          "projects",
          "quizzes/exams",
          "work"
         ],
         "xaxis": "x6",
         "y": [
          20,
          21,
          24,
          25,
          12
         ],
         "yaxis": "y6"
        },
        {
         "legendgroup": "group3",
         "marker": {
          "line": {
           "width": 2
          },
          "size": [
           1,
           1,
           1,
           1,
           1
          ],
          "sizemode": "area",
          "sizeref": 0.016
         },
         "mode": "markers",
         "name": "",
         "showlegend": false,
         "type": "scatter",
         "x": [
          "future",
          "homework",
          "hygiene ",
          "presentations",
          "quizzes/exams"
         ],
         "xaxis": "x6",
         "y": [
          27,
          15,
          14,
          19,
          22
         ],
         "yaxis": "y6"
        },
        {
         "legendgroup": "group4",
         "marker": {
          "line": {
           "width": 2
          },
          "size": [
           1,
           1,
           1,
           1,
           1
          ],
          "sizemode": "area",
          "sizeref": 0.016
         },
         "mode": "markers",
         "name": "",
         "showlegend": false,
         "type": "scatter",
         "x": [
          "finance",
          "future",
          "lectures",
          "physical health",
          "work"
         ],
         "xaxis": "x6",
         "y": [
          10,
          18,
          11,
          25,
          23
         ],
         "yaxis": "y6"
        },
        {
         "legendgroup": "group1",
         "marker": {
          "line": {
           "width": 2
          },
          "size": [
           1,
           1,
           2,
           1,
           1,
           1
          ],
          "sizemode": "area",
          "sizeref": 0.016
         },
         "mode": "markers",
         "name": "",
         "showlegend": false,
         "type": "scatter",
         "x": [
          "future",
          "internship and job search ",
          "midterm/final",
          "presentations",
          "projects",
          "talking to teachers"
         ],
         "xaxis": "x",
         "y": [
          16,
          27,
          22,
          11,
          14,
          23
         ],
         "yaxis": "y"
        },
        {
         "legendgroup": "group2",
         "marker": {
          "line": {
           "width": 2
          },
          "size": [
           1,
           4,
           1,
           1,
           1
          ],
          "sizemode": "area",
          "sizeref": 0.016
         },
         "mode": "markers",
         "name": "",
         "showlegend": false,
         "type": "scatter",
         "x": [
          "GPA",
          "midterm/final",
          "projects",
          "quizzes/exams",
          "relationship"
         ],
         "xaxis": "x",
         "y": [
          17,
          16,
          22,
          28,
          21
         ],
         "yaxis": "y"
        },
        {
         "legendgroup": "group3",
         "marker": {
          "line": {
           "width": 2
          },
          "size": [
           1,
           2,
           1,
           1,
           1
          ],
          "sizemode": "area",
          "sizeref": 0.016
         },
         "mode": "markers",
         "name": "",
         "showlegend": false,
         "type": "scatter",
         "x": [
          "group work",
          "midterm/final",
          "physical health",
          "projects",
          "quizzes/exams"
         ],
         "xaxis": "x",
         "y": [
          22,
          14,
          13,
          12,
          11
         ],
         "yaxis": "y"
        },
        {
         "legendgroup": "group4",
         "marker": {
          "line": {
           "width": 2
          },
          "size": [
           1
          ],
          "sizemode": "area",
          "sizeref": 0.016
         },
         "mode": "markers",
         "name": "",
         "showlegend": false,
         "type": "scatter",
         "x": [
          "midterm/final"
         ],
         "xaxis": "x",
         "y": [
          25
         ],
         "yaxis": "y"
        },
        {
         "legendgroup": "group1",
         "marker": {
          "line": {
           "width": 2
          },
          "size": [
           1,
           2,
           1,
           1,
           3,
           2,
           3
          ],
          "sizemode": "area",
          "sizeref": 0.016
         },
         "mode": "markers",
         "name": "",
         "showlegend": false,
         "type": "scatter",
         "x": [
          "body image",
          "future",
          "GPA",
          "mean classmates",
          "midterms/finals",
          "projects",
          "quizzes/exams"
         ],
         "xaxis": "x2",
         "y": [
          16,
          24,
          12,
          14,
          25,
          20,
          18
         ],
         "yaxis": "y2"
        },
        {
         "legendgroup": "group2",
         "marker": {
          "line": {
           "width": 2
          },
          "size": [
           1,
           1,
           2
          ],
          "sizemode": "area",
          "sizeref": 0.016
         },
         "mode": "markers",
         "name": "",
         "showlegend": false,
         "type": "scatter",
         "x": [
          "health",
          "homework",
          "midterms/finals"
         ],
         "xaxis": "x2",
         "y": [
          20,
          11,
          12
         ],
         "yaxis": "y2"
        },
        {
         "legendgroup": "group3",
         "marker": {
          "line": {
           "width": 2
          },
          "size": [
           1,
           1,
           1,
           1
          ],
          "sizemode": "area",
          "sizeref": 0.016
         },
         "mode": "markers",
         "name": "",
         "showlegend": false,
         "type": "scatter",
         "x": [
          "finances",
          "midterms/finals",
          "projects",
          "quizzes/exams"
         ],
         "xaxis": "x2",
         "y": [
          14,
          17,
          20,
          27
         ],
         "yaxis": "y2"
        },
        {
         "legendgroup": "group4",
         "marker": {
          "line": {
           "width": 2
          },
          "size": [
           1,
           1
          ],
          "sizemode": "area",
          "sizeref": 0.016
         },
         "mode": "markers",
         "name": "",
         "showlegend": false,
         "type": "scatter",
         "x": [
          "compounding stress",
          "mental health"
         ],
         "xaxis": "x2",
         "y": [
          12,
          18
         ],
         "yaxis": "y2"
        },
        {
         "legendgroup": "group1",
         "marker": {
          "line": {
           "width": 2
          },
          "size": [
           1,
           1,
           1,
           2,
           2,
           1,
           1,
           1,
           1,
           1
          ],
          "sizemode": "area",
          "sizeref": 0.016
         },
         "mode": "markers",
         "name": "",
         "showlegend": false,
         "type": "scatter",
         "x": [
          "class",
          "family",
          "finances",
          "future",
          "group projects",
          "health",
          "homework",
          "planning",
          "projects",
          "socializing"
         ],
         "xaxis": "x",
         "y": [
          25,
          29,
          19,
          24,
          14,
          22,
          17,
          13,
          28,
          26
         ],
         "yaxis": "y"
        },
        {
         "legendgroup": "group2",
         "marker": {
          "line": {
           "width": 2
          },
          "size": [
           1,
           1,
           1,
           1,
           1,
           1
          ],
          "sizemode": "area",
          "sizeref": 0.016
         },
         "mode": "markers",
         "name": "",
         "showlegend": false,
         "type": "scatter",
         "x": [
          "future",
          "health",
          "homework",
          "loss of parents",
          "mental health",
          "quizzes/exams"
         ],
         "xaxis": "x3",
         "y": [
          17,
          15,
          21,
          24,
          23,
          13
         ],
         "yaxis": "y3"
        },
        {
         "legendgroup": "group3",
         "marker": {
          "line": {
           "width": 2
          },
          "size": [
           1,
           1,
           3,
           1,
           2,
           2,
           1,
           1
          ],
          "sizemode": "area",
          "sizeref": 0.016
         },
         "mode": "markers",
         "name": "",
         "showlegend": false,
         "type": "scatter",
         "x": [
          "class",
          "finances",
          "future",
          "group projects",
          "homework",
          "mental health",
          "relationships",
          "work"
         ],
         "xaxis": "x3",
         "y": [
          10,
          19,
          26,
          11,
          14,
          27,
          28,
          21
         ],
         "yaxis": "y3"
        },
        {
         "legendgroup": "group4",
         "marker": {
          "line": {
           "width": 2
          },
          "size": [
           1,
           1
          ],
          "sizemode": "area",
          "sizeref": 0.016
         },
         "mode": "markers",
         "name": "",
         "showlegend": false,
         "type": "scatter",
         "x": [
          "future",
          "relationships"
         ],
         "xaxis": "x3",
         "y": [
          15,
          17
         ],
         "yaxis": "y3"
        }
       ],
       "layout": {
        "paper_bgcolor": "rgb(243, 243, 243)",
        "plot_bgcolor": "rgb(243, 243, 243)",
        "template": {
         "data": {
          "bar": [
           {
            "error_x": {
             "color": "#2a3f5f"
            },
            "error_y": {
             "color": "#2a3f5f"
            },
            "marker": {
             "line": {
              "color": "#E5ECF6",
              "width": 0.5
             }
            },
            "type": "bar"
           }
          ],
          "barpolar": [
           {
            "marker": {
             "line": {
              "color": "#E5ECF6",
              "width": 0.5
             }
            },
            "type": "barpolar"
           }
          ],
          "carpet": [
           {
            "aaxis": {
             "endlinecolor": "#2a3f5f",
             "gridcolor": "white",
             "linecolor": "white",
             "minorgridcolor": "white",
             "startlinecolor": "#2a3f5f"
            },
            "baxis": {
             "endlinecolor": "#2a3f5f",
             "gridcolor": "white",
             "linecolor": "white",
             "minorgridcolor": "white",
             "startlinecolor": "#2a3f5f"
            },
            "type": "carpet"
           }
          ],
          "choropleth": [
           {
            "colorbar": {
             "outlinewidth": 0,
             "ticks": ""
            },
            "type": "choropleth"
           }
          ],
          "contour": [
           {
            "colorbar": {
             "outlinewidth": 0,
             "ticks": ""
            },
            "colorscale": [
             [
              0,
              "#0d0887"
             ],
             [
              0.1111111111111111,
              "#46039f"
             ],
             [
              0.2222222222222222,
              "#7201a8"
             ],
             [
              0.3333333333333333,
              "#9c179e"
             ],
             [
              0.4444444444444444,
              "#bd3786"
             ],
             [
              0.5555555555555556,
              "#d8576b"
             ],
             [
              0.6666666666666666,
              "#ed7953"
             ],
             [
              0.7777777777777778,
              "#fb9f3a"
             ],
             [
              0.8888888888888888,
              "#fdca26"
             ],
             [
              1,
              "#f0f921"
             ]
            ],
            "type": "contour"
           }
          ],
          "contourcarpet": [
           {
            "colorbar": {
             "outlinewidth": 0,
             "ticks": ""
            },
            "type": "contourcarpet"
           }
          ],
          "heatmap": [
           {
            "colorbar": {
             "outlinewidth": 0,
             "ticks": ""
            },
            "colorscale": [
             [
              0,
              "#0d0887"
             ],
             [
              0.1111111111111111,
              "#46039f"
             ],
             [
              0.2222222222222222,
              "#7201a8"
             ],
             [
              0.3333333333333333,
              "#9c179e"
             ],
             [
              0.4444444444444444,
              "#bd3786"
             ],
             [
              0.5555555555555556,
              "#d8576b"
             ],
             [
              0.6666666666666666,
              "#ed7953"
             ],
             [
              0.7777777777777778,
              "#fb9f3a"
             ],
             [
              0.8888888888888888,
              "#fdca26"
             ],
             [
              1,
              "#f0f921"
             ]
            ],
            "type": "heatmap"
           }
          ],
          "heatmapgl": [
           {
            "colorbar": {
             "outlinewidth": 0,
             "ticks": ""
            },
            "colorscale": [
             [
              0,
              "#0d0887"
             ],
             [
              0.1111111111111111,
              "#46039f"
             ],
             [
              0.2222222222222222,
              "#7201a8"
             ],
             [
              0.3333333333333333,
              "#9c179e"
             ],
             [
              0.4444444444444444,
              "#bd3786"
             ],
             [
              0.5555555555555556,
              "#d8576b"
             ],
             [
              0.6666666666666666,
              "#ed7953"
             ],
             [
              0.7777777777777778,
              "#fb9f3a"
             ],
             [
              0.8888888888888888,
              "#fdca26"
             ],
             [
              1,
              "#f0f921"
             ]
            ],
            "type": "heatmapgl"
           }
          ],
          "histogram": [
           {
            "marker": {
             "colorbar": {
              "outlinewidth": 0,
              "ticks": ""
             }
            },
            "type": "histogram"
           }
          ],
          "histogram2d": [
           {
            "colorbar": {
             "outlinewidth": 0,
             "ticks": ""
            },
            "colorscale": [
             [
              0,
              "#0d0887"
             ],
             [
              0.1111111111111111,
              "#46039f"
             ],
             [
              0.2222222222222222,
              "#7201a8"
             ],
             [
              0.3333333333333333,
              "#9c179e"
             ],
             [
              0.4444444444444444,
              "#bd3786"
             ],
             [
              0.5555555555555556,
              "#d8576b"
             ],
             [
              0.6666666666666666,
              "#ed7953"
             ],
             [
              0.7777777777777778,
              "#fb9f3a"
             ],
             [
              0.8888888888888888,
              "#fdca26"
             ],
             [
              1,
              "#f0f921"
             ]
            ],
            "type": "histogram2d"
           }
          ],
          "histogram2dcontour": [
           {
            "colorbar": {
             "outlinewidth": 0,
             "ticks": ""
            },
            "colorscale": [
             [
              0,
              "#0d0887"
             ],
             [
              0.1111111111111111,
              "#46039f"
             ],
             [
              0.2222222222222222,
              "#7201a8"
             ],
             [
              0.3333333333333333,
              "#9c179e"
             ],
             [
              0.4444444444444444,
              "#bd3786"
             ],
             [
              0.5555555555555556,
              "#d8576b"
             ],
             [
              0.6666666666666666,
              "#ed7953"
             ],
             [
              0.7777777777777778,
              "#fb9f3a"
             ],
             [
              0.8888888888888888,
              "#fdca26"
             ],
             [
              1,
              "#f0f921"
             ]
            ],
            "type": "histogram2dcontour"
           }
          ],
          "mesh3d": [
           {
            "colorbar": {
             "outlinewidth": 0,
             "ticks": ""
            },
            "type": "mesh3d"
           }
          ],
          "parcoords": [
           {
            "line": {
             "colorbar": {
              "outlinewidth": 0,
              "ticks": ""
             }
            },
            "type": "parcoords"
           }
          ],
          "pie": [
           {
            "automargin": true,
            "type": "pie"
           }
          ],
          "scatter": [
           {
            "marker": {
             "colorbar": {
              "outlinewidth": 0,
              "ticks": ""
             }
            },
            "type": "scatter"
           }
          ],
          "scatter3d": [
           {
            "line": {
             "colorbar": {
              "outlinewidth": 0,
              "ticks": ""
             }
            },
            "marker": {
             "colorbar": {
              "outlinewidth": 0,
              "ticks": ""
             }
            },
            "type": "scatter3d"
           }
          ],
          "scattercarpet": [
           {
            "marker": {
             "colorbar": {
              "outlinewidth": 0,
              "ticks": ""
             }
            },
            "type": "scattercarpet"
           }
          ],
          "scattergeo": [
           {
            "marker": {
             "colorbar": {
              "outlinewidth": 0,
              "ticks": ""
             }
            },
            "type": "scattergeo"
           }
          ],
          "scattergl": [
           {
            "marker": {
             "colorbar": {
              "outlinewidth": 0,
              "ticks": ""
             }
            },
            "type": "scattergl"
           }
          ],
          "scattermapbox": [
           {
            "marker": {
             "colorbar": {
              "outlinewidth": 0,
              "ticks": ""
             }
            },
            "type": "scattermapbox"
           }
          ],
          "scatterpolar": [
           {
            "marker": {
             "colorbar": {
              "outlinewidth": 0,
              "ticks": ""
             }
            },
            "type": "scatterpolar"
           }
          ],
          "scatterpolargl": [
           {
            "marker": {
             "colorbar": {
              "outlinewidth": 0,
              "ticks": ""
             }
            },
            "type": "scatterpolargl"
           }
          ],
          "scatterternary": [
           {
            "marker": {
             "colorbar": {
              "outlinewidth": 0,
              "ticks": ""
             }
            },
            "type": "scatterternary"
           }
          ],
          "surface": [
           {
            "colorbar": {
             "outlinewidth": 0,
             "ticks": ""
            },
            "colorscale": [
             [
              0,
              "#0d0887"
             ],
             [
              0.1111111111111111,
              "#46039f"
             ],
             [
              0.2222222222222222,
              "#7201a8"
             ],
             [
              0.3333333333333333,
              "#9c179e"
             ],
             [
              0.4444444444444444,
              "#bd3786"
             ],
             [
              0.5555555555555556,
              "#d8576b"
             ],
             [
              0.6666666666666666,
              "#ed7953"
             ],
             [
              0.7777777777777778,
              "#fb9f3a"
             ],
             [
              0.8888888888888888,
              "#fdca26"
             ],
             [
              1,
              "#f0f921"
             ]
            ],
            "type": "surface"
           }
          ],
          "table": [
           {
            "cells": {
             "fill": {
              "color": "#EBF0F8"
             },
             "line": {
              "color": "white"
             }
            },
            "header": {
             "fill": {
              "color": "#C8D4E3"
             },
             "line": {
              "color": "white"
             }
            },
            "type": "table"
           }
          ]
         },
         "layout": {
          "annotationdefaults": {
           "arrowcolor": "#2a3f5f",
           "arrowhead": 0,
           "arrowwidth": 1
          },
          "coloraxis": {
           "colorbar": {
            "outlinewidth": 0,
            "ticks": ""
           }
          },
          "colorscale": {
           "diverging": [
            [
             0,
             "#8e0152"
            ],
            [
             0.1,
             "#c51b7d"
            ],
            [
             0.2,
             "#de77ae"
            ],
            [
             0.3,
             "#f1b6da"
            ],
            [
             0.4,
             "#fde0ef"
            ],
            [
             0.5,
             "#f7f7f7"
            ],
            [
             0.6,
             "#e6f5d0"
            ],
            [
             0.7,
             "#b8e186"
            ],
            [
             0.8,
             "#7fbc41"
            ],
            [
             0.9,
             "#4d9221"
            ],
            [
             1,
             "#276419"
            ]
           ],
           "sequential": [
            [
             0,
             "#0d0887"
            ],
            [
             0.1111111111111111,
             "#46039f"
            ],
            [
             0.2222222222222222,
             "#7201a8"
            ],
            [
             0.3333333333333333,
             "#9c179e"
            ],
            [
             0.4444444444444444,
             "#bd3786"
            ],
            [
             0.5555555555555556,
             "#d8576b"
            ],
            [
             0.6666666666666666,
             "#ed7953"
            ],
            [
             0.7777777777777778,
             "#fb9f3a"
            ],
            [
             0.8888888888888888,
             "#fdca26"
            ],
            [
             1,
             "#f0f921"
            ]
           ],
           "sequentialminus": [
            [
             0,
             "#0d0887"
            ],
            [
             0.1111111111111111,
             "#46039f"
            ],
            [
             0.2222222222222222,
             "#7201a8"
            ],
            [
             0.3333333333333333,
             "#9c179e"
            ],
            [
             0.4444444444444444,
             "#bd3786"
            ],
            [
             0.5555555555555556,
             "#d8576b"
            ],
            [
             0.6666666666666666,
             "#ed7953"
            ],
            [
             0.7777777777777778,
             "#fb9f3a"
            ],
            [
             0.8888888888888888,
             "#fdca26"
            ],
            [
             1,
             "#f0f921"
            ]
           ]
          },
          "colorway": [
           "#636efa",
           "#EF553B",
           "#00cc96",
           "#ab63fa",
           "#FFA15A",
           "#19d3f3",
           "#FF6692",
           "#B6E880",
           "#FF97FF",
           "#FECB52"
          ],
          "font": {
           "color": "#2a3f5f"
          },
          "geo": {
           "bgcolor": "white",
           "lakecolor": "white",
           "landcolor": "#E5ECF6",
           "showlakes": true,
           "showland": true,
           "subunitcolor": "white"
          },
          "hoverlabel": {
           "align": "left"
          },
          "hovermode": "closest",
          "mapbox": {
           "style": "light"
          },
          "paper_bgcolor": "white",
          "plot_bgcolor": "#E5ECF6",
          "polar": {
           "angularaxis": {
            "gridcolor": "white",
            "linecolor": "white",
            "ticks": ""
           },
           "bgcolor": "#E5ECF6",
           "radialaxis": {
            "gridcolor": "white",
            "linecolor": "white",
            "ticks": ""
           }
          },
          "scene": {
           "xaxis": {
            "backgroundcolor": "#E5ECF6",
            "gridcolor": "white",
            "gridwidth": 2,
            "linecolor": "white",
            "showbackground": true,
            "ticks": "",
            "zerolinecolor": "white"
           },
           "yaxis": {
            "backgroundcolor": "#E5ECF6",
            "gridcolor": "white",
            "gridwidth": 2,
            "linecolor": "white",
            "showbackground": true,
            "ticks": "",
            "zerolinecolor": "white"
           },
           "zaxis": {
            "backgroundcolor": "#E5ECF6",
            "gridcolor": "white",
            "gridwidth": 2,
            "linecolor": "white",
            "showbackground": true,
            "ticks": "",
            "zerolinecolor": "white"
           }
          },
          "shapedefaults": {
           "line": {
            "color": "#2a3f5f"
           }
          },
          "ternary": {
           "aaxis": {
            "gridcolor": "white",
            "linecolor": "white",
            "ticks": ""
           },
           "baxis": {
            "gridcolor": "white",
            "linecolor": "white",
            "ticks": ""
           },
           "bgcolor": "#E5ECF6",
           "caxis": {
            "gridcolor": "white",
            "linecolor": "white",
            "ticks": ""
           }
          },
          "title": {
           "x": 0.05
          },
          "xaxis": {
           "automargin": true,
           "gridcolor": "white",
           "linecolor": "white",
           "ticks": "",
           "title": {
            "standoff": 15
           },
           "zerolinecolor": "white",
           "zerolinewidth": 2
          },
          "yaxis": {
           "automargin": true,
           "gridcolor": "white",
           "linecolor": "white",
           "ticks": "",
           "title": {
            "standoff": 15
           },
           "zerolinecolor": "white",
           "zerolinewidth": 2
          }
         }
        },
        "title": {
         "text": "serverity and indensity"
        },
        "xaxis": {
         "anchor": "y",
         "domain": [
          0,
          0.2888888888888889
         ],
         "showticklabels": false,
         "visible": true
        },
        "xaxis2": {
         "anchor": "y2",
         "domain": [
          0.35555555555555557,
          0.6444444444444445
         ],
         "showticklabels": false,
         "visible": true
        },
        "xaxis3": {
         "anchor": "y3",
         "domain": [
          0.7111111111111111,
          1
         ],
         "showticklabels": false,
         "visible": true
        },
        "xaxis4": {
         "anchor": "y4",
         "domain": [
          0,
          0.2888888888888889
         ],
         "showticklabels": false,
         "visible": true
        },
        "xaxis5": {
         "anchor": "y5",
         "domain": [
          0.35555555555555557,
          0.6444444444444445
         ],
         "showticklabels": false,
         "visible": true
        },
        "xaxis6": {
         "anchor": "y6",
         "domain": [
          0.7111111111111111,
          1
         ],
         "showticklabels": false,
         "visible": true
        },
        "xaxis7": {
         "anchor": "y7",
         "domain": [
          0,
          0.2888888888888889
         ],
         "linecolor": "black",
         "linewidth": 1,
         "showline": true,
         "showticklabels": false,
         "title": {
          "text": "Seldom"
         },
         "visible": true
        },
        "xaxis8": {
         "anchor": "y8",
         "domain": [
          0.35555555555555557,
          0.6444444444444445
         ],
         "linecolor": "black",
         "linewidth": 1,
         "showline": true,
         "showticklabels": false,
         "title": {
          "text": "Sometimes"
         },
         "visible": true
        },
        "xaxis9": {
         "anchor": "y9",
         "domain": [
          0.7111111111111111,
          1
         ],
         "linecolor": "black",
         "linewidth": 1,
         "showline": true,
         "showticklabels": false,
         "title": {
          "text": "Often"
         },
         "visible": true
        },
        "yaxis": {
         "anchor": "x",
         "domain": [
          0.7333333333333333,
          1
         ],
         "linecolor": "black",
         "linewidth": 1,
         "showline": true,
         "showticklabels": false,
         "title": {
          "text": "High"
         },
         "visible": true
        },
        "yaxis2": {
         "anchor": "x2",
         "domain": [
          0.7333333333333333,
          1
         ],
         "showticklabels": false,
         "visible": true
        },
        "yaxis3": {
         "anchor": "x3",
         "domain": [
          0.7333333333333333,
          1
         ],
         "showticklabels": false,
         "visible": true
        },
        "yaxis4": {
         "anchor": "x4",
         "domain": [
          0.36666666666666664,
          0.6333333333333333
         ],
         "linecolor": "black",
         "linewidth": 1,
         "showline": true,
         "showticklabels": false,
         "title": {
          "text": "Moderate"
         },
         "visible": true
        },
        "yaxis5": {
         "anchor": "x5",
         "domain": [
          0.36666666666666664,
          0.6333333333333333
         ],
         "showticklabels": false,
         "visible": true
        },
        "yaxis6": {
         "anchor": "x6",
         "domain": [
          0.36666666666666664,
          0.6333333333333333
         ],
         "showticklabels": false,
         "visible": true
        },
        "yaxis7": {
         "anchor": "x7",
         "domain": [
          0,
          0.26666666666666666
         ],
         "linecolor": "black",
         "linewidth": 1,
         "showline": true,
         "showticklabels": false,
         "title": {
          "text": "Low"
         },
         "visible": true
        },
        "yaxis8": {
         "anchor": "x8",
         "domain": [
          0,
          0.26666666666666666
         ],
         "showticklabels": false,
         "visible": true
        },
        "yaxis9": {
         "anchor": "x9",
         "domain": [
          0,
          0.26666666666666666
         ],
         "showticklabels": false,
         "visible": true
        }
       }
      }
     },
     "metadata": {}
    }
   ],
   "source": [
    "from plotly.subplots import make_subplots\n",
    "import random\n",
    "fig = make_subplots(rows=3, cols=3)\n",
    "\n",
    "    \n",
    "#zone 1\n",
    "fig.add_trace(go.Scatter(\n",
    "                x=p1_1['Item'],y=random.sample(range(10, 30), len(p1_1)),name='persona1',\n",
    "                marker_size=p1_1['Weight'],legendgroup='group1',\n",
    "                 ),row=3,col=1)\n",
    "\n",
    "fig.add_trace(go.Scatter(\n",
    "                x=p2_1['Item'],name='persona2',y=random.sample(range(10, 30), len(p2_1)),\n",
    "                marker_size=p2_1['Weight'],legendgroup='group2'),row=3,col=1)\n",
    "fig.add_trace(go.Scatter(\n",
    "                x=p3_1['Item'],name='persona3',y=random.sample(range(10, 30), len(p3_1)),\n",
    "                marker_size=p3_1['Weight'],legendgroup='group3'),row=3,col=1)\n",
    "fig.add_trace(go.Scatter(\n",
    "                x=p4_1['Item'],name='persona4',y=random.sample(range(10, 30), len(p4_1)),\n",
    "                marker_size=p4_1['Weight'],legendgroup='group4'),row=3,col=1)\n",
    "#zone 2\n",
    "\n",
    "fig.add_trace(go.Scatter(\n",
    "                x=p1_2['Item'],name='',legendgroup='group1',y=random.sample(range(10, 30), len(p1_2)),\n",
    "                marker_size=p1_2['Weight'],showlegend=False),row=3,col=2)\n",
    "fig.add_trace(go.Scatter(\n",
    "                x=p2_2['Item'],name='',y=random.sample(range(10, 30), len(p2_2)),\n",
    "                marker_size=p2_2['Weight'],legendgroup='group2',showlegend=False),row=3,col=2)\n",
    "fig.add_trace(go.Scatter(\n",
    "                x=p3_2['Item'],name='',y=random.sample(range(10, 30), len(p3_2)),\n",
    "                marker_size=p3_2['Weight'],legendgroup='group3',showlegend=False),row=3,col=2)\n",
    "fig.add_trace(go.Scatter(\n",
    "                x=p4_2['Item'],name='',y=random.sample(range(10, 30), len(p4_2)),\n",
    "                marker_size=p4_2['Weight'],legendgroup='group4',showlegend=False),row=3,col=2)\n",
    "#zone 3\n",
    "\n",
    "fig.add_trace(go.Scatter(\n",
    "                x=p1_3['Item'],name='',legendgroup='group1',y=random.sample(range(10, 30), len(p1_3)),\n",
    "                marker_size=p1_3['Weight'],showlegend=False),row=3,col=3)\n",
    "fig.add_trace(go.Scatter(\n",
    "                x=p2_3['Item'],name='persona2',y=random.sample(range(10, 30), len(p2_3)),\n",
    "                marker_size=p2_3['Weight'],legendgroup='group2',showlegend=False),row=3,col=3)\n",
    "fig.add_trace(go.Scatter(\n",
    "                x=p3_3['Item'],name='persona3',y=random.sample(range(10, 30), len(p3_3)),\n",
    "                marker_size=p3_3['Weight'],legendgroup='group3',showlegend=False),row=3,col=3)\n",
    "fig.add_trace(go.Scatter(\n",
    "                x=p4_3['Item'],name='persona4',y=random.sample(range(10, 30), len(p4_3)),\n",
    "                marker_size=p4_3['Weight'],legendgroup='group4',showlegend=False),row=3,col=3)\n",
    "#zone 4\n",
    "fig.add_trace(go.Scatter(\n",
    "                x=p1_4['Item'],name='',legendgroup='group1',y=random.sample(range(10, 30), len(p1_4)),\n",
    "                marker_size=p1_4['Weight'],showlegend=False),row=2,col=1)\n",
    "fig.add_trace(go.Scatter(\n",
    "                x=p2_4['Item'],name='',y=random.sample(range(10, 30), len(p2_4)),\n",
    "                marker_size=p2_4['Weight'],legendgroup='group2',showlegend=False),row=2,col=1)\n",
    "fig.add_trace(go.Scatter(\n",
    "                x=p3_4['Item'],name='',y=random.sample(range(10, 30), len(p3_4)),\n",
    "                marker_size=p3_4['Weight'],legendgroup='group3',showlegend=False),row=2,col=1)\n",
    "fig.add_trace(go.Scatter(\n",
    "                x=p4_4['Item'],name='',y=random.sample(range(10, 30), len(p4_4)),\n",
    "                marker_size=p4_4['Weight'],legendgroup='group4',showlegend=False),row=2,col=1)\n",
    "\n",
    "\n",
    "#zone 5\n",
    "\n",
    "fig.add_trace(go.Scatter(\n",
    "                x=p1_5['Item'],name='',legendgroup='group1',y=random.sample(range(10, 30), len(p1_5)),\n",
    "                marker_size=p1_5['Weight'],showlegend=False),row=2,col=2)\n",
    "fig.add_trace(go.Scatter(\n",
    "                x=p2_5['Item'],name='',y=random.sample(range(10, 30), len(p2_5)),\n",
    "                marker_size=p2_5['Weight'],legendgroup='group2',showlegend=False),row=2,col=2)\n",
    "fig.add_trace(go.Scatter(\n",
    "                x=p3_5['Item'],name='',y=random.sample(range(10, 30), len(p3_5)),\n",
    "                marker_size=p3_5['Weight'],legendgroup='group3',showlegend=False),row=2,col=2)\n",
    "fig.add_trace(go.Scatter(\n",
    "                x=p4_5['Item'],name='',y=random.sample(range(10, 30), len(p4_5)),\n",
    "                marker_size=p4_5['Weight'],legendgroup='group4',showlegend=False),row=2,col=2)\n",
    "\n",
    "#zone 6\n",
    "\n",
    "fig.add_trace(go.Scatter(\n",
    "                x=p1_6['Item'],name='',legendgroup='group1',y=random.sample(range(10, 30), len(p1_6)),\n",
    "                marker_size=p1_6['Weight'],showlegend=False),row=2,col=3)\n",
    "fig.add_trace(go.Scatter(\n",
    "                x=p2_6['Item'],name='',y=random.sample(range(10, 30), len(p2_6)),\n",
    "                marker_size=p2_6['Weight'],legendgroup='group2',showlegend=False),row=2,col=3)\n",
    "fig.add_trace(go.Scatter(\n",
    "                x=p3_6['Item'],name='',y=random.sample(range(10, 30), len(p3_6)),\n",
    "                marker_size=p3_6['Weight'],legendgroup='group3',showlegend=False),row=2,col=3)\n",
    "fig.add_trace(go.Scatter(\n",
    "                x=p4_6['Item'],name='',y=random.sample(range(10, 30), len(p4_6)),\n",
    "                marker_size=p4_6['Weight'],legendgroup='group4',showlegend=False),row=2,col=3)\n",
    "\n",
    "#zone 7\n",
    "\n",
    "fig.add_trace(go.Scatter(\n",
    "                x=p1_7['Item'],name='',legendgroup='group1',y=random.sample(range(10, 30), len(p1_7)),\n",
    "                marker_size=p1_7['Weight'],showlegend=False),row=1,col=1)\n",
    "fig.add_trace(go.Scatter(\n",
    "                x=p2_7['Item'],name='',y=random.sample(range(10, 30), len(p2_7)),\n",
    "                marker_size=p2_7['Weight'],legendgroup='group2',showlegend=False),row=1,col=1)\n",
    "fig.add_trace(go.Scatter(\n",
    "                x=p3_7['Item'],name='',y=random.sample(range(10, 30), len(p3_7)),\n",
    "                marker_size=p3_7['Weight'],legendgroup='group3',showlegend=False),row=1,col=1)\n",
    "fig.add_trace(go.Scatter(\n",
    "                x=p4_7['Item'],name='',y=random.sample(range(10, 30), len(p4_7)),\n",
    "                marker_size=p4_7['Weight'],legendgroup='group4',showlegend=False),row=1,col=1)\n",
    "#zone 8\n",
    "\n",
    "fig.add_trace(go.Scatter(\n",
    "                x=p1_8['Item'],name='',legendgroup='group1',y=random.sample(range(10, 30), len(p1_8)),\n",
    "                marker_size=p1_8['Weight'],showlegend=False),row=1,col=2)\n",
    "fig.add_trace(go.Scatter(\n",
    "                x=p2_8['Item'],name='',y=random.sample(range(10, 30), len(p2_8)),\n",
    "                marker_size=p2_8['Weight'],legendgroup='group2',showlegend=False),row=1,col=2)\n",
    "fig.add_trace(go.Scatter(\n",
    "                x=p3_8['Item'],name='',y=random.sample(range(10, 30), len(p3_8)),\n",
    "                marker_size=p3_8['Weight'],legendgroup='group3',showlegend=False),row=1,col=2)\n",
    "fig.add_trace(go.Scatter(\n",
    "                x=p4_8['Item'],name='',y=random.sample(range(10, 30), len(p4_8)),\n",
    "                marker_size=p4_8['Weight'],legendgroup='group4',showlegend=False),row=1,col=2)\n",
    "#zone 9\n",
    "\n",
    "fig.add_trace(go.Scatter(\n",
    "                x=p1_9['Item'],name='',legendgroup='group1',y=random.sample(range(10, 30), len(p1_9)),\n",
    "                marker_size=p1_9['Weight'],showlegend=False),row=1,col=1)\n",
    "fig.add_trace(go.Scatter(\n",
    "                x=p2_9['Item'],name='',y=random.sample(range(10, 30), len(p2_9)),\n",
    "                marker_size=p2_9['Weight'],legendgroup='group2',showlegend=False),row=1,col=3)\n",
    "fig.add_trace(go.Scatter(\n",
    "                x=p3_9['Item'],name='',y=random.sample(range(10, 30), len(p3_9)),\n",
    "                marker_size=p3_9['Weight'],legendgroup='group3',showlegend=False),row=1,col=3)\n",
    "fig.add_trace(go.Scatter(\n",
    "                x=p4_9['Item'],name='',y=random.sample(range(10, 30), len(p4_9)),\n",
    "                marker_size=p4_9['Weight'],legendgroup='group4',showlegend=False),row=1,col=3)\n",
    "\n",
    "sizeref =  2.*80/(100**2)\n",
    "\n",
    "fig.update_traces(mode='markers', marker=dict(sizemode='area',\n",
    "                                              sizeref=sizeref, line_width=2))\n",
    "fig.update_yaxes(visible=True, showticklabels=False)\n",
    "fig.update_xaxes(visible=True, showticklabels=False)\n",
    "# fig.update_xaxes(visible=True,showticklabels=False, row=3,col=1)\n",
    "# fig.update_yaxes(visible=True,showticklabels=False, row=3,col=1)\n",
    "fig['layout']['xaxis7']['title']='Seldom'\n",
    "fig['layout']['xaxis8']['title']='Sometimes'\n",
    "fig['layout']['xaxis9']['title']='Often'\n",
    "fig['layout']['yaxis1']['title']='High'\n",
    "fig['layout']['yaxis4']['title']='Moderate'\n",
    "fig['layout']['yaxis7']['title']='Low'\n",
    "fig.update_xaxes(showline=True, linewidth=1, linecolor='black', row=3, col=1)\n",
    "fig.update_yaxes(showline=True, linewidth=1, linecolor='black', row=1, col=1)\n",
    "fig.update_xaxes(showline=True, linewidth=1, linecolor='black', row=3, col=2)\n",
    "fig.update_yaxes(showline=True, linewidth=1, linecolor='black', row=2, col=1)\n",
    "fig.update_xaxes(showline=True, linewidth=1, linecolor='black', row=3, col=3)\n",
    "fig.update_yaxes(showline=True, linewidth=1, linecolor='black', row=3, col=1)\n",
    "\n",
    "fig.update_layout(\n",
    "    title='serverity and indensity',\n",
    "    paper_bgcolor='rgb(243, 243, 243)',\n",
    "    plot_bgcolor='rgb(243, 243, 243)',\n",
    ")\n",
    "\n",
    "fig.show()"
   ]
  },
  {
   "cell_type": "code",
   "execution_count": 183,
   "metadata": {
    "tags": []
   },
   "outputs": [
    {
     "output_type": "display_data",
     "data": {
      "application/vnd.plotly.v1+json": {
       "config": {
        "plotlyServerURL": "https://plotly.com"
       },
       "data": [
        {
         "branchvalues": "total",
         "customdata": [
          [
           "Type I:high stress"
          ],
          [
           "Type IV:low stress"
          ],
          [
           "Type III:late peak"
          ],
          [
           "Type III:late peak"
          ],
          [
           "Type III:late peak"
          ],
          [
           "Type II:early peak"
          ],
          [
           "Type II:early peak"
          ],
          [
           "Type II:early peak"
          ],
          [
           "Type I:high stress"
          ],
          [
           "Type I:high stress"
          ],
          [
           "Type IV:low stress"
          ],
          [
           "Type I:high stress"
          ],
          [
           "Type IV:low stress"
          ],
          [
           "Type IV:low stress"
          ],
          [
           "Type III:late peak"
          ],
          [
           "Type III:late peak"
          ],
          [
           "Type III:late peak"
          ],
          [
           "Type II:early peak"
          ],
          [
           "Type II:early peak"
          ],
          [
           "Type II:early peak"
          ],
          [
           "Type I:high stress"
          ],
          [
           "Type IV:low stress"
          ],
          [
           "Type I:high stress"
          ],
          [
           "Type I:high stress"
          ],
          [
           "Type I:high stress"
          ],
          [
           "Type IV:low stress"
          ],
          [
           "Type IV:low stress"
          ],
          [
           "Type IV:low stress"
          ],
          [
           "Type III:late peak"
          ],
          [
           "Type III:late peak"
          ],
          [
           "Type III:late peak"
          ],
          [
           "Type II:early peak"
          ],
          [
           "Type II:early peak"
          ],
          [
           "Type II:early peak"
          ],
          [
           "Type I:high stress"
          ],
          [
           "Type I:high stress"
          ],
          [
           "Type I:high stress"
          ],
          [
           "Type IV:low stress"
          ],
          [
           "Type IV:low stress"
          ],
          [
           "Type IV:low stress"
          ],
          [
           "Type III:late peak"
          ],
          [
           "Type III:late peak"
          ],
          [
           "Type III:late peak"
          ],
          [
           "Type II:early peak"
          ],
          [
           "Type II:early peak"
          ],
          [
           "Type II:early peak"
          ],
          [
           "Type I:high stress"
          ],
          [
           "Type I:high stress"
          ],
          [
           "Type IV:low stress"
          ],
          [
           "Type IV:low stress"
          ],
          [
           "Type IV:low stress"
          ],
          [
           "Type III:late peak"
          ],
          [
           "Type III:late peak"
          ],
          [
           "Type III:late peak"
          ],
          [
           "Type II:early peak"
          ],
          [
           "Type II:early peak"
          ],
          [
           "Type II:early peak"
          ],
          [
           "Type I:high stress"
          ],
          [
           "Type I:high stress"
          ],
          [
           "Type I:high stress"
          ],
          [
           "Type IV:low stress"
          ],
          [
           "Type IV:low stress"
          ],
          [
           "Type IV:low stress"
          ],
          [
           "Type III:late peak"
          ],
          [
           "Type III:late peak"
          ],
          [
           "Type III:late peak"
          ],
          [
           "Type II:early peak"
          ],
          [
           "Type II:early peak"
          ],
          [
           "Type II:early peak"
          ],
          [
           "Type I:high stress"
          ],
          [
           "Type IV:low stress"
          ],
          [
           "Type IV:low stress"
          ],
          [
           "Type IV:low stress"
          ],
          [
           "Type I:high stress"
          ],
          [
           "Type II:early peak"
          ],
          [
           "Type IV:low stress"
          ],
          [
           "Type III:late peak"
          ],
          [
           "Type III:late peak"
          ],
          [
           "Type III:late peak"
          ],
          [
           "Type II:early peak"
          ],
          [
           "Type II:early peak"
          ],
          [
           "Type I:high stress"
          ],
          [
           "Type I:high stress"
          ],
          [
           "Type I:high stress"
          ],
          [
           "Type IV:low stress"
          ],
          [
           "Type I:high stress"
          ],
          [
           "Type IV:low stress"
          ],
          [
           "Type III:late peak"
          ],
          [
           "Type III:late peak"
          ],
          [
           "Type III:late peak"
          ],
          [
           "Type II:early peak"
          ],
          [
           "Type II:early peak"
          ],
          [
           "Type II:early peak"
          ],
          [
           "Type I:high stress"
          ],
          [
           "Type I:high stress"
          ],
          [
           "Type IV:low stress"
          ],
          [
           "Type II:early peak"
          ],
          [
           "Type I:high stress"
          ],
          [
           "Type II:early peak"
          ],
          [
           "Type II:early peak"
          ],
          [
           "Type I:high stress"
          ],
          [
           "Type III:late peak"
          ],
          [
           "Type III:late peak"
          ],
          [
           "Type IV:low stress"
          ],
          [
           "Type III:late peak"
          ],
          [
           "Type I:high stress"
          ],
          [
           "Type I:high stress"
          ],
          [
           "Type IV:low stress"
          ],
          [
           "Type IV:low stress"
          ],
          [
           "Type IV:low stress"
          ],
          [
           "Type III:late peak"
          ],
          [
           "Type III:late peak"
          ],
          [
           "Type III:late peak"
          ],
          [
           "Type II:early peak"
          ],
          [
           "Type II:early peak"
          ],
          [
           "Type II:early peak"
          ],
          [
           "Type IV:low stress"
          ],
          [
           "Type I:high stress"
          ],
          [
           "Type IV:low stress"
          ],
          [
           "Type IV:low stress"
          ],
          [
           "Type I:high stress"
          ],
          [
           "Type IV:low stress"
          ],
          [
           "Type IV:low stress"
          ],
          [
           "Type III:late peak"
          ],
          [
           "Type III:late peak"
          ],
          [
           "Type III:late peak"
          ],
          [
           "Type II:early peak"
          ],
          [
           "Type II:early peak"
          ],
          [
           "Type II:early peak"
          ],
          [
           "Type I:high stress"
          ],
          [
           "Type I:high stress"
          ],
          [
           "Type I:high stress"
          ],
          [
           "Type IV:low stress"
          ],
          [
           "Type IV:low stress"
          ],
          [
           "Type III:late peak"
          ],
          [
           "Type III:late peak"
          ],
          [
           "Type III:late peak"
          ],
          [
           "Type II:early peak"
          ],
          [
           "Type II:early peak"
          ],
          [
           "Type II:early peak"
          ],
          [
           "Type I:high stress"
          ],
          [
           "Type I:high stress"
          ],
          [
           "Type I:high stress"
          ],
          [
           "Type IV:low stress"
          ],
          [
           "Type IV:low stress"
          ],
          [
           "Type III:late peak"
          ],
          [
           "Type III:late peak"
          ],
          [
           "Type III:late peak"
          ],
          [
           "Type II:early peak"
          ],
          [
           "Type II:early peak"
          ],
          [
           "Type II:early peak"
          ],
          [
           "Type I:high stress"
          ],
          [
           "Type I:high stress"
          ],
          [
           "Type IV:low stress"
          ],
          [
           "Type IV:low stress"
          ],
          [
           "Type II:early peak"
          ],
          [
           "Type II:early peak"
          ],
          [
           "Type I:high stress"
          ],
          [
           "Type I:high stress"
          ],
          [
           "Type I:high stress"
          ],
          [
           "Type IV:low stress"
          ],
          [
           "Type IV:low stress"
          ],
          [
           "Type III:late peak"
          ],
          [
           "Type III:late peak"
          ],
          [
           "Type III:late peak"
          ],
          [
           "Type II:early peak"
          ],
          [
           "Type IV:low stress"
          ],
          [
           "Type IV:low stress"
          ],
          [
           "Type I:high stress"
          ],
          [
           "Type I:high stress"
          ],
          [
           "Type IV:low stress"
          ],
          [
           "Type IV:low stress"
          ],
          [
           "Type III:late peak"
          ],
          [
           "Type III:late peak"
          ],
          [
           "Type III:late peak"
          ],
          [
           "Type II:early peak"
          ],
          [
           "Type II:early peak"
          ],
          [
           "Type I:high stress"
          ],
          [
           "Type I:high stress"
          ],
          [
           "Type I:high stress"
          ],
          [
           "Type II:early peak"
          ],
          [
           "Type IV:low stress"
          ],
          [
           "Type IV:low stress"
          ],
          [
           "Type I:high stress"
          ],
          [
           "Type II:early peak"
          ],
          [
           "Type II:early peak"
          ],
          [
           "Type II:early peak"
          ],
          [
           "Type I:high stress"
          ],
          [
           "Type III:late peak"
          ],
          [
           "Type III:late peak"
          ],
          [
           "Type IV:low stress"
          ],
          [
           "Type III:late peak"
          ],
          [
           "Type I:high stress"
          ],
          [
           "Type IV:low stress"
          ],
          [
           "Type IV:low stress"
          ],
          [
           "Type III:late peak"
          ],
          [
           "Type III:late peak"
          ],
          [
           "Type III:late peak"
          ],
          [
           "Type II:early peak"
          ],
          [
           "Type II:early peak"
          ],
          [
           "Type II:early peak"
          ],
          [
           "Type I:high stress"
          ],
          [
           "Type I:high stress"
          ],
          [
           "Type IV:low stress"
          ],
          [
           "Type IV:low stress"
          ],
          [
           "Type IV:low stress"
          ],
          [
           "Type III:late peak"
          ],
          [
           "Type III:late peak"
          ],
          [
           "Type III:late peak"
          ],
          [
           "Type II:early peak"
          ],
          [
           "Type II:early peak"
          ],
          [
           "Type II:early peak"
          ],
          [
           "Type I:high stress"
          ],
          [
           "Type I:high stress"
          ],
          [
           "Type IV:low stress"
          ],
          [
           "Type I:high stress"
          ],
          [
           "Type I:high stress"
          ],
          [
           "Type IV:low stress"
          ],
          [
           "Type IV:low stress"
          ],
          [
           "Type III:late peak"
          ],
          [
           "Type III:late peak"
          ],
          [
           "Type III:late peak"
          ],
          [
           "Type II:early peak"
          ],
          [
           "Type II:early peak"
          ],
          [
           "Type II:early peak"
          ],
          [
           "Type I:high stress"
          ],
          [
           "Type I:high stress"
          ],
          [
           "Type I:high stress"
          ],
          [
           "Type IV:low stress"
          ],
          [
           "Type IV:low stress"
          ],
          [
           "Type IV:low stress"
          ],
          [
           "Type III:late peak"
          ],
          [
           "Type III:late peak"
          ],
          [
           "Type III:late peak"
          ],
          [
           "Type II:early peak"
          ],
          [
           "Type II:early peak"
          ],
          [
           "Type II:early peak"
          ],
          [
           "Type I:high stress"
          ],
          [
           "Type I:high stress"
          ],
          [
           "Type IV:low stress"
          ],
          [
           "Type IV:low stress"
          ],
          [
           "Type III:late peak"
          ],
          [
           "Type III:late peak"
          ],
          [
           "Type III:late peak"
          ],
          [
           "Type II:early peak"
          ],
          [
           "Type II:early peak"
          ],
          [
           "Type II:early peak"
          ],
          [
           "Type I:high stress"
          ],
          [
           "Type I:high stress"
          ],
          [
           "Type IV:low stress"
          ],
          [
           "Type IV:low stress"
          ],
          [
           "Type IV:low stress"
          ],
          [
           "Type IV:low stress"
          ],
          [
           "Type III:late peak"
          ],
          [
           "Type III:late peak"
          ],
          [
           "Type III:late peak"
          ],
          [
           "Type II:early peak"
          ],
          [
           "Type II:early peak"
          ],
          [
           "Type II:early peak"
          ],
          [
           "Type I:high stress"
          ],
          [
           "Type I:high stress"
          ],
          [
           "Type I:high stress"
          ],
          [
           "Type IV:low stress"
          ],
          [
           "Type IV:low stress"
          ],
          [
           "Type I:high stress"
          ],
          [
           "Type I:high stress"
          ],
          [
           "Type IV:low stress"
          ],
          [
           "Type IV:low stress"
          ],
          [
           "Type III:late peak"
          ],
          [
           "Type III:late peak"
          ],
          [
           "Type III:late peak"
          ],
          [
           "Type II:early peak"
          ],
          [
           "Type II:early peak"
          ],
          [
           "Type I:high stress"
          ],
          [
           "Type I:high stress"
          ],
          [
           "Type I:high stress"
          ],
          [
           "Type II:early peak"
          ],
          [
           "Type IV:low stress"
          ],
          [
           "Type IV:low stress"
          ],
          [
           "Type I:high stress"
          ],
          [
           "Type II:early peak"
          ],
          [
           "Type II:early peak"
          ],
          [
           "Type II:early peak"
          ],
          [
           "Type I:high stress"
          ],
          [
           "Type III:late peak"
          ],
          [
           "Type III:late peak"
          ],
          [
           "Type IV:low stress"
          ],
          [
           "Type III:late peak"
          ],
          [
           "Type I:high stress"
          ],
          [
           "Type IV:low stress"
          ],
          [
           "Type III:late peak"
          ],
          [
           "Type III:late peak"
          ],
          [
           "Type III:late peak"
          ],
          [
           "Type II:early peak"
          ],
          [
           "Type II:early peak"
          ],
          [
           "Type II:early peak"
          ],
          [
           "Type I:high stress"
          ],
          [
           "Type I:high stress"
          ],
          [
           "Type I:high stress"
          ],
          [
           "Type IV:low stress"
          ],
          [
           "Type IV:low stress"
          ],
          [
           "Type III:late peak"
          ],
          [
           "Type III:late peak"
          ],
          [
           "Type III:late peak"
          ],
          [
           "Type II:early peak"
          ],
          [
           "Type II:early peak"
          ],
          [
           "Type II:early peak"
          ],
          [
           "Type I:high stress"
          ],
          [
           "Type IV:low stress"
          ],
          [
           "Type IV:low stress"
          ],
          [
           "Type IV:low stress"
          ],
          [
           "Type I:high stress"
          ],
          [
           "Type I:high stress"
          ],
          [
           "Type III:late peak"
          ],
          [
           "Type III:late peak"
          ],
          [
           "Type III:late peak"
          ],
          [
           "Type II:early peak"
          ],
          [
           "Type II:early peak"
          ],
          [
           "Type II:early peak"
          ],
          [
           "Type I:high stress"
          ],
          [
           "Type I:high stress"
          ],
          [
           "Type I:high stress"
          ],
          [
           "Type IV:low stress"
          ],
          [
           "Type IV:low stress"
          ],
          [
           "Type IV:low stress"
          ],
          [
           "Type III:late peak"
          ],
          [
           "Type III:late peak"
          ],
          [
           "Type III:late peak"
          ],
          [
           "Type II:early peak"
          ],
          [
           "Type II:early peak"
          ],
          [
           "Type II:early peak"
          ],
          [
           "Type I:high stress"
          ],
          [
           "Type I:high stress"
          ],
          [
           "Type IV:low stress"
          ],
          [
           "Type IV:low stress"
          ],
          [
           "Type IV:low stress"
          ],
          [
           "Type IV:low stress"
          ],
          [
           "Type III:late peak"
          ],
          [
           "Type II:early peak"
          ],
          [
           "Type II:early peak"
          ],
          [
           "Type II:early peak"
          ],
          [
           "Type I:high stress"
          ],
          [
           "Type I:high stress"
          ],
          [
           "Type I:high stress"
          ],
          [
           "Type IV:low stress"
          ],
          [
           "Type IV:low stress"
          ],
          [
           "Type III:late peak"
          ],
          [
           "Type IV:low stress"
          ],
          [
           "Type III:late peak"
          ],
          [
           "Type III:late peak"
          ],
          [
           "Type II:early peak"
          ],
          [
           "Type II:early peak"
          ],
          [
           "Type II:early peak"
          ],
          [
           "Type I:high stress"
          ],
          [
           "Type I:high stress"
          ],
          [
           "Type I:high stress"
          ],
          [
           "Type IV:low stress"
          ],
          [
           "Type III:late peak"
          ],
          [
           "Type III:late peak"
          ],
          [
           "Type IV:low stress"
          ],
          [
           "Type IV:low stress"
          ],
          [
           "Type III:late peak"
          ],
          [
           "Type III:late peak"
          ],
          [
           "Type III:late peak"
          ],
          [
           "Type II:early peak"
          ],
          [
           "Type II:early peak"
          ],
          [
           "Type II:early peak"
          ],
          [
           "Type I:high stress"
          ],
          [
           "Type I:high stress"
          ],
          [
           "Type I:high stress"
          ],
          [
           "Type IV:low stress"
          ],
          [
           "Type IV:low stress"
          ],
          [
           "Type IV:low stress"
          ],
          [
           "Type III:late peak"
          ],
          [
           "Type III:late peak"
          ],
          [
           "Type III:late peak"
          ],
          [
           "Type II:early peak"
          ],
          [
           "Type II:early peak"
          ],
          [
           "Type II:early peak"
          ],
          [
           "Type I:high stress"
          ],
          [
           "Type I:high stress"
          ],
          [
           "Type I:high stress"
          ],
          [
           "Type IV:low stress"
          ],
          [
           "Type IV:low stress"
          ],
          [
           "Type I:high stress"
          ],
          [
           "Type I:high stress"
          ],
          [
           "Type I:high stress"
          ],
          [
           "Type II:early peak"
          ],
          [
           "Type II:early peak"
          ],
          [
           "Type II:early peak"
          ],
          [
           "Type III:late peak"
          ],
          [
           "Type III:late peak"
          ],
          [
           "Type III:late peak"
          ],
          [
           "Type IV:low stress"
          ],
          [
           "Type IV:low stress"
          ],
          [
           "Type IV:low stress"
          ],
          [
           "(?)"
          ],
          [
           "(?)"
          ],
          [
           "(?)"
          ],
          [
           "(?)"
          ]
         ],
         "domain": {
          "x": [
           0,
           1
          ],
          "y": [
           0,
           1
          ]
         },
         "hovertemplate": "%{label}<br>%{value} votes from  %{parent}<extra></extra>",
         "ids": [
          "All strategies from all types/<i>Strategies that I want to try</i>/Type I:high stress/cooking",
          "All strategies from all types/<i>Strategies that I want to try</i>/Type IV:low stress/eating<br>junk<br>food",
          "All strategies from all types/<i>Strategies that work for me</i>/Type III:late peak/eating<br>junk<br>food",
          "All strategies from all types/<i>Strategies that don’t work for me</i>/Type III:late peak/eating<br>junk<br>food",
          "All strategies from all types/<i>Strategies that I want to try</i>/Type III:late peak/eating<br>junk<br>food",
          "All strategies from all types/<i>Strategies that work for me</i>/Type II:early peak/eating<br>junk<br>food",
          "All strategies from all types/<i>Strategies that don’t work for me</i>/Type II:early peak/eating<br>junk<br>food",
          "All strategies from all types/<i>Strategies that I want to try</i>/Type II:early peak/eating<br>junk<br>food",
          "All strategies from all types/<i>Strategies that work for me</i>/Type I:high stress/eating<br>junk<br>food",
          "All strategies from all types/<i>Strategies that don’t work for me</i>/Type I:high stress/eating<br>junk<br>food",
          "All strategies from all types/<i>Strategies that don’t work for me</i>/Type IV:low stress/eating<br>junk<br>food",
          "All strategies from all types/<i>Strategies that I want to try</i>/Type I:high stress/eating<br>junk<br>food",
          "All strategies from all types/<i>Strategies that don’t work for me</i>/Type IV:low stress/eating",
          "All strategies from all types/<i>Strategies that I want to try</i>/Type IV:low stress/eating",
          "All strategies from all types/<i>Strategies that work for me</i>/Type III:late peak/eating",
          "All strategies from all types/<i>Strategies that don’t work for me</i>/Type III:late peak/eating",
          "All strategies from all types/<i>Strategies that I want to try</i>/Type III:late peak/eating",
          "All strategies from all types/<i>Strategies that work for me</i>/Type II:early peak/eating",
          "All strategies from all types/<i>Strategies that don’t work for me</i>/Type II:early peak/eating",
          "All strategies from all types/<i>Strategies that I want to try</i>/Type II:early peak/eating",
          "All strategies from all types/<i>Strategies that work for me</i>/Type I:high stress/eating",
          "All strategies from all types/<i>Strategies that work for me</i>/Type IV:low stress/eating",
          "All strategies from all types/<i>Strategies that I want to try</i>/Type I:high stress/gardening",
          "All strategies from all types/<i>Strategies that don’t work for me</i>/Type I:high stress/gardening",
          "All strategies from all types/<i>Strategies that work for me</i>/Type I:high stress/gardening",
          "All strategies from all types/<i>Strategies that work for me</i>/Type IV:low stress/going<br>to the <br>gym",
          "All strategies from all types/<i>Strategies that don’t work for me</i>/Type IV:low stress/going<br>to the <br>gym",
          "All strategies from all types/<i>Strategies that I want to try</i>/Type IV:low stress/going<br>to the <br>gym",
          "All strategies from all types/<i>Strategies that work for me</i>/Type III:late peak/going<br>to the <br>gym",
          "All strategies from all types/<i>Strategies that don’t work for me</i>/Type III:late peak/going<br>to the <br>gym",
          "All strategies from all types/<i>Strategies that I want to try</i>/Type III:late peak/going<br>to the <br>gym",
          "All strategies from all types/<i>Strategies that work for me</i>/Type II:early peak/going<br>to the <br>gym",
          "All strategies from all types/<i>Strategies that don’t work for me</i>/Type II:early peak/going<br>to the <br>gym",
          "All strategies from all types/<i>Strategies that I want to try</i>/Type II:early peak/going<br>to the <br>gym",
          "All strategies from all types/<i>Strategies that work for me</i>/Type I:high stress/going<br>to the <br>gym",
          "All strategies from all types/<i>Strategies that don’t work for me</i>/Type I:high stress/going<br>to the <br>gym",
          "All strategies from all types/<i>Strategies that I want to try</i>/Type I:high stress/going<br>to the <br>gym",
          "All strategies from all types/<i>Strategies that work for me</i>/Type IV:low stress/gardening",
          "All strategies from all types/<i>Strategies that don’t work for me</i>/Type IV:low stress/gardening",
          "All strategies from all types/<i>Strategies that I want to try</i>/Type IV:low stress/gardening",
          "All strategies from all types/<i>Strategies that work for me</i>/Type III:late peak/gardening",
          "All strategies from all types/<i>Strategies that don’t work for me</i>/Type III:late peak/gardening",
          "All strategies from all types/<i>Strategies that I want to try</i>/Type III:late peak/gardening",
          "All strategies from all types/<i>Strategies that work for me</i>/Type II:early peak/gardening",
          "All strategies from all types/<i>Strategies that don’t work for me</i>/Type II:early peak/gardening",
          "All strategies from all types/<i>Strategies that I want to try</i>/Type II:early peak/gardening",
          "All strategies from all types/<i>Strategies that don’t work for me</i>/Type I:high stress/eating",
          "All strategies from all types/<i>Strategies that I want to try</i>/Type I:high stress/eating",
          "All strategies from all types/<i>Strategies that work for me</i>/Type IV:low stress/eating<br>junk<br>food",
          "All strategies from all types/<i>Strategies that don’t work for me</i>/Type IV:low stress/drinking<br>alcohol",
          "All strategies from all types/<i>Strategies that I want to try</i>/Type IV:low stress/crying",
          "All strategies from all types/<i>Strategies that work for me</i>/Type III:late peak/crying",
          "All strategies from all types/<i>Strategies that don’t work for me</i>/Type III:late peak/crying",
          "All strategies from all types/<i>Strategies that I want to try</i>/Type III:late peak/crying",
          "All strategies from all types/<i>Strategies that work for me</i>/Type II:early peak/crying",
          "All strategies from all types/<i>Strategies that don’t work for me</i>/Type II:early peak/crying",
          "All strategies from all types/<i>Strategies that I want to try</i>/Type II:early peak/crying",
          "All strategies from all types/<i>Strategies that work for me</i>/Type I:high stress/crying",
          "All strategies from all types/<i>Strategies that don’t work for me</i>/Type I:high stress/crying",
          "All strategies from all types/<i>Strategies that I want to try</i>/Type I:high stress/crying",
          "All strategies from all types/<i>Strategies that work for me</i>/Type IV:low stress/cooking",
          "All strategies from all types/<i>Strategies that don’t work for me</i>/Type IV:low stress/cooking",
          "All strategies from all types/<i>Strategies that I want to try</i>/Type IV:low stress/cooking",
          "All strategies from all types/<i>Strategies that work for me</i>/Type III:late peak/cooking",
          "All strategies from all types/<i>Strategies that don’t work for me</i>/Type III:late peak/cooking",
          "All strategies from all types/<i>Strategies that I want to try</i>/Type III:late peak/cooking",
          "All strategies from all types/<i>Strategies that work for me</i>/Type II:early peak/cooking",
          "All strategies from all types/<i>Strategies that don’t work for me</i>/Type II:early peak/cooking",
          "All strategies from all types/<i>Strategies that I want to try</i>/Type II:early peak/cooking",
          "All strategies from all types/<i>Strategies that work for me</i>/Type I:high stress/cooking",
          "All strategies from all types/<i>Strategies that work for me</i>/Type IV:low stress/drinking<br>alcohol",
          "All strategies from all types/<i>Strategies that don’t work for me</i>/Type IV:low stress/crying",
          "All strategies from all types/<i>Strategies that work for me</i>/Type IV:low stress/crying",
          "All strategies from all types/<i>Strategies that don’t work for me</i>/Type I:high stress/cooking",
          "All strategies from all types/<i>Strategies that I want to try</i>/Type II:early peak/drinking<br>alcohol",
          "All strategies from all types/<i>Strategies that I want to try</i>/Type IV:low stress/drinking<br>alcohol",
          "All strategies from all types/<i>Strategies that work for me</i>/Type III:late peak/drinking<br>alcohol",
          "All strategies from all types/<i>Strategies that don’t work for me</i>/Type III:late peak/drinking<br>alcohol",
          "All strategies from all types/<i>Strategies that I want to try</i>/Type III:late peak/drinking<br>alcohol",
          "All strategies from all types/<i>Strategies that work for me</i>/Type II:early peak/drinking<br>alcohol",
          "All strategies from all types/<i>Strategies that don’t work for me</i>/Type II:early peak/drinking<br>alcohol",
          "All strategies from all types/<i>Strategies that I want to try</i>/Type I:high stress/drawing",
          "All strategies from all types/<i>Strategies that work for me</i>/Type I:high stress/drinking<br>alcohol",
          "All strategies from all types/<i>Strategies that don’t work for me</i>/Type I:high stress/drinking<br>alcohol",
          "All strategies from all types/<i>Strategies that work for me</i>/Type IV:low stress/drawing",
          "All strategies from all types/<i>Strategies that I want to try</i>/Type I:high stress/drinking<br>alcohol",
          "All strategies from all types/<i>Strategies that I want to try</i>/Type IV:low stress/drawing",
          "All strategies from all types/<i>Strategies that work for me</i>/Type III:late peak/drawing",
          "All strategies from all types/<i>Strategies that don’t work for me</i>/Type III:late peak/drawing",
          "All strategies from all types/<i>Strategies that I want to try</i>/Type III:late peak/drawing",
          "All strategies from all types/<i>Strategies that work for me</i>/Type II:early peak/drawing",
          "All strategies from all types/<i>Strategies that don’t work for me</i>/Type II:early peak/drawing",
          "All strategies from all types/<i>Strategies that I want to try</i>/Type II:early peak/drawing",
          "All strategies from all types/<i>Strategies that work for me</i>/Type I:high stress/drawing",
          "All strategies from all types/<i>Strategies that don’t work for me</i>/Type I:high stress/drawing",
          "All strategies from all types/<i>Strategies that don’t work for me</i>/Type IV:low stress/drawing",
          "All strategies from all types/<i>Strategies that don’t work for me</i>/Type II:early peak/meditation",
          "All strategies from all types/<i>Strategies that work for me</i>/Type I:high stress/meditation",
          "All strategies from all types/<i>Strategies that I want to try</i>/Type II:early peak/meditation",
          "All strategies from all types/<i>Strategies that work for me</i>/Type II:early peak/meditation",
          "All strategies from all types/<i>Strategies that don’t work for me</i>/Type I:high stress/listening<br>to<br>music",
          "All strategies from all types/<i>Strategies that don’t work for me</i>/Type III:late peak/meditation",
          "All strategies from all types/<i>Strategies that work for me</i>/Type III:late peak/meditation",
          "All strategies from all types/<i>Strategies that I want to try</i>/Type IV:low stress/meditation",
          "All strategies from all types/<i>Strategies that I want to try</i>/Type III:late peak/meditation",
          "All strategies from all types/<i>Strategies that don’t work for me</i>/Type I:high stress/meditation",
          "All strategies from all types/<i>Strategies that work for me</i>/Type I:high stress/listening<br>to<br>music",
          "All strategies from all types/<i>Strategies that work for me</i>/Type IV:low stress/listening<br>to<br>music",
          "All strategies from all types/<i>Strategies that don’t work for me</i>/Type IV:low stress/listening<br>to<br>music",
          "All strategies from all types/<i>Strategies that I want to try</i>/Type IV:low stress/listening<br>to<br>music",
          "All strategies from all types/<i>Strategies that work for me</i>/Type III:late peak/listening<br>to<br>music",
          "All strategies from all types/<i>Strategies that don’t work for me</i>/Type III:late peak/listening<br>to<br>music",
          "All strategies from all types/<i>Strategies that I want to try</i>/Type III:late peak/listening<br>to<br>music",
          "All strategies from all types/<i>Strategies that work for me</i>/Type II:early peak/listening<br>to<br>music",
          "All strategies from all types/<i>Strategies that don’t work for me</i>/Type II:early peak/listening<br>to<br>music",
          "All strategies from all types/<i>Strategies that I want to try</i>/Type II:early peak/listening<br>to<br>music",
          "All strategies from all types/<i>Strategies that don’t work for me</i>/Type IV:low stress/meditation",
          "All strategies from all types/<i>Strategies that I want to try</i>/Type I:high stress/meditation",
          "All strategies from all types/<i>Strategies that work for me</i>/Type IV:low stress/meditation",
          "All strategies from all types/<i>Strategies that don’t work for me</i>/Type IV:low stress/outdoor<br>activities",
          "All strategies from all types/<i>Strategies that don’t work for me</i>/Type I:high stress/outdoor<br>activities",
          "All strategies from all types/<i>Strategies that don’t work for me</i>/Type IV:low stress/planning",
          "All strategies from all types/<i>Strategies that I want to try</i>/Type IV:low stress/planning",
          "All strategies from all types/<i>Strategies that work for me</i>/Type III:late peak/planning",
          "All strategies from all types/<i>Strategies that don’t work for me</i>/Type III:late peak/planning",
          "All strategies from all types/<i>Strategies that I want to try</i>/Type III:late peak/planning",
          "All strategies from all types/<i>Strategies that work for me</i>/Type II:early peak/planning",
          "All strategies from all types/<i>Strategies that don’t work for me</i>/Type II:early peak/planning",
          "All strategies from all types/<i>Strategies that I want to try</i>/Type II:early peak/planning",
          "All strategies from all types/<i>Strategies that work for me</i>/Type I:high stress/planning",
          "All strategies from all types/<i>Strategies that I want to try</i>/Type I:high stress/outdoor<br>activities",
          "All strategies from all types/<i>Strategies that don’t work for me</i>/Type I:high stress/planning",
          "All strategies from all types/<i>Strategies that work for me</i>/Type IV:low stress/outdoor<br>activities",
          "All strategies from all types/<i>Strategies that I want to try</i>/Type IV:low stress/outdoor<br>activities",
          "All strategies from all types/<i>Strategies that work for me</i>/Type III:late peak/outdoor<br>activities",
          "All strategies from all types/<i>Strategies that don’t work for me</i>/Type III:late peak/outdoor<br>activities",
          "All strategies from all types/<i>Strategies that I want to try</i>/Type III:late peak/outdoor<br>activities",
          "All strategies from all types/<i>Strategies that work for me</i>/Type II:early peak/outdoor<br>activities",
          "All strategies from all types/<i>Strategies that don’t work for me</i>/Type II:early peak/outdoor<br>activities",
          "All strategies from all types/<i>Strategies that I want to try</i>/Type II:early peak/outdoor<br>activities",
          "All strategies from all types/<i>Strategies that work for me</i>/Type I:high stress/outdoor<br>activities",
          "All strategies from all types/<i>Strategies that I want to try</i>/Type I:high stress/planning",
          "All strategies from all types/<i>Strategies that I want to try</i>/Type I:high stress/listening<br>to<br>music",
          "All strategies from all types/<i>Strategies that work for me</i>/Type IV:low stress/planning",
          "All strategies from all types/<i>Strategies that don’t work for me</i>/Type IV:low stress/learning<br>new<br>skills",
          "All strategies from all types/<i>Strategies that work for me</i>/Type III:late peak/hanging<br>out with<br>friends",
          "All strategies from all types/<i>Strategies that don’t work for me</i>/Type III:late peak/hanging<br>out with<br>friends",
          "All strategies from all types/<i>Strategies that I want to try</i>/Type III:late peak/hanging<br>out with<br>friends",
          "All strategies from all types/<i>Strategies that work for me</i>/Type II:early peak/hanging<br>out with<br>friends",
          "All strategies from all types/<i>Strategies that don’t work for me</i>/Type II:early peak/hanging<br>out with<br>friends",
          "All strategies from all types/<i>Strategies that I want to try</i>/Type II:early peak/hanging<br>out with<br>friends",
          "All strategies from all types/<i>Strategies that work for me</i>/Type I:high stress/hanging<br>out with<br>friends",
          "All strategies from all types/<i>Strategies that don’t work for me</i>/Type I:high stress/hanging<br>out with<br>friends",
          "All strategies from all types/<i>Strategies that work for me</i>/Type IV:low stress/learning<br>new<br>skills",
          "All strategies from all types/<i>Strategies that work for me</i>/Type IV:low stress/hanging<br>out with<br>family<br>members",
          "All strategies from all types/<i>Strategies that work for me</i>/Type II:early peak/hanging<br>out with<br>family<br>members",
          "All strategies from all types/<i>Strategies that don’t work for me</i>/Type II:early peak/hanging<br>out with<br>family<br>members",
          "All strategies from all types/<i>Strategies that work for me</i>/Type I:high stress/hanging<br>out with<br>family<br>members",
          "All strategies from all types/<i>Strategies that don’t work for me</i>/Type I:high stress/hanging<br>out with<br>family<br>members",
          "All strategies from all types/<i>Strategies that I want to try</i>/Type I:high stress/hanging<br>out with<br>family<br>members",
          "All strategies from all types/<i>Strategies that don’t work for me</i>/Type IV:low stress/hanging out with family members ",
          "All strategies from all types/<i>Strategies that I want to try</i>/Type IV:low stress/hanging out with family members ",
          "All strategies from all types/<i>Strategies that work for me</i>/Type III:late peak/hanging out with family members ",
          "All strategies from all types/<i>Strategies that don’t work for me</i>/Type III:late peak/hanging out with family members ",
          "All strategies from all types/<i>Strategies that I want to try</i>/Type III:late peak/hanging out with family members ",
          "All strategies from all types/<i>Strategies that I want to try</i>/Type II:early peak/hanging out with family members ",
          "All strategies from all types/<i>Strategies that I want to try</i>/Type IV:low stress/hanging<br>out with<br>friends",
          "All strategies from all types/<i>Strategies that don’t work for me</i>/Type IV:low stress/hanging<br>out with<br>friends",
          "All strategies from all types/<i>Strategies that I want to try</i>/Type I:high stress/hanging<br>out with<br>friends",
          "All strategies from all types/<i>Strategies that I want to try</i>/Type I:high stress/journaling",
          "All strategies from all types/<i>Strategies that work for me</i>/Type IV:low stress/hanging<br>out with<br>friends",
          "All strategies from all types/<i>Strategies that I want to try</i>/Type IV:low stress/learning<br>new<br>skills",
          "All strategies from all types/<i>Strategies that work for me</i>/Type III:late peak/learning<br>new<br>skills",
          "All strategies from all types/<i>Strategies that don’t work for me</i>/Type III:late peak/learning<br>new<br>skills",
          "All strategies from all types/<i>Strategies that I want to try</i>/Type III:late peak/learning<br>new<br>skills",
          "All strategies from all types/<i>Strategies that work for me</i>/Type II:early peak/learning<br>new<br>skills",
          "All strategies from all types/<i>Strategies that I want to try</i>/Type II:early peak/learning<br>new<br>skills",
          "All strategies from all types/<i>Strategies that work for me</i>/Type I:high stress/learning<br>new<br>skills",
          "All strategies from all types/<i>Strategies that don’t work for me</i>/Type I:high stress/learning<br>new<br>skills",
          "All strategies from all types/<i>Strategies that I want to try</i>/Type I:high stress/learning<br>new<br>skills",
          "All strategies from all types/<i>Strategies that don’t work for me</i>/Type II:early peak/learning<br>new<br>skills",
          "All strategies from all types/<i>Strategies that don’t work for me</i>/Type IV:low stress/journaling",
          "All strategies from all types/<i>Strategies that work for me</i>/Type IV:low stress/journaling",
          "All strategies from all types/<i>Strategies that work for me</i>/Type I:high stress/journaling",
          "All strategies from all types/<i>Strategies that I want to try</i>/Type II:early peak/journaling",
          "All strategies from all types/<i>Strategies that don’t work for me</i>/Type II:early peak/journaling",
          "All strategies from all types/<i>Strategies that work for me</i>/Type II:early peak/journaling",
          "All strategies from all types/<i>Strategies that don’t work for me</i>/Type I:high stress/journaling",
          "All strategies from all types/<i>Strategies that don’t work for me</i>/Type III:late peak/journaling",
          "All strategies from all types/<i>Strategies that work for me</i>/Type III:late peak/journaling",
          "All strategies from all types/<i>Strategies that I want to try</i>/Type IV:low stress/journaling",
          "All strategies from all types/<i>Strategies that I want to try</i>/Type III:late peak/journaling",
          "All strategies from all types/<i>Strategies that work for me</i>/Type I:high stress/reading<br>self-help<br>books",
          "All strategies from all types/<i>Strategies that don’t work for me</i>/Type IV:low stress/reading<br>self-help<br>books",
          "All strategies from all types/<i>Strategies that I want to try</i>/Type IV:low stress/reading<br>self-help<br>books",
          "All strategies from all types/<i>Strategies that work for me</i>/Type III:late peak/reading<br>self-help<br>books",
          "All strategies from all types/<i>Strategies that don’t work for me</i>/Type III:late peak/reading<br>self-help<br>books",
          "All strategies from all types/<i>Strategies that I want to try</i>/Type III:late peak/reading<br>self-help<br>books",
          "All strategies from all types/<i>Strategies that work for me</i>/Type II:early peak/reading<br>self-help<br>books",
          "All strategies from all types/<i>Strategies that don’t work for me</i>/Type II:early peak/reading<br>self-help<br>books",
          "All strategies from all types/<i>Strategies that I want to try</i>/Type II:early peak/reading<br>self-help<br>books",
          "All strategies from all types/<i>Strategies that don’t work for me</i>/Type I:high stress/reading<br>self-help<br>books",
          "All strategies from all types/<i>Strategies that work for me</i>/Type I:high stress/reading<br>books",
          "All strategies from all types/<i>Strategies that work for me</i>/Type IV:low stress/reading<br>books",
          "All strategies from all types/<i>Strategies that don’t work for me</i>/Type IV:low stress/reading<br>books",
          "All strategies from all types/<i>Strategies that I want to try</i>/Type IV:low stress/reading<br>books",
          "All strategies from all types/<i>Strategies that work for me</i>/Type III:late peak/reading<br>books",
          "All strategies from all types/<i>Strategies that don’t work for me</i>/Type III:late peak/reading<br>books",
          "All strategies from all types/<i>Strategies that I want to try</i>/Type III:late peak/reading<br>books",
          "All strategies from all types/<i>Strategies that work for me</i>/Type II:early peak/reading<br>books",
          "All strategies from all types/<i>Strategies that don’t work for me</i>/Type II:early peak/reading<br>books",
          "All strategies from all types/<i>Strategies that I want to try</i>/Type II:early peak/reading<br>books",
          "All strategies from all types/<i>Strategies that I want to try</i>/Type I:high stress/reading<br>self-help<br>books",
          "All strategies from all types/<i>Strategies that I want to try</i>/Type I:high stress/running",
          "All strategies from all types/<i>Strategies that work for me</i>/Type IV:low stress/shopping/<br>window<br>shopping",
          "All strategies from all types/<i>Strategies that work for me</i>/Type I:high stress/running",
          "All strategies from all types/<i>Strategies that don’t work for me</i>/Type I:high stress/reading<br>books",
          "All strategies from all types/<i>Strategies that don’t work for me</i>/Type IV:low stress/shopping/<br>window<br>shopping",
          "All strategies from all types/<i>Strategies that I want to try</i>/Type IV:low stress/shopping/<br>window<br>shopping",
          "All strategies from all types/<i>Strategies that work for me</i>/Type III:late peak/shopping/<br>window<br>shopping",
          "All strategies from all types/<i>Strategies that don’t work for me</i>/Type III:late peak/shopping/<br>window<br>shopping",
          "All strategies from all types/<i>Strategies that I want to try</i>/Type III:late peak/shopping/<br>window<br>shopping",
          "All strategies from all types/<i>Strategies that work for me</i>/Type II:early peak/shopping/<br>window<br>shopping",
          "All strategies from all types/<i>Strategies that don’t work for me</i>/Type II:early peak/shopping/<br>window<br>shopping",
          "All strategies from all types/<i>Strategies that I want to try</i>/Type II:early peak/shopping/<br>window<br>shopping",
          "All strategies from all types/<i>Strategies that work for me</i>/Type I:high stress/shopping/<br>window<br>shopping",
          "All strategies from all types/<i>Strategies that don’t work for me</i>/Type I:high stress/shopping/<br>window<br>shopping",
          "All strategies from all types/<i>Strategies that I want to try</i>/Type I:high stress/shopping/<br>window<br>shopping",
          "All strategies from all types/<i>Strategies that work for me</i>/Type IV:low stress/running",
          "All strategies from all types/<i>Strategies that don’t work for me</i>/Type IV:low stress/running",
          "All strategies from all types/<i>Strategies that I want to try</i>/Type IV:low stress/running",
          "All strategies from all types/<i>Strategies that work for me</i>/Type III:late peak/running",
          "All strategies from all types/<i>Strategies that don’t work for me</i>/Type III:late peak/running",
          "All strategies from all types/<i>Strategies that I want to try</i>/Type III:late peak/running",
          "All strategies from all types/<i>Strategies that work for me</i>/Type II:early peak/running",
          "All strategies from all types/<i>Strategies that don’t work for me</i>/Type II:early peak/running",
          "All strategies from all types/<i>Strategies that I want to try</i>/Type II:early peak/running",
          "All strategies from all types/<i>Strategies that don’t work for me</i>/Type I:high stress/running",
          "All strategies from all types/<i>Strategies that I want to try</i>/Type I:high stress/reading<br>books",
          "All strategies from all types/<i>Strategies that work for me</i>/Type IV:low stress/reading<br>self-help<br>books",
          "All strategies from all types/<i>Strategies that don’t work for me</i>/Type IV:low stress/reading/<br>thinking<br>affirmations",
          "All strategies from all types/<i>Strategies that work for me</i>/Type III:late peak/playing<br>video<br>games",
          "All strategies from all types/<i>Strategies that don’t work for me</i>/Type III:late peak/playing<br>video<br>games",
          "All strategies from all types/<i>Strategies that I want to try</i>/Type III:late peak/playing<br>video<br>games",
          "All strategies from all types/<i>Strategies that work for me</i>/Type II:early peak/playing<br>video<br>games",
          "All strategies from all types/<i>Strategies that don’t work for me</i>/Type II:early peak/playing<br>video<br>games",
          "All strategies from all types/<i>Strategies that I want to try</i>/Type II:early peak/playing<br>video<br>games",
          "All strategies from all types/<i>Strategies that work for me</i>/Type I:high stress/playing<br>video<br>games",
          "All strategies from all types/<i>Strategies that don’t work for me</i>/Type I:high stress/playing<br>video<br>games",
          "All strategies from all types/<i>Strategies that work for me</i>/Type IV:low stress/reading/<br>thinking<br>affirmations",
          "All strategies from all types/<i>Strategies that work for me</i>/Type IV:low stress/planning/<br>going on<br>trips",
          "All strategies from all types/<i>Strategies that don’t work for me</i>/Type IV:low stress/planning/<br>going on<br>trips",
          "All strategies from all types/<i>Strategies that I want to try</i>/Type IV:low stress/planning/<br>going on<br>trips",
          "All strategies from all types/<i>Strategies that work for me</i>/Type III:late peak/planning/<br>going on<br>trips",
          "All strategies from all types/<i>Strategies that don’t work for me</i>/Type III:late peak/planning/<br>going on<br>trips",
          "All strategies from all types/<i>Strategies that I want to try</i>/Type III:late peak/planning/<br>going on<br>trips",
          "All strategies from all types/<i>Strategies that work for me</i>/Type II:early peak/planning/<br>going on<br>trips",
          "All strategies from all types/<i>Strategies that don’t work for me</i>/Type II:early peak/planning/<br>going on<br>trips",
          "All strategies from all types/<i>Strategies that I want to try</i>/Type II:early peak/planning/<br>going on<br>trips",
          "All strategies from all types/<i>Strategies that work for me</i>/Type I:high stress/planning/<br>going on<br>trips",
          "All strategies from all types/<i>Strategies that don’t work for me</i>/Type I:high stress/planning/<br>going on<br>trips",
          "All strategies from all types/<i>Strategies that I want to try</i>/Type I:high stress/planning/<br>going on<br>trips",
          "All strategies from all types/<i>Strategies that I want to try</i>/Type IV:low stress/playing<br>video<br>games",
          "All strategies from all types/<i>Strategies that don’t work for me</i>/Type IV:low stress/playing<br>video<br>games",
          "All strategies from all types/<i>Strategies that I want to try</i>/Type I:high stress/playing<br>video<br>games",
          "All strategies from all types/<i>Strategies that I want to try</i>/Type I:high stress/practicing<br>yoga",
          "All strategies from all types/<i>Strategies that work for me</i>/Type IV:low stress/playing<br>video<br>games",
          "All strategies from all types/<i>Strategies that I want to try</i>/Type IV:low stress/reading/<br>thinking<br>affirmations",
          "All strategies from all types/<i>Strategies that work for me</i>/Type III:late peak/reading/<br>thinking<br>affirmations",
          "All strategies from all types/<i>Strategies that don’t work for me</i>/Type III:late peak/reading/<br>thinking<br>affirmations",
          "All strategies from all types/<i>Strategies that I want to try</i>/Type III:late peak/reading/<br>thinking<br>affirmations",
          "All strategies from all types/<i>Strategies that work for me</i>/Type II:early peak/reading/<br>thinking<br>affirmations",
          "All strategies from all types/<i>Strategies that I want to try</i>/Type II:early peak/reading/<br>thinking<br>affirmations",
          "All strategies from all types/<i>Strategies that work for me</i>/Type I:high stress/reading/<br>thinking<br>affirmations",
          "All strategies from all types/<i>Strategies that don’t work for me</i>/Type I:high stress/reading/<br>thinking<br>affirmations",
          "All strategies from all types/<i>Strategies that I want to try</i>/Type I:high stress/reading/<br>thinking<br>affirmations",
          "All strategies from all types/<i>Strategies that don’t work for me</i>/Type II:early peak/reading/<br>thinking<br>affirmations",
          "All strategies from all types/<i>Strategies that don’t work for me</i>/Type IV:low stress/practicing<br>yoga",
          "All strategies from all types/<i>Strategies that work for me</i>/Type IV:low stress/practicing<br>yoga",
          "All strategies from all types/<i>Strategies that work for me</i>/Type I:high stress/practicing<br>yoga",
          "All strategies from all types/<i>Strategies that I want to try</i>/Type II:early peak/practicing<br>yoga",
          "All strategies from all types/<i>Strategies that don’t work for me</i>/Type II:early peak/practicing<br>yoga",
          "All strategies from all types/<i>Strategies that work for me</i>/Type II:early peak/practicing<br>yoga",
          "All strategies from all types/<i>Strategies that don’t work for me</i>/Type I:high stress/practicing<br>yoga",
          "All strategies from all types/<i>Strategies that don’t work for me</i>/Type III:late peak/practicing<br>yoga",
          "All strategies from all types/<i>Strategies that work for me</i>/Type III:late peak/practicing<br>yoga",
          "All strategies from all types/<i>Strategies that I want to try</i>/Type IV:low stress/practicing<br>yoga",
          "All strategies from all types/<i>Strategies that I want to try</i>/Type III:late peak/practicing<br>yoga",
          "All strategies from all types/<i>Strategies that don’t work for me</i>/Type I:high stress/using<br>drugs",
          "All strategies from all types/<i>Strategies that I want to try</i>/Type IV:low stress/using<br>drugs",
          "All strategies from all types/<i>Strategies that work for me</i>/Type III:late peak/using<br>drugs",
          "All strategies from all types/<i>Strategies that don’t work for me</i>/Type III:late peak/using<br>drugs",
          "All strategies from all types/<i>Strategies that I want to try</i>/Type III:late peak/using<br>drugs",
          "All strategies from all types/<i>Strategies that work for me</i>/Type II:early peak/using<br>drugs",
          "All strategies from all types/<i>Strategies that don’t work for me</i>/Type II:early peak/using<br>drugs",
          "All strategies from all types/<i>Strategies that I want to try</i>/Type II:early peak/using<br>drugs",
          "All strategies from all types/<i>Strategies that work for me</i>/Type I:high stress/using<br>drugs",
          "All strategies from all types/<i>Strategies that I want to try</i>/Type I:high stress/using<br>drugs",
          "All strategies from all types/<i>Strategies that don’t work for me</i>/Type I:high stress/talking<br>to<br>friends",
          "All strategies from all types/<i>Strategies that don’t work for me</i>/Type IV:low stress/talking<br>to<br>friends",
          "All strategies from all types/<i>Strategies that I want to try</i>/Type IV:low stress/talking<br>to<br>friends",
          "All strategies from all types/<i>Strategies that work for me</i>/Type III:late peak/talking<br>to<br>friends",
          "All strategies from all types/<i>Strategies that don’t work for me</i>/Type III:late peak/talking<br>to<br>friends",
          "All strategies from all types/<i>Strategies that I want to try</i>/Type III:late peak/talking<br>to<br>friends",
          "All strategies from all types/<i>Strategies that work for me</i>/Type II:early peak/talking<br>to<br>friends",
          "All strategies from all types/<i>Strategies that don’t work for me</i>/Type II:early peak/talking<br>to<br>friends",
          "All strategies from all types/<i>Strategies that I want to try</i>/Type II:early peak/talking<br>to<br>friends",
          "All strategies from all types/<i>Strategies that work for me</i>/Type I:high stress/talking<br>to<br>friends",
          "All strategies from all types/<i>Strategies that work for me</i>/Type IV:low stress/talking<br>to<br>friends",
          "All strategies from all types/<i>Strategies that don’t work for me</i>/Type IV:low stress/using<br>drugs",
          "All strategies from all types/<i>Strategies that I want to try</i>/Type IV:low stress/watching<br>movies/<br>tv shows",
          "All strategies from all types/<i>Strategies that I want to try</i>/Type I:high stress/volunteering",
          "All strategies from all types/<i>Strategies that I want to try</i>/Type I:high stress/talking<br>to<br>friends",
          "All strategies from all types/<i>Strategies that work for me</i>/Type III:late peak/watching<br>movies/<br>tv shows",
          "All strategies from all types/<i>Strategies that don’t work for me</i>/Type III:late peak/watching<br>movies/<br>tv shows",
          "All strategies from all types/<i>Strategies that I want to try</i>/Type III:late peak/watching<br>movies/<br>tv shows",
          "All strategies from all types/<i>Strategies that work for me</i>/Type II:early peak/watching<br>movies/<br>tv shows",
          "All strategies from all types/<i>Strategies that don’t work for me</i>/Type II:early peak/watching<br>movies/<br>tv shows",
          "All strategies from all types/<i>Strategies that I want to try</i>/Type II:early peak/watching<br>movies/<br>tv shows",
          "All strategies from all types/<i>Strategies that work for me</i>/Type I:high stress/watching<br>movies/<br>tv shows",
          "All strategies from all types/<i>Strategies that don’t work for me</i>/Type I:high stress/watching<br>movies/<br>tv shows",
          "All strategies from all types/<i>Strategies that I want to try</i>/Type I:high stress/watching<br>movies/<br>tv shows",
          "All strategies from all types/<i>Strategies that work for me</i>/Type IV:low stress/volunteering",
          "All strategies from all types/<i>Strategies that don’t work for me</i>/Type IV:low stress/volunteering",
          "All strategies from all types/<i>Strategies that I want to try</i>/Type IV:low stress/volunteering",
          "All strategies from all types/<i>Strategies that work for me</i>/Type III:late peak/volunteering",
          "All strategies from all types/<i>Strategies that don’t work for me</i>/Type III:late peak/volunteering",
          "All strategies from all types/<i>Strategies that I want to try</i>/Type III:late peak/volunteering",
          "All strategies from all types/<i>Strategies that work for me</i>/Type II:early peak/volunteering",
          "All strategies from all types/<i>Strategies that don’t work for me</i>/Type II:early peak/volunteering",
          "All strategies from all types/<i>Strategies that I want to try</i>/Type II:early peak/volunteering",
          "All strategies from all types/<i>Strategies that work for me</i>/Type I:high stress/volunteering",
          "All strategies from all types/<i>Strategies that don’t work for me</i>/Type I:high stress/volunteering",
          "All strategies from all types/<i>Strategies that work for me</i>/Type IV:low stress/using<br>drugs",
          "All strategies from all types/<i>Strategies that work for me</i>/Type IV:low stress/talking<br>to family<br>members",
          "All strategies from all types/<i>Strategies that work for me</i>/Type IV:low stress/social<br>media",
          "All strategies from all types/<i>Strategies that I want to try</i>/Type IV:low stress/talking<br>to family<br>members",
          "All strategies from all types/<i>Strategies that I want to try</i>/Type III:late peak/social<br>media",
          "All strategies from all types/<i>Strategies that work for me</i>/Type II:early peak/social<br>media",
          "All strategies from all types/<i>Strategies that don’t work for me</i>/Type II:early peak/social<br>media",
          "All strategies from all types/<i>Strategies that I want to try</i>/Type II:early peak/social<br>media",
          "All strategies from all types/<i>Strategies that work for me</i>/Type I:high stress/social<br>media",
          "All strategies from all types/<i>Strategies that don’t work for me</i>/Type I:high stress/social<br>media",
          "All strategies from all types/<i>Strategies that I want to try</i>/Type I:high stress/social<br>media",
          "All strategies from all types/<i>Strategies that work for me</i>/Type IV:low stress/sleeping",
          "All strategies from all types/<i>Strategies that don’t work for me</i>/Type IV:low stress/sleeping",
          "All strategies from all types/<i>Strategies that don’t work for me</i>/Type III:late peak/social<br>media",
          "All strategies from all types/<i>Strategies that I want to try</i>/Type IV:low stress/sleeping",
          "All strategies from all types/<i>Strategies that don’t work for me</i>/Type III:late peak/sleeping",
          "All strategies from all types/<i>Strategies that I want to try</i>/Type III:late peak/sleeping",
          "All strategies from all types/<i>Strategies that work for me</i>/Type II:early peak/sleeping",
          "All strategies from all types/<i>Strategies that don’t work for me</i>/Type II:early peak/sleeping",
          "All strategies from all types/<i>Strategies that I want to try</i>/Type II:early peak/sleeping",
          "All strategies from all types/<i>Strategies that work for me</i>/Type I:high stress/sleeping",
          "All strategies from all types/<i>Strategies that don’t work for me</i>/Type I:high stress/sleeping",
          "All strategies from all types/<i>Strategies that I want to try</i>/Type I:high stress/sleeping",
          "All strategies from all types/<i>Strategies that don’t work for me</i>/Type IV:low stress/watching<br>movies/<br>tv shows",
          "All strategies from all types/<i>Strategies that work for me</i>/Type III:late peak/sleeping",
          "All strategies from all types/<i>Strategies that work for me</i>/Type III:late peak/social<br>media",
          "All strategies from all types/<i>Strategies that I want to try</i>/Type IV:low stress/social<br>media",
          "All strategies from all types/<i>Strategies that don’t work for me</i>/Type IV:low stress/social<br>media",
          "All strategies from all types/<i>Strategies that work for me</i>/Type III:late peak/talking<br>to family<br>members",
          "All strategies from all types/<i>Strategies that don’t work for me</i>/Type III:late peak/talking<br>to family<br>members",
          "All strategies from all types/<i>Strategies that I want to try</i>/Type III:late peak/talking<br>to family<br>members",
          "All strategies from all types/<i>Strategies that work for me</i>/Type II:early peak/talking<br>to family<br>members",
          "All strategies from all types/<i>Strategies that don’t work for me</i>/Type II:early peak/talking<br>to family<br>members",
          "All strategies from all types/<i>Strategies that I want to try</i>/Type II:early peak/talking<br>to family<br>members",
          "All strategies from all types/<i>Strategies that work for me</i>/Type I:high stress/talking<br>to family<br>members",
          "All strategies from all types/<i>Strategies that don’t work for me</i>/Type I:high stress/talking<br>to family<br>members",
          "All strategies from all types/<i>Strategies that I want to try</i>/Type I:high stress/talking<br>to family<br>members",
          "All strategies from all types/<i>Strategies that work for me</i>/Type IV:low stress/talking<br>to a<br>professional",
          "All strategies from all types/<i>Strategies that don’t work for me</i>/Type IV:low stress/talking<br>to a<br>professional",
          "All strategies from all types/<i>Strategies that I want to try</i>/Type IV:low stress/talking<br>to a<br>professional",
          "All strategies from all types/<i>Strategies that work for me</i>/Type III:late peak/talking<br>to a<br>professional",
          "All strategies from all types/<i>Strategies that don’t work for me</i>/Type III:late peak/talking<br>to a<br>professional",
          "All strategies from all types/<i>Strategies that I want to try</i>/Type III:late peak/talking<br>to a<br>professional",
          "All strategies from all types/<i>Strategies that work for me</i>/Type II:early peak/talking<br>to a<br>professional",
          "All strategies from all types/<i>Strategies that don’t work for me</i>/Type II:early peak/talking<br>to a<br>professional",
          "All strategies from all types/<i>Strategies that I want to try</i>/Type II:early peak/talking<br>to a<br>professional",
          "All strategies from all types/<i>Strategies that work for me</i>/Type I:high stress/talking<br>to a<br>professional",
          "All strategies from all types/<i>Strategies that don’t work for me</i>/Type I:high stress/talking<br>to a<br>professional",
          "All strategies from all types/<i>Strategies that I want to try</i>/Type I:high stress/talking<br>to a<br>professional",
          "All strategies from all types/<i>Strategies that don’t work for me</i>/Type IV:low stress/talking<br>to family<br>members",
          "All strategies from all types/<i>Strategies that work for me</i>/Type IV:low stress/watching<br>movies/<br>tv shows",
          "All strategies from all types/<i>Strategies that I want to try</i>/Type I:high stress",
          "All strategies from all types/<i>Strategies that don’t work for me</i>/Type I:high stress",
          "All strategies from all types/<i>Strategies that work for me</i>/Type I:high stress",
          "All strategies from all types/<i>Strategies that I want to try</i>/Type II:early peak",
          "All strategies from all types/<i>Strategies that don’t work for me</i>/Type II:early peak",
          "All strategies from all types/<i>Strategies that work for me</i>/Type II:early peak",
          "All strategies from all types/<i>Strategies that I want to try</i>/Type III:late peak",
          "All strategies from all types/<i>Strategies that don’t work for me</i>/Type III:late peak",
          "All strategies from all types/<i>Strategies that work for me</i>/Type III:late peak",
          "All strategies from all types/<i>Strategies that I want to try</i>/Type IV:low stress",
          "All strategies from all types/<i>Strategies that don’t work for me</i>/Type IV:low stress",
          "All strategies from all types/<i>Strategies that work for me</i>/Type IV:low stress",
          "All strategies from all types/<i>Strategies that I want to try</i>",
          "All strategies from all types/<i>Strategies that don’t work for me</i>",
          "All strategies from all types/<i>Strategies that work for me</i>",
          "All strategies from all types"
         ],
         "labels": [
          "cooking",
          "eating<br>junk<br>food",
          "eating<br>junk<br>food",
          "eating<br>junk<br>food",
          "eating<br>junk<br>food",
          "eating<br>junk<br>food",
          "eating<br>junk<br>food",
          "eating<br>junk<br>food",
          "eating<br>junk<br>food",
          "eating<br>junk<br>food",
          "eating<br>junk<br>food",
          "eating<br>junk<br>food",
          "eating",
          "eating",
          "eating",
          "eating",
          "eating",
          "eating",
          "eating",
          "eating",
          "eating",
          "eating",
          "gardening",
          "gardening",
          "gardening",
          "going<br>to the <br>gym",
          "going<br>to the <br>gym",
          "going<br>to the <br>gym",
          "going<br>to the <br>gym",
          "going<br>to the <br>gym",
          "going<br>to the <br>gym",
          "going<br>to the <br>gym",
          "going<br>to the <br>gym",
          "going<br>to the <br>gym",
          "going<br>to the <br>gym",
          "going<br>to the <br>gym",
          "going<br>to the <br>gym",
          "gardening",
          "gardening",
          "gardening",
          "gardening",
          "gardening",
          "gardening",
          "gardening",
          "gardening",
          "gardening",
          "eating",
          "eating",
          "eating<br>junk<br>food",
          "drinking<br>alcohol",
          "crying",
          "crying",
          "crying",
          "crying",
          "crying",
          "crying",
          "crying",
          "crying",
          "crying",
          "crying",
          "cooking",
          "cooking",
          "cooking",
          "cooking",
          "cooking",
          "cooking",
          "cooking",
          "cooking",
          "cooking",
          "cooking",
          "drinking<br>alcohol",
          "crying",
          "crying",
          "cooking",
          "drinking<br>alcohol",
          "drinking<br>alcohol",
          "drinking<br>alcohol",
          "drinking<br>alcohol",
          "drinking<br>alcohol",
          "drinking<br>alcohol",
          "drinking<br>alcohol",
          "drawing",
          "drinking<br>alcohol",
          "drinking<br>alcohol",
          "drawing",
          "drinking<br>alcohol",
          "drawing",
          "drawing",
          "drawing",
          "drawing",
          "drawing",
          "drawing",
          "drawing",
          "drawing",
          "drawing",
          "drawing",
          "meditation",
          "meditation",
          "meditation",
          "meditation",
          "listening<br>to<br>music",
          "meditation",
          "meditation",
          "meditation",
          "meditation",
          "meditation",
          "listening<br>to<br>music",
          "listening<br>to<br>music",
          "listening<br>to<br>music",
          "listening<br>to<br>music",
          "listening<br>to<br>music",
          "listening<br>to<br>music",
          "listening<br>to<br>music",
          "listening<br>to<br>music",
          "listening<br>to<br>music",
          "listening<br>to<br>music",
          "meditation",
          "meditation",
          "meditation",
          "outdoor<br>activities",
          "outdoor<br>activities",
          "planning",
          "planning",
          "planning",
          "planning",
          "planning",
          "planning",
          "planning",
          "planning",
          "planning",
          "outdoor<br>activities",
          "planning",
          "outdoor<br>activities",
          "outdoor<br>activities",
          "outdoor<br>activities",
          "outdoor<br>activities",
          "outdoor<br>activities",
          "outdoor<br>activities",
          "outdoor<br>activities",
          "outdoor<br>activities",
          "outdoor<br>activities",
          "planning",
          "listening<br>to<br>music",
          "planning",
          "learning<br>new<br>skills",
          "hanging<br>out with<br>friends",
          "hanging<br>out with<br>friends",
          "hanging<br>out with<br>friends",
          "hanging<br>out with<br>friends",
          "hanging<br>out with<br>friends",
          "hanging<br>out with<br>friends",
          "hanging<br>out with<br>friends",
          "hanging<br>out with<br>friends",
          "learning<br>new<br>skills",
          "hanging<br>out with<br>family<br>members",
          "hanging<br>out with<br>family<br>members",
          "hanging<br>out with<br>family<br>members",
          "hanging<br>out with<br>family<br>members",
          "hanging<br>out with<br>family<br>members",
          "hanging<br>out with<br>family<br>members",
          "hanging out with family members ",
          "hanging out with family members ",
          "hanging out with family members ",
          "hanging out with family members ",
          "hanging out with family members ",
          "hanging out with family members ",
          "hanging<br>out with<br>friends",
          "hanging<br>out with<br>friends",
          "hanging<br>out with<br>friends",
          "journaling",
          "hanging<br>out with<br>friends",
          "learning<br>new<br>skills",
          "learning<br>new<br>skills",
          "learning<br>new<br>skills",
          "learning<br>new<br>skills",
          "learning<br>new<br>skills",
          "learning<br>new<br>skills",
          "learning<br>new<br>skills",
          "learning<br>new<br>skills",
          "learning<br>new<br>skills",
          "learning<br>new<br>skills",
          "journaling",
          "journaling",
          "journaling",
          "journaling",
          "journaling",
          "journaling",
          "journaling",
          "journaling",
          "journaling",
          "journaling",
          "journaling",
          "reading<br>self-help<br>books",
          "reading<br>self-help<br>books",
          "reading<br>self-help<br>books",
          "reading<br>self-help<br>books",
          "reading<br>self-help<br>books",
          "reading<br>self-help<br>books",
          "reading<br>self-help<br>books",
          "reading<br>self-help<br>books",
          "reading<br>self-help<br>books",
          "reading<br>self-help<br>books",
          "reading<br>books",
          "reading<br>books",
          "reading<br>books",
          "reading<br>books",
          "reading<br>books",
          "reading<br>books",
          "reading<br>books",
          "reading<br>books",
          "reading<br>books",
          "reading<br>books",
          "reading<br>self-help<br>books",
          "running",
          "shopping/<br>window<br>shopping",
          "running",
          "reading<br>books",
          "shopping/<br>window<br>shopping",
          "shopping/<br>window<br>shopping",
          "shopping/<br>window<br>shopping",
          "shopping/<br>window<br>shopping",
          "shopping/<br>window<br>shopping",
          "shopping/<br>window<br>shopping",
          "shopping/<br>window<br>shopping",
          "shopping/<br>window<br>shopping",
          "shopping/<br>window<br>shopping",
          "shopping/<br>window<br>shopping",
          "shopping/<br>window<br>shopping",
          "running",
          "running",
          "running",
          "running",
          "running",
          "running",
          "running",
          "running",
          "running",
          "running",
          "reading<br>books",
          "reading<br>self-help<br>books",
          "reading/<br>thinking<br>affirmations",
          "playing<br>video<br>games",
          "playing<br>video<br>games",
          "playing<br>video<br>games",
          "playing<br>video<br>games",
          "playing<br>video<br>games",
          "playing<br>video<br>games",
          "playing<br>video<br>games",
          "playing<br>video<br>games",
          "reading/<br>thinking<br>affirmations",
          "planning/<br>going on<br>trips",
          "planning/<br>going on<br>trips",
          "planning/<br>going on<br>trips",
          "planning/<br>going on<br>trips",
          "planning/<br>going on<br>trips",
          "planning/<br>going on<br>trips",
          "planning/<br>going on<br>trips",
          "planning/<br>going on<br>trips",
          "planning/<br>going on<br>trips",
          "planning/<br>going on<br>trips",
          "planning/<br>going on<br>trips",
          "planning/<br>going on<br>trips",
          "playing<br>video<br>games",
          "playing<br>video<br>games",
          "playing<br>video<br>games",
          "practicing<br>yoga",
          "playing<br>video<br>games",
          "reading/<br>thinking<br>affirmations",
          "reading/<br>thinking<br>affirmations",
          "reading/<br>thinking<br>affirmations",
          "reading/<br>thinking<br>affirmations",
          "reading/<br>thinking<br>affirmations",
          "reading/<br>thinking<br>affirmations",
          "reading/<br>thinking<br>affirmations",
          "reading/<br>thinking<br>affirmations",
          "reading/<br>thinking<br>affirmations",
          "reading/<br>thinking<br>affirmations",
          "practicing<br>yoga",
          "practicing<br>yoga",
          "practicing<br>yoga",
          "practicing<br>yoga",
          "practicing<br>yoga",
          "practicing<br>yoga",
          "practicing<br>yoga",
          "practicing<br>yoga",
          "practicing<br>yoga",
          "practicing<br>yoga",
          "practicing<br>yoga",
          "using<br>drugs",
          "using<br>drugs",
          "using<br>drugs",
          "using<br>drugs",
          "using<br>drugs",
          "using<br>drugs",
          "using<br>drugs",
          "using<br>drugs",
          "using<br>drugs",
          "using<br>drugs",
          "talking<br>to<br>friends",
          "talking<br>to<br>friends",
          "talking<br>to<br>friends",
          "talking<br>to<br>friends",
          "talking<br>to<br>friends",
          "talking<br>to<br>friends",
          "talking<br>to<br>friends",
          "talking<br>to<br>friends",
          "talking<br>to<br>friends",
          "talking<br>to<br>friends",
          "talking<br>to<br>friends",
          "using<br>drugs",
          "watching<br>movies/<br>tv shows",
          "volunteering",
          "talking<br>to<br>friends",
          "watching<br>movies/<br>tv shows",
          "watching<br>movies/<br>tv shows",
          "watching<br>movies/<br>tv shows",
          "watching<br>movies/<br>tv shows",
          "watching<br>movies/<br>tv shows",
          "watching<br>movies/<br>tv shows",
          "watching<br>movies/<br>tv shows",
          "watching<br>movies/<br>tv shows",
          "watching<br>movies/<br>tv shows",
          "volunteering",
          "volunteering",
          "volunteering",
          "volunteering",
          "volunteering",
          "volunteering",
          "volunteering",
          "volunteering",
          "volunteering",
          "volunteering",
          "volunteering",
          "using<br>drugs",
          "talking<br>to family<br>members",
          "social<br>media",
          "talking<br>to family<br>members",
          "social<br>media",
          "social<br>media",
          "social<br>media",
          "social<br>media",
          "social<br>media",
          "social<br>media",
          "social<br>media",
          "sleeping",
          "sleeping",
          "social<br>media",
          "sleeping",
          "sleeping",
          "sleeping",
          "sleeping",
          "sleeping",
          "sleeping",
          "sleeping",
          "sleeping",
          "sleeping",
          "watching<br>movies/<br>tv shows",
          "sleeping",
          "social<br>media",
          "social<br>media",
          "social<br>media",
          "talking<br>to family<br>members",
          "talking<br>to family<br>members",
          "talking<br>to family<br>members",
          "talking<br>to family<br>members",
          "talking<br>to family<br>members",
          "talking<br>to family<br>members",
          "talking<br>to family<br>members",
          "talking<br>to family<br>members",
          "talking<br>to family<br>members",
          "talking<br>to a<br>professional",
          "talking<br>to a<br>professional",
          "talking<br>to a<br>professional",
          "talking<br>to a<br>professional",
          "talking<br>to a<br>professional",
          "talking<br>to a<br>professional",
          "talking<br>to a<br>professional",
          "talking<br>to a<br>professional",
          "talking<br>to a<br>professional",
          "talking<br>to a<br>professional",
          "talking<br>to a<br>professional",
          "talking<br>to a<br>professional",
          "talking<br>to family<br>members",
          "watching<br>movies/<br>tv shows",
          "Type I:high stress",
          "Type I:high stress",
          "Type I:high stress",
          "Type II:early peak",
          "Type II:early peak",
          "Type II:early peak",
          "Type III:late peak",
          "Type III:late peak",
          "Type III:late peak",
          "Type IV:low stress",
          "Type IV:low stress",
          "Type IV:low stress",
          "<i>Strategies that I want to try</i>",
          "<i>Strategies that don’t work for me</i>",
          "<i>Strategies that work for me</i>",
          "All strategies from all types"
         ],
         "marker": {
          "colors": [
           "#eba092",
           "#a9d1c8",
           "#a9a9ca",
           "#a9a9ca",
           "#a9a9ca",
           "#dccf82",
           "#dccf82",
           "#dccf82",
           "#eba092",
           "#eba092",
           "#a9d1c8",
           "#eba092",
           "#a9d1c8",
           "#a9d1c8",
           "#a9a9ca",
           "#a9a9ca",
           "#a9a9ca",
           "#dccf82",
           "#dccf82",
           "#dccf82",
           "#eba092",
           "#a9d1c8",
           "#eba092",
           "#eba092",
           "#eba092",
           "#a9d1c8",
           "#a9d1c8",
           "#a9d1c8",
           "#a9a9ca",
           "#a9a9ca",
           "#a9a9ca",
           "#dccf82",
           "#dccf82",
           "#dccf82",
           "#eba092",
           "#eba092",
           "#eba092",
           "#a9d1c8",
           "#a9d1c8",
           "#a9d1c8",
           "#a9a9ca",
           "#a9a9ca",
           "#a9a9ca",
           "#dccf82",
           "#dccf82",
           "#dccf82",
           "#eba092",
           "#eba092",
           "#a9d1c8",
           "#a9d1c8",
           "#a9d1c8",
           "#a9a9ca",
           "#a9a9ca",
           "#a9a9ca",
           "#dccf82",
           "#dccf82",
           "#dccf82",
           "#eba092",
           "#eba092",
           "#eba092",
           "#a9d1c8",
           "#a9d1c8",
           "#a9d1c8",
           "#a9a9ca",
           "#a9a9ca",
           "#a9a9ca",
           "#dccf82",
           "#dccf82",
           "#dccf82",
           "#eba092",
           "#a9d1c8",
           "#a9d1c8",
           "#a9d1c8",
           "#eba092",
           "#dccf82",
           "#a9d1c8",
           "#a9a9ca",
           "#a9a9ca",
           "#a9a9ca",
           "#dccf82",
           "#dccf82",
           "#eba092",
           "#eba092",
           "#eba092",
           "#a9d1c8",
           "#eba092",
           "#a9d1c8",
           "#a9a9ca",
           "#a9a9ca",
           "#a9a9ca",
           "#dccf82",
           "#dccf82",
           "#dccf82",
           "#eba092",
           "#eba092",
           "#a9d1c8",
           "#dccf82",
           "#eba092",
           "#dccf82",
           "#dccf82",
           "#eba092",
           "#a9a9ca",
           "#a9a9ca",
           "#a9d1c8",
           "#a9a9ca",
           "#eba092",
           "#eba092",
           "#a9d1c8",
           "#a9d1c8",
           "#a9d1c8",
           "#a9a9ca",
           "#a9a9ca",
           "#a9a9ca",
           "#dccf82",
           "#dccf82",
           "#dccf82",
           "#a9d1c8",
           "#eba092",
           "#a9d1c8",
           "#a9d1c8",
           "#eba092",
           "#a9d1c8",
           "#a9d1c8",
           "#a9a9ca",
           "#a9a9ca",
           "#a9a9ca",
           "#dccf82",
           "#dccf82",
           "#dccf82",
           "#eba092",
           "#eba092",
           "#eba092",
           "#a9d1c8",
           "#a9d1c8",
           "#a9a9ca",
           "#a9a9ca",
           "#a9a9ca",
           "#dccf82",
           "#dccf82",
           "#dccf82",
           "#eba092",
           "#eba092",
           "#eba092",
           "#a9d1c8",
           "#a9d1c8",
           "#a9a9ca",
           "#a9a9ca",
           "#a9a9ca",
           "#dccf82",
           "#dccf82",
           "#dccf82",
           "#eba092",
           "#eba092",
           "#a9d1c8",
           "#a9d1c8",
           "#dccf82",
           "#dccf82",
           "#eba092",
           "#eba092",
           "#eba092",
           "#a9d1c8",
           "#a9d1c8",
           "#a9a9ca",
           "#a9a9ca",
           "#a9a9ca",
           "#dccf82",
           "#a9d1c8",
           "#a9d1c8",
           "#eba092",
           "#eba092",
           "#a9d1c8",
           "#a9d1c8",
           "#a9a9ca",
           "#a9a9ca",
           "#a9a9ca",
           "#dccf82",
           "#dccf82",
           "#eba092",
           "#eba092",
           "#eba092",
           "#dccf82",
           "#a9d1c8",
           "#a9d1c8",
           "#eba092",
           "#dccf82",
           "#dccf82",
           "#dccf82",
           "#eba092",
           "#a9a9ca",
           "#a9a9ca",
           "#a9d1c8",
           "#a9a9ca",
           "#eba092",
           "#a9d1c8",
           "#a9d1c8",
           "#a9a9ca",
           "#a9a9ca",
           "#a9a9ca",
           "#dccf82",
           "#dccf82",
           "#dccf82",
           "#eba092",
           "#eba092",
           "#a9d1c8",
           "#a9d1c8",
           "#a9d1c8",
           "#a9a9ca",
           "#a9a9ca",
           "#a9a9ca",
           "#dccf82",
           "#dccf82",
           "#dccf82",
           "#eba092",
           "#eba092",
           "#a9d1c8",
           "#eba092",
           "#eba092",
           "#a9d1c8",
           "#a9d1c8",
           "#a9a9ca",
           "#a9a9ca",
           "#a9a9ca",
           "#dccf82",
           "#dccf82",
           "#dccf82",
           "#eba092",
           "#eba092",
           "#eba092",
           "#a9d1c8",
           "#a9d1c8",
           "#a9d1c8",
           "#a9a9ca",
           "#a9a9ca",
           "#a9a9ca",
           "#dccf82",
           "#dccf82",
           "#dccf82",
           "#eba092",
           "#eba092",
           "#a9d1c8",
           "#a9d1c8",
           "#a9a9ca",
           "#a9a9ca",
           "#a9a9ca",
           "#dccf82",
           "#dccf82",
           "#dccf82",
           "#eba092",
           "#eba092",
           "#a9d1c8",
           "#a9d1c8",
           "#a9d1c8",
           "#a9d1c8",
           "#a9a9ca",
           "#a9a9ca",
           "#a9a9ca",
           "#dccf82",
           "#dccf82",
           "#dccf82",
           "#eba092",
           "#eba092",
           "#eba092",
           "#a9d1c8",
           "#a9d1c8",
           "#eba092",
           "#eba092",
           "#a9d1c8",
           "#a9d1c8",
           "#a9a9ca",
           "#a9a9ca",
           "#a9a9ca",
           "#dccf82",
           "#dccf82",
           "#eba092",
           "#eba092",
           "#eba092",
           "#dccf82",
           "#a9d1c8",
           "#a9d1c8",
           "#eba092",
           "#dccf82",
           "#dccf82",
           "#dccf82",
           "#eba092",
           "#a9a9ca",
           "#a9a9ca",
           "#a9d1c8",
           "#a9a9ca",
           "#eba092",
           "#a9d1c8",
           "#a9a9ca",
           "#a9a9ca",
           "#a9a9ca",
           "#dccf82",
           "#dccf82",
           "#dccf82",
           "#eba092",
           "#eba092",
           "#eba092",
           "#a9d1c8",
           "#a9d1c8",
           "#a9a9ca",
           "#a9a9ca",
           "#a9a9ca",
           "#dccf82",
           "#dccf82",
           "#dccf82",
           "#eba092",
           "#a9d1c8",
           "#a9d1c8",
           "#a9d1c8",
           "#eba092",
           "#eba092",
           "#a9a9ca",
           "#a9a9ca",
           "#a9a9ca",
           "#dccf82",
           "#dccf82",
           "#dccf82",
           "#eba092",
           "#eba092",
           "#eba092",
           "#a9d1c8",
           "#a9d1c8",
           "#a9d1c8",
           "#a9a9ca",
           "#a9a9ca",
           "#a9a9ca",
           "#dccf82",
           "#dccf82",
           "#dccf82",
           "#eba092",
           "#eba092",
           "#a9d1c8",
           "#a9d1c8",
           "#a9d1c8",
           "#a9d1c8",
           "#a9a9ca",
           "#dccf82",
           "#dccf82",
           "#dccf82",
           "#eba092",
           "#eba092",
           "#eba092",
           "#a9d1c8",
           "#a9d1c8",
           "#a9a9ca",
           "#a9d1c8",
           "#a9a9ca",
           "#a9a9ca",
           "#dccf82",
           "#dccf82",
           "#dccf82",
           "#eba092",
           "#eba092",
           "#eba092",
           "#a9d1c8",
           "#a9a9ca",
           "#a9a9ca",
           "#a9d1c8",
           "#a9d1c8",
           "#a9a9ca",
           "#a9a9ca",
           "#a9a9ca",
           "#dccf82",
           "#dccf82",
           "#dccf82",
           "#eba092",
           "#eba092",
           "#eba092",
           "#a9d1c8",
           "#a9d1c8",
           "#a9d1c8",
           "#a9a9ca",
           "#a9a9ca",
           "#a9a9ca",
           "#dccf82",
           "#dccf82",
           "#dccf82",
           "#eba092",
           "#eba092",
           "#eba092",
           "#a9d1c8",
           "#a9d1c8",
           "#eba092",
           "#eba092",
           "#eba092",
           "#dccf82",
           "#dccf82",
           "#dccf82",
           "#a9a9ca",
           "#a9a9ca",
           "#a9a9ca",
           "#a9d1c8",
           "#a9d1c8",
           "#a9d1c8",
           "#f4f4f4",
           "#f4f4f4",
           "#f4f4f4",
           "#f4f4f4"
          ]
         },
         "name": "",
         "parents": [
          "All strategies from all types/<i>Strategies that I want to try</i>/Type I:high stress",
          "All strategies from all types/<i>Strategies that I want to try</i>/Type IV:low stress",
          "All strategies from all types/<i>Strategies that work for me</i>/Type III:late peak",
          "All strategies from all types/<i>Strategies that don’t work for me</i>/Type III:late peak",
          "All strategies from all types/<i>Strategies that I want to try</i>/Type III:late peak",
          "All strategies from all types/<i>Strategies that work for me</i>/Type II:early peak",
          "All strategies from all types/<i>Strategies that don’t work for me</i>/Type II:early peak",
          "All strategies from all types/<i>Strategies that I want to try</i>/Type II:early peak",
          "All strategies from all types/<i>Strategies that work for me</i>/Type I:high stress",
          "All strategies from all types/<i>Strategies that don’t work for me</i>/Type I:high stress",
          "All strategies from all types/<i>Strategies that don’t work for me</i>/Type IV:low stress",
          "All strategies from all types/<i>Strategies that I want to try</i>/Type I:high stress",
          "All strategies from all types/<i>Strategies that don’t work for me</i>/Type IV:low stress",
          "All strategies from all types/<i>Strategies that I want to try</i>/Type IV:low stress",
          "All strategies from all types/<i>Strategies that work for me</i>/Type III:late peak",
          "All strategies from all types/<i>Strategies that don’t work for me</i>/Type III:late peak",
          "All strategies from all types/<i>Strategies that I want to try</i>/Type III:late peak",
          "All strategies from all types/<i>Strategies that work for me</i>/Type II:early peak",
          "All strategies from all types/<i>Strategies that don’t work for me</i>/Type II:early peak",
          "All strategies from all types/<i>Strategies that I want to try</i>/Type II:early peak",
          "All strategies from all types/<i>Strategies that work for me</i>/Type I:high stress",
          "All strategies from all types/<i>Strategies that work for me</i>/Type IV:low stress",
          "All strategies from all types/<i>Strategies that I want to try</i>/Type I:high stress",
          "All strategies from all types/<i>Strategies that don’t work for me</i>/Type I:high stress",
          "All strategies from all types/<i>Strategies that work for me</i>/Type I:high stress",
          "All strategies from all types/<i>Strategies that work for me</i>/Type IV:low stress",
          "All strategies from all types/<i>Strategies that don’t work for me</i>/Type IV:low stress",
          "All strategies from all types/<i>Strategies that I want to try</i>/Type IV:low stress",
          "All strategies from all types/<i>Strategies that work for me</i>/Type III:late peak",
          "All strategies from all types/<i>Strategies that don’t work for me</i>/Type III:late peak",
          "All strategies from all types/<i>Strategies that I want to try</i>/Type III:late peak",
          "All strategies from all types/<i>Strategies that work for me</i>/Type II:early peak",
          "All strategies from all types/<i>Strategies that don’t work for me</i>/Type II:early peak",
          "All strategies from all types/<i>Strategies that I want to try</i>/Type II:early peak",
          "All strategies from all types/<i>Strategies that work for me</i>/Type I:high stress",
          "All strategies from all types/<i>Strategies that don’t work for me</i>/Type I:high stress",
          "All strategies from all types/<i>Strategies that I want to try</i>/Type I:high stress",
          "All strategies from all types/<i>Strategies that work for me</i>/Type IV:low stress",
          "All strategies from all types/<i>Strategies that don’t work for me</i>/Type IV:low stress",
          "All strategies from all types/<i>Strategies that I want to try</i>/Type IV:low stress",
          "All strategies from all types/<i>Strategies that work for me</i>/Type III:late peak",
          "All strategies from all types/<i>Strategies that don’t work for me</i>/Type III:late peak",
          "All strategies from all types/<i>Strategies that I want to try</i>/Type III:late peak",
          "All strategies from all types/<i>Strategies that work for me</i>/Type II:early peak",
          "All strategies from all types/<i>Strategies that don’t work for me</i>/Type II:early peak",
          "All strategies from all types/<i>Strategies that I want to try</i>/Type II:early peak",
          "All strategies from all types/<i>Strategies that don’t work for me</i>/Type I:high stress",
          "All strategies from all types/<i>Strategies that I want to try</i>/Type I:high stress",
          "All strategies from all types/<i>Strategies that work for me</i>/Type IV:low stress",
          "All strategies from all types/<i>Strategies that don’t work for me</i>/Type IV:low stress",
          "All strategies from all types/<i>Strategies that I want to try</i>/Type IV:low stress",
          "All strategies from all types/<i>Strategies that work for me</i>/Type III:late peak",
          "All strategies from all types/<i>Strategies that don’t work for me</i>/Type III:late peak",
          "All strategies from all types/<i>Strategies that I want to try</i>/Type III:late peak",
          "All strategies from all types/<i>Strategies that work for me</i>/Type II:early peak",
          "All strategies from all types/<i>Strategies that don’t work for me</i>/Type II:early peak",
          "All strategies from all types/<i>Strategies that I want to try</i>/Type II:early peak",
          "All strategies from all types/<i>Strategies that work for me</i>/Type I:high stress",
          "All strategies from all types/<i>Strategies that don’t work for me</i>/Type I:high stress",
          "All strategies from all types/<i>Strategies that I want to try</i>/Type I:high stress",
          "All strategies from all types/<i>Strategies that work for me</i>/Type IV:low stress",
          "All strategies from all types/<i>Strategies that don’t work for me</i>/Type IV:low stress",
          "All strategies from all types/<i>Strategies that I want to try</i>/Type IV:low stress",
          "All strategies from all types/<i>Strategies that work for me</i>/Type III:late peak",
          "All strategies from all types/<i>Strategies that don’t work for me</i>/Type III:late peak",
          "All strategies from all types/<i>Strategies that I want to try</i>/Type III:late peak",
          "All strategies from all types/<i>Strategies that work for me</i>/Type II:early peak",
          "All strategies from all types/<i>Strategies that don’t work for me</i>/Type II:early peak",
          "All strategies from all types/<i>Strategies that I want to try</i>/Type II:early peak",
          "All strategies from all types/<i>Strategies that work for me</i>/Type I:high stress",
          "All strategies from all types/<i>Strategies that work for me</i>/Type IV:low stress",
          "All strategies from all types/<i>Strategies that don’t work for me</i>/Type IV:low stress",
          "All strategies from all types/<i>Strategies that work for me</i>/Type IV:low stress",
          "All strategies from all types/<i>Strategies that don’t work for me</i>/Type I:high stress",
          "All strategies from all types/<i>Strategies that I want to try</i>/Type II:early peak",
          "All strategies from all types/<i>Strategies that I want to try</i>/Type IV:low stress",
          "All strategies from all types/<i>Strategies that work for me</i>/Type III:late peak",
          "All strategies from all types/<i>Strategies that don’t work for me</i>/Type III:late peak",
          "All strategies from all types/<i>Strategies that I want to try</i>/Type III:late peak",
          "All strategies from all types/<i>Strategies that work for me</i>/Type II:early peak",
          "All strategies from all types/<i>Strategies that don’t work for me</i>/Type II:early peak",
          "All strategies from all types/<i>Strategies that I want to try</i>/Type I:high stress",
          "All strategies from all types/<i>Strategies that work for me</i>/Type I:high stress",
          "All strategies from all types/<i>Strategies that don’t work for me</i>/Type I:high stress",
          "All strategies from all types/<i>Strategies that work for me</i>/Type IV:low stress",
          "All strategies from all types/<i>Strategies that I want to try</i>/Type I:high stress",
          "All strategies from all types/<i>Strategies that I want to try</i>/Type IV:low stress",
          "All strategies from all types/<i>Strategies that work for me</i>/Type III:late peak",
          "All strategies from all types/<i>Strategies that don’t work for me</i>/Type III:late peak",
          "All strategies from all types/<i>Strategies that I want to try</i>/Type III:late peak",
          "All strategies from all types/<i>Strategies that work for me</i>/Type II:early peak",
          "All strategies from all types/<i>Strategies that don’t work for me</i>/Type II:early peak",
          "All strategies from all types/<i>Strategies that I want to try</i>/Type II:early peak",
          "All strategies from all types/<i>Strategies that work for me</i>/Type I:high stress",
          "All strategies from all types/<i>Strategies that don’t work for me</i>/Type I:high stress",
          "All strategies from all types/<i>Strategies that don’t work for me</i>/Type IV:low stress",
          "All strategies from all types/<i>Strategies that don’t work for me</i>/Type II:early peak",
          "All strategies from all types/<i>Strategies that work for me</i>/Type I:high stress",
          "All strategies from all types/<i>Strategies that I want to try</i>/Type II:early peak",
          "All strategies from all types/<i>Strategies that work for me</i>/Type II:early peak",
          "All strategies from all types/<i>Strategies that don’t work for me</i>/Type I:high stress",
          "All strategies from all types/<i>Strategies that don’t work for me</i>/Type III:late peak",
          "All strategies from all types/<i>Strategies that work for me</i>/Type III:late peak",
          "All strategies from all types/<i>Strategies that I want to try</i>/Type IV:low stress",
          "All strategies from all types/<i>Strategies that I want to try</i>/Type III:late peak",
          "All strategies from all types/<i>Strategies that don’t work for me</i>/Type I:high stress",
          "All strategies from all types/<i>Strategies that work for me</i>/Type I:high stress",
          "All strategies from all types/<i>Strategies that work for me</i>/Type IV:low stress",
          "All strategies from all types/<i>Strategies that don’t work for me</i>/Type IV:low stress",
          "All strategies from all types/<i>Strategies that I want to try</i>/Type IV:low stress",
          "All strategies from all types/<i>Strategies that work for me</i>/Type III:late peak",
          "All strategies from all types/<i>Strategies that don’t work for me</i>/Type III:late peak",
          "All strategies from all types/<i>Strategies that I want to try</i>/Type III:late peak",
          "All strategies from all types/<i>Strategies that work for me</i>/Type II:early peak",
          "All strategies from all types/<i>Strategies that don’t work for me</i>/Type II:early peak",
          "All strategies from all types/<i>Strategies that I want to try</i>/Type II:early peak",
          "All strategies from all types/<i>Strategies that don’t work for me</i>/Type IV:low stress",
          "All strategies from all types/<i>Strategies that I want to try</i>/Type I:high stress",
          "All strategies from all types/<i>Strategies that work for me</i>/Type IV:low stress",
          "All strategies from all types/<i>Strategies that don’t work for me</i>/Type IV:low stress",
          "All strategies from all types/<i>Strategies that don’t work for me</i>/Type I:high stress",
          "All strategies from all types/<i>Strategies that don’t work for me</i>/Type IV:low stress",
          "All strategies from all types/<i>Strategies that I want to try</i>/Type IV:low stress",
          "All strategies from all types/<i>Strategies that work for me</i>/Type III:late peak",
          "All strategies from all types/<i>Strategies that don’t work for me</i>/Type III:late peak",
          "All strategies from all types/<i>Strategies that I want to try</i>/Type III:late peak",
          "All strategies from all types/<i>Strategies that work for me</i>/Type II:early peak",
          "All strategies from all types/<i>Strategies that don’t work for me</i>/Type II:early peak",
          "All strategies from all types/<i>Strategies that I want to try</i>/Type II:early peak",
          "All strategies from all types/<i>Strategies that work for me</i>/Type I:high stress",
          "All strategies from all types/<i>Strategies that I want to try</i>/Type I:high stress",
          "All strategies from all types/<i>Strategies that don’t work for me</i>/Type I:high stress",
          "All strategies from all types/<i>Strategies that work for me</i>/Type IV:low stress",
          "All strategies from all types/<i>Strategies that I want to try</i>/Type IV:low stress",
          "All strategies from all types/<i>Strategies that work for me</i>/Type III:late peak",
          "All strategies from all types/<i>Strategies that don’t work for me</i>/Type III:late peak",
          "All strategies from all types/<i>Strategies that I want to try</i>/Type III:late peak",
          "All strategies from all types/<i>Strategies that work for me</i>/Type II:early peak",
          "All strategies from all types/<i>Strategies that don’t work for me</i>/Type II:early peak",
          "All strategies from all types/<i>Strategies that I want to try</i>/Type II:early peak",
          "All strategies from all types/<i>Strategies that work for me</i>/Type I:high stress",
          "All strategies from all types/<i>Strategies that I want to try</i>/Type I:high stress",
          "All strategies from all types/<i>Strategies that I want to try</i>/Type I:high stress",
          "All strategies from all types/<i>Strategies that work for me</i>/Type IV:low stress",
          "All strategies from all types/<i>Strategies that don’t work for me</i>/Type IV:low stress",
          "All strategies from all types/<i>Strategies that work for me</i>/Type III:late peak",
          "All strategies from all types/<i>Strategies that don’t work for me</i>/Type III:late peak",
          "All strategies from all types/<i>Strategies that I want to try</i>/Type III:late peak",
          "All strategies from all types/<i>Strategies that work for me</i>/Type II:early peak",
          "All strategies from all types/<i>Strategies that don’t work for me</i>/Type II:early peak",
          "All strategies from all types/<i>Strategies that I want to try</i>/Type II:early peak",
          "All strategies from all types/<i>Strategies that work for me</i>/Type I:high stress",
          "All strategies from all types/<i>Strategies that don’t work for me</i>/Type I:high stress",
          "All strategies from all types/<i>Strategies that work for me</i>/Type IV:low stress",
          "All strategies from all types/<i>Strategies that work for me</i>/Type IV:low stress",
          "All strategies from all types/<i>Strategies that work for me</i>/Type II:early peak",
          "All strategies from all types/<i>Strategies that don’t work for me</i>/Type II:early peak",
          "All strategies from all types/<i>Strategies that work for me</i>/Type I:high stress",
          "All strategies from all types/<i>Strategies that don’t work for me</i>/Type I:high stress",
          "All strategies from all types/<i>Strategies that I want to try</i>/Type I:high stress",
          "All strategies from all types/<i>Strategies that don’t work for me</i>/Type IV:low stress",
          "All strategies from all types/<i>Strategies that I want to try</i>/Type IV:low stress",
          "All strategies from all types/<i>Strategies that work for me</i>/Type III:late peak",
          "All strategies from all types/<i>Strategies that don’t work for me</i>/Type III:late peak",
          "All strategies from all types/<i>Strategies that I want to try</i>/Type III:late peak",
          "All strategies from all types/<i>Strategies that I want to try</i>/Type II:early peak",
          "All strategies from all types/<i>Strategies that I want to try</i>/Type IV:low stress",
          "All strategies from all types/<i>Strategies that don’t work for me</i>/Type IV:low stress",
          "All strategies from all types/<i>Strategies that I want to try</i>/Type I:high stress",
          "All strategies from all types/<i>Strategies that I want to try</i>/Type I:high stress",
          "All strategies from all types/<i>Strategies that work for me</i>/Type IV:low stress",
          "All strategies from all types/<i>Strategies that I want to try</i>/Type IV:low stress",
          "All strategies from all types/<i>Strategies that work for me</i>/Type III:late peak",
          "All strategies from all types/<i>Strategies that don’t work for me</i>/Type III:late peak",
          "All strategies from all types/<i>Strategies that I want to try</i>/Type III:late peak",
          "All strategies from all types/<i>Strategies that work for me</i>/Type II:early peak",
          "All strategies from all types/<i>Strategies that I want to try</i>/Type II:early peak",
          "All strategies from all types/<i>Strategies that work for me</i>/Type I:high stress",
          "All strategies from all types/<i>Strategies that don’t work for me</i>/Type I:high stress",
          "All strategies from all types/<i>Strategies that I want to try</i>/Type I:high stress",
          "All strategies from all types/<i>Strategies that don’t work for me</i>/Type II:early peak",
          "All strategies from all types/<i>Strategies that don’t work for me</i>/Type IV:low stress",
          "All strategies from all types/<i>Strategies that work for me</i>/Type IV:low stress",
          "All strategies from all types/<i>Strategies that work for me</i>/Type I:high stress",
          "All strategies from all types/<i>Strategies that I want to try</i>/Type II:early peak",
          "All strategies from all types/<i>Strategies that don’t work for me</i>/Type II:early peak",
          "All strategies from all types/<i>Strategies that work for me</i>/Type II:early peak",
          "All strategies from all types/<i>Strategies that don’t work for me</i>/Type I:high stress",
          "All strategies from all types/<i>Strategies that don’t work for me</i>/Type III:late peak",
          "All strategies from all types/<i>Strategies that work for me</i>/Type III:late peak",
          "All strategies from all types/<i>Strategies that I want to try</i>/Type IV:low stress",
          "All strategies from all types/<i>Strategies that I want to try</i>/Type III:late peak",
          "All strategies from all types/<i>Strategies that work for me</i>/Type I:high stress",
          "All strategies from all types/<i>Strategies that don’t work for me</i>/Type IV:low stress",
          "All strategies from all types/<i>Strategies that I want to try</i>/Type IV:low stress",
          "All strategies from all types/<i>Strategies that work for me</i>/Type III:late peak",
          "All strategies from all types/<i>Strategies that don’t work for me</i>/Type III:late peak",
          "All strategies from all types/<i>Strategies that I want to try</i>/Type III:late peak",
          "All strategies from all types/<i>Strategies that work for me</i>/Type II:early peak",
          "All strategies from all types/<i>Strategies that don’t work for me</i>/Type II:early peak",
          "All strategies from all types/<i>Strategies that I want to try</i>/Type II:early peak",
          "All strategies from all types/<i>Strategies that don’t work for me</i>/Type I:high stress",
          "All strategies from all types/<i>Strategies that work for me</i>/Type I:high stress",
          "All strategies from all types/<i>Strategies that work for me</i>/Type IV:low stress",
          "All strategies from all types/<i>Strategies that don’t work for me</i>/Type IV:low stress",
          "All strategies from all types/<i>Strategies that I want to try</i>/Type IV:low stress",
          "All strategies from all types/<i>Strategies that work for me</i>/Type III:late peak",
          "All strategies from all types/<i>Strategies that don’t work for me</i>/Type III:late peak",
          "All strategies from all types/<i>Strategies that I want to try</i>/Type III:late peak",
          "All strategies from all types/<i>Strategies that work for me</i>/Type II:early peak",
          "All strategies from all types/<i>Strategies that don’t work for me</i>/Type II:early peak",
          "All strategies from all types/<i>Strategies that I want to try</i>/Type II:early peak",
          "All strategies from all types/<i>Strategies that I want to try</i>/Type I:high stress",
          "All strategies from all types/<i>Strategies that I want to try</i>/Type I:high stress",
          "All strategies from all types/<i>Strategies that work for me</i>/Type IV:low stress",
          "All strategies from all types/<i>Strategies that work for me</i>/Type I:high stress",
          "All strategies from all types/<i>Strategies that don’t work for me</i>/Type I:high stress",
          "All strategies from all types/<i>Strategies that don’t work for me</i>/Type IV:low stress",
          "All strategies from all types/<i>Strategies that I want to try</i>/Type IV:low stress",
          "All strategies from all types/<i>Strategies that work for me</i>/Type III:late peak",
          "All strategies from all types/<i>Strategies that don’t work for me</i>/Type III:late peak",
          "All strategies from all types/<i>Strategies that I want to try</i>/Type III:late peak",
          "All strategies from all types/<i>Strategies that work for me</i>/Type II:early peak",
          "All strategies from all types/<i>Strategies that don’t work for me</i>/Type II:early peak",
          "All strategies from all types/<i>Strategies that I want to try</i>/Type II:early peak",
          "All strategies from all types/<i>Strategies that work for me</i>/Type I:high stress",
          "All strategies from all types/<i>Strategies that don’t work for me</i>/Type I:high stress",
          "All strategies from all types/<i>Strategies that I want to try</i>/Type I:high stress",
          "All strategies from all types/<i>Strategies that work for me</i>/Type IV:low stress",
          "All strategies from all types/<i>Strategies that don’t work for me</i>/Type IV:low stress",
          "All strategies from all types/<i>Strategies that I want to try</i>/Type IV:low stress",
          "All strategies from all types/<i>Strategies that work for me</i>/Type III:late peak",
          "All strategies from all types/<i>Strategies that don’t work for me</i>/Type III:late peak",
          "All strategies from all types/<i>Strategies that I want to try</i>/Type III:late peak",
          "All strategies from all types/<i>Strategies that work for me</i>/Type II:early peak",
          "All strategies from all types/<i>Strategies that don’t work for me</i>/Type II:early peak",
          "All strategies from all types/<i>Strategies that I want to try</i>/Type II:early peak",
          "All strategies from all types/<i>Strategies that don’t work for me</i>/Type I:high stress",
          "All strategies from all types/<i>Strategies that I want to try</i>/Type I:high stress",
          "All strategies from all types/<i>Strategies that work for me</i>/Type IV:low stress",
          "All strategies from all types/<i>Strategies that don’t work for me</i>/Type IV:low stress",
          "All strategies from all types/<i>Strategies that work for me</i>/Type III:late peak",
          "All strategies from all types/<i>Strategies that don’t work for me</i>/Type III:late peak",
          "All strategies from all types/<i>Strategies that I want to try</i>/Type III:late peak",
          "All strategies from all types/<i>Strategies that work for me</i>/Type II:early peak",
          "All strategies from all types/<i>Strategies that don’t work for me</i>/Type II:early peak",
          "All strategies from all types/<i>Strategies that I want to try</i>/Type II:early peak",
          "All strategies from all types/<i>Strategies that work for me</i>/Type I:high stress",
          "All strategies from all types/<i>Strategies that don’t work for me</i>/Type I:high stress",
          "All strategies from all types/<i>Strategies that work for me</i>/Type IV:low stress",
          "All strategies from all types/<i>Strategies that work for me</i>/Type IV:low stress",
          "All strategies from all types/<i>Strategies that don’t work for me</i>/Type IV:low stress",
          "All strategies from all types/<i>Strategies that I want to try</i>/Type IV:low stress",
          "All strategies from all types/<i>Strategies that work for me</i>/Type III:late peak",
          "All strategies from all types/<i>Strategies that don’t work for me</i>/Type III:late peak",
          "All strategies from all types/<i>Strategies that I want to try</i>/Type III:late peak",
          "All strategies from all types/<i>Strategies that work for me</i>/Type II:early peak",
          "All strategies from all types/<i>Strategies that don’t work for me</i>/Type II:early peak",
          "All strategies from all types/<i>Strategies that I want to try</i>/Type II:early peak",
          "All strategies from all types/<i>Strategies that work for me</i>/Type I:high stress",
          "All strategies from all types/<i>Strategies that don’t work for me</i>/Type I:high stress",
          "All strategies from all types/<i>Strategies that I want to try</i>/Type I:high stress",
          "All strategies from all types/<i>Strategies that I want to try</i>/Type IV:low stress",
          "All strategies from all types/<i>Strategies that don’t work for me</i>/Type IV:low stress",
          "All strategies from all types/<i>Strategies that I want to try</i>/Type I:high stress",
          "All strategies from all types/<i>Strategies that I want to try</i>/Type I:high stress",
          "All strategies from all types/<i>Strategies that work for me</i>/Type IV:low stress",
          "All strategies from all types/<i>Strategies that I want to try</i>/Type IV:low stress",
          "All strategies from all types/<i>Strategies that work for me</i>/Type III:late peak",
          "All strategies from all types/<i>Strategies that don’t work for me</i>/Type III:late peak",
          "All strategies from all types/<i>Strategies that I want to try</i>/Type III:late peak",
          "All strategies from all types/<i>Strategies that work for me</i>/Type II:early peak",
          "All strategies from all types/<i>Strategies that I want to try</i>/Type II:early peak",
          "All strategies from all types/<i>Strategies that work for me</i>/Type I:high stress",
          "All strategies from all types/<i>Strategies that don’t work for me</i>/Type I:high stress",
          "All strategies from all types/<i>Strategies that I want to try</i>/Type I:high stress",
          "All strategies from all types/<i>Strategies that don’t work for me</i>/Type II:early peak",
          "All strategies from all types/<i>Strategies that don’t work for me</i>/Type IV:low stress",
          "All strategies from all types/<i>Strategies that work for me</i>/Type IV:low stress",
          "All strategies from all types/<i>Strategies that work for me</i>/Type I:high stress",
          "All strategies from all types/<i>Strategies that I want to try</i>/Type II:early peak",
          "All strategies from all types/<i>Strategies that don’t work for me</i>/Type II:early peak",
          "All strategies from all types/<i>Strategies that work for me</i>/Type II:early peak",
          "All strategies from all types/<i>Strategies that don’t work for me</i>/Type I:high stress",
          "All strategies from all types/<i>Strategies that don’t work for me</i>/Type III:late peak",
          "All strategies from all types/<i>Strategies that work for me</i>/Type III:late peak",
          "All strategies from all types/<i>Strategies that I want to try</i>/Type IV:low stress",
          "All strategies from all types/<i>Strategies that I want to try</i>/Type III:late peak",
          "All strategies from all types/<i>Strategies that don’t work for me</i>/Type I:high stress",
          "All strategies from all types/<i>Strategies that I want to try</i>/Type IV:low stress",
          "All strategies from all types/<i>Strategies that work for me</i>/Type III:late peak",
          "All strategies from all types/<i>Strategies that don’t work for me</i>/Type III:late peak",
          "All strategies from all types/<i>Strategies that I want to try</i>/Type III:late peak",
          "All strategies from all types/<i>Strategies that work for me</i>/Type II:early peak",
          "All strategies from all types/<i>Strategies that don’t work for me</i>/Type II:early peak",
          "All strategies from all types/<i>Strategies that I want to try</i>/Type II:early peak",
          "All strategies from all types/<i>Strategies that work for me</i>/Type I:high stress",
          "All strategies from all types/<i>Strategies that I want to try</i>/Type I:high stress",
          "All strategies from all types/<i>Strategies that don’t work for me</i>/Type I:high stress",
          "All strategies from all types/<i>Strategies that don’t work for me</i>/Type IV:low stress",
          "All strategies from all types/<i>Strategies that I want to try</i>/Type IV:low stress",
          "All strategies from all types/<i>Strategies that work for me</i>/Type III:late peak",
          "All strategies from all types/<i>Strategies that don’t work for me</i>/Type III:late peak",
          "All strategies from all types/<i>Strategies that I want to try</i>/Type III:late peak",
          "All strategies from all types/<i>Strategies that work for me</i>/Type II:early peak",
          "All strategies from all types/<i>Strategies that don’t work for me</i>/Type II:early peak",
          "All strategies from all types/<i>Strategies that I want to try</i>/Type II:early peak",
          "All strategies from all types/<i>Strategies that work for me</i>/Type I:high stress",
          "All strategies from all types/<i>Strategies that work for me</i>/Type IV:low stress",
          "All strategies from all types/<i>Strategies that don’t work for me</i>/Type IV:low stress",
          "All strategies from all types/<i>Strategies that I want to try</i>/Type IV:low stress",
          "All strategies from all types/<i>Strategies that I want to try</i>/Type I:high stress",
          "All strategies from all types/<i>Strategies that I want to try</i>/Type I:high stress",
          "All strategies from all types/<i>Strategies that work for me</i>/Type III:late peak",
          "All strategies from all types/<i>Strategies that don’t work for me</i>/Type III:late peak",
          "All strategies from all types/<i>Strategies that I want to try</i>/Type III:late peak",
          "All strategies from all types/<i>Strategies that work for me</i>/Type II:early peak",
          "All strategies from all types/<i>Strategies that don’t work for me</i>/Type II:early peak",
          "All strategies from all types/<i>Strategies that I want to try</i>/Type II:early peak",
          "All strategies from all types/<i>Strategies that work for me</i>/Type I:high stress",
          "All strategies from all types/<i>Strategies that don’t work for me</i>/Type I:high stress",
          "All strategies from all types/<i>Strategies that I want to try</i>/Type I:high stress",
          "All strategies from all types/<i>Strategies that work for me</i>/Type IV:low stress",
          "All strategies from all types/<i>Strategies that don’t work for me</i>/Type IV:low stress",
          "All strategies from all types/<i>Strategies that I want to try</i>/Type IV:low stress",
          "All strategies from all types/<i>Strategies that work for me</i>/Type III:late peak",
          "All strategies from all types/<i>Strategies that don’t work for me</i>/Type III:late peak",
          "All strategies from all types/<i>Strategies that I want to try</i>/Type III:late peak",
          "All strategies from all types/<i>Strategies that work for me</i>/Type II:early peak",
          "All strategies from all types/<i>Strategies that don’t work for me</i>/Type II:early peak",
          "All strategies from all types/<i>Strategies that I want to try</i>/Type II:early peak",
          "All strategies from all types/<i>Strategies that work for me</i>/Type I:high stress",
          "All strategies from all types/<i>Strategies that don’t work for me</i>/Type I:high stress",
          "All strategies from all types/<i>Strategies that work for me</i>/Type IV:low stress",
          "All strategies from all types/<i>Strategies that work for me</i>/Type IV:low stress",
          "All strategies from all types/<i>Strategies that work for me</i>/Type IV:low stress",
          "All strategies from all types/<i>Strategies that I want to try</i>/Type IV:low stress",
          "All strategies from all types/<i>Strategies that I want to try</i>/Type III:late peak",
          "All strategies from all types/<i>Strategies that work for me</i>/Type II:early peak",
          "All strategies from all types/<i>Strategies that don’t work for me</i>/Type II:early peak",
          "All strategies from all types/<i>Strategies that I want to try</i>/Type II:early peak",
          "All strategies from all types/<i>Strategies that work for me</i>/Type I:high stress",
          "All strategies from all types/<i>Strategies that don’t work for me</i>/Type I:high stress",
          "All strategies from all types/<i>Strategies that I want to try</i>/Type I:high stress",
          "All strategies from all types/<i>Strategies that work for me</i>/Type IV:low stress",
          "All strategies from all types/<i>Strategies that don’t work for me</i>/Type IV:low stress",
          "All strategies from all types/<i>Strategies that don’t work for me</i>/Type III:late peak",
          "All strategies from all types/<i>Strategies that I want to try</i>/Type IV:low stress",
          "All strategies from all types/<i>Strategies that don’t work for me</i>/Type III:late peak",
          "All strategies from all types/<i>Strategies that I want to try</i>/Type III:late peak",
          "All strategies from all types/<i>Strategies that work for me</i>/Type II:early peak",
          "All strategies from all types/<i>Strategies that don’t work for me</i>/Type II:early peak",
          "All strategies from all types/<i>Strategies that I want to try</i>/Type II:early peak",
          "All strategies from all types/<i>Strategies that work for me</i>/Type I:high stress",
          "All strategies from all types/<i>Strategies that don’t work for me</i>/Type I:high stress",
          "All strategies from all types/<i>Strategies that I want to try</i>/Type I:high stress",
          "All strategies from all types/<i>Strategies that don’t work for me</i>/Type IV:low stress",
          "All strategies from all types/<i>Strategies that work for me</i>/Type III:late peak",
          "All strategies from all types/<i>Strategies that work for me</i>/Type III:late peak",
          "All strategies from all types/<i>Strategies that I want to try</i>/Type IV:low stress",
          "All strategies from all types/<i>Strategies that don’t work for me</i>/Type IV:low stress",
          "All strategies from all types/<i>Strategies that work for me</i>/Type III:late peak",
          "All strategies from all types/<i>Strategies that don’t work for me</i>/Type III:late peak",
          "All strategies from all types/<i>Strategies that I want to try</i>/Type III:late peak",
          "All strategies from all types/<i>Strategies that work for me</i>/Type II:early peak",
          "All strategies from all types/<i>Strategies that don’t work for me</i>/Type II:early peak",
          "All strategies from all types/<i>Strategies that I want to try</i>/Type II:early peak",
          "All strategies from all types/<i>Strategies that work for me</i>/Type I:high stress",
          "All strategies from all types/<i>Strategies that don’t work for me</i>/Type I:high stress",
          "All strategies from all types/<i>Strategies that I want to try</i>/Type I:high stress",
          "All strategies from all types/<i>Strategies that work for me</i>/Type IV:low stress",
          "All strategies from all types/<i>Strategies that don’t work for me</i>/Type IV:low stress",
          "All strategies from all types/<i>Strategies that I want to try</i>/Type IV:low stress",
          "All strategies from all types/<i>Strategies that work for me</i>/Type III:late peak",
          "All strategies from all types/<i>Strategies that don’t work for me</i>/Type III:late peak",
          "All strategies from all types/<i>Strategies that I want to try</i>/Type III:late peak",
          "All strategies from all types/<i>Strategies that work for me</i>/Type II:early peak",
          "All strategies from all types/<i>Strategies that don’t work for me</i>/Type II:early peak",
          "All strategies from all types/<i>Strategies that I want to try</i>/Type II:early peak",
          "All strategies from all types/<i>Strategies that work for me</i>/Type I:high stress",
          "All strategies from all types/<i>Strategies that don’t work for me</i>/Type I:high stress",
          "All strategies from all types/<i>Strategies that I want to try</i>/Type I:high stress",
          "All strategies from all types/<i>Strategies that don’t work for me</i>/Type IV:low stress",
          "All strategies from all types/<i>Strategies that work for me</i>/Type IV:low stress",
          "All strategies from all types/<i>Strategies that I want to try</i>",
          "All strategies from all types/<i>Strategies that don’t work for me</i>",
          "All strategies from all types/<i>Strategies that work for me</i>",
          "All strategies from all types/<i>Strategies that I want to try</i>",
          "All strategies from all types/<i>Strategies that don’t work for me</i>",
          "All strategies from all types/<i>Strategies that work for me</i>",
          "All strategies from all types/<i>Strategies that I want to try</i>",
          "All strategies from all types/<i>Strategies that don’t work for me</i>",
          "All strategies from all types/<i>Strategies that work for me</i>",
          "All strategies from all types/<i>Strategies that I want to try</i>",
          "All strategies from all types/<i>Strategies that don’t work for me</i>",
          "All strategies from all types/<i>Strategies that work for me</i>",
          "All strategies from all types",
          "All strategies from all types",
          "All strategies from all types",
          ""
         ],
         "type": "treemap",
         "values": [
          11,
          0,
          1,
          2,
          0,
          1,
          1,
          0,
          2,
          3,
          2,
          0,
          2,
          0,
          2,
          3,
          0,
          1,
          1,
          0,
          1,
          2,
          5,
          0,
          0,
          1,
          0,
          1,
          1,
          1,
          2,
          2,
          0,
          1,
          4,
          2,
          5,
          1,
          0,
          2,
          1,
          0,
          2,
          0,
          1,
          1,
          2,
          0,
          0,
          0,
          1,
          2,
          1,
          0,
          3,
          1,
          0,
          4,
          1,
          2,
          2,
          0,
          3,
          0,
          0,
          4,
          1,
          1,
          1,
          1,
          0,
          2,
          2,
          0,
          0,
          0,
          0,
          1,
          0,
          1,
          2,
          5,
          1,
          4,
          1,
          0,
          1,
          1,
          2,
          1,
          1,
          0,
          1,
          1,
          2,
          0,
          0,
          1,
          4,
          0,
          0,
          1,
          0,
          2,
          3,
          2,
          6,
          5,
          0,
          0,
          4,
          0,
          0,
          4,
          1,
          0,
          2,
          12,
          0,
          1,
          1,
          0,
          1,
          2,
          1,
          0,
          2,
          1,
          1,
          4,
          6,
          0,
          3,
          1,
          3,
          0,
          1,
          2,
          1,
          2,
          2,
          4,
          0,
          3,
          0,
          3,
          1,
          0,
          2,
          2,
          0,
          5,
          0,
          2,
          0,
          3,
          1,
          3,
          1,
          0,
          0,
          0,
          1,
          1,
          0,
          0,
          0,
          0,
          0,
          3,
          3,
          2,
          1,
          0,
          2,
          1,
          3,
          0,
          0,
          8,
          0,
          1,
          2,
          0,
          0,
          2,
          1,
          3,
          1,
          1,
          1,
          2,
          1,
          2,
          1,
          0,
          0,
          1,
          1,
          1,
          2,
          1,
          2,
          2,
          0,
          1,
          3,
          0,
          1,
          2,
          1,
          2,
          6,
          2,
          0,
          1,
          0,
          2,
          0,
          1,
          0,
          0,
          1,
          2,
          0,
          2,
          2,
          0,
          4,
          1,
          0,
          2,
          1,
          0,
          0,
          3,
          0,
          3,
          6,
          0,
          0,
          1,
          2,
          0,
          2,
          0,
          0,
          0,
          2,
          0,
          1,
          0,
          1,
          1,
          0,
          2,
          1,
          2,
          2,
          1,
          0,
          6,
          1,
          1,
          2,
          7,
          0,
          2,
          0,
          1,
          1,
          2,
          1,
          0,
          1,
          5,
          0,
          1,
          1,
          3,
          3,
          1,
          1,
          1,
          0,
          0,
          1,
          2,
          1,
          0,
          0,
          1,
          2,
          1,
          1,
          1,
          1,
          3,
          0,
          1,
          0,
          5,
          0,
          0,
          2,
          1,
          0,
          5,
          2,
          0,
          0,
          6,
          0,
          3,
          1,
          0,
          4,
          0,
          0,
          3,
          2,
          0,
          2,
          0,
          1,
          1,
          1,
          2,
          1,
          0,
          2,
          1,
          1,
          1,
          5,
          1,
          0,
          0,
          0,
          3,
          0,
          1,
          5,
          0,
          2,
          1,
          4,
          0,
          2,
          0,
          2,
          3,
          0,
          5,
          1,
          0,
          0,
          3,
          1,
          0,
          3,
          3,
          0,
          0,
          2,
          2,
          0,
          4,
          1,
          1,
          2,
          0,
          2,
          2,
          0,
          2,
          1,
          1,
          2,
          2,
          1,
          9,
          0,
          3,
          114,
          43,
          67,
          29,
          36,
          48,
          30,
          28,
          49,
          25,
          22,
          53,
          198,
          129,
          217,
          544
         ]
        }
       ],
       "layout": {
        "font": {
         "color": "#050505",
         "family": "courier",
         "size": 20
        },
        "legend": {
         "tracegroupgap": 0
        },
        "margin": {
         "l": 10,
         "r": 10,
         "t": 60
        },
        "template": {
         "data": {
          "bar": [
           {
            "error_x": {
             "color": "#2a3f5f"
            },
            "error_y": {
             "color": "#2a3f5f"
            },
            "marker": {
             "line": {
              "color": "#E5ECF6",
              "width": 0.5
             }
            },
            "type": "bar"
           }
          ],
          "barpolar": [
           {
            "marker": {
             "line": {
              "color": "#E5ECF6",
              "width": 0.5
             }
            },
            "type": "barpolar"
           }
          ],
          "carpet": [
           {
            "aaxis": {
             "endlinecolor": "#2a3f5f",
             "gridcolor": "white",
             "linecolor": "white",
             "minorgridcolor": "white",
             "startlinecolor": "#2a3f5f"
            },
            "baxis": {
             "endlinecolor": "#2a3f5f",
             "gridcolor": "white",
             "linecolor": "white",
             "minorgridcolor": "white",
             "startlinecolor": "#2a3f5f"
            },
            "type": "carpet"
           }
          ],
          "choropleth": [
           {
            "colorbar": {
             "outlinewidth": 0,
             "ticks": ""
            },
            "type": "choropleth"
           }
          ],
          "contour": [
           {
            "colorbar": {
             "outlinewidth": 0,
             "ticks": ""
            },
            "colorscale": [
             [
              0,
              "#0d0887"
             ],
             [
              0.1111111111111111,
              "#46039f"
             ],
             [
              0.2222222222222222,
              "#7201a8"
             ],
             [
              0.3333333333333333,
              "#9c179e"
             ],
             [
              0.4444444444444444,
              "#bd3786"
             ],
             [
              0.5555555555555556,
              "#d8576b"
             ],
             [
              0.6666666666666666,
              "#ed7953"
             ],
             [
              0.7777777777777778,
              "#fb9f3a"
             ],
             [
              0.8888888888888888,
              "#fdca26"
             ],
             [
              1,
              "#f0f921"
             ]
            ],
            "type": "contour"
           }
          ],
          "contourcarpet": [
           {
            "colorbar": {
             "outlinewidth": 0,
             "ticks": ""
            },
            "type": "contourcarpet"
           }
          ],
          "heatmap": [
           {
            "colorbar": {
             "outlinewidth": 0,
             "ticks": ""
            },
            "colorscale": [
             [
              0,
              "#0d0887"
             ],
             [
              0.1111111111111111,
              "#46039f"
             ],
             [
              0.2222222222222222,
              "#7201a8"
             ],
             [
              0.3333333333333333,
              "#9c179e"
             ],
             [
              0.4444444444444444,
              "#bd3786"
             ],
             [
              0.5555555555555556,
              "#d8576b"
             ],
             [
              0.6666666666666666,
              "#ed7953"
             ],
             [
              0.7777777777777778,
              "#fb9f3a"
             ],
             [
              0.8888888888888888,
              "#fdca26"
             ],
             [
              1,
              "#f0f921"
             ]
            ],
            "type": "heatmap"
           }
          ],
          "heatmapgl": [
           {
            "colorbar": {
             "outlinewidth": 0,
             "ticks": ""
            },
            "colorscale": [
             [
              0,
              "#0d0887"
             ],
             [
              0.1111111111111111,
              "#46039f"
             ],
             [
              0.2222222222222222,
              "#7201a8"
             ],
             [
              0.3333333333333333,
              "#9c179e"
             ],
             [
              0.4444444444444444,
              "#bd3786"
             ],
             [
              0.5555555555555556,
              "#d8576b"
             ],
             [
              0.6666666666666666,
              "#ed7953"
             ],
             [
              0.7777777777777778,
              "#fb9f3a"
             ],
             [
              0.8888888888888888,
              "#fdca26"
             ],
             [
              1,
              "#f0f921"
             ]
            ],
            "type": "heatmapgl"
           }
          ],
          "histogram": [
           {
            "marker": {
             "colorbar": {
              "outlinewidth": 0,
              "ticks": ""
             }
            },
            "type": "histogram"
           }
          ],
          "histogram2d": [
           {
            "colorbar": {
             "outlinewidth": 0,
             "ticks": ""
            },
            "colorscale": [
             [
              0,
              "#0d0887"
             ],
             [
              0.1111111111111111,
              "#46039f"
             ],
             [
              0.2222222222222222,
              "#7201a8"
             ],
             [
              0.3333333333333333,
              "#9c179e"
             ],
             [
              0.4444444444444444,
              "#bd3786"
             ],
             [
              0.5555555555555556,
              "#d8576b"
             ],
             [
              0.6666666666666666,
              "#ed7953"
             ],
             [
              0.7777777777777778,
              "#fb9f3a"
             ],
             [
              0.8888888888888888,
              "#fdca26"
             ],
             [
              1,
              "#f0f921"
             ]
            ],
            "type": "histogram2d"
           }
          ],
          "histogram2dcontour": [
           {
            "colorbar": {
             "outlinewidth": 0,
             "ticks": ""
            },
            "colorscale": [
             [
              0,
              "#0d0887"
             ],
             [
              0.1111111111111111,
              "#46039f"
             ],
             [
              0.2222222222222222,
              "#7201a8"
             ],
             [
              0.3333333333333333,
              "#9c179e"
             ],
             [
              0.4444444444444444,
              "#bd3786"
             ],
             [
              0.5555555555555556,
              "#d8576b"
             ],
             [
              0.6666666666666666,
              "#ed7953"
             ],
             [
              0.7777777777777778,
              "#fb9f3a"
             ],
             [
              0.8888888888888888,
              "#fdca26"
             ],
             [
              1,
              "#f0f921"
             ]
            ],
            "type": "histogram2dcontour"
           }
          ],
          "mesh3d": [
           {
            "colorbar": {
             "outlinewidth": 0,
             "ticks": ""
            },
            "type": "mesh3d"
           }
          ],
          "parcoords": [
           {
            "line": {
             "colorbar": {
              "outlinewidth": 0,
              "ticks": ""
             }
            },
            "type": "parcoords"
           }
          ],
          "pie": [
           {
            "automargin": true,
            "type": "pie"
           }
          ],
          "scatter": [
           {
            "marker": {
             "colorbar": {
              "outlinewidth": 0,
              "ticks": ""
             }
            },
            "type": "scatter"
           }
          ],
          "scatter3d": [
           {
            "line": {
             "colorbar": {
              "outlinewidth": 0,
              "ticks": ""
             }
            },
            "marker": {
             "colorbar": {
              "outlinewidth": 0,
              "ticks": ""
             }
            },
            "type": "scatter3d"
           }
          ],
          "scattercarpet": [
           {
            "marker": {
             "colorbar": {
              "outlinewidth": 0,
              "ticks": ""
             }
            },
            "type": "scattercarpet"
           }
          ],
          "scattergeo": [
           {
            "marker": {
             "colorbar": {
              "outlinewidth": 0,
              "ticks": ""
             }
            },
            "type": "scattergeo"
           }
          ],
          "scattergl": [
           {
            "marker": {
             "colorbar": {
              "outlinewidth": 0,
              "ticks": ""
             }
            },
            "type": "scattergl"
           }
          ],
          "scattermapbox": [
           {
            "marker": {
             "colorbar": {
              "outlinewidth": 0,
              "ticks": ""
             }
            },
            "type": "scattermapbox"
           }
          ],
          "scatterpolar": [
           {
            "marker": {
             "colorbar": {
              "outlinewidth": 0,
              "ticks": ""
             }
            },
            "type": "scatterpolar"
           }
          ],
          "scatterpolargl": [
           {
            "marker": {
             "colorbar": {
              "outlinewidth": 0,
              "ticks": ""
             }
            },
            "type": "scatterpolargl"
           }
          ],
          "scatterternary": [
           {
            "marker": {
             "colorbar": {
              "outlinewidth": 0,
              "ticks": ""
             }
            },
            "type": "scatterternary"
           }
          ],
          "surface": [
           {
            "colorbar": {
             "outlinewidth": 0,
             "ticks": ""
            },
            "colorscale": [
             [
              0,
              "#0d0887"
             ],
             [
              0.1111111111111111,
              "#46039f"
             ],
             [
              0.2222222222222222,
              "#7201a8"
             ],
             [
              0.3333333333333333,
              "#9c179e"
             ],
             [
              0.4444444444444444,
              "#bd3786"
             ],
             [
              0.5555555555555556,
              "#d8576b"
             ],
             [
              0.6666666666666666,
              "#ed7953"
             ],
             [
              0.7777777777777778,
              "#fb9f3a"
             ],
             [
              0.8888888888888888,
              "#fdca26"
             ],
             [
              1,
              "#f0f921"
             ]
            ],
            "type": "surface"
           }
          ],
          "table": [
           {
            "cells": {
             "fill": {
              "color": "#EBF0F8"
             },
             "line": {
              "color": "white"
             }
            },
            "header": {
             "fill": {
              "color": "#C8D4E3"
             },
             "line": {
              "color": "white"
             }
            },
            "type": "table"
           }
          ]
         },
         "layout": {
          "annotationdefaults": {
           "arrowcolor": "#2a3f5f",
           "arrowhead": 0,
           "arrowwidth": 1
          },
          "coloraxis": {
           "colorbar": {
            "outlinewidth": 0,
            "ticks": ""
           }
          },
          "colorscale": {
           "diverging": [
            [
             0,
             "#8e0152"
            ],
            [
             0.1,
             "#c51b7d"
            ],
            [
             0.2,
             "#de77ae"
            ],
            [
             0.3,
             "#f1b6da"
            ],
            [
             0.4,
             "#fde0ef"
            ],
            [
             0.5,
             "#f7f7f7"
            ],
            [
             0.6,
             "#e6f5d0"
            ],
            [
             0.7,
             "#b8e186"
            ],
            [
             0.8,
             "#7fbc41"
            ],
            [
             0.9,
             "#4d9221"
            ],
            [
             1,
             "#276419"
            ]
           ],
           "sequential": [
            [
             0,
             "#0d0887"
            ],
            [
             0.1111111111111111,
             "#46039f"
            ],
            [
             0.2222222222222222,
             "#7201a8"
            ],
            [
             0.3333333333333333,
             "#9c179e"
            ],
            [
             0.4444444444444444,
             "#bd3786"
            ],
            [
             0.5555555555555556,
             "#d8576b"
            ],
            [
             0.6666666666666666,
             "#ed7953"
            ],
            [
             0.7777777777777778,
             "#fb9f3a"
            ],
            [
             0.8888888888888888,
             "#fdca26"
            ],
            [
             1,
             "#f0f921"
            ]
           ],
           "sequentialminus": [
            [
             0,
             "#0d0887"
            ],
            [
             0.1111111111111111,
             "#46039f"
            ],
            [
             0.2222222222222222,
             "#7201a8"
            ],
            [
             0.3333333333333333,
             "#9c179e"
            ],
            [
             0.4444444444444444,
             "#bd3786"
            ],
            [
             0.5555555555555556,
             "#d8576b"
            ],
            [
             0.6666666666666666,
             "#ed7953"
            ],
            [
             0.7777777777777778,
             "#fb9f3a"
            ],
            [
             0.8888888888888888,
             "#fdca26"
            ],
            [
             1,
             "#f0f921"
            ]
           ]
          },
          "colorway": [
           "#636efa",
           "#EF553B",
           "#00cc96",
           "#ab63fa",
           "#FFA15A",
           "#19d3f3",
           "#FF6692",
           "#B6E880",
           "#FF97FF",
           "#FECB52"
          ],
          "font": {
           "color": "#2a3f5f"
          },
          "geo": {
           "bgcolor": "white",
           "lakecolor": "white",
           "landcolor": "#E5ECF6",
           "showlakes": true,
           "showland": true,
           "subunitcolor": "white"
          },
          "hoverlabel": {
           "align": "left"
          },
          "hovermode": "closest",
          "mapbox": {
           "style": "light"
          },
          "paper_bgcolor": "white",
          "plot_bgcolor": "#E5ECF6",
          "polar": {
           "angularaxis": {
            "gridcolor": "white",
            "linecolor": "white",
            "ticks": ""
           },
           "bgcolor": "#E5ECF6",
           "radialaxis": {
            "gridcolor": "white",
            "linecolor": "white",
            "ticks": ""
           }
          },
          "scene": {
           "xaxis": {
            "backgroundcolor": "#E5ECF6",
            "gridcolor": "white",
            "gridwidth": 2,
            "linecolor": "white",
            "showbackground": true,
            "ticks": "",
            "zerolinecolor": "white"
           },
           "yaxis": {
            "backgroundcolor": "#E5ECF6",
            "gridcolor": "white",
            "gridwidth": 2,
            "linecolor": "white",
            "showbackground": true,
            "ticks": "",
            "zerolinecolor": "white"
           },
           "zaxis": {
            "backgroundcolor": "#E5ECF6",
            "gridcolor": "white",
            "gridwidth": 2,
            "linecolor": "white",
            "showbackground": true,
            "ticks": "",
            "zerolinecolor": "white"
           }
          },
          "shapedefaults": {
           "line": {
            "color": "#2a3f5f"
           }
          },
          "ternary": {
           "aaxis": {
            "gridcolor": "white",
            "linecolor": "white",
            "ticks": ""
           },
           "baxis": {
            "gridcolor": "white",
            "linecolor": "white",
            "ticks": ""
           },
           "bgcolor": "#E5ECF6",
           "caxis": {
            "gridcolor": "white",
            "linecolor": "white",
            "ticks": ""
           }
          },
          "title": {
           "x": 0.05
          },
          "xaxis": {
           "automargin": true,
           "gridcolor": "white",
           "linecolor": "white",
           "ticks": "",
           "title": {
            "standoff": 15
           },
           "zerolinecolor": "white",
           "zerolinewidth": 2
          },
          "yaxis": {
           "automargin": true,
           "gridcolor": "white",
           "linecolor": "white",
           "ticks": "",
           "title": {
            "standoff": 15
           },
           "zerolinecolor": "white",
           "zerolinewidth": 2
          }
         }
        }
       }
      }
     },
     "metadata": {}
    }
   ],
   "source": [
    "df3 = pd.read_csv('./data/data4.csv')\n",
    "# df3['Type']=df3['Type'].replace(['Not working','Works for me','Willing to try'],['<b>Not working</b>','<b>Works for me</b>','<b>Willing to try</b>'])\n",
    "df3['Persona'] = df3['Persona'].replace(['persona1','persona2','persona3','persona4'],['Type I:high stress','Type II:early peak','Type III:late peak','Type IV:low stress'])\n",
    "df3['Type'] = df3['Type'].replace(['Works for me','Willing to try','Not working'],['<i>Strategies that work for me</i>','<i>Strategies that I want to try</i>','<i>Strategies that don’t work for me</i>'])\n",
    "df3['All']='All strategies from all types'\n",
    "df3['Strategies']=df3['Strategies'].replace(['drinking alcohol','eating junk food','hanging out with family members','hanging out with friends','learning a new skill','listening to music','outdoor activities','planning/going on trips','playing video games','reading a self-help book','reading books','reading/thinking affirmations','shopping/window shopping','spending time on social media','talking to a professional','talking to family members','talking to friends','using drugs','watching movies/tv shows','yoga','going to the gym'],['drinking<br>alcohol','eating<br>junk<br>food','hanging<br>out with<br>family<br>members','hanging<br>out with<br>friends','learning<br>new<br>skills','listening<br>to<br>music','outdoor<br>activities','planning/<br>going on<br>trips','playing<br>video<br>games','reading<br>self-help<br>books','reading<br>books','reading/<br>thinking<br>affirmations','shopping/<br>window<br>shopping','social<br>media','talking<br>to a<br>professional','talking<br>to family<br>members','talking<br>to<br>friends','using<br>drugs','watching<br>movies/<br>tv shows','practicing<br>yoga','going<br>to the <br>gym'])\n",
    "levels = ['Strategies','Type']\n",
    "color_columns = 'Weight'\n",
    "value_column = 'Weight'\n",
    "def build_hierarchical_dataframe(df, levels, value_column, color_columns=None):\n",
    "    \"\"\"\n",
    "    Build a hierarchy of levels for Sunburst or Treemap charts.\n",
    "\n",
    "\n",
    "    Levels are given starting from the bottom to the top of the hierarchy,\n",
    "    ie the last level corresponds to the root.\n",
    "    \"\"\"\n",
    "    df_all_trees = pd.DataFrame(columns=['id', 'parent', 'value', 'color'])\n",
    "    for i, level in enumerate(levels):\n",
    "        df_tree = pd.DataFrame(columns=['id', 'parent', 'value', 'color'])\n",
    "        dfg = df.groupby(levels[i:]).sum()\n",
    "        dfg = dfg.reset_index()\n",
    "        df_tree['id'] = dfg[level].copy()\n",
    "        if i < len(levels) - 1:\n",
    "            df_tree['parent'] = dfg[levels[i+1]].copy()\n",
    "        else:\n",
    "            df_tree['parent'] = 'total'\n",
    "        df_tree['value'] = dfg[value_column]\n",
    "        df_tree['color'] = dfg[color_columns]\n",
    "        df_all_trees = df_all_trees.append(df_tree, ignore_index=True)\n",
    "    total = pd.Series(dict(id='total', parent='',\n",
    "                              value=df[value_column].sum(),\n",
    "                              color=df[color_columns].sum() ))\n",
    "    df_all_trees = df_all_trees.append(total, ignore_index=True)\n",
    "    df_all_trees = df_all_trees[df_all_trees.value != 0]\n",
    "    return df_all_trees\n",
    "#df_all_trees = build_hierarchical_dataframe(df3, levels, value_column, color_columns)\n",
    "#print(df_all_trees)\n",
    "#average_score = 0.2\n",
    "\n",
    "#fig = go.Figure()\n",
    "\n",
    "# fig.add_trace(go.Treemap(\n",
    "#     labels=df_all_trees['id'],\n",
    "#     parents=df_all_trees['parent'],\n",
    "#     values=df_all_trees['value'],\n",
    "#     branchvalues='total',\n",
    "#     # marker=dict(\n",
    "#     #     colors=df_all_trees['color'],\n",
    "#     #     colorscale='RdBu'\n",
    "#     #      #cmid=average_score\n",
    "#     #     ),\n",
    "#     #hovertemplate='<b>%{label} </b> <br> Sales: %{value}<br> Success rate: %{color:.2f}',\n",
    "#     name=''\n",
    "#     ))\n",
    "import plotly.express as px\n",
    "\n",
    "fig=px.treemap(df3,\n",
    "path=['All','Type','Persona','Strategies'],\n",
    "values='Weight',branchvalues='total'\n",
    ",color='Persona',\n",
    "color_discrete_map={'Type I:high stress':'#eba092', 'Type II:early peak':'#dccf82', 'Type III:late peak':'#a9a9ca', 'Type IV:low stress':'#a9d1c8'\n",
    "#,'Not working':'#efefef','Works for me':'#cecece','Willing to try':'#adadad'\\\n",
    ",'(?)':'#f4f4f4'}\n",
    "#,textfont=dict(size=15)\n",
    ")\n",
    "#fig.data[0].hovertemplate = '%{label}<br>%{value} votes from Persona %{current path}'\n",
    "fig.update_traces(hovertemplate='%{label}<br>%{value} votes from  %{parent}<extra></extra>')\n",
    "#fig.update_traces(textfont=dict(size=50))\n",
    "#print(fig.data[1].textfont)\n",
    "#Add image\n",
    "# fig.add_layout_image(\n",
    "#     dict(\n",
    "#         source=\"https://raw.githubusercontent.com/brianzy/ploty-project/master/pic/P1Label.png\",\n",
    "#         xref=\"paper\", yref=\"paper\",\n",
    "#         x=1.1, y=0.8,\n",
    "#         sizex=0.1, sizey=0.1\n",
    "#         ,xanchor=\"right\", yanchor=\"bottom\"\n",
    "#         ,layer=\"below\"\n",
    "#     )\n",
    "# )\n",
    "# fig.add_layout_image(\n",
    "#     dict(\n",
    "#         source=\"https://raw.githubusercontent.com/brianzy/ploty-project/master/pic/P2Label.png\",\n",
    "#         xref=\"paper\", yref=\"paper\",\n",
    "#         x=1.1, y=0.7,\n",
    "#         sizex=0.1, sizey=0.1\n",
    "#         ,xanchor=\"right\", yanchor=\"bottom\"\n",
    "#         ,layer=\"below\"\n",
    "#     )\n",
    "# )\n",
    "# fig.add_layout_image(\n",
    "#     dict(\n",
    "#         source=\"https://raw.githubusercontent.com/brianzy/ploty-project/master/pic/P3Label.png\",\n",
    "#         xref=\"paper\", yref=\"paper\",\n",
    "#         x=1.1, y=0.6,\n",
    "#         sizex=0.1, sizey=0.1\n",
    "#         ,xanchor=\"right\", yanchor=\"bottom\"\n",
    "#         ,layer=\"below\"\n",
    "#     )\n",
    "# )\n",
    "# fig.add_layout_image(\n",
    "#     dict(\n",
    "#         source=\"https://raw.githubusercontent.com/brianzy/ploty-project/master/pic/P4Label.png\",\n",
    "#         xref=\"paper\", yref=\"paper\",\n",
    "#         x=1.1, y=0.5,\n",
    "#         sizex=0.1, sizey=0.1\n",
    "#         ,xanchor=\"right\", yanchor=\"bottom\"\n",
    "#         ,layer=\"below\"\n",
    "#     )\n",
    "# )\n",
    "\n",
    "# fig.add_trace(go.Treemap(\n",
    "#     labels=df_all_trees['id'],\n",
    "#     parents=df_all_trees['parent'],\n",
    "#     values=df_all_trees['value'],\n",
    "#     branchvalues='total',\n",
    "#     marker=dict(\n",
    "#         colors=df_all_trees['color'],\n",
    "#         colorscale='RdBu',\n",
    "#         cmid=average_score\n",
    "#          ),\n",
    "#     #hovertemplate='<b>%{label} </b> <br> Sales: %{value}<br> Success rate: %{color:.2f}',\n",
    "#     maxdepth=2\n",
    "#     ), 1, 2)\n",
    "#fig.update_layout(uniformtext=dict(minsize=10, mode='hide'))\n",
    "fig.update_layout(font=dict(color='#050505',family='courier',size=20),\n",
    "margin=dict(l=10,r=10))\n",
    "\n",
    "#fig.update_layout(margin=dict( l=10))\n",
    "fig.show()\n",
    "\n"
   ]
  },
  {
   "cell_type": "code",
   "execution_count": 184,
   "metadata": {},
   "outputs": [
    {
     "output_type": "execute_result",
     "data": {
      "text/plain": "&#39;https://plotly.com/~zybrian/161/&#39;"
     },
     "metadata": {},
     "execution_count": 184
    }
   ],
   "source": [
    "import chart_studio.plotly as py\n",
    "py.plot(fig, filename = 'graph3', auto_open=False)"
   ]
  }
 ],
 "metadata": {
  "language_info": {
   "codemirror_mode": {
    "name": "ipython",
    "version": 3
   },
   "file_extension": ".py",
   "mimetype": "text/x-python",
   "name": "python",
   "nbconvert_exporter": "python",
   "pygments_lexer": "ipython3",
   "version": "3.7.3-final"
  },
  "orig_nbformat": 2,
  "kernelspec": {
   "name": "python37364bita13d4472b3174e4494b7a431ae9018a6",
   "display_name": "Python 3.7.3 64-bit"
  }
 },
 "nbformat": 4,
 "nbformat_minor": 2
}