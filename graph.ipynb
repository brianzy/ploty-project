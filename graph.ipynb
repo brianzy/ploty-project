{
 "cells": [
  {
   "cell_type": "code",
   "execution_count": 1,
   "metadata": {
    "tags": []
   },
   "outputs": [],
   "source": [
    "#!pip install plotly\n",
    "#!pip install chart_studio\n",
    "import pandas as pd\n",
    "import plotly.express as px\n",
    "import chart_studio.plotly as py\n",
    "import plotly.graph_objects as go\n"
   ]
  },
  {
   "cell_type": "code",
   "execution_count": 2,
   "metadata": {
    "tags": []
   },
   "outputs": [],
   "source": [
    "import chart_studio\n",
    "username = 'zybrian' # your username\n",
    "api_key = 'X8A90k8Ev8kNzTppv3Dt' # your api key - go to profile > settings > regenerate key\n",
    "chart_studio.tools.set_credentials_file(username=username, api_key=api_key)\n"
   ]
  },
  {
   "cell_type": "code",
   "execution_count": 275,
   "metadata": {
    "tags": []
   },
   "outputs": [
    {
     "output_type": "execute_result",
     "data": {
      "text/plain": "{'Presentations':    Presentations  weight              x  \\\n 0            0.0       1  Presentations   \n 1            0.3       2  Presentations   \n 2            0.5       2  Presentations   \n 3            0.8       1  Presentations   \n 4            1.0       3  Presentations   \n 5            1.5       3  Presentations   \n 6            2.0       4  Presentations   \n 7            2.5       3  Presentations   \n 8            3.0       2  Presentations   \n 9            3.5       1  Presentations   \n \n                                                hover  \n 0  Stress:Presentations<br>Stress level:0.0<br>We...  \n 1  Stress:Presentations<br>Stress level:0.3<br>We...  \n 2  Stress:Presentations<br>Stress level:0.5<br>We...  \n 3  Stress:Presentations<br>Stress level:0.8<br>We...  \n 4  Stress:Presentations<br>Stress level:1.0<br>We...  \n 5  Stress:Presentations<br>Stress level:1.5<br>We...  \n 6  Stress:Presentations<br>Stress level:2.0<br>We...  \n 7  Stress:Presentations<br>Stress level:2.5<br>We...  \n 8  Stress:Presentations<br>Stress level:3.0<br>We...  \n 9  Stress:Presentations<br>Stress level:3.5<br>We...  ,\n 'Homework':     Homework  weight         x  \\\n 0        0.5       3  Homework   \n 1        0.8       1  Homework   \n 2        1.0       5  Homework   \n 3        1.2       3  Homework   \n 4        1.5       2  Homework   \n 5        1.7       2  Homework   \n 6        2.0       4  Homework   \n 7        2.2       3  Homework   \n 8        2.5       1  Homework   \n 9        2.8       1  Homework   \n 10       4.0       1  Homework   \n \n                                               hover  \n 0   Stress:Homework<br>Stress level:0.5<br>Weight:3  \n 1   Stress:Homework<br>Stress level:0.8<br>Weight:1  \n 2   Stress:Homework<br>Stress level:1.0<br>Weight:5  \n 3   Stress:Homework<br>Stress level:1.2<br>Weight:3  \n 4   Stress:Homework<br>Stress level:1.5<br>Weight:2  \n 5   Stress:Homework<br>Stress level:1.7<br>Weight:2  \n 6   Stress:Homework<br>Stress level:2.0<br>Weight:4  \n 7   Stress:Homework<br>Stress level:2.2<br>Weight:3  \n 8   Stress:Homework<br>Stress level:2.5<br>Weight:1  \n 9   Stress:Homework<br>Stress level:2.8<br>Weight:1  \n 10  Stress:Homework<br>Stress level:4.0<br>Weight:1  ,\n 'Projects':    Projects  weight         x                                            hover\n 0       0.2       1  Projects  Stress:Projects<br>Stress level:0.2<br>Weight:1\n 1       0.8       2  Projects  Stress:Projects<br>Stress level:0.8<br>Weight:2\n 2       1.0       5  Projects  Stress:Projects<br>Stress level:1.0<br>Weight:5\n 3       1.5       4  Projects  Stress:Projects<br>Stress level:1.5<br>Weight:4\n 4       1.7       2  Projects  Stress:Projects<br>Stress level:1.7<br>Weight:2\n 5       2.0       3  Projects  Stress:Projects<br>Stress level:2.0<br>Weight:3\n 6       2.5       1  Projects  Stress:Projects<br>Stress level:2.5<br>Weight:1\n 7       3.0       5  Projects  Stress:Projects<br>Stress level:3.0<br>Weight:5\n 8       3.7       2  Projects  Stress:Projects<br>Stress level:3.7<br>Weight:2\n 9       4.0       1  Projects  Stress:Projects<br>Stress level:4.0<br>Weight:1,\n 'Quizes':    Quizes  weight       x                                          hover\n 0     0.5       2  Quizes  Stress:Quizes<br>Stress level:0.5<br>Weight:2\n 1     1.0       7  Quizes  Stress:Quizes<br>Stress level:1.0<br>Weight:7\n 2     1.5       3  Quizes  Stress:Quizes<br>Stress level:1.5<br>Weight:3\n 3     1.8       2  Quizes  Stress:Quizes<br>Stress level:1.8<br>Weight:2\n 4     2.0       5  Quizes  Stress:Quizes<br>Stress level:2.0<br>Weight:5\n 5     2.2       1  Quizes  Stress:Quizes<br>Stress level:2.2<br>Weight:1\n 6     2.5       4  Quizes  Stress:Quizes<br>Stress level:2.5<br>Weight:4\n 7     3.0       2  Quizes  Stress:Quizes<br>Stress level:3.0<br>Weight:2,\n 'Midterm/Finals':    Midterm/Finals  weight               x  \\\n 0             0.5       1  Midterm/Finals   \n 1             1.5       1  Midterm/Finals   \n 2             2.5       3  Midterm/Finals   \n 3             2.8       1  Midterm/Finals   \n 4             3.0       9  Midterm/Finals   \n 5             3.5       2  Midterm/Finals   \n 6             3.8       2  Midterm/Finals   \n 7             4.0       7  Midterm/Finals   \n \n                                                hover  \n 0  Stress:Midterm/Finals<br>Stress level:0.5<br>W...  \n 1  Stress:Midterm/Finals<br>Stress level:1.5<br>W...  \n 2  Stress:Midterm/Finals<br>Stress level:2.5<br>W...  \n 3  Stress:Midterm/Finals<br>Stress level:2.8<br>W...  \n 4  Stress:Midterm/Finals<br>Stress level:3.0<br>W...  \n 5  Stress:Midterm/Finals<br>Stress level:3.5<br>W...  \n 6  Stress:Midterm/Finals<br>Stress level:3.8<br>W...  \n 7  Stress:Midterm/Finals<br>Stress level:4.0<br>W...  }"
     },
     "metadata": {},
     "execution_count": 275
    }
   ],
   "source": [
    "# df = pd.read_csv('./data/data.csv')\n",
    "# #df=df.fillna(0)\n",
    "# stress = ['Presentations','Homework','Projects','Quizes','Midterm/Finals']\n",
    "# #print(df.iloc[:,(df.columns.get_loc('Homework')+1)].dropna())\n",
    "# stress_final = {item: pd.concat([df[[item]].dropna(),df.iloc[:,(df.columns.get_loc(item)+1)].dropna()], axis=1) for item in stress}\n",
    "\n",
    "# for stress,data in stress_final.items():\n",
    "#     hover_text=[]\n",
    "#     data.columns=[stress,'weight']\n",
    "#     data['weight'] = data['weight'].astype(int)\n",
    "#     data['x']=stress\n",
    "#     for index, row in data.iterrows():\n",
    "#         hover_text.append(('Stress:{stress}<br>'+\n",
    "#         'Stress level:{level}<br>'+\n",
    "#         'Weight:{weight}').format(stress=stress,\n",
    "#         level=row[stress],\n",
    "#         weight=row['weight']))\n",
    "#     data['hover']=hover_text\n",
    "\n",
    "\n",
    "\n",
    "# stress_final"
   ]
  },
  {
   "cell_type": "code",
   "execution_count": 3,
   "metadata": {
    "tags": []
   },
   "outputs": [],
   "source": [
    "df = pd.read_csv('./data/data2.csv')\n",
    "df = df.fillna(0)\n",
    "all_append=df.groupby(['x','Level'])['weight'].sum().reset_index()\n",
    "all_append['persona']='all'\n",
    "#print(all_append)\n",
    "df=df.append(all_append)\n",
    "#print(df)##df['persona'] = df['persona'].replace(['persona1','persona2','persona3','persona4'],['Type I<br>High Stress',])\n",
    "persona_name = ['persona1','persona2','persona3','persona4','all']\n",
    "persona_data = {persona: df.query(\"persona == '%s'\" %persona)\n",
    "                              for persona in persona_name }\n",
    "for persona, data in persona_data.items():\n",
    "    hover_text = []\n",
    "    data['weight'] = data['weight'].astype(int)\n",
    "    for index, row in data.iterrows():\n",
    "        hover_text.append(('{x_1}<br>'+\n",
    "        '{level} vote from {persona}'\n",
    "        ).format(x_1=row['x'],\n",
    "        level=int(row['Level']),\n",
    "        persona=persona))\n",
    "    data['hover']=hover_text\n",
    "\n",
    "\n",
    "persona_data['persona1']['persona']='Type I<br>High Stress<br><br>'\n",
    "persona_data['persona2']['persona']='Type II<br>Early Peak<br><br>'\n",
    "persona_data['persona3']['persona']='Type III<br>Late Peak<br><br>'\n",
    "persona_data['persona4']['persona']='Type IV<br>Low Stress<br><br>'\n",
    "persona_data['all']['persona']='All Types<br>'\n",
    "\n",
    "#persona_data"
   ]
  },
  {
   "cell_type": "code",
   "execution_count": 46,
   "metadata": {
    "tags": []
   },
   "outputs": [
    {
     "output_type": "error",
     "ename": "ValueError",
     "evalue": "\n    Invalid value of type 'builtins.str' received for the 'yref' property of layout.image\n        Received value: 'canvas'\n\n    The 'yref' property is an enumeration that may be specified as:\n      - One of the following enumeration values:\n            ['paper']\n      - A string that matches one of the following regular expressions:\n            ['^y([2-9]|[1-9][0-9]+)?$']",
     "traceback": [
      "\u001b[0;31m---------------------------------------------------------------------------\u001b[0m",
      "\u001b[0;31mValueError\u001b[0m                                Traceback (most recent call last)",
      "\u001b[0;32m<ipython-input-46-b8f9e4194d07>\u001b[0m in \u001b[0;36m<module>\u001b[0;34m\u001b[0m\n\u001b[1;32m     37\u001b[0m          \u001b[0;34m,\u001b[0m\u001b[0msizex\u001b[0m\u001b[0;34m=\u001b[0m\u001b[0;36m0.04\u001b[0m\u001b[0;34m,\u001b[0m \u001b[0msizey\u001b[0m\u001b[0;34m=\u001b[0m\u001b[0;36m0.4\u001b[0m\u001b[0;34m\u001b[0m\u001b[0;34m\u001b[0m\u001b[0m\n\u001b[1;32m     38\u001b[0m          \u001b[0;34m,\u001b[0m\u001b[0mxanchor\u001b[0m\u001b[0;34m=\u001b[0m\u001b[0;34m\"center\"\u001b[0m\u001b[0;34m,\u001b[0m \u001b[0myanchor\u001b[0m\u001b[0;34m=\u001b[0m\u001b[0;34m\"bottom\"\u001b[0m\u001b[0;34m\u001b[0m\u001b[0;34m\u001b[0m\u001b[0m\n\u001b[0;32m---> 39\u001b[0;31m          \u001b[0;34m,\u001b[0m\u001b[0mlayer\u001b[0m\u001b[0;34m=\u001b[0m\u001b[0;34m\"above\"\u001b[0m\u001b[0;34m\u001b[0m\u001b[0;34m\u001b[0m\u001b[0m\n\u001b[0m\u001b[1;32m     40\u001b[0m     )\n\u001b[1;32m     41\u001b[0m )\n",
      "\u001b[0;32m~/Library/Python/3.7/lib/python/site-packages/plotly/graph_objs/_figure.py\u001b[0m in \u001b[0;36madd_layout_image\u001b[0;34m(self, arg, layer, name, opacity, sizex, sizey, sizing, source, templateitemname, visible, x, xanchor, xref, y, yanchor, yref, row, col, secondary_y, **kwargs)\u001b[0m\n\u001b[1;32m  18586\u001b[0m             \u001b[0myanchor\u001b[0m\u001b[0;34m=\u001b[0m\u001b[0myanchor\u001b[0m\u001b[0;34m,\u001b[0m\u001b[0;34m\u001b[0m\u001b[0;34m\u001b[0m\u001b[0m\n\u001b[1;32m  18587\u001b[0m             \u001b[0myref\u001b[0m\u001b[0;34m=\u001b[0m\u001b[0myref\u001b[0m\u001b[0;34m,\u001b[0m\u001b[0;34m\u001b[0m\u001b[0;34m\u001b[0m\u001b[0m\n\u001b[0;32m> 18588\u001b[0;31m             \u001b[0;34m**\u001b[0m\u001b[0mkwargs\u001b[0m\u001b[0;34m\u001b[0m\u001b[0;34m\u001b[0m\u001b[0m\n\u001b[0m\u001b[1;32m  18589\u001b[0m         )\n\u001b[1;32m  18590\u001b[0m         return self._add_annotation_like(\n",
      "\u001b[0;32m~/Library/Python/3.7/lib/python/site-packages/plotly/graph_objs/layout/_image.py\u001b[0m in \u001b[0;36m__init__\u001b[0;34m(self, arg, layer, name, opacity, sizex, sizey, sizing, source, templateitemname, visible, x, xanchor, xref, y, yanchor, yref, **kwargs)\u001b[0m\n\u001b[1;32m    642\u001b[0m         \u001b[0m_v\u001b[0m \u001b[0;34m=\u001b[0m \u001b[0myref\u001b[0m \u001b[0;32mif\u001b[0m \u001b[0myref\u001b[0m \u001b[0;32mis\u001b[0m \u001b[0;32mnot\u001b[0m \u001b[0;32mNone\u001b[0m \u001b[0;32melse\u001b[0m \u001b[0m_v\u001b[0m\u001b[0;34m\u001b[0m\u001b[0;34m\u001b[0m\u001b[0m\n\u001b[1;32m    643\u001b[0m         \u001b[0;32mif\u001b[0m \u001b[0m_v\u001b[0m \u001b[0;32mis\u001b[0m \u001b[0;32mnot\u001b[0m \u001b[0;32mNone\u001b[0m\u001b[0;34m:\u001b[0m\u001b[0;34m\u001b[0m\u001b[0;34m\u001b[0m\u001b[0m\n\u001b[0;32m--> 644\u001b[0;31m             \u001b[0mself\u001b[0m\u001b[0;34m[\u001b[0m\u001b[0;34m\"yref\"\u001b[0m\u001b[0;34m]\u001b[0m \u001b[0;34m=\u001b[0m \u001b[0m_v\u001b[0m\u001b[0;34m\u001b[0m\u001b[0;34m\u001b[0m\u001b[0m\n\u001b[0m\u001b[1;32m    645\u001b[0m \u001b[0;34m\u001b[0m\u001b[0m\n\u001b[1;32m    646\u001b[0m         \u001b[0;31m# Process unknown kwargs\u001b[0m\u001b[0;34m\u001b[0m\u001b[0;34m\u001b[0m\u001b[0;34m\u001b[0m\u001b[0m\n",
      "\u001b[0;32m~/Library/Python/3.7/lib/python/site-packages/plotly/basedatatypes.py\u001b[0m in \u001b[0;36m__setitem__\u001b[0;34m(self, prop, value)\u001b[0m\n\u001b[1;32m   4017\u001b[0m                 \u001b[0;31m# ### Handle simple property ###\u001b[0m\u001b[0;34m\u001b[0m\u001b[0;34m\u001b[0m\u001b[0;34m\u001b[0m\u001b[0m\n\u001b[1;32m   4018\u001b[0m                 \u001b[0;32melse\u001b[0m\u001b[0;34m:\u001b[0m\u001b[0;34m\u001b[0m\u001b[0;34m\u001b[0m\u001b[0m\n\u001b[0;32m-> 4019\u001b[0;31m                     \u001b[0mself\u001b[0m\u001b[0;34m.\u001b[0m\u001b[0m_set_prop\u001b[0m\u001b[0;34m(\u001b[0m\u001b[0mprop\u001b[0m\u001b[0;34m,\u001b[0m \u001b[0mvalue\u001b[0m\u001b[0;34m)\u001b[0m\u001b[0;34m\u001b[0m\u001b[0;34m\u001b[0m\u001b[0m\n\u001b[0m\u001b[1;32m   4020\u001b[0m             \u001b[0;32melse\u001b[0m\u001b[0;34m:\u001b[0m\u001b[0;34m\u001b[0m\u001b[0;34m\u001b[0m\u001b[0m\n\u001b[1;32m   4021\u001b[0m                 \u001b[0;31m# Make sure properties dict is initialized\u001b[0m\u001b[0;34m\u001b[0m\u001b[0;34m\u001b[0m\u001b[0;34m\u001b[0m\u001b[0m\n",
      "\u001b[0;32m~/Library/Python/3.7/lib/python/site-packages/plotly/basedatatypes.py\u001b[0m in \u001b[0;36m_set_prop\u001b[0;34m(self, prop, val)\u001b[0m\n\u001b[1;32m   4335\u001b[0m                 \u001b[0;32mreturn\u001b[0m\u001b[0;34m\u001b[0m\u001b[0;34m\u001b[0m\u001b[0m\n\u001b[1;32m   4336\u001b[0m             \u001b[0;32melse\u001b[0m\u001b[0;34m:\u001b[0m\u001b[0;34m\u001b[0m\u001b[0;34m\u001b[0m\u001b[0m\n\u001b[0;32m-> 4337\u001b[0;31m                 \u001b[0;32mraise\u001b[0m \u001b[0merr\u001b[0m\u001b[0;34m\u001b[0m\u001b[0;34m\u001b[0m\u001b[0m\n\u001b[0m\u001b[1;32m   4338\u001b[0m \u001b[0;34m\u001b[0m\u001b[0m\n\u001b[1;32m   4339\u001b[0m         \u001b[0;31m# val is None\u001b[0m\u001b[0;34m\u001b[0m\u001b[0;34m\u001b[0m\u001b[0;34m\u001b[0m\u001b[0m\n",
      "\u001b[0;32m~/Library/Python/3.7/lib/python/site-packages/plotly/basedatatypes.py\u001b[0m in \u001b[0;36m_set_prop\u001b[0;34m(self, prop, val)\u001b[0m\n\u001b[1;32m   4330\u001b[0m \u001b[0;34m\u001b[0m\u001b[0m\n\u001b[1;32m   4331\u001b[0m         \u001b[0;32mtry\u001b[0m\u001b[0;34m:\u001b[0m\u001b[0;34m\u001b[0m\u001b[0;34m\u001b[0m\u001b[0m\n\u001b[0;32m-> 4332\u001b[0;31m             \u001b[0mval\u001b[0m \u001b[0;34m=\u001b[0m \u001b[0mvalidator\u001b[0m\u001b[0;34m.\u001b[0m\u001b[0mvalidate_coerce\u001b[0m\u001b[0;34m(\u001b[0m\u001b[0mval\u001b[0m\u001b[0;34m)\u001b[0m\u001b[0;34m\u001b[0m\u001b[0;34m\u001b[0m\u001b[0m\n\u001b[0m\u001b[1;32m   4333\u001b[0m         \u001b[0;32mexcept\u001b[0m \u001b[0mValueError\u001b[0m \u001b[0;32mas\u001b[0m \u001b[0merr\u001b[0m\u001b[0;34m:\u001b[0m\u001b[0;34m\u001b[0m\u001b[0;34m\u001b[0m\u001b[0m\n\u001b[1;32m   4334\u001b[0m             \u001b[0;32mif\u001b[0m \u001b[0mself\u001b[0m\u001b[0;34m.\u001b[0m\u001b[0m_skip_invalid\u001b[0m\u001b[0;34m:\u001b[0m\u001b[0;34m\u001b[0m\u001b[0;34m\u001b[0m\u001b[0m\n",
      "\u001b[0;32m~/Library/Python/3.7/lib/python/site-packages/_plotly_utils/basevalidators.py\u001b[0m in \u001b[0;36mvalidate_coerce\u001b[0;34m(self, v)\u001b[0m\n\u001b[1;32m    594\u001b[0m             \u001b[0mv\u001b[0m \u001b[0;34m=\u001b[0m \u001b[0mself\u001b[0m\u001b[0;34m.\u001b[0m\u001b[0mperform_replacemenet\u001b[0m\u001b[0;34m(\u001b[0m\u001b[0mv\u001b[0m\u001b[0;34m)\u001b[0m\u001b[0;34m\u001b[0m\u001b[0;34m\u001b[0m\u001b[0m\n\u001b[1;32m    595\u001b[0m             \u001b[0;32mif\u001b[0m \u001b[0;32mnot\u001b[0m \u001b[0mself\u001b[0m\u001b[0;34m.\u001b[0m\u001b[0min_values\u001b[0m\u001b[0;34m(\u001b[0m\u001b[0mv\u001b[0m\u001b[0;34m)\u001b[0m\u001b[0;34m:\u001b[0m\u001b[0;34m\u001b[0m\u001b[0;34m\u001b[0m\u001b[0m\n\u001b[0;32m--> 596\u001b[0;31m                 \u001b[0mself\u001b[0m\u001b[0;34m.\u001b[0m\u001b[0mraise_invalid_val\u001b[0m\u001b[0;34m(\u001b[0m\u001b[0mv\u001b[0m\u001b[0;34m)\u001b[0m\u001b[0;34m\u001b[0m\u001b[0;34m\u001b[0m\u001b[0m\n\u001b[0m\u001b[1;32m    597\u001b[0m         \u001b[0;32mreturn\u001b[0m \u001b[0mv\u001b[0m\u001b[0;34m\u001b[0m\u001b[0;34m\u001b[0m\u001b[0m\n\u001b[1;32m    598\u001b[0m \u001b[0;34m\u001b[0m\u001b[0m\n",
      "\u001b[0;32m~/Library/Python/3.7/lib/python/site-packages/_plotly_utils/basevalidators.py\u001b[0m in \u001b[0;36mraise_invalid_val\u001b[0;34m(self, v, inds)\u001b[0m\n\u001b[1;32m    283\u001b[0m                 \u001b[0mtyp\u001b[0m\u001b[0;34m=\u001b[0m\u001b[0mtype_str\u001b[0m\u001b[0;34m(\u001b[0m\u001b[0mv\u001b[0m\u001b[0;34m)\u001b[0m\u001b[0;34m,\u001b[0m\u001b[0;34m\u001b[0m\u001b[0;34m\u001b[0m\u001b[0m\n\u001b[1;32m    284\u001b[0m                 \u001b[0mv\u001b[0m\u001b[0;34m=\u001b[0m\u001b[0mrepr\u001b[0m\u001b[0;34m(\u001b[0m\u001b[0mv\u001b[0m\u001b[0;34m)\u001b[0m\u001b[0;34m,\u001b[0m\u001b[0;34m\u001b[0m\u001b[0;34m\u001b[0m\u001b[0m\n\u001b[0;32m--> 285\u001b[0;31m                 \u001b[0mvalid_clr_desc\u001b[0m\u001b[0;34m=\u001b[0m\u001b[0mself\u001b[0m\u001b[0;34m.\u001b[0m\u001b[0mdescription\u001b[0m\u001b[0;34m(\u001b[0m\u001b[0;34m)\u001b[0m\u001b[0;34m,\u001b[0m\u001b[0;34m\u001b[0m\u001b[0;34m\u001b[0m\u001b[0m\n\u001b[0m\u001b[1;32m    286\u001b[0m             )\n\u001b[1;32m    287\u001b[0m         )\n",
      "\u001b[0;31mValueError\u001b[0m: \n    Invalid value of type 'builtins.str' received for the 'yref' property of layout.image\n        Received value: 'canvas'\n\n    The 'yref' property is an enumeration that may be specified as:\n      - One of the following enumeration values:\n            ['paper']\n      - A string that matches one of the following regular expressions:\n            ['^y([2-9]|[1-9][0-9]+)?$']"
     ]
    }
   ],
   "source": [
    "fig = go.Figure()\n",
    "for persona, data in persona_data.items():\n",
    "    flag=data['persona'].iloc[0]\n",
    "    fig.add_trace(go.Scatter(x=data['x'],\n",
    "        y=data['Level'],name = flag,\n",
    "        marker_size=data['weight'], text=data['hover'],hoverinfo='text'))\n",
    "\n",
    "\n",
    "\n",
    "sizeref =  2.*60/(100**2)\n",
    "\n",
    "\n",
    "fig.update_traces(mode='markers', marker=dict(sizemode='area',\n",
    "                                              sizeref=sizeref, line_width=1))\n",
    "\n",
    "fig.update_layout(\n",
    "    title='Academic Stress',\n",
    "    xaxis=dict(\n",
    "        title='Stress type',\n",
    "        gridcolor='white',\n",
    "        gridwidth=2,\n",
    "    ),\n",
    "    yaxis=dict(\n",
    "        title='stress level',\n",
    "        gridcolor='white',\n",
    "        gridwidth=2,\n",
    "    ),\n",
    "    paper_bgcolor='rgb(243, 243, 243)',\n",
    "    plot_bgcolor='rgb(243, 243, 243)',\n",
    ")\n",
    "#Add image\n",
    "fig.add_layout_image(\n",
    "    dict(\n",
    "        source=\"https://raw.githubusercontent.com/brianzy/ploty-project/master/pic/P1sm.png\",\n",
    "         yref=\"paper\",\n",
    "        x=1.13, y=4\n",
    "         ,sizex=0.04, sizey=0.4\n",
    "         ,xanchor=\"center\", yanchor=\"bottom\"\n",
    "         ,layer=\"above\"\n",
    "    )\n",
    ")\n",
    "fig.add_layout_image(\n",
    "    dict(\n",
    "        source=\"https://raw.githubusercontent.com/brianzy/ploty-project/master/pic/P2sm.png\",\n",
    "         yref=\"paper\",\n",
    "        x=1.13, y=3.4,\n",
    "        sizex=0.04, sizey=0.4\n",
    "         ,xanchor=\"center\", yanchor=\"top\"\n",
    "         ,layer=\"above\"\n",
    "    )\n",
    ")\n",
    "fig.add_layout_image(\n",
    "    dict(\n",
    "        source=\"https://raw.githubusercontent.com/brianzy/ploty-project/master/pic/P3sm.png\",\n",
    "         yref=\"paper\",\n",
    "        x=1.13, y=2.7,\n",
    "        sizex=0.04, sizey=0.4\n",
    "         ,xanchor=\"center\", yanchor=\"bottom\"\n",
    "         ,layer=\"above\"\n",
    "    )\n",
    ")\n",
    "fig.add_layout_image(\n",
    "    dict(\n",
    "        source=\"https://raw.githubusercontent.com/brianzy/ploty-project/master/pic/P4sm.png\",\n",
    "         yref=\"paper\",\n",
    "        x=1.13, y=2.1,\n",
    "        sizex=0.04, sizey=0.4\n",
    "         ,xanchor=\"center\", yanchor=\"bottom\"\n",
    "         ,layer=\"above\"\n",
    "    )\n",
    ")\n",
    "fig.add_layout_image(\n",
    "    dict(\n",
    "        source=\"https://raw.githubusercontent.com/brianzy/ploty-project/master/pic/Allsm.png\",\n",
    "         yref=\"paper\",\n",
    "        x=1.13, y=1.85,\n",
    "        sizex=0.04, sizey=0.4\n",
    "         ,xanchor=\"center\", yanchor=\"bottom\"\n",
    "         ,layer=\"above\"\n",
    "    )\n",
    ")\n",
    "\n",
    "fig.update_layout(\n",
    "    autosize=False,\n",
    "    legend=dict(\n",
    "    yanchor=\"auto\",\n",
    "    y=0.99,\n",
    "    xanchor=\"left\",\n",
    "    x=1.148\n",
    "     ,font=dict(size=13)\n",
    "))\n",
    "\n",
    "# fig = px.scatter(df, x='Presentations', size=\"weight_1\",\n",
    "#             log_x=True, size_max=60)\n",
    "fig.show()  "
   ]
  },
  {
   "cell_type": "code",
   "execution_count": 45,
   "metadata": {},
   "outputs": [
    {
     "output_type": "execute_result",
     "data": {
      "text/plain": "'https://plotly.com/~zybrian/37/'"
     },
     "metadata": {},
     "execution_count": 45
    }
   ],
   "source": [
    "import chart_studio.plotly as py\n",
    "py.plot(fig, filename = 'graph1', auto_open=False)"
   ]
  },
  {
   "cell_type": "code",
   "execution_count": 292,
   "metadata": {},
   "outputs": [],
   "source": [
    "# fig = go.Figure()\n",
    "\n",
    "# for stress, data in stress_final.items():\n",
    "#     fig.add_trace(go.Scatter( x=data['x'],\n",
    "#          y=data[stress],name=stress\n",
    "#          , marker_size=data['weight'],text=data['hover']\n",
    "#         ))\n",
    "# # Tune marker appearance and layout\n",
    "\n",
    "# sizeref =  2.*80/(100**2)\n",
    "\n",
    "\n",
    "# fig.update_traces(mode='markers', marker=dict(sizemode='area',\n",
    "#                                               sizeref=sizeref, line_width=2))\n",
    "\n",
    "# fig.update_layout(\n",
    "#     title='Academic Stress',\n",
    "#     xaxis=dict(\n",
    "#         title='Stress type',\n",
    "#         gridcolor='white',\n",
    "#         gridwidth=2,\n",
    "#     ),\n",
    "#     yaxis=dict(\n",
    "#         title='stress level',\n",
    "#         gridcolor='white',\n",
    "#         gridwidth=2,\n",
    "#     ),\n",
    "#     paper_bgcolor='rgb(243, 243, 243)',\n",
    "#     plot_bgcolor='rgb(243, 243, 243)',\n",
    "# )\n",
    "\n",
    "# # fig = px.scatter(df, x='Presentations', size=\"weight_1\",\n",
    "# #             log_x=True, size_max=60)\n",
    "# fig.show()"
   ]
  },
  {
   "cell_type": "code",
   "execution_count": 267,
   "metadata": {},
   "outputs": [],
   "source": [
    "df2 = pd.read_csv('./data/data3.csv')\n",
    "df2['Persona']=df2['Persona'].replace([1,2,3,4],['persona1','persona2','persona3','persona4'])\n",
    "df2['ZONE']=df2['ZONE'].replace(['zone 2','zone 3','zone 4','zone 5','zone 6','zone 7','zone 8','zone 9'],\\\n",
    "    ['zone2','zone3','zone4','zone5','zone6','zone7','zone8','zone9'])\n",
    "zone1=df2[df2['ZONE']=='zone1']\n",
    "zone2=df2[df2['ZONE']=='zone2']\n",
    "zone3=df2[df2['ZONE']=='zone3']\n",
    "zone4=df2[df2['ZONE']=='zone4']\n",
    "zone5=df2[df2['ZONE']=='zone5']\n",
    "zone6=df2[df2['ZONE']=='zone6']\n",
    "zone7=df2[df2['ZONE']=='zone7']\n",
    "zone8=df2[df2['ZONE']=='zone8']\n",
    "zone9=df2[df2['ZONE']=='zone9']\n",
    "\n",
    "# import sys\n",
    "# mod = sys.modules[__name__]\n",
    "# for i in range(1,10):\n",
    "#     for j in range(1,5):\n",
    "#         setattr(mod,'p{j}_{i}'.format(j,i),'zone{i}[zone{i}[\\'Persona\\']==\\'persona{j}\\']]'.format(i,i,j))\n",
    "# print(p4_9)\n",
    "\n",
    "p1_1=zone1[zone1['Persona']=='persona1']\n",
    "p2_1=zone1[zone1['Persona']=='persona2']\n",
    "p3_1=zone1[zone1['Persona']=='persona3']\n",
    "p4_1=zone1[zone1['Persona']=='persona4']\n",
    "p1_2=zone2[zone2['Persona']=='persona1']\n",
    "p2_2=zone2[zone2['Persona']=='persona2']\n",
    "p3_2=zone2[zone2['Persona']=='persona3']\n",
    "p4_2=zone2[zone2['Persona']=='persona4']\n",
    "p1_3=zone3[zone3['Persona']=='persona1']\n",
    "p2_3=zone3[zone3['Persona']=='persona2']\n",
    "p3_3=zone3[zone3['Persona']=='persona3']\n",
    "p4_3=zone3[zone3['Persona']=='persona4']\n",
    "p1_4=zone4[zone4['Persona']=='persona1']\n",
    "p2_4=zone4[zone4['Persona']=='persona2']\n",
    "p3_4=zone4[zone4['Persona']=='persona3']\n",
    "p4_4=zone4[zone4['Persona']=='persona4']\n",
    "p1_5=zone5[zone5['Persona']=='persona1']\n",
    "p2_5=zone5[zone5['Persona']=='persona2']\n",
    "p3_5=zone5[zone5['Persona']=='persona3']\n",
    "p4_5=zone5[zone5['Persona']=='persona4']\n",
    "p1_6=zone6[zone6['Persona']=='persona1']\n",
    "p2_6=zone6[zone6['Persona']=='persona2']\n",
    "p3_6=zone6[zone6['Persona']=='persona3']\n",
    "p4_6=zone6[zone6['Persona']=='persona4']\n",
    "p1_7=zone7[zone7['Persona']=='persona1']\n",
    "p2_7=zone7[zone7['Persona']=='persona2']\n",
    "p3_7=zone7[zone7['Persona']=='persona3']\n",
    "p4_7=zone7[zone7['Persona']=='persona4']\n",
    "p1_8=zone8[zone8['Persona']=='persona1']\n",
    "p2_8=zone8[zone8['Persona']=='persona2']\n",
    "p3_8=zone8[zone8['Persona']=='persona3']\n",
    "p4_8=zone8[zone8['Persona']=='persona4']\n",
    "p1_9=zone9[zone9['Persona']=='persona1']\n",
    "p2_9=zone9[zone9['Persona']=='persona2']\n",
    "p3_9=zone9[zone9['Persona']=='persona3']\n",
    "p4_9=zone9[zone9['Persona']=='persona4']"
   ]
  },
  {
   "cell_type": "code",
   "execution_count": 268,
   "metadata": {},
   "outputs": [
    {
     "output_type": "display_data",
     "data": {
      "application/vnd.plotly.v1+json": {
       "config": {
        "plotlyServerURL": "https://plotly.com"
       },
       "data": [
        {
         "legendgroup": "group1",
         "marker": {
          "line": {
           "width": 2
          },
          "size": [
           1,
           2,
           1,
           1,
           1,
           1
          ],
          "sizemode": "area",
          "sizeref": 0.016
         },
         "mode": "markers",
         "name": "persona1",
         "type": "scatter",
         "x": [
          "being with/around friends",
          "finances",
          "future",
          "physical health",
          "quizzes/exams",
          "work"
         ],
         "xaxis": "x7",
         "y": [
          29,
          27,
          21,
          25,
          16,
          19
         ],
         "yaxis": "y7"
        },
        {
         "legendgroup": "group2",
         "marker": {
          "line": {
           "width": 2
          },
          "size": [
           1,
           1,
           1
          ],
          "sizemode": "area",
          "sizeref": 0.016
         },
         "mode": "markers",
         "name": "persona2",
         "type": "scatter",
         "x": [
          "class",
          "presentations",
          "projects"
         ],
         "xaxis": "x7",
         "y": [
          17,
          26,
          25
         ],
         "yaxis": "y7"
        },
        {
         "legendgroup": "group3",
         "marker": {
          "line": {
           "width": 2
          },
          "size": [
           1,
           1
          ],
          "sizemode": "area",
          "sizeref": 0.016
         },
         "mode": "markers",
         "name": "persona3",
         "type": "scatter",
         "x": [
          "homework",
          "presentations"
         ],
         "xaxis": "x7",
         "y": [
          16,
          26
         ],
         "yaxis": "y7"
        },
        {
         "legendgroup": "group4",
         "marker": {
          "line": {
           "width": 2
          },
          "size": [
           1,
           1,
           1,
           1,
           1,
           1,
           1
          ],
          "sizemode": "area",
          "sizeref": 0.016
         },
         "mode": "markers",
         "name": "persona4",
         "type": "scatter",
         "x": [
          "being vulnerable in therapy",
          "class",
          "finances",
          "future",
          "Internship",
          "lab",
          "presentations"
         ],
         "xaxis": "x7",
         "y": [
          20,
          19,
          29,
          18,
          17,
          28,
          23
         ],
         "yaxis": "y7"
        },
        {
         "legendgroup": "group1",
         "marker": {
          "line": {
           "width": 2
          },
          "size": [
           1,
           1,
           2,
           1
          ],
          "sizemode": "area",
          "sizeref": 0.016
         },
         "mode": "markers",
         "name": "",
         "showlegend": false,
         "type": "scatter",
         "x": [
          "planning",
          "projects",
          "quizzes/exams",
          "work"
         ],
         "xaxis": "x8",
         "y": [
          17,
          18,
          14,
          26
         ],
         "yaxis": "y8"
        },
        {
         "legendgroup": "group2",
         "marker": {
          "line": {
           "width": 2
          },
          "size": [
           1,
           1,
           1,
           1,
           2,
           1
          ],
          "sizemode": "area",
          "sizeref": 0.016
         },
         "mode": "markers",
         "name": "",
         "showlegend": false,
         "type": "scatter",
         "x": [
          "family",
          "health",
          "homework",
          "projects",
          "relationship",
          "workout"
         ],
         "xaxis": "x8",
         "y": [
          16,
          21,
          29,
          26,
          15,
          12
         ],
         "yaxis": "y8"
        },
        {
         "legendgroup": "group3",
         "marker": {
          "line": {
           "width": 2
          },
          "size": [
           1,
           1,
           1
          ],
          "sizemode": "area",
          "sizeref": 0.016
         },
         "mode": "markers",
         "name": "",
         "showlegend": false,
         "type": "scatter",
         "x": [
          "going to church",
          "optional programs",
          "projects"
         ],
         "xaxis": "x8",
         "y": [
          15,
          21,
          19
         ],
         "yaxis": "y8"
        },
        {
         "legendgroup": "group4",
         "marker": {
          "line": {
           "width": 2
          },
          "size": [
           1,
           1,
           1
          ],
          "sizemode": "area",
          "sizeref": 0.016
         },
         "mode": "markers",
         "name": "",
         "showlegend": false,
         "type": "scatter",
         "x": [
          "presentations",
          "quizzes/exams",
          "work"
         ],
         "xaxis": "x8",
         "y": [
          18,
          27,
          16
         ],
         "yaxis": "y8"
        },
        {
         "legendgroup": "group1",
         "marker": {
          "line": {
           "width": 2
          },
          "size": [
           3,
           2,
           2,
           1,
           1,
           2,
           1,
           2,
           1
          ],
          "sizemode": "area",
          "sizeref": 0.016
         },
         "mode": "markers",
         "name": "",
         "showlegend": false,
         "type": "scatter",
         "x": [
          "health",
          "homework",
          "lectures",
          "planning",
          "presentations",
          "quizzes/exams",
          "relationship",
          "sleep",
          "work"
         ],
         "xaxis": "x9",
         "y": [
          27,
          28,
          20,
          19,
          12,
          14,
          21,
          25,
          15
         ],
         "yaxis": "y9"
        },
        {
         "legendgroup": "group2",
         "marker": {
          "line": {
           "width": 2
          },
          "size": [
           1,
           1,
           1,
           1,
           1,
           1
          ],
          "sizemode": "area",
          "sizeref": 0.016
         },
         "mode": "markers",
         "name": "persona2",
         "showlegend": false,
         "type": "scatter",
         "x": [
          "homework",
          "hygiene",
          "planning",
          "relationship",
          "sleep",
          "writing papers"
         ],
         "xaxis": "x9",
         "y": [
          28,
          18,
          16,
          26,
          24,
          13
         ],
         "yaxis": "y9"
        },
        {
         "legendgroup": "group3",
         "marker": {
          "line": {
           "width": 2
          },
          "size": [
           1,
           1,
           1,
           1
          ],
          "sizemode": "area",
          "sizeref": 0.016
         },
         "mode": "markers",
         "name": "persona3",
         "showlegend": false,
         "type": "scatter",
         "x": [
          "group work",
          "homework",
          "quizzes/exams",
          "sleep"
         ],
         "xaxis": "x9",
         "y": [
          24,
          22,
          13,
          12
         ],
         "yaxis": "y9"
        },
        {
         "legendgroup": "group4",
         "marker": {
          "line": {
           "width": 2
          },
          "size": [
           1,
           4,
           1,
           1
          ],
          "sizemode": "area",
          "sizeref": 0.016
         },
         "mode": "markers",
         "name": "persona4",
         "showlegend": false,
         "type": "scatter",
         "x": [
          "developing accessible hobbies",
          "homework",
          "hygiene",
          "presentations"
         ],
         "xaxis": "x9",
         "y": [
          23,
          19,
          13,
          24
         ],
         "yaxis": "y9"
        },
        {
         "legendgroup": "group1",
         "marker": {
          "line": {
           "width": 2
          },
          "size": [
           1,
           1,
           1,
           1,
           1,
           2
          ],
          "sizemode": "area",
          "sizeref": 0.016
         },
         "mode": "markers",
         "name": "",
         "showlegend": false,
         "type": "scatter",
         "x": [
          "health",
          "housing",
          "internship",
          "midterms/finals",
          "optional academic programs",
          "presentations"
         ],
         "xaxis": "x4",
         "y": [
          17,
          21,
          27,
          29,
          14,
          16
         ],
         "yaxis": "y4"
        },
        {
         "legendgroup": "group2",
         "marker": {
          "line": {
           "width": 2
          },
          "size": [
           1,
           2,
           1,
           1,
           1
          ],
          "sizemode": "area",
          "sizeref": 0.016
         },
         "mode": "markers",
         "name": "",
         "showlegend": false,
         "type": "scatter",
         "x": [
          "GPA",
          "presentations",
          "scholarship",
          "socializing",
          "study abroad"
         ],
         "xaxis": "x4",
         "y": [
          23,
          12,
          17,
          19,
          26
         ],
         "yaxis": "y4"
        },
        {
         "legendgroup": "group3",
         "marker": {
          "line": {
           "width": 2
          },
          "size": [
           1,
           1,
           1
          ],
          "sizemode": "area",
          "sizeref": 0.016
         },
         "mode": "markers",
         "name": "",
         "showlegend": false,
         "type": "scatter",
         "x": [
          "class",
          "internship",
          "socializing"
         ],
         "xaxis": "x4",
         "y": [
          15,
          25,
          27
         ],
         "yaxis": "y4"
        },
        {
         "legendgroup": "group4",
         "marker": {
          "line": {
           "width": 2
          },
          "size": [
           1,
           1,
           1,
           1,
           1,
           1,
           1,
           1,
           1
          ],
          "sizemode": "area",
          "sizeref": 0.016
         },
         "mode": "markers",
         "name": "",
         "showlegend": false,
         "type": "scatter",
         "x": [
          "class",
          "Family",
          "midterms/finals",
          "projects",
          "quizzes/exams",
          "Resident Advising",
          "scholarship",
          "when I feel like I don’t have time",
          "writing papers"
         ],
         "xaxis": "x4",
         "y": [
          22,
          21,
          16,
          29,
          28,
          24,
          13,
          18,
          26
         ],
         "yaxis": "y4"
        },
        {
         "legendgroup": "group1",
         "marker": {
          "line": {
           "width": 2
          },
          "size": [
           1,
           1,
           1,
           1,
           1,
           2,
           1,
           1,
           1,
           2,
           1,
           1
          ],
          "sizemode": "area",
          "sizeref": 0.016
         },
         "mode": "markers",
         "name": "",
         "showlegend": false,
         "type": "scatter",
         "x": [
          "family",
          "health ",
          "internships",
          "job and career",
          "lab",
          "midterms/finals",
          "optional academic programs",
          "presentations",
          "projects",
          "quizzes/exams",
          "relationship",
          "study abroad"
         ],
         "xaxis": "x5",
         "y": [
          13,
          25,
          11,
          20,
          16,
          15,
          21,
          14,
          22,
          17,
          28,
          19
         ],
         "yaxis": "y5"
        },
        {
         "legendgroup": "group2",
         "marker": {
          "line": {
           "width": 2
          },
          "size": [
           1,
           1,
           1,
           4
          ],
          "sizemode": "area",
          "sizeref": 0.016
         },
         "mode": "markers",
         "name": "",
         "showlegend": false,
         "type": "scatter",
         "x": [
          "body image",
          "finances",
          "homework",
          "quizzes/exams"
         ],
         "xaxis": "x5",
         "y": [
          18,
          20,
          25,
          14
         ],
         "yaxis": "y5"
        },
        {
         "legendgroup": "group3",
         "marker": {
          "line": {
           "width": 2
          },
          "size": [
           1,
           1,
           1,
           1,
           2
          ],
          "sizemode": "area",
          "sizeref": 0.016
         },
         "mode": "markers",
         "name": "",
         "showlegend": false,
         "type": "scatter",
         "x": [
          "class",
          "family",
          "finances",
          "quizzes/exams",
          "relationship"
         ],
         "xaxis": "x5",
         "y": [
          29,
          13,
          28,
          17,
          14
         ],
         "yaxis": "y5"
        },
        {
         "legendgroup": "group4",
         "marker": {
          "line": {
           "width": 2
          },
          "size": [
           1,
           1,
           2,
           1,
           1,
           1
          ],
          "sizemode": "area",
          "sizeref": 0.016
         },
         "mode": "markers",
         "name": "",
         "showlegend": false,
         "type": "scatter",
         "x": [
          "future",
          "group work",
          "optional academic programs",
          "projects",
          "relationship",
          "socializing"
         ],
         "xaxis": "x5",
         "y": [
          26,
          17,
          13,
          27,
          10,
          21
         ],
         "yaxis": "y5"
        },
        {
         "legendgroup": "group1",
         "marker": {
          "line": {
           "width": 2
          },
          "size": [
           1,
           3,
           1,
           1,
           2,
           1
          ],
          "sizemode": "area",
          "sizeref": 0.016
         },
         "mode": "markers",
         "name": "",
         "showlegend": false,
         "type": "scatter",
         "x": [
          "class",
          "homework",
          "lectures",
          "physical health",
          "projects",
          "relationship"
         ],
         "xaxis": "x6",
         "y": [
          22,
          27,
          16,
          15,
          24,
          11
         ],
         "yaxis": "y6"
        },
        {
         "legendgroup": "group2",
         "marker": {
          "line": {
           "width": 2
          },
          "size": [
           1,
           2,
           1,
           2,
           2
          ],
          "sizemode": "area",
          "sizeref": 0.016
         },
         "mode": "markers",
         "name": "",
         "showlegend": false,
         "type": "scatter",
         "x": [
          "finance",
          "homework",
          "projects",
          "quizzes/exams",
          "work"
         ],
         "xaxis": "x6",
         "y": [
          14,
          15,
          18,
          25,
          29
         ],
         "yaxis": "y6"
        },
        {
         "legendgroup": "group3",
         "marker": {
          "line": {
           "width": 2
          },
          "size": [
           1,
           1,
           1,
           1,
           1
          ],
          "sizemode": "area",
          "sizeref": 0.016
         },
         "mode": "markers",
         "name": "",
         "showlegend": false,
         "type": "scatter",
         "x": [
          "future",
          "homework",
          "hygiene ",
          "presentations",
          "quizzes/exams"
         ],
         "xaxis": "x6",
         "y": [
          15,
          12,
          22,
          13,
          25
         ],
         "yaxis": "y6"
        },
        {
         "legendgroup": "group4",
         "marker": {
          "line": {
           "width": 2
          },
          "size": [
           1,
           1,
           1,
           1,
           1
          ],
          "sizemode": "area",
          "sizeref": 0.016
         },
         "mode": "markers",
         "name": "",
         "showlegend": false,
         "type": "scatter",
         "x": [
          "finance",
          "future",
          "lectures",
          "physical health",
          "work"
         ],
         "xaxis": "x6",
         "y": [
          22,
          12,
          15,
          24,
          27
         ],
         "yaxis": "y6"
        },
        {
         "legendgroup": "group1",
         "marker": {
          "line": {
           "width": 2
          },
          "size": [
           1,
           1,
           2,
           1,
           1,
           1
          ],
          "sizemode": "area",
          "sizeref": 0.016
         },
         "mode": "markers",
         "name": "",
         "showlegend": false,
         "type": "scatter",
         "x": [
          "future",
          "internship and job search ",
          "midterm/final",
          "presentations",
          "projects",
          "talking to teachers"
         ],
         "xaxis": "x",
         "y": [
          19,
          28,
          13,
          20,
          11,
          27
         ],
         "yaxis": "y"
        },
        {
         "legendgroup": "group2",
         "marker": {
          "line": {
           "width": 2
          },
          "size": [
           1,
           4,
           1,
           1,
           1
          ],
          "sizemode": "area",
          "sizeref": 0.016
         },
         "mode": "markers",
         "name": "",
         "showlegend": false,
         "type": "scatter",
         "x": [
          "GPA",
          "midterm/final",
          "projects",
          "quizzes/exams",
          "relationship"
         ],
         "xaxis": "x",
         "y": [
          25,
          24,
          21,
          29,
          10
         ],
         "yaxis": "y"
        },
        {
         "legendgroup": "group3",
         "marker": {
          "line": {
           "width": 2
          },
          "size": [
           1,
           2,
           1,
           1,
           1
          ],
          "sizemode": "area",
          "sizeref": 0.016
         },
         "mode": "markers",
         "name": "",
         "showlegend": false,
         "type": "scatter",
         "x": [
          "group work",
          "midterm/final",
          "physical health",
          "projects",
          "quizzes/exams"
         ],
         "xaxis": "x",
         "y": [
          17,
          29,
          12,
          24,
          20
         ],
         "yaxis": "y"
        },
        {
         "legendgroup": "group4",
         "marker": {
          "line": {
           "width": 2
          },
          "size": [
           1
          ],
          "sizemode": "area",
          "sizeref": 0.016
         },
         "mode": "markers",
         "name": "",
         "showlegend": false,
         "type": "scatter",
         "x": [
          "midterm/final"
         ],
         "xaxis": "x",
         "y": [
          15
         ],
         "yaxis": "y"
        },
        {
         "legendgroup": "group1",
         "marker": {
          "line": {
           "width": 2
          },
          "size": [
           1,
           2,
           1,
           1,
           3,
           2,
           3
          ],
          "sizemode": "area",
          "sizeref": 0.016
         },
         "mode": "markers",
         "name": "",
         "showlegend": false,
         "type": "scatter",
         "x": [
          "body image",
          "future",
          "GPA",
          "mean classmates",
          "midterms/finals",
          "projects",
          "quizzes/exams"
         ],
         "xaxis": "x2",
         "y": [
          15,
          12,
          21,
          13,
          16,
          26,
          20
         ],
         "yaxis": "y2"
        },
        {
         "legendgroup": "group2",
         "marker": {
          "line": {
           "width": 2
          },
          "size": [
           1,
           1,
           2
          ],
          "sizemode": "area",
          "sizeref": 0.016
         },
         "mode": "markers",
         "name": "",
         "showlegend": false,
         "type": "scatter",
         "x": [
          "health",
          "homework",
          "midterms/finals"
         ],
         "xaxis": "x2",
         "y": [
          10,
          14,
          25
         ],
         "yaxis": "y2"
        },
        {
         "legendgroup": "group3",
         "marker": {
          "line": {
           "width": 2
          },
          "size": [
           1,
           1,
           1,
           1
          ],
          "sizemode": "area",
          "sizeref": 0.016
         },
         "mode": "markers",
         "name": "",
         "showlegend": false,
         "type": "scatter",
         "x": [
          "finances",
          "midterms/finals",
          "projects",
          "quizzes/exams"
         ],
         "xaxis": "x2",
         "y": [
          11,
          28,
          18,
          25
         ],
         "yaxis": "y2"
        },
        {
         "legendgroup": "group4",
         "marker": {
          "line": {
           "width": 2
          },
          "size": [
           1,
           1
          ],
          "sizemode": "area",
          "sizeref": 0.016
         },
         "mode": "markers",
         "name": "",
         "showlegend": false,
         "type": "scatter",
         "x": [
          "compounding stress",
          "mental health"
         ],
         "xaxis": "x2",
         "y": [
          24,
          15
         ],
         "yaxis": "y2"
        },
        {
         "legendgroup": "group1",
         "marker": {
          "line": {
           "width": 2
          },
          "size": [
           1,
           1,
           1,
           2,
           2,
           1,
           1,
           1,
           1,
           1
          ],
          "sizemode": "area",
          "sizeref": 0.016
         },
         "mode": "markers",
         "name": "",
         "showlegend": false,
         "type": "scatter",
         "x": [
          "class",
          "family",
          "finances",
          "future",
          "group projects",
          "health",
          "homework",
          "planning",
          "projects",
          "socializing"
         ],
         "xaxis": "x",
         "y": [
          13,
          16,
          18,
          26,
          17,
          15,
          21,
          10,
          29,
          24
         ],
         "yaxis": "y"
        },
        {
         "legendgroup": "group2",
         "marker": {
          "line": {
           "width": 2
          },
          "size": [
           1,
           1,
           1,
           1,
           1,
           1
          ],
          "sizemode": "area",
          "sizeref": 0.016
         },
         "mode": "markers",
         "name": "",
         "showlegend": false,
         "type": "scatter",
         "x": [
          "future",
          "health",
          "homework",
          "loss of parents",
          "mental health",
          "quizzes/exams"
         ],
         "xaxis": "x3",
         "y": [
          10,
          18,
          16,
          27,
          15,
          28
         ],
         "yaxis": "y3"
        },
        {
         "legendgroup": "group3",
         "marker": {
          "line": {
           "width": 2
          },
          "size": [
           1,
           1,
           3,
           1,
           2,
           2,
           1,
           1
          ],
          "sizemode": "area",
          "sizeref": 0.016
         },
         "mode": "markers",
         "name": "",
         "showlegend": false,
         "type": "scatter",
         "x": [
          "class",
          "finances",
          "future",
          "group projects",
          "homework",
          "mental health",
          "relationships",
          "work"
         ],
         "xaxis": "x3",
         "y": [
          14,
          13,
          22,
          21,
          10,
          25,
          27,
          16
         ],
         "yaxis": "y3"
        },
        {
         "legendgroup": "group4",
         "marker": {
          "line": {
           "width": 2
          },
          "size": [
           1,
           1
          ],
          "sizemode": "area",
          "sizeref": 0.016
         },
         "mode": "markers",
         "name": "",
         "showlegend": false,
         "type": "scatter",
         "x": [
          "future",
          "relationships"
         ],
         "xaxis": "x3",
         "y": [
          18,
          13
         ],
         "yaxis": "y3"
        }
       ],
       "layout": {
        "paper_bgcolor": "rgb(243, 243, 243)",
        "plot_bgcolor": "rgb(243, 243, 243)",
        "template": {
         "data": {
          "bar": [
           {
            "error_x": {
             "color": "#2a3f5f"
            },
            "error_y": {
             "color": "#2a3f5f"
            },
            "marker": {
             "line": {
              "color": "#E5ECF6",
              "width": 0.5
             }
            },
            "type": "bar"
           }
          ],
          "barpolar": [
           {
            "marker": {
             "line": {
              "color": "#E5ECF6",
              "width": 0.5
             }
            },
            "type": "barpolar"
           }
          ],
          "carpet": [
           {
            "aaxis": {
             "endlinecolor": "#2a3f5f",
             "gridcolor": "white",
             "linecolor": "white",
             "minorgridcolor": "white",
             "startlinecolor": "#2a3f5f"
            },
            "baxis": {
             "endlinecolor": "#2a3f5f",
             "gridcolor": "white",
             "linecolor": "white",
             "minorgridcolor": "white",
             "startlinecolor": "#2a3f5f"
            },
            "type": "carpet"
           }
          ],
          "choropleth": [
           {
            "colorbar": {
             "outlinewidth": 0,
             "ticks": ""
            },
            "type": "choropleth"
           }
          ],
          "contour": [
           {
            "colorbar": {
             "outlinewidth": 0,
             "ticks": ""
            },
            "colorscale": [
             [
              0,
              "#0d0887"
             ],
             [
              0.1111111111111111,
              "#46039f"
             ],
             [
              0.2222222222222222,
              "#7201a8"
             ],
             [
              0.3333333333333333,
              "#9c179e"
             ],
             [
              0.4444444444444444,
              "#bd3786"
             ],
             [
              0.5555555555555556,
              "#d8576b"
             ],
             [
              0.6666666666666666,
              "#ed7953"
             ],
             [
              0.7777777777777778,
              "#fb9f3a"
             ],
             [
              0.8888888888888888,
              "#fdca26"
             ],
             [
              1,
              "#f0f921"
             ]
            ],
            "type": "contour"
           }
          ],
          "contourcarpet": [
           {
            "colorbar": {
             "outlinewidth": 0,
             "ticks": ""
            },
            "type": "contourcarpet"
           }
          ],
          "heatmap": [
           {
            "colorbar": {
             "outlinewidth": 0,
             "ticks": ""
            },
            "colorscale": [
             [
              0,
              "#0d0887"
             ],
             [
              0.1111111111111111,
              "#46039f"
             ],
             [
              0.2222222222222222,
              "#7201a8"
             ],
             [
              0.3333333333333333,
              "#9c179e"
             ],
             [
              0.4444444444444444,
              "#bd3786"
             ],
             [
              0.5555555555555556,
              "#d8576b"
             ],
             [
              0.6666666666666666,
              "#ed7953"
             ],
             [
              0.7777777777777778,
              "#fb9f3a"
             ],
             [
              0.8888888888888888,
              "#fdca26"
             ],
             [
              1,
              "#f0f921"
             ]
            ],
            "type": "heatmap"
           }
          ],
          "heatmapgl": [
           {
            "colorbar": {
             "outlinewidth": 0,
             "ticks": ""
            },
            "colorscale": [
             [
              0,
              "#0d0887"
             ],
             [
              0.1111111111111111,
              "#46039f"
             ],
             [
              0.2222222222222222,
              "#7201a8"
             ],
             [
              0.3333333333333333,
              "#9c179e"
             ],
             [
              0.4444444444444444,
              "#bd3786"
             ],
             [
              0.5555555555555556,
              "#d8576b"
             ],
             [
              0.6666666666666666,
              "#ed7953"
             ],
             [
              0.7777777777777778,
              "#fb9f3a"
             ],
             [
              0.8888888888888888,
              "#fdca26"
             ],
             [
              1,
              "#f0f921"
             ]
            ],
            "type": "heatmapgl"
           }
          ],
          "histogram": [
           {
            "marker": {
             "colorbar": {
              "outlinewidth": 0,
              "ticks": ""
             }
            },
            "type": "histogram"
           }
          ],
          "histogram2d": [
           {
            "colorbar": {
             "outlinewidth": 0,
             "ticks": ""
            },
            "colorscale": [
             [
              0,
              "#0d0887"
             ],
             [
              0.1111111111111111,
              "#46039f"
             ],
             [
              0.2222222222222222,
              "#7201a8"
             ],
             [
              0.3333333333333333,
              "#9c179e"
             ],
             [
              0.4444444444444444,
              "#bd3786"
             ],
             [
              0.5555555555555556,
              "#d8576b"
             ],
             [
              0.6666666666666666,
              "#ed7953"
             ],
             [
              0.7777777777777778,
              "#fb9f3a"
             ],
             [
              0.8888888888888888,
              "#fdca26"
             ],
             [
              1,
              "#f0f921"
             ]
            ],
            "type": "histogram2d"
           }
          ],
          "histogram2dcontour": [
           {
            "colorbar": {
             "outlinewidth": 0,
             "ticks": ""
            },
            "colorscale": [
             [
              0,
              "#0d0887"
             ],
             [
              0.1111111111111111,
              "#46039f"
             ],
             [
              0.2222222222222222,
              "#7201a8"
             ],
             [
              0.3333333333333333,
              "#9c179e"
             ],
             [
              0.4444444444444444,
              "#bd3786"
             ],
             [
              0.5555555555555556,
              "#d8576b"
             ],
             [
              0.6666666666666666,
              "#ed7953"
             ],
             [
              0.7777777777777778,
              "#fb9f3a"
             ],
             [
              0.8888888888888888,
              "#fdca26"
             ],
             [
              1,
              "#f0f921"
             ]
            ],
            "type": "histogram2dcontour"
           }
          ],
          "mesh3d": [
           {
            "colorbar": {
             "outlinewidth": 0,
             "ticks": ""
            },
            "type": "mesh3d"
           }
          ],
          "parcoords": [
           {
            "line": {
             "colorbar": {
              "outlinewidth": 0,
              "ticks": ""
             }
            },
            "type": "parcoords"
           }
          ],
          "pie": [
           {
            "automargin": true,
            "type": "pie"
           }
          ],
          "scatter": [
           {
            "marker": {
             "colorbar": {
              "outlinewidth": 0,
              "ticks": ""
             }
            },
            "type": "scatter"
           }
          ],
          "scatter3d": [
           {
            "line": {
             "colorbar": {
              "outlinewidth": 0,
              "ticks": ""
             }
            },
            "marker": {
             "colorbar": {
              "outlinewidth": 0,
              "ticks": ""
             }
            },
            "type": "scatter3d"
           }
          ],
          "scattercarpet": [
           {
            "marker": {
             "colorbar": {
              "outlinewidth": 0,
              "ticks": ""
             }
            },
            "type": "scattercarpet"
           }
          ],
          "scattergeo": [
           {
            "marker": {
             "colorbar": {
              "outlinewidth": 0,
              "ticks": ""
             }
            },
            "type": "scattergeo"
           }
          ],
          "scattergl": [
           {
            "marker": {
             "colorbar": {
              "outlinewidth": 0,
              "ticks": ""
             }
            },
            "type": "scattergl"
           }
          ],
          "scattermapbox": [
           {
            "marker": {
             "colorbar": {
              "outlinewidth": 0,
              "ticks": ""
             }
            },
            "type": "scattermapbox"
           }
          ],
          "scatterpolar": [
           {
            "marker": {
             "colorbar": {
              "outlinewidth": 0,
              "ticks": ""
             }
            },
            "type": "scatterpolar"
           }
          ],
          "scatterpolargl": [
           {
            "marker": {
             "colorbar": {
              "outlinewidth": 0,
              "ticks": ""
             }
            },
            "type": "scatterpolargl"
           }
          ],
          "scatterternary": [
           {
            "marker": {
             "colorbar": {
              "outlinewidth": 0,
              "ticks": ""
             }
            },
            "type": "scatterternary"
           }
          ],
          "surface": [
           {
            "colorbar": {
             "outlinewidth": 0,
             "ticks": ""
            },
            "colorscale": [
             [
              0,
              "#0d0887"
             ],
             [
              0.1111111111111111,
              "#46039f"
             ],
             [
              0.2222222222222222,
              "#7201a8"
             ],
             [
              0.3333333333333333,
              "#9c179e"
             ],
             [
              0.4444444444444444,
              "#bd3786"
             ],
             [
              0.5555555555555556,
              "#d8576b"
             ],
             [
              0.6666666666666666,
              "#ed7953"
             ],
             [
              0.7777777777777778,
              "#fb9f3a"
             ],
             [
              0.8888888888888888,
              "#fdca26"
             ],
             [
              1,
              "#f0f921"
             ]
            ],
            "type": "surface"
           }
          ],
          "table": [
           {
            "cells": {
             "fill": {
              "color": "#EBF0F8"
             },
             "line": {
              "color": "white"
             }
            },
            "header": {
             "fill": {
              "color": "#C8D4E3"
             },
             "line": {
              "color": "white"
             }
            },
            "type": "table"
           }
          ]
         },
         "layout": {
          "annotationdefaults": {
           "arrowcolor": "#2a3f5f",
           "arrowhead": 0,
           "arrowwidth": 1
          },
          "coloraxis": {
           "colorbar": {
            "outlinewidth": 0,
            "ticks": ""
           }
          },
          "colorscale": {
           "diverging": [
            [
             0,
             "#8e0152"
            ],
            [
             0.1,
             "#c51b7d"
            ],
            [
             0.2,
             "#de77ae"
            ],
            [
             0.3,
             "#f1b6da"
            ],
            [
             0.4,
             "#fde0ef"
            ],
            [
             0.5,
             "#f7f7f7"
            ],
            [
             0.6,
             "#e6f5d0"
            ],
            [
             0.7,
             "#b8e186"
            ],
            [
             0.8,
             "#7fbc41"
            ],
            [
             0.9,
             "#4d9221"
            ],
            [
             1,
             "#276419"
            ]
           ],
           "sequential": [
            [
             0,
             "#0d0887"
            ],
            [
             0.1111111111111111,
             "#46039f"
            ],
            [
             0.2222222222222222,
             "#7201a8"
            ],
            [
             0.3333333333333333,
             "#9c179e"
            ],
            [
             0.4444444444444444,
             "#bd3786"
            ],
            [
             0.5555555555555556,
             "#d8576b"
            ],
            [
             0.6666666666666666,
             "#ed7953"
            ],
            [
             0.7777777777777778,
             "#fb9f3a"
            ],
            [
             0.8888888888888888,
             "#fdca26"
            ],
            [
             1,
             "#f0f921"
            ]
           ],
           "sequentialminus": [
            [
             0,
             "#0d0887"
            ],
            [
             0.1111111111111111,
             "#46039f"
            ],
            [
             0.2222222222222222,
             "#7201a8"
            ],
            [
             0.3333333333333333,
             "#9c179e"
            ],
            [
             0.4444444444444444,
             "#bd3786"
            ],
            [
             0.5555555555555556,
             "#d8576b"
            ],
            [
             0.6666666666666666,
             "#ed7953"
            ],
            [
             0.7777777777777778,
             "#fb9f3a"
            ],
            [
             0.8888888888888888,
             "#fdca26"
            ],
            [
             1,
             "#f0f921"
            ]
           ]
          },
          "colorway": [
           "#636efa",
           "#EF553B",
           "#00cc96",
           "#ab63fa",
           "#FFA15A",
           "#19d3f3",
           "#FF6692",
           "#B6E880",
           "#FF97FF",
           "#FECB52"
          ],
          "font": {
           "color": "#2a3f5f"
          },
          "geo": {
           "bgcolor": "white",
           "lakecolor": "white",
           "landcolor": "#E5ECF6",
           "showlakes": true,
           "showland": true,
           "subunitcolor": "white"
          },
          "hoverlabel": {
           "align": "left"
          },
          "hovermode": "closest",
          "mapbox": {
           "style": "light"
          },
          "paper_bgcolor": "white",
          "plot_bgcolor": "#E5ECF6",
          "polar": {
           "angularaxis": {
            "gridcolor": "white",
            "linecolor": "white",
            "ticks": ""
           },
           "bgcolor": "#E5ECF6",
           "radialaxis": {
            "gridcolor": "white",
            "linecolor": "white",
            "ticks": ""
           }
          },
          "scene": {
           "xaxis": {
            "backgroundcolor": "#E5ECF6",
            "gridcolor": "white",
            "gridwidth": 2,
            "linecolor": "white",
            "showbackground": true,
            "ticks": "",
            "zerolinecolor": "white"
           },
           "yaxis": {
            "backgroundcolor": "#E5ECF6",
            "gridcolor": "white",
            "gridwidth": 2,
            "linecolor": "white",
            "showbackground": true,
            "ticks": "",
            "zerolinecolor": "white"
           },
           "zaxis": {
            "backgroundcolor": "#E5ECF6",
            "gridcolor": "white",
            "gridwidth": 2,
            "linecolor": "white",
            "showbackground": true,
            "ticks": "",
            "zerolinecolor": "white"
           }
          },
          "shapedefaults": {
           "line": {
            "color": "#2a3f5f"
           }
          },
          "ternary": {
           "aaxis": {
            "gridcolor": "white",
            "linecolor": "white",
            "ticks": ""
           },
           "baxis": {
            "gridcolor": "white",
            "linecolor": "white",
            "ticks": ""
           },
           "bgcolor": "#E5ECF6",
           "caxis": {
            "gridcolor": "white",
            "linecolor": "white",
            "ticks": ""
           }
          },
          "title": {
           "x": 0.05
          },
          "xaxis": {
           "automargin": true,
           "gridcolor": "white",
           "linecolor": "white",
           "ticks": "",
           "title": {
            "standoff": 15
           },
           "zerolinecolor": "white",
           "zerolinewidth": 2
          },
          "yaxis": {
           "automargin": true,
           "gridcolor": "white",
           "linecolor": "white",
           "ticks": "",
           "title": {
            "standoff": 15
           },
           "zerolinecolor": "white",
           "zerolinewidth": 2
          }
         }
        },
        "title": {
         "text": "serverity and indensity"
        },
        "xaxis": {
         "anchor": "y",
         "domain": [
          0,
          0.2888888888888889
         ],
         "showticklabels": false,
         "visible": true
        },
        "xaxis2": {
         "anchor": "y2",
         "domain": [
          0.35555555555555557,
          0.6444444444444445
         ],
         "showticklabels": false,
         "visible": true
        },
        "xaxis3": {
         "anchor": "y3",
         "domain": [
          0.7111111111111111,
          1
         ],
         "showticklabels": false,
         "visible": true
        },
        "xaxis4": {
         "anchor": "y4",
         "domain": [
          0,
          0.2888888888888889
         ],
         "showticklabels": false,
         "visible": true
        },
        "xaxis5": {
         "anchor": "y5",
         "domain": [
          0.35555555555555557,
          0.6444444444444445
         ],
         "showticklabels": false,
         "visible": true
        },
        "xaxis6": {
         "anchor": "y6",
         "domain": [
          0.7111111111111111,
          1
         ],
         "showticklabels": false,
         "visible": true
        },
        "xaxis7": {
         "anchor": "y7",
         "domain": [
          0,
          0.2888888888888889
         ],
         "linecolor": "black",
         "linewidth": 1,
         "showline": true,
         "showticklabels": false,
         "title": {
          "text": "Seldom"
         },
         "visible": true
        },
        "xaxis8": {
         "anchor": "y8",
         "domain": [
          0.35555555555555557,
          0.6444444444444445
         ],
         "linecolor": "black",
         "linewidth": 1,
         "showline": true,
         "showticklabels": false,
         "title": {
          "text": "Sometimes"
         },
         "visible": true
        },
        "xaxis9": {
         "anchor": "y9",
         "domain": [
          0.7111111111111111,
          1
         ],
         "linecolor": "black",
         "linewidth": 1,
         "showline": true,
         "showticklabels": false,
         "title": {
          "text": "Often"
         },
         "visible": true
        },
        "yaxis": {
         "anchor": "x",
         "domain": [
          0.7333333333333333,
          1
         ],
         "linecolor": "black",
         "linewidth": 1,
         "showline": true,
         "showticklabels": false,
         "title": {
          "text": "High"
         },
         "visible": true
        },
        "yaxis2": {
         "anchor": "x2",
         "domain": [
          0.7333333333333333,
          1
         ],
         "showticklabels": false,
         "visible": true
        },
        "yaxis3": {
         "anchor": "x3",
         "domain": [
          0.7333333333333333,
          1
         ],
         "showticklabels": false,
         "visible": true
        },
        "yaxis4": {
         "anchor": "x4",
         "domain": [
          0.36666666666666664,
          0.6333333333333333
         ],
         "linecolor": "black",
         "linewidth": 1,
         "showline": true,
         "showticklabels": false,
         "title": {
          "text": "Moderate"
         },
         "visible": true
        },
        "yaxis5": {
         "anchor": "x5",
         "domain": [
          0.36666666666666664,
          0.6333333333333333
         ],
         "showticklabels": false,
         "visible": true
        },
        "yaxis6": {
         "anchor": "x6",
         "domain": [
          0.36666666666666664,
          0.6333333333333333
         ],
         "showticklabels": false,
         "visible": true
        },
        "yaxis7": {
         "anchor": "x7",
         "domain": [
          0,
          0.26666666666666666
         ],
         "linecolor": "black",
         "linewidth": 1,
         "showline": true,
         "showticklabels": false,
         "title": {
          "text": "Low"
         },
         "visible": true
        },
        "yaxis8": {
         "anchor": "x8",
         "domain": [
          0,
          0.26666666666666666
         ],
         "showticklabels": false,
         "visible": true
        },
        "yaxis9": {
         "anchor": "x9",
         "domain": [
          0,
          0.26666666666666666
         ],
         "showticklabels": false,
         "visible": true
        }
       }
      }
     },
     "metadata": {}
    }
   ],
   "source": [
    "from plotly.subplots import make_subplots\n",
    "import random\n",
    "fig = make_subplots(rows=3, cols=3)\n",
    "\n",
    "    \n",
    "#zone 1\n",
    "fig.add_trace(go.Scatter(\n",
    "                x=p1_1['Item'],y=random.sample(range(10, 30), len(p1_1)),name='persona1',\n",
    "                marker_size=p1_1['Weight'],legendgroup='group1',\n",
    "                 ),row=3,col=1)\n",
    "\n",
    "fig.add_trace(go.Scatter(\n",
    "                x=p2_1['Item'],name='persona2',y=random.sample(range(10, 30), len(p2_1)),\n",
    "                marker_size=p2_1['Weight'],legendgroup='group2'),row=3,col=1)\n",
    "fig.add_trace(go.Scatter(\n",
    "                x=p3_1['Item'],name='persona3',y=random.sample(range(10, 30), len(p3_1)),\n",
    "                marker_size=p3_1['Weight'],legendgroup='group3'),row=3,col=1)\n",
    "fig.add_trace(go.Scatter(\n",
    "                x=p4_1['Item'],name='persona4',y=random.sample(range(10, 30), len(p4_1)),\n",
    "                marker_size=p4_1['Weight'],legendgroup='group4'),row=3,col=1)\n",
    "#zone 2\n",
    "\n",
    "fig.add_trace(go.Scatter(\n",
    "                x=p1_2['Item'],name='',legendgroup='group1',y=random.sample(range(10, 30), len(p1_2)),\n",
    "                marker_size=p1_2['Weight'],showlegend=False),row=3,col=2)\n",
    "fig.add_trace(go.Scatter(\n",
    "                x=p2_2['Item'],name='',y=random.sample(range(10, 30), len(p2_2)),\n",
    "                marker_size=p2_2['Weight'],legendgroup='group2',showlegend=False),row=3,col=2)\n",
    "fig.add_trace(go.Scatter(\n",
    "                x=p3_2['Item'],name='',y=random.sample(range(10, 30), len(p3_2)),\n",
    "                marker_size=p3_2['Weight'],legendgroup='group3',showlegend=False),row=3,col=2)\n",
    "fig.add_trace(go.Scatter(\n",
    "                x=p4_2['Item'],name='',y=random.sample(range(10, 30), len(p4_2)),\n",
    "                marker_size=p4_2['Weight'],legendgroup='group4',showlegend=False),row=3,col=2)\n",
    "#zone 3\n",
    "\n",
    "fig.add_trace(go.Scatter(\n",
    "                x=p1_3['Item'],name='',legendgroup='group1',y=random.sample(range(10, 30), len(p1_3)),\n",
    "                marker_size=p1_3['Weight'],showlegend=False),row=3,col=3)\n",
    "fig.add_trace(go.Scatter(\n",
    "                x=p2_3['Item'],name='persona2',y=random.sample(range(10, 30), len(p2_3)),\n",
    "                marker_size=p2_3['Weight'],legendgroup='group2',showlegend=False),row=3,col=3)\n",
    "fig.add_trace(go.Scatter(\n",
    "                x=p3_3['Item'],name='persona3',y=random.sample(range(10, 30), len(p3_3)),\n",
    "                marker_size=p3_3['Weight'],legendgroup='group3',showlegend=False),row=3,col=3)\n",
    "fig.add_trace(go.Scatter(\n",
    "                x=p4_3['Item'],name='persona4',y=random.sample(range(10, 30), len(p4_3)),\n",
    "                marker_size=p4_3['Weight'],legendgroup='group4',showlegend=False),row=3,col=3)\n",
    "#zone 4\n",
    "fig.add_trace(go.Scatter(\n",
    "                x=p1_4['Item'],name='',legendgroup='group1',y=random.sample(range(10, 30), len(p1_4)),\n",
    "                marker_size=p1_4['Weight'],showlegend=False),row=2,col=1)\n",
    "fig.add_trace(go.Scatter(\n",
    "                x=p2_4['Item'],name='',y=random.sample(range(10, 30), len(p2_4)),\n",
    "                marker_size=p2_4['Weight'],legendgroup='group2',showlegend=False),row=2,col=1)\n",
    "fig.add_trace(go.Scatter(\n",
    "                x=p3_4['Item'],name='',y=random.sample(range(10, 30), len(p3_4)),\n",
    "                marker_size=p3_4['Weight'],legendgroup='group3',showlegend=False),row=2,col=1)\n",
    "fig.add_trace(go.Scatter(\n",
    "                x=p4_4['Item'],name='',y=random.sample(range(10, 30), len(p4_4)),\n",
    "                marker_size=p4_4['Weight'],legendgroup='group4',showlegend=False),row=2,col=1)\n",
    "\n",
    "\n",
    "#zone 5\n",
    "\n",
    "fig.add_trace(go.Scatter(\n",
    "                x=p1_5['Item'],name='',legendgroup='group1',y=random.sample(range(10, 30), len(p1_5)),\n",
    "                marker_size=p1_5['Weight'],showlegend=False),row=2,col=2)\n",
    "fig.add_trace(go.Scatter(\n",
    "                x=p2_5['Item'],name='',y=random.sample(range(10, 30), len(p2_5)),\n",
    "                marker_size=p2_5['Weight'],legendgroup='group2',showlegend=False),row=2,col=2)\n",
    "fig.add_trace(go.Scatter(\n",
    "                x=p3_5['Item'],name='',y=random.sample(range(10, 30), len(p3_5)),\n",
    "                marker_size=p3_5['Weight'],legendgroup='group3',showlegend=False),row=2,col=2)\n",
    "fig.add_trace(go.Scatter(\n",
    "                x=p4_5['Item'],name='',y=random.sample(range(10, 30), len(p4_5)),\n",
    "                marker_size=p4_5['Weight'],legendgroup='group4',showlegend=False),row=2,col=2)\n",
    "\n",
    "#zone 6\n",
    "\n",
    "fig.add_trace(go.Scatter(\n",
    "                x=p1_6['Item'],name='',legendgroup='group1',y=random.sample(range(10, 30), len(p1_6)),\n",
    "                marker_size=p1_6['Weight'],showlegend=False),row=2,col=3)\n",
    "fig.add_trace(go.Scatter(\n",
    "                x=p2_6['Item'],name='',y=random.sample(range(10, 30), len(p2_6)),\n",
    "                marker_size=p2_6['Weight'],legendgroup='group2',showlegend=False),row=2,col=3)\n",
    "fig.add_trace(go.Scatter(\n",
    "                x=p3_6['Item'],name='',y=random.sample(range(10, 30), len(p3_6)),\n",
    "                marker_size=p3_6['Weight'],legendgroup='group3',showlegend=False),row=2,col=3)\n",
    "fig.add_trace(go.Scatter(\n",
    "                x=p4_6['Item'],name='',y=random.sample(range(10, 30), len(p4_6)),\n",
    "                marker_size=p4_6['Weight'],legendgroup='group4',showlegend=False),row=2,col=3)\n",
    "\n",
    "#zone 7\n",
    "\n",
    "fig.add_trace(go.Scatter(\n",
    "                x=p1_7['Item'],name='',legendgroup='group1',y=random.sample(range(10, 30), len(p1_7)),\n",
    "                marker_size=p1_7['Weight'],showlegend=False),row=1,col=1)\n",
    "fig.add_trace(go.Scatter(\n",
    "                x=p2_7['Item'],name='',y=random.sample(range(10, 30), len(p2_7)),\n",
    "                marker_size=p2_7['Weight'],legendgroup='group2',showlegend=False),row=1,col=1)\n",
    "fig.add_trace(go.Scatter(\n",
    "                x=p3_7['Item'],name='',y=random.sample(range(10, 30), len(p3_7)),\n",
    "                marker_size=p3_7['Weight'],legendgroup='group3',showlegend=False),row=1,col=1)\n",
    "fig.add_trace(go.Scatter(\n",
    "                x=p4_7['Item'],name='',y=random.sample(range(10, 30), len(p4_7)),\n",
    "                marker_size=p4_7['Weight'],legendgroup='group4',showlegend=False),row=1,col=1)\n",
    "#zone 8\n",
    "\n",
    "fig.add_trace(go.Scatter(\n",
    "                x=p1_8['Item'],name='',legendgroup='group1',y=random.sample(range(10, 30), len(p1_8)),\n",
    "                marker_size=p1_8['Weight'],showlegend=False),row=1,col=2)\n",
    "fig.add_trace(go.Scatter(\n",
    "                x=p2_8['Item'],name='',y=random.sample(range(10, 30), len(p2_8)),\n",
    "                marker_size=p2_8['Weight'],legendgroup='group2',showlegend=False),row=1,col=2)\n",
    "fig.add_trace(go.Scatter(\n",
    "                x=p3_8['Item'],name='',y=random.sample(range(10, 30), len(p3_8)),\n",
    "                marker_size=p3_8['Weight'],legendgroup='group3',showlegend=False),row=1,col=2)\n",
    "fig.add_trace(go.Scatter(\n",
    "                x=p4_8['Item'],name='',y=random.sample(range(10, 30), len(p4_8)),\n",
    "                marker_size=p4_8['Weight'],legendgroup='group4',showlegend=False),row=1,col=2)\n",
    "#zone 9\n",
    "\n",
    "fig.add_trace(go.Scatter(\n",
    "                x=p1_9['Item'],name='',legendgroup='group1',y=random.sample(range(10, 30), len(p1_9)),\n",
    "                marker_size=p1_9['Weight'],showlegend=False),row=1,col=1)\n",
    "fig.add_trace(go.Scatter(\n",
    "                x=p2_9['Item'],name='',y=random.sample(range(10, 30), len(p2_9)),\n",
    "                marker_size=p2_9['Weight'],legendgroup='group2',showlegend=False),row=1,col=3)\n",
    "fig.add_trace(go.Scatter(\n",
    "                x=p3_9['Item'],name='',y=random.sample(range(10, 30), len(p3_9)),\n",
    "                marker_size=p3_9['Weight'],legendgroup='group3',showlegend=False),row=1,col=3)\n",
    "fig.add_trace(go.Scatter(\n",
    "                x=p4_9['Item'],name='',y=random.sample(range(10, 30), len(p4_9)),\n",
    "                marker_size=p4_9['Weight'],legendgroup='group4',showlegend=False),row=1,col=3)\n",
    "\n",
    "sizeref =  2.*80/(100**2)\n",
    "\n",
    "fig.update_traces(mode='markers', marker=dict(sizemode='area',\n",
    "                                              sizeref=sizeref, line_width=2))\n",
    "fig.update_yaxes(visible=True, showticklabels=False)\n",
    "fig.update_xaxes(visible=True, showticklabels=False)\n",
    "# fig.update_xaxes(visible=True,showticklabels=False, row=3,col=1)\n",
    "# fig.update_yaxes(visible=True,showticklabels=False, row=3,col=1)\n",
    "fig['layout']['xaxis7']['title']='Seldom'\n",
    "fig['layout']['xaxis8']['title']='Sometimes'\n",
    "fig['layout']['xaxis9']['title']='Often'\n",
    "fig['layout']['yaxis1']['title']='High'\n",
    "fig['layout']['yaxis4']['title']='Moderate'\n",
    "fig['layout']['yaxis7']['title']='Low'\n",
    "fig.update_xaxes(showline=True, linewidth=1, linecolor='black', row=3, col=1)\n",
    "fig.update_yaxes(showline=True, linewidth=1, linecolor='black', row=1, col=1)\n",
    "fig.update_xaxes(showline=True, linewidth=1, linecolor='black', row=3, col=2)\n",
    "fig.update_yaxes(showline=True, linewidth=1, linecolor='black', row=2, col=1)\n",
    "fig.update_xaxes(showline=True, linewidth=1, linecolor='black', row=3, col=3)\n",
    "fig.update_yaxes(showline=True, linewidth=1, linecolor='black', row=3, col=1)\n",
    "\n",
    "fig.update_layout(\n",
    "    title='serverity and indensity',\n",
    "    paper_bgcolor='rgb(243, 243, 243)',\n",
    "    plot_bgcolor='rgb(243, 243, 243)',\n",
    ")\n",
    "\n",
    "fig.show()"
   ]
  },
  {
   "cell_type": "code",
   "execution_count": 322,
   "metadata": {
    "tags": []
   },
   "outputs": [
    {
     "output_type": "display_data",
     "data": {
      "application/vnd.plotly.v1+json": {
       "config": {
        "plotlyServerURL": "https://plotly.com"
       },
       "data": [
        {
         "branchvalues": "total",
         "customdata": [
          [
           "Type I:high stress"
          ],
          [
           "Type IV:low stress"
          ],
          [
           "Type III:late peak"
          ],
          [
           "Type III:late peak"
          ],
          [
           "Type III:late peak"
          ],
          [
           "Type II:early peak"
          ],
          [
           "Type II:early peak"
          ],
          [
           "Type II:early peak"
          ],
          [
           "Type I:high stress"
          ],
          [
           "Type I:high stress"
          ],
          [
           "Type IV:low stress"
          ],
          [
           "Type I:high stress"
          ],
          [
           "Type IV:low stress"
          ],
          [
           "Type IV:low stress"
          ],
          [
           "Type III:late peak"
          ],
          [
           "Type III:late peak"
          ],
          [
           "Type III:late peak"
          ],
          [
           "Type II:early peak"
          ],
          [
           "Type II:early peak"
          ],
          [
           "Type II:early peak"
          ],
          [
           "Type I:high stress"
          ],
          [
           "Type IV:low stress"
          ],
          [
           "Type I:high stress"
          ],
          [
           "Type I:high stress"
          ],
          [
           "Type I:high stress"
          ],
          [
           "Type IV:low stress"
          ],
          [
           "Type IV:low stress"
          ],
          [
           "Type IV:low stress"
          ],
          [
           "Type III:late peak"
          ],
          [
           "Type III:late peak"
          ],
          [
           "Type III:late peak"
          ],
          [
           "Type II:early peak"
          ],
          [
           "Type II:early peak"
          ],
          [
           "Type II:early peak"
          ],
          [
           "Type I:high stress"
          ],
          [
           "Type I:high stress"
          ],
          [
           "Type I:high stress"
          ],
          [
           "Type IV:low stress"
          ],
          [
           "Type IV:low stress"
          ],
          [
           "Type IV:low stress"
          ],
          [
           "Type III:late peak"
          ],
          [
           "Type III:late peak"
          ],
          [
           "Type III:late peak"
          ],
          [
           "Type II:early peak"
          ],
          [
           "Type II:early peak"
          ],
          [
           "Type II:early peak"
          ],
          [
           "Type I:high stress"
          ],
          [
           "Type I:high stress"
          ],
          [
           "Type IV:low stress"
          ],
          [
           "Type IV:low stress"
          ],
          [
           "Type IV:low stress"
          ],
          [
           "Type III:late peak"
          ],
          [
           "Type III:late peak"
          ],
          [
           "Type III:late peak"
          ],
          [
           "Type II:early peak"
          ],
          [
           "Type II:early peak"
          ],
          [
           "Type II:early peak"
          ],
          [
           "Type I:high stress"
          ],
          [
           "Type I:high stress"
          ],
          [
           "Type I:high stress"
          ],
          [
           "Type IV:low stress"
          ],
          [
           "Type IV:low stress"
          ],
          [
           "Type IV:low stress"
          ],
          [
           "Type III:late peak"
          ],
          [
           "Type III:late peak"
          ],
          [
           "Type III:late peak"
          ],
          [
           "Type II:early peak"
          ],
          [
           "Type II:early peak"
          ],
          [
           "Type II:early peak"
          ],
          [
           "Type I:high stress"
          ],
          [
           "Type IV:low stress"
          ],
          [
           "Type IV:low stress"
          ],
          [
           "Type IV:low stress"
          ],
          [
           "Type I:high stress"
          ],
          [
           "Type II:early peak"
          ],
          [
           "Type IV:low stress"
          ],
          [
           "Type III:late peak"
          ],
          [
           "Type III:late peak"
          ],
          [
           "Type III:late peak"
          ],
          [
           "Type II:early peak"
          ],
          [
           "Type II:early peak"
          ],
          [
           "Type I:high stress"
          ],
          [
           "Type I:high stress"
          ],
          [
           "Type I:high stress"
          ],
          [
           "Type IV:low stress"
          ],
          [
           "Type I:high stress"
          ],
          [
           "Type IV:low stress"
          ],
          [
           "Type III:late peak"
          ],
          [
           "Type III:late peak"
          ],
          [
           "Type III:late peak"
          ],
          [
           "Type II:early peak"
          ],
          [
           "Type II:early peak"
          ],
          [
           "Type II:early peak"
          ],
          [
           "Type I:high stress"
          ],
          [
           "Type I:high stress"
          ],
          [
           "Type IV:low stress"
          ],
          [
           "Type II:early peak"
          ],
          [
           "Type I:high stress"
          ],
          [
           "Type II:early peak"
          ],
          [
           "Type II:early peak"
          ],
          [
           "Type I:high stress"
          ],
          [
           "Type III:late peak"
          ],
          [
           "Type III:late peak"
          ],
          [
           "Type IV:low stress"
          ],
          [
           "Type III:late peak"
          ],
          [
           "Type I:high stress"
          ],
          [
           "Type I:high stress"
          ],
          [
           "Type IV:low stress"
          ],
          [
           "Type IV:low stress"
          ],
          [
           "Type IV:low stress"
          ],
          [
           "Type III:late peak"
          ],
          [
           "Type III:late peak"
          ],
          [
           "Type III:late peak"
          ],
          [
           "Type II:early peak"
          ],
          [
           "Type II:early peak"
          ],
          [
           "Type II:early peak"
          ],
          [
           "Type IV:low stress"
          ],
          [
           "Type I:high stress"
          ],
          [
           "Type IV:low stress"
          ],
          [
           "Type IV:low stress"
          ],
          [
           "Type I:high stress"
          ],
          [
           "Type IV:low stress"
          ],
          [
           "Type IV:low stress"
          ],
          [
           "Type III:late peak"
          ],
          [
           "Type III:late peak"
          ],
          [
           "Type III:late peak"
          ],
          [
           "Type II:early peak"
          ],
          [
           "Type II:early peak"
          ],
          [
           "Type II:early peak"
          ],
          [
           "Type I:high stress"
          ],
          [
           "Type I:high stress"
          ],
          [
           "Type I:high stress"
          ],
          [
           "Type IV:low stress"
          ],
          [
           "Type IV:low stress"
          ],
          [
           "Type III:late peak"
          ],
          [
           "Type III:late peak"
          ],
          [
           "Type III:late peak"
          ],
          [
           "Type II:early peak"
          ],
          [
           "Type II:early peak"
          ],
          [
           "Type II:early peak"
          ],
          [
           "Type I:high stress"
          ],
          [
           "Type I:high stress"
          ],
          [
           "Type I:high stress"
          ],
          [
           "Type IV:low stress"
          ],
          [
           "Type IV:low stress"
          ],
          [
           "Type III:late peak"
          ],
          [
           "Type III:late peak"
          ],
          [
           "Type III:late peak"
          ],
          [
           "Type II:early peak"
          ],
          [
           "Type II:early peak"
          ],
          [
           "Type II:early peak"
          ],
          [
           "Type I:high stress"
          ],
          [
           "Type I:high stress"
          ],
          [
           "Type IV:low stress"
          ],
          [
           "Type IV:low stress"
          ],
          [
           "Type IV:low stress"
          ],
          [
           "Type IV:low stress"
          ],
          [
           "Type III:late peak"
          ],
          [
           "Type III:late peak"
          ],
          [
           "Type III:late peak"
          ],
          [
           "Type II:early peak"
          ],
          [
           "Type II:early peak"
          ],
          [
           "Type II:early peak"
          ],
          [
           "Type I:high stress"
          ],
          [
           "Type I:high stress"
          ],
          [
           "Type I:high stress"
          ],
          [
           "Type IV:low stress"
          ],
          [
           "Type IV:low stress"
          ],
          [
           "Type I:high stress"
          ],
          [
           "Type I:high stress"
          ],
          [
           "Type IV:low stress"
          ],
          [
           "Type IV:low stress"
          ],
          [
           "Type III:late peak"
          ],
          [
           "Type III:late peak"
          ],
          [
           "Type III:late peak"
          ],
          [
           "Type II:early peak"
          ],
          [
           "Type II:early peak"
          ],
          [
           "Type I:high stress"
          ],
          [
           "Type I:high stress"
          ],
          [
           "Type I:high stress"
          ],
          [
           "Type II:early peak"
          ],
          [
           "Type IV:low stress"
          ],
          [
           "Type IV:low stress"
          ],
          [
           "Type I:high stress"
          ],
          [
           "Type II:early peak"
          ],
          [
           "Type II:early peak"
          ],
          [
           "Type II:early peak"
          ],
          [
           "Type I:high stress"
          ],
          [
           "Type III:late peak"
          ],
          [
           "Type III:late peak"
          ],
          [
           "Type IV:low stress"
          ],
          [
           "Type III:late peak"
          ],
          [
           "Type I:high stress"
          ],
          [
           "Type IV:low stress"
          ],
          [
           "Type IV:low stress"
          ],
          [
           "Type III:late peak"
          ],
          [
           "Type III:late peak"
          ],
          [
           "Type III:late peak"
          ],
          [
           "Type II:early peak"
          ],
          [
           "Type II:early peak"
          ],
          [
           "Type II:early peak"
          ],
          [
           "Type I:high stress"
          ],
          [
           "Type I:high stress"
          ],
          [
           "Type IV:low stress"
          ],
          [
           "Type IV:low stress"
          ],
          [
           "Type IV:low stress"
          ],
          [
           "Type III:late peak"
          ],
          [
           "Type III:late peak"
          ],
          [
           "Type III:late peak"
          ],
          [
           "Type II:early peak"
          ],
          [
           "Type II:early peak"
          ],
          [
           "Type II:early peak"
          ],
          [
           "Type I:high stress"
          ],
          [
           "Type I:high stress"
          ],
          [
           "Type IV:low stress"
          ],
          [
           "Type I:high stress"
          ],
          [
           "Type I:high stress"
          ],
          [
           "Type IV:low stress"
          ],
          [
           "Type IV:low stress"
          ],
          [
           "Type III:late peak"
          ],
          [
           "Type III:late peak"
          ],
          [
           "Type III:late peak"
          ],
          [
           "Type II:early peak"
          ],
          [
           "Type II:early peak"
          ],
          [
           "Type II:early peak"
          ],
          [
           "Type I:high stress"
          ],
          [
           "Type I:high stress"
          ],
          [
           "Type I:high stress"
          ],
          [
           "Type IV:low stress"
          ],
          [
           "Type IV:low stress"
          ],
          [
           "Type IV:low stress"
          ],
          [
           "Type III:late peak"
          ],
          [
           "Type III:late peak"
          ],
          [
           "Type III:late peak"
          ],
          [
           "Type II:early peak"
          ],
          [
           "Type II:early peak"
          ],
          [
           "Type II:early peak"
          ],
          [
           "Type I:high stress"
          ],
          [
           "Type I:high stress"
          ],
          [
           "Type IV:low stress"
          ],
          [
           "Type IV:low stress"
          ],
          [
           "Type III:late peak"
          ],
          [
           "Type III:late peak"
          ],
          [
           "Type III:late peak"
          ],
          [
           "Type II:early peak"
          ],
          [
           "Type II:early peak"
          ],
          [
           "Type II:early peak"
          ],
          [
           "Type I:high stress"
          ],
          [
           "Type I:high stress"
          ],
          [
           "Type IV:low stress"
          ],
          [
           "Type IV:low stress"
          ],
          [
           "Type IV:low stress"
          ],
          [
           "Type IV:low stress"
          ],
          [
           "Type III:late peak"
          ],
          [
           "Type III:late peak"
          ],
          [
           "Type III:late peak"
          ],
          [
           "Type II:early peak"
          ],
          [
           "Type II:early peak"
          ],
          [
           "Type II:early peak"
          ],
          [
           "Type I:high stress"
          ],
          [
           "Type I:high stress"
          ],
          [
           "Type I:high stress"
          ],
          [
           "Type IV:low stress"
          ],
          [
           "Type IV:low stress"
          ],
          [
           "Type I:high stress"
          ],
          [
           "Type I:high stress"
          ],
          [
           "Type IV:low stress"
          ],
          [
           "Type IV:low stress"
          ],
          [
           "Type III:late peak"
          ],
          [
           "Type III:late peak"
          ],
          [
           "Type III:late peak"
          ],
          [
           "Type II:early peak"
          ],
          [
           "Type II:early peak"
          ],
          [
           "Type I:high stress"
          ],
          [
           "Type I:high stress"
          ],
          [
           "Type I:high stress"
          ],
          [
           "Type II:early peak"
          ],
          [
           "Type IV:low stress"
          ],
          [
           "Type IV:low stress"
          ],
          [
           "Type I:high stress"
          ],
          [
           "Type II:early peak"
          ],
          [
           "Type II:early peak"
          ],
          [
           "Type II:early peak"
          ],
          [
           "Type I:high stress"
          ],
          [
           "Type III:late peak"
          ],
          [
           "Type III:late peak"
          ],
          [
           "Type IV:low stress"
          ],
          [
           "Type III:late peak"
          ],
          [
           "Type I:high stress"
          ],
          [
           "Type IV:low stress"
          ],
          [
           "Type III:late peak"
          ],
          [
           "Type III:late peak"
          ],
          [
           "Type III:late peak"
          ],
          [
           "Type II:early peak"
          ],
          [
           "Type II:early peak"
          ],
          [
           "Type II:early peak"
          ],
          [
           "Type I:high stress"
          ],
          [
           "Type I:high stress"
          ],
          [
           "Type I:high stress"
          ],
          [
           "Type IV:low stress"
          ],
          [
           "Type IV:low stress"
          ],
          [
           "Type III:late peak"
          ],
          [
           "Type III:late peak"
          ],
          [
           "Type III:late peak"
          ],
          [
           "Type II:early peak"
          ],
          [
           "Type II:early peak"
          ],
          [
           "Type II:early peak"
          ],
          [
           "Type I:high stress"
          ],
          [
           "Type IV:low stress"
          ],
          [
           "Type IV:low stress"
          ],
          [
           "Type IV:low stress"
          ],
          [
           "Type I:high stress"
          ],
          [
           "Type I:high stress"
          ],
          [
           "Type III:late peak"
          ],
          [
           "Type III:late peak"
          ],
          [
           "Type III:late peak"
          ],
          [
           "Type II:early peak"
          ],
          [
           "Type II:early peak"
          ],
          [
           "Type II:early peak"
          ],
          [
           "Type I:high stress"
          ],
          [
           "Type I:high stress"
          ],
          [
           "Type I:high stress"
          ],
          [
           "Type IV:low stress"
          ],
          [
           "Type IV:low stress"
          ],
          [
           "Type IV:low stress"
          ],
          [
           "Type III:late peak"
          ],
          [
           "Type III:late peak"
          ],
          [
           "Type III:late peak"
          ],
          [
           "Type II:early peak"
          ],
          [
           "Type II:early peak"
          ],
          [
           "Type II:early peak"
          ],
          [
           "Type I:high stress"
          ],
          [
           "Type I:high stress"
          ],
          [
           "Type IV:low stress"
          ],
          [
           "Type IV:low stress"
          ],
          [
           "Type IV:low stress"
          ],
          [
           "Type IV:low stress"
          ],
          [
           "Type III:late peak"
          ],
          [
           "Type II:early peak"
          ],
          [
           "Type II:early peak"
          ],
          [
           "Type II:early peak"
          ],
          [
           "Type I:high stress"
          ],
          [
           "Type I:high stress"
          ],
          [
           "Type I:high stress"
          ],
          [
           "Type IV:low stress"
          ],
          [
           "Type IV:low stress"
          ],
          [
           "Type III:late peak"
          ],
          [
           "Type IV:low stress"
          ],
          [
           "Type III:late peak"
          ],
          [
           "Type III:late peak"
          ],
          [
           "Type II:early peak"
          ],
          [
           "Type II:early peak"
          ],
          [
           "Type II:early peak"
          ],
          [
           "Type I:high stress"
          ],
          [
           "Type I:high stress"
          ],
          [
           "Type I:high stress"
          ],
          [
           "Type IV:low stress"
          ],
          [
           "Type III:late peak"
          ],
          [
           "Type III:late peak"
          ],
          [
           "Type IV:low stress"
          ],
          [
           "Type IV:low stress"
          ],
          [
           "Type III:late peak"
          ],
          [
           "Type III:late peak"
          ],
          [
           "Type III:late peak"
          ],
          [
           "Type II:early peak"
          ],
          [
           "Type II:early peak"
          ],
          [
           "Type II:early peak"
          ],
          [
           "Type I:high stress"
          ],
          [
           "Type I:high stress"
          ],
          [
           "Type I:high stress"
          ],
          [
           "Type IV:low stress"
          ],
          [
           "Type IV:low stress"
          ],
          [
           "Type IV:low stress"
          ],
          [
           "Type III:late peak"
          ],
          [
           "Type III:late peak"
          ],
          [
           "Type III:late peak"
          ],
          [
           "Type II:early peak"
          ],
          [
           "Type II:early peak"
          ],
          [
           "Type II:early peak"
          ],
          [
           "Type I:high stress"
          ],
          [
           "Type I:high stress"
          ],
          [
           "Type I:high stress"
          ],
          [
           "Type IV:low stress"
          ],
          [
           "Type IV:low stress"
          ],
          [
           "Type I:high stress"
          ],
          [
           "Type I:high stress"
          ],
          [
           "Type I:high stress"
          ],
          [
           "Type II:early peak"
          ],
          [
           "Type II:early peak"
          ],
          [
           "Type II:early peak"
          ],
          [
           "Type III:late peak"
          ],
          [
           "Type III:late peak"
          ],
          [
           "Type III:late peak"
          ],
          [
           "Type IV:low stress"
          ],
          [
           "Type IV:low stress"
          ],
          [
           "Type IV:low stress"
          ],
          [
           "(?)"
          ],
          [
           "(?)"
          ],
          [
           "(?)"
          ],
          [
           "(?)"
          ]
         ],
         "domain": {
          "x": [
           0,
           1
          ],
          "y": [
           0,
           1
          ]
         },
         "hovertemplate": "%{label}<br>%{value} votes from  %{parent}<extra></extra>",
         "ids": [
          "All types/<i>Not working!</i>/Type I:high stress/cooking",
          "All types/<i>Not working!</i>/Type IV:low stress/eating junk food",
          "All types/<i>Works for me!</i>/Type III:late peak/eating junk food",
          "All types/<i>Willing to try!</i>/Type III:late peak/eating junk food",
          "All types/<i>Not working!</i>/Type III:late peak/eating junk food",
          "All types/<i>Works for me!</i>/Type II:early peak/eating junk food",
          "All types/<i>Willing to try!</i>/Type II:early peak/eating junk food",
          "All types/<i>Not working!</i>/Type II:early peak/eating junk food",
          "All types/<i>Works for me!</i>/Type I:high stress/eating junk food",
          "All types/<i>Willing to try!</i>/Type I:high stress/eating junk food",
          "All types/<i>Willing to try!</i>/Type IV:low stress/eating junk food",
          "All types/<i>Not working!</i>/Type I:high stress/eating junk food",
          "All types/<i>Willing to try!</i>/Type IV:low stress/eating",
          "All types/<i>Not working!</i>/Type IV:low stress/eating",
          "All types/<i>Works for me!</i>/Type III:late peak/eating",
          "All types/<i>Willing to try!</i>/Type III:late peak/eating",
          "All types/<i>Not working!</i>/Type III:late peak/eating",
          "All types/<i>Works for me!</i>/Type II:early peak/eating",
          "All types/<i>Willing to try!</i>/Type II:early peak/eating",
          "All types/<i>Not working!</i>/Type II:early peak/eating",
          "All types/<i>Works for me!</i>/Type I:high stress/eating",
          "All types/<i>Works for me!</i>/Type IV:low stress/eating",
          "All types/<i>Not working!</i>/Type I:high stress/gardening",
          "All types/<i>Willing to try!</i>/Type I:high stress/gardening",
          "All types/<i>Works for me!</i>/Type I:high stress/gardening",
          "All types/<i>Works for me!</i>/Type IV:low stress/going to the gym",
          "All types/<i>Willing to try!</i>/Type IV:low stress/going to the gym",
          "All types/<i>Not working!</i>/Type IV:low stress/going to the gym",
          "All types/<i>Works for me!</i>/Type III:late peak/going to the gym",
          "All types/<i>Willing to try!</i>/Type III:late peak/going to the gym",
          "All types/<i>Not working!</i>/Type III:late peak/going to the gym",
          "All types/<i>Works for me!</i>/Type II:early peak/going to the gym",
          "All types/<i>Willing to try!</i>/Type II:early peak/going to the gym",
          "All types/<i>Not working!</i>/Type II:early peak/going to the gym",
          "All types/<i>Works for me!</i>/Type I:high stress/going to the gym",
          "All types/<i>Willing to try!</i>/Type I:high stress/going to the gym",
          "All types/<i>Not working!</i>/Type I:high stress/going to the gym",
          "All types/<i>Works for me!</i>/Type IV:low stress/gardening",
          "All types/<i>Willing to try!</i>/Type IV:low stress/gardening",
          "All types/<i>Not working!</i>/Type IV:low stress/gardening",
          "All types/<i>Works for me!</i>/Type III:late peak/gardening",
          "All types/<i>Willing to try!</i>/Type III:late peak/gardening",
          "All types/<i>Not working!</i>/Type III:late peak/gardening",
          "All types/<i>Works for me!</i>/Type II:early peak/gardening",
          "All types/<i>Willing to try!</i>/Type II:early peak/gardening",
          "All types/<i>Not working!</i>/Type II:early peak/gardening",
          "All types/<i>Willing to try!</i>/Type I:high stress/eating",
          "All types/<i>Not working!</i>/Type I:high stress/eating",
          "All types/<i>Works for me!</i>/Type IV:low stress/eating junk food",
          "All types/<i>Willing to try!</i>/Type IV:low stress/drinking alcohol",
          "All types/<i>Not working!</i>/Type IV:low stress/crying",
          "All types/<i>Works for me!</i>/Type III:late peak/crying",
          "All types/<i>Willing to try!</i>/Type III:late peak/crying",
          "All types/<i>Not working!</i>/Type III:late peak/crying",
          "All types/<i>Works for me!</i>/Type II:early peak/crying",
          "All types/<i>Willing to try!</i>/Type II:early peak/crying",
          "All types/<i>Not working!</i>/Type II:early peak/crying",
          "All types/<i>Works for me!</i>/Type I:high stress/crying",
          "All types/<i>Willing to try!</i>/Type I:high stress/crying",
          "All types/<i>Not working!</i>/Type I:high stress/crying",
          "All types/<i>Works for me!</i>/Type IV:low stress/cooking",
          "All types/<i>Willing to try!</i>/Type IV:low stress/cooking",
          "All types/<i>Not working!</i>/Type IV:low stress/cooking",
          "All types/<i>Works for me!</i>/Type III:late peak/cooking",
          "All types/<i>Willing to try!</i>/Type III:late peak/cooking",
          "All types/<i>Not working!</i>/Type III:late peak/cooking",
          "All types/<i>Works for me!</i>/Type II:early peak/cooking",
          "All types/<i>Willing to try!</i>/Type II:early peak/cooking",
          "All types/<i>Not working!</i>/Type II:early peak/cooking",
          "All types/<i>Works for me!</i>/Type I:high stress/cooking",
          "All types/<i>Works for me!</i>/Type IV:low stress/drinking alcohol",
          "All types/<i>Willing to try!</i>/Type IV:low stress/crying",
          "All types/<i>Works for me!</i>/Type IV:low stress/crying",
          "All types/<i>Willing to try!</i>/Type I:high stress/cooking",
          "All types/<i>Not working!</i>/Type II:early peak/drinking alcohol",
          "All types/<i>Not working!</i>/Type IV:low stress/drinking alcohol",
          "All types/<i>Works for me!</i>/Type III:late peak/drinking alcohol",
          "All types/<i>Willing to try!</i>/Type III:late peak/drinking alcohol",
          "All types/<i>Not working!</i>/Type III:late peak/drinking alcohol",
          "All types/<i>Works for me!</i>/Type II:early peak/drinking alcohol",
          "All types/<i>Willing to try!</i>/Type II:early peak/drinking alcohol",
          "All types/<i>Not working!</i>/Type I:high stress/drawing",
          "All types/<i>Works for me!</i>/Type I:high stress/drinking alcohol",
          "All types/<i>Willing to try!</i>/Type I:high stress/drinking alcohol",
          "All types/<i>Works for me!</i>/Type IV:low stress/drawing",
          "All types/<i>Not working!</i>/Type I:high stress/drinking alcohol",
          "All types/<i>Not working!</i>/Type IV:low stress/drawing",
          "All types/<i>Works for me!</i>/Type III:late peak/drawing",
          "All types/<i>Willing to try!</i>/Type III:late peak/drawing",
          "All types/<i>Not working!</i>/Type III:late peak/drawing",
          "All types/<i>Works for me!</i>/Type II:early peak/drawing",
          "All types/<i>Willing to try!</i>/Type II:early peak/drawing",
          "All types/<i>Not working!</i>/Type II:early peak/drawing",
          "All types/<i>Works for me!</i>/Type I:high stress/drawing",
          "All types/<i>Willing to try!</i>/Type I:high stress/drawing",
          "All types/<i>Willing to try!</i>/Type IV:low stress/drawing",
          "All types/<i>Willing to try!</i>/Type II:early peak/meditation",
          "All types/<i>Works for me!</i>/Type I:high stress/meditation",
          "All types/<i>Not working!</i>/Type II:early peak/meditation",
          "All types/<i>Works for me!</i>/Type II:early peak/meditation",
          "All types/<i>Willing to try!</i>/Type I:high stress/listening to music",
          "All types/<i>Willing to try!</i>/Type III:late peak/meditation",
          "All types/<i>Works for me!</i>/Type III:late peak/meditation",
          "All types/<i>Not working!</i>/Type IV:low stress/meditation",
          "All types/<i>Not working!</i>/Type III:late peak/meditation",
          "All types/<i>Willing to try!</i>/Type I:high stress/meditation",
          "All types/<i>Works for me!</i>/Type I:high stress/listening to music",
          "All types/<i>Works for me!</i>/Type IV:low stress/listening to music",
          "All types/<i>Willing to try!</i>/Type IV:low stress/listening to music",
          "All types/<i>Not working!</i>/Type IV:low stress/listening to music",
          "All types/<i>Works for me!</i>/Type III:late peak/listening to music",
          "All types/<i>Willing to try!</i>/Type III:late peak/listening to music",
          "All types/<i>Not working!</i>/Type III:late peak/listening to music",
          "All types/<i>Works for me!</i>/Type II:early peak/listening to music",
          "All types/<i>Willing to try!</i>/Type II:early peak/listening to music",
          "All types/<i>Not working!</i>/Type II:early peak/listening to music",
          "All types/<i>Willing to try!</i>/Type IV:low stress/meditation",
          "All types/<i>Not working!</i>/Type I:high stress/meditation",
          "All types/<i>Works for me!</i>/Type IV:low stress/meditation",
          "All types/<i>Willing to try!</i>/Type IV:low stress/outdoor activities",
          "All types/<i>Willing to try!</i>/Type I:high stress/outdoor activities",
          "All types/<i>Willing to try!</i>/Type IV:low stress/planning",
          "All types/<i>Not working!</i>/Type IV:low stress/planning",
          "All types/<i>Works for me!</i>/Type III:late peak/planning",
          "All types/<i>Willing to try!</i>/Type III:late peak/planning",
          "All types/<i>Not working!</i>/Type III:late peak/planning",
          "All types/<i>Works for me!</i>/Type II:early peak/planning",
          "All types/<i>Willing to try!</i>/Type II:early peak/planning",
          "All types/<i>Not working!</i>/Type II:early peak/planning",
          "All types/<i>Works for me!</i>/Type I:high stress/planning",
          "All types/<i>Not working!</i>/Type I:high stress/outdoor activities",
          "All types/<i>Willing to try!</i>/Type I:high stress/planning",
          "All types/<i>Works for me!</i>/Type IV:low stress/outdoor activities",
          "All types/<i>Not working!</i>/Type IV:low stress/outdoor activities",
          "All types/<i>Works for me!</i>/Type III:late peak/outdoor activities",
          "All types/<i>Willing to try!</i>/Type III:late peak/outdoor activities",
          "All types/<i>Not working!</i>/Type III:late peak/outdoor activities",
          "All types/<i>Works for me!</i>/Type II:early peak/outdoor activities",
          "All types/<i>Willing to try!</i>/Type II:early peak/outdoor activities",
          "All types/<i>Not working!</i>/Type II:early peak/outdoor activities",
          "All types/<i>Works for me!</i>/Type I:high stress/outdoor activities",
          "All types/<i>Not working!</i>/Type I:high stress/planning",
          "All types/<i>Not working!</i>/Type I:high stress/listening to music",
          "All types/<i>Works for me!</i>/Type IV:low stress/planning",
          "All types/<i>Willing to try!</i>/Type IV:low stress/learning a new skill",
          "All types/<i>Works for me!</i>/Type III:late peak/hanging out with friends",
          "All types/<i>Willing to try!</i>/Type III:late peak/hanging out with friends",
          "All types/<i>Not working!</i>/Type III:late peak/hanging out with friends",
          "All types/<i>Works for me!</i>/Type II:early peak/hanging out with friends",
          "All types/<i>Willing to try!</i>/Type II:early peak/hanging out with friends",
          "All types/<i>Not working!</i>/Type II:early peak/hanging out with friends",
          "All types/<i>Works for me!</i>/Type I:high stress/hanging out with friends",
          "All types/<i>Willing to try!</i>/Type I:high stress/hanging out with friends",
          "All types/<i>Works for me!</i>/Type IV:low stress/learning a new skill",
          "All types/<i>Works for me!</i>/Type IV:low stress/hanging out with family members ",
          "All types/<i>Willing to try!</i>/Type IV:low stress/hanging out with family members ",
          "All types/<i>Not working!</i>/Type IV:low stress/hanging out with family members ",
          "All types/<i>Works for me!</i>/Type III:late peak/hanging out with family members ",
          "All types/<i>Willing to try!</i>/Type III:late peak/hanging out with family members ",
          "All types/<i>Not working!</i>/Type III:late peak/hanging out with family members ",
          "All types/<i>Works for me!</i>/Type II:early peak/hanging out with family members ",
          "All types/<i>Willing to try!</i>/Type II:early peak/hanging out with family members ",
          "All types/<i>Not working!</i>/Type II:early peak/hanging out with family members ",
          "All types/<i>Works for me!</i>/Type I:high stress/hanging out with family members ",
          "All types/<i>Willing to try!</i>/Type I:high stress/hanging out with family members ",
          "All types/<i>Not working!</i>/Type I:high stress/hanging out with family members ",
          "All types/<i>Not working!</i>/Type IV:low stress/hanging out with friends",
          "All types/<i>Willing to try!</i>/Type IV:low stress/hanging out with friends",
          "All types/<i>Not working!</i>/Type I:high stress/hanging out with friends",
          "All types/<i>Not working!</i>/Type I:high stress/journaling",
          "All types/<i>Works for me!</i>/Type IV:low stress/hanging out with friends",
          "All types/<i>Not working!</i>/Type IV:low stress/learning a new skill",
          "All types/<i>Works for me!</i>/Type III:late peak/learning a new skill",
          "All types/<i>Willing to try!</i>/Type III:late peak/learning a new skill",
          "All types/<i>Not working!</i>/Type III:late peak/learning a new skill",
          "All types/<i>Works for me!</i>/Type II:early peak/learning a new skill",
          "All types/<i>Not working!</i>/Type II:early peak/learning a new skill",
          "All types/<i>Works for me!</i>/Type I:high stress/learning a new skill",
          "All types/<i>Willing to try!</i>/Type I:high stress/learning a new skill",
          "All types/<i>Not working!</i>/Type I:high stress/learning a new skill",
          "All types/<i>Willing to try!</i>/Type II:early peak/learning a new skill",
          "All types/<i>Willing to try!</i>/Type IV:low stress/journaling",
          "All types/<i>Works for me!</i>/Type IV:low stress/journaling",
          "All types/<i>Works for me!</i>/Type I:high stress/journaling",
          "All types/<i>Not working!</i>/Type II:early peak/journaling",
          "All types/<i>Willing to try!</i>/Type II:early peak/journaling",
          "All types/<i>Works for me!</i>/Type II:early peak/journaling",
          "All types/<i>Willing to try!</i>/Type I:high stress/journaling",
          "All types/<i>Willing to try!</i>/Type III:late peak/journaling",
          "All types/<i>Works for me!</i>/Type III:late peak/journaling",
          "All types/<i>Not working!</i>/Type IV:low stress/journaling",
          "All types/<i>Not working!</i>/Type III:late peak/journaling",
          "All types/<i>Works for me!</i>/Type I:high stress/running",
          "All types/<i>Willing to try!</i>/Type IV:low stress/running",
          "All types/<i>Not working!</i>/Type IV:low stress/running",
          "All types/<i>Works for me!</i>/Type III:late peak/running",
          "All types/<i>Willing to try!</i>/Type III:late peak/running",
          "All types/<i>Not working!</i>/Type III:late peak/running",
          "All types/<i>Works for me!</i>/Type II:early peak/running",
          "All types/<i>Willing to try!</i>/Type II:early peak/running",
          "All types/<i>Not working!</i>/Type II:early peak/running",
          "All types/<i>Willing to try!</i>/Type I:high stress/running",
          "All types/<i>Works for me!</i>/Type I:high stress/reading/thinking affirmations",
          "All types/<i>Works for me!</i>/Type IV:low stress/reading/thinking affirmations",
          "All types/<i>Willing to try!</i>/Type IV:low stress/reading/thinking affirmations",
          "All types/<i>Not working!</i>/Type IV:low stress/reading/thinking affirmations",
          "All types/<i>Works for me!</i>/Type III:late peak/reading/thinking affirmations",
          "All types/<i>Willing to try!</i>/Type III:late peak/reading/thinking affirmations",
          "All types/<i>Not working!</i>/Type III:late peak/reading/thinking affirmations",
          "All types/<i>Works for me!</i>/Type II:early peak/reading/thinking affirmations",
          "All types/<i>Willing to try!</i>/Type II:early peak/reading/thinking affirmations",
          "All types/<i>Not working!</i>/Type II:early peak/reading/thinking affirmations",
          "All types/<i>Not working!</i>/Type I:high stress/running",
          "All types/<i>Not working!</i>/Type I:high stress/shopping/window shopping",
          "All types/<i>Works for me!</i>/Type IV:low stress/sleeping",
          "All types/<i>Works for me!</i>/Type I:high stress/shopping/window shopping",
          "All types/<i>Willing to try!</i>/Type I:high stress/reading/thinking affirmations",
          "All types/<i>Willing to try!</i>/Type IV:low stress/sleeping",
          "All types/<i>Not working!</i>/Type IV:low stress/sleeping",
          "All types/<i>Works for me!</i>/Type III:late peak/sleeping",
          "All types/<i>Willing to try!</i>/Type III:late peak/sleeping",
          "All types/<i>Not working!</i>/Type III:late peak/sleeping",
          "All types/<i>Works for me!</i>/Type II:early peak/sleeping",
          "All types/<i>Willing to try!</i>/Type II:early peak/sleeping",
          "All types/<i>Not working!</i>/Type II:early peak/sleeping",
          "All types/<i>Works for me!</i>/Type I:high stress/sleeping",
          "All types/<i>Willing to try!</i>/Type I:high stress/sleeping",
          "All types/<i>Not working!</i>/Type I:high stress/sleeping",
          "All types/<i>Works for me!</i>/Type IV:low stress/shopping/window shopping",
          "All types/<i>Willing to try!</i>/Type IV:low stress/shopping/window shopping",
          "All types/<i>Not working!</i>/Type IV:low stress/shopping/window shopping",
          "All types/<i>Works for me!</i>/Type III:late peak/shopping/window shopping",
          "All types/<i>Willing to try!</i>/Type III:late peak/shopping/window shopping",
          "All types/<i>Not working!</i>/Type III:late peak/shopping/window shopping",
          "All types/<i>Works for me!</i>/Type II:early peak/shopping/window shopping",
          "All types/<i>Willing to try!</i>/Type II:early peak/shopping/window shopping",
          "All types/<i>Not working!</i>/Type II:early peak/shopping/window shopping",
          "All types/<i>Willing to try!</i>/Type I:high stress/shopping/window shopping",
          "All types/<i>Not working!</i>/Type I:high stress/reading/thinking affirmations",
          "All types/<i>Works for me!</i>/Type IV:low stress/running",
          "All types/<i>Willing to try!</i>/Type IV:low stress/reading books",
          "All types/<i>Works for me!</i>/Type III:late peak/playing video games",
          "All types/<i>Willing to try!</i>/Type III:late peak/playing video games",
          "All types/<i>Not working!</i>/Type III:late peak/playing video games",
          "All types/<i>Works for me!</i>/Type II:early peak/playing video games",
          "All types/<i>Willing to try!</i>/Type II:early peak/playing video games",
          "All types/<i>Not working!</i>/Type II:early peak/playing video games",
          "All types/<i>Works for me!</i>/Type I:high stress/playing video games",
          "All types/<i>Willing to try!</i>/Type I:high stress/playing video games",
          "All types/<i>Works for me!</i>/Type IV:low stress/reading books",
          "All types/<i>Works for me!</i>/Type IV:low stress/planning/going on trips",
          "All types/<i>Willing to try!</i>/Type IV:low stress/planning/going on trips",
          "All types/<i>Not working!</i>/Type IV:low stress/planning/going on trips",
          "All types/<i>Works for me!</i>/Type III:late peak/planning/going on trips",
          "All types/<i>Willing to try!</i>/Type III:late peak/planning/going on trips",
          "All types/<i>Not working!</i>/Type III:late peak/planning/going on trips",
          "All types/<i>Works for me!</i>/Type II:early peak/planning/going on trips",
          "All types/<i>Willing to try!</i>/Type II:early peak/planning/going on trips",
          "All types/<i>Not working!</i>/Type II:early peak/planning/going on trips",
          "All types/<i>Works for me!</i>/Type I:high stress/planning/going on trips",
          "All types/<i>Willing to try!</i>/Type I:high stress/planning/going on trips",
          "All types/<i>Not working!</i>/Type I:high stress/planning/going on trips",
          "All types/<i>Not working!</i>/Type IV:low stress/playing video games",
          "All types/<i>Willing to try!</i>/Type IV:low stress/playing video games",
          "All types/<i>Not working!</i>/Type I:high stress/playing video games",
          "All types/<i>Not working!</i>/Type I:high stress/reading a self-help book",
          "All types/<i>Works for me!</i>/Type IV:low stress/playing video games",
          "All types/<i>Not working!</i>/Type IV:low stress/reading books",
          "All types/<i>Works for me!</i>/Type III:late peak/reading books",
          "All types/<i>Willing to try!</i>/Type III:late peak/reading books",
          "All types/<i>Not working!</i>/Type III:late peak/reading books",
          "All types/<i>Works for me!</i>/Type II:early peak/reading books",
          "All types/<i>Not working!</i>/Type II:early peak/reading books",
          "All types/<i>Works for me!</i>/Type I:high stress/reading books",
          "All types/<i>Willing to try!</i>/Type I:high stress/reading books",
          "All types/<i>Not working!</i>/Type I:high stress/reading books",
          "All types/<i>Willing to try!</i>/Type II:early peak/reading books",
          "All types/<i>Willing to try!</i>/Type IV:low stress/reading a self-help book",
          "All types/<i>Works for me!</i>/Type IV:low stress/reading a self-help book",
          "All types/<i>Works for me!</i>/Type I:high stress/reading a self-help book",
          "All types/<i>Not working!</i>/Type II:early peak/reading a self-help book",
          "All types/<i>Willing to try!</i>/Type II:early peak/reading a self-help book",
          "All types/<i>Works for me!</i>/Type II:early peak/reading a self-help book",
          "All types/<i>Willing to try!</i>/Type I:high stress/reading a self-help book",
          "All types/<i>Willing to try!</i>/Type III:late peak/reading a self-help book",
          "All types/<i>Works for me!</i>/Type III:late peak/reading a self-help book",
          "All types/<i>Not working!</i>/Type IV:low stress/reading a self-help book",
          "All types/<i>Not working!</i>/Type III:late peak/reading a self-help book",
          "All types/<i>Willing to try!</i>/Type I:high stress/volunteering",
          "All types/<i>Not working!</i>/Type IV:low stress/volunteering",
          "All types/<i>Works for me!</i>/Type III:late peak/volunteering",
          "All types/<i>Willing to try!</i>/Type III:late peak/volunteering",
          "All types/<i>Not working!</i>/Type III:late peak/volunteering",
          "All types/<i>Works for me!</i>/Type II:early peak/volunteering",
          "All types/<i>Willing to try!</i>/Type II:early peak/volunteering",
          "All types/<i>Not working!</i>/Type II:early peak/volunteering",
          "All types/<i>Works for me!</i>/Type I:high stress/volunteering",
          "All types/<i>Not working!</i>/Type I:high stress/volunteering",
          "All types/<i>Willing to try!</i>/Type I:high stress/using drugs",
          "All types/<i>Willing to try!</i>/Type IV:low stress/using drugs",
          "All types/<i>Not working!</i>/Type IV:low stress/using drugs",
          "All types/<i>Works for me!</i>/Type III:late peak/using drugs",
          "All types/<i>Willing to try!</i>/Type III:late peak/using drugs",
          "All types/<i>Not working!</i>/Type III:late peak/using drugs",
          "All types/<i>Works for me!</i>/Type II:early peak/using drugs",
          "All types/<i>Willing to try!</i>/Type II:early peak/using drugs",
          "All types/<i>Not working!</i>/Type II:early peak/using drugs",
          "All types/<i>Works for me!</i>/Type I:high stress/using drugs",
          "All types/<i>Works for me!</i>/Type IV:low stress/using drugs",
          "All types/<i>Willing to try!</i>/Type IV:low stress/volunteering",
          "All types/<i>Not working!</i>/Type IV:low stress/yoga",
          "All types/<i>Not working!</i>/Type I:high stress/watching movies/tv shows",
          "All types/<i>Not working!</i>/Type I:high stress/using drugs",
          "All types/<i>Works for me!</i>/Type III:late peak/yoga",
          "All types/<i>Willing to try!</i>/Type III:late peak/yoga",
          "All types/<i>Not working!</i>/Type III:late peak/yoga",
          "All types/<i>Works for me!</i>/Type II:early peak/yoga",
          "All types/<i>Willing to try!</i>/Type II:early peak/yoga",
          "All types/<i>Not working!</i>/Type II:early peak/yoga",
          "All types/<i>Works for me!</i>/Type I:high stress/yoga",
          "All types/<i>Willing to try!</i>/Type I:high stress/yoga",
          "All types/<i>Not working!</i>/Type I:high stress/yoga",
          "All types/<i>Works for me!</i>/Type IV:low stress/watching movies/tv shows",
          "All types/<i>Willing to try!</i>/Type IV:low stress/watching movies/tv shows",
          "All types/<i>Not working!</i>/Type IV:low stress/watching movies/tv shows",
          "All types/<i>Works for me!</i>/Type III:late peak/watching movies/tv shows",
          "All types/<i>Willing to try!</i>/Type III:late peak/watching movies/tv shows",
          "All types/<i>Not working!</i>/Type III:late peak/watching movies/tv shows",
          "All types/<i>Works for me!</i>/Type II:early peak/watching movies/tv shows",
          "All types/<i>Willing to try!</i>/Type II:early peak/watching movies/tv shows",
          "All types/<i>Not working!</i>/Type II:early peak/watching movies/tv shows",
          "All types/<i>Works for me!</i>/Type I:high stress/watching movies/tv shows",
          "All types/<i>Willing to try!</i>/Type I:high stress/watching movies/tv shows",
          "All types/<i>Works for me!</i>/Type IV:low stress/volunteering",
          "All types/<i>Works for me!</i>/Type IV:low stress/talking to friends",
          "All types/<i>Works for me!</i>/Type IV:low stress/talking to a professional",
          "All types/<i>Not working!</i>/Type IV:low stress/talking to friends",
          "All types/<i>Not working!</i>/Type III:late peak/talking to a professional",
          "All types/<i>Works for me!</i>/Type II:early peak/talking to a professional",
          "All types/<i>Willing to try!</i>/Type II:early peak/talking to a professional",
          "All types/<i>Not working!</i>/Type II:early peak/talking to a professional",
          "All types/<i>Works for me!</i>/Type I:high stress/talking to a professional",
          "All types/<i>Willing to try!</i>/Type I:high stress/talking to a professional",
          "All types/<i>Not working!</i>/Type I:high stress/talking to a professional",
          "All types/<i>Works for me!</i>/Type IV:low stress/spending time on social media",
          "All types/<i>Willing to try!</i>/Type IV:low stress/spending time on social media",
          "All types/<i>Willing to try!</i>/Type III:late peak/talking to a professional",
          "All types/<i>Not working!</i>/Type IV:low stress/spending time on social media",
          "All types/<i>Willing to try!</i>/Type III:late peak/spending time on social media",
          "All types/<i>Not working!</i>/Type III:late peak/spending time on social media",
          "All types/<i>Works for me!</i>/Type II:early peak/spending time on social media",
          "All types/<i>Willing to try!</i>/Type II:early peak/spending time on social media",
          "All types/<i>Not working!</i>/Type II:early peak/spending time on social media",
          "All types/<i>Works for me!</i>/Type I:high stress/spending time on social media",
          "All types/<i>Willing to try!</i>/Type I:high stress/spending time on social media",
          "All types/<i>Not working!</i>/Type I:high stress/spending time on social media",
          "All types/<i>Willing to try!</i>/Type IV:low stress/yoga",
          "All types/<i>Works for me!</i>/Type III:late peak/spending time on social media",
          "All types/<i>Works for me!</i>/Type III:late peak/talking to a professional",
          "All types/<i>Not working!</i>/Type IV:low stress/talking to a professional",
          "All types/<i>Willing to try!</i>/Type IV:low stress/talking to a professional",
          "All types/<i>Works for me!</i>/Type III:late peak/talking to friends",
          "All types/<i>Willing to try!</i>/Type III:late peak/talking to friends",
          "All types/<i>Not working!</i>/Type III:late peak/talking to friends",
          "All types/<i>Works for me!</i>/Type II:early peak/talking to friends",
          "All types/<i>Willing to try!</i>/Type II:early peak/talking to friends",
          "All types/<i>Not working!</i>/Type II:early peak/talking to friends",
          "All types/<i>Works for me!</i>/Type I:high stress/talking to friends",
          "All types/<i>Willing to try!</i>/Type I:high stress/talking to friends",
          "All types/<i>Not working!</i>/Type I:high stress/talking to friends",
          "All types/<i>Works for me!</i>/Type IV:low stress/talking to family members",
          "All types/<i>Willing to try!</i>/Type IV:low stress/talking to family members",
          "All types/<i>Not working!</i>/Type IV:low stress/talking to family members",
          "All types/<i>Works for me!</i>/Type III:late peak/talking to family members",
          "All types/<i>Willing to try!</i>/Type III:late peak/talking to family members",
          "All types/<i>Not working!</i>/Type III:late peak/talking to family members",
          "All types/<i>Works for me!</i>/Type II:early peak/talking to family members",
          "All types/<i>Willing to try!</i>/Type II:early peak/talking to family members",
          "All types/<i>Not working!</i>/Type II:early peak/talking to family members",
          "All types/<i>Works for me!</i>/Type I:high stress/talking to family members",
          "All types/<i>Willing to try!</i>/Type I:high stress/talking to family members",
          "All types/<i>Not working!</i>/Type I:high stress/talking to family members",
          "All types/<i>Willing to try!</i>/Type IV:low stress/talking to friends",
          "All types/<i>Works for me!</i>/Type IV:low stress/yoga",
          "All types/<i>Not working!</i>/Type I:high stress",
          "All types/<i>Willing to try!</i>/Type I:high stress",
          "All types/<i>Works for me!</i>/Type I:high stress",
          "All types/<i>Not working!</i>/Type II:early peak",
          "All types/<i>Willing to try!</i>/Type II:early peak",
          "All types/<i>Works for me!</i>/Type II:early peak",
          "All types/<i>Not working!</i>/Type III:late peak",
          "All types/<i>Willing to try!</i>/Type III:late peak",
          "All types/<i>Works for me!</i>/Type III:late peak",
          "All types/<i>Not working!</i>/Type IV:low stress",
          "All types/<i>Willing to try!</i>/Type IV:low stress",
          "All types/<i>Works for me!</i>/Type IV:low stress",
          "All types/<i>Not working!</i>",
          "All types/<i>Willing to try!</i>",
          "All types/<i>Works for me!</i>",
          "All types"
         ],
         "labels": [
          "cooking",
          "eating junk food",
          "eating junk food",
          "eating junk food",
          "eating junk food",
          "eating junk food",
          "eating junk food",
          "eating junk food",
          "eating junk food",
          "eating junk food",
          "eating junk food",
          "eating junk food",
          "eating",
          "eating",
          "eating",
          "eating",
          "eating",
          "eating",
          "eating",
          "eating",
          "eating",
          "eating",
          "gardening",
          "gardening",
          "gardening",
          "going to the gym",
          "going to the gym",
          "going to the gym",
          "going to the gym",
          "going to the gym",
          "going to the gym",
          "going to the gym",
          "going to the gym",
          "going to the gym",
          "going to the gym",
          "going to the gym",
          "going to the gym",
          "gardening",
          "gardening",
          "gardening",
          "gardening",
          "gardening",
          "gardening",
          "gardening",
          "gardening",
          "gardening",
          "eating",
          "eating",
          "eating junk food",
          "drinking alcohol",
          "crying",
          "crying",
          "crying",
          "crying",
          "crying",
          "crying",
          "crying",
          "crying",
          "crying",
          "crying",
          "cooking",
          "cooking",
          "cooking",
          "cooking",
          "cooking",
          "cooking",
          "cooking",
          "cooking",
          "cooking",
          "cooking",
          "drinking alcohol",
          "crying",
          "crying",
          "cooking",
          "drinking alcohol",
          "drinking alcohol",
          "drinking alcohol",
          "drinking alcohol",
          "drinking alcohol",
          "drinking alcohol",
          "drinking alcohol",
          "drawing",
          "drinking alcohol",
          "drinking alcohol",
          "drawing",
          "drinking alcohol",
          "drawing",
          "drawing",
          "drawing",
          "drawing",
          "drawing",
          "drawing",
          "drawing",
          "drawing",
          "drawing",
          "drawing",
          "meditation",
          "meditation",
          "meditation",
          "meditation",
          "listening to music",
          "meditation",
          "meditation",
          "meditation",
          "meditation",
          "meditation",
          "listening to music",
          "listening to music",
          "listening to music",
          "listening to music",
          "listening to music",
          "listening to music",
          "listening to music",
          "listening to music",
          "listening to music",
          "listening to music",
          "meditation",
          "meditation",
          "meditation",
          "outdoor activities",
          "outdoor activities",
          "planning",
          "planning",
          "planning",
          "planning",
          "planning",
          "planning",
          "planning",
          "planning",
          "planning",
          "outdoor activities",
          "planning",
          "outdoor activities",
          "outdoor activities",
          "outdoor activities",
          "outdoor activities",
          "outdoor activities",
          "outdoor activities",
          "outdoor activities",
          "outdoor activities",
          "outdoor activities",
          "planning",
          "listening to music",
          "planning",
          "learning a new skill",
          "hanging out with friends",
          "hanging out with friends",
          "hanging out with friends",
          "hanging out with friends",
          "hanging out with friends",
          "hanging out with friends",
          "hanging out with friends",
          "hanging out with friends",
          "learning a new skill",
          "hanging out with family members ",
          "hanging out with family members ",
          "hanging out with family members ",
          "hanging out with family members ",
          "hanging out with family members ",
          "hanging out with family members ",
          "hanging out with family members ",
          "hanging out with family members ",
          "hanging out with family members ",
          "hanging out with family members ",
          "hanging out with family members ",
          "hanging out with family members ",
          "hanging out with friends",
          "hanging out with friends",
          "hanging out with friends",
          "journaling",
          "hanging out with friends",
          "learning a new skill",
          "learning a new skill",
          "learning a new skill",
          "learning a new skill",
          "learning a new skill",
          "learning a new skill",
          "learning a new skill",
          "learning a new skill",
          "learning a new skill",
          "learning a new skill",
          "journaling",
          "journaling",
          "journaling",
          "journaling",
          "journaling",
          "journaling",
          "journaling",
          "journaling",
          "journaling",
          "journaling",
          "journaling",
          "running",
          "running",
          "running",
          "running",
          "running",
          "running",
          "running",
          "running",
          "running",
          "running",
          "reading/thinking affirmations",
          "reading/thinking affirmations",
          "reading/thinking affirmations",
          "reading/thinking affirmations",
          "reading/thinking affirmations",
          "reading/thinking affirmations",
          "reading/thinking affirmations",
          "reading/thinking affirmations",
          "reading/thinking affirmations",
          "reading/thinking affirmations",
          "running",
          "shopping/window shopping",
          "sleeping",
          "shopping/window shopping",
          "reading/thinking affirmations",
          "sleeping",
          "sleeping",
          "sleeping",
          "sleeping",
          "sleeping",
          "sleeping",
          "sleeping",
          "sleeping",
          "sleeping",
          "sleeping",
          "sleeping",
          "shopping/window shopping",
          "shopping/window shopping",
          "shopping/window shopping",
          "shopping/window shopping",
          "shopping/window shopping",
          "shopping/window shopping",
          "shopping/window shopping",
          "shopping/window shopping",
          "shopping/window shopping",
          "shopping/window shopping",
          "reading/thinking affirmations",
          "running",
          "reading books",
          "playing video games",
          "playing video games",
          "playing video games",
          "playing video games",
          "playing video games",
          "playing video games",
          "playing video games",
          "playing video games",
          "reading books",
          "planning/going on trips",
          "planning/going on trips",
          "planning/going on trips",
          "planning/going on trips",
          "planning/going on trips",
          "planning/going on trips",
          "planning/going on trips",
          "planning/going on trips",
          "planning/going on trips",
          "planning/going on trips",
          "planning/going on trips",
          "planning/going on trips",
          "playing video games",
          "playing video games",
          "playing video games",
          "reading a self-help book",
          "playing video games",
          "reading books",
          "reading books",
          "reading books",
          "reading books",
          "reading books",
          "reading books",
          "reading books",
          "reading books",
          "reading books",
          "reading books",
          "reading a self-help book",
          "reading a self-help book",
          "reading a self-help book",
          "reading a self-help book",
          "reading a self-help book",
          "reading a self-help book",
          "reading a self-help book",
          "reading a self-help book",
          "reading a self-help book",
          "reading a self-help book",
          "reading a self-help book",
          "volunteering",
          "volunteering",
          "volunteering",
          "volunteering",
          "volunteering",
          "volunteering",
          "volunteering",
          "volunteering",
          "volunteering",
          "volunteering",
          "using drugs",
          "using drugs",
          "using drugs",
          "using drugs",
          "using drugs",
          "using drugs",
          "using drugs",
          "using drugs",
          "using drugs",
          "using drugs",
          "using drugs",
          "volunteering",
          "yoga",
          "watching movies/tv shows",
          "using drugs",
          "yoga",
          "yoga",
          "yoga",
          "yoga",
          "yoga",
          "yoga",
          "yoga",
          "yoga",
          "yoga",
          "watching movies/tv shows",
          "watching movies/tv shows",
          "watching movies/tv shows",
          "watching movies/tv shows",
          "watching movies/tv shows",
          "watching movies/tv shows",
          "watching movies/tv shows",
          "watching movies/tv shows",
          "watching movies/tv shows",
          "watching movies/tv shows",
          "watching movies/tv shows",
          "volunteering",
          "talking to friends",
          "talking to a professional",
          "talking to friends",
          "talking to a professional",
          "talking to a professional",
          "talking to a professional",
          "talking to a professional",
          "talking to a professional",
          "talking to a professional",
          "talking to a professional",
          "spending time on social media",
          "spending time on social media",
          "talking to a professional",
          "spending time on social media",
          "spending time on social media",
          "spending time on social media",
          "spending time on social media",
          "spending time on social media",
          "spending time on social media",
          "spending time on social media",
          "spending time on social media",
          "spending time on social media",
          "yoga",
          "spending time on social media",
          "talking to a professional",
          "talking to a professional",
          "talking to a professional",
          "talking to friends",
          "talking to friends",
          "talking to friends",
          "talking to friends",
          "talking to friends",
          "talking to friends",
          "talking to friends",
          "talking to friends",
          "talking to friends",
          "talking to family members",
          "talking to family members",
          "talking to family members",
          "talking to family members",
          "talking to family members",
          "talking to family members",
          "talking to family members",
          "talking to family members",
          "talking to family members",
          "talking to family members",
          "talking to family members",
          "talking to family members",
          "talking to friends",
          "yoga",
          "Type I:high stress",
          "Type I:high stress",
          "Type I:high stress",
          "Type II:early peak",
          "Type II:early peak",
          "Type II:early peak",
          "Type III:late peak",
          "Type III:late peak",
          "Type III:late peak",
          "Type IV:low stress",
          "Type IV:low stress",
          "Type IV:low stress",
          "<i>Not working!</i>",
          "<i>Willing to try!</i>",
          "<i>Works for me!</i>",
          "All types"
         ],
         "marker": {
          "colors": [
           "#eba092",
           "a8c665",
           "9dd3c8",
           "9dd3c8",
           "9dd3c8",
           "#dccf82",
           "#dccf82",
           "#dccf82",
           "#eba092",
           "#eba092",
           "a8c665",
           "#eba092",
           "a8c665",
           "a8c665",
           "9dd3c8",
           "9dd3c8",
           "9dd3c8",
           "#dccf82",
           "#dccf82",
           "#dccf82",
           "#eba092",
           "a8c665",
           "#eba092",
           "#eba092",
           "#eba092",
           "a8c665",
           "a8c665",
           "a8c665",
           "9dd3c8",
           "9dd3c8",
           "9dd3c8",
           "#dccf82",
           "#dccf82",
           "#dccf82",
           "#eba092",
           "#eba092",
           "#eba092",
           "a8c665",
           "a8c665",
           "a8c665",
           "9dd3c8",
           "9dd3c8",
           "9dd3c8",
           "#dccf82",
           "#dccf82",
           "#dccf82",
           "#eba092",
           "#eba092",
           "a8c665",
           "a8c665",
           "a8c665",
           "9dd3c8",
           "9dd3c8",
           "9dd3c8",
           "#dccf82",
           "#dccf82",
           "#dccf82",
           "#eba092",
           "#eba092",
           "#eba092",
           "a8c665",
           "a8c665",
           "a8c665",
           "9dd3c8",
           "9dd3c8",
           "9dd3c8",
           "#dccf82",
           "#dccf82",
           "#dccf82",
           "#eba092",
           "a8c665",
           "a8c665",
           "a8c665",
           "#eba092",
           "#dccf82",
           "a8c665",
           "9dd3c8",
           "9dd3c8",
           "9dd3c8",
           "#dccf82",
           "#dccf82",
           "#eba092",
           "#eba092",
           "#eba092",
           "a8c665",
           "#eba092",
           "a8c665",
           "9dd3c8",
           "9dd3c8",
           "9dd3c8",
           "#dccf82",
           "#dccf82",
           "#dccf82",
           "#eba092",
           "#eba092",
           "a8c665",
           "#dccf82",
           "#eba092",
           "#dccf82",
           "#dccf82",
           "#eba092",
           "9dd3c8",
           "9dd3c8",
           "a8c665",
           "9dd3c8",
           "#eba092",
           "#eba092",
           "a8c665",
           "a8c665",
           "a8c665",
           "9dd3c8",
           "9dd3c8",
           "9dd3c8",
           "#dccf82",
           "#dccf82",
           "#dccf82",
           "a8c665",
           "#eba092",
           "a8c665",
           "a8c665",
           "#eba092",
           "a8c665",
           "a8c665",
           "9dd3c8",
           "9dd3c8",
           "9dd3c8",
           "#dccf82",
           "#dccf82",
           "#dccf82",
           "#eba092",
           "#eba092",
           "#eba092",
           "a8c665",
           "a8c665",
           "9dd3c8",
           "9dd3c8",
           "9dd3c8",
           "#dccf82",
           "#dccf82",
           "#dccf82",
           "#eba092",
           "#eba092",
           "#eba092",
           "a8c665",
           "a8c665",
           "9dd3c8",
           "9dd3c8",
           "9dd3c8",
           "#dccf82",
           "#dccf82",
           "#dccf82",
           "#eba092",
           "#eba092",
           "a8c665",
           "a8c665",
           "a8c665",
           "a8c665",
           "9dd3c8",
           "9dd3c8",
           "9dd3c8",
           "#dccf82",
           "#dccf82",
           "#dccf82",
           "#eba092",
           "#eba092",
           "#eba092",
           "a8c665",
           "a8c665",
           "#eba092",
           "#eba092",
           "a8c665",
           "a8c665",
           "9dd3c8",
           "9dd3c8",
           "9dd3c8",
           "#dccf82",
           "#dccf82",
           "#eba092",
           "#eba092",
           "#eba092",
           "#dccf82",
           "a8c665",
           "a8c665",
           "#eba092",
           "#dccf82",
           "#dccf82",
           "#dccf82",
           "#eba092",
           "9dd3c8",
           "9dd3c8",
           "a8c665",
           "9dd3c8",
           "#eba092",
           "a8c665",
           "a8c665",
           "9dd3c8",
           "9dd3c8",
           "9dd3c8",
           "#dccf82",
           "#dccf82",
           "#dccf82",
           "#eba092",
           "#eba092",
           "a8c665",
           "a8c665",
           "a8c665",
           "9dd3c8",
           "9dd3c8",
           "9dd3c8",
           "#dccf82",
           "#dccf82",
           "#dccf82",
           "#eba092",
           "#eba092",
           "a8c665",
           "#eba092",
           "#eba092",
           "a8c665",
           "a8c665",
           "9dd3c8",
           "9dd3c8",
           "9dd3c8",
           "#dccf82",
           "#dccf82",
           "#dccf82",
           "#eba092",
           "#eba092",
           "#eba092",
           "a8c665",
           "a8c665",
           "a8c665",
           "9dd3c8",
           "9dd3c8",
           "9dd3c8",
           "#dccf82",
           "#dccf82",
           "#dccf82",
           "#eba092",
           "#eba092",
           "a8c665",
           "a8c665",
           "9dd3c8",
           "9dd3c8",
           "9dd3c8",
           "#dccf82",
           "#dccf82",
           "#dccf82",
           "#eba092",
           "#eba092",
           "a8c665",
           "a8c665",
           "a8c665",
           "a8c665",
           "9dd3c8",
           "9dd3c8",
           "9dd3c8",
           "#dccf82",
           "#dccf82",
           "#dccf82",
           "#eba092",
           "#eba092",
           "#eba092",
           "a8c665",
           "a8c665",
           "#eba092",
           "#eba092",
           "a8c665",
           "a8c665",
           "9dd3c8",
           "9dd3c8",
           "9dd3c8",
           "#dccf82",
           "#dccf82",
           "#eba092",
           "#eba092",
           "#eba092",
           "#dccf82",
           "a8c665",
           "a8c665",
           "#eba092",
           "#dccf82",
           "#dccf82",
           "#dccf82",
           "#eba092",
           "9dd3c8",
           "9dd3c8",
           "a8c665",
           "9dd3c8",
           "#eba092",
           "a8c665",
           "9dd3c8",
           "9dd3c8",
           "9dd3c8",
           "#dccf82",
           "#dccf82",
           "#dccf82",
           "#eba092",
           "#eba092",
           "#eba092",
           "a8c665",
           "a8c665",
           "9dd3c8",
           "9dd3c8",
           "9dd3c8",
           "#dccf82",
           "#dccf82",
           "#dccf82",
           "#eba092",
           "a8c665",
           "a8c665",
           "a8c665",
           "#eba092",
           "#eba092",
           "9dd3c8",
           "9dd3c8",
           "9dd3c8",
           "#dccf82",
           "#dccf82",
           "#dccf82",
           "#eba092",
           "#eba092",
           "#eba092",
           "a8c665",
           "a8c665",
           "a8c665",
           "9dd3c8",
           "9dd3c8",
           "9dd3c8",
           "#dccf82",
           "#dccf82",
           "#dccf82",
           "#eba092",
           "#eba092",
           "a8c665",
           "a8c665",
           "a8c665",
           "a8c665",
           "9dd3c8",
           "#dccf82",
           "#dccf82",
           "#dccf82",
           "#eba092",
           "#eba092",
           "#eba092",
           "a8c665",
           "a8c665",
           "9dd3c8",
           "a8c665",
           "9dd3c8",
           "9dd3c8",
           "#dccf82",
           "#dccf82",
           "#dccf82",
           "#eba092",
           "#eba092",
           "#eba092",
           "a8c665",
           "9dd3c8",
           "9dd3c8",
           "a8c665",
           "a8c665",
           "9dd3c8",
           "9dd3c8",
           "9dd3c8",
           "#dccf82",
           "#dccf82",
           "#dccf82",
           "#eba092",
           "#eba092",
           "#eba092",
           "a8c665",
           "a8c665",
           "a8c665",
           "9dd3c8",
           "9dd3c8",
           "9dd3c8",
           "#dccf82",
           "#dccf82",
           "#dccf82",
           "#eba092",
           "#eba092",
           "#eba092",
           "a8c665",
           "a8c665",
           "#eba092",
           "#eba092",
           "#eba092",
           "#dccf82",
           "#dccf82",
           "#dccf82",
           "9dd3c8",
           "9dd3c8",
           "9dd3c8",
           "a8c665",
           "a8c665",
           "a8c665",
           "#f4f4f4",
           "#f4f4f4",
           "#f4f4f4",
           "#f4f4f4"
          ]
         },
         "name": "",
         "parents": [
          "All types/<i>Not working!</i>/Type I:high stress",
          "All types/<i>Not working!</i>/Type IV:low stress",
          "All types/<i>Works for me!</i>/Type III:late peak",
          "All types/<i>Willing to try!</i>/Type III:late peak",
          "All types/<i>Not working!</i>/Type III:late peak",
          "All types/<i>Works for me!</i>/Type II:early peak",
          "All types/<i>Willing to try!</i>/Type II:early peak",
          "All types/<i>Not working!</i>/Type II:early peak",
          "All types/<i>Works for me!</i>/Type I:high stress",
          "All types/<i>Willing to try!</i>/Type I:high stress",
          "All types/<i>Willing to try!</i>/Type IV:low stress",
          "All types/<i>Not working!</i>/Type I:high stress",
          "All types/<i>Willing to try!</i>/Type IV:low stress",
          "All types/<i>Not working!</i>/Type IV:low stress",
          "All types/<i>Works for me!</i>/Type III:late peak",
          "All types/<i>Willing to try!</i>/Type III:late peak",
          "All types/<i>Not working!</i>/Type III:late peak",
          "All types/<i>Works for me!</i>/Type II:early peak",
          "All types/<i>Willing to try!</i>/Type II:early peak",
          "All types/<i>Not working!</i>/Type II:early peak",
          "All types/<i>Works for me!</i>/Type I:high stress",
          "All types/<i>Works for me!</i>/Type IV:low stress",
          "All types/<i>Not working!</i>/Type I:high stress",
          "All types/<i>Willing to try!</i>/Type I:high stress",
          "All types/<i>Works for me!</i>/Type I:high stress",
          "All types/<i>Works for me!</i>/Type IV:low stress",
          "All types/<i>Willing to try!</i>/Type IV:low stress",
          "All types/<i>Not working!</i>/Type IV:low stress",
          "All types/<i>Works for me!</i>/Type III:late peak",
          "All types/<i>Willing to try!</i>/Type III:late peak",
          "All types/<i>Not working!</i>/Type III:late peak",
          "All types/<i>Works for me!</i>/Type II:early peak",
          "All types/<i>Willing to try!</i>/Type II:early peak",
          "All types/<i>Not working!</i>/Type II:early peak",
          "All types/<i>Works for me!</i>/Type I:high stress",
          "All types/<i>Willing to try!</i>/Type I:high stress",
          "All types/<i>Not working!</i>/Type I:high stress",
          "All types/<i>Works for me!</i>/Type IV:low stress",
          "All types/<i>Willing to try!</i>/Type IV:low stress",
          "All types/<i>Not working!</i>/Type IV:low stress",
          "All types/<i>Works for me!</i>/Type III:late peak",
          "All types/<i>Willing to try!</i>/Type III:late peak",
          "All types/<i>Not working!</i>/Type III:late peak",
          "All types/<i>Works for me!</i>/Type II:early peak",
          "All types/<i>Willing to try!</i>/Type II:early peak",
          "All types/<i>Not working!</i>/Type II:early peak",
          "All types/<i>Willing to try!</i>/Type I:high stress",
          "All types/<i>Not working!</i>/Type I:high stress",
          "All types/<i>Works for me!</i>/Type IV:low stress",
          "All types/<i>Willing to try!</i>/Type IV:low stress",
          "All types/<i>Not working!</i>/Type IV:low stress",
          "All types/<i>Works for me!</i>/Type III:late peak",
          "All types/<i>Willing to try!</i>/Type III:late peak",
          "All types/<i>Not working!</i>/Type III:late peak",
          "All types/<i>Works for me!</i>/Type II:early peak",
          "All types/<i>Willing to try!</i>/Type II:early peak",
          "All types/<i>Not working!</i>/Type II:early peak",
          "All types/<i>Works for me!</i>/Type I:high stress",
          "All types/<i>Willing to try!</i>/Type I:high stress",
          "All types/<i>Not working!</i>/Type I:high stress",
          "All types/<i>Works for me!</i>/Type IV:low stress",
          "All types/<i>Willing to try!</i>/Type IV:low stress",
          "All types/<i>Not working!</i>/Type IV:low stress",
          "All types/<i>Works for me!</i>/Type III:late peak",
          "All types/<i>Willing to try!</i>/Type III:late peak",
          "All types/<i>Not working!</i>/Type III:late peak",
          "All types/<i>Works for me!</i>/Type II:early peak",
          "All types/<i>Willing to try!</i>/Type II:early peak",
          "All types/<i>Not working!</i>/Type II:early peak",
          "All types/<i>Works for me!</i>/Type I:high stress",
          "All types/<i>Works for me!</i>/Type IV:low stress",
          "All types/<i>Willing to try!</i>/Type IV:low stress",
          "All types/<i>Works for me!</i>/Type IV:low stress",
          "All types/<i>Willing to try!</i>/Type I:high stress",
          "All types/<i>Not working!</i>/Type II:early peak",
          "All types/<i>Not working!</i>/Type IV:low stress",
          "All types/<i>Works for me!</i>/Type III:late peak",
          "All types/<i>Willing to try!</i>/Type III:late peak",
          "All types/<i>Not working!</i>/Type III:late peak",
          "All types/<i>Works for me!</i>/Type II:early peak",
          "All types/<i>Willing to try!</i>/Type II:early peak",
          "All types/<i>Not working!</i>/Type I:high stress",
          "All types/<i>Works for me!</i>/Type I:high stress",
          "All types/<i>Willing to try!</i>/Type I:high stress",
          "All types/<i>Works for me!</i>/Type IV:low stress",
          "All types/<i>Not working!</i>/Type I:high stress",
          "All types/<i>Not working!</i>/Type IV:low stress",
          "All types/<i>Works for me!</i>/Type III:late peak",
          "All types/<i>Willing to try!</i>/Type III:late peak",
          "All types/<i>Not working!</i>/Type III:late peak",
          "All types/<i>Works for me!</i>/Type II:early peak",
          "All types/<i>Willing to try!</i>/Type II:early peak",
          "All types/<i>Not working!</i>/Type II:early peak",
          "All types/<i>Works for me!</i>/Type I:high stress",
          "All types/<i>Willing to try!</i>/Type I:high stress",
          "All types/<i>Willing to try!</i>/Type IV:low stress",
          "All types/<i>Willing to try!</i>/Type II:early peak",
          "All types/<i>Works for me!</i>/Type I:high stress",
          "All types/<i>Not working!</i>/Type II:early peak",
          "All types/<i>Works for me!</i>/Type II:early peak",
          "All types/<i>Willing to try!</i>/Type I:high stress",
          "All types/<i>Willing to try!</i>/Type III:late peak",
          "All types/<i>Works for me!</i>/Type III:late peak",
          "All types/<i>Not working!</i>/Type IV:low stress",
          "All types/<i>Not working!</i>/Type III:late peak",
          "All types/<i>Willing to try!</i>/Type I:high stress",
          "All types/<i>Works for me!</i>/Type I:high stress",
          "All types/<i>Works for me!</i>/Type IV:low stress",
          "All types/<i>Willing to try!</i>/Type IV:low stress",
          "All types/<i>Not working!</i>/Type IV:low stress",
          "All types/<i>Works for me!</i>/Type III:late peak",
          "All types/<i>Willing to try!</i>/Type III:late peak",
          "All types/<i>Not working!</i>/Type III:late peak",
          "All types/<i>Works for me!</i>/Type II:early peak",
          "All types/<i>Willing to try!</i>/Type II:early peak",
          "All types/<i>Not working!</i>/Type II:early peak",
          "All types/<i>Willing to try!</i>/Type IV:low stress",
          "All types/<i>Not working!</i>/Type I:high stress",
          "All types/<i>Works for me!</i>/Type IV:low stress",
          "All types/<i>Willing to try!</i>/Type IV:low stress",
          "All types/<i>Willing to try!</i>/Type I:high stress",
          "All types/<i>Willing to try!</i>/Type IV:low stress",
          "All types/<i>Not working!</i>/Type IV:low stress",
          "All types/<i>Works for me!</i>/Type III:late peak",
          "All types/<i>Willing to try!</i>/Type III:late peak",
          "All types/<i>Not working!</i>/Type III:late peak",
          "All types/<i>Works for me!</i>/Type II:early peak",
          "All types/<i>Willing to try!</i>/Type II:early peak",
          "All types/<i>Not working!</i>/Type II:early peak",
          "All types/<i>Works for me!</i>/Type I:high stress",
          "All types/<i>Not working!</i>/Type I:high stress",
          "All types/<i>Willing to try!</i>/Type I:high stress",
          "All types/<i>Works for me!</i>/Type IV:low stress",
          "All types/<i>Not working!</i>/Type IV:low stress",
          "All types/<i>Works for me!</i>/Type III:late peak",
          "All types/<i>Willing to try!</i>/Type III:late peak",
          "All types/<i>Not working!</i>/Type III:late peak",
          "All types/<i>Works for me!</i>/Type II:early peak",
          "All types/<i>Willing to try!</i>/Type II:early peak",
          "All types/<i>Not working!</i>/Type II:early peak",
          "All types/<i>Works for me!</i>/Type I:high stress",
          "All types/<i>Not working!</i>/Type I:high stress",
          "All types/<i>Not working!</i>/Type I:high stress",
          "All types/<i>Works for me!</i>/Type IV:low stress",
          "All types/<i>Willing to try!</i>/Type IV:low stress",
          "All types/<i>Works for me!</i>/Type III:late peak",
          "All types/<i>Willing to try!</i>/Type III:late peak",
          "All types/<i>Not working!</i>/Type III:late peak",
          "All types/<i>Works for me!</i>/Type II:early peak",
          "All types/<i>Willing to try!</i>/Type II:early peak",
          "All types/<i>Not working!</i>/Type II:early peak",
          "All types/<i>Works for me!</i>/Type I:high stress",
          "All types/<i>Willing to try!</i>/Type I:high stress",
          "All types/<i>Works for me!</i>/Type IV:low stress",
          "All types/<i>Works for me!</i>/Type IV:low stress",
          "All types/<i>Willing to try!</i>/Type IV:low stress",
          "All types/<i>Not working!</i>/Type IV:low stress",
          "All types/<i>Works for me!</i>/Type III:late peak",
          "All types/<i>Willing to try!</i>/Type III:late peak",
          "All types/<i>Not working!</i>/Type III:late peak",
          "All types/<i>Works for me!</i>/Type II:early peak",
          "All types/<i>Willing to try!</i>/Type II:early peak",
          "All types/<i>Not working!</i>/Type II:early peak",
          "All types/<i>Works for me!</i>/Type I:high stress",
          "All types/<i>Willing to try!</i>/Type I:high stress",
          "All types/<i>Not working!</i>/Type I:high stress",
          "All types/<i>Not working!</i>/Type IV:low stress",
          "All types/<i>Willing to try!</i>/Type IV:low stress",
          "All types/<i>Not working!</i>/Type I:high stress",
          "All types/<i>Not working!</i>/Type I:high stress",
          "All types/<i>Works for me!</i>/Type IV:low stress",
          "All types/<i>Not working!</i>/Type IV:low stress",
          "All types/<i>Works for me!</i>/Type III:late peak",
          "All types/<i>Willing to try!</i>/Type III:late peak",
          "All types/<i>Not working!</i>/Type III:late peak",
          "All types/<i>Works for me!</i>/Type II:early peak",
          "All types/<i>Not working!</i>/Type II:early peak",
          "All types/<i>Works for me!</i>/Type I:high stress",
          "All types/<i>Willing to try!</i>/Type I:high stress",
          "All types/<i>Not working!</i>/Type I:high stress",
          "All types/<i>Willing to try!</i>/Type II:early peak",
          "All types/<i>Willing to try!</i>/Type IV:low stress",
          "All types/<i>Works for me!</i>/Type IV:low stress",
          "All types/<i>Works for me!</i>/Type I:high stress",
          "All types/<i>Not working!</i>/Type II:early peak",
          "All types/<i>Willing to try!</i>/Type II:early peak",
          "All types/<i>Works for me!</i>/Type II:early peak",
          "All types/<i>Willing to try!</i>/Type I:high stress",
          "All types/<i>Willing to try!</i>/Type III:late peak",
          "All types/<i>Works for me!</i>/Type III:late peak",
          "All types/<i>Not working!</i>/Type IV:low stress",
          "All types/<i>Not working!</i>/Type III:late peak",
          "All types/<i>Works for me!</i>/Type I:high stress",
          "All types/<i>Willing to try!</i>/Type IV:low stress",
          "All types/<i>Not working!</i>/Type IV:low stress",
          "All types/<i>Works for me!</i>/Type III:late peak",
          "All types/<i>Willing to try!</i>/Type III:late peak",
          "All types/<i>Not working!</i>/Type III:late peak",
          "All types/<i>Works for me!</i>/Type II:early peak",
          "All types/<i>Willing to try!</i>/Type II:early peak",
          "All types/<i>Not working!</i>/Type II:early peak",
          "All types/<i>Willing to try!</i>/Type I:high stress",
          "All types/<i>Works for me!</i>/Type I:high stress",
          "All types/<i>Works for me!</i>/Type IV:low stress",
          "All types/<i>Willing to try!</i>/Type IV:low stress",
          "All types/<i>Not working!</i>/Type IV:low stress",
          "All types/<i>Works for me!</i>/Type III:late peak",
          "All types/<i>Willing to try!</i>/Type III:late peak",
          "All types/<i>Not working!</i>/Type III:late peak",
          "All types/<i>Works for me!</i>/Type II:early peak",
          "All types/<i>Willing to try!</i>/Type II:early peak",
          "All types/<i>Not working!</i>/Type II:early peak",
          "All types/<i>Not working!</i>/Type I:high stress",
          "All types/<i>Not working!</i>/Type I:high stress",
          "All types/<i>Works for me!</i>/Type IV:low stress",
          "All types/<i>Works for me!</i>/Type I:high stress",
          "All types/<i>Willing to try!</i>/Type I:high stress",
          "All types/<i>Willing to try!</i>/Type IV:low stress",
          "All types/<i>Not working!</i>/Type IV:low stress",
          "All types/<i>Works for me!</i>/Type III:late peak",
          "All types/<i>Willing to try!</i>/Type III:late peak",
          "All types/<i>Not working!</i>/Type III:late peak",
          "All types/<i>Works for me!</i>/Type II:early peak",
          "All types/<i>Willing to try!</i>/Type II:early peak",
          "All types/<i>Not working!</i>/Type II:early peak",
          "All types/<i>Works for me!</i>/Type I:high stress",
          "All types/<i>Willing to try!</i>/Type I:high stress",
          "All types/<i>Not working!</i>/Type I:high stress",
          "All types/<i>Works for me!</i>/Type IV:low stress",
          "All types/<i>Willing to try!</i>/Type IV:low stress",
          "All types/<i>Not working!</i>/Type IV:low stress",
          "All types/<i>Works for me!</i>/Type III:late peak",
          "All types/<i>Willing to try!</i>/Type III:late peak",
          "All types/<i>Not working!</i>/Type III:late peak",
          "All types/<i>Works for me!</i>/Type II:early peak",
          "All types/<i>Willing to try!</i>/Type II:early peak",
          "All types/<i>Not working!</i>/Type II:early peak",
          "All types/<i>Willing to try!</i>/Type I:high stress",
          "All types/<i>Not working!</i>/Type I:high stress",
          "All types/<i>Works for me!</i>/Type IV:low stress",
          "All types/<i>Willing to try!</i>/Type IV:low stress",
          "All types/<i>Works for me!</i>/Type III:late peak",
          "All types/<i>Willing to try!</i>/Type III:late peak",
          "All types/<i>Not working!</i>/Type III:late peak",
          "All types/<i>Works for me!</i>/Type II:early peak",
          "All types/<i>Willing to try!</i>/Type II:early peak",
          "All types/<i>Not working!</i>/Type II:early peak",
          "All types/<i>Works for me!</i>/Type I:high stress",
          "All types/<i>Willing to try!</i>/Type I:high stress",
          "All types/<i>Works for me!</i>/Type IV:low stress",
          "All types/<i>Works for me!</i>/Type IV:low stress",
          "All types/<i>Willing to try!</i>/Type IV:low stress",
          "All types/<i>Not working!</i>/Type IV:low stress",
          "All types/<i>Works for me!</i>/Type III:late peak",
          "All types/<i>Willing to try!</i>/Type III:late peak",
          "All types/<i>Not working!</i>/Type III:late peak",
          "All types/<i>Works for me!</i>/Type II:early peak",
          "All types/<i>Willing to try!</i>/Type II:early peak",
          "All types/<i>Not working!</i>/Type II:early peak",
          "All types/<i>Works for me!</i>/Type I:high stress",
          "All types/<i>Willing to try!</i>/Type I:high stress",
          "All types/<i>Not working!</i>/Type I:high stress",
          "All types/<i>Not working!</i>/Type IV:low stress",
          "All types/<i>Willing to try!</i>/Type IV:low stress",
          "All types/<i>Not working!</i>/Type I:high stress",
          "All types/<i>Not working!</i>/Type I:high stress",
          "All types/<i>Works for me!</i>/Type IV:low stress",
          "All types/<i>Not working!</i>/Type IV:low stress",
          "All types/<i>Works for me!</i>/Type III:late peak",
          "All types/<i>Willing to try!</i>/Type III:late peak",
          "All types/<i>Not working!</i>/Type III:late peak",
          "All types/<i>Works for me!</i>/Type II:early peak",
          "All types/<i>Not working!</i>/Type II:early peak",
          "All types/<i>Works for me!</i>/Type I:high stress",
          "All types/<i>Willing to try!</i>/Type I:high stress",
          "All types/<i>Not working!</i>/Type I:high stress",
          "All types/<i>Willing to try!</i>/Type II:early peak",
          "All types/<i>Willing to try!</i>/Type IV:low stress",
          "All types/<i>Works for me!</i>/Type IV:low stress",
          "All types/<i>Works for me!</i>/Type I:high stress",
          "All types/<i>Not working!</i>/Type II:early peak",
          "All types/<i>Willing to try!</i>/Type II:early peak",
          "All types/<i>Works for me!</i>/Type II:early peak",
          "All types/<i>Willing to try!</i>/Type I:high stress",
          "All types/<i>Willing to try!</i>/Type III:late peak",
          "All types/<i>Works for me!</i>/Type III:late peak",
          "All types/<i>Not working!</i>/Type IV:low stress",
          "All types/<i>Not working!</i>/Type III:late peak",
          "All types/<i>Willing to try!</i>/Type I:high stress",
          "All types/<i>Not working!</i>/Type IV:low stress",
          "All types/<i>Works for me!</i>/Type III:late peak",
          "All types/<i>Willing to try!</i>/Type III:late peak",
          "All types/<i>Not working!</i>/Type III:late peak",
          "All types/<i>Works for me!</i>/Type II:early peak",
          "All types/<i>Willing to try!</i>/Type II:early peak",
          "All types/<i>Not working!</i>/Type II:early peak",
          "All types/<i>Works for me!</i>/Type I:high stress",
          "All types/<i>Not working!</i>/Type I:high stress",
          "All types/<i>Willing to try!</i>/Type I:high stress",
          "All types/<i>Willing to try!</i>/Type IV:low stress",
          "All types/<i>Not working!</i>/Type IV:low stress",
          "All types/<i>Works for me!</i>/Type III:late peak",
          "All types/<i>Willing to try!</i>/Type III:late peak",
          "All types/<i>Not working!</i>/Type III:late peak",
          "All types/<i>Works for me!</i>/Type II:early peak",
          "All types/<i>Willing to try!</i>/Type II:early peak",
          "All types/<i>Not working!</i>/Type II:early peak",
          "All types/<i>Works for me!</i>/Type I:high stress",
          "All types/<i>Works for me!</i>/Type IV:low stress",
          "All types/<i>Willing to try!</i>/Type IV:low stress",
          "All types/<i>Not working!</i>/Type IV:low stress",
          "All types/<i>Not working!</i>/Type I:high stress",
          "All types/<i>Not working!</i>/Type I:high stress",
          "All types/<i>Works for me!</i>/Type III:late peak",
          "All types/<i>Willing to try!</i>/Type III:late peak",
          "All types/<i>Not working!</i>/Type III:late peak",
          "All types/<i>Works for me!</i>/Type II:early peak",
          "All types/<i>Willing to try!</i>/Type II:early peak",
          "All types/<i>Not working!</i>/Type II:early peak",
          "All types/<i>Works for me!</i>/Type I:high stress",
          "All types/<i>Willing to try!</i>/Type I:high stress",
          "All types/<i>Not working!</i>/Type I:high stress",
          "All types/<i>Works for me!</i>/Type IV:low stress",
          "All types/<i>Willing to try!</i>/Type IV:low stress",
          "All types/<i>Not working!</i>/Type IV:low stress",
          "All types/<i>Works for me!</i>/Type III:late peak",
          "All types/<i>Willing to try!</i>/Type III:late peak",
          "All types/<i>Not working!</i>/Type III:late peak",
          "All types/<i>Works for me!</i>/Type II:early peak",
          "All types/<i>Willing to try!</i>/Type II:early peak",
          "All types/<i>Not working!</i>/Type II:early peak",
          "All types/<i>Works for me!</i>/Type I:high stress",
          "All types/<i>Willing to try!</i>/Type I:high stress",
          "All types/<i>Works for me!</i>/Type IV:low stress",
          "All types/<i>Works for me!</i>/Type IV:low stress",
          "All types/<i>Works for me!</i>/Type IV:low stress",
          "All types/<i>Not working!</i>/Type IV:low stress",
          "All types/<i>Not working!</i>/Type III:late peak",
          "All types/<i>Works for me!</i>/Type II:early peak",
          "All types/<i>Willing to try!</i>/Type II:early peak",
          "All types/<i>Not working!</i>/Type II:early peak",
          "All types/<i>Works for me!</i>/Type I:high stress",
          "All types/<i>Willing to try!</i>/Type I:high stress",
          "All types/<i>Not working!</i>/Type I:high stress",
          "All types/<i>Works for me!</i>/Type IV:low stress",
          "All types/<i>Willing to try!</i>/Type IV:low stress",
          "All types/<i>Willing to try!</i>/Type III:late peak",
          "All types/<i>Not working!</i>/Type IV:low stress",
          "All types/<i>Willing to try!</i>/Type III:late peak",
          "All types/<i>Not working!</i>/Type III:late peak",
          "All types/<i>Works for me!</i>/Type II:early peak",
          "All types/<i>Willing to try!</i>/Type II:early peak",
          "All types/<i>Not working!</i>/Type II:early peak",
          "All types/<i>Works for me!</i>/Type I:high stress",
          "All types/<i>Willing to try!</i>/Type I:high stress",
          "All types/<i>Not working!</i>/Type I:high stress",
          "All types/<i>Willing to try!</i>/Type IV:low stress",
          "All types/<i>Works for me!</i>/Type III:late peak",
          "All types/<i>Works for me!</i>/Type III:late peak",
          "All types/<i>Not working!</i>/Type IV:low stress",
          "All types/<i>Willing to try!</i>/Type IV:low stress",
          "All types/<i>Works for me!</i>/Type III:late peak",
          "All types/<i>Willing to try!</i>/Type III:late peak",
          "All types/<i>Not working!</i>/Type III:late peak",
          "All types/<i>Works for me!</i>/Type II:early peak",
          "All types/<i>Willing to try!</i>/Type II:early peak",
          "All types/<i>Not working!</i>/Type II:early peak",
          "All types/<i>Works for me!</i>/Type I:high stress",
          "All types/<i>Willing to try!</i>/Type I:high stress",
          "All types/<i>Not working!</i>/Type I:high stress",
          "All types/<i>Works for me!</i>/Type IV:low stress",
          "All types/<i>Willing to try!</i>/Type IV:low stress",
          "All types/<i>Not working!</i>/Type IV:low stress",
          "All types/<i>Works for me!</i>/Type III:late peak",
          "All types/<i>Willing to try!</i>/Type III:late peak",
          "All types/<i>Not working!</i>/Type III:late peak",
          "All types/<i>Works for me!</i>/Type II:early peak",
          "All types/<i>Willing to try!</i>/Type II:early peak",
          "All types/<i>Not working!</i>/Type II:early peak",
          "All types/<i>Works for me!</i>/Type I:high stress",
          "All types/<i>Willing to try!</i>/Type I:high stress",
          "All types/<i>Not working!</i>/Type I:high stress",
          "All types/<i>Willing to try!</i>/Type IV:low stress",
          "All types/<i>Works for me!</i>/Type IV:low stress",
          "All types/<i>Not working!</i>",
          "All types/<i>Willing to try!</i>",
          "All types/<i>Works for me!</i>",
          "All types/<i>Not working!</i>",
          "All types/<i>Willing to try!</i>",
          "All types/<i>Works for me!</i>",
          "All types/<i>Not working!</i>",
          "All types/<i>Willing to try!</i>",
          "All types/<i>Works for me!</i>",
          "All types/<i>Not working!</i>",
          "All types/<i>Willing to try!</i>",
          "All types/<i>Works for me!</i>",
          "All types",
          "All types",
          "All types",
          ""
         ],
         "type": "treemap",
         "values": [
          0,
          2,
          1,
          0,
          2,
          1,
          0,
          1,
          2,
          0,
          0,
          3,
          0,
          2,
          2,
          0,
          3,
          1,
          0,
          1,
          1,
          2,
          0,
          5,
          0,
          1,
          1,
          0,
          1,
          2,
          1,
          2,
          1,
          0,
          4,
          5,
          2,
          1,
          2,
          0,
          1,
          2,
          0,
          0,
          1,
          1,
          0,
          2,
          0,
          0,
          2,
          2,
          0,
          1,
          3,
          0,
          1,
          4,
          2,
          1,
          2,
          3,
          0,
          0,
          4,
          0,
          1,
          1,
          1,
          1,
          0,
          1,
          2,
          11,
          2,
          0,
          0,
          0,
          1,
          1,
          0,
          2,
          1,
          0,
          1,
          4,
          0,
          1,
          1,
          2,
          1,
          1,
          0,
          1,
          5,
          1,
          4,
          1,
          0,
          0,
          0,
          3,
          0,
          2,
          1,
          12,
          6,
          5,
          0,
          0,
          4,
          0,
          0,
          4,
          0,
          1,
          2,
          2,
          0,
          1,
          6,
          1,
          0,
          2,
          0,
          1,
          2,
          1,
          1,
          4,
          1,
          4,
          3,
          1,
          3,
          1,
          0,
          2,
          2,
          1,
          2,
          0,
          0,
          3,
          2,
          3,
          0,
          1,
          2,
          0,
          2,
          5,
          0,
          2,
          0,
          0,
          0,
          1,
          0,
          1,
          3,
          0,
          1,
          3,
          0,
          1,
          0,
          0,
          0,
          3,
          3,
          0,
          1,
          2,
          0,
          1,
          0,
          0,
          8,
          0,
          3,
          1,
          2,
          0,
          2,
          0,
          1,
          3,
          2,
          1,
          1,
          1,
          1,
          0,
          1,
          2,
          0,
          1,
          0,
          0,
          3,
          2,
          0,
          0,
          2,
          0,
          0,
          1,
          1,
          2,
          1,
          0,
          3,
          2,
          2,
          2,
          5,
          0,
          1,
          3,
          0,
          2,
          2,
          0,
          3,
          5,
          0,
          1,
          0,
          0,
          2,
          1,
          0,
          0,
          1,
          0,
          2,
          0,
          1,
          4,
          1,
          1,
          0,
          2,
          2,
          0,
          0,
          0,
          2,
          2,
          1,
          1,
          0,
          1,
          2,
          0,
          1,
          2,
          2,
          1,
          6,
          0,
          1,
          1,
          2,
          1,
          0,
          0,
          3,
          1,
          0,
          2,
          1,
          2,
          6,
          0,
          2,
          1,
          0,
          1,
          1,
          2,
          1,
          6,
          1,
          0,
          2,
          0,
          6,
          0,
          1,
          2,
          1,
          1,
          2,
          0,
          1,
          1,
          3,
          0,
          0,
          0,
          2,
          1,
          1,
          1,
          1,
          1,
          1,
          1,
          1,
          2,
          1,
          0,
          2,
          0,
          1,
          3,
          1,
          3,
          7,
          1,
          3,
          0,
          0,
          3,
          0,
          1,
          4,
          0,
          0,
          3,
          0,
          2,
          2,
          2,
          1,
          0,
          1,
          2,
          1,
          2,
          9,
          1,
          1,
          0,
          2,
          3,
          0,
          4,
          0,
          0,
          3,
          1,
          0,
          5,
          1,
          1,
          2,
          0,
          2,
          5,
          0,
          0,
          2,
          0,
          1,
          5,
          0,
          0,
          5,
          0,
          0,
          3,
          0,
          0,
          2,
          0,
          2,
          4,
          1,
          1,
          0,
          1,
          43,
          114,
          67,
          36,
          29,
          48,
          28,
          30,
          49,
          22,
          25,
          53,
          129,
          198,
          217,
          544
         ]
        }
       ],
       "layout": {
        "font": {
         "family": "courier",
         "size": 20
        },
        "legend": {
         "tracegroupgap": 0
        },
        "margin": {
         "t": 60
        },
        "template": {
         "data": {
          "bar": [
           {
            "error_x": {
             "color": "#2a3f5f"
            },
            "error_y": {
             "color": "#2a3f5f"
            },
            "marker": {
             "line": {
              "color": "#E5ECF6",
              "width": 0.5
             }
            },
            "type": "bar"
           }
          ],
          "barpolar": [
           {
            "marker": {
             "line": {
              "color": "#E5ECF6",
              "width": 0.5
             }
            },
            "type": "barpolar"
           }
          ],
          "carpet": [
           {
            "aaxis": {
             "endlinecolor": "#2a3f5f",
             "gridcolor": "white",
             "linecolor": "white",
             "minorgridcolor": "white",
             "startlinecolor": "#2a3f5f"
            },
            "baxis": {
             "endlinecolor": "#2a3f5f",
             "gridcolor": "white",
             "linecolor": "white",
             "minorgridcolor": "white",
             "startlinecolor": "#2a3f5f"
            },
            "type": "carpet"
           }
          ],
          "choropleth": [
           {
            "colorbar": {
             "outlinewidth": 0,
             "ticks": ""
            },
            "type": "choropleth"
           }
          ],
          "contour": [
           {
            "colorbar": {
             "outlinewidth": 0,
             "ticks": ""
            },
            "colorscale": [
             [
              0,
              "#0d0887"
             ],
             [
              0.1111111111111111,
              "#46039f"
             ],
             [
              0.2222222222222222,
              "#7201a8"
             ],
             [
              0.3333333333333333,
              "#9c179e"
             ],
             [
              0.4444444444444444,
              "#bd3786"
             ],
             [
              0.5555555555555556,
              "#d8576b"
             ],
             [
              0.6666666666666666,
              "#ed7953"
             ],
             [
              0.7777777777777778,
              "#fb9f3a"
             ],
             [
              0.8888888888888888,
              "#fdca26"
             ],
             [
              1,
              "#f0f921"
             ]
            ],
            "type": "contour"
           }
          ],
          "contourcarpet": [
           {
            "colorbar": {
             "outlinewidth": 0,
             "ticks": ""
            },
            "type": "contourcarpet"
           }
          ],
          "heatmap": [
           {
            "colorbar": {
             "outlinewidth": 0,
             "ticks": ""
            },
            "colorscale": [
             [
              0,
              "#0d0887"
             ],
             [
              0.1111111111111111,
              "#46039f"
             ],
             [
              0.2222222222222222,
              "#7201a8"
             ],
             [
              0.3333333333333333,
              "#9c179e"
             ],
             [
              0.4444444444444444,
              "#bd3786"
             ],
             [
              0.5555555555555556,
              "#d8576b"
             ],
             [
              0.6666666666666666,
              "#ed7953"
             ],
             [
              0.7777777777777778,
              "#fb9f3a"
             ],
             [
              0.8888888888888888,
              "#fdca26"
             ],
             [
              1,
              "#f0f921"
             ]
            ],
            "type": "heatmap"
           }
          ],
          "heatmapgl": [
           {
            "colorbar": {
             "outlinewidth": 0,
             "ticks": ""
            },
            "colorscale": [
             [
              0,
              "#0d0887"
             ],
             [
              0.1111111111111111,
              "#46039f"
             ],
             [
              0.2222222222222222,
              "#7201a8"
             ],
             [
              0.3333333333333333,
              "#9c179e"
             ],
             [
              0.4444444444444444,
              "#bd3786"
             ],
             [
              0.5555555555555556,
              "#d8576b"
             ],
             [
              0.6666666666666666,
              "#ed7953"
             ],
             [
              0.7777777777777778,
              "#fb9f3a"
             ],
             [
              0.8888888888888888,
              "#fdca26"
             ],
             [
              1,
              "#f0f921"
             ]
            ],
            "type": "heatmapgl"
           }
          ],
          "histogram": [
           {
            "marker": {
             "colorbar": {
              "outlinewidth": 0,
              "ticks": ""
             }
            },
            "type": "histogram"
           }
          ],
          "histogram2d": [
           {
            "colorbar": {
             "outlinewidth": 0,
             "ticks": ""
            },
            "colorscale": [
             [
              0,
              "#0d0887"
             ],
             [
              0.1111111111111111,
              "#46039f"
             ],
             [
              0.2222222222222222,
              "#7201a8"
             ],
             [
              0.3333333333333333,
              "#9c179e"
             ],
             [
              0.4444444444444444,
              "#bd3786"
             ],
             [
              0.5555555555555556,
              "#d8576b"
             ],
             [
              0.6666666666666666,
              "#ed7953"
             ],
             [
              0.7777777777777778,
              "#fb9f3a"
             ],
             [
              0.8888888888888888,
              "#fdca26"
             ],
             [
              1,
              "#f0f921"
             ]
            ],
            "type": "histogram2d"
           }
          ],
          "histogram2dcontour": [
           {
            "colorbar": {
             "outlinewidth": 0,
             "ticks": ""
            },
            "colorscale": [
             [
              0,
              "#0d0887"
             ],
             [
              0.1111111111111111,
              "#46039f"
             ],
             [
              0.2222222222222222,
              "#7201a8"
             ],
             [
              0.3333333333333333,
              "#9c179e"
             ],
             [
              0.4444444444444444,
              "#bd3786"
             ],
             [
              0.5555555555555556,
              "#d8576b"
             ],
             [
              0.6666666666666666,
              "#ed7953"
             ],
             [
              0.7777777777777778,
              "#fb9f3a"
             ],
             [
              0.8888888888888888,
              "#fdca26"
             ],
             [
              1,
              "#f0f921"
             ]
            ],
            "type": "histogram2dcontour"
           }
          ],
          "mesh3d": [
           {
            "colorbar": {
             "outlinewidth": 0,
             "ticks": ""
            },
            "type": "mesh3d"
           }
          ],
          "parcoords": [
           {
            "line": {
             "colorbar": {
              "outlinewidth": 0,
              "ticks": ""
             }
            },
            "type": "parcoords"
           }
          ],
          "pie": [
           {
            "automargin": true,
            "type": "pie"
           }
          ],
          "scatter": [
           {
            "marker": {
             "colorbar": {
              "outlinewidth": 0,
              "ticks": ""
             }
            },
            "type": "scatter"
           }
          ],
          "scatter3d": [
           {
            "line": {
             "colorbar": {
              "outlinewidth": 0,
              "ticks": ""
             }
            },
            "marker": {
             "colorbar": {
              "outlinewidth": 0,
              "ticks": ""
             }
            },
            "type": "scatter3d"
           }
          ],
          "scattercarpet": [
           {
            "marker": {
             "colorbar": {
              "outlinewidth": 0,
              "ticks": ""
             }
            },
            "type": "scattercarpet"
           }
          ],
          "scattergeo": [
           {
            "marker": {
             "colorbar": {
              "outlinewidth": 0,
              "ticks": ""
             }
            },
            "type": "scattergeo"
           }
          ],
          "scattergl": [
           {
            "marker": {
             "colorbar": {
              "outlinewidth": 0,
              "ticks": ""
             }
            },
            "type": "scattergl"
           }
          ],
          "scattermapbox": [
           {
            "marker": {
             "colorbar": {
              "outlinewidth": 0,
              "ticks": ""
             }
            },
            "type": "scattermapbox"
           }
          ],
          "scatterpolar": [
           {
            "marker": {
             "colorbar": {
              "outlinewidth": 0,
              "ticks": ""
             }
            },
            "type": "scatterpolar"
           }
          ],
          "scatterpolargl": [
           {
            "marker": {
             "colorbar": {
              "outlinewidth": 0,
              "ticks": ""
             }
            },
            "type": "scatterpolargl"
           }
          ],
          "scatterternary": [
           {
            "marker": {
             "colorbar": {
              "outlinewidth": 0,
              "ticks": ""
             }
            },
            "type": "scatterternary"
           }
          ],
          "surface": [
           {
            "colorbar": {
             "outlinewidth": 0,
             "ticks": ""
            },
            "colorscale": [
             [
              0,
              "#0d0887"
             ],
             [
              0.1111111111111111,
              "#46039f"
             ],
             [
              0.2222222222222222,
              "#7201a8"
             ],
             [
              0.3333333333333333,
              "#9c179e"
             ],
             [
              0.4444444444444444,
              "#bd3786"
             ],
             [
              0.5555555555555556,
              "#d8576b"
             ],
             [
              0.6666666666666666,
              "#ed7953"
             ],
             [
              0.7777777777777778,
              "#fb9f3a"
             ],
             [
              0.8888888888888888,
              "#fdca26"
             ],
             [
              1,
              "#f0f921"
             ]
            ],
            "type": "surface"
           }
          ],
          "table": [
           {
            "cells": {
             "fill": {
              "color": "#EBF0F8"
             },
             "line": {
              "color": "white"
             }
            },
            "header": {
             "fill": {
              "color": "#C8D4E3"
             },
             "line": {
              "color": "white"
             }
            },
            "type": "table"
           }
          ]
         },
         "layout": {
          "annotationdefaults": {
           "arrowcolor": "#2a3f5f",
           "arrowhead": 0,
           "arrowwidth": 1
          },
          "coloraxis": {
           "colorbar": {
            "outlinewidth": 0,
            "ticks": ""
           }
          },
          "colorscale": {
           "diverging": [
            [
             0,
             "#8e0152"
            ],
            [
             0.1,
             "#c51b7d"
            ],
            [
             0.2,
             "#de77ae"
            ],
            [
             0.3,
             "#f1b6da"
            ],
            [
             0.4,
             "#fde0ef"
            ],
            [
             0.5,
             "#f7f7f7"
            ],
            [
             0.6,
             "#e6f5d0"
            ],
            [
             0.7,
             "#b8e186"
            ],
            [
             0.8,
             "#7fbc41"
            ],
            [
             0.9,
             "#4d9221"
            ],
            [
             1,
             "#276419"
            ]
           ],
           "sequential": [
            [
             0,
             "#0d0887"
            ],
            [
             0.1111111111111111,
             "#46039f"
            ],
            [
             0.2222222222222222,
             "#7201a8"
            ],
            [
             0.3333333333333333,
             "#9c179e"
            ],
            [
             0.4444444444444444,
             "#bd3786"
            ],
            [
             0.5555555555555556,
             "#d8576b"
            ],
            [
             0.6666666666666666,
             "#ed7953"
            ],
            [
             0.7777777777777778,
             "#fb9f3a"
            ],
            [
             0.8888888888888888,
             "#fdca26"
            ],
            [
             1,
             "#f0f921"
            ]
           ],
           "sequentialminus": [
            [
             0,
             "#0d0887"
            ],
            [
             0.1111111111111111,
             "#46039f"
            ],
            [
             0.2222222222222222,
             "#7201a8"
            ],
            [
             0.3333333333333333,
             "#9c179e"
            ],
            [
             0.4444444444444444,
             "#bd3786"
            ],
            [
             0.5555555555555556,
             "#d8576b"
            ],
            [
             0.6666666666666666,
             "#ed7953"
            ],
            [
             0.7777777777777778,
             "#fb9f3a"
            ],
            [
             0.8888888888888888,
             "#fdca26"
            ],
            [
             1,
             "#f0f921"
            ]
           ]
          },
          "colorway": [
           "#636efa",
           "#EF553B",
           "#00cc96",
           "#ab63fa",
           "#FFA15A",
           "#19d3f3",
           "#FF6692",
           "#B6E880",
           "#FF97FF",
           "#FECB52"
          ],
          "font": {
           "color": "#2a3f5f"
          },
          "geo": {
           "bgcolor": "white",
           "lakecolor": "white",
           "landcolor": "#E5ECF6",
           "showlakes": true,
           "showland": true,
           "subunitcolor": "white"
          },
          "hoverlabel": {
           "align": "left"
          },
          "hovermode": "closest",
          "mapbox": {
           "style": "light"
          },
          "paper_bgcolor": "white",
          "plot_bgcolor": "#E5ECF6",
          "polar": {
           "angularaxis": {
            "gridcolor": "white",
            "linecolor": "white",
            "ticks": ""
           },
           "bgcolor": "#E5ECF6",
           "radialaxis": {
            "gridcolor": "white",
            "linecolor": "white",
            "ticks": ""
           }
          },
          "scene": {
           "xaxis": {
            "backgroundcolor": "#E5ECF6",
            "gridcolor": "white",
            "gridwidth": 2,
            "linecolor": "white",
            "showbackground": true,
            "ticks": "",
            "zerolinecolor": "white"
           },
           "yaxis": {
            "backgroundcolor": "#E5ECF6",
            "gridcolor": "white",
            "gridwidth": 2,
            "linecolor": "white",
            "showbackground": true,
            "ticks": "",
            "zerolinecolor": "white"
           },
           "zaxis": {
            "backgroundcolor": "#E5ECF6",
            "gridcolor": "white",
            "gridwidth": 2,
            "linecolor": "white",
            "showbackground": true,
            "ticks": "",
            "zerolinecolor": "white"
           }
          },
          "shapedefaults": {
           "line": {
            "color": "#2a3f5f"
           }
          },
          "ternary": {
           "aaxis": {
            "gridcolor": "white",
            "linecolor": "white",
            "ticks": ""
           },
           "baxis": {
            "gridcolor": "white",
            "linecolor": "white",
            "ticks": ""
           },
           "bgcolor": "#E5ECF6",
           "caxis": {
            "gridcolor": "white",
            "linecolor": "white",
            "ticks": ""
           }
          },
          "title": {
           "x": 0.05
          },
          "xaxis": {
           "automargin": true,
           "gridcolor": "white",
           "linecolor": "white",
           "ticks": "",
           "title": {
            "standoff": 15
           },
           "zerolinecolor": "white",
           "zerolinewidth": 2
          },
          "yaxis": {
           "automargin": true,
           "gridcolor": "white",
           "linecolor": "white",
           "ticks": "",
           "title": {
            "standoff": 15
           },
           "zerolinecolor": "white",
           "zerolinewidth": 2
          }
         }
        }
       }
      }
     },
     "metadata": {}
    }
   ],
   "source": [
    "df3 = pd.read_csv('./data/data4.csv')\n",
    "# df3['Type']=df3['Type'].replace(['Not working','Works for me','Willing to try'],['<b>Not working</b>','<b>Works for me</b>','<b>Willing to try</b>'])\n",
    "df3['Persona'] = df3['Persona'].replace(['persona1','persona2','persona3','persona4'],['Type I:high stress','Type II:early peak','Type III:late peak','Type IV:low stress'])\n",
    "df3['Type'] = df3['Type'].replace(['Works for me','Willing to try','Not working'],['<i>Works for me!</i>','<i>Willing to try!</i>','<i>Not working!</i>'])\n",
    "df3['All']='All types'\n",
    "levels = ['Strategies','Type']\n",
    "color_columns = 'Weight'\n",
    "value_column = 'Weight'\n",
    "def build_hierarchical_dataframe(df, levels, value_column, color_columns=None):\n",
    "    \"\"\"\n",
    "    Build a hierarchy of levels for Sunburst or Treemap charts.\n",
    "\n",
    "\n",
    "    Levels are given starting from the bottom to the top of the hierarchy,\n",
    "    ie the last level corresponds to the root.\n",
    "    \"\"\"\n",
    "    df_all_trees = pd.DataFrame(columns=['id', 'parent', 'value', 'color'])\n",
    "    for i, level in enumerate(levels):\n",
    "        df_tree = pd.DataFrame(columns=['id', 'parent', 'value', 'color'])\n",
    "        dfg = df.groupby(levels[i:]).sum()\n",
    "        dfg = dfg.reset_index()\n",
    "        df_tree['id'] = dfg[level].copy()\n",
    "        if i < len(levels) - 1:\n",
    "            df_tree['parent'] = dfg[levels[i+1]].copy()\n",
    "        else:\n",
    "            df_tree['parent'] = 'total'\n",
    "        df_tree['value'] = dfg[value_column]\n",
    "        df_tree['color'] = dfg[color_columns]\n",
    "        df_all_trees = df_all_trees.append(df_tree, ignore_index=True)\n",
    "    total = pd.Series(dict(id='total', parent='',\n",
    "                              value=df[value_column].sum(),\n",
    "                              color=df[color_columns].sum() ))\n",
    "    df_all_trees = df_all_trees.append(total, ignore_index=True)\n",
    "    df_all_trees = df_all_trees[df_all_trees.value != 0]\n",
    "    return df_all_trees\n",
    "#df_all_trees = build_hierarchical_dataframe(df3, levels, value_column, color_columns)\n",
    "#print(df_all_trees)\n",
    "#average_score = 0.2\n",
    "\n",
    "#fig = go.Figure()\n",
    "\n",
    "# fig.add_trace(go.Treemap(\n",
    "#     labels=df_all_trees['id'],\n",
    "#     parents=df_all_trees['parent'],\n",
    "#     values=df_all_trees['value'],\n",
    "#     branchvalues='total',\n",
    "#     # marker=dict(\n",
    "#     #     colors=df_all_trees['color'],\n",
    "#     #     colorscale='RdBu'\n",
    "#     #      #cmid=average_score\n",
    "#     #     ),\n",
    "#     #hovertemplate='<b>%{label} </b> <br> Sales: %{value}<br> Success rate: %{color:.2f}',\n",
    "#     name=''\n",
    "#     ))\n",
    "import plotly.express as px\n",
    "\n",
    "fig=px.treemap(df3,\n",
    "path=['All','Type','Persona','Strategies'],\n",
    "values='Weight',branchvalues='total'\n",
    ",color='Persona',\n",
    "color_discrete_map={'Type I:high stress':'#eba092', 'Type II:early peak':'#dccf82', 'Type III:late peak':'9dd3c8', 'Type IV:low stress':'a8c665'\\\n",
    "#,'Not working':'#efefef','Works for me':'#cecece','Willing to try':'#adadad'\\\n",
    ",'(?)':'#f4f4f4'\n",
    "}\n",
    "#,custom_data = ['Strategies']\n",
    ")\n",
    "#fig.data[0].hovertemplate = '%{label}<br>%{value} votes from Persona %{current path}'\n",
    "fig.update_traces(hovertemplate='%{label}<br>%{value} votes from  %{parent}<extra></extra>')\n",
    "\n",
    "#Add image\n",
    "# fig.add_layout_image(\n",
    "#     dict(\n",
    "#         source=\"https://raw.githubusercontent.com/brianzy/ploty-project/master/pic/P1Label.png\",\n",
    "#         xref=\"paper\", yref=\"paper\",\n",
    "#         x=1.1, y=0.8,\n",
    "#         sizex=0.1, sizey=0.1\n",
    "#         ,xanchor=\"right\", yanchor=\"bottom\"\n",
    "#         ,layer=\"below\"\n",
    "#     )\n",
    "# )\n",
    "# fig.add_layout_image(\n",
    "#     dict(\n",
    "#         source=\"https://raw.githubusercontent.com/brianzy/ploty-project/master/pic/P2Label.png\",\n",
    "#         xref=\"paper\", yref=\"paper\",\n",
    "#         x=1.1, y=0.7,\n",
    "#         sizex=0.1, sizey=0.1\n",
    "#         ,xanchor=\"right\", yanchor=\"bottom\"\n",
    "#         ,layer=\"below\"\n",
    "#     )\n",
    "# )\n",
    "# fig.add_layout_image(\n",
    "#     dict(\n",
    "#         source=\"https://raw.githubusercontent.com/brianzy/ploty-project/master/pic/P3Label.png\",\n",
    "#         xref=\"paper\", yref=\"paper\",\n",
    "#         x=1.1, y=0.6,\n",
    "#         sizex=0.1, sizey=0.1\n",
    "#         ,xanchor=\"right\", yanchor=\"bottom\"\n",
    "#         ,layer=\"below\"\n",
    "#     )\n",
    "# )\n",
    "# fig.add_layout_image(\n",
    "#     dict(\n",
    "#         source=\"https://raw.githubusercontent.com/brianzy/ploty-project/master/pic/P4Label.png\",\n",
    "#         xref=\"paper\", yref=\"paper\",\n",
    "#         x=1.1, y=0.5,\n",
    "#         sizex=0.1, sizey=0.1\n",
    "#         ,xanchor=\"right\", yanchor=\"bottom\"\n",
    "#         ,layer=\"below\"\n",
    "#     )\n",
    "# )\n",
    "\n",
    "# fig.add_trace(go.Treemap(\n",
    "#     labels=df_all_trees['id'],\n",
    "#     parents=df_all_trees['parent'],\n",
    "#     values=df_all_trees['value'],\n",
    "#     branchvalues='total',\n",
    "#     marker=dict(\n",
    "#         colors=df_all_trees['color'],\n",
    "#         colorscale='RdBu',\n",
    "#         cmid=average_score\n",
    "#          ),\n",
    "#     #hovertemplate='<b>%{label} </b> <br> Sales: %{value}<br> Success rate: %{color:.2f}',\n",
    "#     maxdepth=2\n",
    "#     ), 1, 2)\n",
    "#fig.update_layout(uniformtext=dict(minsize=15, mode='hide'))\n",
    "fig.update_layout(font=dict(family='courier',size=20))\n",
    "\n",
    "#fig.update_layout(margin=dict( l=10))\n",
    "fig.show()\n",
    "\n"
   ]
  },
  {
   "cell_type": "code",
   "execution_count": null,
   "metadata": {},
   "outputs": [],
   "source": []
  }
 ],
 "metadata": {
  "language_info": {
   "codemirror_mode": {
    "name": "ipython",
    "version": 3
   },
   "file_extension": ".py",
   "mimetype": "text/x-python",
   "name": "python",
   "nbconvert_exporter": "python",
   "pygments_lexer": "ipython3",
   "version": "3.7.3-final"
  },
  "orig_nbformat": 2,
  "kernelspec": {
   "name": "python37364bita13d4472b3174e4494b7a431ae9018a6",
   "display_name": "Python 3.7.3 64-bit"
  }
 },
 "nbformat": 4,
 "nbformat_minor": 2
}